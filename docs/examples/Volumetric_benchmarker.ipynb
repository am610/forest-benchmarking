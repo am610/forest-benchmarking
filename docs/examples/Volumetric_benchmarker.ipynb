{
 "cells": [
  {
   "cell_type": "code",
   "execution_count": 11,
   "metadata": {},
   "outputs": [],
   "source": [
    "import random\n",
    "import networkx as nx\n",
    "import numpy as np\n",
    "import time\n",
    "\n",
    "from matplotlib import pyplot as plt\n",
    "from pyquil.api import get_qc, QuantumComputer, get_benchmarker\n",
    "from pyquil.gates import CNOT, CCNOT, Z, X, I, H, CZ, MEASURE, RESET\n",
    "from pyquil.quilbase import Pragma\n",
    "\n",
    "from forest.benchmarking.volumetrics import *\n",
    "from pyquil import *\n",
    "# if you want to run on a \"real lattice\"\n",
    "#list_quantum_computers()\n",
    "#perfect_qc = get_qc(\"Aspen-1-16Q-A\", as_qvm=True, noisy=False)\n",
    "#noisy_qc = get_qc(\"Aspen-1-16Q-A\") #, as_qvm=True, noisy=True)\n",
    "\n",
    "noisy_qc = get_qc(\"9q-square-qvm\", as_qvm=True, noisy=True)\n",
    "ideal_qc = get_qc(\"9q-square-qvm\", as_qvm=True, noisy=False)\n",
    "pyqvm = get_qc('9q-pyqvm')\n",
    "\n",
    "bm = get_benchmarker()"
   ]
  },
  {
   "cell_type": "code",
   "execution_count": 2,
   "metadata": {},
   "outputs": [],
   "source": [
    "def two_q_id(qb1,qb2):\n",
    "    prog = Program()\n",
    "    prog +=I(qb1)\n",
    "    prog +=I(qb2)\n",
    "    return prog\n",
    "\n",
    "one_c_gates = [X,I]\n",
    "two_c_gates = [two_q_id, CNOT]\n",
    "two_c_toffoli = two_c_gates + [CCNOT]\n",
    "\n",
    "# x basis gates\n",
    "from forest.benchmarking.classical_logic import CNOT_X_basis, CCNOT_X_basis\n",
    "one_x_c_gates = [Z, I]\n",
    "two_x_c_gates = [two_q_id, CNOT_X_basis]\n",
    "two_x_c_toffoli = two_x_c_gates + [CCNOT_X_basis]\n",
    "\n",
    "one_q_gates = [X,Z,I]\n",
    "two_q_gates = [two_q_id,CZ]"
   ]
  },
  {
   "cell_type": "code",
   "execution_count": 3,
   "metadata": {},
   "outputs": [],
   "source": [
    "classical_1q_layer = get_rand_1q_template(one_c_gates)\n",
    "classical_2q_layer = get_rand_2q_template(two_c_gates)\n",
    "classical_1q_2q = classical_1q_layer + classical_2q_layer\n",
    "\n",
    "\n",
    "# classical in x basis\n",
    "classical_x_1q_2q = get_rand_1q_template(one_x_c_gates) + get_rand_2q_template(two_x_c_gates)\n",
    "classical_x_1q_2q.sequence_transforms.append(hadamard_sandwich)\n",
    "\n",
    "\n",
    "clifford_1q_layer = get_rand_1q_cliff_template(bm)\n",
    "clifford_2q_layer = get_rand_2q_cliff_template(bm)\n",
    "clifford_sandwich = clifford_1q_layer + clifford_2q_layer\n",
    "clifford_sandwich.sequence_transforms.append(dagger_sequence)\n",
    "\n",
    "qv_template = get_quantum_volume_template()\n",
    "\n",
    "\n",
    "def uniform_random_graph(n):\n",
    "    return nx.erdos_renyi_graph(n, 1/2)\n",
    "\n",
    "qaoa_template = get_maxcut_qaoa_template(uniform_random_graph)"
   ]
  },
  {
   "cell_type": "code",
   "execution_count": 4,
   "metadata": {},
   "outputs": [],
   "source": [
    "widths = [2,3,4]\n",
    "depths = [2,3,4]\n",
    "dimensions = {w: [d for d in depths] for w in widths}\n",
    "num_shots = 250\n",
    "ckt_family = classical_1q_2q\n",
    "\n",
    "prog_array = generate_volumetric_program_array(noisy_qc, ckt_family, dimensions, num_circuit_samples=100)"
   ]
  },
  {
   "cell_type": "code",
   "execution_count": 5,
   "metadata": {},
   "outputs": [
    {
     "ename": "KeyboardInterrupt",
     "evalue": "",
     "output_type": "error",
     "traceback": [
      "\u001b[0;31m---------------------------------------------------------------------------\u001b[0m",
      "\u001b[0;31mKeyboardInterrupt\u001b[0m                         Traceback (most recent call last)",
      "\u001b[0;32m<ipython-input-5-e48c27489b40>\u001b[0m in \u001b[0;36m<module>\u001b[0;34m()\u001b[0m\n\u001b[0;32m----> 1\u001b[0;31m \u001b[0mexpt_data_array\u001b[0m \u001b[0;34m=\u001b[0m \u001b[0macquire_volumetric_data\u001b[0m\u001b[0;34m(\u001b[0m\u001b[0mnoisy_qc\u001b[0m\u001b[0;34m,\u001b[0m \u001b[0mprog_array\u001b[0m\u001b[0;34m,\u001b[0m \u001b[0mnum_shots\u001b[0m\u001b[0;34m=\u001b[0m\u001b[0mnum_shots\u001b[0m\u001b[0;34m)\u001b[0m\u001b[0;34m\u001b[0m\u001b[0m\n\u001b[0m",
      "\u001b[0;32m~/forest-benchmarking/forest/benchmarking/volumetrics.py\u001b[0m in \u001b[0;36macquire_volumetric_data\u001b[0;34m(qc, program_array, num_shots, measure_qubits, use_active_reset, use_compiler)\u001b[0m\n\u001b[1;32m    678\u001b[0m \u001b[0;34m\u001b[0m\u001b[0m\n\u001b[1;32m    679\u001b[0m                 \u001b[0mexe\u001b[0m \u001b[0;34m=\u001b[0m \u001b[0mqc\u001b[0m\u001b[0;34m.\u001b[0m\u001b[0mcompiler\u001b[0m\u001b[0;34m.\u001b[0m\u001b[0mnative_quil_to_executable\u001b[0m\u001b[0;34m(\u001b[0m\u001b[0mprog\u001b[0m\u001b[0;34m)\u001b[0m\u001b[0;34m\u001b[0m\u001b[0m\n\u001b[0;32m--> 680\u001b[0;31m                 \u001b[0mshots\u001b[0m \u001b[0;34m=\u001b[0m \u001b[0mqc\u001b[0m\u001b[0;34m.\u001b[0m\u001b[0mrun\u001b[0m\u001b[0;34m(\u001b[0m\u001b[0mexe\u001b[0m\u001b[0;34m)\u001b[0m\u001b[0;34m\u001b[0m\u001b[0m\n\u001b[0m\u001b[1;32m    681\u001b[0m                 \u001b[0mresults\u001b[0m\u001b[0;34m[\u001b[0m\u001b[0mwidth\u001b[0m\u001b[0;34m]\u001b[0m\u001b[0;34m[\u001b[0m\u001b[0mdepth\u001b[0m\u001b[0;34m]\u001b[0m\u001b[0;34m.\u001b[0m\u001b[0mappend\u001b[0m\u001b[0;34m(\u001b[0m\u001b[0mshots\u001b[0m\u001b[0;34m)\u001b[0m\u001b[0;34m\u001b[0m\u001b[0m\n\u001b[1;32m    682\u001b[0m \u001b[0;34m\u001b[0m\u001b[0m\n",
      "\u001b[0;32m~/pyquil/pyquil/api/_error_reporting.py\u001b[0m in \u001b[0;36mwrapper\u001b[0;34m(*args, **kwargs)\u001b[0m\n\u001b[1;32m    245\u001b[0m             \u001b[0mglobal_error_context\u001b[0m\u001b[0;34m.\u001b[0m\u001b[0mlog\u001b[0m\u001b[0;34m[\u001b[0m\u001b[0mkey\u001b[0m\u001b[0;34m]\u001b[0m \u001b[0;34m=\u001b[0m \u001b[0mpre_entry\u001b[0m\u001b[0;34m\u001b[0m\u001b[0m\n\u001b[1;32m    246\u001b[0m \u001b[0;34m\u001b[0m\u001b[0m\n\u001b[0;32m--> 247\u001b[0;31m         \u001b[0mval\u001b[0m \u001b[0;34m=\u001b[0m \u001b[0mfunc\u001b[0m\u001b[0;34m(\u001b[0m\u001b[0;34m*\u001b[0m\u001b[0margs\u001b[0m\u001b[0;34m,\u001b[0m \u001b[0;34m**\u001b[0m\u001b[0mkwargs\u001b[0m\u001b[0;34m)\u001b[0m\u001b[0;34m\u001b[0m\u001b[0m\n\u001b[0m\u001b[1;32m    248\u001b[0m \u001b[0;34m\u001b[0m\u001b[0m\n\u001b[1;32m    249\u001b[0m         \u001b[0;31m# poke the return value of that call in\u001b[0m\u001b[0;34m\u001b[0m\u001b[0;34m\u001b[0m\u001b[0m\n",
      "\u001b[0;32m~/pyquil/pyquil/api/_quantum_computer.py\u001b[0m in \u001b[0;36mrun\u001b[0;34m(self, executable, memory_map)\u001b[0m\n\u001b[1;32m    137\u001b[0m                     \u001b[0;31m# TODO gh-658: have write_memory take a list rather than value + offset\u001b[0m\u001b[0;34m\u001b[0m\u001b[0;34m\u001b[0m\u001b[0m\n\u001b[1;32m    138\u001b[0m                     \u001b[0mself\u001b[0m\u001b[0;34m.\u001b[0m\u001b[0mqam\u001b[0m\u001b[0;34m.\u001b[0m\u001b[0mwrite_memory\u001b[0m\u001b[0;34m(\u001b[0m\u001b[0mregion_name\u001b[0m\u001b[0;34m=\u001b[0m\u001b[0mregion_name\u001b[0m\u001b[0;34m,\u001b[0m \u001b[0moffset\u001b[0m\u001b[0;34m=\u001b[0m\u001b[0moffset\u001b[0m\u001b[0;34m,\u001b[0m \u001b[0mvalue\u001b[0m\u001b[0;34m=\u001b[0m\u001b[0mvalue\u001b[0m\u001b[0;34m)\u001b[0m\u001b[0;34m\u001b[0m\u001b[0m\n\u001b[0;32m--> 139\u001b[0;31m         \u001b[0;32mreturn\u001b[0m \u001b[0mself\u001b[0m\u001b[0;34m.\u001b[0m\u001b[0mqam\u001b[0m\u001b[0;34m.\u001b[0m\u001b[0mrun\u001b[0m\u001b[0;34m(\u001b[0m\u001b[0;34m)\u001b[0m\u001b[0;34m.\u001b[0m\u001b[0mwait\u001b[0m\u001b[0;34m(\u001b[0m\u001b[0;34m)\u001b[0m\u001b[0;34m.\u001b[0m\u001b[0mread_memory\u001b[0m\u001b[0;34m(\u001b[0m\u001b[0mregion_name\u001b[0m\u001b[0;34m=\u001b[0m\u001b[0;34m\"ro\"\u001b[0m\u001b[0;34m)\u001b[0m\u001b[0;34m\u001b[0m\u001b[0m\n\u001b[0m\u001b[1;32m    140\u001b[0m \u001b[0;34m\u001b[0m\u001b[0m\n\u001b[1;32m    141\u001b[0m     \u001b[0;34m@\u001b[0m\u001b[0m_record_call\u001b[0m\u001b[0;34m\u001b[0m\u001b[0m\n",
      "\u001b[0;32m~/pyquil/pyquil/api/_error_reporting.py\u001b[0m in \u001b[0;36mwrapper\u001b[0;34m(*args, **kwargs)\u001b[0m\n\u001b[1;32m    245\u001b[0m             \u001b[0mglobal_error_context\u001b[0m\u001b[0;34m.\u001b[0m\u001b[0mlog\u001b[0m\u001b[0;34m[\u001b[0m\u001b[0mkey\u001b[0m\u001b[0;34m]\u001b[0m \u001b[0;34m=\u001b[0m \u001b[0mpre_entry\u001b[0m\u001b[0;34m\u001b[0m\u001b[0m\n\u001b[1;32m    246\u001b[0m \u001b[0;34m\u001b[0m\u001b[0m\n\u001b[0;32m--> 247\u001b[0;31m         \u001b[0mval\u001b[0m \u001b[0;34m=\u001b[0m \u001b[0mfunc\u001b[0m\u001b[0;34m(\u001b[0m\u001b[0;34m*\u001b[0m\u001b[0margs\u001b[0m\u001b[0;34m,\u001b[0m \u001b[0;34m**\u001b[0m\u001b[0mkwargs\u001b[0m\u001b[0;34m)\u001b[0m\u001b[0;34m\u001b[0m\u001b[0m\n\u001b[0m\u001b[1;32m    248\u001b[0m \u001b[0;34m\u001b[0m\u001b[0m\n\u001b[1;32m    249\u001b[0m         \u001b[0;31m# poke the return value of that call in\u001b[0m\u001b[0;34m\u001b[0m\u001b[0;34m\u001b[0m\u001b[0m\n",
      "\u001b[0;32m~/pyquil/pyquil/api/_qvm.py\u001b[0m in \u001b[0;36mrun\u001b[0;34m(self)\u001b[0m\n\u001b[1;32m    545\u001b[0m \u001b[0;34m\u001b[0m\u001b[0m\n\u001b[1;32m    546\u001b[0m         \u001b[0;32mif\u001b[0m \u001b[0mself\u001b[0m\u001b[0;34m.\u001b[0m\u001b[0mnoise_model\u001b[0m \u001b[0;32mis\u001b[0m \u001b[0;32mnot\u001b[0m \u001b[0;32mNone\u001b[0m\u001b[0;34m:\u001b[0m\u001b[0;34m\u001b[0m\u001b[0m\n\u001b[0;32m--> 547\u001b[0;31m             \u001b[0mquil_program\u001b[0m \u001b[0;34m=\u001b[0m \u001b[0mapply_noise_model\u001b[0m\u001b[0;34m(\u001b[0m\u001b[0mquil_program\u001b[0m\u001b[0;34m,\u001b[0m \u001b[0mself\u001b[0m\u001b[0;34m.\u001b[0m\u001b[0mnoise_model\u001b[0m\u001b[0;34m)\u001b[0m\u001b[0;34m\u001b[0m\u001b[0m\n\u001b[0m\u001b[1;32m    548\u001b[0m \u001b[0;34m\u001b[0m\u001b[0m\n\u001b[1;32m    549\u001b[0m         \u001b[0mquil_program\u001b[0m \u001b[0;34m=\u001b[0m \u001b[0mself\u001b[0m\u001b[0;34m.\u001b[0m\u001b[0maugment_program_with_memory_values\u001b[0m\u001b[0;34m(\u001b[0m\u001b[0mquil_program\u001b[0m\u001b[0;34m)\u001b[0m\u001b[0;34m\u001b[0m\u001b[0m\n",
      "\u001b[0;32m~/pyquil/pyquil/noise.py\u001b[0m in \u001b[0;36mapply_noise_model\u001b[0;34m(prog, noise_model)\u001b[0m\n\u001b[1;32m    574\u001b[0m         \u001b[0mnoisemodel\u001b[0m\u001b[0;34m.\u001b[0m\u001b[0;34m\u001b[0m\u001b[0m\n\u001b[1;32m    575\u001b[0m     \"\"\"\n\u001b[0;32m--> 576\u001b[0;31m     \u001b[0mnew_prog\u001b[0m \u001b[0;34m=\u001b[0m \u001b[0m_noise_model_program_header\u001b[0m\u001b[0;34m(\u001b[0m\u001b[0mnoise_model\u001b[0m\u001b[0;34m)\u001b[0m\u001b[0;34m\u001b[0m\u001b[0m\n\u001b[0m\u001b[1;32m    577\u001b[0m     \u001b[0;32mfor\u001b[0m \u001b[0mi\u001b[0m \u001b[0;32min\u001b[0m \u001b[0mprog\u001b[0m\u001b[0;34m:\u001b[0m\u001b[0;34m\u001b[0m\u001b[0m\n\u001b[1;32m    578\u001b[0m         \u001b[0;32mif\u001b[0m \u001b[0misinstance\u001b[0m\u001b[0;34m(\u001b[0m\u001b[0mi\u001b[0m\u001b[0;34m,\u001b[0m \u001b[0mGate\u001b[0m\u001b[0;34m)\u001b[0m\u001b[0;34m:\u001b[0m\u001b[0;34m\u001b[0m\u001b[0m\n",
      "\u001b[0;32m~/pyquil/pyquil/noise.py\u001b[0m in \u001b[0;36m_noise_model_program_header\u001b[0;34m(noise_model)\u001b[0m\n\u001b[1;32m    556\u001b[0m \u001b[0;34m\u001b[0m\u001b[0m\n\u001b[1;32m    557\u001b[0m         \u001b[0;31m# define noisy version of gate on specific targets\u001b[0m\u001b[0;34m\u001b[0m\u001b[0;34m\u001b[0m\u001b[0m\n\u001b[0;32m--> 558\u001b[0;31m         \u001b[0mp\u001b[0m\u001b[0;34m.\u001b[0m\u001b[0mdefine_noisy_gate\u001b[0m\u001b[0;34m(\u001b[0m\u001b[0mnew_name\u001b[0m\u001b[0;34m,\u001b[0m \u001b[0mk\u001b[0m\u001b[0;34m.\u001b[0m\u001b[0mtargets\u001b[0m\u001b[0;34m,\u001b[0m \u001b[0mk\u001b[0m\u001b[0;34m.\u001b[0m\u001b[0mkraus_ops\u001b[0m\u001b[0;34m)\u001b[0m\u001b[0;34m\u001b[0m\u001b[0m\n\u001b[0m\u001b[1;32m    559\u001b[0m \u001b[0;34m\u001b[0m\u001b[0m\n\u001b[1;32m    560\u001b[0m     \u001b[0;31m# define noisy readouts\u001b[0m\u001b[0;34m\u001b[0m\u001b[0;34m\u001b[0m\u001b[0m\n",
      "\u001b[0;32m~/pyquil/pyquil/quil.py\u001b[0m in \u001b[0;36mdefine_noisy_gate\u001b[0;34m(self, name, qubit_indices, kraus_ops)\u001b[0m\n\u001b[1;32m    309\u001b[0m         \"\"\"\n\u001b[1;32m    310\u001b[0m         \u001b[0mkraus_ops\u001b[0m \u001b[0;34m=\u001b[0m \u001b[0;34m[\u001b[0m\u001b[0mnp\u001b[0m\u001b[0;34m.\u001b[0m\u001b[0masarray\u001b[0m\u001b[0;34m(\u001b[0m\u001b[0mk\u001b[0m\u001b[0;34m,\u001b[0m \u001b[0mdtype\u001b[0m\u001b[0;34m=\u001b[0m\u001b[0mnp\u001b[0m\u001b[0;34m.\u001b[0m\u001b[0mcomplex128\u001b[0m\u001b[0;34m)\u001b[0m \u001b[0;32mfor\u001b[0m \u001b[0mk\u001b[0m \u001b[0;32min\u001b[0m \u001b[0mkraus_ops\u001b[0m\u001b[0;34m]\u001b[0m\u001b[0;34m\u001b[0m\u001b[0m\n\u001b[0;32m--> 311\u001b[0;31m         \u001b[0m_check_kraus_ops\u001b[0m\u001b[0;34m(\u001b[0m\u001b[0mlen\u001b[0m\u001b[0;34m(\u001b[0m\u001b[0mqubit_indices\u001b[0m\u001b[0;34m)\u001b[0m\u001b[0;34m,\u001b[0m \u001b[0mkraus_ops\u001b[0m\u001b[0;34m)\u001b[0m\u001b[0;34m\u001b[0m\u001b[0m\n\u001b[0m\u001b[1;32m    312\u001b[0m         \u001b[0;32mreturn\u001b[0m \u001b[0mself\u001b[0m\u001b[0;34m.\u001b[0m\u001b[0minst\u001b[0m\u001b[0;34m(\u001b[0m\u001b[0m_create_kraus_pragmas\u001b[0m\u001b[0;34m(\u001b[0m\u001b[0mname\u001b[0m\u001b[0;34m,\u001b[0m \u001b[0mtuple\u001b[0m\u001b[0;34m(\u001b[0m\u001b[0mqubit_indices\u001b[0m\u001b[0;34m)\u001b[0m\u001b[0;34m,\u001b[0m \u001b[0mkraus_ops\u001b[0m\u001b[0;34m)\u001b[0m\u001b[0;34m)\u001b[0m\u001b[0;34m\u001b[0m\u001b[0m\n\u001b[1;32m    313\u001b[0m \u001b[0;34m\u001b[0m\u001b[0m\n",
      "\u001b[0;32m~/pyquil/pyquil/noise.py\u001b[0m in \u001b[0;36m_check_kraus_ops\u001b[0;34m(n, kraus_ops)\u001b[0m\n\u001b[1;32m    194\u001b[0m \u001b[0;34m\u001b[0m\u001b[0m\n\u001b[1;32m    195\u001b[0m     \u001b[0mkdk_sum\u001b[0m \u001b[0;34m=\u001b[0m \u001b[0msum\u001b[0m\u001b[0;34m(\u001b[0m\u001b[0mnp\u001b[0m\u001b[0;34m.\u001b[0m\u001b[0mtranspose\u001b[0m\u001b[0;34m(\u001b[0m\u001b[0mk\u001b[0m\u001b[0;34m)\u001b[0m\u001b[0;34m.\u001b[0m\u001b[0mconjugate\u001b[0m\u001b[0;34m(\u001b[0m\u001b[0;34m)\u001b[0m\u001b[0;34m.\u001b[0m\u001b[0mdot\u001b[0m\u001b[0;34m(\u001b[0m\u001b[0mk\u001b[0m\u001b[0;34m)\u001b[0m \u001b[0;32mfor\u001b[0m \u001b[0mk\u001b[0m \u001b[0;32min\u001b[0m \u001b[0mkraus_ops\u001b[0m\u001b[0;34m)\u001b[0m\u001b[0;34m\u001b[0m\u001b[0m\n\u001b[0;32m--> 196\u001b[0;31m     \u001b[0;32mif\u001b[0m \u001b[0;32mnot\u001b[0m \u001b[0mnp\u001b[0m\u001b[0;34m.\u001b[0m\u001b[0mallclose\u001b[0m\u001b[0;34m(\u001b[0m\u001b[0mkdk_sum\u001b[0m\u001b[0;34m,\u001b[0m \u001b[0mnp\u001b[0m\u001b[0;34m.\u001b[0m\u001b[0meye\u001b[0m\u001b[0;34m(\u001b[0m\u001b[0;36m2\u001b[0m \u001b[0;34m**\u001b[0m \u001b[0mn\u001b[0m\u001b[0;34m)\u001b[0m\u001b[0;34m,\u001b[0m \u001b[0matol\u001b[0m\u001b[0;34m=\u001b[0m\u001b[0;36m1e-3\u001b[0m\u001b[0;34m)\u001b[0m\u001b[0;34m:\u001b[0m\u001b[0;34m\u001b[0m\u001b[0m\n\u001b[0m\u001b[1;32m    197\u001b[0m         raise ValueError(\n\u001b[1;32m    198\u001b[0m             \u001b[0;34m\"Kraus operator not correctly normalized: sum_j K_j^*K_j == {}\"\u001b[0m\u001b[0;34m.\u001b[0m\u001b[0mformat\u001b[0m\u001b[0;34m(\u001b[0m\u001b[0mkdk_sum\u001b[0m\u001b[0;34m)\u001b[0m\u001b[0;34m\u001b[0m\u001b[0m\n",
      "\u001b[0;32m~/anaconda3/lib/python3.6/site-packages/numpy/core/numeric.py\u001b[0m in \u001b[0;36mallclose\u001b[0;34m(a, b, rtol, atol, equal_nan)\u001b[0m\n\u001b[1;32m   2268\u001b[0m \u001b[0;34m\u001b[0m\u001b[0m\n\u001b[1;32m   2269\u001b[0m     \"\"\"\n\u001b[0;32m-> 2270\u001b[0;31m     \u001b[0mres\u001b[0m \u001b[0;34m=\u001b[0m \u001b[0mall\u001b[0m\u001b[0;34m(\u001b[0m\u001b[0misclose\u001b[0m\u001b[0;34m(\u001b[0m\u001b[0ma\u001b[0m\u001b[0;34m,\u001b[0m \u001b[0mb\u001b[0m\u001b[0;34m,\u001b[0m \u001b[0mrtol\u001b[0m\u001b[0;34m=\u001b[0m\u001b[0mrtol\u001b[0m\u001b[0;34m,\u001b[0m \u001b[0matol\u001b[0m\u001b[0;34m=\u001b[0m\u001b[0matol\u001b[0m\u001b[0;34m,\u001b[0m \u001b[0mequal_nan\u001b[0m\u001b[0;34m=\u001b[0m\u001b[0mequal_nan\u001b[0m\u001b[0;34m)\u001b[0m\u001b[0;34m)\u001b[0m\u001b[0;34m\u001b[0m\u001b[0m\n\u001b[0m\u001b[1;32m   2271\u001b[0m     \u001b[0;32mreturn\u001b[0m \u001b[0mbool\u001b[0m\u001b[0;34m(\u001b[0m\u001b[0mres\u001b[0m\u001b[0;34m)\u001b[0m\u001b[0;34m\u001b[0m\u001b[0m\n\u001b[1;32m   2272\u001b[0m \u001b[0;34m\u001b[0m\u001b[0m\n",
      "\u001b[0;32m~/anaconda3/lib/python3.6/site-packages/numpy/core/numeric.py\u001b[0m in \u001b[0;36misclose\u001b[0;34m(a, b, rtol, atol, equal_nan)\u001b[0m\n\u001b[1;32m   2364\u001b[0m     \u001b[0myfin\u001b[0m \u001b[0;34m=\u001b[0m \u001b[0misfinite\u001b[0m\u001b[0;34m(\u001b[0m\u001b[0my\u001b[0m\u001b[0;34m)\u001b[0m\u001b[0;34m\u001b[0m\u001b[0m\n\u001b[1;32m   2365\u001b[0m     \u001b[0;32mif\u001b[0m \u001b[0mall\u001b[0m\u001b[0;34m(\u001b[0m\u001b[0mxfin\u001b[0m\u001b[0;34m)\u001b[0m \u001b[0;32mand\u001b[0m \u001b[0mall\u001b[0m\u001b[0;34m(\u001b[0m\u001b[0myfin\u001b[0m\u001b[0;34m)\u001b[0m\u001b[0;34m:\u001b[0m\u001b[0;34m\u001b[0m\u001b[0m\n\u001b[0;32m-> 2366\u001b[0;31m         \u001b[0;32mreturn\u001b[0m \u001b[0mwithin_tol\u001b[0m\u001b[0;34m(\u001b[0m\u001b[0mx\u001b[0m\u001b[0;34m,\u001b[0m \u001b[0my\u001b[0m\u001b[0;34m,\u001b[0m \u001b[0matol\u001b[0m\u001b[0;34m,\u001b[0m \u001b[0mrtol\u001b[0m\u001b[0;34m)\u001b[0m\u001b[0;34m\u001b[0m\u001b[0m\n\u001b[0m\u001b[1;32m   2367\u001b[0m     \u001b[0;32melse\u001b[0m\u001b[0;34m:\u001b[0m\u001b[0;34m\u001b[0m\u001b[0m\n\u001b[1;32m   2368\u001b[0m         \u001b[0mfinite\u001b[0m \u001b[0;34m=\u001b[0m \u001b[0mxfin\u001b[0m \u001b[0;34m&\u001b[0m \u001b[0myfin\u001b[0m\u001b[0;34m\u001b[0m\u001b[0m\n",
      "\u001b[0;32m~/anaconda3/lib/python3.6/site-packages/numpy/core/numeric.py\u001b[0m in \u001b[0;36mwithin_tol\u001b[0;34m(x, y, atol, rtol)\u001b[0m\n\u001b[1;32m   2349\u001b[0m     \"\"\"\n\u001b[1;32m   2350\u001b[0m     \u001b[0;32mdef\u001b[0m \u001b[0mwithin_tol\u001b[0m\u001b[0;34m(\u001b[0m\u001b[0mx\u001b[0m\u001b[0;34m,\u001b[0m \u001b[0my\u001b[0m\u001b[0;34m,\u001b[0m \u001b[0matol\u001b[0m\u001b[0;34m,\u001b[0m \u001b[0mrtol\u001b[0m\u001b[0;34m)\u001b[0m\u001b[0;34m:\u001b[0m\u001b[0;34m\u001b[0m\u001b[0m\n\u001b[0;32m-> 2351\u001b[0;31m         \u001b[0;32mwith\u001b[0m \u001b[0merrstate\u001b[0m\u001b[0;34m(\u001b[0m\u001b[0minvalid\u001b[0m\u001b[0;34m=\u001b[0m\u001b[0;34m'ignore'\u001b[0m\u001b[0;34m)\u001b[0m\u001b[0;34m:\u001b[0m\u001b[0;34m\u001b[0m\u001b[0m\n\u001b[0m\u001b[1;32m   2352\u001b[0m             \u001b[0;32mreturn\u001b[0m \u001b[0mless_equal\u001b[0m\u001b[0;34m(\u001b[0m\u001b[0mabs\u001b[0m\u001b[0;34m(\u001b[0m\u001b[0mx\u001b[0m\u001b[0;34m-\u001b[0m\u001b[0my\u001b[0m\u001b[0;34m)\u001b[0m\u001b[0;34m,\u001b[0m \u001b[0matol\u001b[0m \u001b[0;34m+\u001b[0m \u001b[0mrtol\u001b[0m \u001b[0;34m*\u001b[0m \u001b[0mabs\u001b[0m\u001b[0;34m(\u001b[0m\u001b[0my\u001b[0m\u001b[0;34m)\u001b[0m\u001b[0;34m)\u001b[0m\u001b[0;34m\u001b[0m\u001b[0m\n\u001b[1;32m   2353\u001b[0m \u001b[0;34m\u001b[0m\u001b[0m\n",
      "\u001b[0;32m~/anaconda3/lib/python3.6/site-packages/numpy/core/numeric.py\u001b[0m in \u001b[0;36m__enter__\u001b[0;34m(self)\u001b[0m\n\u001b[1;32m   2890\u001b[0m \u001b[0;34m\u001b[0m\u001b[0m\n\u001b[1;32m   2891\u001b[0m     \u001b[0;32mdef\u001b[0m \u001b[0m__enter__\u001b[0m\u001b[0;34m(\u001b[0m\u001b[0mself\u001b[0m\u001b[0;34m)\u001b[0m\u001b[0;34m:\u001b[0m\u001b[0;34m\u001b[0m\u001b[0m\n\u001b[0;32m-> 2892\u001b[0;31m         \u001b[0mself\u001b[0m\u001b[0;34m.\u001b[0m\u001b[0moldstate\u001b[0m \u001b[0;34m=\u001b[0m \u001b[0mseterr\u001b[0m\u001b[0;34m(\u001b[0m\u001b[0;34m**\u001b[0m\u001b[0mself\u001b[0m\u001b[0;34m.\u001b[0m\u001b[0mkwargs\u001b[0m\u001b[0;34m)\u001b[0m\u001b[0;34m\u001b[0m\u001b[0m\n\u001b[0m\u001b[1;32m   2893\u001b[0m         \u001b[0;32mif\u001b[0m \u001b[0mself\u001b[0m\u001b[0;34m.\u001b[0m\u001b[0mcall\u001b[0m \u001b[0;32mis\u001b[0m \u001b[0;32mnot\u001b[0m \u001b[0m_Unspecified\u001b[0m\u001b[0;34m:\u001b[0m\u001b[0;34m\u001b[0m\u001b[0m\n\u001b[1;32m   2894\u001b[0m             \u001b[0mself\u001b[0m\u001b[0;34m.\u001b[0m\u001b[0moldcall\u001b[0m \u001b[0;34m=\u001b[0m \u001b[0mseterrcall\u001b[0m\u001b[0;34m(\u001b[0m\u001b[0mself\u001b[0m\u001b[0;34m.\u001b[0m\u001b[0mcall\u001b[0m\u001b[0;34m)\u001b[0m\u001b[0;34m\u001b[0m\u001b[0m\n",
      "\u001b[0;32m~/anaconda3/lib/python3.6/site-packages/numpy/core/numeric.py\u001b[0m in \u001b[0;36mseterr\u001b[0;34m(all, divide, over, under, invalid)\u001b[0m\n\u001b[1;32m   2582\u001b[0m     maskvalue = ((_errdict[divide] << SHIFT_DIVIDEBYZERO) +\n\u001b[1;32m   2583\u001b[0m                  \u001b[0;34m(\u001b[0m\u001b[0m_errdict\u001b[0m\u001b[0;34m[\u001b[0m\u001b[0mover\u001b[0m\u001b[0;34m]\u001b[0m \u001b[0;34m<<\u001b[0m \u001b[0mSHIFT_OVERFLOW\u001b[0m\u001b[0;34m)\u001b[0m \u001b[0;34m+\u001b[0m\u001b[0;34m\u001b[0m\u001b[0m\n\u001b[0;32m-> 2584\u001b[0;31m                  \u001b[0;34m(\u001b[0m\u001b[0m_errdict\u001b[0m\u001b[0;34m[\u001b[0m\u001b[0munder\u001b[0m\u001b[0;34m]\u001b[0m \u001b[0;34m<<\u001b[0m \u001b[0mSHIFT_UNDERFLOW\u001b[0m\u001b[0;34m)\u001b[0m \u001b[0;34m+\u001b[0m\u001b[0;34m\u001b[0m\u001b[0m\n\u001b[0m\u001b[1;32m   2585\u001b[0m                  (_errdict[invalid] << SHIFT_INVALID))\n\u001b[1;32m   2586\u001b[0m \u001b[0;34m\u001b[0m\u001b[0m\n",
      "\u001b[0;31mKeyboardInterrupt\u001b[0m: "
     ]
    }
   ],
   "source": [
    "expt_data_array = acquire_volumetric_data(noisy_qc, prog_array, num_shots=num_shots)"
   ]
  },
  {
   "cell_type": "code",
   "execution_count": null,
   "metadata": {},
   "outputs": [],
   "source": [
    "ideal_data_array = acquire_volumetric_data(pyqvm, prog_array, num_shots=1)"
   ]
  },
  {
   "cell_type": "code",
   "execution_count": null,
   "metadata": {},
   "outputs": [],
   "source": [
    "succ_probs = get_single_target_success_probabilities(expt_data_array, ideal_data_array)\n",
    "threshold = 3/4 # this happens to be interesting for default qvm noise model\n",
    "successes = determine_successes(succ_probs, num_shots_per_ckt=num_shots, success_threshold=threshold)\n",
    "plot_success(successes, f'Confident > {threshold}')"
   ]
  },
  {
   "cell_type": "code",
   "execution_count": 8,
   "metadata": {},
   "outputs": [
    {
     "name": "stdout",
     "output_type": "stream",
     "text": [
      "{2: {2: 0.825874178895398, 3: 0.8171815818094001, 4: 0.811804500154355}, 3: {2: 0.7740486147049136, 3: 0.7646885997416862, 4: 0.7626539548048714}, 4: {2: 0.696878315075042, 3: 0.6978774020707421, 4: 0.7026533406446034}}\n"
     ]
    }
   ],
   "source": [
    "print(determine_prob_success_lower_bounds(succ_probs, num_shots))"
   ]
  },
  {
   "cell_type": "code",
   "execution_count": 9,
   "metadata": {},
   "outputs": [],
   "source": [
    "def get_success_probs(ckt_family, widths, depths, num_ckt_samples=100, num_shots=500):\n",
    "    dimensions = {w: [d for d in depths] for w in widths}\n",
    "    prog_array = generate_volumetric_program_array(noisy_qc, ckt_family, dimensions, num_circuit_samples=num_ckt_samples)\n",
    "    expt_data_array = acquire_volumetric_data(noisy_qc, prog_array, num_shots=num_shots)\n",
    "    ideal_data_array = acquire_volumetric_data(pyqvm, prog_array, num_shots=1)\n",
    "    return get_single_target_success_probabilities(expt_data_array, ideal_data_array)\n",
    "\n",
    "def probs_to_plot(success_probabilities, num_shots, threshold, ckt_family_name=\"\"):\n",
    "    successes = determine_successes(succ_probs, num_shots_per_ckt=num_shots, success_threshold=threshold)\n",
    "    plot_success(successes, ckt_family_name + f' Confident > {threshold}')"
   ]
  },
  {
   "cell_type": "code",
   "execution_count": null,
   "metadata": {},
   "outputs": [],
   "source": []
  },
  {
   "cell_type": "code",
   "execution_count": 10,
   "metadata": {},
   "outputs": [
    {
     "ename": "IndentationError",
     "evalue": "expected an indented block (<ipython-input-10-70225dac26a7>, line 55)",
     "output_type": "error",
     "traceback": [
      "\u001b[0;36m  File \u001b[0;32m\"<ipython-input-10-70225dac26a7>\"\u001b[0;36m, line \u001b[0;32m55\u001b[0m\n\u001b[0;31m    shots = qc.run(exe, memory_map=)\u001b[0m\n\u001b[0m        ^\u001b[0m\n\u001b[0;31mIndentationError\u001b[0m\u001b[0;31m:\u001b[0m expected an indented block\n"
     ]
    }
   ],
   "source": [
    "from typing import Tuple, Sequence, Callable, Dict, List, Union, Optional\n",
    "from pyquil.quil import Program\n",
    "from pyquil.api import QuantumComputer\n",
    "from pyquil.gates import MEASURE, RESET\n",
    "\n",
    "def acquire_paramterized_volumetric_data(qc: QuantumComputer, \n",
    "                                         program_array: Dict[int, Dict[int, List[Program]]],\n",
    "                                         num_shots: int = 500,\n",
    "                                         measure_qubits: Dict[int,  Dict[int, List[int]]] = None,\n",
    "                                         use_active_reset:  bool = False, use_compiler: bool = False,\n",
    "                                        memory_map = None) \\\n",
    "        -> Dict[int, Dict[int, List[np.ndarray]]]:\n",
    "    \"\"\"\n",
    "    Runs each program in `program_array` on the qc and stores the results, organized again by\n",
    "    width and depth.\n",
    "\n",
    "    :param qc:\n",
    "    :param program_array:\n",
    "    :param num_shots:\n",
    "    :param measure_qubits:\n",
    "    :param use_active_reset:\n",
    "    :param use_compiler:\n",
    "    :return:\n",
    "    \"\"\"\n",
    "    reset_prog = Program()\n",
    "    if use_active_reset:\n",
    "        reset_prog += RESET()\n",
    "\n",
    "    results = {width: {depth: [] for depth in depth_array.keys()}\n",
    "               for width, depth_array in program_array.items()}\n",
    "\n",
    "    for width, depth_array in program_array.items():\n",
    "        for depth, prog_list in depth_array.items():\n",
    "            for idx, program in enumerate(prog_list):\n",
    "                prog = program.copy()\n",
    "\n",
    "                if measure_qubits is not None:\n",
    "                    qubits = measure_qubits[width][depth][idx]\n",
    "                else:\n",
    "                    qubits = sorted(list(program.get_qubits()))\n",
    "\n",
    "                ro = prog.declare('ro', 'BIT', len(qubits))\n",
    "                for idx, q in enumerate(qubits):\n",
    "                    prog += MEASURE(q, ro[idx])\n",
    "\n",
    "                prog.wrap_in_numshots_loop(num_shots)\n",
    "\n",
    "                if use_compiler:\n",
    "                    prog = qc.compiler.quil_to_native_quil(prog)\n",
    "\n",
    "                exe = qc.compiler.native_quil_to_executable(prog)\n",
    "                if memory_map is None:\n",
    "                    shots = qc.run(exe)\n",
    "                else:\n",
    "                shots = qc.run(exe, memory_map=)\n",
    "                results[width][depth].append(shots)\n",
    "\n",
    "    return results"
   ]
  },
  {
   "cell_type": "code",
   "execution_count": 11,
   "metadata": {},
   "outputs": [
    {
     "ename": "RPCError",
     "evalue": "User program used too many qubits: 4 used and 2 available in the largest connected component.",
     "output_type": "error",
     "traceback": [
      "\u001b[0;31m---------------------------------------------------------------------------\u001b[0m",
      "\u001b[0;31mRPCError\u001b[0m                                  Traceback (most recent call last)",
      "\u001b[0;32m<ipython-input-11-40965ca27122>\u001b[0m in \u001b[0;36m<module>\u001b[0;34m()\u001b[0m\n\u001b[1;32m      4\u001b[0m \u001b[0mnum_shots\u001b[0m \u001b[0;34m=\u001b[0m \u001b[0;36m5\u001b[0m\u001b[0;34m\u001b[0m\u001b[0m\n\u001b[1;32m      5\u001b[0m \u001b[0mckt_family\u001b[0m \u001b[0;34m=\u001b[0m \u001b[0mqaoa_template\u001b[0m\u001b[0;34m\u001b[0m\u001b[0m\n\u001b[0;32m----> 6\u001b[0;31m \u001b[0mprog_array\u001b[0m \u001b[0;34m=\u001b[0m \u001b[0mgenerate_volumetric_program_array\u001b[0m\u001b[0;34m(\u001b[0m\u001b[0mnoisy_qc\u001b[0m\u001b[0;34m,\u001b[0m \u001b[0mckt_family\u001b[0m\u001b[0;34m,\u001b[0m \u001b[0mdimensions\u001b[0m\u001b[0;34m,\u001b[0m \u001b[0mnum_circuit_samples\u001b[0m\u001b[0;34m=\u001b[0m\u001b[0;36m100\u001b[0m\u001b[0;34m)\u001b[0m\u001b[0;34m\u001b[0m\u001b[0m\n\u001b[0m\u001b[1;32m      7\u001b[0m \u001b[0mexpt_data_array\u001b[0m \u001b[0;34m=\u001b[0m \u001b[0macquire_volumetric_data\u001b[0m\u001b[0;34m(\u001b[0m\u001b[0mnoisy_qc\u001b[0m\u001b[0;34m,\u001b[0m \u001b[0mprog_array\u001b[0m\u001b[0;34m,\u001b[0m \u001b[0mnum_shots\u001b[0m\u001b[0;34m=\u001b[0m\u001b[0mnum_shots\u001b[0m\u001b[0;34m)\u001b[0m\u001b[0;34m\u001b[0m\u001b[0m\n",
      "\u001b[0;32m~/forest-benchmarking/forest/benchmarking/volumetrics.py\u001b[0m in \u001b[0;36mgenerate_volumetric_program_array\u001b[0;34m(qc, ckt, dimensions, num_circuit_samples, graphs)\u001b[0m\n\u001b[1;32m    628\u001b[0m                 \u001b[0mgraph\u001b[0m \u001b[0;34m=\u001b[0m \u001b[0mgraphs\u001b[0m\u001b[0;34m[\u001b[0m\u001b[0mwidth\u001b[0m\u001b[0;34m]\u001b[0m\u001b[0;34m[\u001b[0m\u001b[0mcircuit_number\u001b[0m\u001b[0;34m]\u001b[0m\u001b[0;34m\u001b[0m\u001b[0m\n\u001b[1;32m    629\u001b[0m                 \u001b[0mcircuit_number\u001b[0m \u001b[0;34m+=\u001b[0m \u001b[0;36m1\u001b[0m\u001b[0;34m\u001b[0m\u001b[0m\n\u001b[0;32m--> 630\u001b[0;31m                 \u001b[0mprog\u001b[0m \u001b[0;34m=\u001b[0m \u001b[0mckt\u001b[0m\u001b[0;34m.\u001b[0m\u001b[0msample_program\u001b[0m\u001b[0;34m(\u001b[0m\u001b[0mgraph\u001b[0m\u001b[0;34m,\u001b[0m \u001b[0mrepetitions\u001b[0m\u001b[0;34m=\u001b[0m\u001b[0mdepth\u001b[0m\u001b[0;34m,\u001b[0m \u001b[0mwidth\u001b[0m\u001b[0;34m=\u001b[0m\u001b[0mwidth\u001b[0m\u001b[0;34m,\u001b[0m \u001b[0mqc\u001b[0m\u001b[0;34m=\u001b[0m\u001b[0mqc\u001b[0m\u001b[0;34m)\u001b[0m\u001b[0;34m\u001b[0m\u001b[0m\n\u001b[0m\u001b[1;32m    631\u001b[0m                 \u001b[0mprog_list\u001b[0m\u001b[0;34m.\u001b[0m\u001b[0mappend\u001b[0m\u001b[0;34m(\u001b[0m\u001b[0mprog\u001b[0m\u001b[0;34m)\u001b[0m\u001b[0;34m\u001b[0m\u001b[0m\n\u001b[1;32m    632\u001b[0m \u001b[0;34m\u001b[0m\u001b[0m\n",
      "\u001b[0;32m~/forest-benchmarking/forest/benchmarking/volumetrics.py\u001b[0m in \u001b[0;36msample_program\u001b[0;34m(self, graph, repetitions, qc, width, sequence)\u001b[0m\n\u001b[1;32m    147\u001b[0m \u001b[0;34m\u001b[0m\u001b[0m\n\u001b[1;32m    148\u001b[0m     \u001b[0;32mdef\u001b[0m \u001b[0msample_program\u001b[0m\u001b[0;34m(\u001b[0m\u001b[0mself\u001b[0m\u001b[0;34m,\u001b[0m \u001b[0mgraph\u001b[0m\u001b[0;34m,\u001b[0m \u001b[0mrepetitions\u001b[0m\u001b[0;34m,\u001b[0m \u001b[0mqc\u001b[0m\u001b[0;34m=\u001b[0m\u001b[0;32mNone\u001b[0m\u001b[0;34m,\u001b[0m \u001b[0mwidth\u001b[0m\u001b[0;34m=\u001b[0m\u001b[0;32mNone\u001b[0m\u001b[0;34m,\u001b[0m \u001b[0msequence\u001b[0m\u001b[0;34m=\u001b[0m\u001b[0;32mNone\u001b[0m\u001b[0;34m)\u001b[0m\u001b[0;34m:\u001b[0m\u001b[0;34m\u001b[0m\u001b[0m\n\u001b[0;32m--> 149\u001b[0;31m         \u001b[0;32mreturn\u001b[0m \u001b[0mmerge_programs\u001b[0m\u001b[0;34m(\u001b[0m\u001b[0mself\u001b[0m\u001b[0;34m.\u001b[0m\u001b[0msample_sequence\u001b[0m\u001b[0;34m(\u001b[0m\u001b[0mgraph\u001b[0m\u001b[0;34m,\u001b[0m \u001b[0mrepetitions\u001b[0m\u001b[0;34m,\u001b[0m \u001b[0mqc\u001b[0m\u001b[0;34m,\u001b[0m \u001b[0mwidth\u001b[0m\u001b[0;34m,\u001b[0m \u001b[0msequence\u001b[0m\u001b[0;34m)\u001b[0m\u001b[0;34m)\u001b[0m\u001b[0;34m\u001b[0m\u001b[0m\n\u001b[0m\u001b[1;32m    150\u001b[0m \u001b[0;34m\u001b[0m\u001b[0m\n\u001b[1;32m    151\u001b[0m \u001b[0;34m\u001b[0m\u001b[0m\n",
      "\u001b[0;32m~/forest-benchmarking/forest/benchmarking/volumetrics.py\u001b[0m in \u001b[0;36msample_sequence\u001b[0;34m(self, graph, repetitions, qc, width, sequence)\u001b[0m\n\u001b[1;32m    142\u001b[0m \u001b[0;34m\u001b[0m\u001b[0m\n\u001b[1;32m    143\u001b[0m         \u001b[0;32mfor\u001b[0m \u001b[0msequence_transform\u001b[0m \u001b[0;32min\u001b[0m \u001b[0mself\u001b[0m\u001b[0;34m.\u001b[0m\u001b[0msequence_transforms\u001b[0m\u001b[0;34m:\u001b[0m\u001b[0;34m\u001b[0m\u001b[0m\n\u001b[0;32m--> 144\u001b[0;31m             \u001b[0msequence\u001b[0m \u001b[0;34m=\u001b[0m \u001b[0msequence_transform\u001b[0m\u001b[0;34m(\u001b[0m\u001b[0mgraph\u001b[0m\u001b[0;34m=\u001b[0m\u001b[0mgraph\u001b[0m\u001b[0;34m,\u001b[0m \u001b[0mqc\u001b[0m\u001b[0;34m=\u001b[0m\u001b[0mqc\u001b[0m\u001b[0;34m,\u001b[0m \u001b[0mwidth\u001b[0m\u001b[0;34m=\u001b[0m\u001b[0mwidth\u001b[0m\u001b[0;34m,\u001b[0m \u001b[0msequence\u001b[0m\u001b[0;34m=\u001b[0m\u001b[0msequence\u001b[0m\u001b[0;34m)\u001b[0m\u001b[0;34m\u001b[0m\u001b[0m\n\u001b[0m\u001b[1;32m    145\u001b[0m \u001b[0;34m\u001b[0m\u001b[0m\n\u001b[1;32m    146\u001b[0m         \u001b[0;32mreturn\u001b[0m \u001b[0msequence\u001b[0m\u001b[0;34m\u001b[0m\u001b[0m\n",
      "\u001b[0;32m~/forest-benchmarking/forest/benchmarking/volumetrics.py\u001b[0m in \u001b[0;36mcompile_merged_sequence\u001b[0;34m(qc, sequence, graph, use_basic_compile, **kwargs)\u001b[0m\n\u001b[1;32m    451\u001b[0m         \u001b[0;32mreturn\u001b[0m \u001b[0;34m[\u001b[0m\u001b[0mbasic_compile\u001b[0m\u001b[0;34m(\u001b[0m\u001b[0mmerged\u001b[0m\u001b[0;34m)\u001b[0m\u001b[0;34m]\u001b[0m\u001b[0;34m\u001b[0m\u001b[0m\n\u001b[1;32m    452\u001b[0m     \u001b[0;32melse\u001b[0m\u001b[0;34m:\u001b[0m\u001b[0;34m\u001b[0m\u001b[0m\n\u001b[0;32m--> 453\u001b[0;31m         \u001b[0mnative_quil\u001b[0m \u001b[0;34m=\u001b[0m \u001b[0mgraph_restricted_compilation\u001b[0m\u001b[0;34m(\u001b[0m\u001b[0mqc\u001b[0m\u001b[0;34m,\u001b[0m \u001b[0mgraph\u001b[0m\u001b[0;34m,\u001b[0m \u001b[0mmerged\u001b[0m\u001b[0;34m)\u001b[0m\u001b[0;34m\u001b[0m\u001b[0m\n\u001b[0m\u001b[1;32m    454\u001b[0m         \u001b[0;31m# remove gate definitions and terminous HALT\u001b[0m\u001b[0;34m\u001b[0m\u001b[0;34m\u001b[0m\u001b[0m\n\u001b[1;32m    455\u001b[0m         \u001b[0;32mreturn\u001b[0m \u001b[0;34m[\u001b[0m\u001b[0mProgram\u001b[0m\u001b[0;34m(\u001b[0m\u001b[0;34m[\u001b[0m\u001b[0minstr\u001b[0m \u001b[0;32mfor\u001b[0m \u001b[0minstr\u001b[0m \u001b[0;32min\u001b[0m \u001b[0mnative_quil\u001b[0m\u001b[0;34m.\u001b[0m\u001b[0minstructions\u001b[0m\u001b[0;34m]\u001b[0m\u001b[0;34m[\u001b[0m\u001b[0;34m:\u001b[0m\u001b[0;34m-\u001b[0m\u001b[0;36m1\u001b[0m\u001b[0;34m]\u001b[0m\u001b[0;34m)\u001b[0m\u001b[0;34m]\u001b[0m\u001b[0;34m\u001b[0m\u001b[0m\n",
      "\u001b[0;32m~/forest-benchmarking/forest/benchmarking/volumetrics.py\u001b[0m in \u001b[0;36mgraph_restricted_compilation\u001b[0;34m(qc, graph, program)\u001b[0m\n\u001b[1;32m    185\u001b[0m     \u001b[0;31m# try to compile with the restricted qubit topology\u001b[0m\u001b[0;34m\u001b[0m\u001b[0;34m\u001b[0m\u001b[0m\n\u001b[1;32m    186\u001b[0m     \u001b[0;32mtry\u001b[0m\u001b[0;34m:\u001b[0m\u001b[0;34m\u001b[0m\u001b[0m\n\u001b[0;32m--> 187\u001b[0;31m         \u001b[0mnative_quil\u001b[0m \u001b[0;34m=\u001b[0m \u001b[0mnew_compiler\u001b[0m\u001b[0;34m.\u001b[0m\u001b[0mquil_to_native_quil\u001b[0m\u001b[0;34m(\u001b[0m\u001b[0mprogram\u001b[0m\u001b[0;34m)\u001b[0m\u001b[0;34m\u001b[0m\u001b[0m\n\u001b[0m\u001b[1;32m    188\u001b[0m     \u001b[0;32mexcept\u001b[0m \u001b[0mRPCErrorError\u001b[0m \u001b[0;32mas\u001b[0m \u001b[0me\u001b[0m\u001b[0;34m:\u001b[0m\u001b[0;34m\u001b[0m\u001b[0m\n\u001b[1;32m    189\u001b[0m         \u001b[0;32mif\u001b[0m \u001b[0;34m\"Multiqubit instruction requested between disconnected components of the QPU graph:\"\u001b[0m\u001b[0;31m \u001b[0m\u001b[0;31m\\\u001b[0m\u001b[0;34m\u001b[0m\u001b[0m\n",
      "\u001b[0;32m~/pyquil/pyquil/api/_error_reporting.py\u001b[0m in \u001b[0;36mwrapper\u001b[0;34m(*args, **kwargs)\u001b[0m\n\u001b[1;32m    245\u001b[0m             \u001b[0mglobal_error_context\u001b[0m\u001b[0;34m.\u001b[0m\u001b[0mlog\u001b[0m\u001b[0;34m[\u001b[0m\u001b[0mkey\u001b[0m\u001b[0;34m]\u001b[0m \u001b[0;34m=\u001b[0m \u001b[0mpre_entry\u001b[0m\u001b[0;34m\u001b[0m\u001b[0m\n\u001b[1;32m    246\u001b[0m \u001b[0;34m\u001b[0m\u001b[0m\n\u001b[0;32m--> 247\u001b[0;31m         \u001b[0mval\u001b[0m \u001b[0;34m=\u001b[0m \u001b[0mfunc\u001b[0m\u001b[0;34m(\u001b[0m\u001b[0;34m*\u001b[0m\u001b[0margs\u001b[0m\u001b[0;34m,\u001b[0m \u001b[0;34m**\u001b[0m\u001b[0mkwargs\u001b[0m\u001b[0;34m)\u001b[0m\u001b[0;34m\u001b[0m\u001b[0m\n\u001b[0m\u001b[1;32m    248\u001b[0m \u001b[0;34m\u001b[0m\u001b[0m\n\u001b[1;32m    249\u001b[0m         \u001b[0;31m# poke the return value of that call in\u001b[0m\u001b[0;34m\u001b[0m\u001b[0;34m\u001b[0m\u001b[0m\n",
      "\u001b[0;32m~/pyquil/pyquil/api/_compiler.py\u001b[0m in \u001b[0;36mquil_to_native_quil\u001b[0;34m(self, program, protoquil)\u001b[0m\n\u001b[1;32m    386\u001b[0m         \u001b[0mrequest\u001b[0m \u001b[0;34m=\u001b[0m \u001b[0mNativeQuilRequest\u001b[0m\u001b[0;34m(\u001b[0m\u001b[0mquil\u001b[0m\u001b[0;34m=\u001b[0m\u001b[0mprogram\u001b[0m\u001b[0;34m.\u001b[0m\u001b[0mout\u001b[0m\u001b[0;34m(\u001b[0m\u001b[0;34m)\u001b[0m\u001b[0;34m,\u001b[0m \u001b[0mtarget_device\u001b[0m\u001b[0;34m=\u001b[0m\u001b[0mself\u001b[0m\u001b[0;34m.\u001b[0m\u001b[0mtarget_device\u001b[0m\u001b[0;34m)\u001b[0m\u001b[0;34m\u001b[0m\u001b[0m\n\u001b[1;32m    387\u001b[0m         response = self.client.call(\n\u001b[0;32m--> 388\u001b[0;31m             \u001b[0;34m\"quil_to_native_quil\"\u001b[0m\u001b[0;34m,\u001b[0m \u001b[0mrequest\u001b[0m\u001b[0;34m,\u001b[0m \u001b[0mprotoquil\u001b[0m\u001b[0;34m=\u001b[0m\u001b[0mprotoquil\u001b[0m\u001b[0;34m\u001b[0m\u001b[0m\n\u001b[0m\u001b[1;32m    389\u001b[0m         ).asdict()  # type: Dict\n\u001b[1;32m    390\u001b[0m         \u001b[0mnq_program\u001b[0m \u001b[0;34m=\u001b[0m \u001b[0mparse_program\u001b[0m\u001b[0;34m(\u001b[0m\u001b[0mresponse\u001b[0m\u001b[0;34m[\u001b[0m\u001b[0;34m\"quil\"\u001b[0m\u001b[0;34m]\u001b[0m\u001b[0;34m)\u001b[0m\u001b[0;34m\u001b[0m\u001b[0m\n",
      "\u001b[0;32m~/anaconda3/lib/python3.6/site-packages/rpcq/_client.py\u001b[0m in \u001b[0;36mcall\u001b[0;34m(self, method_name, rpc_timeout, *args, **kwargs)\u001b[0m\n\u001b[1;32m    197\u001b[0m \u001b[0;34m\u001b[0m\u001b[0m\n\u001b[1;32m    198\u001b[0m         \u001b[0;32mif\u001b[0m \u001b[0misinstance\u001b[0m\u001b[0;34m(\u001b[0m\u001b[0mreply\u001b[0m\u001b[0;34m,\u001b[0m \u001b[0mRPCError\u001b[0m\u001b[0;34m)\u001b[0m\u001b[0;34m:\u001b[0m\u001b[0;34m\u001b[0m\u001b[0m\n\u001b[0;32m--> 199\u001b[0;31m             \u001b[0;32mraise\u001b[0m \u001b[0mutils\u001b[0m\u001b[0;34m.\u001b[0m\u001b[0mRPCError\u001b[0m\u001b[0;34m(\u001b[0m\u001b[0mreply\u001b[0m\u001b[0;34m.\u001b[0m\u001b[0merror\u001b[0m\u001b[0;34m)\u001b[0m\u001b[0;34m\u001b[0m\u001b[0m\n\u001b[0m\u001b[1;32m    200\u001b[0m         \u001b[0;32melse\u001b[0m\u001b[0;34m:\u001b[0m\u001b[0;34m\u001b[0m\u001b[0m\n\u001b[1;32m    201\u001b[0m             \u001b[0;32mreturn\u001b[0m \u001b[0mreply\u001b[0m\u001b[0;34m.\u001b[0m\u001b[0mresult\u001b[0m\u001b[0;34m\u001b[0m\u001b[0m\n",
      "\u001b[0;31mRPCError\u001b[0m: User program used too many qubits: 4 used and 2 available in the largest connected component."
     ]
    }
   ],
   "source": [
    "widths = [2,3,4]\n",
    "depths = [2,3,4]\n",
    "dimensions = {w: [d for d in depths] for w in widths}\n",
    "num_shots = 5\n",
    "ckt_family = qaoa_template\n",
    "prog_array = generate_volumetric_program_array(noisy_qc, ckt_family, dimensions, num_circuit_samples=100)\n",
    "expt_data_array = acquire_volumetric_data(noisy_qc, prog_array, num_shots=num_shots)"
   ]
  },
  {
   "cell_type": "code",
   "execution_count": 6,
   "metadata": {},
   "outputs": [],
   "source": [
    "def evaluate_cut_value(graph, partition):\n",
    "    value = 0\n",
    "    for edge in graph.edges():\n",
    "        value += (partition[edge[0]] + partition[edge[1]]) % 2\n",
    "    return value\n",
    "\n",
    "\n",
    "# def expected_erdos_renyi_random_cut_value(n, p=1/2):\n",
    "#     return n * (n - 1) * p / 4\n",
    "\n",
    "def max_fixed_cut_erdos_renyi_expected_cut_value(n, p=1/2):\n",
    "    half = n // 2\n",
    "    other_half = (n - half)\n",
    "    return half * other_half * p\n",
    "    \n",
    "    \n",
    "def get_most_frequent_result(bitstrings):\n",
    "    bitstring_tuples = list(map(tuple, bitstring_samples))\n",
    "    freq = Counter(bitstring_tuples)\n",
    "    most_frequent_bit_string = max(freq, key=lambda x: freq[x])\n",
    "\n",
    "\n",
    "# average = 0\n",
    "# samples = 10000\n",
    "# n = 21\n",
    "# for _ in range(samples):\n",
    "#     cut = np.random.randint(2, size=(n,))\n",
    "#     average += evaluate_cut_value(uniform_random_graph(n), [0,1]*10 + [0])/samples\n",
    "# print(average)\n",
    "# print(max_fixed_cut_erdos_renyi_expected_cut_value(n))\n",
    "# print(n**2/8)"
   ]
  },
  {
   "cell_type": "code",
   "execution_count": 7,
   "metadata": {},
   "outputs": [
    {
     "ename": "SyntaxError",
     "evalue": "invalid syntax (<ipython-input-7-7ce8606810b2>, line 1)",
     "output_type": "error",
     "traceback": [
      "\u001b[0;36m  File \u001b[0;32m\"<ipython-input-7-7ce8606810b2>\"\u001b[0;36m, line \u001b[0;32m1\u001b[0m\n\u001b[0;31m    run_single_parameterized_program(qc: QuantumComputer,\u001b[0m\n\u001b[0m                                       ^\u001b[0m\n\u001b[0;31mSyntaxError\u001b[0m\u001b[0;31m:\u001b[0m invalid syntax\n"
     ]
    }
   ],
   "source": [
    "run_single_parameterized_program(qc: QuantumComputer,\n",
    "                                 program,\n",
    "                                 num_shots: int = 500,\n",
    "                                 measure_qubits: List[int] = None,\n",
    "                                 use_active_reset:  bool = False, use_compiler: bool = False,\n",
    "                                 memory_map = None) \n",
    "    reset_prog = Program()\n",
    "    if use_active_reset:\n",
    "        reset_prog += RESET()\n",
    "    prog = program.copy()\n",
    "\n",
    "    if measure_qubits is not None:\n",
    "        qubits = measure_qubits\n",
    "    else:\n",
    "        qubits = sorted(list(program.get_qubits()))\n",
    "\n",
    "    ro = prog.declare('ro', 'BIT', len(qubits))\n",
    "    for idx, q in enumerate(qubits):\n",
    "        prog += MEASURE(q, ro[idx])\n",
    "\n",
    "    prog.wrap_in_numshots_loop(num_shots)\n",
    "\n",
    "    if use_compiler:\n",
    "        prog = qc.compiler.quil_to_native_quil(prog)\n",
    "\n",
    "    exe = qc.compiler.native_quil_to_executable(prog)\n",
    "    if memory_map is None:\n",
    "        shots = qc.run(exe)\n",
    "    else:\n",
    "        shots = qc.run(exe, memory_map=)\n",
    "    results[width][depth].append(shots)"
   ]
  },
  {
   "cell_type": "code",
   "execution_count": 42,
   "metadata": {},
   "outputs": [],
   "source": [
    "from pyquil.paulis import sI, PauliTerm\n",
    "from pyquil.quil import merge_programs\n",
    "from forest.benchmarking.compilation import basic_compile\n",
    "\n",
    "def pauli_prog_to_pauli_term(prog):\n",
    "    pauli = sI()\n",
    "    for gate in prog:\n",
    "        pauli *= PauliTerm(gate.name, gate.qubits[0].index)\n",
    "    return pauli\n",
    "        \n",
    "def compute_conjugated_pauli(sequence, bm):\n",
    "    \"\"\"\n",
    "    Assumes sequence is like P C P C ... C P C^t ... C^t P C^t P\n",
    "    \"\"\"\n",
    "    assert len(sequence) % 2 == 1\n",
    "    middle_idx = len(sequence)//2\n",
    "    first_half = sequence[:middle_idx]\n",
    "    init_pauli = sequence[middle_idx]\n",
    "    last_half = sequence[middle_idx + 1:]\n",
    "    \n",
    "    pauli = pauli_prog_to_pauli_term(init_pauli)\n",
    "    for idx, (left, right) in enumerate(zip(reversed(first_half), last_half)):\n",
    "        if idx % 2 == 0:\n",
    "            # bm returns the operator CPC^t, where C^t is applied first. \n",
    "            # Since in our situation C (i.e. `left`) is applied first, we want to conjugate by C^t\n",
    "            pauli = bm.apply_clifford_to_pauli(right, pauli)\n",
    "        else:\n",
    "            pauli = pauli_prog_to_pauli_term(right) * pauli *  pauli_prog_to_pauli_term(left)\n",
    "    return pauli.program\n",
    "\n",
    "def get_append_conjugated_pauli_transform(bm):\n",
    "    def transform(sequence, **kwargs):\n",
    "        return sequence + [compute_conjugated_pauli(sequence, bm)]\n",
    "    return transform\n",
    "\n",
    "def basic_compile_sequence(sequence, **kwargs):\n",
    "    merged = merge_programs(sequence)\n",
    "    return [basic_compile(merged)]\n",
    "\n",
    "clifford_pauli_randomized = get_rand_2q_cliff_template(bm)\n",
    "clifford_pauli_randomized.sequence_transforms.append(dagger_sequence)\n",
    "clifford_pauli_randomized.sequence_transforms.append(pauli_frame_randomize_sequence)\n",
    "clifford_pauli_randomized.sequence_transforms.append(get_append_conjugated_pauli_transform(bm))\n",
    "clifford_pauli_randomized.sequence_transforms.append(basic_compile_sequence)"
   ]
  },
  {
   "cell_type": "code",
   "execution_count": 43,
   "metadata": {},
   "outputs": [],
   "source": [
    "widths = [2,3,4]\n",
    "depths = [2,3,4]\n",
    "dimensions = {w: [d for d in depths] for w in widths}\n",
    "num_shots = 250\n",
    "num_ckt_samples = 100\n",
    "ckt_family = clifford_pauli_randomized\n",
    "\n",
    "prog_array = generate_volumetric_program_array(noisy_qc, ckt_family, dimensions, num_circuit_samples=num_ckt_samples)"
   ]
  },
  {
   "cell_type": "code",
   "execution_count": 50,
   "metadata": {},
   "outputs": [
    {
     "name": "stdout",
     "output_type": "stream",
     "text": [
      "{2: {2: [array([[0., 0.]]), array([[0., 0.]]), array([[0., 0.]]), array([[0., 0.]]), array([[0., 0.]]), array([[0., 0.]]), array([[0., 0.]]), array([[0., 0.]]), array([[0., 0.]]), array([[0., 0.]]), array([[0., 0.]]), array([[0., 0.]]), array([[0., 0.]]), array([[0., 0.]]), array([[0., 0.]]), array([[0., 0.]]), array([[0., 0.]]), array([[0., 0.]]), array([[0., 0.]]), array([[0., 0.]]), array([[0., 0.]]), array([[0., 0.]]), array([[0., 0.]]), array([[0., 0.]]), array([[0., 0.]]), array([[0., 0.]]), array([[0., 0.]]), array([[0., 0.]]), array([[0., 0.]]), array([[0., 0.]]), array([[0., 0.]]), array([[0., 0.]]), array([[0., 0.]]), array([[0., 0.]]), array([[0., 0.]]), array([[0., 0.]]), array([[0., 0.]]), array([[0., 0.]]), array([[0., 0.]]), array([[0., 0.]]), array([[0., 0.]]), array([[0., 0.]]), array([[0., 0.]]), array([[0., 0.]]), array([[0., 0.]]), array([[0., 0.]]), array([[0., 0.]]), array([[0., 0.]]), array([[0., 0.]]), array([[0., 0.]]), array([[0., 0.]]), array([[0., 0.]]), array([[0., 0.]]), array([[0., 0.]]), array([[0., 0.]]), array([[0., 0.]]), array([[0., 0.]]), array([[0., 0.]]), array([[0., 0.]]), array([[0., 0.]]), array([[0., 0.]]), array([[0., 0.]]), array([[0., 0.]]), array([[0., 0.]]), array([[0., 0.]]), array([[0., 0.]]), array([[0., 0.]]), array([[0., 0.]]), array([[0., 0.]]), array([[0., 0.]]), array([[0., 0.]]), array([[0., 0.]]), array([[0., 0.]]), array([[0., 0.]]), array([[0., 0.]]), array([[0., 0.]]), array([[0., 0.]]), array([[0., 0.]]), array([[0., 0.]]), array([[0., 0.]]), array([[0., 0.]]), array([[0., 0.]]), array([[0., 0.]]), array([[0., 0.]]), array([[0., 0.]]), array([[0., 0.]]), array([[0., 0.]]), array([[0., 0.]]), array([[0., 0.]]), array([[0., 0.]]), array([[0., 0.]]), array([[0., 0.]]), array([[0., 0.]]), array([[0., 0.]]), array([[0., 0.]]), array([[0., 0.]]), array([[0., 0.]]), array([[0., 0.]]), array([[0., 0.]]), array([[0., 0.]])], 3: [array([[0., 0.]]), array([[0., 0.]]), array([[0., 0.]]), array([[0., 0.]]), array([[0., 0.]]), array([[0., 0.]]), array([[0., 0.]]), array([[0., 0.]]), array([[0., 0.]]), array([[0., 0.]]), array([[0., 0.]]), array([[0., 0.]]), array([[0., 0.]]), array([[0., 0.]]), array([[0., 0.]]), array([[0., 0.]]), array([[0., 0.]]), array([[0., 0.]]), array([[0., 0.]]), array([[0., 0.]]), array([[0., 0.]]), array([[0., 0.]]), array([[0., 0.]]), array([[0., 0.]]), array([[0., 0.]]), array([[0., 0.]]), array([[0., 0.]]), array([[0., 0.]]), array([[0., 0.]]), array([[0., 0.]]), array([[0., 0.]]), array([[0., 0.]]), array([[0., 0.]]), array([[0., 0.]]), array([[0., 0.]]), array([[0., 0.]]), array([[0., 0.]]), array([[0., 0.]]), array([[0., 0.]]), array([[0., 0.]]), array([[0., 0.]]), array([[0., 0.]]), array([[0., 0.]]), array([[0., 0.]]), array([[0., 0.]]), array([[0., 0.]]), array([[0., 0.]]), array([[0., 0.]]), array([[0., 0.]]), array([[0., 0.]]), array([[0., 0.]]), array([[0., 0.]]), array([[0., 0.]]), array([[0., 0.]]), array([[0., 0.]]), array([[0., 0.]]), array([[0., 0.]]), array([[0., 0.]]), array([[0., 0.]]), array([[0., 0.]]), array([[0., 0.]]), array([[0., 0.]]), array([[0., 0.]]), array([[0., 0.]]), array([[0., 0.]]), array([[0., 0.]]), array([[0., 0.]]), array([[0., 0.]]), array([[0., 0.]]), array([[0., 0.]]), array([[0., 0.]]), array([[0., 0.]]), array([[0., 0.]]), array([[0., 0.]]), array([[0., 0.]]), array([[0., 0.]]), array([[0., 0.]]), array([[0., 0.]]), array([[0., 0.]]), array([[0., 0.]]), array([[0., 0.]]), array([[0., 0.]]), array([[0., 0.]]), array([[0., 0.]]), array([[0., 0.]]), array([[0., 0.]]), array([[0., 0.]]), array([[0., 0.]]), array([[0., 0.]]), array([[0., 0.]]), array([[0., 0.]]), array([[0., 0.]]), array([[0., 0.]]), array([[0., 0.]]), array([[0., 0.]]), array([[0., 0.]]), array([[0., 0.]]), array([[0., 0.]]), array([[0., 0.]]), array([[0., 0.]])], 4: [array([[0., 0.]]), array([[0., 0.]]), array([[0., 0.]]), array([[0., 0.]]), array([[0., 0.]]), array([[0., 0.]]), array([[0., 0.]]), array([[0., 0.]]), array([[0., 0.]]), array([[0., 0.]]), array([[0., 0.]]), array([[0., 0.]]), array([[0., 0.]]), array([[0., 0.]]), array([[0., 0.]]), array([[0., 0.]]), array([[0., 0.]]), array([[0., 0.]]), array([[0., 0.]]), array([[0., 0.]]), array([[0., 0.]]), array([[0., 0.]]), array([[0., 0.]]), array([[0., 0.]]), array([[0., 0.]]), array([[0., 0.]]), array([[0., 0.]]), array([[0., 0.]]), array([[0., 0.]]), array([[0., 0.]]), array([[0., 0.]]), array([[0., 0.]]), array([[0., 0.]]), array([[0., 0.]]), array([[0., 0.]]), array([[0., 0.]]), array([[0., 0.]]), array([[0., 0.]]), array([[0., 0.]]), array([[0., 0.]]), array([[0., 0.]]), array([[0., 0.]]), array([[0., 0.]]), array([[0., 0.]]), array([[0., 0.]]), array([[0., 0.]]), array([[0., 0.]]), array([[0., 0.]]), array([[0., 0.]]), array([[0., 0.]]), array([[0., 0.]]), array([[0., 0.]]), array([[0., 0.]]), array([[0., 0.]]), array([[0., 0.]]), array([[0., 0.]]), array([[0., 0.]]), array([[0., 0.]]), array([[0., 0.]]), array([[0., 0.]]), array([[0., 0.]]), array([[0., 0.]]), array([[0., 0.]]), array([[0., 0.]]), array([[0., 0.]]), array([[0., 0.]]), array([[0., 0.]]), array([[0., 0.]]), array([[0., 0.]]), array([[0., 0.]]), array([[0., 0.]]), array([[0., 0.]]), array([[0., 0.]]), array([[0., 0.]]), array([[0., 0.]]), array([[0., 0.]]), array([[0., 0.]]), array([[0., 0.]]), array([[0., 0.]]), array([[0., 0.]]), array([[0., 0.]]), array([[0., 0.]]), array([[0., 0.]]), array([[0., 0.]]), array([[0., 0.]]), array([[0., 0.]]), array([[0., 0.]]), array([[0., 0.]]), array([[0., 0.]]), array([[0., 0.]]), array([[0., 0.]]), array([[0., 0.]]), array([[0., 0.]]), array([[0., 0.]]), array([[0., 0.]]), array([[0., 0.]]), array([[0., 0.]]), array([[0., 0.]]), array([[0., 0.]]), array([[0., 0.]])]}, 3: {2: [array([[0., 0., 0.]]), array([[0., 0., 0.]]), array([[0., 0., 0.]]), array([[0., 0., 0.]]), array([[0., 0., 0.]]), array([[0., 0., 0.]]), array([[0., 0., 0.]]), array([[0., 0., 0.]]), array([[0., 0., 0.]]), array([[0., 0., 0.]]), array([[0., 0., 0.]]), array([[0., 0., 0.]]), array([[0., 0., 0.]]), array([[0., 0., 0.]]), array([[0., 0., 0.]]), array([[0., 0., 0.]]), array([[0., 0., 0.]]), array([[0., 0., 0.]]), array([[0., 0., 0.]]), array([[0., 0., 0.]]), array([[0., 0., 0.]]), array([[0., 0., 0.]]), array([[0., 0., 0.]]), array([[0., 0., 0.]]), array([[0., 0., 0.]]), array([[0., 0., 0.]]), array([[0., 0., 0.]]), array([[0., 0., 0.]]), array([[0., 0., 0.]]), array([[0., 0., 0.]]), array([[0., 0., 0.]]), array([[0., 0., 0.]]), array([[0., 0., 0.]]), array([[0., 0., 0.]]), array([[0., 0., 0.]]), array([[0., 0., 0.]]), array([[0., 0., 0.]]), array([[0., 0., 0.]]), array([[0., 0., 0.]]), array([[0., 0., 0.]]), array([[0., 0., 0.]]), array([[0., 0., 0.]]), array([[0., 0., 0.]]), array([[0., 0., 0.]]), array([[0., 0., 0.]]), array([[0., 0., 0.]]), array([[0., 0., 0.]]), array([[0., 0., 0.]]), array([[0., 0., 0.]]), array([[0., 0., 0.]]), array([[0., 0., 0.]]), array([[0., 0., 0.]]), array([[0., 0., 0.]]), array([[0., 0., 0.]]), array([[0., 0., 0.]]), array([[0., 0., 0.]]), array([[0., 0., 0.]]), array([[0., 0., 0.]]), array([[0., 0., 0.]]), array([[0., 0., 0.]]), array([[0., 0., 0.]]), array([[0., 0., 0.]]), array([[0., 0., 0.]]), array([[0., 0., 0.]]), array([[0., 0., 0.]]), array([[0., 0., 0.]]), array([[0., 0., 0.]]), array([[0., 0., 0.]]), array([[0., 0., 0.]]), array([[0., 0., 0.]]), array([[0., 0., 0.]]), array([[0., 0., 0.]]), array([[0., 0., 0.]]), array([[0., 0., 0.]]), array([[0., 0., 0.]]), array([[0., 0., 0.]]), array([[0., 0., 0.]]), array([[0., 0., 0.]]), array([[0., 0., 0.]]), array([[0., 0., 0.]]), array([[0., 0., 0.]]), array([[0., 0., 0.]]), array([[0., 0., 0.]]), array([[0., 0., 0.]]), array([[0., 0., 0.]]), array([[0., 0., 0.]]), array([[0., 0., 0.]]), array([[0., 0., 0.]]), array([[0., 0., 0.]]), array([[0., 0., 0.]]), array([[0., 0., 0.]]), array([[0., 0., 0.]]), array([[0., 0., 0.]]), array([[0., 0., 0.]]), array([[0., 0., 0.]]), array([[0., 0., 0.]]), array([[0., 0., 0.]]), array([[0., 0., 0.]]), array([[0., 0., 0.]]), array([[0., 0., 0.]])], 3: [array([[0., 0., 0.]]), array([[0., 0., 0.]]), array([[0., 0., 0.]]), array([[0., 0., 0.]]), array([[0., 0., 0.]]), array([[0., 0., 0.]]), array([[0., 0., 0.]]), array([[0., 0., 0.]]), array([[0., 0., 0.]]), array([[0., 0., 0.]]), array([[0., 0., 0.]]), array([[0., 0., 0.]]), array([[0., 0., 0.]]), array([[0., 0., 0.]]), array([[0., 0., 0.]]), array([[0., 0., 0.]]), array([[0., 0., 0.]]), array([[0., 0., 0.]]), array([[0., 0., 0.]]), array([[0., 0., 0.]]), array([[0., 0., 0.]]), array([[0., 0., 0.]]), array([[0., 0., 0.]]), array([[0., 0., 0.]]), array([[0., 0., 0.]]), array([[0., 0., 0.]]), array([[0., 0., 0.]]), array([[0., 0., 0.]]), array([[0., 0., 0.]]), array([[0., 0., 0.]]), array([[0., 0., 0.]]), array([[0., 0., 0.]]), array([[0., 0., 0.]]), array([[0., 0., 0.]]), array([[0., 0., 0.]]), array([[0., 0., 0.]]), array([[0., 0., 0.]]), array([[0., 0., 0.]]), array([[0., 0., 0.]]), array([[0., 0., 0.]]), array([[0., 0., 0.]]), array([[0., 0., 0.]]), array([[0., 0., 0.]]), array([[0., 0., 0.]]), array([[0., 0., 0.]]), array([[0., 0., 0.]]), array([[0., 0., 0.]]), array([[0., 0., 0.]]), array([[0., 0., 0.]]), array([[0., 0., 0.]]), array([[0., 0., 0.]]), array([[0., 0., 0.]]), array([[0., 0., 0.]]), array([[0., 0., 0.]]), array([[0., 0., 0.]]), array([[0., 0., 0.]]), array([[0., 0., 0.]]), array([[0., 0., 0.]]), array([[0., 0., 0.]]), array([[0., 0., 0.]]), array([[0., 0., 0.]]), array([[0., 0., 0.]]), array([[0., 0., 0.]]), array([[0., 0., 0.]]), array([[0., 0., 0.]]), array([[0., 0., 0.]]), array([[0., 0., 0.]]), array([[0., 0., 0.]]), array([[0., 0., 0.]]), array([[0., 0., 0.]]), array([[0., 0., 0.]]), array([[0., 0., 0.]]), array([[0., 0., 0.]]), array([[0., 0., 0.]]), array([[0., 0., 0.]]), array([[0., 0., 0.]]), array([[0., 0., 0.]]), array([[0., 0., 0.]]), array([[0., 0., 0.]]), array([[0., 0., 0.]]), array([[0., 0., 0.]]), array([[0., 0., 0.]]), array([[0., 0., 0.]]), array([[0., 0., 0.]]), array([[0., 0., 0.]]), array([[0., 0., 0.]]), array([[0., 0., 0.]]), array([[0., 0., 0.]]), array([[0., 0., 0.]]), array([[0., 0., 0.]]), array([[0., 0., 0.]]), array([[0., 0., 0.]]), array([[0., 0., 0.]]), array([[0., 0., 0.]]), array([[0., 0., 0.]]), array([[0., 0., 0.]]), array([[0., 0., 0.]]), array([[0., 0., 0.]]), array([[0., 0., 0.]]), array([[0., 0., 0.]])], 4: [array([[0., 0., 0.]]), array([[0., 0., 0.]]), array([[0., 0., 0.]]), array([[0., 0., 0.]]), array([[0., 0., 0.]]), array([[0., 0., 0.]]), array([[0., 0., 0.]]), array([[0., 0., 0.]]), array([[0., 0., 0.]]), array([[0., 0., 0.]]), array([[0., 0., 0.]]), array([[0., 0., 0.]]), array([[0., 0., 0.]]), array([[0., 0., 0.]]), array([[0., 0., 0.]]), array([[0., 0., 0.]]), array([[0., 0., 0.]]), array([[0., 0., 0.]]), array([[0., 0., 0.]]), array([[0., 0., 0.]]), array([[0., 0., 0.]]), array([[0., 0., 0.]]), array([[0., 0., 0.]]), array([[0., 0., 0.]]), array([[0., 0., 0.]]), array([[0., 0., 0.]]), array([[0., 0., 0.]]), array([[0., 0., 0.]]), array([[0., 0., 0.]]), array([[0., 0., 0.]]), array([[0., 0., 0.]]), array([[0., 0., 0.]]), array([[0., 0., 0.]]), array([[0., 0., 0.]]), array([[0., 0., 0.]]), array([[0., 0., 0.]]), array([[0., 0., 0.]]), array([[0., 0., 0.]]), array([[0., 0., 0.]]), array([[0., 0., 0.]]), array([[0., 0., 0.]]), array([[0., 0., 0.]]), array([[0., 0., 0.]]), array([[0., 0., 0.]]), array([[0., 0., 0.]]), array([[0., 0., 0.]]), array([[0., 0., 0.]]), array([[0., 0., 0.]]), array([[0., 0., 0.]]), array([[0., 0., 0.]]), array([[0., 0., 0.]]), array([[0., 0., 0.]]), array([[0., 0., 0.]]), array([[0., 0., 0.]]), array([[0., 0., 0.]]), array([[0., 0., 0.]]), array([[0., 0., 0.]]), array([[0., 0., 0.]]), array([[0., 0., 0.]]), array([[0., 0., 0.]]), array([[0., 0., 0.]]), array([[0., 0., 0.]]), array([[0., 0., 0.]]), array([[0., 0., 0.]]), array([[0., 0., 0.]]), array([[0., 0., 0.]]), array([[0., 0., 0.]]), array([[0., 0., 0.]]), array([[0., 0., 0.]]), array([[0., 0., 0.]]), array([[0., 0., 0.]]), array([[0., 0., 0.]]), array([[0., 0., 0.]]), array([[0., 0., 0.]]), array([[0., 0., 0.]]), array([[0., 0., 0.]]), array([[0., 0., 0.]]), array([[0., 0., 0.]]), array([[0., 0., 0.]]), array([[0., 0., 0.]]), array([[0., 0., 0.]]), array([[0., 0., 0.]]), array([[0., 0., 0.]]), array([[0., 0., 0.]]), array([[0., 0., 0.]]), array([[0., 0., 0.]]), array([[0., 0., 0.]]), array([[0., 0., 0.]]), array([[0., 0., 0.]]), array([[0., 0., 0.]]), array([[0., 0., 0.]]), array([[0., 0., 0.]]), array([[0., 0., 0.]]), array([[0., 0., 0.]]), array([[0., 0., 0.]]), array([[0., 0., 0.]]), array([[0., 0., 0.]]), array([[0., 0., 0.]]), array([[0., 0., 0.]]), array([[0., 0., 0.]])]}, 4: {2: [array([[0., 0., 0., 0.]]), array([[0., 0., 0., 0.]]), array([[0., 0., 0., 0.]]), array([[0., 0., 0., 0.]]), array([[0., 0., 0., 0.]]), array([[0., 0., 0., 0.]]), array([[0., 0., 0., 0.]]), array([[0., 0., 0., 0.]]), array([[0., 0., 0., 0.]]), array([[0., 0., 0., 0.]]), array([[0., 0., 0., 0.]]), array([[0., 0., 0., 0.]]), array([[0., 0., 0., 0.]]), array([[0., 0., 0., 0.]]), array([[0., 0., 0., 0.]]), array([[0., 0., 0., 0.]]), array([[0., 0., 0., 0.]]), array([[0., 0., 0., 0.]]), array([[0., 0., 0., 0.]]), array([[0., 0., 0., 0.]]), array([[0., 0., 0., 0.]]), array([[0., 0., 0., 0.]]), array([[0., 0., 0., 0.]]), array([[0., 0., 0., 0.]]), array([[0., 0., 0., 0.]]), array([[0., 0., 0., 0.]]), array([[0., 0., 0., 0.]]), array([[0., 0., 0., 0.]]), array([[0., 0., 0., 0.]]), array([[0., 0., 0., 0.]]), array([[0., 0., 0., 0.]]), array([[0., 0., 0., 0.]]), array([[0., 0., 0., 0.]]), array([[0., 0., 0., 0.]]), array([[0., 0., 0., 0.]]), array([[0., 0., 0., 0.]]), array([[0., 0., 0., 0.]]), array([[0., 0., 0., 0.]]), array([[0., 0., 0., 0.]]), array([[0., 0., 0., 0.]]), array([[0., 0., 0., 0.]]), array([[0., 0., 0., 0.]]), array([[0., 0., 0., 0.]]), array([[0., 0., 0., 0.]]), array([[0., 0., 0., 0.]]), array([[0., 0., 0., 0.]]), array([[0., 0., 0., 0.]]), array([[0., 0., 0., 0.]]), array([[0., 0., 0., 0.]]), array([[0., 0., 0., 0.]]), array([[0., 0., 0., 0.]]), array([[0., 0., 0., 0.]]), array([[0., 0., 0., 0.]]), array([[0., 0., 0., 0.]]), array([[0., 0., 0., 0.]]), array([[0., 0., 0., 0.]]), array([[0., 0., 0., 0.]]), array([[0., 0., 0., 0.]]), array([[0., 0., 0., 0.]]), array([[0., 0., 0., 0.]]), array([[0., 0., 0., 0.]]), array([[0., 0., 0., 0.]]), array([[0., 0., 0., 0.]]), array([[0., 0., 0., 0.]]), array([[0., 0., 0., 0.]]), array([[0., 0., 0., 0.]]), array([[0., 0., 0., 0.]]), array([[0., 0., 0., 0.]]), array([[0., 0., 0., 0.]]), array([[0., 0., 0., 0.]]), array([[0., 0., 0., 0.]]), array([[0., 0., 0., 0.]]), array([[0., 0., 0., 0.]]), array([[0., 0., 0., 0.]]), array([[0., 0., 0., 0.]]), array([[0., 0., 0., 0.]]), array([[0., 0., 0., 0.]]), array([[0., 0., 0., 0.]]), array([[0., 0., 0., 0.]]), array([[0., 0., 0., 0.]]), array([[0., 0., 0., 0.]]), array([[0., 0., 0., 0.]]), array([[0., 0., 0., 0.]]), array([[0., 0., 0., 0.]]), array([[0., 0., 0., 0.]]), array([[0., 0., 0., 0.]]), array([[0., 0., 0., 0.]]), array([[0., 0., 0., 0.]]), array([[0., 0., 0., 0.]]), array([[0., 0., 0., 0.]]), array([[0., 0., 0., 0.]]), array([[0., 0., 0., 0.]]), array([[0., 0., 0., 0.]]), array([[0., 0., 0., 0.]]), array([[0., 0., 0., 0.]]), array([[0., 0., 0., 0.]]), array([[0., 0., 0., 0.]]), array([[0., 0., 0., 0.]]), array([[0., 0., 0., 0.]]), array([[0., 0., 0., 0.]])], 3: [array([[0., 0., 0., 0.]]), array([[0., 0., 0., 0.]]), array([[0., 0., 0., 0.]]), array([[0., 0., 0., 0.]]), array([[0., 0., 0., 0.]]), array([[0., 0., 0., 0.]]), array([[0., 0., 0., 0.]]), array([[0., 0., 0., 0.]]), array([[0., 0., 0., 0.]]), array([[0., 0., 0., 0.]]), array([[0., 0., 0., 0.]]), array([[0., 0., 0., 0.]]), array([[0., 0., 0., 0.]]), array([[0., 0., 0., 0.]]), array([[0., 0., 0., 0.]]), array([[0., 0., 0., 0.]]), array([[0., 0., 0., 0.]]), array([[0., 0., 0., 0.]]), array([[0., 0., 0., 0.]]), array([[0., 0., 0., 0.]]), array([[0., 0., 0., 0.]]), array([[0., 0., 0., 0.]]), array([[0., 0., 0., 0.]]), array([[0., 0., 0., 0.]]), array([[0., 0., 0., 0.]]), array([[0., 0., 0., 0.]]), array([[0., 0., 0., 0.]]), array([[0., 0., 0., 0.]]), array([[0., 0., 0., 0.]]), array([[0., 0., 0., 0.]]), array([[0., 0., 0., 0.]]), array([[0., 0., 0., 0.]]), array([[0., 0., 0., 0.]]), array([[0., 0., 0., 0.]]), array([[0., 0., 0., 0.]]), array([[0., 0., 0., 0.]]), array([[0., 0., 0., 0.]]), array([[0., 0., 0., 0.]]), array([[0., 0., 0., 0.]]), array([[0., 0., 0., 0.]]), array([[0., 0., 0., 0.]]), array([[0., 0., 0., 0.]]), array([[0., 0., 0., 0.]]), array([[0., 0., 0., 0.]]), array([[0., 0., 0., 0.]]), array([[0., 0., 0., 0.]]), array([[0., 0., 0., 0.]]), array([[0., 0., 0., 0.]]), array([[0., 0., 0., 0.]]), array([[0., 0., 0., 0.]]), array([[0., 0., 0., 0.]]), array([[0., 0., 0., 0.]]), array([[0., 0., 0., 0.]]), array([[0., 0., 0., 0.]]), array([[0., 0., 0., 0.]]), array([[0., 0., 0., 0.]]), array([[0., 0., 0., 0.]]), array([[0., 0., 0., 0.]]), array([[0., 0., 0., 0.]]), array([[0., 0., 0., 0.]]), array([[0., 0., 0., 0.]]), array([[0., 0., 0., 0.]]), array([[0., 0., 0., 0.]]), array([[0., 0., 0., 0.]]), array([[0., 0., 0., 0.]]), array([[0., 0., 0., 0.]]), array([[0., 0., 0., 0.]]), array([[0., 0., 0., 0.]]), array([[0., 0., 0., 0.]]), array([[0., 0., 0., 0.]]), array([[0., 0., 0., 0.]]), array([[0., 0., 0., 0.]]), array([[0., 0., 0., 0.]]), array([[0., 0., 0., 0.]]), array([[0., 0., 0., 0.]]), array([[0., 0., 0., 0.]]), array([[0., 0., 0., 0.]]), array([[0., 0., 0., 0.]]), array([[0., 0., 0., 0.]]), array([[0., 0., 0., 0.]]), array([[0., 0., 0., 0.]]), array([[0., 0., 0., 0.]]), array([[0., 0., 0., 0.]]), array([[0., 0., 0., 0.]]), array([[0., 0., 0., 0.]]), array([[0., 0., 0., 0.]]), array([[0., 0., 0., 0.]]), array([[0., 0., 0., 0.]]), array([[0., 0., 0., 0.]]), array([[0., 0., 0., 0.]]), array([[0., 0., 0., 0.]]), array([[0., 0., 0., 0.]]), array([[0., 0., 0., 0.]]), array([[0., 0., 0., 0.]]), array([[0., 0., 0., 0.]]), array([[0., 0., 0., 0.]]), array([[0., 0., 0., 0.]]), array([[0., 0., 0., 0.]]), array([[0., 0., 0., 0.]]), array([[0., 0., 0., 0.]])], 4: [array([[0., 0., 0., 0.]]), array([[0., 0., 0., 0.]]), array([[0., 0., 0., 0.]]), array([[0., 0., 0., 0.]]), array([[0., 0., 0., 0.]]), array([[0., 0., 0., 0.]]), array([[0., 0., 0., 0.]]), array([[0., 0., 0., 0.]]), array([[0., 0., 0., 0.]]), array([[0., 0., 0., 0.]]), array([[0., 0., 0., 0.]]), array([[0., 0., 0., 0.]]), array([[0., 0., 0., 0.]]), array([[0., 0., 0., 0.]]), array([[0., 0., 0., 0.]]), array([[0., 0., 0., 0.]]), array([[0., 0., 0., 0.]]), array([[0., 0., 0., 0.]]), array([[0., 0., 0., 0.]]), array([[0., 0., 0., 0.]]), array([[0., 0., 0., 0.]]), array([[0., 0., 0., 0.]]), array([[0., 0., 0., 0.]]), array([[0., 0., 0., 0.]]), array([[0., 0., 0., 0.]]), array([[0., 0., 0., 0.]]), array([[0., 0., 0., 0.]]), array([[0., 0., 0., 0.]]), array([[0., 0., 0., 0.]]), array([[0., 0., 0., 0.]]), array([[0., 0., 0., 0.]]), array([[0., 0., 0., 0.]]), array([[0., 0., 0., 0.]]), array([[0., 0., 0., 0.]]), array([[0., 0., 0., 0.]]), array([[0., 0., 0., 0.]]), array([[0., 0., 0., 0.]]), array([[0., 0., 0., 0.]]), array([[0., 0., 0., 0.]]), array([[0., 0., 0., 0.]]), array([[0., 0., 0., 0.]]), array([[0., 0., 0., 0.]]), array([[0., 0., 0., 0.]]), array([[0., 0., 0., 0.]]), array([[0., 0., 0., 0.]]), array([[0., 0., 0., 0.]]), array([[0., 0., 0., 0.]]), array([[0., 0., 0., 0.]]), array([[0., 0., 0., 0.]]), array([[0., 0., 0., 0.]]), array([[0., 0., 0., 0.]]), array([[0., 0., 0., 0.]]), array([[0., 0., 0., 0.]]), array([[0., 0., 0., 0.]]), array([[0., 0., 0., 0.]]), array([[0., 0., 0., 0.]]), array([[0., 0., 0., 0.]]), array([[0., 0., 0., 0.]]), array([[0., 0., 0., 0.]]), array([[0., 0., 0., 0.]]), array([[0., 0., 0., 0.]]), array([[0., 0., 0., 0.]]), array([[0., 0., 0., 0.]]), array([[0., 0., 0., 0.]]), array([[0., 0., 0., 0.]]), array([[0., 0., 0., 0.]]), array([[0., 0., 0., 0.]]), array([[0., 0., 0., 0.]]), array([[0., 0., 0., 0.]]), array([[0., 0., 0., 0.]]), array([[0., 0., 0., 0.]]), array([[0., 0., 0., 0.]]), array([[0., 0., 0., 0.]]), array([[0., 0., 0., 0.]]), array([[0., 0., 0., 0.]]), array([[0., 0., 0., 0.]]), array([[0., 0., 0., 0.]]), array([[0., 0., 0., 0.]]), array([[0., 0., 0., 0.]]), array([[0., 0., 0., 0.]]), array([[0., 0., 0., 0.]]), array([[0., 0., 0., 0.]]), array([[0., 0., 0., 0.]]), array([[0., 0., 0., 0.]]), array([[0., 0., 0., 0.]]), array([[0., 0., 0., 0.]]), array([[0., 0., 0., 0.]]), array([[0., 0., 0., 0.]]), array([[0., 0., 0., 0.]]), array([[0., 0., 0., 0.]]), array([[0., 0., 0., 0.]]), array([[0., 0., 0., 0.]]), array([[0., 0., 0., 0.]]), array([[0., 0., 0., 0.]]), array([[0., 0., 0., 0.]]), array([[0., 0., 0., 0.]]), array([[0., 0., 0., 0.]]), array([[0., 0., 0., 0.]]), array([[0., 0., 0., 0.]]), array([[0., 0., 0., 0.]])]}}\n"
     ]
    }
   ],
   "source": [
    "ideal_data_array = {w: {d: [np.zeros((1,w)) for _ in range(num_ckt_samples)] for d in depths} for w, depths in prog_array.items()}"
   ]
  },
  {
   "cell_type": "code",
   "execution_count": 45,
   "metadata": {},
   "outputs": [],
   "source": [
    "from forest.benchmarking.compilation import basic_compile\n",
    "expt_data_array = acquire_volumetric_data(noisy_qc, \n",
    "                                          {w: \n",
    "                                           {d: \n",
    "                                            [basic_compile(prog) for prog in prog_list] \n",
    "                                            for d, prog_list in w_dict.items()}\n",
    "                                          for w, w_dict in prog_array.items()}, \n",
    "                                          num_shots=num_shots)"
   ]
  },
  {
   "cell_type": "code",
   "execution_count": 51,
   "metadata": {},
   "outputs": [
    {
     "data": {
      "text/plain": [
       "(<Figure size 216x216 with 1 Axes>,\n",
       " <matplotlib.axes._subplots.AxesSubplot at 0x7fa2115e30b8>)"
      ]
     },
     "execution_count": 51,
     "metadata": {},
     "output_type": "execute_result"
    },
    {
     "data": {
      "image/png": "[encoded data removed]",
      "text/plain": [
       "<Figure size 216x216 with 1 Axes>"
      ]
     },
     "metadata": {},
     "output_type": "display_data"
    }
   ],
   "source": [
    "succ_probs = get_single_target_success_probabilities(expt_data_array, ideal_data_array)\n",
    "threshold = 2/3 # this happens to be interesting for default qvm noise model\n",
    "successes = determine_successes(succ_probs, num_shots_per_ckt=num_shots, success_threshold=threshold)\n",
    "plot_success(successes, f'Confident > {threshold}')"
   ]
  },
  {
   "cell_type": "code",
   "execution_count": null,
   "metadata": {},
   "outputs": [],
   "source": []
  }
 ],
 "metadata": {
  "kernelspec": {
   "display_name": "Python 3",
   "language": "python",
   "name": "python3"
  },
  "language_info": {
   "codemirror_mode": {
    "name": "ipython",
    "version": 3
   },
   "file_extension": ".py",
   "mimetype": "text/x-python",
   "name": "python",
   "nbconvert_exporter": "python",
   "pygments_lexer": "ipython3",
   "version": "3.6.5"
  }
 },
 "nbformat": 4,
 "nbformat_minor": 2
}
