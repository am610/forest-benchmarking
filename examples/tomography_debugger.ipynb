{
 "cells": [
  {
   "cell_type": "markdown",
   "metadata": {},
   "source": [
    "# Tomography Debugger\n",
    "State tomography involves measuring a quantum state repeatedly in the bases given by `itertools.product(['X', 'Y', 'Z], repeat=n_qubits)`. From these measurements, we can reconstruct a density matrix $\\rho$ using a varaiety of methods described in forest.benchmarking.tomography under the heading \"state tomography\". This is all done automaticly in using the forest.benchmarking.tomography.tomographize function allowing it to be use effectivly as a quantum debugger."
   ]
  },
  {
   "cell_type": "code",
   "execution_count": 1,
   "metadata": {},
   "outputs": [],
   "source": [
    "import numpy as np\n",
    "import time\n",
    "\n",
    "from pyquil import Program, get_qc\n",
    "from pyquil.gates import *\n",
    "from forest.benchmarking.tomography import tomographize"
   ]
  },
  {
   "cell_type": "markdown",
   "metadata": {},
   "source": [
    "## Construct a state with a `Program`\n",
    "We'll construct a two-qubit graph state by Hadamarding all qubits and then applying a controlled-Z operation across edges of our graph. In the two-qubit case, there's only one edge. "
   ]
  },
  {
   "cell_type": "code",
   "execution_count": 2,
   "metadata": {},
   "outputs": [
    {
     "name": "stdout",
     "output_type": "stream",
     "text": [
      "H 0\n",
      "H 1\n",
      "CZ 0 1\n",
      "RY(-pi/2) 0\n",
      "X 1\n",
      "CNOT 1 0\n",
      "\n"
     ]
    }
   ],
   "source": [
    "qubits = [0, 1]\n",
    "\n",
    "program = Program()\n",
    "for qubit in qubits:\n",
    "    program += H(qubit)\n",
    "program += CZ(qubits[0], qubits[1])\n",
    "program += RY(-np.pi/2, qubits[0])\n",
    "program += X(qubits[1])\n",
    "program += CNOT(qubits[1], qubits[0])\n",
    "\n",
    "print(program)"
   ]
  },
  {
   "cell_type": "markdown",
   "metadata": {},
   "source": [
    "## Run the tomography debugger and print output"
   ]
  },
  {
   "cell_type": "code",
   "execution_count": 3,
   "metadata": {},
   "outputs": [
    {
     "name": "stdout",
     "output_type": "stream",
     "text": [
      "Linear tomography took 1.5077s\n",
      "Recovered density matrix:\n",
      "\n",
      "[[ 0.249-8.57061622e-18j  0.25 -7.50000000e-03j  0.003+1.30000000e-02j\n",
      "   0.012-5.00000000e-03j]\n",
      " [ 0.25 +7.50000000e-03j  0.251-1.42843604e-17j  0.005-5.00000000e-03j\n",
      "  -0.017-3.00000000e-03j]\n",
      " [ 0.003-1.30000000e-02j  0.005+5.00000000e-03j  0.249-2.85687207e-18j\n",
      "  -0.25 +7.50000000e-03j]\n",
      " [ 0.012+5.00000000e-03j -0.017+3.00000000e-03j -0.25 -7.50000000e-03j\n",
      "   0.251+2.85687207e-18j]]\n"
     ]
    },
    {
     "ename": "NameError",
     "evalue": "name 'm' is not defined",
     "output_type": "error",
     "traceback": [
      "\u001b[0;31m---------------------------------------------------------------------------\u001b[0m",
      "\u001b[0;31mNameError\u001b[0m                                 Traceback (most recent call last)",
      "\u001b[0;32m<ipython-input-3-883ee654d2de>\u001b[0m in \u001b[0;36m<module>\u001b[0;34m\u001b[0m\n\u001b[1;32m     12\u001b[0m \u001b[0;34m\u001b[0m\u001b[0m\n\u001b[1;32m     13\u001b[0m \u001b[0mstart_compressed\u001b[0m \u001b[0;34m=\u001b[0m \u001b[0mtime\u001b[0m\u001b[0;34m.\u001b[0m\u001b[0mtime\u001b[0m\u001b[0;34m(\u001b[0m\u001b[0;34m)\u001b[0m\u001b[0;34m\u001b[0m\u001b[0;34m\u001b[0m\u001b[0m\n\u001b[0;32m---> 14\u001b[0;31m \u001b[0mrho_compressed\u001b[0m \u001b[0;34m=\u001b[0m \u001b[0mtomographize\u001b[0m\u001b[0;34m(\u001b[0m\u001b[0mqc\u001b[0m\u001b[0;34m,\u001b[0m \u001b[0mprogram\u001b[0m\u001b[0;34m,\u001b[0m \u001b[0mqubits\u001b[0m\u001b[0;34m,\u001b[0m \u001b[0mpauli_num\u001b[0m\u001b[0;34m=\u001b[0m\u001b[0;36m10\u001b[0m\u001b[0;34m,\u001b[0m \u001b[0mt_type\u001b[0m\u001b[0;34m=\u001b[0m\u001b[0;34m\"compressed_sensing\"\u001b[0m\u001b[0;34m)\u001b[0m\u001b[0;34m\u001b[0m\u001b[0;34m\u001b[0m\u001b[0m\n\u001b[0m\u001b[1;32m     15\u001b[0m \u001b[0mend_compressed\u001b[0m \u001b[0;34m=\u001b[0m \u001b[0mtime\u001b[0m\u001b[0;34m.\u001b[0m\u001b[0mtime\u001b[0m\u001b[0;34m(\u001b[0m\u001b[0;34m)\u001b[0m \u001b[0;34m-\u001b[0m \u001b[0mstart_compressed\u001b[0m\u001b[0;34m\u001b[0m\u001b[0;34m\u001b[0m\u001b[0m\n\u001b[1;32m     16\u001b[0m \u001b[0mprint\u001b[0m\u001b[0;34m(\u001b[0m\u001b[0;34m\"Compressed tomography took %gs\"\u001b[0m \u001b[0;34m%\u001b[0m \u001b[0mend_compressed\u001b[0m\u001b[0;34m)\u001b[0m\u001b[0;34m\u001b[0m\u001b[0;34m\u001b[0m\u001b[0m\n",
      "\u001b[0;32m~/forest-benchmarking/forest/benchmarking/tomography.py\u001b[0m in \u001b[0;36mtomographize\u001b[0;34m(qc, program, qubits, num_shots, t_type, pauli_num)\u001b[0m\n\u001b[1;32m    747\u001b[0m \u001b[0;34m\u001b[0m\u001b[0m\n\u001b[1;32m    748\u001b[0m     \u001b[0;32mif\u001b[0m \u001b[0mt_type\u001b[0m \u001b[0;34m==\u001b[0m \u001b[0;34m'compressed_sensing'\u001b[0m\u001b[0;34m:\u001b[0m\u001b[0;34m\u001b[0m\u001b[0;34m\u001b[0m\u001b[0m\n\u001b[0;32m--> 749\u001b[0;31m         \u001b[0;32mreturn\u001b[0m \u001b[0mcompressed_sensing_state_estimate\u001b[0m\u001b[0;34m(\u001b[0m\u001b[0mresults\u001b[0m\u001b[0;34m=\u001b[0m\u001b[0mresults\u001b[0m\u001b[0;34m,\u001b[0m \u001b[0mqubits\u001b[0m\u001b[0;34m=\u001b[0m\u001b[0mqubits\u001b[0m\u001b[0;34m)\u001b[0m\u001b[0;34m\u001b[0m\u001b[0;34m\u001b[0m\u001b[0m\n\u001b[0m\u001b[1;32m    750\u001b[0m     \u001b[0;32melif\u001b[0m \u001b[0mt_type\u001b[0m \u001b[0;34m==\u001b[0m \u001b[0;34m'mle'\u001b[0m\u001b[0;34m:\u001b[0m\u001b[0;34m\u001b[0m\u001b[0;34m\u001b[0m\u001b[0m\n\u001b[1;32m    751\u001b[0m         \u001b[0;32mreturn\u001b[0m \u001b[0miterative_mle_state_estimate\u001b[0m\u001b[0;34m(\u001b[0m\u001b[0mresults\u001b[0m\u001b[0;34m=\u001b[0m\u001b[0mresults\u001b[0m\u001b[0;34m,\u001b[0m \u001b[0mqubits\u001b[0m\u001b[0;34m=\u001b[0m\u001b[0mqubits\u001b[0m\u001b[0;34m)\u001b[0m\u001b[0;34m\u001b[0m\u001b[0;34m\u001b[0m\u001b[0m\n",
      "\u001b[0;32m~/forest-benchmarking/forest/benchmarking/tomography.py\u001b[0m in \u001b[0;36mcompressed_sensing_state_estimate\u001b[0;34m(results, qubits)\u001b[0m\n\u001b[1;32m    182\u001b[0m     \u001b[0mpauli_list\u001b[0m \u001b[0;34m=\u001b[0m \u001b[0;34m[\u001b[0m\u001b[0;34m]\u001b[0m\u001b[0;34m\u001b[0m\u001b[0;34m\u001b[0m\u001b[0m\n\u001b[1;32m    183\u001b[0m     \u001b[0mexpectation_list\u001b[0m \u001b[0;34m=\u001b[0m \u001b[0;34m[\u001b[0m\u001b[0;34m]\u001b[0m\u001b[0;34m\u001b[0m\u001b[0;34m\u001b[0m\u001b[0m\n\u001b[0;32m--> 184\u001b[0;31m     \u001b[0my\u001b[0m \u001b[0;34m=\u001b[0m \u001b[0mnp\u001b[0m\u001b[0;34m.\u001b[0m\u001b[0mzeros\u001b[0m\u001b[0;34m(\u001b[0m\u001b[0;34m(\u001b[0m\u001b[0mm\u001b[0m\u001b[0;34m,\u001b[0m\u001b[0;36m1\u001b[0m\u001b[0;34m)\u001b[0m\u001b[0;34m)\u001b[0m\u001b[0;34m\u001b[0m\u001b[0;34m\u001b[0m\u001b[0m\n\u001b[0m\u001b[1;32m    185\u001b[0m \u001b[0;34m\u001b[0m\u001b[0m\n\u001b[1;32m    186\u001b[0m     \u001b[0;32mfor\u001b[0m \u001b[0mi\u001b[0m \u001b[0;32min\u001b[0m \u001b[0mrange\u001b[0m\u001b[0;34m(\u001b[0m\u001b[0mpauli_num\u001b[0m\u001b[0;34m)\u001b[0m\u001b[0;34m:\u001b[0m\u001b[0;34m\u001b[0m\u001b[0;34m\u001b[0m\u001b[0m\n",
      "\u001b[0;31mNameError\u001b[0m: name 'm' is not defined"
     ]
    }
   ],
   "source": [
    "qc = get_qc('%dq-qvm' % len(qubits))\n",
    "\n",
    "\n",
    "start_linear = time.time()\n",
    "m = 10\n",
    "rho_linear = tomographize(qc, program, qubits, pauli_num=10, t_type=\"linear_inv\")\n",
    "end_linear = time.time() - start_linear\n",
    "\n",
    "print(\"Linear tomography took %gs\" % end_linear)\n",
    "print(\"Recovered density matrix:\\n\")\n",
    "print(rho_linear)\n",
    "\n",
    "start_compressed = time.time()\n",
    "rho_compressed = tomographize(qc, program, qubits, pauli_num=10, t_type=\"compressed_sensing\")\n",
    "end_compressed = time.time() - start_compressed\n",
    "print(\"Compressed tomography took %gs\" % end_compressed)\n",
    "print(\"Recovered density matrix:\\n\")\n",
    "print(rho_compressed)\n",
    "\n",
    "start_lasso = time.time()\n",
    "rho_lasso = tomographize(qc, program, qubits, pauli_num=10, t_type=\"lasso\")\n",
    "end_lasso = time.time() - start_lasso\n",
    "print(\"Compressed tomography took %gs\" % end_lasso)\n",
    "print(\"Recovered density matrix:\\n\")\n",
    "print(rho_lasso)"
   ]
  },
  {
   "cell_type": "markdown",
   "metadata": {},
   "source": [
    "## Compare results to true output obtained using wavefunction simulator"
   ]
  },
  {
   "cell_type": "code",
   "execution_count": null,
   "metadata": {},
   "outputs": [],
   "source": [
    "from pyquil.api import WavefunctionSimulator\n",
    "wf_sim = WavefunctionSimulator()\n",
    "wf = wf_sim.wavefunction(program)\n",
    "psi = wf.amplitudes\n",
    "\n",
    "rho_true = np.outer(psi, psi.T.conj())\n",
    "print(np.around(rho_true, decimals=3))"
   ]
  },
  {
   "cell_type": "markdown",
   "metadata": {},
   "source": [
    "## Visualize using Hinton plots"
   ]
  },
  {
   "cell_type": "code",
   "execution_count": null,
   "metadata": {},
   "outputs": [],
   "source": [
    "from matplotlib import pyplot as plt\n",
    "from forest.benchmarking.plotting import hinton\n",
    "fig, (ax1, ax2, ax3) = plt.subplots(1, 3)\n",
    "hinton(rho_true, ax=ax1)\n",
    "hinton(rho_linear, ax=ax2)\n",
    "hinton(rho_compressed, ax=ax3)\n",
    "ax1.set_title('Analytical Linear')\n",
    "ax2.set_title('Estimated Linear')\n",
    "ax3.set_title('Estimated Compressed')\n",
    "fig.tight_layout()"
   ]
  },
  {
   "cell_type": "markdown",
   "metadata": {},
   "source": [
    "## Calculate matrix norm between true and estimated rho"
   ]
  },
  {
   "cell_type": "code",
   "execution_count": null,
   "metadata": {},
   "outputs": [],
   "source": [
    "print(\"Linear norm:\")\n",
    "print(np.linalg.norm(rho_linear - rho_true))\n",
    "print(\"Compressed norm:\")\n",
    "print(np.linalg.norm(rho_compressed - rho_true))\n",
    "print(\"Lasso norm:\")\n",
    "print(np.linalg.norm(rho_lasso - rho_true))"
   ]
  },
  {
   "cell_type": "markdown",
   "metadata": {},
   "source": [
    "## Plot graph of results for various measurement values"
   ]
  },
  {
   "cell_type": "code",
   "execution_count": null,
   "metadata": {},
   "outputs": [],
   "source": [
    "import matplotlib.pyplot as plt\n",
    "\n",
    "max_pauli_num = 4 ** len(qubits)\n",
    "num_trials = 5\n",
    "\n",
    "linear_norms = []\n",
    "compressed_norms = []\n",
    "\n",
    "print(\"Analyzing performance of linear vs. compressed on program:\")\n",
    "print(program)\n",
    "\n",
    "for i in range(1, max_pauli_num):\n",
    "    print(\"Running iteration %d/%d\" % (i, max_pauli_num))\n",
    "    linear_norm_mean = 0.0\n",
    "    compressed_norm_mean = 0.0\n",
    "    for j in range(num_trials):\n",
    "        rho_linear = tomographize(qc, program, qubits, pauli_num=i, t_type=\"linear_inv\")\n",
    "        rho_compressed = tomographize(qc, program, qubits, pauli_num=i, t_type=\"compressed_sensing\")\n",
    "        linear_norm_mean += np.linalg.norm(rho_linear - rho_true)\n",
    "        compressed_norm_mean += np.linalg.norm(rho_compressed - rho_true)\n",
    "    \n",
    "    linear_norm_mean /= num_trials\n",
    "    compressed_norm_mean /= num_trials\n",
    "    \n",
    "    linear_norms.append(linear_norm_mean)\n",
    "    compressed_norms.append(compressed_norm_mean)\n",
    "\n",
    "plt.plot(linear_norms, label='linear')\n",
    "plt.plot(compressed_norms, label='compressed')\n",
    "plt.legend()\n",
    "plt.show()"
   ]
  },
  {
   "cell_type": "code",
   "execution_count": null,
   "metadata": {},
   "outputs": [],
   "source": []
  }
 ],
 "metadata": {
  "kernelspec": {
   "display_name": "Python 3",
   "language": "python",
   "name": "python3"
  },
  "language_info": {
   "codemirror_mode": {
    "name": "ipython",
    "version": 3
   },
   "file_extension": ".py",
   "mimetype": "text/x-python",
   "name": "python",
   "nbconvert_exporter": "python",
   "pygments_lexer": "ipython3",
   "version": "3.7.3"
  }
 },
 "nbformat": 4,
 "nbformat_minor": 2
}
