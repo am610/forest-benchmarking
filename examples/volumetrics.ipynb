{
 "cells": [
  {
   "cell_type": "markdown",
   "metadata": {},
   "source": [
    "# Volumetrics\n",
    "\n",
    "\n",
    "This module that generates circuits on a graph which represents the QPU or QVM lattice. The basic idea is it will compute error rates of circuits as a function of depth and width.\n",
    "\n",
    "The `width` of the circuit is the number of connected vertices on a particular subgraph.\n",
    "\n",
    "The `depth` is defined in context-dependent way; to avoid confusion with circuit depth we may use the term 'repetitions'."
   ]
  },
  {
   "cell_type": "code",
   "execution_count": 5,
   "metadata": {},
   "outputs": [],
   "source": [
    "import random\n",
    "import itertools\n",
    "import networkx as nx\n",
    "import numpy as np\n",
    "import pandas as pd\n",
    "import time\n",
    "# from scipy.spatial.distance import hamming\n",
    "# import scipy.interpolate\n",
    "\n",
    "from matplotlib import pyplot as plt\n",
    "from pyquil.api import get_qc, QuantumComputer, get_benchmarker\n",
    "from pyquil.gates import CNOT, CCNOT, Z, X, I, H, CZ, MEASURE, RESET\n",
    "from pyquil.quilbase import Pragma\n",
    "\n",
    "from forest.benchmarking.volumetrics import *"
   ]
  },
  {
   "cell_type": "markdown",
   "metadata": {},
   "source": [
    "## Get lattice"
   ]
  },
  {
   "cell_type": "code",
   "execution_count": 6,
   "metadata": {},
   "outputs": [],
   "source": [
    "# if you want to run on a \"real lattice\"\n",
    "from pyquil import *\n",
    "#list_quantum_computers()\n",
    "#perfect_qc = get_qc(\"Aspen-1-16Q-A\", as_qvm=True, noisy=False)\n",
    "#noisy_qc = get_qc(\"Aspen-1-16Q-A\") #, as_qvm=True, noisy=True)\n",
    "\n",
    "noisy_qc = get_qc(\"9q-square-qvm\", as_qvm=True, noisy=True)\n",
    "perfect_qc = get_qc(\"9q-square-qvm\", as_qvm=True, noisy=False)"
   ]
  },
  {
   "cell_type": "code",
   "execution_count": 7,
   "metadata": {},
   "outputs": [
    {
     "name": "stderr",
     "output_type": "stream",
     "text": [
      "/home/kylegulshen/anaconda3/lib/python3.6/site-packages/networkx/drawing/nx_pylab.py:518: MatplotlibDeprecationWarning: \n",
      "The iterable function was deprecated in Matplotlib 3.1 and will be removed in 3.3. Use np.iterable instead.\n",
      "  if not cb.iterable(width):\n",
      "/home/kylegulshen/anaconda3/lib/python3.6/site-packages/networkx/drawing/nx_pylab.py:565: MatplotlibDeprecationWarning: \n",
      "The is_numlike function was deprecated in Matplotlib 3.0 and will be removed in 3.2. Use isinstance(..., numbers.Number) instead.\n",
      "  if cb.is_numlike(alpha):\n"
     ]
    },
    {
     "data": {
      "image/png": "[encoded data removed]",
      "text/plain": [
       "<Figure size 432x288 with 1 Axes>"
      ]
     },
     "metadata": {},
     "output_type": "display_data"
    }
   ],
   "source": [
    "nx.draw(perfect_qc.qubit_topology(),with_labels=True)"
   ]
  },
  {
   "cell_type": "code",
   "execution_count": 8,
   "metadata": {},
   "outputs": [],
   "source": [
    "G = perfect_qc.qubit_topology()"
   ]
  },
  {
   "cell_type": "markdown",
   "metadata": {},
   "source": [
    "## Gate sets\n",
    "\n",
    "### Classical"
   ]
  },
  {
   "cell_type": "code",
   "execution_count": 27,
   "metadata": {},
   "outputs": [],
   "source": [
    "def two_q_id(qb1,qb2):\n",
    "    prog = Program()\n",
    "    prog +=I(qb1)\n",
    "    prog +=I(qb2)\n",
    "    return prog\n",
    "\n",
    "one_c_gates = [X,I]\n",
    "two_c_gates = [two_q_id, CNOT]\n",
    "two_c_toffoli = two_c_gates + [CCNOT]\n",
    "\n",
    "# x basis gates\n",
    "from forest.benchmarking.classical_logic import CNOT_X_basis, CCNOT_X_basis\n",
    "one_x_c_gates = [Z, I]\n",
    "two_x_c_gates = [two_q_id, CNOT_X_basis]\n",
    "two_x_c_toffoli = two_x_c_gates + [CCNOT_X_basis]\n",
    "# if you want to do something in the X basis, add Hadamard layers appropriately; see below."
   ]
  },
  {
   "cell_type": "markdown",
   "metadata": {},
   "source": [
    "### Some quantum"
   ]
  },
  {
   "cell_type": "code",
   "execution_count": 10,
   "metadata": {},
   "outputs": [],
   "source": [
    "one_q_gates = [X,Z,I]\n",
    "two_q_gates = [two_q_id,CZ]"
   ]
  },
  {
   "cell_type": "markdown",
   "metadata": {},
   "source": [
    "### Random Cliffords\n",
    "\n",
    "We use a benchmarker for this. Typically we use the native gates from `get_rb_gateset` to implement each clifford."
   ]
  },
  {
   "cell_type": "code",
   "execution_count": 11,
   "metadata": {},
   "outputs": [],
   "source": [
    "from forest.benchmarking.randomized_benchmarking import get_rb_gateset"
   ]
  },
  {
   "cell_type": "code",
   "execution_count": 12,
   "metadata": {},
   "outputs": [],
   "source": [
    "# my config has gone all cattywampus so i need to do this\n",
    "bm = get_benchmarker()#endpoint='tcp://localhost:6000')"
   ]
  },
  {
   "cell_type": "code",
   "execution_count": 13,
   "metadata": {},
   "outputs": [
    {
     "data": {
      "text/plain": [
       "'tcp://127.0.0.1:5555'"
      ]
     },
     "execution_count": 13,
     "metadata": {},
     "output_type": "execute_result"
    }
   ],
   "source": [
    "bm.client.endpoint"
   ]
  },
  {
   "cell_type": "markdown",
   "metadata": {},
   "source": [
    "## Get random gates on a graph"
   ]
  },
  {
   "cell_type": "code",
   "execution_count": 14,
   "metadata": {},
   "outputs": [
    {
     "name": "stdout",
     "output_type": "stream",
     "text": [
      "X 0\n",
      "Z 1\n",
      "X 2\n",
      "Z 3\n",
      "I 4\n",
      "X 5\n",
      "Z 6\n",
      "Z 7\n",
      "X 8\n",
      "CZ 0 3\n",
      "CZ 0 1\n",
      "CZ 1 4\n",
      "I 1\n",
      "I 2\n",
      "I 2\n",
      "I 5\n",
      "CZ 3 6\n",
      "CZ 3 4\n",
      "I 4\n",
      "I 7\n",
      "I 4\n",
      "I 5\n",
      "CZ 5 8\n",
      "I 6\n",
      "I 7\n",
      "CZ 7 8\n",
      "\n"
     ]
    }
   ],
   "source": [
    "prog1 = random_single_qubit_gates(G, one_q_gates)\n",
    "prog2 = random_two_qubit_gates(G, two_q_gates)\n",
    "print(prog1+prog2)"
   ]
  },
  {
   "cell_type": "code",
   "execution_count": 15,
   "metadata": {},
   "outputs": [
    {
     "name": "stdout",
     "output_type": "stream",
     "text": [
      "RX(-pi/2) 0\n",
      "RZ(pi/2) 0\n",
      "RZ(-pi/2) 1\n",
      "RX(-pi) 1\n",
      "RZ(-pi) 2\n",
      "RZ(-pi) 2\n",
      "RX(-pi/2) 3\n",
      "RZ(-pi/2) 3\n",
      "RZ(-pi/2) 4\n",
      "RZ(pi/2) 5\n",
      "RZ(pi/2) 6\n",
      "RX(-pi/2) 6\n",
      "RX(pi/2) 7\n",
      "RZ(-pi/2) 7\n",
      "RX(pi/2) 8\n",
      "RZ(-pi) 8\n",
      "\n"
     ]
    }
   ],
   "source": [
    "progy = random_single_qubit_cliffords(bm, G)\n",
    "print(progy)"
   ]
  },
  {
   "cell_type": "markdown",
   "metadata": {},
   "source": [
    "## Make some circuit templates and sample programs from them\n"
   ]
  },
  {
   "cell_type": "code",
   "execution_count": 16,
   "metadata": {},
   "outputs": [
    {
     "name": "stdout",
     "output_type": "stream",
     "text": [
      "X 3\n",
      "I 6\n",
      "I 3\n",
      "I 6\n",
      "\n"
     ]
    }
   ],
   "source": [
    "classical_1q_layer = get_rand_1q_template(one_c_gates)\n",
    "print(classical_1q_layer.sample_program(G, repetitions=2, width=2))"
   ]
  },
  {
   "cell_type": "code",
   "execution_count": 17,
   "metadata": {},
   "outputs": [
    {
     "name": "stdout",
     "output_type": "stream",
     "text": [
      "I 4\n",
      "I 7\n",
      "CNOT 4 7\n",
      "\n"
     ]
    }
   ],
   "source": [
    "classical_2q_layer = get_rand_2q_template(two_c_gates)\n",
    "print(classical_2q_layer.sample_program(G, repetitions=2, width=2))"
   ]
  },
  {
   "cell_type": "code",
   "execution_count": 21,
   "metadata": {},
   "outputs": [
    {
     "name": "stdout",
     "output_type": "stream",
     "text": [
      "H 2\n",
      "H 5\n",
      "H 7\n",
      "H 8\n",
      "\n"
     ]
    }
   ],
   "source": [
    "switch_basis_layer = get_switch_basis_x_z_template()\n",
    "print(switch_basis_layer.sample_program(G, repetitions=1, width=4))"
   ]
  },
  {
   "cell_type": "code",
   "execution_count": 22,
   "metadata": {},
   "outputs": [
    {
     "name": "stdout",
     "output_type": "stream",
     "text": [
      "CZ 3 4\n",
      "RZ(pi/2) 4\n",
      "RX(-pi/2) 3\n",
      "CZ 3 4\n",
      "RX(pi/2) 4\n",
      "RZ(-pi/2) 3\n",
      "RX(-pi/2) 3\n",
      "CZ 3 4\n",
      "RZ(pi/2) 4\n",
      "RX(-pi/2) 4\n",
      "\n"
     ]
    }
   ],
   "source": [
    "clifford_1q_layer = get_rand_1q_cliff_template(bm)\n",
    "clifford_2q_layer = get_rand_2q_cliff_template(bm)\n",
    "print(clifford_2q_layer.sample_program(G, repetitions=2, width=2))"
   ]
  },
  {
   "cell_type": "code",
   "execution_count": 23,
   "metadata": {},
   "outputs": [
    {
     "name": "stdout",
     "output_type": "stream",
     "text": [
      "RZ(-3.11559416083055) 2\n",
      "RX(pi/2) 2\n",
      "RZ(0.9985930931695964) 2\n",
      "RX(-pi/2) 2\n",
      "RZ(0.33645965947699885) 5\n",
      "RX(pi/2) 5\n",
      "RZ(1.1143132339260913) 5\n",
      "RX(-pi/2) 5\n",
      "CZ 5 2\n",
      "RZ(1.8502545221336462) 2\n",
      "RX(pi/2) 2\n",
      "RZ(-1.493206408133509) 5\n",
      "RX(-pi/2) 5\n",
      "CZ 5 2\n",
      "RX(-pi/2) 2\n",
      "RX(pi/2) 5\n",
      "CZ 5 2\n",
      "RZ(1.7273460464564303) 2\n",
      "RX(pi/2) 2\n",
      "RZ(0.4625719031986815) 2\n",
      "RX(-pi/2) 2\n",
      "RZ(-0.5110412432518459) 2\n",
      "RZ(-1.166166861993211) 5\n",
      "RX(pi/2) 5\n",
      "RZ(0.6298859814840272) 5\n",
      "RX(-pi/2) 5\n",
      "RZ(2.6282638093266915) 5\n",
      "\n"
     ]
    }
   ],
   "source": [
    "rand_perm_layer = get_rand_qubit_perm_template()\n",
    "# sometimes this returns an empty program, i.e. no permutation\n",
    "print(rand_perm_layer.sample_program(G, 1, qc=noisy_qc, width=3))"
   ]
  },
  {
   "cell_type": "code",
   "execution_count": 24,
   "metadata": {},
   "outputs": [
    {
     "name": "stdout",
     "output_type": "stream",
     "text": [
      "RZ(-1.2990942230030267) 4\n",
      "RX(pi/2) 4\n",
      "RZ(1.5155074169065497) 4\n",
      "RX(-pi/2) 4\n",
      "RZ(1.7430125039887816) 5\n",
      "RX(pi/2) 5\n",
      "RZ(1.4191531043790895) 5\n",
      "RX(-pi/2) 5\n",
      "CZ 5 4\n",
      "RZ(-1.2516854599739062) 4\n",
      "RX(pi/2) 4\n",
      "RZ(2.110642864158322) 4\n",
      "RX(-pi/2) 4\n",
      "RZ(-2.8531720822941167) 5\n",
      "RX(-pi/2) 5\n",
      "CZ 5 4\n",
      "RX(pi/2) 4\n",
      "RZ(-2.0269992194907793) 4\n",
      "RX(-pi/2) 4\n",
      "RZ(1.7707585610544267) 5\n",
      "RX(pi/2) 5\n",
      "CZ 5 4\n",
      "RZ(-2.7752501314248956) 4\n",
      "RX(pi/2) 4\n",
      "RZ(0.6563900562878288) 4\n",
      "RX(-pi/2) 4\n",
      "RZ(2.3643866667806357) 4\n",
      "RZ(-2.2772139390064376) 5\n",
      "RX(pi/2) 5\n",
      "RZ(1.8032677495210245) 5\n",
      "RX(-pi/2) 5\n",
      "RZ(-2.022168105894388) 5\n",
      "\n"
     ]
    }
   ],
   "source": [
    "rand_su4_layer = get_rand_su4_template()\n",
    "print(rand_su4_layer.sample_program(G, 1, qc=noisy_qc, width=2))"
   ]
  },
  {
   "cell_type": "markdown",
   "metadata": {},
   "source": [
    "## Compose templates"
   ]
  },
  {
   "cell_type": "code",
   "execution_count": 25,
   "metadata": {},
   "outputs": [
    {
     "name": "stdout",
     "output_type": "stream",
     "text": [
      "X 1\n",
      "X 3\n",
      "I 4\n",
      "X 7\n",
      "I 1\n",
      "I 4\n",
      "CNOT 3 4\n",
      "CNOT 4 7\n",
      "I 1\n",
      "X 3\n",
      "I 4\n",
      "I 7\n",
      "I 1\n",
      "I 4\n",
      "I 3\n",
      "I 4\n",
      "I 4\n",
      "I 7\n",
      "\n"
     ]
    }
   ],
   "source": [
    "classical_1q_2q = classical_1q_layer + classical_2q_layer\n",
    "print(classical_1q_2q.sample_program(G, repetitions=2, width=4))"
   ]
  },
  {
   "cell_type": "markdown",
   "metadata": {},
   "source": [
    "Classical Logic in X basis"
   ]
  },
  {
   "cell_type": "code",
   "execution_count": 33,
   "metadata": {},
   "outputs": [
    {
     "name": "stdout",
     "output_type": "stream",
     "text": [
      "H 5\n",
      "H 8\n",
      "Z 5\n",
      "I 8\n",
      "I 5\n",
      "I 8\n",
      "I 5\n",
      "I 8\n",
      "I 5\n",
      "I 8\n",
      "I 5\n",
      "I 8\n",
      "H 5\n",
      "CZ 5 8\n",
      "H 5\n",
      "H 5\n",
      "H 8\n",
      "\n"
     ]
    }
   ],
   "source": [
    "logic_layers = get_rand_1q_template(one_x_c_gates) + get_rand_2q_template(two_x_c_gates)\n",
    "classical_x_1q_2q = switch_basis_layer + logic_layers + switch_basis_layer\n",
    "# here we demonstrate a simple use of a pattern. We want to do the basis switch at beginning and end \n",
    "# while doing the repetitions in between some variable number of times.\n",
    "# The pattern says to do the 0 idx generator, do [1,2] idx generators n times, then finish with 3 idx generator\n",
    "classical_x_1q_2q.pattern = [0, ([1, 2], 'n'), 3]\n",
    "print(classical_x_1q_2q.sample_program(G, repetitions=3, width=2))\n",
    "# note that the x basis CNOT(0, 1) is H(0) CZ(0, 1) H(0)"
   ]
  },
  {
   "cell_type": "code",
   "execution_count": 34,
   "metadata": {},
   "outputs": [
    {
     "name": "stdout",
     "output_type": "stream",
     "text": [
      "RX(-pi/2) 3\n",
      "RX(pi/2) 4\n",
      "RZ(-pi) 4\n",
      "RX(pi/2) 3\n",
      "CZ 3 4\n",
      "RX(-pi/2) 4\n",
      "RZ(-pi/2) 3\n",
      "RX(pi/2) 3\n",
      "RZ(-pi/2) 3\n",
      "RX(-pi/2) 3\n",
      "RX(pi/2) 4\n",
      "RZ(-pi) 4\n",
      "RX(pi/2) 3\n",
      "CZ 3 4\n",
      "RX(pi/2) 4\n",
      "CZ 3 4\n",
      "RZ(-pi/2) 4\n",
      "RZ(-pi/2) 3\n",
      "RZ(pi/2) 3\n",
      "RX(-pi) 3\n",
      "RX(pi/2) 4\n",
      "RX(-pi/2) 4\n",
      "CZ 3 4\n",
      "RZ(-pi/2) 4\n",
      "RX(pi/2) 4\n",
      "RX(-pi/2) 3\n",
      "CZ 3 4\n",
      "RX(-pi/2) 4\n",
      "RX(-pi/2) 3\n",
      "RZ(pi/2) 3\n",
      "RX(pi/2) 3\n",
      "RZ(pi/2) 3\n",
      "RZ(-pi/2) 4\n",
      "RX(pi/2) 4\n",
      "RZ(-pi/2) 4\n",
      "\n",
      "This program compiles away to nothing: \n",
      "HALT\n",
      "\n"
     ]
    }
   ],
   "source": [
    "clifford_sandwich = clifford_1q_layer + clifford_2q_layer + get_dagger_all_template()\n",
    "# here we demonstrate another simple use of a pattern. We want to do some Clifford layers n=reps\n",
    "# number of times and then dagger the result of all those reps. \n",
    "clifford_sandwich.pattern = [([0, 1], 'n'), -1]\n",
    "prog = clifford_sandwich.sample_program(G, repetitions=3, width=2,  qc=noisy_qc)\n",
    "print(prog)\n",
    "\n",
    "# We can check that this is the identity by compiling it fully\n",
    "print(\"This program compiles away to nothing: \")\n",
    "print(noisy_qc.compiler.quil_to_native_quil(prog))"
   ]
  },
  {
   "cell_type": "markdown",
   "metadata": {},
   "source": [
    "### Quantum Volume (unoptimized)"
   ]
  },
  {
   "cell_type": "code",
   "execution_count": 35,
   "metadata": {},
   "outputs": [
    {
     "name": "stdout",
     "output_type": "stream",
     "text": [
      "RZ(-pi/2) 3\n",
      "RX(pi/2) 3\n",
      "CZ 0 3\n",
      "RZ(0.6669073931670509) 4\n",
      "RX(pi/2) 4\n",
      "RZ(0.5854615772794022) 4\n",
      "RX(-pi/2) 4\n",
      "RZ(-3.06066309923684) 4\n",
      "RZ(-pi/2) 0\n",
      "RX(pi/2) 0\n",
      "RZ(2.4107959821067877) 0\n",
      "RX(-pi/2) 0\n",
      "RZ(-0.5585293438296013) 1\n",
      "RX(pi/2) 1\n",
      "CZ 0 1\n",
      "RX(pi/2) 0\n",
      "RZ(pi) 1\n",
      "RX(pi/2) 1\n",
      "CZ 0 1\n",
      "RZ(pi/2) 3\n",
      "RZ(pi) 0\n",
      "RX(pi/2) 0\n",
      "CZ 3 0\n",
      "RZ(-2.4305289034535735) 1\n",
      "RX(pi/2) 1\n",
      "RZ(0.4608188356599866) 1\n",
      "RX(-pi/2) 1\n",
      "RZ(2.740126082031923) 4\n",
      "RX(pi/2) 4\n",
      "RZ(1.1064691618894351) 4\n",
      "RX(-pi/2) 4\n",
      "CZ 4 1\n",
      "RZ(1.3016838095222525) 1\n",
      "RX(pi/2) 1\n",
      "RZ(-1.5895747244078953) 4\n",
      "RX(-pi/2) 4\n",
      "CZ 4 1\n",
      "RX(-pi/2) 1\n",
      "RX(pi/2) 4\n",
      "CZ 4 1\n",
      "RX(pi/2) 3\n",
      "RZ(-0.31660508427036405) 4\n",
      "RX(pi/2) 4\n",
      "RZ(1.9412910023569236) 4\n",
      "RX(-pi/2) 4\n",
      "CZ 3 4\n",
      "RX(-pi/2) 3\n",
      "CZ 3 0\n",
      "RZ(0.25293664903812485) 4\n",
      "RX(pi/2) 4\n",
      "CZ 4 3\n",
      "RZ(-2.583063309760192) 0\n",
      "RZ(-0.46129210523277475) 1\n",
      "RX(pi/2) 1\n",
      "RZ(0.2166354441029604) 1\n",
      "RX(-pi/2) 1\n",
      "RZ(1.6427579756968358) 1\n",
      "RX(pi/2) 3\n",
      "RZ(-pi/2) 3\n",
      "RZ(-pi/2) 4\n",
      "RX(-pi/2) 4\n",
      "RZ(0.7757916810497658) 0\n",
      "RX(pi/2) 0\n",
      "RZ(2.031126351623488) 0\n",
      "RX(-pi/2) 0\n",
      "RZ(1.8194447794701258) 1\n",
      "RX(pi/2) 1\n",
      "RZ(1.014314986197423) 1\n",
      "RX(-pi/2) 1\n",
      "CZ 1 0\n",
      "RZ(-2.0269578329482236) 0\n",
      "RX(pi/2) 0\n",
      "RZ(2.24195814306528) 0\n",
      "RX(-pi/2) 0\n",
      "RZ(-0.8884838731302743) 1\n",
      "RX(-pi/2) 1\n",
      "CZ 1 0\n",
      "RX(pi/2) 0\n",
      "RZ(-1.8885086700579947) 0\n",
      "RX(-pi/2) 0\n",
      "RZ(1.2380507840193058) 1\n",
      "RX(pi/2) 1\n",
      "CZ 1 0\n",
      "RZ(-0.5388224609174566) 3\n",
      "RX(pi/2) 3\n",
      "RZ(2.7984452402871334) 3\n",
      "RX(-pi/2) 3\n",
      "RZ(2.479910807613208) 4\n",
      "RX(pi/2) 4\n",
      "RZ(0.37049816162871296) 4\n",
      "RX(-pi/2) 4\n",
      "CZ 4 3\n",
      "RZ(-1.5354346359628757) 3\n",
      "RX(pi/2) 3\n",
      "RZ(2.5421405614403225) 3\n",
      "RX(-pi/2) 3\n",
      "RZ(-2.432802938891337) 4\n",
      "RX(-pi/2) 4\n",
      "CZ 4 3\n",
      "RX(pi/2) 3\n",
      "RZ(-1.5831380608271974) 3\n",
      "RX(-pi/2) 3\n",
      "RZ(1.6708863657944608) 4\n",
      "RX(pi/2) 4\n",
      "CZ 4 3\n",
      "RZ(-2.846260468371971) 0\n",
      "RX(pi/2) 0\n",
      "RZ(1.502288298020912) 0\n",
      "RX(-pi/2) 0\n",
      "RZ(1.4079506649585696) 0\n",
      "RZ(1.720539155174591) 1\n",
      "RX(pi/2) 1\n",
      "RZ(1.5638415774412966) 1\n",
      "RX(-pi/2) 1\n",
      "RZ(-2.4495734848000694) 1\n",
      "RZ(-0.677829094506985) 3\n",
      "RX(pi/2) 3\n",
      "RZ(1.279304641144971) 3\n",
      "RX(-pi/2) 3\n",
      "RZ(-1.7493642198525963) 3\n",
      "RZ(-0.7124392035325942) 4\n",
      "RX(pi/2) 4\n",
      "RZ(0.6644954490767097) 4\n",
      "RX(-pi/2) 4\n",
      "RZ(0.4701152601719749) 4\n",
      "RZ(-pi/2) 3\n",
      "RX(pi/2) 3\n",
      "CZ 0 3\n",
      "RZ(-pi/2) 4\n",
      "RX(pi/2) 4\n",
      "CZ 1 4\n",
      "RZ(-pi/2) 2\n",
      "RX(pi/2) 2\n",
      "CZ 1 2\n",
      "RZ(-pi/2) 1\n",
      "RX(pi/2) 1\n",
      "CZ 0 1\n",
      "RX(pi/2) 1\n",
      "RZ(2.523648396145425) 1\n",
      "RX(-pi/2) 1\n",
      "RZ(2.0035193916448) 2\n",
      "RX(pi/2) 2\n",
      "CZ 1 2\n",
      "RZ(pi) 1\n",
      "RX(pi/2) 1\n",
      "RZ(pi) 2\n",
      "RX(pi/2) 2\n",
      "CZ 1 2\n",
      "RZ(-pi/2) 0\n",
      "RX(-pi/2) 0\n",
      "RX(pi/2) 1\n",
      "RZ(0.43272306484990464) 1\n",
      "RX(-pi/2) 1\n",
      "CZ 1 0\n",
      "RX(pi/2) 1\n",
      "RX(pi/2) 2\n",
      "CZ 1 2\n",
      "RZ(0.7192108674847648) 3\n",
      "RX(pi/2) 3\n",
      "RZ(1.531025140905506) 3\n",
      "RX(-pi/2) 3\n",
      "RZ(2.8631898920196246) 4\n",
      "RX(pi/2) 4\n",
      "RZ(0.5183673776459357) 4\n",
      "RX(-pi/2) 4\n",
      "CZ 3 4\n",
      "RZ(0.20698405540423215) 3\n",
      "RX(-pi/2) 3\n",
      "RZ(0.3385342591847609) 4\n",
      "RX(pi/2) 4\n",
      "CZ 3 4\n",
      "RX(pi/2) 3\n",
      "RX(-pi/2) 4\n",
      "CZ 3 4\n",
      "CZ 1 0\n",
      "RZ(-1.8380613117988656) 4\n",
      "RX(pi/2) 4\n",
      "RZ(0.7511793649341291) 4\n",
      "RX(-pi/2) 4\n",
      "CZ 1 4\n",
      "RZ(0.6179442574443681) 2\n",
      "RX(pi/2) 2\n",
      "RZ(-pi/2) 0\n",
      "RX(pi/2) 0\n",
      "CZ 1 0\n",
      "RZ(-1.2651875109631021) 4\n",
      "RZ(pi) 1\n",
      "RX(-pi/2) 1\n",
      "CZ 1 2\n",
      "RZ(-0.517995739847271) 5\n",
      "RX(pi/2) 5\n",
      "RZ(1.275078645789896) 5\n",
      "RX(-pi/2) 5\n",
      "RZ(0.8626492992244116) 5\n",
      "RZ(pi/2) 0\n",
      "RX(-pi/2) 1\n",
      "CZ 1 4\n",
      "RZ(-2.0643966863321292) 3\n",
      "RX(pi/2) 3\n",
      "RZ(1.4054990370507048) 3\n",
      "RX(-pi/2) 3\n",
      "CZ 3 0\n",
      "RZ(pi) 2\n",
      "CZ 1 0\n",
      "RZ(-2.285167145753798) 3\n",
      "RX(pi/2) 3\n",
      "RZ(0.8295085766819494) 3\n",
      "RX(-pi/2) 3\n",
      "RZ(2.4759638862025932) 3\n",
      "CZ 1 2\n",
      "RZ(-2.529515913552065) 4\n",
      "RX(pi/2) 4\n",
      "RZ(1.8584025723932218) 4\n",
      "RX(-pi/2) 4\n",
      "RZ(1.5930657427332318) 5\n",
      "RX(pi/2) 5\n",
      "RZ(2.9100326595937775) 5\n",
      "RX(-pi/2) 5\n",
      "CZ 5 4\n",
      "RZ(2.8568135961476973) 4\n",
      "RX(pi/2) 4\n",
      "RZ(-2.2241922176836493) 5\n",
      "RX(-pi/2) 5\n",
      "CZ 5 4\n",
      "RX(-pi/2) 4\n",
      "RX(pi/2) 5\n",
      "CZ 5 4\n",
      "RZ(1.2560843489407167) 0\n",
      "RX(pi/2) 0\n",
      "RZ(0.4300054402524908) 0\n",
      "RX(-pi/2) 0\n",
      "RZ(1.645182093765455) 3\n",
      "RX(pi/2) 3\n",
      "RZ(2.016623182651156) 3\n",
      "RX(-pi/2) 3\n",
      "CZ 0 3\n",
      "RZ(-1.091640743946055) 0\n",
      "RX(-pi/2) 0\n",
      "RZ(-1.3330383025419321) 3\n",
      "RX(pi/2) 3\n",
      "CZ 0 3\n",
      "RX(pi/2) 0\n",
      "RX(-pi/2) 3\n",
      "CZ 0 3\n",
      "RZ(-1.4618696541291847) 0\n",
      "RX(pi/2) 0\n",
      "RZ(1.4353034639238005) 0\n",
      "RX(-pi/2) 0\n",
      "CZ 0 1\n",
      "RZ(-1.1605703903892959) 0\n",
      "RX(-pi/2) 0\n",
      "RZ(1.7791683462765921) 3\n",
      "RX(pi/2) 3\n",
      "RZ(1.191863627752619) 3\n",
      "RX(-pi/2) 3\n",
      "CZ 0 3\n",
      "RZ(pi/2) 1\n",
      "RX(pi/2) 1\n",
      "CZ 1 0\n",
      "RZ(pi/2) 2\n",
      "RX(pi/2) 2\n",
      "RZ(1.6488553188002293) 5\n",
      "RX(pi/2) 5\n",
      "RZ(2.235278604965315) 5\n",
      "RX(-pi/2) 5\n",
      "CZ 2 5\n",
      "RX(pi/2) 0\n",
      "RZ(-pi/2) 0\n",
      "RZ(pi/2) 1\n",
      "RX(-pi/2) 1\n",
      "RZ(pi/2) 2\n",
      "RX(pi) 2\n",
      "RZ(1.366254110453287) 3\n",
      "RZ(-1.5920739089853608) 4\n",
      "RX(pi/2) 4\n",
      "RZ(0.11403115954207224) 4\n",
      "RX(-pi/2) 4\n",
      "RZ(0.6862410447361098) 4\n",
      "RZ(-0.3492755738492126) 5\n",
      "RX(pi/2) 5\n",
      "RZ(pi/2) 5\n",
      "RZ(-0.08692131467008292) 0\n",
      "RX(pi/2) 0\n",
      "RZ(1.1553563681238301) 0\n",
      "RX(-pi/2) 0\n",
      "RZ(-0.7003653126190011) 1\n",
      "RX(pi/2) 1\n",
      "RZ(2.3874606355620136) 1\n",
      "RX(-pi/2) 1\n",
      "CZ 1 0\n",
      "RZ(1.4882969199152951) 0\n",
      "RX(pi/2) 0\n",
      "RZ(2.228113697296579) 0\n",
      "RX(-pi/2) 0\n",
      "RZ(0.3095409177507136) 1\n",
      "RX(-pi/2) 1\n",
      "CZ 1 0\n",
      "RX(pi/2) 0\n",
      "RZ(-1.9209345904846113) 0\n",
      "RX(-pi/2) 0\n",
      "RZ(2.0954379739266384) 1\n",
      "RX(pi/2) 1\n",
      "CZ 1 0\n",
      "RZ(-1.3255358648409241) 3\n",
      "RX(pi/2) 3\n",
      "RZ(2.88234471152051) 3\n",
      "RX(-pi/2) 3\n",
      "RZ(-3.0481017375903794) 4\n",
      "RX(pi/2) 4\n",
      "RZ(2.6547520071013486) 4\n",
      "RX(-pi/2) 4\n",
      "CZ 4 3\n",
      "RZ(0.9012599436802047) 3\n",
      "RX(pi/2) 3\n",
      "RZ(2.4889923518664103) 3\n",
      "RX(-pi/2) 3\n",
      "RZ(-2.4272854794008447) 4\n",
      "RX(-pi/2) 4\n",
      "CZ 4 3\n",
      "RX(pi/2) 3\n",
      "RZ(-1.6186824319994155) 3\n",
      "RX(-pi/2) 3\n",
      "RZ(1.5703275860611186) 4\n",
      "RX(pi/2) 4\n",
      "CZ 4 3\n",
      "RZ(-1.2431397202040146) 0\n",
      "RX(pi/2) 0\n",
      "RZ(1.3071530036896222) 0\n",
      "RX(-pi/2) 0\n",
      "RZ(-0.7860124239672821) 0\n",
      "RZ(-2.5610770607411144) 1\n",
      "RX(pi/2) 1\n",
      "RZ(1.0388517327800924) 1\n",
      "RX(-pi/2) 1\n",
      "RZ(3.098199823290461) 1\n",
      "RZ(0.7146722390552813) 3\n",
      "RX(pi/2) 3\n",
      "RZ(1.4352692603518304) 3\n",
      "RX(-pi/2) 3\n",
      "RZ(2.5835346399507184) 3\n",
      "RZ(-0.9543567877261507) 4\n",
      "RX(pi/2) 4\n",
      "RZ(2.511147801544665) 4\n",
      "RX(-pi/2) 4\n",
      "RZ(0.10327658195147739) 4\n",
      "\n"
     ]
    }
   ],
   "source": [
    "qv_template = rand_perm_layer + rand_su4_layer\n",
    "print(qv_template.sample_program(G, repetitions=2, qc=noisy_qc, width=5))"
   ]
  },
  {
   "cell_type": "markdown",
   "metadata": {},
   "source": [
    "## Acquire data for ranges of (width, depth)"
   ]
  },
  {
   "cell_type": "code",
   "execution_count": 36,
   "metadata": {},
   "outputs": [
    {
     "name": "stdout",
     "output_type": "stream",
     "text": [
      "{2: {4: [<pyquil.quil.Program object at 0x7fd27c50f908>, <pyquil.quil.Program object at 0x7fd27c513208>, <pyquil.quil.Program object at 0x7fd27c513978>, <pyquil.quil.Program object at 0x7fd27c5087b8>, <pyquil.quil.Program object at 0x7fd27c519470>, <pyquil.quil.Program object at 0x7fd27c519e48>, <pyquil.quil.Program object at 0x7fd27c49c9b0>, <pyquil.quil.Program object at 0x7fd27c4a3278>, <pyquil.quil.Program object at 0x7fd27c519dd8>, <pyquil.quil.Program object at 0x7fd27c4a3a20>]}, 3: {4: [<pyquil.quil.Program object at 0x7fd27c4a79e8>, <pyquil.quil.Program object at 0x7fd27c4ab9b0>, <pyquil.quil.Program object at 0x7fd27c4abdd8>, <pyquil.quil.Program object at 0x7fd27c4acc50>, <pyquil.quil.Program object at 0x7fd27c4b6c50>, <pyquil.quil.Program object at 0x7fd27c4bc470>, <pyquil.quil.Program object at 0x7fd27c4bf470>, <pyquil.quil.Program object at 0x7fd27c4c30f0>, <pyquil.quil.Program object at 0x7fd27c4c3b38>, <pyquil.quil.Program object at 0x7fd27c4c9898>]}, 4: {4: [<pyquil.quil.Program object at 0x7fd27c4cdc88>, <pyquil.quil.Program object at 0x7fd27c513e80>, <pyquil.quil.Program object at 0x7fd27c45a048>, <pyquil.quil.Program object at 0x7fd27c45c1d0>, <pyquil.quil.Program object at 0x7fd27c460518>, <pyquil.quil.Program object at 0x7fd27c4676a0>, <pyquil.quil.Program object at 0x7fd27c46c9e8>, <pyquil.quil.Program object at 0x7fd27c471b70>, <pyquil.quil.Program object at 0x7fd27c478be0>, <pyquil.quil.Program object at 0x7fd27c47def0>]}}\n"
     ]
    }
   ],
   "source": [
    "widths = [2, 3, 4]\n",
    "depths = [3, 4]\n",
    "ckt = classical_1q_2q\n",
    "prog_array = generate_volumetric_program_array(noisy_qc, ckt, widths, depths, num_circuit_samples=10)\n",
    "print(prog_array)"
   ]
  },
  {
   "cell_type": "code",
   "execution_count": 37,
   "metadata": {},
   "outputs": [],
   "source": [
    "noisy_results = acquire_volumetric_data(noisy_qc, prog_array)"
   ]
  },
  {
   "cell_type": "code",
   "execution_count": 38,
   "metadata": {},
   "outputs": [
    {
     "name": "stdout",
     "output_type": "stream",
     "text": [
      "{2: {4: [array([[0, 1]]), array([[0, 1]]), array([[1, 0]]), array([[0, 0]]), array([[1, 0]]), array([[1, 1]]), array([[0, 0]]), array([[0, 0]]), array([[1, 0]]), array([[0, 0]])]}, 3: {4: [array([[1, 1, 0]]), array([[0, 0, 0]]), array([[1, 1, 1]]), array([[1, 0, 1]]), array([[1, 0, 0]]), array([[0, 1, 0]]), array([[1, 0, 1]]), array([[1, 1, 0]]), array([[1, 0, 0]]), array([[0, 1, 0]])]}, 4: {4: [array([[1, 0, 0, 0]]), array([[0, 0, 1, 1]]), array([[0, 0, 1, 0]]), array([[0, 1, 1, 0]]), array([[0, 0, 1, 1]]), array([[0, 1, 1, 1]]), array([[0, 0, 1, 0]]), array([[1, 0, 0, 0]]), array([[1, 1, 0, 0]]), array([[1, 0, 1, 1]])]}}\n"
     ]
    }
   ],
   "source": [
    "ideal_results = acquire_volumetric_data(perfect_qc, prog_array, num_shots=1)\n",
    "print(ideal_results)"
   ]
  },
  {
   "cell_type": "code",
   "execution_count": 39,
   "metadata": {},
   "outputs": [
    {
     "name": "stdout",
     "output_type": "stream",
     "text": [
      "{2: {4: [array([0.888, 0.112, 0.   ]), array([0.852, 0.148, 0.   ]), array([0.882, 0.112, 0.006]), array([0.94, 0.06, 0.  ]), array([0.904, 0.094, 0.002]), array([0.828, 0.162, 0.01 ]), array([0.946, 0.054, 0.   ]), array([0.934, 0.066, 0.   ]), array([0.862, 0.138, 0.   ]), array([0.958, 0.042, 0.   ])]}, 3: {4: [array([0.828, 0.154, 0.018, 0.   ]), array([0.91, 0.08, 0.01, 0.  ]), array([0.738, 0.23 , 0.032, 0.   ]), array([0.776, 0.202, 0.02 , 0.002]), array([0.868, 0.114, 0.018, 0.   ]), array([0.858, 0.136, 0.006, 0.   ]), array([0.802, 0.182, 0.016, 0.   ]), array([0.79 , 0.194, 0.014, 0.002]), array([0.848, 0.128, 0.018, 0.006]), array([0.828, 0.164, 0.006, 0.002])]}, 4: {4: [array([0.88 , 0.112, 0.008, 0.   , 0.   ]), array([0.772, 0.21 , 0.014, 0.004, 0.   ]), array([0.832, 0.158, 0.01 , 0.   , 0.   ]), array([0.778, 0.196, 0.022, 0.002, 0.002]), array([0.782, 0.196, 0.02 , 0.002, 0.   ]), array([0.708, 0.244, 0.034, 0.014, 0.   ]), array([0.802, 0.182, 0.014, 0.002, 0.   ]), array([0.862, 0.12 , 0.018, 0.   , 0.   ]), array([0.768, 0.202, 0.026, 0.004, 0.   ]), array([0.736, 0.23 , 0.032, 0.002, 0.   ])]}}\n"
     ]
    }
   ],
   "source": [
    "err_hamm_distrs = get_error_hamming_weight_distributions(noisy_results, ideal_results)\n",
    "print(err_hamm_distrs)"
   ]
  },
  {
   "cell_type": "code",
   "execution_count": 40,
   "metadata": {},
   "outputs": [
    {
     "name": "stdout",
     "output_type": "stream",
     "text": [
      "{2: {4: array([0.8994, 0.0988, 0.0018])}, 3: {4: array([0.8246, 0.1584, 0.0158, 0.0012])}, 4: {4: array([7.92e-01, 1.85e-01, 1.98e-02, 3.00e-03, 2.00e-04])}}\n"
     ]
    }
   ],
   "source": [
    "avg_err_hamm_distrs = {w: {d: sum(distrs)/len(distrs)} for w, d_arr in err_hamm_distrs.items()\n",
    "                            for d, distrs in d_arr.items()}\n",
    "print(avg_err_hamm_distrs)"
   ]
  },
  {
   "cell_type": "code",
   "execution_count": null,
   "metadata": {},
   "outputs": [],
   "source": []
  },
  {
   "cell_type": "markdown",
   "metadata": {},
   "source": [
    "## Plot a particular depth and width"
   ]
  },
  {
   "cell_type": "code",
   "execution_count": null,
   "metadata": {},
   "outputs": [],
   "source": [
    "dep = 6\n",
    "wid = 4\n",
    "\n",
    "distz = get_hamming_dist(res_df, dep, wid)\n",
    "\n",
    "\n",
    "# combine data from different subgraphs\n",
    "avg_dist = distz['Hamming dist. data'].mean()\n",
    "\n",
    "# rand data\n",
    "rand_dist = distz['Hamming dist. rand'][0]"
   ]
  },
  {
   "cell_type": "code",
   "execution_count": null,
   "metadata": {},
   "outputs": [],
   "source": [
    "x_labels = np.arange(0, len(avg_dist))\n",
    "plt.bar(x_labels, avg_dist, width=0.61, align='center')\n",
    "plt.bar(x_labels, rand_dist, width=0.31, align='center')\n",
    "plt.xticks(x_labels)\n",
    "plt.xlabel('Hamming Weight of Error')\n",
    "plt.ylabel('Relative Frequency of Occurence')\n",
    "plt.ylim([0,1])\n",
    "plt.grid(axis='y', alpha=0.75)\n",
    "plt.legend(['data','random'])\n",
    "plt.title('Depth = {}, Width = {}'.format(dep,wid))\n",
    "plt.show()"
   ]
  },
  {
   "cell_type": "markdown",
   "metadata": {},
   "source": [
    "# For a particular width plot all depths"
   ]
  },
  {
   "cell_type": "code",
   "execution_count": null,
   "metadata": {},
   "outputs": [],
   "source": [
    "wid = 4\n",
    "df_fn_depth = get_hamming_dists_fn_depth(res_df, wid)"
   ]
  },
  {
   "cell_type": "code",
   "execution_count": null,
   "metadata": {},
   "outputs": [],
   "source": [
    "for dep in range(1, df_fn_depth.Depth.max()+1):\n",
    "    idx = df_fn_depth['Depth']== dep\n",
    "    avg_dist = df_fn_depth[idx]['Hamming dist. data'].mean() \n",
    "    rand_dist = df_fn_depth[idx]['Hamming dist. rand'].mean() \n",
    "    x_labels = np.arange(0, len(avg_dist))\n",
    "    plt.subplot(1,df_fn_depth.Depth.max(),dep)\n",
    "    plt.bar(x_labels, avg_dist, width=0.61, align='center')\n",
    "    plt.bar(x_labels, rand_dist, width=0.31, align='center')\n",
    "    plt.xticks(x_labels)\n",
    "    plt.xlabel('Hamming Weight of Error')\n",
    "    plt.ylabel('Relative Frequency of Occurence')\n",
    "    plt.ylim([0,1])\n",
    "    plt.grid(axis='y', alpha=0.75)\n",
    "    plt.legend(['data','random'])\n",
    "    plt.title('Depth = {}, Width = {}'.format(dep,wid))\n",
    "plt.subplots_adjust(bottom=0.1, right=3.2, top=0.9)\n",
    "plt.show()"
   ]
  },
  {
   "cell_type": "markdown",
   "metadata": {},
   "source": [
    "Now we can study the sucess probablity, i.e. the zero hamming weight entry above as a function of depth. We first need to extract the data fron the data frame."
   ]
  },
  {
   "cell_type": "code",
   "execution_count": null,
   "metadata": {},
   "outputs": [],
   "source": [
    "depth_vec = []\n",
    "pcheck = []\n",
    "pcheck_rand = []\n",
    "pcheck_log_errors = []\n",
    "pcheck_log_errors_rand = []\n",
    "tvd_rand = []\n",
    "tvd_ideal = []\n",
    "\n",
    "for dep in range(1, df_fn_depth.Depth.max()+1):\n",
    "    idx = df_fn_depth['Depth']== dep\n",
    "    depth_vec.append(dep)\n",
    "    pcheck.append(df_fn_depth[idx]['Pr. success data'].mean()) \n",
    "    pcheck_rand.append(df_fn_depth[idx]['Pr. success rand'].mean())\n",
    "    pcheck_log_errors.append(df_fn_depth[idx]['Pr. success loge data'].mean())\n",
    "    pcheck_log_errors_rand.append(df_fn_depth[idx]['Pr. success loge rand'].mean())\n",
    "    tvd_ideal.append(df_fn_depth[idx]['TVD(data, ideal)'].mean())\n",
    "    tvd_rand.append(df_fn_depth[idx]['TVD(data, rand)'].mean())"
   ]
  },
  {
   "cell_type": "markdown",
   "metadata": {},
   "source": [
    "# Success probablity and success probablity including a small number of errors"
   ]
  },
  {
   "cell_type": "markdown",
   "metadata": {},
   "source": [
    "Next we will plot the success probablity of a circuit with a certain width as a function of depth. "
   ]
  },
  {
   "cell_type": "code",
   "execution_count": null,
   "metadata": {},
   "outputs": [],
   "source": [
    "plt.scatter(depth_vec,pcheck,label='Sucess Probablity')\n",
    "plt.plot(depth_vec,pcheck_rand,label='random guess')\n",
    "plt.ylim([-0.05,1.05])\n",
    "plt.xlabel('Depth')\n",
    "plt.ylabel('Pr(success)')\n",
    "plt.title('Pr(success) vs Depth for Width = {}'.format(wid))\n",
    "plt.legend()\n",
    "plt.show()"
   ]
  },
  {
   "cell_type": "markdown",
   "metadata": {},
   "source": [
    "**Sucess if we allow for a small number of errors**\n",
    "\n",
    "Some near term algorithms have robustness to noise. In light of that we might want to consider answers that are only a little wrong successes.\n",
    "\n",
    "To make this notion formal we allow a logarithmic number of bits to flip from the correct answer and call all such instances \"success\".\n",
    "\n",
    "The logarithmic number of bits that we allow to flip is defined by the \"basement\" ${\\mathcal B}$ of \n",
    "\n",
    "$\\log_2 ({\\rm number\\ of\\ bits}) -1$\n",
    "\n",
    "where the basement of a number is ${\\mathcal B}(number) = 0$ if number$<=0$ and ${\\mathcal B}(number) = {\\rm floor (number)}$.\n",
    "\n",
    "\n",
    "Supose we have a circuit of width 4, this means correct string has four bits, e.g. 1010. Then a logarithmic number of flips is $\\log_2(4)-1 = 1$.\n",
    "\n",
    "So any string with hamming weight zero or one counts as a success.\n",
    "\n",
    "Such error metrics might be important in noisy near term algorithms where getting the exact answer is not vital."
   ]
  },
  {
   "cell_type": "code",
   "execution_count": null,
   "metadata": {},
   "outputs": [],
   "source": [
    "plt.figure()\n",
    "plt.scatter(depth_vec,pcheck,label='Sucess Probablity')\n",
    "plt.plot(depth_vec,pcheck_rand,label='random guess')\n",
    "plt.scatter(depth_vec,pcheck_log_errors,label='Sucess Probablity + log errors')\n",
    "plt.plot(depth_vec,pcheck_log_errors_rand,label='random guess + log errors')\n",
    "plt.ylim([-0.05,1.05])\n",
    "plt.xlabel('Depth')\n",
    "plt.ylabel('Pr(success+log errors)')\n",
    "plt.title('Pr(success+log errors) vs Depth for Width = {}'.format(wid))\n",
    "plt.legend(bbox_to_anchor=(1.04,1), loc=\"upper left\")\n",
    "plt.show()"
   ]
  },
  {
   "cell_type": "markdown",
   "metadata": {},
   "source": [
    "## Total variation distance from ideal answer and random distribution"
   ]
  },
  {
   "cell_type": "code",
   "execution_count": null,
   "metadata": {},
   "outputs": [],
   "source": [
    "plt.figure()\n",
    "plt.scatter(depth_vec,tvd_ideal,label='TVD(data, ideal)')\n",
    "plt.scatter(depth_vec,tvd_rand,label='TVD(data, rand)')\n",
    "plt.scatter(depth_vec,1-np.asarray(pcheck),label='1-Sucess Probablity',alpha=0.33,marker='^',s=80)\n",
    "#plt.plot(depth_vec,pcheck_log_errors_rand,label='random guess + log errors')\n",
    "plt.ylim([-0.05,1.05])\n",
    "plt.xlabel('Depth')\n",
    "plt.ylabel('Total variation distance')\n",
    "plt.title('Width = {}'.format(wid))\n",
    "plt.legend(bbox_to_anchor=(1.04,1), loc=\"upper left\")\n",
    "plt.show()"
   ]
  },
  {
   "cell_type": "markdown",
   "metadata": {},
   "source": [
    "# Plot depth = width"
   ]
  },
  {
   "cell_type": "code",
   "execution_count": null,
   "metadata": {},
   "outputs": [],
   "source": [
    "max_idx = min([max(res_df['Depth']),max(res_df['Width'])])\n",
    "\n",
    "for idx in range(1,max_idx+1):\n",
    "    distz = get_hamming_dist(res_df, idx, idx)\n",
    "    # combine data from different subgraphs\n",
    "    avg_dist = distz['Hamming dist. data'].mean()\n",
    "    # rand data\n",
    "    rand_dist = distz['Hamming dist. rand'][0]\n",
    "    dep = idx\n",
    "    wid = idx\n",
    "    x_labels = np.arange(0, len(avg_dist))\n",
    "    plt.subplot(1,max_idx,idx)\n",
    "    plt.bar(x_labels, avg_dist, width=0.61, align='center')\n",
    "    plt.bar(x_labels, rand_dist, width=0.31, align='center')\n",
    "    plt.xticks(x_labels)\n",
    "    plt.xlabel('Hamming Weight of Error')\n",
    "    plt.ylabel('Relative Frequency of Occurence')\n",
    "    plt.ylim([0,1])\n",
    "    plt.grid(axis='y', alpha=0.75)\n",
    "    plt.legend(['data','random'])\n",
    "    plt.title('Depth = {}, Width = {}'.format(dep,wid))\n",
    "plt.subplots_adjust(bottom=0.1, right=3.2, top=0.9)\n",
    "plt.show()"
   ]
  },
  {
   "cell_type": "markdown",
   "metadata": {},
   "source": [
    "## Plot the distribution of sublattice widths"
   ]
  },
  {
   "cell_type": "code",
   "execution_count": 65,
   "metadata": {},
   "outputs": [
    {
     "data": {
      "text/plain": [
       "[9, 12, 22, 36, 49, 48, 32, 9, 1, 9, 12, 22, 36, 49, 48, 32, 9, 1]"
      ]
     },
     "execution_count": 65,
     "metadata": {},
     "output_type": "execute_result"
    },
    {
     "data": {
      "image/png": "[encoded data removed]",
      "text/plain": [
       "<Figure size 432x288 with 1 Axes>"
      ]
     },
     "metadata": {},
     "output_type": "display_data"
    }
   ],
   "source": [
    "G = perfect_qc.qubit_topology()\n",
    "len(perfect_qc.qubit_topology())\n",
    "# distribution of graph lengths\n",
    "distr = []\n",
    "for num_nodes in range(1, len(G.nodes) + 1):\n",
    "    listg = generate_connected_subgraphs(G, num_nodes)\n",
    "    distr.append(len(listg))\n",
    "\n",
    "cir_wid = list(range(1, len(G.nodes) + 1))\n",
    "plt.bar(cir_wid, distr, width=0.61, align='center')\n",
    "plt.xticks(cir_wid)\n",
    "plt.xlabel('sublattice / circuit width')\n",
    "plt.ylabel('Frequency of Occurence')\n",
    "plt.grid(axis='y', alpha=0.75)\n",
    "plt.title('Distribution of sublattice widths')\n",
    "disty"
   ]
  },
  {
   "cell_type": "markdown",
   "metadata": {},
   "source": [
    "# Plot success probablity landscape"
   ]
  },
  {
   "cell_type": "markdown",
   "metadata": {},
   "source": [
    "This is just the success probablity as a function of depth and width."
   ]
  },
  {
   "cell_type": "code",
   "execution_count": null,
   "metadata": {},
   "outputs": [],
   "source": [
    "values = np.asarray([munged['Pr. success data'][idx] for idx in munged.index])\n",
    "values"
   ]
  },
  {
   "cell_type": "code",
   "execution_count": null,
   "metadata": {},
   "outputs": [],
   "source": [
    "values_rand = np.asarray([munged['Pr. success rand'][idx] for idx in munged.index])\n",
    "values_rand"
   ]
  },
  {
   "cell_type": "code",
   "execution_count": null,
   "metadata": {},
   "outputs": [],
   "source": [
    "x = np.arange(min(res_df['Depth']), max(res_df['Depth'])+1)\n",
    "\n",
    "y = np.arange(min(res_df['Width']), max(res_df['Width'])+1)\n",
    "\n",
    "X, Y = np.meshgrid(x, y)"
   ]
  },
  {
   "cell_type": "code",
   "execution_count": null,
   "metadata": {},
   "outputs": [],
   "source": [
    "(x1,x2) = X.shape\n",
    "Zdata = np.reshape(values,(x2,x1)).T\n",
    "Zrand = np.reshape(values_rand,(x2,x1)).T"
   ]
  },
  {
   "cell_type": "code",
   "execution_count": null,
   "metadata": {},
   "outputs": [],
   "source": [
    "Zdata"
   ]
  },
  {
   "cell_type": "code",
   "execution_count": null,
   "metadata": {},
   "outputs": [],
   "source": [
    "extent = min(res_df['Depth'])-0.5, max(res_df['Depth'])+0.5, min(res_df['Width'])-0.5, max(res_df['Width'])+0.5\n",
    "ax = plt.gca()\n",
    "img = ax.imshow(Zdata, interpolation='none', extent=extent,\n",
    "                cmap='viridis', origin='lowerleft', vmin=0.0,vmax=1.0)\n",
    "\n",
    "xticks = np.arange(1,max(res_df['Depth'])+1)\n",
    "ax.set_xticks(xticks)\n",
    "ax.set_xticklabels(map(str, xticks))\n",
    "\n",
    "yticks = np.arange(1,max(res_df['Width'])+1)\n",
    "ax.set_yticks(yticks)\n",
    "ax.set_yticklabels(map(str, yticks))\n",
    "\n",
    "ax.set_aspect('equal')\n",
    "plt.colorbar(img, ax=ax)\n",
    "plt.xlabel('Depth')\n",
    "plt.ylabel('Width')\n",
    "plt.title('Success Probability')\n",
    "plt.show()"
   ]
  },
  {
   "cell_type": "code",
   "execution_count": null,
   "metadata": {},
   "outputs": [],
   "source": [
    "extent = min(res_df['Depth'])-0.5, max(res_df['Depth'])+0.5, min(res_df['Width'])-0.5, max(res_df['Width'])+0.5\n",
    "ax = plt.gca()\n",
    "img = ax.imshow(Zrand, interpolation='none', extent=extent,\n",
    "                cmap='viridis', origin='lowerleft', vmin=0.0,vmax=1.0)\n",
    "\n",
    "xticks = np.arange(1,max(res_df['Depth'])+1)\n",
    "ax.set_xticks(xticks)\n",
    "ax.set_xticklabels(map(str, xticks))\n",
    "\n",
    "yticks = np.arange(1,max(res_df['Width'])+1)\n",
    "ax.set_yticks(yticks)\n",
    "ax.set_yticklabels(map(str, yticks))\n",
    "\n",
    "ax.set_aspect('equal')\n",
    "plt.colorbar(img, ax=ax)\n",
    "plt.xlabel('Depth')\n",
    "plt.ylabel('Width')\n",
    "plt.title('Success Probability of Random Guess')\n",
    "plt.show()"
   ]
  },
  {
   "cell_type": "code",
   "execution_count": null,
   "metadata": {},
   "outputs": [],
   "source": [
    "tvd_rand_values = np.asarray([munged['TVD(data, rand)'][idx] for idx in munged.index])\n",
    "tvd_ideal_values = np.asarray([munged['TVD(data, ideal)'][idx] for idx in munged.index])\n",
    "Ztvd_rand = np.reshape(tvd_rand_values,(x2,x1)).T\n",
    "Ztvd_ideal = np.reshape(tvd_ideal_values,(x2,x1)).T"
   ]
  },
  {
   "cell_type": "code",
   "execution_count": null,
   "metadata": {},
   "outputs": [],
   "source": [
    "tvd_ideal_values\n",
    "tvd_rand_values"
   ]
  },
  {
   "cell_type": "code",
   "execution_count": null,
   "metadata": {},
   "outputs": [],
   "source": [
    "extent = min(res_df['Depth'])-0.5, max(res_df['Depth'])+0.5, min(res_df['Width'])-0.5, max(res_df['Width'])+0.5\n",
    "ax = plt.gca()\n",
    "img = ax.imshow(Ztvd_ideal, interpolation='none', extent=extent,\n",
    "                cmap='viridis', origin='lowerleft', vmin=0.0,vmax=1.0)\n",
    "\n",
    "xticks = np.arange(1,max(res_df['Depth'])+1)\n",
    "ax.set_xticks(xticks)\n",
    "ax.set_xticklabels(map(str, xticks))\n",
    "\n",
    "yticks = np.arange(1,max(res_df['Width'])+1)\n",
    "ax.set_yticks(yticks)\n",
    "ax.set_yticklabels(map(str, yticks))\n",
    "\n",
    "ax.set_aspect('equal')\n",
    "plt.colorbar(img, ax=ax)\n",
    "plt.xlabel('Depth')\n",
    "plt.ylabel('Width')\n",
    "plt.title('Success Probability of Random Guess')\n",
    "plt.show()"
   ]
  },
  {
   "cell_type": "code",
   "execution_count": null,
   "metadata": {},
   "outputs": [],
   "source": [
    "extent = min(res_df['Depth'])-0.5, max(res_df['Depth'])+0.5, min(res_df['Width'])-0.5, max(res_df['Width'])+0.5\n",
    "ax = plt.gca()\n",
    "img = ax.imshow(Ztvd_rand, interpolation='none', extent=extent,\n",
    "                cmap='viridis', origin='lowerleft', vmin=0.0,vmax=1.0)\n",
    "\n",
    "xticks = np.arange(1,max(res_df['Depth'])+1)\n",
    "ax.set_xticks(xticks)\n",
    "ax.set_xticklabels(map(str, xticks))\n",
    "\n",
    "yticks = np.arange(1,max(res_df['Width'])+1)\n",
    "ax.set_yticks(yticks)\n",
    "ax.set_yticklabels(map(str, yticks))\n",
    "\n",
    "ax.set_aspect('equal')\n",
    "plt.colorbar(img, ax=ax)\n",
    "plt.xlabel('Depth')\n",
    "plt.ylabel('Width')\n",
    "plt.title('Success Probability of Random Guess')\n",
    "plt.show()"
   ]
  },
  {
   "cell_type": "code",
   "execution_count": null,
   "metadata": {},
   "outputs": [],
   "source": [
    "loge_rand_values = np.asarray([munged['Pr. success loge rand'][idx] for idx in munged.index])\n",
    "loge_data_values = np.asarray([munged['Pr. success loge data'][idx] for idx in munged.index])\n",
    "Zlge_rand = np.reshape(loge_rand_values,(x2,x1)).T\n",
    "Zlge_data = np.reshape(loge_data_values,(x2,x1)).T"
   ]
  },
  {
   "cell_type": "code",
   "execution_count": null,
   "metadata": {},
   "outputs": [],
   "source": [
    "extent = min(res_df['Depth'])-0.5, max(res_df['Depth'])+0.5, min(res_df['Width'])-0.5, max(res_df['Width'])+0.5\n",
    "ax = plt.gca()\n",
    "img = ax.imshow(Zlge_data, interpolation='none', extent=extent,\n",
    "                cmap='viridis', origin='lowerleft', vmin=0.0,vmax=1.0)\n",
    "\n",
    "xticks = np.arange(1,max(res_df['Depth'])+1)\n",
    "ax.set_xticks(xticks)\n",
    "ax.set_xticklabels(map(str, xticks))\n",
    "\n",
    "yticks = np.arange(1,max(res_df['Width'])+1)\n",
    "ax.set_yticks(yticks)\n",
    "ax.set_yticklabels(map(str, yticks))\n",
    "\n",
    "ax.set_aspect('equal')\n",
    "plt.colorbar(img, ax=ax)\n",
    "plt.xlabel('Depth')\n",
    "plt.ylabel('Width')\n",
    "plt.title('Success Probability of Random Guess')\n",
    "plt.show()"
   ]
  },
  {
   "cell_type": "code",
   "execution_count": null,
   "metadata": {},
   "outputs": [],
   "source": [
    "extent = min(res_df['Depth'])-0.5, max(res_df['Depth'])+0.5, min(res_df['Width'])-0.5, max(res_df['Width'])+0.5\n",
    "ax = plt.gca()\n",
    "img = ax.imshow(Zlge_rand, interpolation='none', extent=extent,\n",
    "                cmap='viridis', origin='lowerleft', vmin=0.0,vmax=1.0)\n",
    "\n",
    "xticks = np.arange(1,max(res_df['Depth'])+1)\n",
    "ax.set_xticks(xticks)\n",
    "ax.set_xticklabels(map(str, xticks))\n",
    "\n",
    "yticks = np.arange(1,max(res_df['Width'])+1)\n",
    "ax.set_yticks(yticks)\n",
    "ax.set_yticklabels(map(str, yticks))\n",
    "\n",
    "ax.set_aspect('equal')\n",
    "plt.colorbar(img, ax=ax)\n",
    "plt.xlabel('Depth')\n",
    "plt.ylabel('Width')\n",
    "plt.title('Success Probability of Random Guess')\n",
    "plt.show()"
   ]
  },
  {
   "cell_type": "markdown",
   "metadata": {},
   "source": [
    "# Data exploration"
   ]
  },
  {
   "cell_type": "code",
   "execution_count": null,
   "metadata": {},
   "outputs": [],
   "source": [
    "from scipy.optimize import curve_fit"
   ]
  },
  {
   "cell_type": "code",
   "execution_count": null,
   "metadata": {},
   "outputs": [],
   "source": [
    "size = Y.shape\n",
    "width_1d = Y.reshape((1,np.prod(size)))\n",
    "depth_1d = X.reshape((1,np.prod(size)))"
   ]
  },
  {
   "cell_type": "code",
   "execution_count": null,
   "metadata": {},
   "outputs": [],
   "source": [
    "data_1d = Zdata.reshape((1,np.prod(size)))\n",
    "data_1d.shape\n",
    "width_1d.shape\n"
   ]
  },
  {
   "cell_type": "code",
   "execution_count": null,
   "metadata": {},
   "outputs": [],
   "source": [
    "dims = np.zeros_like(width_1d)\n",
    "dims[0,0] = size[0]\n",
    "dims[0,1] = size[1]\n",
    "\n",
    "xdata = np.vstack((dims,width_1d, depth_1d))\n",
    "\n",
    "\n",
    "\n",
    "xdata"
   ]
  },
  {
   "cell_type": "markdown",
   "metadata": {},
   "source": [
    "## Fitting models"
   ]
  },
  {
   "cell_type": "markdown",
   "metadata": {},
   "source": [
    "Two parameter model \n",
    "\n",
    "\n",
    "$f(W,D,p_W,p_D) =  (1-p_W)^W * (1-p_D)^D $\n",
    "\n",
    "The fidelity is proporional to $1 - p$"
   ]
  },
  {
   "cell_type": "code",
   "execution_count": null,
   "metadata": {},
   "outputs": [],
   "source": [
    "def two_param(x,pw,pd):\n",
    "    temp = x[0]\n",
    "    wid = temp[0]\n",
    "    dep = temp[1]\n",
    "    width = x[1].reshape(wid,dep)\n",
    "    depth = x[2].reshape(wid,dep)\n",
    "    pcheck = (1-pw)**(width) * (1-pd)**depth\n",
    "    rpcheck = pcheck.reshape((1,wid*dep))\n",
    "    return rpcheck.ravel()"
   ]
  },
  {
   "cell_type": "markdown",
   "metadata": {},
   "source": [
    "One parameter model\n",
    "\n",
    "$f(W,D,p) =  (1-p)^{W * D} $"
   ]
  },
  {
   "cell_type": "code",
   "execution_count": null,
   "metadata": {},
   "outputs": [],
   "source": [
    "def one_param(x,p):\n",
    "    temp = x[0]\n",
    "    wid = temp[0]\n",
    "    dep = temp[1]\n",
    "    width = x[1].reshape(wid,dep)\n",
    "    depth = x[2].reshape(wid,dep)\n",
    "    pcheck = (1-p)**(width*depth)\n",
    "    rpcheck = pcheck.reshape((1,wid*dep))\n",
    "    return rpcheck.ravel()"
   ]
  },
  {
   "cell_type": "markdown",
   "metadata": {},
   "source": [
    "From my prior work a better model to fit to is\n",
    "\n",
    "Pcheck$(W,D,p,a,b,c) = \\exp[ -(a p^2 + b p + c)* W*D] $\n"
   ]
  },
  {
   "cell_type": "code",
   "execution_count": null,
   "metadata": {},
   "outputs": [],
   "source": [
    "def two_param_exp(x,p,a,b):\n",
    "    temp = x[0]\n",
    "    wid = temp[0]\n",
    "    dep = temp[1]\n",
    "    width = x[1].reshape(wid,dep)\n",
    "    depth = x[2].reshape(wid,dep)\n",
    "    pcheck = np.exp(-(a*p + b) * width * depth)\n",
    "    rpcheck = pcheck.reshape((1,wid*dep))\n",
    "    return rpcheck.ravel()"
   ]
  },
  {
   "cell_type": "markdown",
   "metadata": {},
   "source": [
    "**Start with one paramter model**"
   ]
  },
  {
   "cell_type": "code",
   "execution_count": null,
   "metadata": {},
   "outputs": [],
   "source": [
    "pguess = 0.1\n",
    "popt, pcov = curve_fit(one_param, xdata, data_1d.ravel(), p0=pguess, bounds=(0, 1))"
   ]
  },
  {
   "cell_type": "code",
   "execution_count": null,
   "metadata": {},
   "outputs": [],
   "source": [
    "print('The estimated error is p = ', str(np.round(popt[0],4)))\n",
    "print('The estimated product of the one and two qubit fidelity is F = ', str(1-np.round(popt[0],4)))\n",
    "#print('The one standard deviation on the estimate is ', str(np.round(np.sqrt(np.diag(pcov)[0]),5)))"
   ]
  },
  {
   "cell_type": "code",
   "execution_count": null,
   "metadata": {},
   "outputs": [],
   "source": [
    "zfit = one_param(xdata,popt)\n",
    "Z_fit = zfit.reshape(size)"
   ]
  },
  {
   "cell_type": "code",
   "execution_count": null,
   "metadata": {},
   "outputs": [],
   "source": [
    "plt.pcolormesh(X,Y, Z_fit)\n",
    "plt.xticks(list(range(1,circuit_depth+1)))\n",
    "plt.yticks(list(range(1,circuit_width+1)))\n",
    "plt.colorbar()\n",
    "plt.show()"
   ]
  },
  {
   "cell_type": "code",
   "execution_count": null,
   "metadata": {},
   "outputs": [],
   "source": [
    "plt.pcolormesh(X,Y,Zdata)\n",
    "plt.xticks(list(range(1,circuit_depth+1)))\n",
    "plt.yticks(list(range(1,circuit_width+1)))\n",
    "plt.colorbar()\n",
    "plt.show()"
   ]
  },
  {
   "cell_type": "markdown",
   "metadata": {},
   "source": [
    "**Two parameter model**"
   ]
  },
  {
   "cell_type": "code",
   "execution_count": null,
   "metadata": {},
   "outputs": [],
   "source": [
    "pguess2d = [0.0276, 0.01, 0.4]"
   ]
  },
  {
   "cell_type": "code",
   "execution_count": null,
   "metadata": {},
   "outputs": [],
   "source": [
    "popt2d, pcov2d = curve_fit(two_param_exp, xdata, data_1d.ravel(), p0=pguess2d , bounds=(0., 1))"
   ]
  },
  {
   "cell_type": "code",
   "execution_count": null,
   "metadata": {},
   "outputs": [],
   "source": [
    "popt2d"
   ]
  },
  {
   "cell_type": "code",
   "execution_count": null,
   "metadata": {},
   "outputs": [],
   "source": [
    "zfit2d = two_param(xdata,popt2d[0],popt2d[1])\n",
    "Z_fit2d = zfit2d.reshape(size)"
   ]
  },
  {
   "cell_type": "code",
   "execution_count": null,
   "metadata": {},
   "outputs": [],
   "source": [
    "plt.pcolormesh(X,Y, Z_fit2d)\n",
    "plt.xticks(list(range(1,circuit_depth+1)))\n",
    "plt.yticks(list(range(1,circuit_width+1)))\n",
    "plt.colorbar()\n",
    "plt.show()"
   ]
  },
  {
   "cell_type": "code",
   "execution_count": null,
   "metadata": {},
   "outputs": [],
   "source": [
    "1-1.02319786e-01"
   ]
  },
  {
   "cell_type": "code",
   "execution_count": null,
   "metadata": {},
   "outputs": [],
   "source": []
  }
 ],
 "metadata": {
  "kernelspec": {
   "display_name": "Python 3",
   "language": "python",
   "name": "python3"
  },
  "language_info": {
   "codemirror_mode": {
    "name": "ipython",
    "version": 3
   },
   "file_extension": ".py",
   "mimetype": "text/x-python",
   "name": "python",
   "nbconvert_exporter": "python",
   "pygments_lexer": "ipython3",
   "version": "3.6.5"
  }
 },
 "nbformat": 4,
 "nbformat_minor": 2
}
