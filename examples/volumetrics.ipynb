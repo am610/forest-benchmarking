{
 "cells": [
  {
   "cell_type": "markdown",
   "metadata": {},
   "source": [
    "# Volumetrics\n",
    "\n",
    "\n",
    "This module that generates circuits on a graph which represents the QPU or QVM lattice. The basic idea is it will compute error rates of circuits as a function of depth and width.\n",
    "\n",
    "The `width` of the circuit is the number of connected vertices on a particular subgraph.\n",
    "\n",
    "The `depth` is defined in context-dependent way; to avoid confusion with circuit depth we may use the term 'repetitions'."
   ]
  },
  {
   "cell_type": "code",
   "execution_count": 1,
   "metadata": {},
   "outputs": [],
   "source": [
    "import random\n",
    "import itertools\n",
    "import networkx as nx\n",
    "import numpy as np\n",
    "import pandas as pd\n",
    "import time\n",
    "# from scipy.spatial.distance import hamming\n",
    "# import scipy.interpolate\n",
    "\n",
    "from matplotlib import pyplot as plt\n",
    "from pyquil.api import get_qc, QuantumComputer, get_benchmarker\n",
    "from pyquil.gates import CNOT, CCNOT, Z, X, I, H, CZ, MEASURE, RESET\n",
    "from pyquil.quilbase import Pragma\n",
    "\n",
    "from forest.benchmarking.volumetrics import *"
   ]
  },
  {
   "cell_type": "markdown",
   "metadata": {},
   "source": [
    "## Get lattice"
   ]
  },
  {
   "cell_type": "code",
   "execution_count": 2,
   "metadata": {},
   "outputs": [],
   "source": [
    "# if you want to run on a \"real lattice\"\n",
    "from pyquil import *\n",
    "#list_quantum_computers()\n",
    "#perfect_qc = get_qc(\"Aspen-1-16Q-A\", as_qvm=True, noisy=False)\n",
    "#noisy_qc = get_qc(\"Aspen-1-16Q-A\") #, as_qvm=True, noisy=True)\n",
    "\n",
    "noisy_qc = get_qc(\"9q-square-qvm\", as_qvm=True, noisy=True)\n",
    "perfect_qc = get_qc(\"9q-square-qvm\", as_qvm=True, noisy=False)"
   ]
  },
  {
   "cell_type": "code",
   "execution_count": 3,
   "metadata": {},
   "outputs": [
    {
     "name": "stderr",
     "output_type": "stream",
     "text": [
      "/home/kylegulshen/anaconda3/lib/python3.6/site-packages/networkx/drawing/nx_pylab.py:518: MatplotlibDeprecationWarning: \n",
      "The iterable function was deprecated in Matplotlib 3.1 and will be removed in 3.3. Use np.iterable instead.\n",
      "  if not cb.iterable(width):\n",
      "/home/kylegulshen/anaconda3/lib/python3.6/site-packages/networkx/drawing/nx_pylab.py:565: MatplotlibDeprecationWarning: \n",
      "The is_numlike function was deprecated in Matplotlib 3.0 and will be removed in 3.2. Use isinstance(..., numbers.Number) instead.\n",
      "  if cb.is_numlike(alpha):\n"
     ]
    },
    {
     "data": {
      "image/png": "[encoded data removed]",
      "text/plain": [
       "<Figure size 432x288 with 1 Axes>"
      ]
     },
     "metadata": {},
     "output_type": "display_data"
    }
   ],
   "source": [
    "nx.draw(perfect_qc.qubit_topology(),with_labels=True)"
   ]
  },
  {
   "cell_type": "code",
   "execution_count": 4,
   "metadata": {},
   "outputs": [],
   "source": [
    "G = perfect_qc.qubit_topology()"
   ]
  },
  {
   "cell_type": "markdown",
   "metadata": {},
   "source": [
    "## Gate sets\n",
    "\n",
    "### Classical"
   ]
  },
  {
   "cell_type": "code",
   "execution_count": 5,
   "metadata": {},
   "outputs": [],
   "source": [
    "def two_q_id(qb1,qb2):\n",
    "    prog = Program()\n",
    "    prog +=I(qb1)\n",
    "    prog +=I(qb2)\n",
    "    return prog\n",
    "\n",
    "one_c_gates = [X,I]\n",
    "two_c_gates = [two_q_id, CNOT]\n",
    "two_c_toffoli = two_c_gates + [CCNOT]\n",
    "\n",
    "# x basis gates\n",
    "from forest.benchmarking.classical_logic import CNOT_X_basis, CCNOT_X_basis\n",
    "one_x_c_gates = [Z, I]\n",
    "two_x_c_gates = [two_q_id, CNOT_X_basis]\n",
    "two_x_c_toffoli = two_x_c_gates + [CCNOT_X_basis]\n",
    "# if you want to do something in the X basis, add Hadamard layers appropriately; see below."
   ]
  },
  {
   "cell_type": "markdown",
   "metadata": {},
   "source": [
    "### Some quantum"
   ]
  },
  {
   "cell_type": "code",
   "execution_count": 6,
   "metadata": {},
   "outputs": [],
   "source": [
    "one_q_gates = [X,Z,I]\n",
    "two_q_gates = [two_q_id,CZ]"
   ]
  },
  {
   "cell_type": "markdown",
   "metadata": {},
   "source": [
    "### Random Cliffords\n",
    "\n",
    "We use a benchmarker for this. Typically we use the native gates from `get_rb_gateset` to implement each clifford."
   ]
  },
  {
   "cell_type": "code",
   "execution_count": 7,
   "metadata": {},
   "outputs": [],
   "source": [
    "from forest.benchmarking.randomized_benchmarking import get_rb_gateset"
   ]
  },
  {
   "cell_type": "code",
   "execution_count": 8,
   "metadata": {},
   "outputs": [],
   "source": [
    "# my config has gone all cattywampus so i need to do this\n",
    "bm = get_benchmarker()#endpoint='tcp://localhost:6000')"
   ]
  },
  {
   "cell_type": "code",
   "execution_count": 9,
   "metadata": {},
   "outputs": [
    {
     "data": {
      "text/plain": [
       "'tcp://127.0.0.1:5555'"
      ]
     },
     "execution_count": 9,
     "metadata": {},
     "output_type": "execute_result"
    }
   ],
   "source": [
    "bm.client.endpoint"
   ]
  },
  {
   "cell_type": "markdown",
   "metadata": {},
   "source": [
    "## Get random gates on a graph"
   ]
  },
  {
   "cell_type": "code",
   "execution_count": 10,
   "metadata": {},
   "outputs": [
    {
     "name": "stdout",
     "output_type": "stream",
     "text": [
      "I 0\n",
      "Z 1\n",
      "X 2\n",
      "I 3\n",
      "Z 4\n",
      "X 5\n",
      "X 6\n",
      "X 7\n",
      "Z 8\n",
      "I 0\n",
      "I 3\n",
      "CZ 0 1\n",
      "CZ 1 4\n",
      "I 1\n",
      "I 2\n",
      "I 2\n",
      "I 5\n",
      "I 3\n",
      "I 6\n",
      "I 3\n",
      "I 4\n",
      "I 4\n",
      "I 7\n",
      "CZ 4 5\n",
      "CZ 5 8\n",
      "CZ 6 7\n",
      "I 7\n",
      "I 8\n",
      "\n"
     ]
    }
   ],
   "source": [
    "prog1 = random_single_qubit_gates(G, one_q_gates)\n",
    "prog2 = random_two_qubit_gates(G, two_q_gates)\n",
    "print(prog1+prog2)"
   ]
  },
  {
   "cell_type": "code",
   "execution_count": 11,
   "metadata": {},
   "outputs": [
    {
     "name": "stdout",
     "output_type": "stream",
     "text": [
      "RZ(-pi) 0\n",
      "RZ(-pi/2) 1\n",
      "RX(-pi/2) 1\n",
      "RZ(-pi) 2\n",
      "RX(-pi) 2\n",
      "RZ(-pi/2) 3\n",
      "RX(pi/2) 3\n",
      "RX(pi/2) 4\n",
      "RX(-pi/2) 5\n",
      "RZ(pi/2) 5\n",
      "RZ(-pi) 6\n",
      "RX(pi/2) 7\n",
      "RZ(pi/2) 7\n",
      "RZ(-pi/2) 8\n",
      "RX(-pi/2) 8\n",
      "\n"
     ]
    }
   ],
   "source": [
    "progy = random_single_qubit_cliffords(bm, G)\n",
    "print(progy)"
   ]
  },
  {
   "cell_type": "markdown",
   "metadata": {},
   "source": [
    "## Make some circuit templates and sample programs from them\n"
   ]
  },
  {
   "cell_type": "code",
   "execution_count": 12,
   "metadata": {},
   "outputs": [
    {
     "name": "stdout",
     "output_type": "stream",
     "text": [
      "I 1\n",
      "X 4\n",
      "I 1\n",
      "X 4\n",
      "\n"
     ]
    }
   ],
   "source": [
    "classical_1q_layer = get_rand_1q_template(one_c_gates)\n",
    "print(classical_1q_layer.sample_program(G, repetitions=2, width=2))"
   ]
  },
  {
   "cell_type": "code",
   "execution_count": 13,
   "metadata": {},
   "outputs": [
    {
     "name": "stdout",
     "output_type": "stream",
     "text": [
      "CNOT 7 8\n",
      "CNOT 7 8\n",
      "\n"
     ]
    }
   ],
   "source": [
    "classical_2q_layer = get_rand_2q_template(two_c_gates)\n",
    "print(classical_2q_layer.sample_program(G, repetitions=2, width=2))"
   ]
  },
  {
   "cell_type": "code",
   "execution_count": 14,
   "metadata": {},
   "outputs": [
    {
     "name": "stdout",
     "output_type": "stream",
     "text": [
      "H 1\n",
      "H 2\n",
      "H 4\n",
      "H 7\n",
      "\n"
     ]
    }
   ],
   "source": [
    "switch_basis_layer = get_switch_basis_x_z_template()\n",
    "print(switch_basis_layer.sample_program(G, repetitions=1, width=4))"
   ]
  },
  {
   "cell_type": "code",
   "execution_count": 15,
   "metadata": {},
   "outputs": [
    {
     "name": "stdout",
     "output_type": "stream",
     "text": [
      "RX(pi/2) 1\n",
      "CZ 0 1\n",
      "RX(-pi/2) 1\n",
      "RX(-pi/2) 0\n",
      "CZ 0 1\n",
      "RZ(pi/2) 1\n",
      "RZ(-pi/2) 0\n",
      "RX(-pi/2) 0\n",
      "RX(-pi/2) 1\n",
      "CZ 0 1\n",
      "RZ(-pi/2) 0\n",
      "RX(-pi/2) 0\n",
      "CZ 0 1\n",
      "RX(-pi/2) 0\n",
      "\n"
     ]
    }
   ],
   "source": [
    "clifford_1q_layer = get_rand_1q_cliff_template(bm)\n",
    "clifford_2q_layer = get_rand_2q_cliff_template(bm)\n",
    "print(clifford_2q_layer.sample_program(G, repetitions=2, width=2))"
   ]
  },
  {
   "cell_type": "code",
   "execution_count": 16,
   "metadata": {},
   "outputs": [
    {
     "name": "stdout",
     "output_type": "stream",
     "text": [
      "RZ(-2.0251704131299655) 1\n",
      "RX(pi/2) 1\n",
      "RZ(1.671564714694243) 1\n",
      "RX(-pi/2) 1\n",
      "RZ(-1.3830973810959275) 2\n",
      "RX(pi/2) 2\n",
      "RZ(1.2413369689433633) 2\n",
      "RX(-pi/2) 2\n",
      "CZ 2 1\n",
      "RZ(-2.8836019621636186) 1\n",
      "RX(pi/2) 1\n",
      "RZ(0.9759904846486989) 2\n",
      "RX(-pi/2) 2\n",
      "CZ 2 1\n",
      "RX(-pi/2) 1\n",
      "RX(pi/2) 2\n",
      "CZ 2 1\n",
      "RZ(2.593711329555103) 1\n",
      "RX(pi/2) 1\n",
      "RZ(2.471415229947945) 1\n",
      "RX(-pi/2) 1\n",
      "RZ(-0.6337679516296877) 1\n",
      "RZ(0.10419300890719785) 2\n",
      "RX(pi/2) 2\n",
      "RZ(1.8274486780321837) 2\n",
      "RX(-pi/2) 2\n",
      "RZ(0.4809127509292681) 2\n",
      "\n"
     ]
    }
   ],
   "source": [
    "rand_perm_layer = get_rand_qubit_perm_template()\n",
    "# sometimes this returns an empty program, i.e. no permutation\n",
    "print(rand_perm_layer.sample_program(G, 1, qc=noisy_qc, width=3))"
   ]
  },
  {
   "cell_type": "code",
   "execution_count": 17,
   "metadata": {},
   "outputs": [
    {
     "name": "stdout",
     "output_type": "stream",
     "text": [
      "RZ(1.229760623484783) 3\n",
      "RX(pi/2) 3\n",
      "RZ(1.021574308763614) 3\n",
      "RX(-pi/2) 3\n",
      "RZ(-1.8486661215139757) 4\n",
      "RX(pi/2) 4\n",
      "RZ(1.1613694661492238) 4\n",
      "RX(-pi/2) 4\n",
      "CZ 4 3\n",
      "RZ(-2.107290395324421) 3\n",
      "RX(pi/2) 3\n",
      "RZ(2.482724125564382) 3\n",
      "RX(-pi/2) 3\n",
      "RZ(-0.14029325543178395) 4\n",
      "RX(-pi/2) 4\n",
      "CZ 4 3\n",
      "RX(pi/2) 3\n",
      "RZ(-1.9416631561063133) 3\n",
      "RX(-pi/2) 3\n",
      "RZ(1.8868409863344517) 4\n",
      "RX(pi/2) 4\n",
      "CZ 4 3\n",
      "RZ(1.722512065613851) 3\n",
      "RX(pi/2) 3\n",
      "RZ(1.1538066968468772) 3\n",
      "RX(-pi/2) 3\n",
      "RZ(-3.0483439973439523) 3\n",
      "RZ(-0.3273187044737542) 4\n",
      "RX(pi/2) 4\n",
      "RZ(1.3899233354854028) 4\n",
      "RX(-pi/2) 4\n",
      "RZ(-3.0375946996294916) 4\n",
      "\n"
     ]
    }
   ],
   "source": [
    "rand_su4_layer = get_rand_su4_template()\n",
    "print(rand_su4_layer.sample_program(G, 1, qc=noisy_qc, width=2))"
   ]
  },
  {
   "cell_type": "markdown",
   "metadata": {},
   "source": [
    "## Compose templates"
   ]
  },
  {
   "cell_type": "code",
   "execution_count": 18,
   "metadata": {},
   "outputs": [
    {
     "name": "stdout",
     "output_type": "stream",
     "text": [
      "I 1\n",
      "I 4\n",
      "X 6\n",
      "I 7\n",
      "I 1\n",
      "I 4\n",
      "CNOT 4 7\n",
      "I 6\n",
      "I 7\n",
      "I 1\n",
      "X 4\n",
      "I 6\n",
      "I 7\n",
      "I 1\n",
      "I 4\n",
      "CNOT 4 7\n",
      "I 6\n",
      "I 7\n",
      "\n"
     ]
    }
   ],
   "source": [
    "classical_1q_2q = classical_1q_layer + classical_2q_layer\n",
    "print(classical_1q_2q.sample_program(G, repetitions=2, width=4))"
   ]
  },
  {
   "cell_type": "markdown",
   "metadata": {},
   "source": [
    "Classical Logic in X basis"
   ]
  },
  {
   "cell_type": "code",
   "execution_count": 19,
   "metadata": {},
   "outputs": [
    {
     "name": "stdout",
     "output_type": "stream",
     "text": [
      "H 5\n",
      "H 8\n",
      "I 5\n",
      "Z 8\n",
      "I 5\n",
      "I 8\n",
      "I 5\n",
      "I 8\n",
      "I 5\n",
      "I 8\n",
      "Z 5\n",
      "I 8\n",
      "I 5\n",
      "I 8\n",
      "H 5\n",
      "H 8\n",
      "\n"
     ]
    }
   ],
   "source": [
    "logic_layers = get_rand_1q_template(one_x_c_gates) + get_rand_2q_template(two_x_c_gates)\n",
    "classical_x_1q_2q = switch_basis_layer + logic_layers + switch_basis_layer\n",
    "# here we demonstrate a simple use of a pattern. We want to do the basis switch at beginning and end \n",
    "# while doing the repetitions in between some variable number of times.\n",
    "# The pattern says to do the 0 idx generator, do [1,2] idx generators n times, then finish with 3 idx generator\n",
    "classical_x_1q_2q.pattern = [0, ([1, 2], 'n'), 3]\n",
    "print(classical_x_1q_2q.sample_program(G, repetitions=3, width=2))\n",
    "# note that the x basis CNOT(0, 1) is H(0) CZ(0, 1) H(0)"
   ]
  },
  {
   "cell_type": "code",
   "execution_count": 20,
   "metadata": {},
   "outputs": [
    {
     "name": "stdout",
     "output_type": "stream",
     "text": [
      "RX(pi/2) 7\n",
      "RZ(pi/2) 7\n",
      "RX(pi/2) 8\n",
      "RZ(-pi) 8\n",
      "CZ 7 8\n",
      "RZ(pi/2) 7\n",
      "RX(pi/2) 7\n",
      "CZ 7 8\n",
      "RX(-pi/2) 8\n",
      "CZ 7 8\n",
      "RX(-pi/2) 8\n",
      "RZ(-pi) 8\n",
      "RX(-pi/2) 7\n",
      "RX(pi/2) 7\n",
      "RZ(-pi) 7\n",
      "RX(pi/2) 8\n",
      "RZ(pi/2) 8\n",
      "RX(-pi/2) 8\n",
      "CZ 7 8\n",
      "RZ(-pi) 8\n",
      "RX(-pi) 8\n",
      "RX(pi/2) 7\n",
      "RZ(-pi) 7\n",
      "RZ(-pi/2) 8\n",
      "RX(-pi/2) 8\n",
      "CZ 7 8\n",
      "RX(-pi/2) 7\n",
      "CZ 7 8\n",
      "RX(pi/2) 8\n",
      "CZ 7 8\n",
      "RZ(pi/2) 8\n",
      "RZ(-pi) 7\n",
      "CZ 7 8\n",
      "RZ(-pi/2) 7\n",
      "RX(pi) 7\n",
      "RZ(pi/2) 8\n",
      "\n",
      "This program compiles away to nothing: \n",
      "HALT\n",
      "\n"
     ]
    }
   ],
   "source": [
    "clifford_sandwich = clifford_1q_layer + clifford_2q_layer + get_dagger_all_template()\n",
    "# here we demonstrate another simple use of a pattern. We want to do some Clifford layers n=reps\n",
    "# number of times and then dagger the result of all those reps. \n",
    "clifford_sandwich.pattern = [([0, 1], 'n'), -1]\n",
    "prog = clifford_sandwich.sample_program(G, repetitions=3, width=2,  qc=noisy_qc)\n",
    "print(prog)\n",
    "\n",
    "# We can check that this is the identity by compiling it fully\n",
    "print(\"This program compiles away to nothing: \")\n",
    "print(noisy_qc.compiler.quil_to_native_quil(prog))"
   ]
  },
  {
   "cell_type": "markdown",
   "metadata": {},
   "source": [
    "### Quantum Volume (unoptimized)"
   ]
  },
  {
   "cell_type": "code",
   "execution_count": 21,
   "metadata": {},
   "outputs": [
    {
     "name": "stdout",
     "output_type": "stream",
     "text": [
      "RZ(-0.8641532304474019) 1\n",
      "RX(pi/2) 1\n",
      "RZ(1.7808942053169874) 1\n",
      "RX(-pi/2) 1\n",
      "RZ(-2.6643255812379083) 4\n",
      "RX(pi/2) 4\n",
      "RZ(2.0043626992256676) 4\n",
      "RX(-pi/2) 4\n",
      "CZ 4 1\n",
      "RZ(-2.799167617521931) 1\n",
      "RX(pi/2) 1\n",
      "RZ(0.7455745773745162) 4\n",
      "RX(-pi/2) 4\n",
      "CZ 4 1\n",
      "RX(-pi/2) 1\n",
      "RX(pi/2) 4\n",
      "CZ 4 1\n",
      "RZ(-0.20077346339921417) 6\n",
      "RX(pi/2) 6\n",
      "RZ(2.3449414168436298) 6\n",
      "RX(-pi/2) 6\n",
      "RZ(2.674613203581612) 7\n",
      "RX(pi/2) 7\n",
      "RZ(2.8748575877909186) 7\n",
      "RX(-pi/2) 7\n",
      "CZ 6 7\n",
      "RZ(-0.6998364886265129) 6\n",
      "RX(-pi/2) 6\n",
      "RZ(1.5266500311606386) 7\n",
      "RX(pi/2) 7\n",
      "CZ 6 7\n",
      "RX(pi/2) 6\n",
      "RX(-pi/2) 7\n",
      "CZ 6 7\n",
      "RZ(-2.5793233598017915) 1\n",
      "RX(pi/2) 1\n",
      "RZ(2.233974482186892) 1\n",
      "RX(-pi/2) 1\n",
      "RZ(1.4635738000386729) 1\n",
      "RZ(0.2226353086547841) 4\n",
      "RX(pi/2) 4\n",
      "RZ(1.9053936593982221) 4\n",
      "RX(-pi/2) 4\n",
      "RZ(-0.6324362614980146) 4\n",
      "RZ(1.5828546357752606) 6\n",
      "RX(pi/2) 6\n",
      "RZ(1.3043274722923732) 6\n",
      "RX(-pi/2) 6\n",
      "RZ(0.42121697889691667) 6\n",
      "RZ(-2.234688373097791) 7\n",
      "RX(pi/2) 7\n",
      "RZ(1.0921946277729302) 7\n",
      "RX(-pi/2) 7\n",
      "RZ(-1.9020569633479152) 7\n",
      "RZ(0.12026136251530943) 1\n",
      "RX(pi/2) 1\n",
      "RZ(2.760741097209706) 1\n",
      "RX(-pi/2) 1\n",
      "RZ(-0.19407201970360116) 4\n",
      "RX(pi/2) 4\n",
      "RZ(2.731205020645688) 4\n",
      "RX(-pi/2) 4\n",
      "CZ 4 1\n",
      "RZ(2.9913987257906114) 1\n",
      "RX(pi/2) 1\n",
      "RZ(2.381260066389701) 1\n",
      "RX(-pi/2) 1\n",
      "RZ(-1.0062235109081223) 4\n",
      "RX(-pi/2) 4\n",
      "CZ 4 1\n",
      "RX(pi/2) 1\n",
      "RZ(-2.1011655331520114) 1\n",
      "RX(-pi/2) 1\n",
      "RZ(1.4714866788648049) 4\n",
      "RX(pi/2) 4\n",
      "CZ 4 1\n",
      "RZ(2.681587358746009) 6\n",
      "RX(pi/2) 6\n",
      "RZ(1.145322214234437) 6\n",
      "RX(-pi/2) 6\n",
      "RZ(0.42268194542614684) 7\n",
      "RX(pi/2) 7\n",
      "RZ(0.3302129127366493) 7\n",
      "RX(-pi/2) 7\n",
      "CZ 7 6\n",
      "RZ(0.7497917391598987) 6\n",
      "RX(pi/2) 6\n",
      "RZ(2.1911397526133936) 6\n",
      "RX(-pi/2) 6\n",
      "RZ(-2.645906731469793) 7\n",
      "RX(-pi/2) 7\n",
      "CZ 7 6\n",
      "RX(pi/2) 6\n",
      "RZ(-1.9467840608351485) 6\n",
      "RX(-pi/2) 6\n",
      "RZ(2.0278082409344247) 7\n",
      "RX(pi/2) 7\n",
      "CZ 7 6\n",
      "RZ(3.0892959731125442) 1\n",
      "RX(pi/2) 1\n",
      "RZ(0.7738817655280112) 1\n",
      "RX(-pi/2) 1\n",
      "RZ(2.640818704139539) 1\n",
      "RZ(1.6668113272427958) 4\n",
      "RX(pi/2) 4\n",
      "RZ(1.180775329773855) 4\n",
      "RX(-pi/2) 4\n",
      "RZ(-3.0301357643216926) 4\n",
      "RZ(-1.768975640145431) 6\n",
      "RX(pi/2) 6\n",
      "RZ(2.7621193361118634) 6\n",
      "RX(-pi/2) 6\n",
      "RZ(-2.316723695066401) 6\n",
      "RZ(1.3002373035047665) 7\n",
      "RX(pi/2) 7\n",
      "RZ(1.0070237697628064) 7\n",
      "RX(-pi/2) 7\n",
      "RZ(-0.6315527400742404) 7\n",
      "RZ(pi/2) 7\n",
      "RX(pi/2) 7\n",
      "CZ 4 7\n",
      "RZ(-pi/2) 8\n",
      "RX(pi/2) 8\n",
      "CZ 8 5\n",
      "RZ(-pi/2) 3\n",
      "RX(-pi/2) 3\n",
      "CZ 4 3\n",
      "RZ(0.2541232022451809) 7\n",
      "RX(-pi/2) 7\n",
      "RZ(1.7606903460813397) 7\n",
      "RX(-pi/2) 7\n",
      "RZ(0.06800888830331697) 7\n",
      "RZ(pi/2) 5\n",
      "RX(pi/2) 5\n",
      "CZ 5 4\n",
      "RZ(pi/2) 8\n",
      "RZ(1.3220621257504106) 4\n",
      "RX(pi/2) 4\n",
      "RZ(2.7411032156149853) 4\n",
      "RX(-pi/2) 4\n",
      "RZ(-3.016358651139785) 7\n",
      "RX(pi/2) 7\n",
      "RZ(1.616701298429655) 7\n",
      "RX(-pi/2) 7\n",
      "CZ 4 7\n",
      "RZ(-2.705575250229627) 4\n",
      "RX(-pi/2) 4\n",
      "RZ(0.1536344534916001) 7\n",
      "RX(pi/2) 7\n",
      "CZ 4 7\n",
      "RX(pi/2) 4\n",
      "RX(-pi/2) 7\n",
      "CZ 4 7\n",
      "RZ(pi) 5\n",
      "RX(pi/2) 5\n",
      "CZ 8 5\n",
      "RZ(2.8221917374899497) 3\n",
      "RX(pi/2) 3\n",
      "RZ(1.1919079424460703) 3\n",
      "RX(-pi/2) 3\n",
      "RZ(3.010367257651838) 4\n",
      "RX(pi/2) 4\n",
      "RZ(1.2633936148381562) 4\n",
      "RX(-pi/2) 4\n",
      "CZ 3 4\n",
      "RZ(2.869494622187517) 3\n",
      "RX(-pi/2) 3\n",
      "RZ(2.6155543293115784) 4\n",
      "RX(pi/2) 4\n",
      "CZ 3 4\n",
      "RX(pi/2) 3\n",
      "RX(-pi/2) 4\n",
      "CZ 3 4\n",
      "RZ(0.15485511301534857) 7\n",
      "RX(pi/2) 7\n",
      "RZ(2.4699542597235826) 7\n",
      "RX(-pi/2) 7\n",
      "RZ(pi) 8\n",
      "RX(pi/2) 8\n",
      "CZ 7 8\n",
      "RX(pi/2) 8\n",
      "CZ 8 5\n",
      "RZ(2.4749330734440305) 7\n",
      "RX(pi/2) 7\n",
      "RZ(1.5098752286749915) 8\n",
      "RX(pi/2) 8\n",
      "CZ 7 8\n",
      "RX(pi/2) 7\n",
      "RX(pi/2) 8\n",
      "CZ 7 8\n",
      "RZ(-1.4831299594007132) 5\n",
      "RX(pi/2) 5\n",
      "RZ(0.9516592519786704) 5\n",
      "RX(-pi/2) 5\n",
      "RZ(0.08589365890059497) 5\n",
      "RZ(2.470011324622275) 4\n",
      "RX(pi/2) 4\n",
      "RZ(2.653608071124633) 4\n",
      "RX(-pi/2) 4\n",
      "RZ(pi) 7\n",
      "RX(pi/2) 7\n",
      "CZ 7 4\n",
      "RZ(pi) 8\n",
      "RX(pi/2) 8\n",
      "RZ(1.1719292755413866) 8\n",
      "RX(-pi/2) 8\n",
      "RZ(pi/2) 8\n",
      "RZ(2.9209707595571577) 4\n",
      "RX(pi/2) 4\n",
      "RZ(0.6880470772796183) 4\n",
      "RX(-pi/2) 4\n",
      "RZ(-0.2441148618968887) 5\n",
      "RX(pi/2) 5\n",
      "RZ(1.9375880609524052) 5\n",
      "RX(-pi/2) 5\n",
      "CZ 5 4\n",
      "RZ(-2.0487801216282904) 4\n",
      "RX(pi/2) 4\n",
      "RZ(1.7190566394575075) 5\n",
      "RX(-pi/2) 5\n",
      "CZ 5 4\n",
      "RX(-pi/2) 4\n",
      "RX(pi/2) 5\n",
      "CZ 5 4\n",
      "CZ 7 8\n",
      "RZ(1.046390280406684) 4\n",
      "RX(pi/2) 4\n",
      "RZ(2.8427471371080055) 4\n",
      "RX(-pi/2) 4\n",
      "RZ(1.5098752286749928) 7\n",
      "RX(pi/2) 7\n",
      "CZ 7 4\n",
      "RZ(-2.0067674589980955) 5\n",
      "RX(pi/2) 5\n",
      "RZ(1.6673410086784086) 5\n",
      "RX(-pi/2) 5\n",
      "RZ(-2.5041413695266606) 8\n",
      "RX(pi/2) 8\n",
      "RZ(0.6149382734757745) 8\n",
      "RX(-pi/2) 8\n",
      "CZ 8 5\n",
      "RZ(2.260168447570746) 5\n",
      "RX(pi/2) 5\n",
      "RZ(1.3071692431834645) 8\n",
      "RX(-pi/2) 8\n",
      "CZ 8 5\n",
      "RX(-pi/2) 5\n",
      "RX(pi/2) 8\n",
      "CZ 8 5\n",
      "RZ(1.1564134098006082) 4\n",
      "RX(-pi/2) 7\n",
      "RZ(-1.3600840307011612) 8\n",
      "RX(pi/2) 8\n",
      "RZ(2.4434993460474983) 8\n",
      "RX(-pi/2) 8\n",
      "CZ 7 8\n",
      "RZ(-1.0111450951835077) 5\n",
      "RX(pi/2) 5\n",
      "RZ(1.4744430715555954) 5\n",
      "RX(-pi/2) 5\n",
      "RZ(0.3834044237272329) 8\n",
      "RX(pi/2) 8\n",
      "RZ(1.4821212057302902) 8\n",
      "RX(-pi/2) 8\n",
      "CZ 5 8\n",
      "RZ(0.032780267726042034) 5\n",
      "RX(-pi/2) 5\n",
      "RZ(0.15250284243271306) 8\n",
      "RX(pi/2) 8\n",
      "CZ 5 8\n",
      "RX(pi/2) 5\n",
      "RX(-pi/2) 8\n",
      "CZ 5 8\n",
      "RZ(0.6715813289675185) 3\n",
      "RX(pi/2) 3\n",
      "RZ(2.6536080711246335) 3\n",
      "RX(-pi/2) 3\n",
      "RZ(-2.1324260969094393) 3\n",
      "RZ(-1.033337876888544) 8\n",
      "RX(pi/2) 8\n",
      "RZ(1.8653761274960503) 8\n",
      "RX(-pi/2) 8\n",
      "CZ 7 8\n",
      "CZ 7 4\n",
      "RZ(3.07031435301554) 8\n",
      "RZ(-1.6026258039475871) 3\n",
      "RX(pi/2) 3\n",
      "RZ(pi/2) 4\n",
      "RX(pi/2) 4\n",
      "RZ(0.1266877181014475) 4\n",
      "RX(-pi/2) 4\n",
      "CZ 3 4\n",
      "RX(pi/2) 3\n",
      "RZ(pi) 4\n",
      "RX(pi/2) 4\n",
      "CZ 3 4\n",
      "RX(pi/2) 4\n",
      "RZ(1.6026258039475867) 4\n",
      "RX(-pi/2) 4\n",
      "RZ(-2.5102263297960583) 5\n",
      "RX(pi/2) 5\n",
      "RZ(2.964806801521953) 5\n",
      "RX(-pi/2) 5\n",
      "CZ 5 4\n",
      "RZ(pi) 3\n",
      "RX(pi/2) 3\n",
      "RZ(pi) 4\n",
      "RX(-pi/2) 4\n",
      "CZ 4 3\n",
      "RZ(2.1055380871205696) 5\n",
      "RX(pi/2) 5\n",
      "CZ 4 5\n",
      "CZ 8 7\n",
      "RZ(-1.4441086086934485) 3\n",
      "RX(pi/2) 4\n",
      "RZ(-pi/2) 4\n",
      "RZ(-pi/2) 5\n",
      "RX(-pi/2) 5\n",
      "RZ(pi/2) 7\n",
      "RX(pi/2) 7\n",
      "RZ(-pi/2) 7\n",
      "RZ(pi/2) 8\n",
      "RZ(-1.9179737616706731) 1\n",
      "RX(pi/2) 1\n",
      "RZ(2.7580641940314674) 1\n",
      "RX(-pi/2) 1\n",
      "RZ(2.103827480990312) 4\n",
      "RX(pi/2) 4\n",
      "RZ(2.4261327261822005) 4\n",
      "RX(-pi/2) 4\n",
      "CZ 4 1\n",
      "RZ(-0.0746540466309824) 1\n",
      "RX(pi/2) 1\n",
      "RZ(2.3378222633281918) 1\n",
      "RX(-pi/2) 1\n",
      "RZ(-3.101976748656244) 4\n",
      "RX(-pi/2) 4\n",
      "CZ 4 1\n",
      "RX(pi/2) 1\n",
      "RZ(-1.6828206552393956) 1\n",
      "RX(-pi/2) 1\n",
      "RZ(1.2129626228964288) 4\n",
      "RX(pi/2) 4\n",
      "CZ 4 1\n",
      "RZ(3.073283039474418) 6\n",
      "RX(pi/2) 6\n",
      "RZ(1.2070077288313432) 6\n",
      "RX(-pi/2) 6\n",
      "RZ(-2.9785487060103346) 7\n",
      "RX(pi/2) 7\n",
      "RZ(1.2566567043188017) 7\n",
      "RX(-pi/2) 7\n",
      "CZ 7 6\n",
      "RZ(-1.9142148208378869) 6\n",
      "RX(pi/2) 6\n",
      "RZ(2.4829359184525104) 6\n",
      "RX(-pi/2) 6\n",
      "RZ(-1.5228636897740027) 7\n",
      "RX(-pi/2) 7\n",
      "CZ 7 6\n",
      "RX(pi/2) 6\n",
      "RZ(-1.9781669103320185) 6\n",
      "RX(-pi/2) 6\n",
      "RZ(1.7014161632153417) 7\n",
      "RX(pi/2) 7\n",
      "CZ 7 6\n",
      "RZ(2.9847832937338286) 1\n",
      "RX(pi/2) 1\n",
      "RZ(2.1731140427823594) 1\n",
      "RX(-pi/2) 1\n",
      "RZ(1.4311645810389457) 1\n",
      "RZ(-2.0277437985107856) 4\n",
      "RX(pi/2) 4\n",
      "RZ(1.9977020985722398) 4\n",
      "RX(-pi/2) 4\n",
      "RZ(-0.8175993980856856) 4\n",
      "RZ(1.3992119693179836) 6\n",
      "RX(pi/2) 6\n",
      "RZ(0.8510400157697318) 6\n",
      "RX(-pi/2) 6\n",
      "RZ(1.2490972021190985) 6\n",
      "RZ(-0.440247394584508) 7\n",
      "RX(pi/2) 7\n",
      "RZ(1.2481338079501691) 7\n",
      "RX(-pi/2) 7\n",
      "RZ(-2.9509879453319843) 7\n",
      "\n"
     ]
    }
   ],
   "source": [
    "qv_template = rand_perm_layer + rand_su4_layer\n",
    "print(qv_template.sample_program(G, repetitions=2, qc=noisy_qc, width=5))"
   ]
  },
  {
   "cell_type": "markdown",
   "metadata": {},
   "source": [
    "## Acquire data for ranges of (width, depth)"
   ]
  },
  {
   "cell_type": "code",
   "execution_count": 22,
   "metadata": {},
   "outputs": [
    {
     "name": "stdout",
     "output_type": "stream",
     "text": [
      "{2: {3: [<pyquil.quil.Program object at 0x7f886016a908>, <pyquil.quil.Program object at 0x7f8860110048>, <pyquil.quil.Program object at 0x7f8860110908>, <pyquil.quil.Program object at 0x7f8860110f28>, <pyquil.quil.Program object at 0x7f886010aa90>, <pyquil.quil.Program object at 0x7f8860094208>, <pyquil.quil.Program object at 0x7f8860094d30>, <pyquil.quil.Program object at 0x7f886009b400>, <pyquil.quil.Program object at 0x7f886009bc18>, <pyquil.quil.Program object at 0x7f886009e4e0>], 4: [<pyquil.quil.Program object at 0x7f88600946d8>, <pyquil.quil.Program object at 0x7f886009eda0>, <pyquil.quil.Program object at 0x7f88600a4710>, <pyquil.quil.Program object at 0x7f88600a4e80>, <pyquil.quil.Program object at 0x7f88600a9828>, <pyquil.quil.Program object at 0x7f88600a9780>, <pyquil.quil.Program object at 0x7f88600ad080>, <pyquil.quil.Program object at 0x7f88600ada90>, <pyquil.quil.Program object at 0x7f88600b13c8>, <pyquil.quil.Program object at 0x7f88600b80b8>], 5: [<pyquil.quil.Program object at 0x7f88600b8160>, <pyquil.quil.Program object at 0x7f88600b8b38>, <pyquil.quil.Program object at 0x7f88600bc6a0>, <pyquil.quil.Program object at 0x7f88600c02b0>, <pyquil.quil.Program object at 0x7f88600c05f8>, <pyquil.quil.Program object at 0x7f88600c0f28>, <pyquil.quil.Program object at 0x7f88600c5b00>, <pyquil.quil.Program object at 0x7f88600ca780>, <pyquil.quil.Program object at 0x7f88600ca940>, <pyquil.quil.Program object at 0x7f88600cf5c0>]}, 3: {3: [<pyquil.quil.Program object at 0x7f88600d2160>, <pyquil.quil.Program object at 0x7f88600d2be0>, <pyquil.quil.Program object at 0x7f8860058080>, <pyquil.quil.Program object at 0x7f88600587b8>, <pyquil.quil.Program object at 0x7f886005c748>, <pyquil.quil.Program object at 0x7f886005cdd8>, <pyquil.quil.Program object at 0x7f8860060438>, <pyquil.quil.Program object at 0x7f8860065198>, <pyquil.quil.Program object at 0x7f8860065c18>, <pyquil.quil.Program object at 0x7f886006b518>], 4: [<pyquil.quil.Program object at 0x7f88600b8cc0>, <pyquil.quil.Program object at 0x7f886006bac8>, <pyquil.quil.Program object at 0x7f886006f630>, <pyquil.quil.Program object at 0x7f88600750b8>, <pyquil.quil.Program object at 0x7f8860075b38>, <pyquil.quil.Program object at 0x7f8860079cc0>, <pyquil.quil.Program object at 0x7f886007f470>, <pyquil.quil.Program object at 0x7f8860082160>, <pyquil.quil.Program object at 0x7f88600882b0>, <pyquil.quil.Program object at 0x7f8860088d30>], 5: [<pyquil.quil.Program object at 0x7f886008cda0>, <pyquil.quil.Program object at 0x7f8860091eb8>, <pyquil.quil.Program object at 0x7f8860015ac8>, <pyquil.quil.Program object at 0x7f886001acf8>, <pyquil.quil.Program object at 0x7f886001fb70>, <pyquil.quil.Program object at 0x7f8860024eb8>, <pyquil.quil.Program object at 0x7f886002aef0>, <pyquil.quil.Program object at 0x7f8860030a20>, <pyquil.quil.Program object at 0x7f8860034c18>, <pyquil.quil.Program object at 0x7f8860030e10>]}, 4: {3: [<pyquil.quil.Program object at 0x7f886003e6a0>, <pyquil.quil.Program object at 0x7f8860040780>, <pyquil.quil.Program object at 0x7f8860043f98>, <pyquil.quil.Program object at 0x7f88600460f0>, <pyquil.quil.Program object at 0x7f8860040898>, <pyquil.quil.Program object at 0x7f88600529e8>, <pyquil.quil.Program object at 0x7f8859fc4940>, <pyquil.quil.Program object at 0x7f8859fc35f8>, <pyquil.quil.Program object at 0x7f8859fc8470>, <pyquil.quil.Program object at 0x7f8859fcfef0>], 4: [<pyquil.quil.Program object at 0x7f8859fd74e0>, <pyquil.quil.Program object at 0x7f8859fd78d0>, <pyquil.quil.Program object at 0x7f886002a940>, <pyquil.quil.Program object at 0x7f8859fd6080>, <pyquil.quil.Program object at 0x7f8859fe2320>, <pyquil.quil.Program object at 0x7f8859fe7390>, <pyquil.quil.Program object at 0x7f8859fef7b8>, <pyquil.quil.Program object at 0x7f8859ff25f8>, <pyquil.quil.Program object at 0x7f8859ff8c18>, <pyquil.quil.Program object at 0x7f8859ffde80>], 5: [<pyquil.quil.Program object at 0x7f8859f874e0>, <pyquil.quil.Program object at 0x7f8859f89940>, <pyquil.quil.Program object at 0x7f8859f95208>, <pyquil.quil.Program object at 0x7f8859f969b0>, <pyquil.quil.Program object at 0x7f8859fa42e8>, <pyquil.quil.Program object at 0x7f8859fa7c88>, <pyquil.quil.Program object at 0x7f8859fb10b8>, <pyquil.quil.Program object at 0x7f8859fb7780>, <pyquil.quil.Program object at 0x7f8859fbacf8>, <pyquil.quil.Program object at 0x7f8859f41518>]}}\n"
     ]
    }
   ],
   "source": [
    "widths = [2, 3, 4]\n",
    "depths = [3, 4, 5]\n",
    "ckt = classical_1q_2q\n",
    "prog_array = generate_volumetric_program_array(noisy_qc, ckt, widths, depths, num_circuit_samples=10)\n",
    "print(prog_array)"
   ]
  },
  {
   "cell_type": "code",
   "execution_count": 23,
   "metadata": {},
   "outputs": [],
   "source": [
    "noisy_results = acquire_volumetric_data(noisy_qc, prog_array)"
   ]
  },
  {
   "cell_type": "code",
   "execution_count": 24,
   "metadata": {},
   "outputs": [
    {
     "name": "stdout",
     "output_type": "stream",
     "text": [
      "{2: {3: [array([[1, 0]]), array([[0, 1]]), array([[1, 1]]), array([[0, 0]]), array([[0, 0]]), array([[0, 1]]), array([[1, 1]]), array([[0, 0]]), array([[0, 0]]), array([[0, 1]])], 4: [array([[0, 0]]), array([[1, 1]]), array([[0, 0]]), array([[1, 1]]), array([[1, 1]]), array([[1, 1]]), array([[0, 0]]), array([[0, 1]]), array([[0, 0]]), array([[1, 1]])], 5: [array([[0, 0]]), array([[0, 0]]), array([[1, 1]]), array([[0, 1]]), array([[1, 0]]), array([[1, 1]]), array([[1, 0]]), array([[1, 0]]), array([[1, 1]]), array([[1, 0]])]}, 3: {3: [array([[1, 1, 1]]), array([[1, 1, 1]]), array([[0, 0, 1]]), array([[0, 1, 1]]), array([[0, 1, 1]]), array([[1, 1, 0]]), array([[1, 1, 0]]), array([[1, 0, 0]]), array([[1, 1, 0]]), array([[1, 0, 1]])], 4: [array([[1, 0, 0]]), array([[0, 0, 0]]), array([[0, 1, 1]]), array([[1, 1, 0]]), array([[1, 0, 1]]), array([[0, 1, 1]]), array([[1, 0, 1]]), array([[1, 1, 0]]), array([[1, 1, 1]]), array([[1, 1, 0]])], 5: [array([[0, 1, 1]]), array([[0, 0, 0]]), array([[0, 0, 0]]), array([[0, 1, 1]]), array([[1, 1, 0]]), array([[0, 0, 0]]), array([[0, 1, 1]]), array([[1, 1, 1]]), array([[0, 0, 1]]), array([[0, 1, 1]])]}, 4: {3: [array([[0, 0, 1, 0]]), array([[0, 1, 1, 0]]), array([[0, 1, 0, 0]]), array([[1, 1, 0, 1]]), array([[1, 0, 1, 0]]), array([[1, 0, 0, 1]]), array([[1, 1, 0, 0]]), array([[1, 0, 1, 0]]), array([[1, 0, 0, 1]]), array([[1, 0, 0, 1]])], 4: [array([[0, 0, 0, 1]]), array([[1, 1, 1, 0]]), array([[0, 0, 1, 0]]), array([[0, 1, 0, 1]]), array([[0, 0, 1, 1]]), array([[1, 0, 1, 0]]), array([[0, 0, 0, 0]]), array([[1, 1, 0, 0]]), array([[1, 1, 0, 0]]), array([[0, 1, 0, 1]])], 5: [array([[0, 0, 0, 0]]), array([[0, 0, 0, 0]]), array([[0, 1, 0, 1]]), array([[1, 0, 0, 1]]), array([[0, 1, 0, 1]]), array([[1, 0, 0, 0]]), array([[1, 1, 0, 0]]), array([[0, 1, 0, 0]]), array([[0, 1, 1, 1]]), array([[0, 1, 0, 1]])]}}\n"
     ]
    }
   ],
   "source": [
    "ideal_results = acquire_volumetric_data(perfect_qc, prog_array, num_shots=1)\n",
    "print(ideal_results)"
   ]
  },
  {
   "cell_type": "code",
   "execution_count": 25,
   "metadata": {},
   "outputs": [
    {
     "name": "stdout",
     "output_type": "stream",
     "text": [
      "{2: {3: [array([0.91 , 0.088, 0.002]), array([0.894, 0.106, 0.   ]), array([0.858, 0.138, 0.004]), array([0.934, 0.064, 0.002]), array([0.944, 0.056, 0.   ]), array([0.872, 0.122, 0.006]), array([0.84 , 0.156, 0.004]), array([0.938, 0.062, 0.   ]), array([0.954, 0.046, 0.   ]), array([0.886, 0.108, 0.006])], 4: [array([0.942, 0.058, 0.   ]), array([0.836, 0.158, 0.006]), array([0.956, 0.044, 0.   ]), array([0.826, 0.166, 0.008]), array([0.842, 0.158, 0.   ]), array([0.802, 0.19 , 0.008]), array([0.94, 0.06, 0.  ]), array([0.902, 0.096, 0.002]), array([0.956, 0.044, 0.   ]), array([0.818, 0.178, 0.004])], 5: [array([0.942, 0.054, 0.004]), array([0.936, 0.062, 0.002]), array([0.838, 0.16 , 0.002]), array([0.886, 0.104, 0.01 ]), array([0.872, 0.122, 0.006]), array([0.82 , 0.164, 0.016]), array([0.886, 0.11 , 0.004]), array([0.902, 0.098, 0.   ]), array([0.812, 0.18 , 0.008]), array([0.904, 0.094, 0.002])]}, 3: {3: [array([0.73, 0.25, 0.02, 0.  ]), array([0.726, 0.248, 0.022, 0.004]), array([0.884, 0.11 , 0.004, 0.002]), array([0.802, 0.18 , 0.018, 0.   ]), array([0.8  , 0.188, 0.01 , 0.002]), array([0.814, 0.18 , 0.006, 0.   ]), array([0.814, 0.174, 0.012, 0.   ]), array([0.846, 0.148, 0.006, 0.   ]), array([0.8  , 0.182, 0.016, 0.002]), array([0.79, 0.19, 0.02, 0.  ])], 4: [array([0.874, 0.118, 0.008, 0.   ]), array([0.928, 0.064, 0.002, 0.006]), array([0.782, 0.202, 0.014, 0.002]), array([0.768, 0.204, 0.024, 0.004]), array([0.794, 0.182, 0.024, 0.   ]), array([0.806, 0.176, 0.018, 0.   ]), array([0.8  , 0.188, 0.012, 0.   ]), array([0.782, 0.198, 0.018, 0.002]), array([0.756, 0.21 , 0.03 , 0.004]), array([0.788, 0.194, 0.018, 0.   ])], 5: [array([0.784, 0.188, 0.028, 0.   ]), array([0.904, 0.092, 0.004, 0.   ]), array([0.924, 0.07 , 0.006, 0.   ]), array([0.766, 0.216, 0.018, 0.   ]), array([0.778, 0.204, 0.012, 0.006]), array([0.934, 0.064, 0.002, 0.   ]), array([0.8  , 0.174, 0.024, 0.002]), array([0.752, 0.222, 0.026, 0.   ]), array([0.848, 0.144, 0.008, 0.   ]), array([0.772, 0.212, 0.016, 0.   ])]}, 4: {3: [array([0.82 , 0.164, 0.012, 0.004, 0.   ]), array([0.764, 0.214, 0.016, 0.004, 0.002]), array([0.818, 0.158, 0.014, 0.006, 0.004]), array([0.746, 0.228, 0.024, 0.002, 0.   ]), array([0.804, 0.172, 0.022, 0.   , 0.002]), array([0.8  , 0.194, 0.006, 0.   , 0.   ]), array([0.748, 0.228, 0.024, 0.   , 0.   ]), array([0.762, 0.214, 0.022, 0.   , 0.002]), array([0.782, 0.198, 0.02 , 0.   , 0.   ]), array([0.786, 0.206, 0.008, 0.   , 0.   ])], 4: [array([0.85 , 0.142, 0.008, 0.   , 0.   ]), array([0.74 , 0.226, 0.034, 0.   , 0.   ]), array([0.84 , 0.146, 0.012, 0.   , 0.002]), array([0.82 , 0.166, 0.012, 0.002, 0.   ]), array([0.802, 0.174, 0.024, 0.   , 0.   ]), array([0.766, 0.214, 0.02 , 0.   , 0.   ]), array([0.872, 0.12 , 0.004, 0.004, 0.   ]), array([0.772, 0.212, 0.016, 0.   , 0.   ]), array([0.786, 0.204, 0.01 , 0.   , 0.   ]), array([0.798, 0.182, 0.02 , 0.   , 0.   ])], 5: [array([0.894, 0.1  , 0.006, 0.   , 0.   ]), array([0.884, 0.104, 0.012, 0.   , 0.   ]), array([0.764, 0.224, 0.012, 0.   , 0.   ]), array([0.798, 0.176, 0.024, 0.002, 0.   ]), array([0.778, 0.206, 0.016, 0.   , 0.   ]), array([0.832, 0.154, 0.01 , 0.002, 0.002]), array([0.792, 0.184, 0.024, 0.   , 0.   ]), array([0.828, 0.152, 0.02 , 0.   , 0.   ]), array([0.726, 0.226, 0.044, 0.004, 0.   ]), array([0.816, 0.154, 0.024, 0.006, 0.   ])]}}\n"
     ]
    }
   ],
   "source": [
    "err_hamm_distrs = get_error_hamming_weight_distributions(noisy_results, ideal_results)\n",
    "print(err_hamm_distrs)"
   ]
  },
  {
   "cell_type": "code",
   "execution_count": 26,
   "metadata": {},
   "outputs": [
    {
     "name": "stdout",
     "output_type": "stream",
     "text": [
      "{2: {3: array([0.903 , 0.0946, 0.0024]), 4: array([0.882 , 0.1152, 0.0028]), 5: array([0.8798, 0.1148, 0.0054])}, 3: {3: array([0.8006, 0.185 , 0.0134, 0.001 ]), 4: array([0.8078, 0.1736, 0.0168, 0.0018]), 5: array([8.262e-01, 1.586e-01, 1.440e-02, 8.000e-04])}, 4: {3: array([0.783 , 0.1976, 0.0168, 0.0016, 0.001 ]), 4: array([8.046e-01, 1.786e-01, 1.600e-02, 6.000e-04, 2.000e-04]), 5: array([8.112e-01, 1.680e-01, 1.920e-02, 1.400e-03, 2.000e-04])}}\n"
     ]
    }
   ],
   "source": [
    "avg_err_hamm_distrs = get_average_of_distributions(err_hamm_distrs)\n",
    "print(avg_err_hamm_distrs)"
   ]
  },
  {
   "cell_type": "markdown",
   "metadata": {},
   "source": [
    "## Plot a particular depth and width"
   ]
  },
  {
   "cell_type": "code",
   "execution_count": 27,
   "metadata": {},
   "outputs": [],
   "source": [
    "w = 3 # width\n",
    "d = 4 # depth\n",
    "\n",
    "avg_distr = avg_err_hamm_distrs[3][4]\n",
    "\n",
    "# rand data\n",
    "rand_distr = get_random_hamming_wt_distr(w)"
   ]
  },
  {
   "cell_type": "code",
   "execution_count": 28,
   "metadata": {},
   "outputs": [
    {
     "data": {
      "image/png": "[encoded data removed]",
      "text/plain": [
       "<Figure size 432x288 with 1 Axes>"
      ]
     },
     "metadata": {},
     "output_type": "display_data"
    }
   ],
   "source": [
    "x_labels = np.arange(0, len(avg_distr))\n",
    "plt.bar(x_labels, avg_distr, width=0.61, align='center')\n",
    "plt.bar(x_labels, rand_distr, width=0.31, align='center')\n",
    "plt.xticks(x_labels)\n",
    "plt.xlabel('Hamming Weight of Error')\n",
    "plt.ylabel('Relative Frequency of Occurrence')\n",
    "plt.ylim([0, 1])\n",
    "plt.grid(axis='y', alpha=0.75)\n",
    "plt.legend(['data','random'])\n",
    "plt.title(f'Width = {w}, Depth = {d}')\n",
    "plt.show()"
   ]
  },
  {
   "cell_type": "markdown",
   "metadata": {},
   "source": [
    "Using our helper function"
   ]
  },
  {
   "cell_type": "code",
   "execution_count": 29,
   "metadata": {},
   "outputs": [
    {
     "data": {
      "image/png": "[encoded data removed]",
      "text/plain": [
       "<Figure size 1296x432 with 1 Axes>"
      ]
     },
     "metadata": {},
     "output_type": "display_data"
    }
   ],
   "source": [
    "fig, axs = plot_error_distributions(avg_err_hamm_distrs, widths=[w], depths=[d], plot_rand_distr=True)"
   ]
  },
  {
   "cell_type": "markdown",
   "metadata": {},
   "source": [
    "### For a particular width, plot all depths"
   ]
  },
  {
   "cell_type": "code",
   "execution_count": 30,
   "metadata": {},
   "outputs": [
    {
     "data": {
      "image/png": "[encoded data removed]",
      "text/plain": [
       "<Figure size 1296x1296 with 3 Axes>"
      ]
     },
     "metadata": {},
     "output_type": "display_data"
    }
   ],
   "source": [
    "fig, axs = plot_error_distributions(avg_err_hamm_distrs, widths=[w], plot_rand_distr=True)"
   ]
  },
  {
   "cell_type": "markdown",
   "metadata": {},
   "source": [
    "### Plot all of the distributions"
   ]
  },
  {
   "cell_type": "code",
   "execution_count": 31,
   "metadata": {},
   "outputs": [
    {
     "data": {
      "image/png": "[encoded data removed]",
      "text/plain": [
       "<Figure size 1296x1296 with 9 Axes>"
      ]
     },
     "metadata": {},
     "output_type": "display_data"
    }
   ],
   "source": [
    "fig, axs = plot_error_distributions(avg_err_hamm_distrs, widths=None, depths=None, plot_rand_distr=True)"
   ]
  },
  {
   "cell_type": "markdown",
   "metadata": {},
   "source": [
    "Now we can study the sucess probablity, i.e. the zero hamming weight entry above as a function of depth. We first need to extract the data."
   ]
  },
  {
   "cell_type": "code",
   "execution_count": 34,
   "metadata": {},
   "outputs": [
    {
     "name": "stdout",
     "output_type": "stream",
     "text": [
      "{2: {3: 0.6529999999999999, 4: 0.632, 5: 0.6298}, 3: {3: 0.6756, 4: 0.6828000000000001, 5: 0.7012}, 4: {3: 0.7204999999999999, 4: 0.7421, 5: 0.7487}}\n"
     ]
    }
   ],
   "source": [
    "# extract data from avg_err_hamm_distrs\n",
    "widths = list(avg_err_hamm_distrs.keys())\n",
    "depths = list(avg_err_hamm_distrs[widths[0]].keys())\n",
    "\n",
    "pr_succ_arr = {w: {d: distr[0] for d, distr in d_distrs.items()} for w, d_distrs in avg_err_hamm_distrs.items()}\n",
    "# this is equivalently wrapped up in the following\n",
    "assert pr_succ_arr == get_success_probabilites(noisy_results, ideal_results)\n",
    "pr_succ_rand = [1/2**w for w in widths]\n",
    "\n",
    "ideal_distrs = {w: np.asarray([[1] + [0 for _ in range(w)]]).T for w in widths}\n",
    "rand_distrs = {w: np.asarray([get_random_hamming_wt_distr(w)]).T for w in widths}\n",
    "\n",
    "# total variation distance\n",
    "tvd_noisy_ideal = {w: {d: tvd(np.asarray([distr]).T, ideal_distrs[w]) for d, distr in d_distrs.items()}\n",
    "                              for w, d_distrs in avg_err_hamm_distrs.items()}\n",
    "\n",
    "np.testing.assert_allclose([pr for d_vals in pr_succ_arr.values() for pr in d_vals.values()], \n",
    "                           [1 - val for d_vals in tvd_noisy_ideal.values() for val in d_vals.values()])\n",
    "\n",
    "tvd_noisy_rand = {w: {d: tvd(np.asarray([distr]).T, rand_distrs[w]) for d, distr in d_distrs.items()}\n",
    "                              for w, d_distrs in avg_err_hamm_distrs.items()}\n",
    "\n",
    "print(tvd_noisy_rand)\n",
    "\n",
    "# pcheck_log_errors = []\n",
    "# pcheck_log_errors_rand = []\n",
    "# tvd_rand = []\n",
    "# tvd_ideal = []\n",
    "\n",
    "# for dep in range(1, df_fn_depth.Depth.max()+1):\n",
    "#     idx = df_fn_depth['Depth']== dep\n",
    "#     depth_vec.append(dep)\n",
    "#     pcheck.append(df_fn_depth[idx]['Pr. success data'].mean()) \n",
    "#     pcheck_rand.append(df_fn_depth[idx]['Pr. success rand'].mean())\n",
    "#     pcheck_log_errors.append(df_fn_depth[idx]['Pr. success loge data'].mean())\n",
    "#     pcheck_log_errors_rand.append(df_fn_depth[idx]['Pr. success loge rand'].mean())\n",
    "#     tvd_ideal.append(df_fn_depth[idx]['TVD(data, ideal)'].mean())\n",
    "#     tvd_rand.append(df_fn_depth[idx]['TVD(data, rand)'].mean())"
   ]
  },
  {
   "cell_type": "markdown",
   "metadata": {},
   "source": [
    "# Success probablity and success probablity including a small number of errors"
   ]
  },
  {
   "cell_type": "markdown",
   "metadata": {},
   "source": [
    "Next we will plot the success probablity of a circuit with a certain width as a function of depth. "
   ]
  },
  {
   "cell_type": "code",
   "execution_count": 33,
   "metadata": {},
   "outputs": [
    {
     "ename": "NameError",
     "evalue": "name 'depth_vec' is not defined",
     "output_type": "error",
     "traceback": [
      "\u001b[0;31m--------------------------------------------------------------------------\u001b[0m",
      "\u001b[0;31mNameError\u001b[0m                                Traceback (most recent call last)",
      "\u001b[0;32m<ipython-input-33-e934a5d28876>\u001b[0m in \u001b[0;36m<module>\u001b[0;34m()\u001b[0m\n\u001b[0;32m----> 1\u001b[0;31m \u001b[0mplt\u001b[0m\u001b[0;34m.\u001b[0m\u001b[0mscatter\u001b[0m\u001b[0;34m(\u001b[0m\u001b[0mdepth_vec\u001b[0m\u001b[0;34m,\u001b[0m\u001b[0mpcheck\u001b[0m\u001b[0;34m,\u001b[0m\u001b[0mlabel\u001b[0m\u001b[0;34m=\u001b[0m\u001b[0;34m'Sucess Probablity'\u001b[0m\u001b[0;34m)\u001b[0m\u001b[0;34m\u001b[0m\u001b[0m\n\u001b[0m\u001b[1;32m      2\u001b[0m \u001b[0mplt\u001b[0m\u001b[0;34m.\u001b[0m\u001b[0mplot\u001b[0m\u001b[0;34m(\u001b[0m\u001b[0mdepth_vec\u001b[0m\u001b[0;34m,\u001b[0m\u001b[0mpcheck_rand\u001b[0m\u001b[0;34m,\u001b[0m\u001b[0mlabel\u001b[0m\u001b[0;34m=\u001b[0m\u001b[0;34m'random guess'\u001b[0m\u001b[0;34m)\u001b[0m\u001b[0;34m\u001b[0m\u001b[0m\n\u001b[1;32m      3\u001b[0m \u001b[0mplt\u001b[0m\u001b[0;34m.\u001b[0m\u001b[0mylim\u001b[0m\u001b[0;34m(\u001b[0m\u001b[0;34m[\u001b[0m\u001b[0;34m-\u001b[0m\u001b[0;36m0.05\u001b[0m\u001b[0;34m,\u001b[0m\u001b[0;36m1.05\u001b[0m\u001b[0;34m]\u001b[0m\u001b[0;34m)\u001b[0m\u001b[0;34m\u001b[0m\u001b[0m\n\u001b[1;32m      4\u001b[0m \u001b[0mplt\u001b[0m\u001b[0;34m.\u001b[0m\u001b[0mxlabel\u001b[0m\u001b[0;34m(\u001b[0m\u001b[0;34m'Depth'\u001b[0m\u001b[0;34m)\u001b[0m\u001b[0;34m\u001b[0m\u001b[0m\n\u001b[1;32m      5\u001b[0m \u001b[0mplt\u001b[0m\u001b[0;34m.\u001b[0m\u001b[0mylabel\u001b[0m\u001b[0;34m(\u001b[0m\u001b[0;34m'Pr(success)'\u001b[0m\u001b[0;34m)\u001b[0m\u001b[0;34m\u001b[0m\u001b[0m\n",
      "\u001b[0;31mNameError\u001b[0m: name 'depth_vec' is not defined"
     ]
    }
   ],
   "source": [
    "plt.scatter(depth_vec,pcheck,label='Sucess Probablity')\n",
    "plt.plot(depth_vec,pcheck_rand,label='random guess')\n",
    "plt.ylim([-0.05,1.05])\n",
    "plt.xlabel('Depth')\n",
    "plt.ylabel('Pr(success)')\n",
    "plt.title('Pr(success) vs Depth for Width = {}'.format(wid))\n",
    "plt.legend()\n",
    "plt.show()"
   ]
  },
  {
   "cell_type": "markdown",
   "metadata": {},
   "source": [
    "**Sucess if we allow for a small number of errors**\n",
    "\n",
    "Some near term algorithms have robustness to noise. In light of that we might want to consider answers that are only a little wrong successes.\n",
    "\n",
    "To make this notion formal we allow a logarithmic number of bits to flip from the correct answer and call all such instances \"success\".\n",
    "\n",
    "The logarithmic number of bits that we allow to flip is defined by the \"basement\" ${\\mathcal B}$ of \n",
    "\n",
    "$\\log_2 ({\\rm number\\ of\\ bits}) -1$\n",
    "\n",
    "where the basement of a number is ${\\mathcal B}(number) = 0$ if number$<=0$ and ${\\mathcal B}(number) = {\\rm floor (number)}$.\n",
    "\n",
    "\n",
    "Supose we have a circuit of width 4, this means correct string has four bits, e.g. 1010. Then a logarithmic number of flips is $\\log_2(4)-1 = 1$.\n",
    "\n",
    "So any string with hamming weight zero or one counts as a success.\n",
    "\n",
    "Such error metrics might be important in noisy near term algorithms where getting the exact answer is not vital."
   ]
  },
  {
   "cell_type": "code",
   "execution_count": null,
   "metadata": {},
   "outputs": [],
   "source": [
    "plt.figure()\n",
    "plt.scatter(depth_vec,pcheck,label='Sucess Probablity')\n",
    "plt.plot(depth_vec,pcheck_rand,label='random guess')\n",
    "plt.scatter(depth_vec,pcheck_log_errors,label='Sucess Probablity + log errors')\n",
    "plt.plot(depth_vec,pcheck_log_errors_rand,label='random guess + log errors')\n",
    "plt.ylim([-0.05,1.05])\n",
    "plt.xlabel('Depth')\n",
    "plt.ylabel('Pr(success+log errors)')\n",
    "plt.title('Pr(success+log errors) vs Depth for Width = {}'.format(wid))\n",
    "plt.legend(bbox_to_anchor=(1.04,1), loc=\"upper left\")\n",
    "plt.show()"
   ]
  },
  {
   "cell_type": "markdown",
   "metadata": {},
   "source": [
    "## Total variation distance from ideal answer and random distribution"
   ]
  },
  {
   "cell_type": "code",
   "execution_count": null,
   "metadata": {},
   "outputs": [],
   "source": [
    "plt.figure()\n",
    "plt.scatter(depth_vec,tvd_ideal,label='TVD(data, ideal)')\n",
    "plt.scatter(depth_vec,tvd_rand,label='TVD(data, rand)')\n",
    "plt.scatter(depth_vec,1-np.asarray(pcheck),label='1-Sucess Probablity',alpha=0.33,marker='^',s=80)\n",
    "#plt.plot(depth_vec,pcheck_log_errors_rand,label='random guess + log errors')\n",
    "plt.ylim([-0.05,1.05])\n",
    "plt.xlabel('Depth')\n",
    "plt.ylabel('Total variation distance')\n",
    "plt.title('Width = {}'.format(wid))\n",
    "plt.legend(bbox_to_anchor=(1.04,1), loc=\"upper left\")\n",
    "plt.show()"
   ]
  },
  {
   "cell_type": "markdown",
   "metadata": {},
   "source": [
    "# Plot depth = width"
   ]
  },
  {
   "cell_type": "code",
   "execution_count": null,
   "metadata": {},
   "outputs": [],
   "source": [
    "max_idx = min([max(res_df['Depth']),max(res_df['Width'])])\n",
    "\n",
    "for idx in range(1,max_idx+1):\n",
    "    distz = get_hamming_dist(res_df, idx, idx)\n",
    "    # combine data from different subgraphs\n",
    "    avg_dist = distz['Hamming dist. data'].mean()\n",
    "    # rand data\n",
    "    rand_dist = distz['Hamming dist. rand'][0]\n",
    "    dep = idx\n",
    "    wid = idx\n",
    "    x_labels = np.arange(0, len(avg_dist))\n",
    "    plt.subplot(1,max_idx,idx)\n",
    "    plt.bar(x_labels, avg_dist, width=0.61, align='center')\n",
    "    plt.bar(x_labels, rand_dist, width=0.31, align='center')\n",
    "    plt.xticks(x_labels)\n",
    "    plt.xlabel('Hamming Weight of Error')\n",
    "    plt.ylabel('Relative Frequency of Occurence')\n",
    "    plt.ylim([0,1])\n",
    "    plt.grid(axis='y', alpha=0.75)\n",
    "    plt.legend(['data','random'])\n",
    "    plt.title('Depth = {}, Width = {}'.format(dep,wid))\n",
    "plt.subplots_adjust(bottom=0.1, right=3.2, top=0.9)\n",
    "plt.show()"
   ]
  },
  {
   "cell_type": "markdown",
   "metadata": {},
   "source": [
    "## Plot the distribution of sublattice widths"
   ]
  },
  {
   "cell_type": "code",
   "execution_count": null,
   "metadata": {},
   "outputs": [],
   "source": [
    "G = perfect_qc.qubit_topology()\n",
    "len(perfect_qc.qubit_topology())\n",
    "# distribution of graph lengths\n",
    "distr = []\n",
    "for num_nodes in range(1, len(G.nodes) + 1):\n",
    "    listg = generate_connected_subgraphs(G, num_nodes)\n",
    "    distr.append(len(listg))\n",
    "\n",
    "cir_wid = list(range(1, len(G.nodes) + 1))\n",
    "plt.bar(cir_wid, distr, width=0.61, align='center')\n",
    "plt.xticks(cir_wid)\n",
    "plt.xlabel('sublattice / circuit width')\n",
    "plt.ylabel('Frequency of Occurence')\n",
    "plt.grid(axis='y', alpha=0.75)\n",
    "plt.title('Distribution of sublattice widths')\n",
    "disty"
   ]
  },
  {
   "cell_type": "markdown",
   "metadata": {},
   "source": [
    "# Plot success probablity landscape"
   ]
  },
  {
   "cell_type": "markdown",
   "metadata": {},
   "source": [
    "This is just the success probablity as a function of depth and width."
   ]
  },
  {
   "cell_type": "code",
   "execution_count": null,
   "metadata": {},
   "outputs": [],
   "source": [
    "values = np.asarray([munged['Pr. success data'][idx] for idx in munged.index])\n",
    "values"
   ]
  },
  {
   "cell_type": "code",
   "execution_count": null,
   "metadata": {},
   "outputs": [],
   "source": [
    "values_rand = np.asarray([munged['Pr. success rand'][idx] for idx in munged.index])\n",
    "values_rand"
   ]
  },
  {
   "cell_type": "code",
   "execution_count": null,
   "metadata": {},
   "outputs": [],
   "source": [
    "x = np.arange(min(res_df['Depth']), max(res_df['Depth'])+1)\n",
    "\n",
    "y = np.arange(min(res_df['Width']), max(res_df['Width'])+1)\n",
    "\n",
    "X, Y = np.meshgrid(x, y)"
   ]
  },
  {
   "cell_type": "code",
   "execution_count": null,
   "metadata": {},
   "outputs": [],
   "source": [
    "(x1,x2) = X.shape\n",
    "Zdata = np.reshape(values,(x2,x1)).T\n",
    "Zrand = np.reshape(values_rand,(x2,x1)).T"
   ]
  },
  {
   "cell_type": "code",
   "execution_count": null,
   "metadata": {},
   "outputs": [],
   "source": [
    "Zdata"
   ]
  },
  {
   "cell_type": "code",
   "execution_count": null,
   "metadata": {},
   "outputs": [],
   "source": [
    "extent = min(res_df['Depth'])-0.5, max(res_df['Depth'])+0.5, min(res_df['Width'])-0.5, max(res_df['Width'])+0.5\n",
    "ax = plt.gca()\n",
    "img = ax.imshow(Zdata, interpolation='none', extent=extent,\n",
    "                cmap='viridis', origin='lowerleft', vmin=0.0,vmax=1.0)\n",
    "\n",
    "xticks = np.arange(1,max(res_df['Depth'])+1)\n",
    "ax.set_xticks(xticks)\n",
    "ax.set_xticklabels(map(str, xticks))\n",
    "\n",
    "yticks = np.arange(1,max(res_df['Width'])+1)\n",
    "ax.set_yticks(yticks)\n",
    "ax.set_yticklabels(map(str, yticks))\n",
    "\n",
    "ax.set_aspect('equal')\n",
    "plt.colorbar(img, ax=ax)\n",
    "plt.xlabel('Depth')\n",
    "plt.ylabel('Width')\n",
    "plt.title('Success Probability')\n",
    "plt.show()"
   ]
  },
  {
   "cell_type": "code",
   "execution_count": null,
   "metadata": {},
   "outputs": [],
   "source": [
    "extent = min(res_df['Depth'])-0.5, max(res_df['Depth'])+0.5, min(res_df['Width'])-0.5, max(res_df['Width'])+0.5\n",
    "ax = plt.gca()\n",
    "img = ax.imshow(Zrand, interpolation='none', extent=extent,\n",
    "                cmap='viridis', origin='lowerleft', vmin=0.0,vmax=1.0)\n",
    "\n",
    "xticks = np.arange(1,max(res_df['Depth'])+1)\n",
    "ax.set_xticks(xticks)\n",
    "ax.set_xticklabels(map(str, xticks))\n",
    "\n",
    "yticks = np.arange(1,max(res_df['Width'])+1)\n",
    "ax.set_yticks(yticks)\n",
    "ax.set_yticklabels(map(str, yticks))\n",
    "\n",
    "ax.set_aspect('equal')\n",
    "plt.colorbar(img, ax=ax)\n",
    "plt.xlabel('Depth')\n",
    "plt.ylabel('Width')\n",
    "plt.title('Success Probability of Random Guess')\n",
    "plt.show()"
   ]
  },
  {
   "cell_type": "code",
   "execution_count": null,
   "metadata": {},
   "outputs": [],
   "source": [
    "tvd_rand_values = np.asarray([munged['TVD(data, rand)'][idx] for idx in munged.index])\n",
    "tvd_ideal_values = np.asarray([munged['TVD(data, ideal)'][idx] for idx in munged.index])\n",
    "Ztvd_rand = np.reshape(tvd_rand_values,(x2,x1)).T\n",
    "Ztvd_ideal = np.reshape(tvd_ideal_values,(x2,x1)).T"
   ]
  },
  {
   "cell_type": "code",
   "execution_count": null,
   "metadata": {},
   "outputs": [],
   "source": [
    "tvd_ideal_values\n",
    "tvd_rand_values"
   ]
  },
  {
   "cell_type": "code",
   "execution_count": null,
   "metadata": {},
   "outputs": [],
   "source": [
    "extent = min(res_df['Depth'])-0.5, max(res_df['Depth'])+0.5, min(res_df['Width'])-0.5, max(res_df['Width'])+0.5\n",
    "ax = plt.gca()\n",
    "img = ax.imshow(Ztvd_ideal, interpolation='none', extent=extent,\n",
    "                cmap='viridis', origin='lowerleft', vmin=0.0,vmax=1.0)\n",
    "\n",
    "xticks = np.arange(1,max(res_df['Depth'])+1)\n",
    "ax.set_xticks(xticks)\n",
    "ax.set_xticklabels(map(str, xticks))\n",
    "\n",
    "yticks = np.arange(1,max(res_df['Width'])+1)\n",
    "ax.set_yticks(yticks)\n",
    "ax.set_yticklabels(map(str, yticks))\n",
    "\n",
    "ax.set_aspect('equal')\n",
    "plt.colorbar(img, ax=ax)\n",
    "plt.xlabel('Depth')\n",
    "plt.ylabel('Width')\n",
    "plt.title('Success Probability of Random Guess')\n",
    "plt.show()"
   ]
  },
  {
   "cell_type": "code",
   "execution_count": null,
   "metadata": {},
   "outputs": [],
   "source": [
    "extent = min(res_df['Depth'])-0.5, max(res_df['Depth'])+0.5, min(res_df['Width'])-0.5, max(res_df['Width'])+0.5\n",
    "ax = plt.gca()\n",
    "img = ax.imshow(Ztvd_rand, interpolation='none', extent=extent,\n",
    "                cmap='viridis', origin='lowerleft', vmin=0.0,vmax=1.0)\n",
    "\n",
    "xticks = np.arange(1,max(res_df['Depth'])+1)\n",
    "ax.set_xticks(xticks)\n",
    "ax.set_xticklabels(map(str, xticks))\n",
    "\n",
    "yticks = np.arange(1,max(res_df['Width'])+1)\n",
    "ax.set_yticks(yticks)\n",
    "ax.set_yticklabels(map(str, yticks))\n",
    "\n",
    "ax.set_aspect('equal')\n",
    "plt.colorbar(img, ax=ax)\n",
    "plt.xlabel('Depth')\n",
    "plt.ylabel('Width')\n",
    "plt.title('Success Probability of Random Guess')\n",
    "plt.show()"
   ]
  },
  {
   "cell_type": "code",
   "execution_count": null,
   "metadata": {},
   "outputs": [],
   "source": [
    "loge_rand_values = np.asarray([munged['Pr. success loge rand'][idx] for idx in munged.index])\n",
    "loge_data_values = np.asarray([munged['Pr. success loge data'][idx] for idx in munged.index])\n",
    "Zlge_rand = np.reshape(loge_rand_values,(x2,x1)).T\n",
    "Zlge_data = np.reshape(loge_data_values,(x2,x1)).T"
   ]
  },
  {
   "cell_type": "code",
   "execution_count": null,
   "metadata": {},
   "outputs": [],
   "source": [
    "extent = min(res_df['Depth'])-0.5, max(res_df['Depth'])+0.5, min(res_df['Width'])-0.5, max(res_df['Width'])+0.5\n",
    "ax = plt.gca()\n",
    "img = ax.imshow(Zlge_data, interpolation='none', extent=extent,\n",
    "                cmap='viridis', origin='lowerleft', vmin=0.0,vmax=1.0)\n",
    "\n",
    "xticks = np.arange(1,max(res_df['Depth'])+1)\n",
    "ax.set_xticks(xticks)\n",
    "ax.set_xticklabels(map(str, xticks))\n",
    "\n",
    "yticks = np.arange(1,max(res_df['Width'])+1)\n",
    "ax.set_yticks(yticks)\n",
    "ax.set_yticklabels(map(str, yticks))\n",
    "\n",
    "ax.set_aspect('equal')\n",
    "plt.colorbar(img, ax=ax)\n",
    "plt.xlabel('Depth')\n",
    "plt.ylabel('Width')\n",
    "plt.title('Success Probability of Random Guess')\n",
    "plt.show()"
   ]
  },
  {
   "cell_type": "code",
   "execution_count": null,
   "metadata": {},
   "outputs": [],
   "source": [
    "extent = min(res_df['Depth'])-0.5, max(res_df['Depth'])+0.5, min(res_df['Width'])-0.5, max(res_df['Width'])+0.5\n",
    "ax = plt.gca()\n",
    "img = ax.imshow(Zlge_rand, interpolation='none', extent=extent,\n",
    "                cmap='viridis', origin='lowerleft', vmin=0.0,vmax=1.0)\n",
    "\n",
    "xticks = np.arange(1,max(res_df['Depth'])+1)\n",
    "ax.set_xticks(xticks)\n",
    "ax.set_xticklabels(map(str, xticks))\n",
    "\n",
    "yticks = np.arange(1,max(res_df['Width'])+1)\n",
    "ax.set_yticks(yticks)\n",
    "ax.set_yticklabels(map(str, yticks))\n",
    "\n",
    "ax.set_aspect('equal')\n",
    "plt.colorbar(img, ax=ax)\n",
    "plt.xlabel('Depth')\n",
    "plt.ylabel('Width')\n",
    "plt.title('Success Probability of Random Guess')\n",
    "plt.show()"
   ]
  },
  {
   "cell_type": "markdown",
   "metadata": {},
   "source": [
    "# Data exploration"
   ]
  },
  {
   "cell_type": "code",
   "execution_count": null,
   "metadata": {},
   "outputs": [],
   "source": [
    "from scipy.optimize import curve_fit"
   ]
  },
  {
   "cell_type": "code",
   "execution_count": null,
   "metadata": {},
   "outputs": [],
   "source": [
    "size = Y.shape\n",
    "width_1d = Y.reshape((1,np.prod(size)))\n",
    "depth_1d = X.reshape((1,np.prod(size)))"
   ]
  },
  {
   "cell_type": "code",
   "execution_count": null,
   "metadata": {},
   "outputs": [],
   "source": [
    "data_1d = Zdata.reshape((1,np.prod(size)))\n",
    "data_1d.shape\n",
    "width_1d.shape\n"
   ]
  },
  {
   "cell_type": "code",
   "execution_count": null,
   "metadata": {},
   "outputs": [],
   "source": [
    "dims = np.zeros_like(width_1d)\n",
    "dims[0,0] = size[0]\n",
    "dims[0,1] = size[1]\n",
    "\n",
    "xdata = np.vstack((dims,width_1d, depth_1d))\n",
    "\n",
    "\n",
    "\n",
    "xdata"
   ]
  },
  {
   "cell_type": "markdown",
   "metadata": {},
   "source": [
    "## Fitting models"
   ]
  },
  {
   "cell_type": "markdown",
   "metadata": {},
   "source": [
    "Two parameter model \n",
    "\n",
    "\n",
    "$f(W,D,p_W,p_D) =  (1-p_W)^W * (1-p_D)^D $\n",
    "\n",
    "The fidelity is proporional to $1 - p$"
   ]
  },
  {
   "cell_type": "code",
   "execution_count": null,
   "metadata": {},
   "outputs": [],
   "source": [
    "def two_param(x,pw,pd):\n",
    "    temp = x[0]\n",
    "    wid = temp[0]\n",
    "    dep = temp[1]\n",
    "    width = x[1].reshape(wid,dep)\n",
    "    depth = x[2].reshape(wid,dep)\n",
    "    pcheck = (1-pw)**(width) * (1-pd)**depth\n",
    "    rpcheck = pcheck.reshape((1,wid*dep))\n",
    "    return rpcheck.ravel()"
   ]
  },
  {
   "cell_type": "markdown",
   "metadata": {},
   "source": [
    "One parameter model\n",
    "\n",
    "$f(W,D,p) =  (1-p)^{W * D} $"
   ]
  },
  {
   "cell_type": "code",
   "execution_count": null,
   "metadata": {},
   "outputs": [],
   "source": [
    "def one_param(x,p):\n",
    "    temp = x[0]\n",
    "    wid = temp[0]\n",
    "    dep = temp[1]\n",
    "    width = x[1].reshape(wid,dep)\n",
    "    depth = x[2].reshape(wid,dep)\n",
    "    pcheck = (1-p)**(width*depth)\n",
    "    rpcheck = pcheck.reshape((1,wid*dep))\n",
    "    return rpcheck.ravel()"
   ]
  },
  {
   "cell_type": "markdown",
   "metadata": {},
   "source": [
    "From my prior work a better model to fit to is\n",
    "\n",
    "Pcheck$(W,D,p,a,b,c) = \\exp[ -(a p^2 + b p + c)* W*D] $\n"
   ]
  },
  {
   "cell_type": "code",
   "execution_count": null,
   "metadata": {},
   "outputs": [],
   "source": [
    "def two_param_exp(x,p,a,b):\n",
    "    temp = x[0]\n",
    "    wid = temp[0]\n",
    "    dep = temp[1]\n",
    "    width = x[1].reshape(wid,dep)\n",
    "    depth = x[2].reshape(wid,dep)\n",
    "    pcheck = np.exp(-(a*p + b) * width * depth)\n",
    "    rpcheck = pcheck.reshape((1,wid*dep))\n",
    "    return rpcheck.ravel()"
   ]
  },
  {
   "cell_type": "markdown",
   "metadata": {},
   "source": [
    "**Start with one paramter model**"
   ]
  },
  {
   "cell_type": "code",
   "execution_count": null,
   "metadata": {},
   "outputs": [],
   "source": [
    "pguess = 0.1\n",
    "popt, pcov = curve_fit(one_param, xdata, data_1d.ravel(), p0=pguess, bounds=(0, 1))"
   ]
  },
  {
   "cell_type": "code",
   "execution_count": null,
   "metadata": {},
   "outputs": [],
   "source": [
    "print('The estimated error is p = ', str(np.round(popt[0],4)))\n",
    "print('The estimated product of the one and two qubit fidelity is F = ', str(1-np.round(popt[0],4)))\n",
    "#print('The one standard deviation on the estimate is ', str(np.round(np.sqrt(np.diag(pcov)[0]),5)))"
   ]
  },
  {
   "cell_type": "code",
   "execution_count": null,
   "metadata": {},
   "outputs": [],
   "source": [
    "zfit = one_param(xdata,popt)\n",
    "Z_fit = zfit.reshape(size)"
   ]
  },
  {
   "cell_type": "code",
   "execution_count": null,
   "metadata": {},
   "outputs": [],
   "source": [
    "plt.pcolormesh(X,Y, Z_fit)\n",
    "plt.xticks(list(range(1,circuit_depth+1)))\n",
    "plt.yticks(list(range(1,circuit_width+1)))\n",
    "plt.colorbar()\n",
    "plt.show()"
   ]
  },
  {
   "cell_type": "code",
   "execution_count": null,
   "metadata": {},
   "outputs": [],
   "source": [
    "plt.pcolormesh(X,Y,Zdata)\n",
    "plt.xticks(list(range(1,circuit_depth+1)))\n",
    "plt.yticks(list(range(1,circuit_width+1)))\n",
    "plt.colorbar()\n",
    "plt.show()"
   ]
  },
  {
   "cell_type": "markdown",
   "metadata": {},
   "source": [
    "**Two parameter model**"
   ]
  },
  {
   "cell_type": "code",
   "execution_count": null,
   "metadata": {},
   "outputs": [],
   "source": [
    "pguess2d = [0.0276, 0.01, 0.4]"
   ]
  },
  {
   "cell_type": "code",
   "execution_count": null,
   "metadata": {},
   "outputs": [],
   "source": [
    "popt2d, pcov2d = curve_fit(two_param_exp, xdata, data_1d.ravel(), p0=pguess2d , bounds=(0., 1))"
   ]
  },
  {
   "cell_type": "code",
   "execution_count": null,
   "metadata": {},
   "outputs": [],
   "source": [
    "popt2d"
   ]
  },
  {
   "cell_type": "code",
   "execution_count": null,
   "metadata": {},
   "outputs": [],
   "source": [
    "zfit2d = two_param(xdata,popt2d[0],popt2d[1])\n",
    "Z_fit2d = zfit2d.reshape(size)"
   ]
  },
  {
   "cell_type": "code",
   "execution_count": null,
   "metadata": {},
   "outputs": [],
   "source": [
    "plt.pcolormesh(X,Y, Z_fit2d)\n",
    "plt.xticks(list(range(1,circuit_depth+1)))\n",
    "plt.yticks(list(range(1,circuit_width+1)))\n",
    "plt.colorbar()\n",
    "plt.show()"
   ]
  },
  {
   "cell_type": "code",
   "execution_count": null,
   "metadata": {},
   "outputs": [],
   "source": [
    "1-1.02319786e-01"
   ]
  },
  {
   "cell_type": "code",
   "execution_count": null,
   "metadata": {},
   "outputs": [],
   "source": []
  }
 ],
 "metadata": {
  "kernelspec": {
   "display_name": "Python 3",
   "language": "python",
   "name": "python3"
  },
  "language_info": {
   "codemirror_mode": {
    "name": "ipython",
    "version": 3
   },
   "file_extension": ".py",
   "mimetype": "text/x-python",
   "name": "python",
   "nbconvert_exporter": "python",
   "pygments_lexer": "ipython3",
   "version": "3.6.5"
  }
 },
 "nbformat": 4,
 "nbformat_minor": 2
}
