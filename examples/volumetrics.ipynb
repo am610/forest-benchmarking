{
 "cells": [
  {
   "cell_type": "markdown",
   "metadata": {},
   "source": [
    "# Volumetrics\n",
    "\n",
    "\n",
    "This module that generates circuits on a graph which represents the QPU or QVM lattice. The basic idea is it will compute error rates of circuits as a function of depth and width.\n",
    "\n",
    "The `width` of the circuit is the number of connected vertices on a particular subgraph.\n",
    "\n",
    "The `depth` is defined in an unusual way. We consider a \"depth 1\" circuit to be a round of X gates randomly applied or not to a particular vertex AND a round of CNOTs randomly applied or not to each edge of the graph."
   ]
  },
  {
   "cell_type": "code",
   "execution_count": 1,
   "metadata": {},
   "outputs": [],
   "source": [
    "import random\n",
    "import itertools\n",
    "import networkx as nx\n",
    "import numpy as np\n",
    "import pandas as pd\n",
    "import time\n",
    "# from scipy.spatial.distance import hamming\n",
    "# import scipy.interpolate\n",
    "\n",
    "from matplotlib import pyplot as plt\n",
    "from pyquil.api import get_qc, QuantumComputer, get_benchmarker\n",
    "from pyquil.gates import CNOT, CCNOT, Z, X, I, H, CZ, MEASURE, RESET\n",
    "from pyquil.quilbase import Pragma\n",
    "\n",
    "from forest.benchmarking.volumetrics import *"
   ]
  },
  {
   "cell_type": "markdown",
   "metadata": {},
   "source": [
    "## Get lattice"
   ]
  },
  {
   "cell_type": "code",
   "execution_count": 2,
   "metadata": {},
   "outputs": [],
   "source": [
    "# if you want to run on a \"real lattice\"\n",
    "from pyquil import *\n",
    "#list_quantum_computers()\n",
    "#perfect_qc = get_qc(\"Aspen-1-16Q-A\", as_qvm=True, noisy=False)\n",
    "#noisy_qc = get_qc(\"Aspen-1-16Q-A\") #, as_qvm=True, noisy=True)\n",
    "\n",
    "noisy_qc = get_qc(\"9q-square-qvm\", as_qvm=True, noisy=True)\n",
    "perfect_qc = get_qc(\"9q-square-qvm\", as_qvm=True, noisy=False)"
   ]
  },
  {
   "cell_type": "code",
   "execution_count": 3,
   "metadata": {},
   "outputs": [
    {
     "name": "stderr",
     "output_type": "stream",
     "text": [
      "/home/kylegulshen/anaconda3/lib/python3.6/site-packages/networkx/drawing/nx_pylab.py:518: MatplotlibDeprecationWarning: \n",
      "The iterable function was deprecated in Matplotlib 3.1 and will be removed in 3.3. Use np.iterable instead.\n",
      "  if not cb.iterable(width):\n",
      "/home/kylegulshen/anaconda3/lib/python3.6/site-packages/networkx/drawing/nx_pylab.py:565: MatplotlibDeprecationWarning: \n",
      "The is_numlike function was deprecated in Matplotlib 3.0 and will be removed in 3.2. Use isinstance(..., numbers.Number) instead.\n",
      "  if cb.is_numlike(alpha):\n"
     ]
    },
    {
     "data": {
      "image/png": "[encoded data removed]",
      "text/plain": [
       "<Figure size 432x288 with 1 Axes>"
      ]
     },
     "metadata": {},
     "output_type": "display_data"
    }
   ],
   "source": [
    "nx.draw(perfect_qc.qubit_topology(),with_labels=True)"
   ]
  },
  {
   "cell_type": "code",
   "execution_count": 4,
   "metadata": {},
   "outputs": [],
   "source": [
    "G = perfect_qc.qubit_topology()"
   ]
  },
  {
   "cell_type": "markdown",
   "metadata": {},
   "source": [
    "## Gate sets\n",
    "\n",
    "### Classical"
   ]
  },
  {
   "cell_type": "code",
   "execution_count": 5,
   "metadata": {},
   "outputs": [],
   "source": [
    "def two_q_id(qb1,qb2):\n",
    "    prog = Program()\n",
    "    prog +=I(qb1)\n",
    "    prog +=I(qb2)\n",
    "    return prog\n",
    "\n",
    "one_c_gates = [X,I]\n",
    "two_c_gates = [two_q_id,CNOT]\n",
    "two_c_toffoli = [two_q_id, CNOT, CCNOT]"
   ]
  },
  {
   "cell_type": "markdown",
   "metadata": {},
   "source": [
    "### Some quantum"
   ]
  },
  {
   "cell_type": "code",
   "execution_count": 6,
   "metadata": {},
   "outputs": [],
   "source": [
    "one_q_gates = [X,Z,I]\n",
    "two_q_gates = [two_q_id,CZ]"
   ]
  },
  {
   "cell_type": "markdown",
   "metadata": {},
   "source": [
    "### Random Cliffords\n",
    "\n",
    "We use a benchmarker for this. Typically we use the native gates from `get_rb_gateset` to implement each clifford."
   ]
  },
  {
   "cell_type": "code",
   "execution_count": 7,
   "metadata": {},
   "outputs": [],
   "source": [
    "from forest.benchmarking.randomized_benchmarking import get_rb_gateset"
   ]
  },
  {
   "cell_type": "code",
   "execution_count": 8,
   "metadata": {},
   "outputs": [],
   "source": [
    "# my config has gone all cattywampus so i need to do this\n",
    "bm = get_benchmarker()#endpoint='tcp://localhost:6000')"
   ]
  },
  {
   "cell_type": "code",
   "execution_count": 9,
   "metadata": {},
   "outputs": [
    {
     "data": {
      "text/plain": [
       "'tcp://127.0.0.1:5555'"
      ]
     },
     "execution_count": 9,
     "metadata": {},
     "output_type": "execute_result"
    }
   ],
   "source": [
    "bm.client.endpoint"
   ]
  },
  {
   "cell_type": "markdown",
   "metadata": {},
   "source": [
    "## Get random gates on a graph"
   ]
  },
  {
   "cell_type": "code",
   "execution_count": 10,
   "metadata": {},
   "outputs": [
    {
     "name": "stdout",
     "output_type": "stream",
     "text": [
      "I 0\n",
      "Z 1\n",
      "Z 2\n",
      "Z 3\n",
      "X 4\n",
      "Z 5\n",
      "X 6\n",
      "I 7\n",
      "Z 8\n",
      "CZ 0 3\n",
      "I 0\n",
      "I 1\n",
      "CZ 1 4\n",
      "I 1\n",
      "I 2\n",
      "I 2\n",
      "I 5\n",
      "CZ 3 6\n",
      "CZ 3 4\n",
      "CZ 4 7\n",
      "I 4\n",
      "I 5\n",
      "I 5\n",
      "I 8\n",
      "CZ 6 7\n",
      "I 7\n",
      "I 8\n",
      "\n"
     ]
    }
   ],
   "source": [
    "prog1 = random_single_qubit_gates(G, one_q_gates)\n",
    "prog2 = random_two_qubit_gates(G, two_q_gates)\n",
    "print(prog1+prog2)"
   ]
  },
  {
   "cell_type": "code",
   "execution_count": 11,
   "metadata": {},
   "outputs": [
    {
     "name": "stdout",
     "output_type": "stream",
     "text": [
      "RZ(-pi) 0\n",
      "RX(-pi) 0\n",
      "RZ(-pi/2) 1\n",
      "RX(pi/2) 1\n",
      "RX(pi/2) 2\n",
      "RZ(pi/2) 2\n",
      "RX(-pi/2) 2\n",
      "RX(pi/2) 3\n",
      "RZ(pi/2) 3\n",
      "RX(-pi/2) 4\n",
      "RZ(-pi) 5\n",
      "RX(-pi/2) 6\n",
      "RZ(-pi/2) 6\n",
      "RX(-pi/2) 6\n",
      "RZ(-pi/2) 7\n",
      "RX(-pi/2) 7\n",
      "RZ(-pi/2) 8\n",
      "RX(-pi/2) 8\n",
      "\n"
     ]
    }
   ],
   "source": [
    "progy = random_single_qubit_cliffords(bm, G)\n",
    "print(progy)"
   ]
  },
  {
   "cell_type": "markdown",
   "metadata": {},
   "source": [
    "## Make some circuit templates and sample programs from them\n"
   ]
  },
  {
   "cell_type": "code",
   "execution_count": 12,
   "metadata": {},
   "outputs": [
    {
     "name": "stdout",
     "output_type": "stream",
     "text": [
      "I 7\n",
      "I 8\n",
      "X 7\n",
      "I 8\n",
      "\n"
     ]
    }
   ],
   "source": [
    "classical_1q_layer = get_rand_1q_template(one_c_gates)\n",
    "print(classical_1q_layer.sample_program(G, repetitions=2, width=2))"
   ]
  },
  {
   "cell_type": "code",
   "execution_count": 13,
   "metadata": {},
   "outputs": [
    {
     "name": "stdout",
     "output_type": "stream",
     "text": [
      "I 0\n",
      "I 1\n",
      "I 0\n",
      "I 1\n",
      "\n"
     ]
    }
   ],
   "source": [
    "classical_2q_layer = get_rand_2q_template(two_c_gates)\n",
    "print(classical_2q_layer.sample_program(G, repetitions=2, width=2))"
   ]
  },
  {
   "cell_type": "code",
   "execution_count": 14,
   "metadata": {},
   "outputs": [
    {
     "name": "stdout",
     "output_type": "stream",
     "text": [
      "CZ 3 4\n",
      "RX(-pi/2) 4\n",
      "CZ 3 4\n",
      "RX(pi/2) 4\n",
      "RX(-pi/2) 3\n",
      "CZ 3 4\n",
      "RZ(-pi/2) 4\n",
      "RX(-pi/2) 4\n",
      "CZ 3 4\n",
      "RX(-pi/2) 4\n",
      "RX(-pi/2) 3\n",
      "CZ 3 4\n",
      "RZ(-pi/2) 4\n",
      "RX(-pi/2) 3\n",
      "\n"
     ]
    }
   ],
   "source": [
    "clifford_1q_layer = get_rand_1q_cliff_template(bm)\n",
    "clifford_2q_layer = get_rand_2q_cliff_template(bm)\n",
    "print(clifford_2q_layer.sample_program(G, repetitions=2, width=2))"
   ]
  },
  {
   "cell_type": "code",
   "execution_count": 15,
   "metadata": {},
   "outputs": [
    {
     "name": "stdout",
     "output_type": "stream",
     "text": [
      "\n"
     ]
    }
   ],
   "source": [
    "rand_perm_layer = get_rand_qubit_perm_template()\n",
    "print(rand_perm_layer.sample_program(G, 1, qc=noisy_qc, width=2))"
   ]
  },
  {
   "cell_type": "code",
   "execution_count": 16,
   "metadata": {},
   "outputs": [
    {
     "name": "stdout",
     "output_type": "stream",
     "text": [
      "RZ(-1.329632786433312) 3\n",
      "RX(pi/2) 3\n",
      "RZ(0.7604982719369086) 3\n",
      "RX(-pi/2) 3\n",
      "RZ(1.8156310165752079) 6\n",
      "RX(pi/2) 6\n",
      "RZ(1.4711114998123926) 6\n",
      "RX(-pi/2) 6\n",
      "CZ 6 3\n",
      "RZ(-3.1241399925819855) 3\n",
      "RX(pi/2) 3\n",
      "RZ(2.2746571087217635) 3\n",
      "RX(-pi/2) 3\n",
      "RZ(1.5532719149246832) 6\n",
      "RX(-pi/2) 6\n",
      "CZ 6 3\n",
      "RX(pi/2) 3\n",
      "RZ(-1.6114573653372144) 3\n",
      "RX(-pi/2) 3\n",
      "RZ(2.1015884527806747) 6\n",
      "RX(pi/2) 6\n",
      "CZ 6 3\n",
      "RZ(0.7800514644372821) 3\n",
      "RX(pi/2) 3\n",
      "RZ(1.5561120572506353) 3\n",
      "RX(-pi/2) 3\n",
      "RZ(-2.303571544938592) 3\n",
      "RZ(2.0461487572707764) 6\n",
      "RX(pi/2) 6\n",
      "RZ(1.4885403070641674) 6\n",
      "RX(-pi/2) 6\n",
      "RZ(-1.7188983925062606) 6\n",
      "\n"
     ]
    }
   ],
   "source": [
    "rand_su4_layer = get_rand_su4_template()\n",
    "print(rand_su4_layer.sample_program(G, 1, qc=noisy_qc, width=2))"
   ]
  },
  {
   "cell_type": "markdown",
   "metadata": {},
   "source": [
    "## Compose templates"
   ]
  },
  {
   "cell_type": "code",
   "execution_count": 17,
   "metadata": {},
   "outputs": [
    {
     "name": "stdout",
     "output_type": "stream",
     "text": [
      "X 3\n",
      "I 4\n",
      "X 5\n",
      "X 7\n",
      "CNOT 3 4\n",
      "I 4\n",
      "I 7\n",
      "CNOT 4 5\n",
      "I 3\n",
      "I 4\n",
      "I 5\n",
      "X 7\n",
      "I 3\n",
      "I 4\n",
      "CNOT 4 7\n",
      "CNOT 4 5\n",
      "\n"
     ]
    }
   ],
   "source": [
    "classical_1q_2q = classical_1q_layer + classical_2q_layer\n",
    "print(classical_1q_2q.sample_program(G, repetitions=2, width=4))"
   ]
  },
  {
   "cell_type": "code",
   "execution_count": 18,
   "metadata": {},
   "outputs": [
    {
     "name": "stdout",
     "output_type": "stream",
     "text": [
      "RX(-pi) 2\n",
      "RZ(-pi/2) 5\n",
      "RX(pi/2) 5\n",
      "CZ 2 5\n",
      "RX(pi/2) 5\n",
      "RX(-pi/2) 2\n",
      "CZ 2 5\n",
      "RZ(-pi/2) 5\n",
      "RZ(-pi/2) 2\n",
      "RX(-pi/2) 2\n",
      "RX(-pi/2) 2\n",
      "RX(-pi/2) 5\n",
      "RX(-pi/2) 2\n",
      "CZ 2 5\n",
      "RZ(-pi/2) 5\n",
      "RZ(-pi) 2\n",
      "RZ(-pi/2) 2\n",
      "RX(-pi/2) 5\n",
      "RZ(-pi/2) 5\n",
      "CZ 2 5\n",
      "RX(-pi/2) 5\n",
      "CZ 2 5\n",
      "RX(-pi/2) 2\n",
      "CZ 2 5\n",
      "RZ(-pi/2) 2\n",
      "RZ(pi) 2\n",
      "RX(pi/2) 2\n",
      "RX(pi/2) 5\n",
      "CZ 2 5\n",
      "RZ(pi) 2\n",
      "RX(pi) 2\n",
      "RX(pi/2) 5\n",
      "RZ(pi/2) 5\n",
      "\n",
      "This program compiles away to nothing: \n",
      "HALT\n",
      "\n"
     ]
    }
   ],
   "source": [
    "clifford_sandwhich = clifford_1q_layer + clifford_2q_layer + get_dagger_all_template()\n",
    "# here we demonstrate a simple use of a pattern. We want to do some Clifford layers reps\n",
    "# number of times and then dagger the result of all those reps. \n",
    "reps = 3\n",
    "prog = clifford_sandwhich.sample_program(G, repetitions=1, width=2, pattern=[([0, 1], reps), 2],  qc=noisy_qc)\n",
    "print(prog)\n",
    "\n",
    "# We can check that this is the identity by compiling it fully\n",
    "print(\"This program compiles away to nothing: \")\n",
    "print(noisy_qc.compiler.quil_to_native_quil(prog))"
   ]
  },
  {
   "cell_type": "markdown",
   "metadata": {},
   "source": [
    "### Quantum Volume (unoptimized)"
   ]
  },
  {
   "cell_type": "code",
   "execution_count": 19,
   "metadata": {},
   "outputs": [
    {
     "name": "stdout",
     "output_type": "stream",
     "text": [
      "RZ(1.8017191111484605) 3\n",
      "RX(pi/2) 3\n",
      "RZ(pi/2) 4\n",
      "RX(pi/2) 4\n",
      "RZ(1.276579062544581) 4\n",
      "RX(-pi/2) 4\n",
      "CZ 4 3\n",
      "RX(pi/2) 3\n",
      "RX(pi/2) 4\n",
      "CZ 4 3\n",
      "RZ(2.486017802099031) 2\n",
      "RX(pi/2) 2\n",
      "RZ(-pi/2) 5\n",
      "RX(pi/2) 5\n",
      "RZ(2.246131166553576) 5\n",
      "RX(-pi/2) 5\n",
      "CZ 2 5\n",
      "RX(pi/2) 2\n",
      "RZ(pi) 5\n",
      "RX(pi/2) 5\n",
      "CZ 2 5\n",
      "RX(pi/2) 4\n",
      "RZ(-pi/2) 7\n",
      "RX(pi/2) 7\n",
      "CZ 7 4\n",
      "RZ(-0.4283666432126832) 8\n",
      "RX(pi/2) 8\n",
      "RZ(1.1996621933787561) 8\n",
      "RX(-pi/2) 8\n",
      "RZ(1.0076215164016324) 8\n",
      "RZ(2.9106698692362283) 4\n",
      "RX(pi/2) 4\n",
      "RZ(pi) 5\n",
      "RX(pi/2) 5\n",
      "CZ 4 5\n",
      "RZ(pi/2) 7\n",
      "RX(pi/2) 4\n",
      "CZ 7 4\n",
      "RZ(0.40643443383085465) 5\n",
      "RX(pi/2) 5\n",
      "RZ(1.6021735778205666) 5\n",
      "RX(-pi/2) 5\n",
      "RZ(0.7596599838570817) 8\n",
      "RX(pi/2) 8\n",
      "RZ(2.6414924282541383) 8\n",
      "RX(-pi/2) 8\n",
      "CZ 5 8\n",
      "RZ(-2.7242905019992167) 5\n",
      "RX(-pi/2) 5\n",
      "RZ(-2.2362573886500776) 8\n",
      "RX(pi/2) 8\n",
      "CZ 5 8\n",
      "RX(pi/2) 5\n",
      "RX(-pi/2) 8\n",
      "CZ 5 8\n",
      "RX(pi/2) 7\n",
      "RZ(-2.2179297941114995) 8\n",
      "RX(pi/2) 8\n",
      "RZ(0.6563946674935734) 8\n",
      "RX(-pi/2) 8\n",
      "CZ 8 7\n",
      "RX(pi/2) 7\n",
      "CZ 7 4\n",
      "CZ 7 8\n",
      "RZ(-2.8884988700249052) 2\n",
      "RX(pi/2) 2\n",
      "RZ(0.5711301113067844) 2\n",
      "RX(-pi/2) 2\n",
      "RZ(-1.9821717354393478) 5\n",
      "RX(pi/2) 5\n",
      "RZ(2.996916689268449) 5\n",
      "RX(-pi/2) 5\n",
      "CZ 2 5\n",
      "RZ(0.6168454016858838) 2\n",
      "RX(-pi/2) 2\n",
      "RZ(-1.831802684296635) 5\n",
      "RX(pi/2) 5\n",
      "CZ 2 5\n",
      "RX(pi/2) 2\n",
      "RX(-pi/2) 5\n",
      "CZ 2 5\n",
      "RZ(1.3147766336014757) 4\n",
      "RX(pi/2) 4\n",
      "RZ(0.6132172846209873) 4\n",
      "RX(-pi/2) 4\n",
      "RZ(2.8071869495514195) 7\n",
      "RX(pi/2) 7\n",
      "RZ(2.9381092126110544) 7\n",
      "RX(-pi/2) 7\n",
      "CZ 4 7\n",
      "RZ(1.1858040262494316) 4\n",
      "RX(-pi/2) 4\n",
      "RZ(-2.0282758603541193) 7\n",
      "RX(pi/2) 7\n",
      "CZ 4 7\n",
      "RX(pi/2) 4\n",
      "RX(-pi/2) 7\n",
      "CZ 4 7\n",
      "RZ(-1.0318311998921215) 4\n",
      "RX(pi/2) 4\n",
      "RZ(2.917298994701893) 4\n",
      "RX(-pi/2) 4\n",
      "RZ(-2.9587061257951355) 5\n",
      "RX(pi/2) 5\n",
      "RZ(0.8394641621209838) 5\n",
      "RX(-pi/2) 5\n",
      "CZ 5 4\n",
      "RZ(2.2966897861387614) 8\n",
      "RX(pi/2) 8\n",
      "RZ(pi/2) 8\n",
      "RZ(1.144803718228606) 4\n",
      "RX(pi/2) 4\n",
      "RZ(1.8992957948764966) 4\n",
      "RX(-pi/2) 4\n",
      "RZ(-1.108086487127095) 7\n",
      "RX(pi/2) 7\n",
      "RZ(1.052421435298725) 7\n",
      "RX(-pi/2) 7\n",
      "CZ 7 4\n",
      "RZ(-1.7214580509840065) 4\n",
      "RX(pi/2) 4\n",
      "RZ(2.0013939785015324) 7\n",
      "RX(-pi/2) 7\n",
      "CZ 7 4\n",
      "RX(-pi/2) 4\n",
      "RX(pi/2) 7\n",
      "CZ 7 4\n",
      "CZ 5 8\n",
      "RZ(-3.046892179135674) 4\n",
      "RX(pi/2) 4\n",
      "RZ(1.246384782476549) 4\n",
      "RX(-pi/2) 4\n",
      "RZ(2.8998637381266246) 5\n",
      "RX(pi/2) 5\n",
      "CZ 5 4\n",
      "RZ(2.185702808358501) 7\n",
      "RX(pi/2) 7\n",
      "RZ(1.7177683146657783) 7\n",
      "RX(-pi/2) 7\n",
      "RZ(2.2314104608517087) 8\n",
      "RX(pi/2) 8\n",
      "RZ(1.8472097515484471) 8\n",
      "RX(-pi/2) 8\n",
      "CZ 7 8\n",
      "RZ(-0.9711724505215837) 7\n",
      "RX(-pi/2) 7\n",
      "RZ(-1.477854260654719) 8\n",
      "RX(pi/2) 8\n",
      "CZ 7 8\n",
      "RX(pi/2) 7\n",
      "RX(-pi/2) 8\n",
      "CZ 7 8\n",
      "RZ(1.178225994995772) 4\n",
      "RX(pi/2) 4\n",
      "RZ(2.6799021109782855) 4\n",
      "RX(-pi/2) 4\n",
      "RZ(-1.56979198155268) 7\n",
      "RX(pi/2) 7\n",
      "RZ(2.1064409602287237) 7\n",
      "RX(-pi/2) 7\n",
      "CZ 7 4\n",
      "RZ(-2.8532637822250297) 4\n",
      "RX(pi/2) 4\n",
      "RZ(0.8904684827129481) 7\n",
      "RX(-pi/2) 7\n",
      "CZ 7 4\n",
      "RX(-pi/2) 4\n",
      "RX(pi/2) 7\n",
      "CZ 7 4\n",
      "RZ(pi) 5\n",
      "RX(pi/2) 5\n",
      "RZ(-2.7453373167901463) 8\n",
      "RX(pi/2) 8\n",
      "RZ(0.9621545031244332) 8\n",
      "RX(-pi/2) 8\n",
      "CZ 5 8\n",
      "RZ(0.44230386481319917) 4\n",
      "RX(pi/2) 4\n",
      "RZ(0.6357193163687375) 4\n",
      "RX(-pi/2) 4\n",
      "CZ 5 4\n",
      "RZ(-0.16026621662804685) 7\n",
      "RX(pi/2) 7\n",
      "RZ(1.1061665431569154) 7\n",
      "RX(-pi/2) 7\n",
      "RZ(-1.4063606326756255) 8\n",
      "RX(pi/2) 8\n",
      "RZ(0.22605186185314077) 8\n",
      "RX(-pi/2) 8\n",
      "CZ 8 7\n",
      "RZ(-0.17573465962336776) 7\n",
      "RX(pi/2) 7\n",
      "RZ(-2.051255968756359) 8\n",
      "RX(-pi/2) 8\n",
      "CZ 8 7\n",
      "RX(-pi/2) 7\n",
      "RX(pi/2) 8\n",
      "CZ 8 7\n",
      "RX(pi/2) 3\n",
      "RZ(1.514919026440782) 3\n",
      "RX(-pi/2) 3\n",
      "RZ(-0.05275673257512681) 4\n",
      "RX(pi/2) 4\n",
      "CZ 4 3\n",
      "RX(pi/2) 3\n",
      "RX(pi/2) 4\n",
      "CZ 4 3\n",
      "RX(pi/2) 4\n",
      "RZ(1.8091362906910984) 4\n",
      "RX(-pi/2) 4\n",
      "RZ(-1.9106332308705216) 7\n",
      "RX(pi/2) 7\n",
      "RZ(0.20553687567580603) 7\n",
      "RX(-pi/2) 7\n",
      "CZ 4 7\n",
      "RX(pi/2) 3\n",
      "RX(-pi/2) 4\n",
      "CZ 4 3\n",
      "RZ(-1.3416084196814992) 7\n",
      "RX(pi/2) 7\n",
      "CZ 7 4\n",
      "RZ(-0.28186335021412506) 8\n",
      "RX(pi/2) 8\n",
      "RZ(1.691627905954305) 8\n",
      "RX(-pi/2) 8\n",
      "CZ 8 5\n",
      "RZ(-1.0118379391373078) 2\n",
      "RX(pi/2) 2\n",
      "RZ(1.3008879401383326) 2\n",
      "RX(-pi/2) 2\n",
      "RZ(-2.414905059296985) 2\n",
      "RZ(2.2195332374487338) 3\n",
      "RX(pi/2) 4\n",
      "RZ(-pi/2) 4\n",
      "RX(pi/2) 5\n",
      "RZ(-pi/2) 5\n",
      "RZ(-pi/2) 7\n",
      "RX(-pi/2) 7\n",
      "RZ(-2.974917157799604) 8\n",
      "RX(-pi/2) 8\n",
      "RZ(-2.4846793549996664) 2\n",
      "RX(pi/2) 2\n",
      "RZ(1.9697699987194803) 2\n",
      "RX(-pi/2) 2\n",
      "RZ(0.18769731536138468) 2\n",
      "RZ(0.17001930149437125) 4\n",
      "RX(pi/2) 4\n",
      "RZ(1.712869504477766) 4\n",
      "RX(-pi/2) 4\n",
      "RZ(2.6079478580879867) 5\n",
      "RX(pi/2) 5\n",
      "RZ(0.39606389161604927) 5\n",
      "RX(-pi/2) 5\n",
      "CZ 5 4\n",
      "RZ(0.8518803309152059) 4\n",
      "RX(pi/2) 4\n",
      "RZ(2.9195304920905008) 4\n",
      "RX(-pi/2) 4\n",
      "RZ(1.7846097082010637) 5\n",
      "RX(-pi/2) 5\n",
      "CZ 5 4\n",
      "RX(pi/2) 4\n",
      "RZ(-1.6711119150132987) 4\n",
      "RX(-pi/2) 4\n",
      "RZ(1.6043005142669777) 5\n",
      "RX(pi/2) 5\n",
      "CZ 5 4\n",
      "RZ(3.1384004255412314) 3\n",
      "RX(pi/2) 3\n",
      "RZ(1.7995831175414572) 3\n",
      "RX(-pi/2) 3\n",
      "RZ(3.0223526285094295) 4\n",
      "RX(pi/2) 4\n",
      "RZ(2.2797208963568516) 4\n",
      "RX(-pi/2) 4\n",
      "CZ 3 4\n",
      "RZ(1.5119945229630982) 3\n",
      "RX(-pi/2) 3\n",
      "RZ(-0.6749117095193151) 4\n",
      "RX(pi/2) 4\n",
      "CZ 3 4\n",
      "RX(pi/2) 3\n",
      "RX(-pi/2) 4\n",
      "CZ 3 4\n",
      "RZ(2.218795197120107) 5\n",
      "RX(pi/2) 5\n",
      "RZ(1.7294041908479145) 5\n",
      "RX(-pi/2) 5\n",
      "CZ 5 2\n",
      "RZ(-pi/2) 2\n",
      "RX(pi/2) 2\n",
      "RZ(-1.51421478604823) 5\n",
      "RX(-pi/2) 5\n",
      "CZ 5 2\n",
      "RX(-pi/2) 2\n",
      "RX(pi/2) 5\n",
      "CZ 5 2\n",
      "RZ(-0.5261825857961759) 4\n",
      "RX(pi/2) 4\n",
      "RZ(2.293645641879581) 4\n",
      "RX(-pi/2) 4\n",
      "RZ(-1.2309594227192742) 5\n",
      "RX(pi/2) 5\n",
      "RZ(0.16831823600878473) 5\n",
      "RX(-pi/2) 5\n",
      "CZ 4 5\n",
      "RZ(-2.5651151837593584) 4\n",
      "RX(-pi/2) 4\n",
      "RZ(-2.8379284488721312) 5\n",
      "RX(pi/2) 5\n",
      "RZ(2.4792546988595814) 5\n",
      "RX(-pi/2) 5\n",
      "CZ 4 5\n",
      "RZ(1.4847395054946104) 4\n",
      "RX(pi/2) 4\n",
      "RX(pi/2) 5\n",
      "RZ(-1.6585864185122152) 5\n",
      "RX(-pi/2) 5\n",
      "CZ 4 5\n",
      "RZ(0.1478087433714213) 2\n",
      "RX(pi/2) 2\n",
      "RZ(2.1137479650249293) 2\n",
      "RX(-pi/2) 2\n",
      "RZ(-1.1090549740545101) 2\n",
      "RZ(-1.7640422667268632) 3\n",
      "RX(pi/2) 3\n",
      "RZ(1.6644451088523784) 3\n",
      "RX(-pi/2) 3\n",
      "RZ(-1.3209101043315539) 3\n",
      "RZ(0.6229968093952749) 4\n",
      "RX(pi/2) 4\n",
      "RZ(1.5292935778679262) 4\n",
      "RX(-pi/2) 4\n",
      "RZ(0.15138470971322932) 4\n",
      "RZ(-1.5826953740879837) 5\n",
      "RX(pi/2) 5\n",
      "RZ(2.760201374187681) 5\n",
      "RX(-pi/2) 5\n",
      "RZ(-2.5390560334734964) 5\n",
      "RZ(-pi/2) 6\n",
      "RX(pi/2) 6\n",
      "CZ 3 6\n",
      "RZ(0.6104267724806893) 7\n",
      "RX(pi/2) 7\n",
      "RZ(0.6228398548563105) 7\n",
      "RX(-pi/2) 7\n",
      "RZ(2.884905346302303) 7\n",
      "RZ(-pi/2) 3\n",
      "RX(-pi/2) 4\n",
      "RZ(-pi/2) 5\n",
      "RX(pi/2) 5\n",
      "CZ 5 2\n",
      "RZ(-0.5622638162116549) 3\n",
      "RX(pi/2) 3\n",
      "RZ(pi/2) 4\n",
      "RX(pi/2) 4\n",
      "RZ(2.580153183042519) 4\n",
      "RX(-pi/2) 4\n",
      "CZ 3 4\n",
      "RZ(pi) 3\n",
      "RX(pi/2) 3\n",
      "RZ(pi) 4\n",
      "RX(pi/2) 4\n",
      "CZ 3 4\n",
      "RZ(2.194027215765365) 0\n",
      "RX(pi/2) 0\n",
      "RZ(0.8571227571766867) 0\n",
      "RX(-pi/2) 0\n",
      "RZ(0.37874708384729416) 0\n",
      "RZ(2.716189361289564) 1\n",
      "RX(pi/2) 1\n",
      "RZ(1.476379028421653) 1\n",
      "RX(-pi/2) 1\n",
      "RZ(1.8528396796918816) 2\n",
      "RX(-pi/2) 2\n",
      "RZ(-1.665213625168139) 2\n",
      "RX(pi/2) 2\n",
      "CZ 2 1\n",
      "RZ(-0.8581874720170832) 1\n",
      "RX(pi/2) 1\n",
      "RZ(2.2834051815727108) 2\n",
      "RX(-pi/2) 2\n",
      "CZ 2 1\n",
      "RX(-pi/2) 1\n",
      "RX(pi/2) 2\n",
      "CZ 2 1\n",
      "RZ(pi) 3\n",
      "RX(pi/2) 3\n",
      "RZ(2.580153183042519) 3\n",
      "RZ(-0.14384125000849968) 1\n",
      "RX(pi/2) 1\n",
      "RZ(2.4238444125967455) 1\n",
      "RX(-pi/2) 1\n",
      "RX(pi/2) 4\n",
      "RZ(2.5793288373781382) 4\n",
      "RX(-pi/2) 4\n",
      "CZ 4 1\n",
      "RZ(-1.4160539152599165) 0\n",
      "RX(pi/2) 0\n",
      "RZ(0.8272218476421863) 0\n",
      "RX(-pi/2) 0\n",
      "RZ(-0.9520633379477698) 1\n",
      "RX(pi/2) 1\n",
      "RZ(1.5085829637346406) 1\n",
      "RX(-pi/2) 1\n",
      "CZ 1 0\n",
      "RZ(-2.669812789840474) 0\n",
      "RX(pi/2) 0\n",
      "RZ(0.7355495786908346) 1\n",
      "RX(-pi/2) 1\n",
      "CZ 1 0\n",
      "RX(-pi/2) 0\n",
      "RX(pi/2) 1\n",
      "CZ 1 0\n",
      "RZ(pi) 4\n",
      "RX(pi/2) 4\n",
      "CZ 3 4\n",
      "RZ(-2.009290286078003) 0\n",
      "RX(pi/2) 0\n",
      "RZ(1.2031913752704844) 0\n",
      "RX(-pi/2) 0\n",
      "RZ(pi) 3\n",
      "RX(pi/2) 3\n",
      "CZ 0 3\n",
      "RZ(0.12044413515577679) 5\n",
      "RX(pi/2) 5\n",
      "RZ(1.5682338079760971) 5\n",
      "RX(-pi/2) 5\n",
      "RZ(1.6132896620316137) 5\n",
      "RZ(0.8004100630167017) 0\n",
      "RX(pi) 0\n",
      "RX(pi/2) 3\n",
      "CZ 3 4\n",
      "CZ 3 0\n",
      "RZ(0.5380274043194792) 1\n",
      "RX(pi/2) 1\n",
      "RZ(1.910559318237438) 1\n",
      "RX(-pi/2) 1\n",
      "RZ(2.6862490016793266) 2\n",
      "RX(pi/2) 2\n",
      "RZ(0.6558090478527918) 2\n",
      "RX(-pi/2) 2\n",
      "CZ 1 2\n",
      "RZ(-1.4029094245010207) 1\n",
      "RX(-pi/2) 1\n",
      "RZ(-0.3597421425477565) 2\n",
      "RX(pi/2) 2\n",
      "CZ 1 2\n",
      "RX(pi/2) 1\n",
      "RX(-pi/2) 2\n",
      "CZ 1 2\n",
      "RZ(1.7852837368908632) 0\n",
      "RX(pi/2) 0\n",
      "RZ(2.0377451443910384) 0\n",
      "RX(-pi/2) 0\n",
      "RZ(1.6847075382554333) 1\n",
      "RX(pi/2) 1\n",
      "RZ(1.5620362855533372) 1\n",
      "RX(-pi/2) 1\n",
      "CZ 1 0\n",
      "RZ(0.16624803271941935) 0\n",
      "RX(pi/2) 0\n",
      "RZ(2.474525260502766) 1\n",
      "RX(-pi/2) 1\n",
      "CZ 1 0\n",
      "RX(-pi/2) 0\n",
      "RX(pi/2) 1\n",
      "CZ 1 0\n",
      "RZ(3.021148518434016) 4\n",
      "RX(pi/2) 4\n",
      "RZ(1.573358845613696) 4\n",
      "RX(-pi/2) 4\n",
      "CZ 5 4\n",
      "RZ(-3.0990993183530753) 4\n",
      "RX(pi/2) 4\n",
      "RZ(-pi/2) 5\n",
      "RX(-pi/2) 5\n",
      "CZ 5 4\n",
      "RX(-pi/2) 4\n",
      "RX(pi/2) 5\n",
      "CZ 5 4\n",
      "RZ(pi/2) 3\n",
      "RX(pi/2) 3\n",
      "RZ(3.1390278194901975) 4\n",
      "RX(pi/2) 4\n",
      "RZ(1.613289522431356) 4\n",
      "RX(-pi/2) 4\n",
      "CZ 4 3\n",
      "RZ(1.9106332308705163) 5\n",
      "RX(pi/2) 5\n",
      "RZ(3.013803911964227) 5\n",
      "RX(-pi/2) 5\n",
      "RZ(-2.8017557495141734) 5\n",
      "RZ(pi/2) 3\n",
      "RZ(1.910633230870521) 1\n",
      "RX(pi/2) 1\n",
      "RZ(2.938612054858844) 1\n",
      "RX(-pi/2) 1\n",
      "CZ 4 1\n",
      "RZ(2.3935359015380775) 1\n",
      "RZ(-0.12055309059496899) 4\n",
      "RX(pi/2) 4\n",
      "CZ 4 5\n",
      "RX(-pi/2) 4\n",
      "CZ 4 3\n",
      "RZ(pi) 5\n",
      "CZ 4 1\n",
      "RZ(-0.7594665746334813) 6\n",
      "RX(pi/2) 6\n",
      "RZ(0.9682997039837928) 6\n",
      "RX(-pi/2) 6\n",
      "RZ(1.130125978255595) 7\n",
      "RX(pi/2) 7\n",
      "RZ(1.3219978897151594) 7\n",
      "RX(-pi/2) 7\n",
      "CZ 7 6\n",
      "RZ(1.2920975873308231) 6\n",
      "RX(pi/2) 6\n",
      "RZ(-2.699687752513954) 7\n",
      "RX(-pi/2) 7\n",
      "CZ 7 6\n",
      "RX(-pi/2) 6\n",
      "RX(pi/2) 7\n",
      "CZ 7 6\n",
      "RZ(pi) 1\n",
      "RZ(pi) 5\n",
      "RX(pi/2) 5\n",
      "CZ 5 4\n",
      "RZ(pi/2) 3\n",
      "RX(-pi/2) 3\n",
      "RZ(0.3488048279691702) 4\n",
      "RX(pi/2) 4\n",
      "RZ(2.080812815899925) 4\n",
      "RX(-pi/2) 4\n",
      "RZ(-2.261936631782986) 7\n",
      "RX(pi/2) 7\n",
      "RZ(2.512220355359802) 7\n",
      "RX(-pi/2) 7\n",
      "CZ 7 4\n",
      "RZ(-2.001770175388918) 4\n",
      "RX(pi/2) 4\n",
      "RZ(2.3381674154646035) 7\n",
      "RX(-pi/2) 7\n",
      "CZ 7 4\n",
      "RX(-pi/2) 4\n",
      "RX(pi/2) 7\n",
      "CZ 7 4\n",
      "RZ(-0.36348630478461597) 4\n",
      "RX(pi/2) 4\n",
      "RZ(2.1462243409518855) 4\n",
      "RX(-pi/2) 4\n",
      "CZ 4 1\n",
      "RZ(2.783380637392832) 4\n",
      "RX(-pi/2) 4\n",
      "CZ 4 3\n",
      "RX(pi/2) 4\n",
      "CZ 4 1\n",
      "RX(pi/2) 3\n",
      "CZ 3 4\n",
      "RZ(1.2309594227192715) 0\n",
      "RX(pi/2) 0\n",
      "RZ(2.9386120548588437) 0\n",
      "RX(-pi/2) 0\n",
      "RZ(1.307771658879897) 0\n",
      "RZ(0.8517649965788463) 2\n",
      "RX(pi/2) 2\n",
      "RZ(0.9601493325239959) 2\n",
      "RX(-pi/2) 2\n",
      "RZ(-2.9228083460026224) 2\n",
      "RZ(-pi/2) 3\n",
      "RZ(pi) 4\n",
      "RX(pi/2) 4\n",
      "RZ(-pi/2) 4\n",
      "RZ(-pi/2) 5\n",
      "RX(-pi/2) 5\n",
      "RZ(0.602055998551568) 6\n",
      "RX(pi/2) 6\n",
      "RZ(1.6779923954926161) 6\n",
      "RX(-pi/2) 6\n",
      "RZ(3.057847254569218) 6\n",
      "RZ(-2.778106348805177) 7\n",
      "RX(pi/2) 7\n",
      "RZ(2.146224340951885) 7\n",
      "RX(-pi/2) 7\n",
      "RZ(-0.3327780583056048) 7\n",
      "RZ(-1.3481497896518795) 2\n",
      "RX(pi/2) 2\n",
      "RZ(1.508276980336258) 2\n",
      "RX(-pi/2) 2\n",
      "RZ(-2.609629627984429) 2\n",
      "RZ(2.860395728283365) 4\n",
      "RX(pi/2) 4\n",
      "RZ(0.25825392940911907) 4\n",
      "RX(-pi/2) 4\n",
      "RZ(-1.8673351209635076) 5\n",
      "RX(pi/2) 5\n",
      "RZ(2.200344935074086) 5\n",
      "RX(-pi/2) 5\n",
      "CZ 5 4\n",
      "RZ(3.002032753782931) 4\n",
      "RX(pi/2) 4\n",
      "RZ(1.9016390660570242) 4\n",
      "RX(-pi/2) 4\n",
      "RZ(0.8783395396195068) 5\n",
      "RX(-pi/2) 5\n",
      "CZ 5 4\n",
      "RX(pi/2) 4\n",
      "RZ(-1.6422339346518626) 4\n",
      "RX(-pi/2) 4\n",
      "RZ(2.212559159795388) 5\n",
      "RX(pi/2) 5\n",
      "CZ 5 4\n",
      "RZ(0.05125197036432472) 3\n",
      "RX(pi/2) 3\n",
      "RZ(2.7247627829273027) 3\n",
      "RX(-pi/2) 3\n",
      "RZ(-2.6244820173591363) 4\n",
      "RX(pi/2) 4\n",
      "RZ(2.1559791278594287) 4\n",
      "RX(-pi/2) 4\n",
      "CZ 3 4\n",
      "RZ(-1.7338171993680849) 3\n",
      "RX(-pi/2) 3\n",
      "RZ(1.340711539846267) 4\n",
      "RX(pi/2) 4\n",
      "CZ 3 4\n",
      "RX(pi/2) 3\n",
      "RX(-pi/2) 4\n",
      "CZ 3 4\n",
      "RZ(-2.3166462879439145) 5\n",
      "RX(pi/2) 5\n",
      "RZ(1.3766698356009928) 5\n",
      "RX(-pi/2) 5\n",
      "CZ 5 2\n",
      "RZ(-pi/2) 2\n",
      "RX(pi/2) 2\n",
      "RZ(1.6403618581493795) 5\n",
      "RX(-pi/2) 5\n",
      "CZ 5 2\n",
      "RX(-pi/2) 2\n",
      "RX(pi/2) 5\n",
      "CZ 5 2\n",
      "RZ(-1.6502592850302058) 4\n",
      "RX(pi/2) 4\n",
      "RZ(1.2500092961217049) 4\n",
      "RX(-pi/2) 4\n",
      "RZ(1.9106332308705214) 5\n",
      "RX(pi/2) 5\n",
      "RZ(2.9355259305110066) 5\n",
      "RX(-pi/2) 5\n",
      "CZ 4 5\n",
      "RZ(0.4279053812707434) 4\n",
      "RX(-pi/2) 4\n",
      "RZ(-0.39923680862121647) 5\n",
      "RX(pi/2) 5\n",
      "RZ(2.9462153347870217) 5\n",
      "RX(-pi/2) 5\n",
      "CZ 4 5\n",
      "RZ(1.5782153937397592) 4\n",
      "RX(pi/2) 4\n",
      "RX(pi/2) 5\n",
      "RZ(-1.779670397487647) 5\n",
      "RX(-pi/2) 5\n",
      "CZ 4 5\n",
      "RZ(1.8186206488316365) 2\n",
      "RX(pi/2) 2\n",
      "RZ(0.8413921730383077) 2\n",
      "RX(-pi/2) 2\n",
      "RZ(-1.4887535048578582) 2\n",
      "RZ(1.465517132139001) 3\n",
      "RX(pi/2) 3\n",
      "RZ(1.196367585025699) 3\n",
      "RX(-pi/2) 3\n",
      "RZ(2.6341238409018928) 3\n",
      "RZ(1.2597217463218704) 4\n",
      "RX(pi/2) 4\n",
      "RZ(1.3960289387989866) 4\n",
      "RX(-pi/2) 4\n",
      "RZ(-0.4615424069322529) 4\n",
      "RZ(-2.3272494229396004) 5\n",
      "RX(pi/2) 5\n",
      "RZ(1.6616292269360053) 5\n",
      "RX(-pi/2) 5\n",
      "RZ(-2.8584247543614762) 5\n",
      "\n"
     ]
    }
   ],
   "source": [
    "qv_template = rand_perm_layer + rand_su4_layer\n",
    "print(qv_template.sample_program(G, repetitions=2, qc=noisy_qc, width=5))"
   ]
  },
  {
   "cell_type": "markdown",
   "metadata": {},
   "source": [
    "## Acquire data for ranges of (width, depth)"
   ]
  },
  {
   "cell_type": "code",
   "execution_count": 20,
   "metadata": {},
   "outputs": [
    {
     "name": "stdout",
     "output_type": "stream",
     "text": [
      "{2: {4: [<pyquil.quil.Program object at 0x7fea2eb67c18>, <pyquil.quil.Program object at 0x7fea2eb6d828>, <pyquil.quil.Program object at 0x7fea2eb72048>, <pyquil.quil.Program object at 0x7fea2eb72da0>, <pyquil.quil.Program object at 0x7fea2eb72cc0>, <pyquil.quil.Program object at 0x7fea2eb77668>, <pyquil.quil.Program object at 0x7fea2eb77f60>, <pyquil.quil.Program object at 0x7fea2eb7d5c0>, <pyquil.quil.Program object at 0x7fea2eb01160>, <pyquil.quil.Program object at 0x7fea2eb77828>]}, 3: {4: [<pyquil.quil.Program object at 0x7fea2eb01eb8>, <pyquil.quil.Program object at 0x7fea2eb06b70>, <pyquil.quil.Program object at 0x7fea2eb77e80>, <pyquil.quil.Program object at 0x7fea2eb114a8>, <pyquil.quil.Program object at 0x7fea2eb15358>, <pyquil.quil.Program object at 0x7fea2eb1b1d0>, <pyquil.quil.Program object at 0x7fea2eb1b898>, <pyquil.quil.Program object at 0x7fea2eb6d6d8>, <pyquil.quil.Program object at 0x7fea2eb224e0>, <pyquil.quil.Program object at 0x7fea2eb1e4a8>]}, 4: {4: [<pyquil.quil.Program object at 0x7fea2eb2e080>, <pyquil.quil.Program object at 0x7fea2eb22a58>, <pyquil.quil.Program object at 0x7fea2eb31780>, <pyquil.quil.Program object at 0x7fea2eb35828>, <pyquil.quil.Program object at 0x7fea2eb3ce80>, <pyquil.quil.Program object at 0x7fea2eac1f60>, <pyquil.quil.Program object at 0x7fea2eacb2e8>, <pyquil.quil.Program object at 0x7fea2eace278>, <pyquil.quil.Program object at 0x7fea2ead2630>, <pyquil.quil.Program object at 0x7fea2ead8710>]}}\n"
     ]
    }
   ],
   "source": [
    "widths = [2, 3, 4]\n",
    "depths = [3, 4]\n",
    "ckt = classical_1q_2q\n",
    "prog_array = generate_volumetric_program_array(noisy_qc, ckt, widths, depths, num_circuit_samples=10)\n",
    "print(prog_array)"
   ]
  },
  {
   "cell_type": "code",
   "execution_count": 21,
   "metadata": {},
   "outputs": [],
   "source": [
    "noisy_results = acquire_volumetric_data(noisy_qc, prog_array)"
   ]
  },
  {
   "cell_type": "code",
   "execution_count": 22,
   "metadata": {},
   "outputs": [
    {
     "name": "stdout",
     "output_type": "stream",
     "text": [
      "{2: {4: [array([[1, 1]]), array([[1, 1]]), array([[1, 0]]), array([[1, 1]]), array([[0, 1]]), array([[0, 1]]), array([[0, 0]]), array([[1, 1]]), array([[1, 0]]), array([[1, 1]])]}, 3: {4: [array([[1, 0, 1]]), array([[1, 1, 0]]), array([[1, 1, 0]]), array([[0, 1, 1]]), array([[0, 0, 0]]), array([[0, 1, 0]]), array([[1, 0, 0]]), array([[0, 0, 0]]), array([[0, 1, 1]]), array([[0, 0, 1]])]}, 4: {4: [array([[0, 1, 1, 0]]), array([[0, 0, 1, 1]]), array([[1, 0, 0, 0]]), array([[0, 0, 1, 1]]), array([[0, 1, 0, 0]]), array([[1, 0, 1, 0]]), array([[0, 0, 1, 0]]), array([[1, 1, 1, 0]]), array([[0, 0, 0, 1]]), array([[0, 0, 0, 1]])]}}\n"
     ]
    }
   ],
   "source": [
    "ideal_results = acquire_volumetric_data(perfect_qc, prog_array, num_shots=1)\n",
    "print(ideal_results)"
   ]
  },
  {
   "cell_type": "code",
   "execution_count": 23,
   "metadata": {},
   "outputs": [
    {
     "name": "stdout",
     "output_type": "stream",
     "text": [
      "{2: {4: [array([0.818, 0.162, 0.02 ]), array([0.802, 0.184, 0.014]), array([0.888, 0.104, 0.008]), array([0.802, 0.184, 0.014]), array([0.916, 0.076, 0.008]), array([0.87, 0.13, 0.  ]), array([0.948, 0.05 , 0.002]), array([0.836, 0.158, 0.006]), array([0.886, 0.114, 0.   ]), array([0.836, 0.148, 0.016])]}, 3: {4: [array([0.78, 0.2 , 0.02, 0.  ]), array([0.776, 0.21 , 0.014, 0.   ]), array([0.782, 0.196, 0.022, 0.   ]), array([0.826, 0.158, 0.016, 0.   ]), array([0.928, 0.072, 0.   , 0.   ]), array([0.862, 0.132, 0.006, 0.   ]), array([0.852, 0.136, 0.012, 0.   ]), array([0.922, 0.078, 0.   , 0.   ]), array([0.794, 0.18 , 0.024, 0.002]), array([0.85 , 0.14 , 0.008, 0.002])]}, 4: {4: [array([0.78 , 0.184, 0.03 , 0.004, 0.002]), array([0.784, 0.196, 0.018, 0.002, 0.   ]), array([0.852, 0.136, 0.012, 0.   , 0.   ]), array([0.808, 0.168, 0.018, 0.004, 0.002]), array([0.848, 0.134, 0.018, 0.   , 0.   ]), array([0.766, 0.22 , 0.012, 0.002, 0.   ]), array([0.798, 0.194, 0.008, 0.   , 0.   ]), array([0.742, 0.214, 0.042, 0.002, 0.   ]), array([0.836, 0.152, 0.012, 0.   , 0.   ]), array([0.84 , 0.148, 0.012, 0.   , 0.   ])]}}\n"
     ]
    }
   ],
   "source": [
    "err_hamm_distrs = get_error_hamming_weight_distributions(noisy_results, ideal_results)\n",
    "print(err_hamm_distrs)"
   ]
  },
  {
   "cell_type": "code",
   "execution_count": 24,
   "metadata": {},
   "outputs": [
    {
     "name": "stdout",
     "output_type": "stream",
     "text": [
      "{2: {4: array([0.8602, 0.131 , 0.0088])}, 3: {4: array([8.372e-01, 1.502e-01, 1.220e-02, 4.000e-04])}, 4: {4: array([8.054e-01, 1.746e-01, 1.820e-02, 1.400e-03, 4.000e-04])}}\n"
     ]
    }
   ],
   "source": [
    "avg_err_hamm_distrs = {w: {d: sum(distrs)/len(distrs)} for w, d_arr in err_hamm_distrs.items()\n",
    "                            for d, distrs in d_arr.items()}\n",
    "print(avg_err_hamm_distrs)"
   ]
  },
  {
   "cell_type": "code",
   "execution_count": null,
   "metadata": {},
   "outputs": [],
   "source": []
  },
  {
   "cell_type": "markdown",
   "metadata": {},
   "source": [
    "# Plot the distribution of sublattice widths"
   ]
  },
  {
   "cell_type": "code",
   "execution_count": 25,
   "metadata": {},
   "outputs": [
    {
     "data": {
      "text/plain": [
       "[9, 12, 22, 36, 49, 48, 32, 9, 1]"
      ]
     },
     "execution_count": 25,
     "metadata": {},
     "output_type": "execute_result"
    },
    {
     "data": {
      "image/png": "[encoded data removed]",
      "text/plain": [
       "<Figure size 432x288 with 1 Axes>"
      ]
     },
     "metadata": {},
     "output_type": "display_data"
    }
   ],
   "source": [
    "G = perfect_qc.qubit_topology()\n",
    "len(perfect_qc.qubit_topology())\n",
    "# distribution of graph lengths\n",
    "disty = []\n",
    "for gdx in range(1,len(G.nodes)+1):\n",
    "    listg = generate_connected_subgraphs(G,gdx)\n",
    "    disty.append(len(listg))\n",
    "\n",
    "cir_wid = list(range(1,len(G.nodes)+1))\n",
    "plt.bar(cir_wid, disty, width=0.61, align='center')\n",
    "plt.xticks(cir_wid)\n",
    "plt.xlabel('sublattice / circuit width')\n",
    "plt.ylabel('Frequency of Occurence')\n",
    "plt.grid(axis='y', alpha=0.75)\n",
    "plt.title('Distribution of sublattice widths')\n",
    "disty"
   ]
  },
  {
   "cell_type": "code",
   "execution_count": null,
   "metadata": {},
   "outputs": [],
   "source": []
  },
  {
   "cell_type": "markdown",
   "metadata": {},
   "source": [
    "# OUTDATED BELOW"
   ]
  },
  {
   "cell_type": "code",
   "execution_count": null,
   "metadata": {},
   "outputs": [],
   "source": []
  },
  {
   "cell_type": "markdown",
   "metadata": {},
   "source": [
    "# Acquire data in Z basis"
   ]
  },
  {
   "cell_type": "code",
   "execution_count": 26,
   "metadata": {},
   "outputs": [],
   "source": [
    "# # with these parameters the cell below takes about 1 hour 40 minutes\n",
    "# num_shots_per_circuit = 400\n",
    "# num_rand_subgraphs = 16\n",
    "# circuit_depth = 18\n",
    "# circuit_width = 15 #max = len(G.nodes)\n",
    "# x_basis = False\n",
    "# active_reset = True\n",
    "# total == 6077"
   ]
  },
  {
   "cell_type": "code",
   "execution_count": 27,
   "metadata": {},
   "outputs": [],
   "source": [
    "# with these parameters the cell below takes about 5 minutes\n",
    "num_shots_per_circuit = 1000\n",
    "num_rand_subgraphs = 20\n",
    "circuit_depth = 6\n",
    "circuit_width = 4 #max = len(G.nodes)\n",
    "x_basis = False\n",
    "active_reset = False"
   ]
  },
  {
   "cell_type": "code",
   "execution_count": 28,
   "metadata": {},
   "outputs": [
    {
     "ename": "NameError",
     "evalue": "name 'generate_rand_cir_for_rand_lattices_experiments' is not defined",
     "output_type": "error",
     "traceback": [
      "\u001b[0;31m--------------------------------------------------------------------------\u001b[0m",
      "\u001b[0;31mNameError\u001b[0m                                Traceback (most recent call last)",
      "\u001b[0;32m<ipython-input-28-33320244d321>\u001b[0m in \u001b[0;36m<module>\u001b[0;34m()\u001b[0m\n\u001b[0;32m----> 1\u001b[0;31m exp =generate_rand_cir_for_rand_lattices_experiments(noisy_qc, \n\u001b[0m\u001b[1;32m      2\u001b[0m                                                      \u001b[0mcircuit_depth\u001b[0m\u001b[0;34m,\u001b[0m\u001b[0;34m\u001b[0m\u001b[0m\n\u001b[1;32m      3\u001b[0m                                                      \u001b[0mcircuit_width\u001b[0m\u001b[0;34m,\u001b[0m\u001b[0;34m\u001b[0m\u001b[0m\n\u001b[1;32m      4\u001b[0m                                                      \u001b[0mnum_rand_subgraphs\u001b[0m\u001b[0;34m,\u001b[0m\u001b[0;34m\u001b[0m\u001b[0m\n\u001b[1;32m      5\u001b[0m                                                      \u001b[0mnum_shots_per_circuit\u001b[0m\u001b[0;34m,\u001b[0m\u001b[0;34m\u001b[0m\u001b[0m\n",
      "\u001b[0;31mNameError\u001b[0m: name 'generate_rand_cir_for_rand_lattices_experiments' is not defined"
     ]
    }
   ],
   "source": [
    "exp =generate_rand_cir_for_rand_lattices_experiments(noisy_qc, \n",
    "                                                     circuit_depth, \n",
    "                                                     circuit_width,\n",
    "                                                     num_rand_subgraphs, \n",
    "                                                     num_shots_per_circuit, \n",
    "                                                     in_x_basis=x_basis, \n",
    "                                                     use_active_reset=active_reset)\n",
    "exp"
   ]
  },
  {
   "cell_type": "markdown",
   "metadata": {},
   "source": [
    "Collect data."
   ]
  },
  {
   "cell_type": "code",
   "execution_count": null,
   "metadata": {},
   "outputs": [],
   "source": [
    "t0 = time.time()\n",
    "data_zbasis = acquire_data_random_classical_circuit(perfect_qc, noisy_qc, exp)\n",
    "t1 = time.time()\n",
    "total = t1-t0\n",
    "print(total)"
   ]
  },
  {
   "cell_type": "code",
   "execution_count": null,
   "metadata": {},
   "outputs": [],
   "source": [
    "data_zbasis"
   ]
  },
  {
   "cell_type": "markdown",
   "metadata": {},
   "source": [
    "Save the dataframe"
   ]
  },
  {
   "cell_type": "code",
   "execution_count": null,
   "metadata": {},
   "outputs": [],
   "source": [
    "#data_zbasis.to_pickle(\"data_z_Aspen-1-16Q-A_2019_02_16.pkl\")"
   ]
  },
  {
   "cell_type": "code",
   "execution_count": null,
   "metadata": {},
   "outputs": [],
   "source": [
    "data_zbasis = pd.read_pickle('data_z_Aspen-1-16Q-A_2019_02_16.pkl')"
   ]
  },
  {
   "cell_type": "code",
   "execution_count": null,
   "metadata": {},
   "outputs": [],
   "source": []
  },
  {
   "cell_type": "code",
   "execution_count": null,
   "metadata": {},
   "outputs": [],
   "source": [
    "# circuit_width = df['Width'].max()\n",
    "# circuit_depth = df['Depth'].max()\n",
    "# for depth, subgraph_size in itertools.product(range(1, circuit_depth+1), range(1, circuit_width+1)):\n",
    "#     print(depth,subgraph_size)"
   ]
  },
  {
   "cell_type": "code",
   "execution_count": null,
   "metadata": {},
   "outputs": [],
   "source": [
    "dfz = pd.DataFrame(data_zbasis)\n",
    "dfz.to_pickle(\"data_z_Aspen_1_15Q_A_2019_02_09.pkl\")"
   ]
  },
  {
   "cell_type": "code",
   "execution_count": null,
   "metadata": {},
   "outputs": [],
   "source": [
    "df = pd.read_pickle('data_z_Aspen_1_15Q_A_2019_02_09.pkl')"
   ]
  },
  {
   "cell_type": "markdown",
   "metadata": {},
   "source": [
    "# Acquire data in X basis"
   ]
  },
  {
   "cell_type": "code",
   "execution_count": null,
   "metadata": {},
   "outputs": [],
   "source": [
    "exp_xbasis = exp.copy()\n",
    "exp_xbasis['In X basis']=True"
   ]
  },
  {
   "cell_type": "code",
   "execution_count": null,
   "metadata": {},
   "outputs": [],
   "source": [
    "t0x = time.time()\n",
    "data_xbasis = acquire_data_random_classical_circuit(perfect_qc, noisy_qc, exp_xbasis)\n",
    "t1x = time.time()\n",
    "totalx = t1x-t0x\n",
    "print(totalx)"
   ]
  },
  {
   "cell_type": "code",
   "execution_count": null,
   "metadata": {},
   "outputs": [],
   "source": [
    "dfx = pd.DataFrame(data_xbasis)\n",
    "dfx.to_pickle(\"data_x_Aspen_1_15Q_A_2019_02_09.pkl\")"
   ]
  },
  {
   "cell_type": "markdown",
   "metadata": {},
   "source": [
    "Now put the data into a dataframe"
   ]
  },
  {
   "cell_type": "code",
   "execution_count": null,
   "metadata": {},
   "outputs": [],
   "source": [
    "#data_xbasis.to_pickle(\"data_x_Aspen-1-16Q-A_2019_02_16.pkl\")"
   ]
  },
  {
   "cell_type": "code",
   "execution_count": null,
   "metadata": {},
   "outputs": [],
   "source": [
    "#data_xbasis = pd.read_pickle('data_x_Aspen-1-16Q-A_2019_02_16.pkl')"
   ]
  },
  {
   "cell_type": "markdown",
   "metadata": {},
   "source": [
    "# Data processing and estimation"
   ]
  },
  {
   "cell_type": "code",
   "execution_count": null,
   "metadata": {},
   "outputs": [],
   "source": [
    "res_df = estimate_random_classical_circuit_errors(data_zbasis)"
   ]
  },
  {
   "cell_type": "code",
   "execution_count": null,
   "metadata": {},
   "outputs": [],
   "source": [
    "circuit_width = res_df['Width'].max()\n",
    "\n",
    "for subgraph_size in range(1, circuit_width+1):\n",
    "    wdx = data_zbasis['Width']==subgraph_size\n",
    "    res_df[wdx]\n",
    "    \n",
    "    df.append(df2, ignore_index=True)"
   ]
  },
  {
   "cell_type": "code",
   "execution_count": null,
   "metadata": {},
   "outputs": [],
   "source": [
    "circuit_width = res_df['Width'].max()\n",
    "circuit_depth = res_df['Depth'].max()\n",
    "results = []\n",
    "for depth, subgraph_size in itertools.product(range(1, circuit_depth+1), range(1, circuit_width+1)):\n",
    "    wdx = data_zbasis['Width']==subgraph_size\n",
    "    ddx = data_zbasis['Depth']==depth\n",
    "    ndf= res_df[wdx&ddx].copy()\n",
    "    results.append({'Depth': depth,\n",
    "                    'Width': subgraph_size,\n",
    "                    'In X basis': ndf['In X basis'].iloc[0],\n",
    "                    'Active Reset': ndf['Active Reset'].iloc[0],\n",
    "                    'Trials': ndf['Trials'].iloc[0],\n",
    "                    'Hamming dist. data': ndf['Hamming dist. data'].mean(),\n",
    "                    'Hamming dist. rand': ndf['Hamming dist. rand'].mean(),\n",
    "                    'Hamming dist. ideal': ndf['Hamming dist. ideal'].mean(),\n",
    "                    'TVD(data, ideal)': ndf['TVD(data, ideal)'].mean(),\n",
    "                    'TVD(data, rand)': ndf['TVD(data, rand)'].mean(),\n",
    "                    'Pr. success data': ndf['Pr. success data'].mean(),\n",
    "                    'Pr. success rand': ndf['Pr. success rand'].mean(),\n",
    "                    'loge = basement[log_2(Width)-1]': ndf['loge = basement[log_2(Width)-1]'].mean(),\n",
    "                    'Pr. success loge data': ndf['Pr. success loge data'].mean(),\n",
    "                    'Pr. success loge rand': ndf['Pr. success loge rand'].mean(),\n",
    "                    })    \n",
    "munged = pd.DataFrame(results)"
   ]
  },
  {
   "cell_type": "code",
   "execution_count": null,
   "metadata": {},
   "outputs": [],
   "source": [
    "munged"
   ]
  },
  {
   "cell_type": "code",
   "execution_count": null,
   "metadata": {},
   "outputs": [],
   "source": [
    "res_df[wdx&ddx]['Hamming dist. data'].mean()"
   ]
  },
  {
   "cell_type": "code",
   "execution_count": null,
   "metadata": {},
   "outputs": [],
   "source": [
    "res_df[wdx&ddx]['Hamming dist. rand'].mean()"
   ]
  },
  {
   "cell_type": "code",
   "execution_count": null,
   "metadata": {},
   "outputs": [],
   "source": []
  },
  {
   "cell_type": "markdown",
   "metadata": {},
   "source": [
    "# Plot a particular depth and width"
   ]
  },
  {
   "cell_type": "code",
   "execution_count": null,
   "metadata": {},
   "outputs": [],
   "source": [
    "dep = 6\n",
    "wid = 4\n",
    "\n",
    "distz = get_hamming_dist(res_df, dep, wid)\n",
    "\n",
    "\n",
    "# combine data from different subgraphs\n",
    "avg_dist = distz['Hamming dist. data'].mean()\n",
    "\n",
    "# rand data\n",
    "rand_dist = distz['Hamming dist. rand'][0]"
   ]
  },
  {
   "cell_type": "code",
   "execution_count": null,
   "metadata": {},
   "outputs": [],
   "source": [
    "x_labels = np.arange(0, len(avg_dist))\n",
    "plt.bar(x_labels, avg_dist, width=0.61, align='center')\n",
    "plt.bar(x_labels, rand_dist, width=0.31, align='center')\n",
    "plt.xticks(x_labels)\n",
    "plt.xlabel('Hamming Weight of Error')\n",
    "plt.ylabel('Relative Frequency of Occurence')\n",
    "plt.ylim([0,1])\n",
    "plt.grid(axis='y', alpha=0.75)\n",
    "plt.legend(['data','random'])\n",
    "plt.title('Depth = {}, Width = {}'.format(dep,wid))\n",
    "plt.show()"
   ]
  },
  {
   "cell_type": "markdown",
   "metadata": {},
   "source": [
    "# For a particular width plot all depths"
   ]
  },
  {
   "cell_type": "code",
   "execution_count": null,
   "metadata": {},
   "outputs": [],
   "source": [
    "wid = 4\n",
    "df_fn_depth = get_hamming_dists_fn_depth(res_df, wid)"
   ]
  },
  {
   "cell_type": "code",
   "execution_count": null,
   "metadata": {},
   "outputs": [],
   "source": [
    "for dep in range(1, df_fn_depth.Depth.max()+1):\n",
    "    idx = df_fn_depth['Depth']== dep\n",
    "    avg_dist = df_fn_depth[idx]['Hamming dist. data'].mean() \n",
    "    rand_dist = df_fn_depth[idx]['Hamming dist. rand'].mean() \n",
    "    x_labels = np.arange(0, len(avg_dist))\n",
    "    plt.subplot(1,df_fn_depth.Depth.max(),dep)\n",
    "    plt.bar(x_labels, avg_dist, width=0.61, align='center')\n",
    "    plt.bar(x_labels, rand_dist, width=0.31, align='center')\n",
    "    plt.xticks(x_labels)\n",
    "    plt.xlabel('Hamming Weight of Error')\n",
    "    plt.ylabel('Relative Frequency of Occurence')\n",
    "    plt.ylim([0,1])\n",
    "    plt.grid(axis='y', alpha=0.75)\n",
    "    plt.legend(['data','random'])\n",
    "    plt.title('Depth = {}, Width = {}'.format(dep,wid))\n",
    "plt.subplots_adjust(bottom=0.1, right=3.2, top=0.9)\n",
    "plt.show()"
   ]
  },
  {
   "cell_type": "markdown",
   "metadata": {},
   "source": [
    "Now we can study the sucess probablity, i.e. the zero hamming weight entry above as a function of depth. We first need to extract the data fron the data frame."
   ]
  },
  {
   "cell_type": "code",
   "execution_count": null,
   "metadata": {},
   "outputs": [],
   "source": [
    "depth_vec = []\n",
    "pcheck = []\n",
    "pcheck_rand = []\n",
    "pcheck_log_errors = []\n",
    "pcheck_log_errors_rand = []\n",
    "tvd_rand = []\n",
    "tvd_ideal = []\n",
    "\n",
    "for dep in range(1, df_fn_depth.Depth.max()+1):\n",
    "    idx = df_fn_depth['Depth']== dep\n",
    "    depth_vec.append(dep)\n",
    "    pcheck.append(df_fn_depth[idx]['Pr. success data'].mean()) \n",
    "    pcheck_rand.append(df_fn_depth[idx]['Pr. success rand'].mean())\n",
    "    pcheck_log_errors.append(df_fn_depth[idx]['Pr. success loge data'].mean())\n",
    "    pcheck_log_errors_rand.append(df_fn_depth[idx]['Pr. success loge rand'].mean())\n",
    "    tvd_ideal.append(df_fn_depth[idx]['TVD(data, ideal)'].mean())\n",
    "    tvd_rand.append(df_fn_depth[idx]['TVD(data, rand)'].mean())"
   ]
  },
  {
   "cell_type": "markdown",
   "metadata": {},
   "source": [
    "# Success probablity and success probablity including a small number of errors"
   ]
  },
  {
   "cell_type": "markdown",
   "metadata": {},
   "source": [
    "Next we will plot the success probablity of a circuit with a certain width as a function of depth. "
   ]
  },
  {
   "cell_type": "code",
   "execution_count": null,
   "metadata": {},
   "outputs": [],
   "source": [
    "plt.scatter(depth_vec,pcheck,label='Sucess Probablity')\n",
    "plt.plot(depth_vec,pcheck_rand,label='random guess')\n",
    "plt.ylim([-0.05,1.05])\n",
    "plt.xlabel('Depth')\n",
    "plt.ylabel('Pr(success)')\n",
    "plt.title('Pr(success) vs Depth for Width = {}'.format(wid))\n",
    "plt.legend()\n",
    "plt.show()"
   ]
  },
  {
   "cell_type": "markdown",
   "metadata": {},
   "source": [
    "**Sucess if we allow for a small number of errors**\n",
    "\n",
    "Some near term algorithms have robustness to noise. In light of that we might want to consider answers that are only a little wrong successes.\n",
    "\n",
    "To make this notion formal we allow a logarithmic number of bits to flip from the correct answer and call all such instances \"success\".\n",
    "\n",
    "The logarithmic number of bits that we allow to flip is defined by the \"basement\" ${\\mathcal B}$ of \n",
    "\n",
    "$\\log_2 ({\\rm number\\ of\\ bits}) -1$\n",
    "\n",
    "where the basement of a number is ${\\mathcal B}(number) = 0$ if number$<=0$ and ${\\mathcal B}(number) = {\\rm floor (number)}$.\n",
    "\n",
    "\n",
    "Supose we have a circuit of width 4, this means correct string has four bits, e.g. 1010. Then a logarithmic number of flips is $\\log_2(4)-1 = 1$.\n",
    "\n",
    "So any string with hamming weight zero or one counts as a success.\n",
    "\n",
    "Such error metrics might be important in noisy near term algorithms where getting the exact answer is not vital."
   ]
  },
  {
   "cell_type": "code",
   "execution_count": null,
   "metadata": {},
   "outputs": [],
   "source": [
    "plt.figure()\n",
    "plt.scatter(depth_vec,pcheck,label='Sucess Probablity')\n",
    "plt.plot(depth_vec,pcheck_rand,label='random guess')\n",
    "plt.scatter(depth_vec,pcheck_log_errors,label='Sucess Probablity + log errors')\n",
    "plt.plot(depth_vec,pcheck_log_errors_rand,label='random guess + log errors')\n",
    "plt.ylim([-0.05,1.05])\n",
    "plt.xlabel('Depth')\n",
    "plt.ylabel('Pr(success+log errors)')\n",
    "plt.title('Pr(success+log errors) vs Depth for Width = {}'.format(wid))\n",
    "plt.legend(bbox_to_anchor=(1.04,1), loc=\"upper left\")\n",
    "plt.show()"
   ]
  },
  {
   "cell_type": "markdown",
   "metadata": {},
   "source": [
    "## Total variation distance from ideal answer and random distribution"
   ]
  },
  {
   "cell_type": "code",
   "execution_count": null,
   "metadata": {},
   "outputs": [],
   "source": [
    "plt.figure()\n",
    "plt.scatter(depth_vec,tvd_ideal,label='TVD(data, ideal)')\n",
    "plt.scatter(depth_vec,tvd_rand,label='TVD(data, rand)')\n",
    "plt.scatter(depth_vec,1-np.asarray(pcheck),label='1-Sucess Probablity',alpha=0.33,marker='^',s=80)\n",
    "#plt.plot(depth_vec,pcheck_log_errors_rand,label='random guess + log errors')\n",
    "plt.ylim([-0.05,1.05])\n",
    "plt.xlabel('Depth')\n",
    "plt.ylabel('Total variation distance')\n",
    "plt.title('Width = {}'.format(wid))\n",
    "plt.legend(bbox_to_anchor=(1.04,1), loc=\"upper left\")\n",
    "plt.show()"
   ]
  },
  {
   "cell_type": "markdown",
   "metadata": {},
   "source": [
    "# Plot depth = width"
   ]
  },
  {
   "cell_type": "code",
   "execution_count": null,
   "metadata": {},
   "outputs": [],
   "source": [
    "max_idx = min([max(res_df['Depth']),max(res_df['Width'])])\n",
    "\n",
    "for idx in range(1,max_idx+1):\n",
    "    distz = get_hamming_dist(res_df, idx, idx)\n",
    "    # combine data from different subgraphs\n",
    "    avg_dist = distz['Hamming dist. data'].mean()\n",
    "    # rand data\n",
    "    rand_dist = distz['Hamming dist. rand'][0]\n",
    "    dep = idx\n",
    "    wid = idx\n",
    "    x_labels = np.arange(0, len(avg_dist))\n",
    "    plt.subplot(1,max_idx,idx)\n",
    "    plt.bar(x_labels, avg_dist, width=0.61, align='center')\n",
    "    plt.bar(x_labels, rand_dist, width=0.31, align='center')\n",
    "    plt.xticks(x_labels)\n",
    "    plt.xlabel('Hamming Weight of Error')\n",
    "    plt.ylabel('Relative Frequency of Occurence')\n",
    "    plt.ylim([0,1])\n",
    "    plt.grid(axis='y', alpha=0.75)\n",
    "    plt.legend(['data','random'])\n",
    "    plt.title('Depth = {}, Width = {}'.format(dep,wid))\n",
    "plt.subplots_adjust(bottom=0.1, right=3.2, top=0.9)\n",
    "plt.show()"
   ]
  },
  {
   "cell_type": "markdown",
   "metadata": {},
   "source": [
    "# Plot success probablity landscape"
   ]
  },
  {
   "cell_type": "markdown",
   "metadata": {},
   "source": [
    "This is just the success probablity as a function of depth and width."
   ]
  },
  {
   "cell_type": "code",
   "execution_count": null,
   "metadata": {},
   "outputs": [],
   "source": [
    "values = np.asarray([munged['Pr. success data'][idx] for idx in munged.index])\n",
    "values"
   ]
  },
  {
   "cell_type": "code",
   "execution_count": null,
   "metadata": {},
   "outputs": [],
   "source": [
    "values_rand = np.asarray([munged['Pr. success rand'][idx] for idx in munged.index])\n",
    "values_rand"
   ]
  },
  {
   "cell_type": "code",
   "execution_count": null,
   "metadata": {},
   "outputs": [],
   "source": [
    "x = np.arange(min(res_df['Depth']), max(res_df['Depth'])+1)\n",
    "\n",
    "y = np.arange(min(res_df['Width']), max(res_df['Width'])+1)\n",
    "\n",
    "X, Y = np.meshgrid(x, y)"
   ]
  },
  {
   "cell_type": "code",
   "execution_count": null,
   "metadata": {},
   "outputs": [],
   "source": [
    "(x1,x2) = X.shape\n",
    "Zdata = np.reshape(values,(x2,x1)).T\n",
    "Zrand = np.reshape(values_rand,(x2,x1)).T"
   ]
  },
  {
   "cell_type": "code",
   "execution_count": null,
   "metadata": {},
   "outputs": [],
   "source": [
    "Zdata"
   ]
  },
  {
   "cell_type": "code",
   "execution_count": null,
   "metadata": {},
   "outputs": [],
   "source": [
    "extent = min(res_df['Depth'])-0.5, max(res_df['Depth'])+0.5, min(res_df['Width'])-0.5, max(res_df['Width'])+0.5\n",
    "ax = plt.gca()\n",
    "img = ax.imshow(Zdata, interpolation='none', extent=extent,\n",
    "                cmap='viridis', origin='lowerleft', vmin=0.0,vmax=1.0)\n",
    "\n",
    "xticks = np.arange(1,max(res_df['Depth'])+1)\n",
    "ax.set_xticks(xticks)\n",
    "ax.set_xticklabels(map(str, xticks))\n",
    "\n",
    "yticks = np.arange(1,max(res_df['Width'])+1)\n",
    "ax.set_yticks(yticks)\n",
    "ax.set_yticklabels(map(str, yticks))\n",
    "\n",
    "ax.set_aspect('equal')\n",
    "plt.colorbar(img, ax=ax)\n",
    "plt.xlabel('Depth')\n",
    "plt.ylabel('Width')\n",
    "plt.title('Success Probability')\n",
    "plt.show()"
   ]
  },
  {
   "cell_type": "code",
   "execution_count": null,
   "metadata": {},
   "outputs": [],
   "source": [
    "extent = min(res_df['Depth'])-0.5, max(res_df['Depth'])+0.5, min(res_df['Width'])-0.5, max(res_df['Width'])+0.5\n",
    "ax = plt.gca()\n",
    "img = ax.imshow(Zrand, interpolation='none', extent=extent,\n",
    "                cmap='viridis', origin='lowerleft', vmin=0.0,vmax=1.0)\n",
    "\n",
    "xticks = np.arange(1,max(res_df['Depth'])+1)\n",
    "ax.set_xticks(xticks)\n",
    "ax.set_xticklabels(map(str, xticks))\n",
    "\n",
    "yticks = np.arange(1,max(res_df['Width'])+1)\n",
    "ax.set_yticks(yticks)\n",
    "ax.set_yticklabels(map(str, yticks))\n",
    "\n",
    "ax.set_aspect('equal')\n",
    "plt.colorbar(img, ax=ax)\n",
    "plt.xlabel('Depth')\n",
    "plt.ylabel('Width')\n",
    "plt.title('Success Probability of Random Guess')\n",
    "plt.show()"
   ]
  },
  {
   "cell_type": "code",
   "execution_count": null,
   "metadata": {},
   "outputs": [],
   "source": [
    "tvd_rand_values = np.asarray([munged['TVD(data, rand)'][idx] for idx in munged.index])\n",
    "tvd_ideal_values = np.asarray([munged['TVD(data, ideal)'][idx] for idx in munged.index])\n",
    "Ztvd_rand = np.reshape(tvd_rand_values,(x2,x1)).T\n",
    "Ztvd_ideal = np.reshape(tvd_ideal_values,(x2,x1)).T"
   ]
  },
  {
   "cell_type": "code",
   "execution_count": null,
   "metadata": {},
   "outputs": [],
   "source": [
    "tvd_ideal_values\n",
    "tvd_rand_values"
   ]
  },
  {
   "cell_type": "code",
   "execution_count": null,
   "metadata": {},
   "outputs": [],
   "source": [
    "extent = min(res_df['Depth'])-0.5, max(res_df['Depth'])+0.5, min(res_df['Width'])-0.5, max(res_df['Width'])+0.5\n",
    "ax = plt.gca()\n",
    "img = ax.imshow(Ztvd_ideal, interpolation='none', extent=extent,\n",
    "                cmap='viridis', origin='lowerleft', vmin=0.0,vmax=1.0)\n",
    "\n",
    "xticks = np.arange(1,max(res_df['Depth'])+1)\n",
    "ax.set_xticks(xticks)\n",
    "ax.set_xticklabels(map(str, xticks))\n",
    "\n",
    "yticks = np.arange(1,max(res_df['Width'])+1)\n",
    "ax.set_yticks(yticks)\n",
    "ax.set_yticklabels(map(str, yticks))\n",
    "\n",
    "ax.set_aspect('equal')\n",
    "plt.colorbar(img, ax=ax)\n",
    "plt.xlabel('Depth')\n",
    "plt.ylabel('Width')\n",
    "plt.title('Success Probability of Random Guess')\n",
    "plt.show()"
   ]
  },
  {
   "cell_type": "code",
   "execution_count": null,
   "metadata": {},
   "outputs": [],
   "source": [
    "extent = min(res_df['Depth'])-0.5, max(res_df['Depth'])+0.5, min(res_df['Width'])-0.5, max(res_df['Width'])+0.5\n",
    "ax = plt.gca()\n",
    "img = ax.imshow(Ztvd_rand, interpolation='none', extent=extent,\n",
    "                cmap='viridis', origin='lowerleft', vmin=0.0,vmax=1.0)\n",
    "\n",
    "xticks = np.arange(1,max(res_df['Depth'])+1)\n",
    "ax.set_xticks(xticks)\n",
    "ax.set_xticklabels(map(str, xticks))\n",
    "\n",
    "yticks = np.arange(1,max(res_df['Width'])+1)\n",
    "ax.set_yticks(yticks)\n",
    "ax.set_yticklabels(map(str, yticks))\n",
    "\n",
    "ax.set_aspect('equal')\n",
    "plt.colorbar(img, ax=ax)\n",
    "plt.xlabel('Depth')\n",
    "plt.ylabel('Width')\n",
    "plt.title('Success Probability of Random Guess')\n",
    "plt.show()"
   ]
  },
  {
   "cell_type": "code",
   "execution_count": null,
   "metadata": {},
   "outputs": [],
   "source": [
    "loge_rand_values = np.asarray([munged['Pr. success loge rand'][idx] for idx in munged.index])\n",
    "loge_data_values = np.asarray([munged['Pr. success loge data'][idx] for idx in munged.index])\n",
    "Zlge_rand = np.reshape(loge_rand_values,(x2,x1)).T\n",
    "Zlge_data = np.reshape(loge_data_values,(x2,x1)).T"
   ]
  },
  {
   "cell_type": "code",
   "execution_count": null,
   "metadata": {},
   "outputs": [],
   "source": [
    "extent = min(res_df['Depth'])-0.5, max(res_df['Depth'])+0.5, min(res_df['Width'])-0.5, max(res_df['Width'])+0.5\n",
    "ax = plt.gca()\n",
    "img = ax.imshow(Zlge_data, interpolation='none', extent=extent,\n",
    "                cmap='viridis', origin='lowerleft', vmin=0.0,vmax=1.0)\n",
    "\n",
    "xticks = np.arange(1,max(res_df['Depth'])+1)\n",
    "ax.set_xticks(xticks)\n",
    "ax.set_xticklabels(map(str, xticks))\n",
    "\n",
    "yticks = np.arange(1,max(res_df['Width'])+1)\n",
    "ax.set_yticks(yticks)\n",
    "ax.set_yticklabels(map(str, yticks))\n",
    "\n",
    "ax.set_aspect('equal')\n",
    "plt.colorbar(img, ax=ax)\n",
    "plt.xlabel('Depth')\n",
    "plt.ylabel('Width')\n",
    "plt.title('Success Probability of Random Guess')\n",
    "plt.show()"
   ]
  },
  {
   "cell_type": "code",
   "execution_count": null,
   "metadata": {},
   "outputs": [],
   "source": [
    "extent = min(res_df['Depth'])-0.5, max(res_df['Depth'])+0.5, min(res_df['Width'])-0.5, max(res_df['Width'])+0.5\n",
    "ax = plt.gca()\n",
    "img = ax.imshow(Zlge_rand, interpolation='none', extent=extent,\n",
    "                cmap='viridis', origin='lowerleft', vmin=0.0,vmax=1.0)\n",
    "\n",
    "xticks = np.arange(1,max(res_df['Depth'])+1)\n",
    "ax.set_xticks(xticks)\n",
    "ax.set_xticklabels(map(str, xticks))\n",
    "\n",
    "yticks = np.arange(1,max(res_df['Width'])+1)\n",
    "ax.set_yticks(yticks)\n",
    "ax.set_yticklabels(map(str, yticks))\n",
    "\n",
    "ax.set_aspect('equal')\n",
    "plt.colorbar(img, ax=ax)\n",
    "plt.xlabel('Depth')\n",
    "plt.ylabel('Width')\n",
    "plt.title('Success Probability of Random Guess')\n",
    "plt.show()"
   ]
  },
  {
   "cell_type": "markdown",
   "metadata": {},
   "source": [
    "# Data exploration"
   ]
  },
  {
   "cell_type": "code",
   "execution_count": null,
   "metadata": {},
   "outputs": [],
   "source": [
    "from scipy.optimize import curve_fit"
   ]
  },
  {
   "cell_type": "code",
   "execution_count": null,
   "metadata": {},
   "outputs": [],
   "source": [
    "size = Y.shape\n",
    "width_1d = Y.reshape((1,np.prod(size)))\n",
    "depth_1d = X.reshape((1,np.prod(size)))"
   ]
  },
  {
   "cell_type": "code",
   "execution_count": null,
   "metadata": {},
   "outputs": [],
   "source": [
    "data_1d = Zdata.reshape((1,np.prod(size)))\n",
    "data_1d.shape\n",
    "width_1d.shape\n"
   ]
  },
  {
   "cell_type": "code",
   "execution_count": null,
   "metadata": {},
   "outputs": [],
   "source": [
    "dims = np.zeros_like(width_1d)\n",
    "dims[0,0] = size[0]\n",
    "dims[0,1] = size[1]\n",
    "\n",
    "xdata = np.vstack((dims,width_1d, depth_1d))\n",
    "\n",
    "\n",
    "\n",
    "xdata"
   ]
  },
  {
   "cell_type": "markdown",
   "metadata": {},
   "source": [
    "## Fitting models"
   ]
  },
  {
   "cell_type": "markdown",
   "metadata": {},
   "source": [
    "Two parameter model \n",
    "\n",
    "\n",
    "$f(W,D,p_W,p_D) =  (1-p_W)^W * (1-p_D)^D $\n",
    "\n",
    "The fidelity is proporional to $1 - p$"
   ]
  },
  {
   "cell_type": "code",
   "execution_count": null,
   "metadata": {},
   "outputs": [],
   "source": [
    "def two_param(x,pw,pd):\n",
    "    temp = x[0]\n",
    "    wid = temp[0]\n",
    "    dep = temp[1]\n",
    "    width = x[1].reshape(wid,dep)\n",
    "    depth = x[2].reshape(wid,dep)\n",
    "    pcheck = (1-pw)**(width) * (1-pd)**depth\n",
    "    rpcheck = pcheck.reshape((1,wid*dep))\n",
    "    return rpcheck.ravel()"
   ]
  },
  {
   "cell_type": "markdown",
   "metadata": {},
   "source": [
    "One parameter model\n",
    "\n",
    "$f(W,D,p) =  (1-p)^{W * D} $"
   ]
  },
  {
   "cell_type": "code",
   "execution_count": null,
   "metadata": {},
   "outputs": [],
   "source": [
    "def one_param(x,p):\n",
    "    temp = x[0]\n",
    "    wid = temp[0]\n",
    "    dep = temp[1]\n",
    "    width = x[1].reshape(wid,dep)\n",
    "    depth = x[2].reshape(wid,dep)\n",
    "    pcheck = (1-p)**(width*depth)\n",
    "    rpcheck = pcheck.reshape((1,wid*dep))\n",
    "    return rpcheck.ravel()"
   ]
  },
  {
   "cell_type": "markdown",
   "metadata": {},
   "source": [
    "From my prior work a better model to fit to is\n",
    "\n",
    "Pcheck$(W,D,p,a,b,c) = \\exp[ -(a p^2 + b p + c)* W*D] $\n"
   ]
  },
  {
   "cell_type": "code",
   "execution_count": null,
   "metadata": {},
   "outputs": [],
   "source": [
    "def two_param_exp(x,p,a,b):\n",
    "    temp = x[0]\n",
    "    wid = temp[0]\n",
    "    dep = temp[1]\n",
    "    width = x[1].reshape(wid,dep)\n",
    "    depth = x[2].reshape(wid,dep)\n",
    "    pcheck = np.exp(-(a*p + b) * width * depth)\n",
    "    rpcheck = pcheck.reshape((1,wid*dep))\n",
    "    return rpcheck.ravel()"
   ]
  },
  {
   "cell_type": "markdown",
   "metadata": {},
   "source": [
    "**Start with one paramter model**"
   ]
  },
  {
   "cell_type": "code",
   "execution_count": null,
   "metadata": {},
   "outputs": [],
   "source": [
    "pguess = 0.1\n",
    "popt, pcov = curve_fit(one_param, xdata, data_1d.ravel(), p0=pguess, bounds=(0, 1))"
   ]
  },
  {
   "cell_type": "code",
   "execution_count": null,
   "metadata": {},
   "outputs": [],
   "source": [
    "print('The estimated error is p = ', str(np.round(popt[0],4)))\n",
    "print('The estimated product of the one and two qubit fidelity is F = ', str(1-np.round(popt[0],4)))\n",
    "#print('The one standard deviation on the estimate is ', str(np.round(np.sqrt(np.diag(pcov)[0]),5)))"
   ]
  },
  {
   "cell_type": "code",
   "execution_count": null,
   "metadata": {},
   "outputs": [],
   "source": [
    "zfit = one_param(xdata,popt)\n",
    "Z_fit = zfit.reshape(size)"
   ]
  },
  {
   "cell_type": "code",
   "execution_count": null,
   "metadata": {},
   "outputs": [],
   "source": [
    "plt.pcolormesh(X,Y, Z_fit)\n",
    "plt.xticks(list(range(1,circuit_depth+1)))\n",
    "plt.yticks(list(range(1,circuit_width+1)))\n",
    "plt.colorbar()\n",
    "plt.show()"
   ]
  },
  {
   "cell_type": "code",
   "execution_count": null,
   "metadata": {},
   "outputs": [],
   "source": [
    "plt.pcolormesh(X,Y,Zdata)\n",
    "plt.xticks(list(range(1,circuit_depth+1)))\n",
    "plt.yticks(list(range(1,circuit_width+1)))\n",
    "plt.colorbar()\n",
    "plt.show()"
   ]
  },
  {
   "cell_type": "markdown",
   "metadata": {},
   "source": [
    "**Two parameter model**"
   ]
  },
  {
   "cell_type": "code",
   "execution_count": null,
   "metadata": {},
   "outputs": [],
   "source": [
    "pguess2d = [0.0276, 0.01, 0.4]"
   ]
  },
  {
   "cell_type": "code",
   "execution_count": null,
   "metadata": {},
   "outputs": [],
   "source": [
    "popt2d, pcov2d = curve_fit(two_param_exp, xdata, data_1d.ravel(), p0=pguess2d , bounds=(0., 1))"
   ]
  },
  {
   "cell_type": "code",
   "execution_count": null,
   "metadata": {},
   "outputs": [],
   "source": [
    "popt2d"
   ]
  },
  {
   "cell_type": "code",
   "execution_count": null,
   "metadata": {},
   "outputs": [],
   "source": [
    "zfit2d = two_param(xdata,popt2d[0],popt2d[1])\n",
    "Z_fit2d = zfit2d.reshape(size)"
   ]
  },
  {
   "cell_type": "code",
   "execution_count": null,
   "metadata": {},
   "outputs": [],
   "source": [
    "plt.pcolormesh(X,Y, Z_fit2d)\n",
    "plt.xticks(list(range(1,circuit_depth+1)))\n",
    "plt.yticks(list(range(1,circuit_width+1)))\n",
    "plt.colorbar()\n",
    "plt.show()"
   ]
  },
  {
   "cell_type": "code",
   "execution_count": null,
   "metadata": {},
   "outputs": [],
   "source": [
    "1-1.02319786e-01"
   ]
  },
  {
   "cell_type": "code",
   "execution_count": null,
   "metadata": {},
   "outputs": [],
   "source": []
  }
 ],
 "metadata": {
  "kernelspec": {
   "display_name": "Python 3",
   "language": "python",
   "name": "python3"
  },
  "language_info": {
   "codemirror_mode": {
    "name": "ipython",
    "version": 3
   },
   "file_extension": ".py",
   "mimetype": "text/x-python",
   "name": "python",
   "nbconvert_exporter": "python",
   "pygments_lexer": "ipython3",
   "version": "3.6.5"
  }
 },
 "nbformat": 4,
 "nbformat_minor": 2
}
