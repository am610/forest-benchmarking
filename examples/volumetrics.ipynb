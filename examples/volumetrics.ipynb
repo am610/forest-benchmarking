{
 "cells": [
  {
   "cell_type": "markdown",
   "metadata": {},
   "source": [
    "# Volumetrics\n",
    "\n",
    "\n",
    "This module that generates circuits on a graph which represents the QPU or QVM lattice. The basic idea is it will compute error rates of circuits as a function of depth and width.\n",
    "\n",
    "The `width` of the circuit is the number of connected vertices on a particular subgraph.\n",
    "\n",
    "The `depth` is defined in context-dependent way; to avoid confusion with circuit depth we may use the term 'repetitions'."
   ]
  },
  {
   "cell_type": "code",
   "execution_count": 1,
   "metadata": {},
   "outputs": [],
   "source": [
    "import random\n",
    "import itertools\n",
    "import networkx as nx\n",
    "import numpy as np\n",
    "import time\n",
    "# from scipy.spatial.distance import hamming\n",
    "# import scipy.interpolate\n",
    "\n",
    "from matplotlib import pyplot as plt\n",
    "from pyquil.api import get_qc, QuantumComputer, get_benchmarker\n",
    "from pyquil.gates import CNOT, CCNOT, Z, X, I, H, CZ, MEASURE, RESET\n",
    "from pyquil.quilbase import Pragma\n",
    "\n",
    "from forest.benchmarking.volumetrics import *"
   ]
  },
  {
   "cell_type": "markdown",
   "metadata": {},
   "source": [
    "## Get lattice"
   ]
  },
  {
   "cell_type": "code",
   "execution_count": 2,
   "metadata": {},
   "outputs": [],
   "source": [
    "# if you want to run on a \"real lattice\"\n",
    "from pyquil import *\n",
    "#list_quantum_computers()\n",
    "#perfect_qc = get_qc(\"Aspen-1-16Q-A\", as_qvm=True, noisy=False)\n",
    "#noisy_qc = get_qc(\"Aspen-1-16Q-A\") #, as_qvm=True, noisy=True)\n",
    "\n",
    "noisy_qc = get_qc(\"9q-square-qvm\", as_qvm=True, noisy=True)\n",
    "perfect_qc = get_qc(\"9q-square-qvm\", as_qvm=True, noisy=False)"
   ]
  },
  {
   "cell_type": "code",
   "execution_count": 3,
   "metadata": {},
   "outputs": [
    {
     "name": "stderr",
     "output_type": "stream",
     "text": [
      "/home/kylegulshen/anaconda3/lib/python3.6/site-packages/networkx/drawing/nx_pylab.py:518: MatplotlibDeprecationWarning: \n",
      "The iterable function was deprecated in Matplotlib 3.1 and will be removed in 3.3. Use np.iterable instead.\n",
      "  if not cb.iterable(width):\n",
      "/home/kylegulshen/anaconda3/lib/python3.6/site-packages/networkx/drawing/nx_pylab.py:565: MatplotlibDeprecationWarning: \n",
      "The is_numlike function was deprecated in Matplotlib 3.0 and will be removed in 3.2. Use isinstance(..., numbers.Number) instead.\n",
      "  if cb.is_numlike(alpha):\n"
     ]
    },
    {
     "data": {
      "image/png": "[encoded data removed]",
      "text/plain": [
       "<Figure size 432x288 with 1 Axes>"
      ]
     },
     "metadata": {},
     "output_type": "display_data"
    }
   ],
   "source": [
    "nx.draw(perfect_qc.qubit_topology(),with_labels=True)"
   ]
  },
  {
   "cell_type": "code",
   "execution_count": 4,
   "metadata": {},
   "outputs": [],
   "source": [
    "G = perfect_qc.qubit_topology()"
   ]
  },
  {
   "cell_type": "markdown",
   "metadata": {},
   "source": [
    "## Gate sets\n",
    "\n",
    "### Classical"
   ]
  },
  {
   "cell_type": "code",
   "execution_count": 5,
   "metadata": {},
   "outputs": [],
   "source": [
    "def two_q_id(qb1,qb2):\n",
    "    prog = Program()\n",
    "    prog +=I(qb1)\n",
    "    prog +=I(qb2)\n",
    "    return prog\n",
    "\n",
    "one_c_gates = [X,I]\n",
    "two_c_gates = [two_q_id, CNOT]\n",
    "two_c_toffoli = two_c_gates + [CCNOT]\n",
    "\n",
    "# x basis gates\n",
    "from forest.benchmarking.classical_logic import CNOT_X_basis, CCNOT_X_basis\n",
    "one_x_c_gates = [Z, I]\n",
    "two_x_c_gates = [two_q_id, CNOT_X_basis]\n",
    "two_x_c_toffoli = two_x_c_gates + [CCNOT_X_basis]\n",
    "# if you want to do something in the X basis, add Hadamard layers appropriately; see below."
   ]
  },
  {
   "cell_type": "markdown",
   "metadata": {},
   "source": [
    "### Some quantum"
   ]
  },
  {
   "cell_type": "code",
   "execution_count": 6,
   "metadata": {},
   "outputs": [],
   "source": [
    "one_q_gates = [X,Z,I]\n",
    "two_q_gates = [two_q_id,CZ]"
   ]
  },
  {
   "cell_type": "markdown",
   "metadata": {},
   "source": [
    "### Random Cliffords\n",
    "\n",
    "We use a benchmarker for this. Typically we use the native gates from `get_rb_gateset` to implement each clifford."
   ]
  },
  {
   "cell_type": "code",
   "execution_count": 7,
   "metadata": {},
   "outputs": [],
   "source": [
    "from forest.benchmarking.randomized_benchmarking import get_rb_gateset"
   ]
  },
  {
   "cell_type": "code",
   "execution_count": 8,
   "metadata": {},
   "outputs": [],
   "source": [
    "# my config has gone all cattywampus so i need to do this\n",
    "bm = get_benchmarker()#endpoint='tcp://localhost:6000')"
   ]
  },
  {
   "cell_type": "code",
   "execution_count": 9,
   "metadata": {},
   "outputs": [
    {
     "data": {
      "text/plain": [
       "'tcp://127.0.0.1:5555'"
      ]
     },
     "execution_count": 9,
     "metadata": {},
     "output_type": "execute_result"
    }
   ],
   "source": [
    "bm.client.endpoint"
   ]
  },
  {
   "cell_type": "markdown",
   "metadata": {},
   "source": [
    "## Get random gates on a graph"
   ]
  },
  {
   "cell_type": "code",
   "execution_count": 10,
   "metadata": {},
   "outputs": [
    {
     "name": "stdout",
     "output_type": "stream",
     "text": [
      "I 0\n",
      "I 1\n",
      "X 2\n",
      "I 3\n",
      "I 4\n",
      "X 5\n",
      "Z 6\n",
      "Z 7\n",
      "Z 8\n",
      "CZ 0 3\n",
      "I 0\n",
      "I 1\n",
      "I 1\n",
      "I 4\n",
      "I 1\n",
      "I 2\n",
      "I 2\n",
      "I 5\n",
      "CZ 3 6\n",
      "CZ 3 4\n",
      "I 4\n",
      "I 7\n",
      "CZ 4 5\n",
      "I 5\n",
      "I 8\n",
      "I 6\n",
      "I 7\n",
      "CZ 7 8\n",
      "\n"
     ]
    }
   ],
   "source": [
    "prog1 = random_single_qubit_gates(G, one_q_gates)\n",
    "prog2 = random_two_qubit_gates(G, two_q_gates)\n",
    "print(prog1+prog2)"
   ]
  },
  {
   "cell_type": "code",
   "execution_count": 11,
   "metadata": {},
   "outputs": [
    {
     "name": "stdout",
     "output_type": "stream",
     "text": [
      "RX(pi/2) 0\n",
      "RZ(pi/2) 0\n",
      "RZ(-pi/2) 1\n",
      "RX(-pi) 1\n",
      "RZ(-pi/2) 2\n",
      "RX(-pi/2) 2\n",
      "RX(-pi/2) 3\n",
      "RZ(pi/2) 3\n",
      "RX(-pi/2) 3\n",
      "RX(-pi/2) 4\n",
      "RZ(pi/2) 4\n",
      "RX(-pi/2) 4\n",
      "RX(-pi/2) 5\n",
      "RZ(pi/2) 5\n",
      "RZ(pi/2) 6\n",
      "RX(-pi/2) 6\n",
      "RZ(-pi) 7\n",
      "RZ(-pi) 7\n",
      "RX(-pi) 8\n",
      "\n"
     ]
    }
   ],
   "source": [
    "progy = random_single_qubit_cliffords(bm, G)\n",
    "print(progy)"
   ]
  },
  {
   "cell_type": "markdown",
   "metadata": {},
   "source": [
    "## Make some circuit templates and sample programs from them\n"
   ]
  },
  {
   "cell_type": "code",
   "execution_count": 12,
   "metadata": {},
   "outputs": [
    {
     "name": "stdout",
     "output_type": "stream",
     "text": [
      "I 0\n",
      "I 1\n",
      "X 0\n",
      "X 1\n",
      "\n"
     ]
    }
   ],
   "source": [
    "classical_1q_layer = get_rand_1q_template(one_c_gates)\n",
    "print(classical_1q_layer.sample_program(G, repetitions=2, width=2))"
   ]
  },
  {
   "cell_type": "code",
   "execution_count": 13,
   "metadata": {},
   "outputs": [
    {
     "name": "stdout",
     "output_type": "stream",
     "text": [
      "I 4\n",
      "I 5\n",
      "CNOT 4 5\n",
      "\n"
     ]
    }
   ],
   "source": [
    "classical_2q_layer = get_rand_2q_template(two_c_gates)\n",
    "print(classical_2q_layer.sample_program(G, repetitions=2, width=2))"
   ]
  },
  {
   "cell_type": "code",
   "execution_count": 14,
   "metadata": {},
   "outputs": [
    {
     "name": "stdout",
     "output_type": "stream",
     "text": [
      "H 3\n",
      "H 4\n",
      "H 5\n",
      "H 8\n",
      "\n"
     ]
    }
   ],
   "source": [
    "switch_basis_layer = get_switch_basis_x_z_template()\n",
    "print(switch_basis_layer.sample_program(G, repetitions=1, width=4))"
   ]
  },
  {
   "cell_type": "code",
   "execution_count": 15,
   "metadata": {},
   "outputs": [
    {
     "name": "stdout",
     "output_type": "stream",
     "text": [
      "RX(-pi/2) 4\n",
      "CZ 3 4\n",
      "RX(pi/2) 4\n",
      "RX(-pi/2) 3\n",
      "CZ 3 4\n",
      "RX(-pi/2) 4\n",
      "CZ 3 4\n",
      "RX(pi/2) 4\n",
      "CZ 3 4\n",
      "RX(pi/2) 4\n",
      "RX(-pi/2) 3\n",
      "CZ 3 4\n",
      "RX(-pi/2) 4\n",
      "RZ(-pi/2) 4\n",
      "\n"
     ]
    }
   ],
   "source": [
    "clifford_1q_layer = get_rand_1q_cliff_template(bm)\n",
    "clifford_2q_layer = get_rand_2q_cliff_template(bm)\n",
    "print(clifford_2q_layer.sample_program(G, repetitions=2, width=2))"
   ]
  },
  {
   "cell_type": "code",
   "execution_count": 16,
   "metadata": {},
   "outputs": [
    {
     "name": "stdout",
     "output_type": "stream",
     "text": [
      "\n"
     ]
    }
   ],
   "source": [
    "rand_perm_layer = get_rand_qubit_perm_template()\n",
    "# sometimes this returns an empty program, i.e. no permutation\n",
    "print(rand_perm_layer.sample_program(G, 1, qc=noisy_qc, width=3))"
   ]
  },
  {
   "cell_type": "code",
   "execution_count": 17,
   "metadata": {},
   "outputs": [
    {
     "name": "stdout",
     "output_type": "stream",
     "text": [
      "RZ(0.8406899999638024) 1\n",
      "RX(pi/2) 1\n",
      "RZ(2.847991243602221) 1\n",
      "RX(-pi/2) 1\n",
      "RZ(-0.9649014576461203) 1\n",
      "RZ(-3.0197488646781547) 2\n",
      "RX(pi/2) 2\n",
      "RZ(1.175907213650433) 2\n",
      "RX(-pi/2) 2\n",
      "RZ(-1.296233838595962) 2\n",
      "CZ 2 1\n",
      "RZ(pi/2) 1\n",
      "RX(pi/2) 1\n",
      "RZ(2.281028907841513) 1\n",
      "RX(-pi/2) 1\n",
      "RZ(-pi/2) 2\n",
      "RX(-pi/2) 2\n",
      "CZ 2 1\n",
      "RX(pi/2) 1\n",
      "RZ(-2.002236765648214) 1\n",
      "RX(-pi/2) 1\n",
      "RZ(1.6738697650167795) 2\n",
      "RX(pi/2) 2\n",
      "CZ 2 1\n",
      "RZ(0.6154267530935176) 1\n",
      "RX(pi/2) 1\n",
      "RZ(1.6626538921651697) 1\n",
      "RX(-pi/2) 1\n",
      "RZ(-2.239540857961898) 1\n",
      "RZ(1.7272246029442417) 2\n",
      "RX(-pi/2) 2\n",
      "RZ(1.2470234421229809) 2\n",
      "RX(-pi/2) 2\n",
      "RZ(-0.3451740588607606) 2\n",
      "\n"
     ]
    }
   ],
   "source": [
    "rand_su4_layer = get_rand_su4_template()\n",
    "print(rand_su4_layer.sample_program(G, 1, qc=noisy_qc, width=2))"
   ]
  },
  {
   "cell_type": "markdown",
   "metadata": {},
   "source": [
    "## Compose templates"
   ]
  },
  {
   "cell_type": "code",
   "execution_count": 18,
   "metadata": {},
   "outputs": [
    {
     "name": "stdout",
     "output_type": "stream",
     "text": [
      "X 1\n",
      "I 2\n",
      "I 3\n",
      "X 4\n",
      "I 1\n",
      "I 4\n",
      "I 1\n",
      "I 2\n",
      "I 3\n",
      "I 4\n",
      "X 1\n",
      "I 2\n",
      "X 3\n",
      "X 4\n",
      "CNOT 1 4\n",
      "CNOT 1 2\n",
      "I 3\n",
      "I 4\n",
      "\n"
     ]
    }
   ],
   "source": [
    "classical_1q_2q = classical_1q_layer + classical_2q_layer\n",
    "print(classical_1q_2q.sample_program(G, repetitions=2, width=4))"
   ]
  },
  {
   "cell_type": "markdown",
   "metadata": {},
   "source": [
    "Classical Logic in X basis"
   ]
  },
  {
   "cell_type": "code",
   "execution_count": 19,
   "metadata": {},
   "outputs": [
    {
     "name": "stdout",
     "output_type": "stream",
     "text": [
      "H 6\n",
      "H 7\n",
      "Z 6\n",
      "Z 7\n",
      "H 6\n",
      "CZ 6 7\n",
      "H 6\n",
      "I 6\n",
      "Z 7\n",
      "I 6\n",
      "I 7\n",
      "Z 6\n",
      "I 7\n",
      "I 6\n",
      "I 7\n",
      "H 6\n",
      "H 7\n",
      "\n"
     ]
    }
   ],
   "source": [
    "logic_layers = get_rand_1q_template(one_x_c_gates) + get_rand_2q_template(two_x_c_gates)\n",
    "classical_x_1q_2q = switch_basis_layer + logic_layers + switch_basis_layer\n",
    "# here we demonstrate a simple use of a pattern. We want to do the basis switch at beginning and end \n",
    "# while doing the repetitions in between some variable number of times.\n",
    "# The pattern says to do the 0 idx generator, do [1,2] idx generators n times, then finish with 3 idx generator\n",
    "classical_x_1q_2q.pattern = [0, ([1, 2], 'n'), 3]\n",
    "print(classical_x_1q_2q.sample_program(G, repetitions=3, width=2))\n",
    "# note that the x basis CNOT(0, 1) is H(0) CZ(0, 1) H(0)"
   ]
  },
  {
   "cell_type": "code",
   "execution_count": 20,
   "metadata": {},
   "outputs": [
    {
     "name": "stdout",
     "output_type": "stream",
     "text": [
      "RX(pi/2) 7\n",
      "RZ(pi/2) 7\n",
      "RX(pi/2) 8\n",
      "RZ(pi/2) 8\n",
      "RX(-pi/2) 8\n",
      "CZ 7 8\n",
      "RZ(-pi/2) 8\n",
      "RX(-pi/2) 8\n",
      "RX(pi/2) 7\n",
      "CZ 7 8\n",
      "RX(-pi/2) 8\n",
      "RX(-pi/2) 7\n",
      "RZ(pi/2) 7\n",
      "RX(-pi/2) 7\n",
      "RZ(-pi) 8\n",
      "RX(pi/2) 7\n",
      "CZ 7 8\n",
      "RZ(-pi/2) 8\n",
      "RX(-pi/2) 8\n",
      "RX(-pi/2) 7\n",
      "CZ 7 8\n",
      "RX(-pi/2) 7\n",
      "RX(-pi/2) 7\n",
      "RZ(pi/2) 7\n",
      "RX(pi/2) 8\n",
      "RX(-pi/2) 7\n",
      "CZ 7 8\n",
      "RX(pi/2) 8\n",
      "RX(-pi/2) 7\n",
      "CZ 7 8\n",
      "RZ(-pi/2) 8\n",
      "RX(-pi/2) 8\n",
      "RZ(-pi/2) 7\n",
      "RZ(pi/2) 7\n",
      "RX(pi/2) 7\n",
      "RZ(-pi/2) 7\n",
      "RZ(pi/2) 8\n",
      "RX(pi) 8\n",
      "\n",
      "This program compiles away to nothing: \n",
      "HALT\n",
      "\n"
     ]
    }
   ],
   "source": [
    "clifford_sandwich = clifford_1q_layer + clifford_2q_layer + get_dagger_all_template()\n",
    "# here we demonstrate another simple use of a pattern. We want to do some Clifford layers n=reps\n",
    "# number of times and then dagger the result of all those reps. \n",
    "clifford_sandwich.pattern = [([0, 1], 'n'), -1]\n",
    "prog = clifford_sandwich.sample_program(G, repetitions=3, width=2,  qc=noisy_qc)\n",
    "print(prog)\n",
    "\n",
    "# We can check that this is the identity by compiling it fully\n",
    "print(\"This program compiles away to nothing: \")\n",
    "print(noisy_qc.compiler.quil_to_native_quil(prog))"
   ]
  },
  {
   "cell_type": "markdown",
   "metadata": {},
   "source": [
    "### Quantum Volume (unoptimized)"
   ]
  },
  {
   "cell_type": "code",
   "execution_count": 21,
   "metadata": {},
   "outputs": [
    {
     "name": "stdout",
     "output_type": "stream",
     "text": [
      "RX(-pi/2) 0\n",
      "RZ(-pi/2) 4\n",
      "RX(pi/2) 4\n",
      "CZ 4 1\n",
      "RZ(pi/2) 0\n",
      "RX(pi/2) 0\n",
      "CZ 1 0\n",
      "RZ(pi/2) 3\n",
      "RX(pi/2) 3\n",
      "CZ 3 4\n",
      "RZ(-pi/2) 3\n",
      "RX(-pi/2) 3\n",
      "RX(pi/2) 4\n",
      "CZ 4 3\n",
      "RZ(pi) 3\n",
      "RX(pi/2) 3\n",
      "RX(-pi/2) 4\n",
      "CZ 3 4\n",
      "RZ(pi) 0\n",
      "RX(pi) 0\n",
      "RZ(-pi/2) 1\n",
      "RX(pi/2) 1\n",
      "RZ(-pi/2) 4\n",
      "RX(pi/2) 4\n",
      "CZ 1 4\n",
      "RX(pi/2) 1\n",
      "CZ 0 1\n",
      "RZ(-pi/2) 3\n",
      "RX(pi/2) 3\n",
      "RZ(pi/2) 4\n",
      "RX(-pi/2) 4\n",
      "CZ 3 4\n",
      "RX(-pi/2) 3\n",
      "RZ(pi) 4\n",
      "RX(pi/2) 4\n",
      "CZ 4 3\n",
      "RZ(pi) 3\n",
      "RX(pi/2) 3\n",
      "RX(-pi/2) 4\n",
      "CZ 3 4\n",
      "RX(pi/2) 0\n",
      "RZ(pi) 3\n",
      "RX(pi/2) 3\n",
      "CZ 0 3\n",
      "RX(-pi/2) 0\n",
      "CZ 0 1\n",
      "RZ(-pi/2) 0\n",
      "RX(pi) 0\n",
      "RZ(pi) 3\n",
      "RX(pi/2) 3\n",
      "CZ 3 0\n",
      "RZ(pi) 0\n",
      "RX(-pi/2) 0\n",
      "RX(-pi/2) 1\n",
      "CZ 0 1\n",
      "RZ(pi/2) 4\n",
      "RX(pi/2) 4\n",
      "RZ(pi/2) 4\n",
      "RZ(pi/2) 3\n",
      "RX(pi/2) 3\n",
      "CZ 4 3\n",
      "RZ(pi) 1\n",
      "RX(-pi/2) 0\n",
      "CZ 0 3\n",
      "RZ(-pi/2) 4\n",
      "RX(pi/2) 4\n",
      "RZ(pi/2) 4\n",
      "CZ 0 1\n",
      "RZ(pi) 3\n",
      "RX(pi/2) 3\n",
      "CZ 3 4\n",
      "RZ(-pi/2) 3\n",
      "RX(-pi/2) 3\n",
      "RZ(pi/2) 4\n",
      "RX(pi/2) 4\n",
      "CZ 4 3\n",
      "RZ(pi) 3\n",
      "RX(pi/2) 3\n",
      "RX(-pi/2) 4\n",
      "CZ 3 4\n",
      "RZ(-pi/2) 0\n",
      "RX(pi) 0\n",
      "RZ(-pi/2) 3\n",
      "RX(-pi/2) 3\n",
      "CZ 3 0\n",
      "RX(-pi/2) 3\n",
      "RZ(pi/2) 4\n",
      "RX(pi/2) 4\n",
      "CZ 3 4\n",
      "RZ(pi) 0\n",
      "RX(-pi/2) 0\n",
      "RZ(-pi/2) 3\n",
      "RX(pi) 3\n",
      "CZ 0 3\n",
      "RZ(-pi/2) 0\n",
      "RX(-pi/2) 0\n",
      "RZ(-pi/2) 1\n",
      "RX(pi/2) 1\n",
      "RZ(pi/2) 1\n",
      "RZ(pi/2) 3\n",
      "RX(pi/2) 3\n",
      "RZ(pi/2) 3\n",
      "RZ(pi/2) 4\n",
      "RZ(1.1243912032248942) 0\n",
      "RX(pi/2) 0\n",
      "RZ(1.2180109156170746) 0\n",
      "RX(-pi/2) 0\n",
      "RZ(2.6134967010491525) 0\n",
      "RZ(-2.6007950357484777) 1\n",
      "RX(pi/2) 1\n",
      "RZ(3.07677097365376) 1\n",
      "RX(-pi/2) 1\n",
      "RZ(0.2330554369238811) 1\n",
      "CZ 1 0\n",
      "RZ(-pi/2) 0\n",
      "RX(pi/2) 0\n",
      "RZ(2.2688338135521353) 0\n",
      "RX(-pi/2) 0\n",
      "RZ(-pi/2) 1\n",
      "RX(-pi/2) 1\n",
      "CZ 1 0\n",
      "RX(pi/2) 0\n",
      "RZ(-1.7600137491541061) 0\n",
      "RX(-pi/2) 0\n",
      "RZ(1.9455860910933556) 1\n",
      "RX(pi/2) 1\n",
      "CZ 1 0\n",
      "RZ(-1.765614659103938) 3\n",
      "RX(pi/2) 3\n",
      "RZ(2.333860458736699) 3\n",
      "RX(-pi/2) 3\n",
      "RZ(1.3189846424964307) 3\n",
      "RZ(-1.9457738910099138) 4\n",
      "RX(pi/2) 4\n",
      "RZ(1.6615752928737941) 4\n",
      "RX(-pi/2) 4\n",
      "RZ(3.1146598749504513) 4\n",
      "CZ 4 3\n",
      "RZ(pi/2) 3\n",
      "RX(pi/2) 3\n",
      "RZ(2.208149269791826) 3\n",
      "RX(-pi/2) 3\n",
      "RZ(-pi/2) 4\n",
      "RX(-pi/2) 4\n",
      "CZ 4 3\n",
      "RX(pi/2) 3\n",
      "RZ(-1.772289877464722) 3\n",
      "RX(-pi/2) 3\n",
      "RZ(0.7972582129469177) 4\n",
      "RX(pi/2) 4\n",
      "CZ 4 3\n",
      "RZ(-1.8550831521821793) 0\n",
      "RX(pi/2) 0\n",
      "RZ(1.023046143496381) 0\n",
      "RX(-pi/2) 0\n",
      "RZ(0.19389593670807215) 0\n",
      "RZ(0.8350132758730009) 1\n",
      "RX(pi/2) 1\n",
      "RZ(1.4034616514737628) 1\n",
      "RX(-pi/2) 1\n",
      "RZ(0.5951974037155017) 1\n",
      "RZ(-3.0630317874417194) 3\n",
      "RX(pi/2) 3\n",
      "RZ(2.6647202108971375) 3\n",
      "RX(-pi/2) 3\n",
      "RZ(-2.3997638535696124) 3\n",
      "RZ(-1.479001253061274) 4\n",
      "RX(-pi/2) 4\n",
      "RZ(1.932316588815607) 4\n",
      "RX(-pi/2) 4\n",
      "RZ(0.5458526604808727) 4\n",
      "RX(-pi/2) 0\n",
      "RZ(3*pi/4) 1\n",
      "RX(pi) 1\n",
      "RZ(pi/2) 4\n",
      "RX(pi/2) 4\n",
      "CZ 1 4\n",
      "RZ(-pi/2) 0\n",
      "RX(pi/2) 0\n",
      "CZ 1 0\n",
      "RZ(pi/2) 3\n",
      "RX(pi/2) 3\n",
      "RZ(pi) 4\n",
      "RX(pi) 4\n",
      "CZ 3 4\n",
      "RZ(-pi/2) 3\n",
      "RX(-pi/2) 3\n",
      "RZ(pi) 4\n",
      "RX(pi/2) 4\n",
      "CZ 4 3\n",
      "RZ(pi) 3\n",
      "RX(pi/2) 3\n",
      "RX(-pi/2) 4\n",
      "CZ 3 4\n",
      "RZ(pi) 0\n",
      "RZ(pi/4) 1\n",
      "RX(pi/2) 1\n",
      "RZ(-pi/2) 4\n",
      "RX(pi/2) 4\n",
      "CZ 1 4\n",
      "RX(-pi/2) 1\n",
      "CZ 1 0\n",
      "RZ(-pi/2) 3\n",
      "RX(pi/2) 3\n",
      "RZ(pi/2) 4\n",
      "RX(-pi/2) 4\n",
      "CZ 3 4\n",
      "RX(-pi/2) 3\n",
      "RZ(pi) 4\n",
      "RX(pi/2) 4\n",
      "CZ 4 3\n",
      "RZ(pi) 3\n",
      "RX(pi/2) 3\n",
      "RX(-pi/2) 4\n",
      "CZ 3 4\n",
      "RX(pi/2) 0\n",
      "RZ(pi) 3\n",
      "RX(pi/2) 3\n",
      "CZ 0 3\n",
      "RX(-pi/2) 0\n",
      "CZ 0 1\n",
      "RX(pi/2) 3\n",
      "CZ 0 3\n",
      "RZ(-pi/2) 0\n",
      "RX(pi/2) 0\n",
      "RZ(pi) 1\n",
      "RX(-pi/2) 1\n",
      "CZ 0 1\n",
      "RZ(pi/2) 4\n",
      "RX(pi/2) 4\n",
      "RZ(pi/2) 4\n",
      "RZ(pi/2) 3\n",
      "RX(pi/2) 3\n",
      "CZ 4 3\n",
      "RZ(pi) 1\n",
      "RX(-pi/2) 0\n",
      "CZ 0 3\n",
      "RZ(-pi/2) 4\n",
      "RX(pi/2) 4\n",
      "RZ(pi/2) 4\n",
      "CZ 0 1\n",
      "RX(pi/2) 3\n",
      "CZ 3 4\n",
      "RZ(-pi/2) 3\n",
      "RX(-pi/2) 3\n",
      "RZ(pi/2) 4\n",
      "RX(pi/2) 4\n",
      "CZ 4 3\n",
      "RZ(pi) 3\n",
      "RX(pi/2) 3\n",
      "RX(-pi/2) 4\n",
      "CZ 3 4\n",
      "RZ(-pi/2) 0\n",
      "RX(pi) 0\n",
      "RZ(-pi/2) 3\n",
      "RX(-pi/2) 3\n",
      "CZ 3 0\n",
      "RX(-pi/2) 3\n",
      "RZ(pi/2) 4\n",
      "RX(pi/2) 4\n",
      "CZ 3 4\n",
      "RZ(pi) 0\n",
      "RX(pi/2) 0\n",
      "RZ(-3.0044210892719523) 3\n",
      "RX(pi) 3\n",
      "CZ 0 3\n",
      "RZ(pi/2) 0\n",
      "RX(pi/2) 0\n",
      "RZ(-pi/2) 1\n",
      "RX(pi/2) 1\n",
      "RZ(pi/2) 1\n",
      "RZ(-3.0044210892719514) 3\n",
      "RX(pi/2) 3\n",
      "RZ(pi/2) 3\n",
      "RZ(pi/2) 4\n",
      "RZ(-2.8450355668912994) 0\n",
      "RX(pi/2) 0\n",
      "RZ(1.4490593697936873) 0\n",
      "RX(-pi/2) 0\n",
      "RZ(1.1785033968361378) 0\n",
      "RZ(-1.450444465934439) 1\n",
      "RX(pi/2) 1\n",
      "RZ(0.5772010193328737) 1\n",
      "RX(-pi/2) 1\n",
      "RZ(-1.9876439655693556) 1\n",
      "CZ 1 0\n",
      "RZ(-pi/2) 0\n",
      "RX(pi/2) 0\n",
      "RZ(2.5984713667702275) 0\n",
      "RX(-pi/2) 0\n",
      "RZ(-pi/2) 1\n",
      "RX(-pi/2) 1\n",
      "CZ 1 0\n",
      "RX(pi/2) 0\n",
      "RZ(-2.1090667696439436) 0\n",
      "RX(-pi/2) 0\n",
      "RZ(1.1911940985464535) 1\n",
      "RX(pi/2) 1\n",
      "CZ 1 0\n",
      "RZ(0.8821491138271927) 3\n",
      "RX(pi/2) 3\n",
      "RZ(1.1014678720115474) 3\n",
      "RX(-pi/2) 3\n",
      "RZ(1.553899030344346) 3\n",
      "RZ(-0.9825499941719396) 4\n",
      "RX(pi/2) 4\n",
      "RZ(0.6079359156441988) 4\n",
      "RX(-pi/2) 4\n",
      "RZ(-0.8337681644314443) 4\n",
      "CZ 4 3\n",
      "RZ(-pi/2) 3\n",
      "RX(pi/2) 3\n",
      "RZ(2.5409468697574624) 3\n",
      "RX(-pi/2) 3\n",
      "RZ(-pi/2) 4\n",
      "RX(-pi/2) 4\n",
      "CZ 4 3\n",
      "RX(pi/2) 3\n",
      "RZ(-1.8362481087571778) 3\n",
      "RX(-pi/2) 3\n",
      "RZ(1.974870151379064) 4\n",
      "RX(pi/2) 4\n",
      "CZ 4 3\n",
      "RZ(0.4471992310335289) 0\n",
      "RX(pi/2) 0\n",
      "RZ(1.8088142670648728) 0\n",
      "RX(-pi/2) 0\n",
      "RZ(0.47563591383482606) 0\n",
      "RZ(1.0812149498775643) 1\n",
      "RX(pi/2) 1\n",
      "RZ(0.2802038877253161) 1\n",
      "RX(-pi/2) 1\n",
      "RZ(2.5993827123223374) 1\n",
      "RZ(-0.39229751836486315) 3\n",
      "RX(pi/2) 3\n",
      "RZ(1.1706332034512226) 3\n",
      "RX(-pi/2) 3\n",
      "RZ(0.06687451848399673) 3\n",
      "RZ(0.6962083813013752) 4\n",
      "RX(pi/2) 4\n",
      "RZ(3.024369183361115) 4\n",
      "RX(-pi/2) 4\n",
      "RZ(2.7885886179362576) 4\n",
      "\n"
     ]
    }
   ],
   "source": [
    "qv_template = rand_perm_layer + rand_su4_layer\n",
    "print(qv_template.sample_program(G, repetitions=2, qc=noisy_qc, width=5))"
   ]
  },
  {
   "cell_type": "markdown",
   "metadata": {},
   "source": [
    "## Acquire data for ranges of (width, depth)"
   ]
  },
  {
   "cell_type": "code",
   "execution_count": 22,
   "metadata": {},
   "outputs": [
    {
     "name": "stdout",
     "output_type": "stream",
     "text": [
      "{2: {3: [<pyquil.quil.Program object at 0x7f4480db4fd0>, <pyquil.quil.Program object at 0x7f4480d3a4a8>, <pyquil.quil.Program object at 0x7f4480d3aef0>, <pyquil.quil.Program object at 0x7f4480d413c8>, <pyquil.quil.Program object at 0x7f4480dabdd8>, <pyquil.quil.Program object at 0x7f4480d41470>, <pyquil.quil.Program object at 0x7f4480d46278>, <pyquil.quil.Program object at 0x7f4480d46b38>, <pyquil.quil.Program object at 0x7f4480d49128>, <pyquil.quil.Program object at 0x7f4480d49a20>], 4: [<pyquil.quil.Program object at 0x7f4480d46fd0>, <pyquil.quil.Program object at 0x7f4480d41940>, <pyquil.quil.Program object at 0x7f4480dab7b8>, <pyquil.quil.Program object at 0x7f4480e11e80>, <pyquil.quil.Program object at 0x7f4480da8320>, <pyquil.quil.Program object at 0x7f4480dabc18>, <pyquil.quil.Program object at 0x7f4480da8be0>, <pyquil.quil.Program object at 0x7f4480da7320>, <pyquil.quil.Program object at 0x7f4480da7c88>, <pyquil.quil.Program object at 0x7f4480da15c0>], 5: [<pyquil.quil.Program object at 0x7f4480da1b00>, <pyquil.quil.Program object at 0x7f4480d999b0>, <pyquil.quil.Program object at 0x7f4480d94080>, <pyquil.quil.Program object at 0x7f4480d94a58>, <pyquil.quil.Program object at 0x7f4480d99c50>, <pyquil.quil.Program object at 0x7f4480d907f0>, <pyquil.quil.Program object at 0x7f4480d8e048>, <pyquil.quil.Program object at 0x7f4480d89128>, <pyquil.quil.Program object at 0x7f4480d89470>, <pyquil.quil.Program object at 0x7f4480d89e10>]}, 3: {3: [<pyquil.quil.Program object at 0x7f4480d86358>, <pyquil.quil.Program object at 0x7f4480d7e358>, <pyquil.quil.Program object at 0x7f4480d7eac8>, <pyquil.quil.Program object at 0x7f4480e38240>, <pyquil.quil.Program object at 0x7f4480e34048>, <pyquil.quil.Program object at 0x7f4480e34a58>, <pyquil.quil.Program object at 0x7f4480e38668>, <pyquil.quil.Program object at 0x7f4480e2bba8>, <pyquil.quil.Program object at 0x7f4480e2d320>, <pyquil.quil.Program object at 0x7f4480e26198>], 4: [<pyquil.quil.Program object at 0x7f4480e267b8>, <pyquil.quil.Program object at 0x7f4480e33710>, <pyquil.quil.Program object at 0x7f4480e1b518>, <pyquil.quil.Program object at 0x7f4480e17048>, <pyquil.quil.Program object at 0x7f4480e17da0>, <pyquil.quil.Program object at 0x7f4480e14d30>, <pyquil.quil.Program object at 0x7f4480d556a0>, <pyquil.quil.Program object at 0x7f4480d59390>, <pyquil.quil.Program object at 0x7f4480d5d240>, <pyquil.quil.Program object at 0x7f4480d5dc88>], 5: [<pyquil.quil.Program object at 0x7f4480d63e10>, <pyquil.quil.Program object at 0x7f4480d6c080>, <pyquil.quil.Program object at 0x7f4480d6ca20>, <pyquil.quil.Program object at 0x7f4480d72dd8>, <pyquil.quil.Program object at 0x7f4480d72f60>, <pyquil.quil.Program object at 0x7f4480e264a8>, <pyquil.quil.Program object at 0x7f4480e33cf8>, <pyquil.quil.Program object at 0x7f4480df5b70>, <pyquil.quil.Program object at 0x7f4480df7cf8>, <pyquil.quil.Program object at 0x7f4480df3978>]}, 4: {3: [<pyquil.quil.Program object at 0x7f4480ded898>, <pyquil.quil.Program object at 0x7f4480de6e80>, <pyquil.quil.Program object at 0x7f4480ddd1d0>, <pyquil.quil.Program object at 0x7f4480dda128>, <pyquil.quil.Program object at 0x7f4480ddac50>, <pyquil.quil.Program object at 0x7f4480dd4898>, <pyquil.quil.Program object at 0x7f4480dcd860>, <pyquil.quil.Program object at 0x7f4480dc92b0>, <pyquil.quil.Program object at 0x7f4480dc5208>, <pyquil.quil.Program object at 0x7f4480dc8d30>], 4: [<pyquil.quil.Program object at 0x7f4480dbc0f0>, <pyquil.quil.Program object at 0x7f4480dba3c8>, <pyquil.quil.Program object at 0x7f4480cfd390>, <pyquil.quil.Program object at 0x7f4480d037b8>, <pyquil.quil.Program object at 0x7f4480d08ef0>, <pyquil.quil.Program object at 0x7f4480d0ef98>, <pyquil.quil.Program object at 0x7f4480d0feb8>, <pyquil.quil.Program object at 0x7f4480d1a278>, <pyquil.quil.Program object at 0x7f4480d1e2b0>, <pyquil.quil.Program object at 0x7f4480d21128>], 5: [<pyquil.quil.Program object at 0x7f4480d29e10>, <pyquil.quil.Program object at 0x7f4480de6470>, <pyquil.quil.Program object at 0x7f4480d33278>, <pyquil.quil.Program object at 0x7f4480d364e0>, <pyquil.quil.Program object at 0x7f4480cbdcf8>, <pyquil.quil.Program object at 0x7f4480cc5390>, <pyquil.quil.Program object at 0x7f4480cca978>, <pyquil.quil.Program object at 0x7f4480ccfef0>, <pyquil.quil.Program object at 0x7f4480cd8748>, <pyquil.quil.Program object at 0x7f4480ce54e0>]}}\n"
     ]
    }
   ],
   "source": [
    "widths = [2, 3, 4]\n",
    "depths = [3, 4, 5]\n",
    "ckt = classical_1q_2q\n",
    "prog_array = generate_volumetric_program_array(noisy_qc, ckt, widths, depths, num_circuit_samples=10)\n",
    "print(prog_array)"
   ]
  },
  {
   "cell_type": "code",
   "execution_count": 23,
   "metadata": {},
   "outputs": [],
   "source": [
    "noisy_results = acquire_volumetric_data(noisy_qc, prog_array)"
   ]
  },
  {
   "cell_type": "code",
   "execution_count": 24,
   "metadata": {},
   "outputs": [
    {
     "name": "stdout",
     "output_type": "stream",
     "text": [
      "{2: {3: [array([[0, 0]]), array([[1, 1]]), array([[1, 0]]), array([[0, 0]]), array([[1, 0]]), array([[0, 1]]), array([[0, 0]]), array([[1, 0]]), array([[1, 1]]), array([[1, 0]])], 4: [array([[1, 0]]), array([[0, 1]]), array([[0, 0]]), array([[1, 1]]), array([[0, 0]]), array([[0, 1]]), array([[0, 1]]), array([[0, 1]]), array([[1, 1]]), array([[0, 0]])], 5: [array([[0, 1]]), array([[0, 0]]), array([[1, 1]]), array([[1, 0]]), array([[1, 1]]), array([[0, 0]]), array([[0, 0]]), array([[0, 1]]), array([[0, 0]]), array([[1, 0]])]}, 3: {3: [array([[0, 0, 1]]), array([[0, 0, 1]]), array([[1, 1, 1]]), array([[1, 1, 0]]), array([[1, 1, 0]]), array([[1, 0, 1]]), array([[1, 1, 0]]), array([[1, 0, 0]]), array([[0, 1, 0]]), array([[1, 1, 0]])], 4: [array([[1, 1, 0]]), array([[0, 0, 0]]), array([[1, 0, 1]]), array([[1, 1, 0]]), array([[0, 0, 0]]), array([[1, 1, 0]]), array([[1, 1, 0]]), array([[1, 0, 1]]), array([[1, 1, 1]]), array([[0, 1, 1]])], 5: [array([[1, 1, 1]]), array([[1, 1, 0]]), array([[0, 1, 1]]), array([[1, 0, 0]]), array([[0, 1, 0]]), array([[1, 1, 1]]), array([[1, 0, 0]]), array([[1, 1, 1]]), array([[1, 0, 1]]), array([[0, 1, 1]])]}, 4: {3: [array([[1, 1, 0, 1]]), array([[0, 1, 1, 1]]), array([[1, 1, 1, 1]]), array([[0, 1, 1, 1]]), array([[0, 1, 0, 1]]), array([[0, 1, 0, 1]]), array([[0, 0, 0, 1]]), array([[1, 1, 0, 1]]), array([[0, 1, 0, 0]]), array([[0, 0, 1, 0]])], 4: [array([[0, 0, 0, 0]]), array([[0, 0, 1, 0]]), array([[1, 0, 0, 1]]), array([[1, 0, 0, 0]]), array([[0, 0, 1, 0]]), array([[0, 0, 1, 1]]), array([[1, 1, 0, 1]]), array([[1, 1, 0, 0]]), array([[1, 0, 0, 1]]), array([[0, 0, 1, 1]])], 5: [array([[0, 0, 0, 1]]), array([[0, 1, 0, 0]]), array([[0, 0, 1, 1]]), array([[0, 1, 1, 1]]), array([[1, 1, 1, 1]]), array([[0, 0, 0, 0]]), array([[1, 1, 1, 1]]), array([[1, 0, 0, 0]]), array([[0, 0, 1, 0]]), array([[0, 0, 1, 0]])]}}\n"
     ]
    }
   ],
   "source": [
    "ideal_results = acquire_volumetric_data(perfect_qc, prog_array, num_shots=1)\n",
    "print(ideal_results)"
   ]
  },
  {
   "cell_type": "code",
   "execution_count": 25,
   "metadata": {},
   "outputs": [
    {
     "name": "stdout",
     "output_type": "stream",
     "text": [
      "{2: {3: [array([0.952, 0.042, 0.006]), array([0.826, 0.168, 0.006]), array([0.866, 0.13 , 0.004]), array([0.956, 0.044, 0.   ]), array([0.86 , 0.138, 0.002]), array([0.868, 0.13 , 0.002]), array([0.952, 0.046, 0.002]), array([0.9  , 0.096, 0.004]), array([0.83 , 0.162, 0.008]), array([0.884, 0.108, 0.008])], 4: [array([0.898, 0.1  , 0.002]), array([0.884, 0.108, 0.008]), array([0.952, 0.048, 0.   ]), array([0.866, 0.128, 0.006]), array([0.954, 0.046, 0.   ]), array([0.866, 0.132, 0.002]), array([0.884, 0.112, 0.004]), array([0.88 , 0.118, 0.002]), array([0.834, 0.16 , 0.006]), array([0.952, 0.046, 0.002])], 5: [array([0.898, 0.102, 0.   ]), array([0.956, 0.042, 0.002]), array([0.814, 0.18 , 0.006]), array([0.886, 0.112, 0.002]), array([0.834, 0.156, 0.01 ]), array([0.932, 0.064, 0.004]), array([0.946, 0.044, 0.01 ]), array([0.882, 0.118, 0.   ]), array([0.946, 0.044, 0.01 ]), array([0.886, 0.106, 0.008])]}, 3: {3: [array([0.846, 0.15 , 0.004, 0.   ]), array([0.832, 0.15 , 0.018, 0.   ]), array([0.754, 0.212, 0.032, 0.002]), array([0.812, 0.176, 0.012, 0.   ]), array([0.836, 0.146, 0.016, 0.002]), array([0.808, 0.178, 0.014, 0.   ]), array([0.794, 0.196, 0.01 , 0.   ]), array([0.84 , 0.142, 0.016, 0.002]), array([0.852, 0.134, 0.014, 0.   ]), array([0.794, 0.18 , 0.026, 0.   ])], 4: [array([0.786, 0.204, 0.01 , 0.   ]), array([0.93 , 0.064, 0.006, 0.   ]), array([0.812, 0.17 , 0.018, 0.   ]), array([0.802, 0.182, 0.014, 0.002]), array([0.928, 0.068, 0.004, 0.   ]), array([0.784, 0.196, 0.02 , 0.   ]), array([0.814, 0.172, 0.01 , 0.004]), array([0.824, 0.156, 0.02 , 0.   ]), array([0.76 , 0.212, 0.024, 0.004]), array([0.776, 0.204, 0.02 , 0.   ])], 5: [array([0.776, 0.204, 0.02 , 0.   ]), array([0.832, 0.158, 0.01 , 0.   ]), array([0.786, 0.192, 0.018, 0.004]), array([0.872, 0.122, 0.006, 0.   ]), array([0.846, 0.144, 0.01 , 0.   ]), array([0.748, 0.232, 0.018, 0.002]), array([0.814, 0.176, 0.01 , 0.   ]), array([0.768, 0.212, 0.018, 0.002]), array([0.782, 0.2  , 0.018, 0.   ]), array([0.764, 0.22 , 0.014, 0.002])]}, 4: {3: [array([0.734, 0.228, 0.034, 0.004, 0.   ]), array([0.726, 0.244, 0.03 , 0.   , 0.   ]), array([0.696, 0.25 , 0.052, 0.002, 0.   ]), array([0.754, 0.21 , 0.032, 0.004, 0.   ]), array([0.778, 0.206, 0.016, 0.   , 0.   ]), array([0.79, 0.18, 0.03, 0.  , 0.  ]), array([0.858, 0.126, 0.016, 0.   , 0.   ]), array([0.738, 0.228, 0.03 , 0.002, 0.002]), array([0.836, 0.16 , 0.004, 0.   , 0.   ]), array([0.822, 0.162, 0.016, 0.   , 0.   ])], 4: [array([0.89 , 0.106, 0.004, 0.   , 0.   ]), array([0.838, 0.162, 0.   , 0.   , 0.   ]), array([0.744, 0.228, 0.026, 0.002, 0.   ]), array([0.852, 0.142, 0.004, 0.002, 0.   ]), array([0.84 , 0.152, 0.008, 0.   , 0.   ]), array([0.788, 0.196, 0.016, 0.   , 0.   ]), array([0.714, 0.254, 0.028, 0.004, 0.   ]), array([0.778, 0.204, 0.018, 0.   , 0.   ]), array([0.798, 0.182, 0.018, 0.002, 0.   ]), array([0.766, 0.218, 0.014, 0.002, 0.   ])], 5: [array([0.832, 0.16 , 0.008, 0.   , 0.   ]), array([0.842, 0.114, 0.038, 0.006, 0.   ]), array([0.796, 0.184, 0.02 , 0.   , 0.   ]), array([0.69 , 0.268, 0.038, 0.004, 0.   ]), array([0.628, 0.304, 0.064, 0.004, 0.   ]), array([0.866, 0.124, 0.01 , 0.   , 0.   ]), array([0.68 , 0.256, 0.046, 0.018, 0.   ]), array([0.842, 0.146, 0.012, 0.   , 0.   ]), array([0.808, 0.168, 0.02 , 0.004, 0.   ]), array([0.848, 0.14 , 0.012, 0.   , 0.   ])]}}\n"
     ]
    }
   ],
   "source": [
    "err_hamm_distrs = get_error_hamming_weight_distributions(noisy_results, ideal_results)\n",
    "print(err_hamm_distrs)"
   ]
  },
  {
   "cell_type": "code",
   "execution_count": 26,
   "metadata": {},
   "outputs": [
    {
     "name": "stdout",
     "output_type": "stream",
     "text": [
      "{2: {3: array([0.8894, 0.1064, 0.0042]), 4: array([0.897 , 0.0998, 0.0032]), 5: array([0.898 , 0.0968, 0.0052])}, 3: {3: array([8.168e-01, 1.664e-01, 1.620e-02, 6.000e-04]), 4: array([0.8216, 0.1628, 0.0146, 0.001 ]), 5: array([0.7988, 0.186 , 0.0142, 0.001 ])}, 4: {3: array([7.732e-01, 1.994e-01, 2.600e-02, 1.200e-03, 2.000e-04]), 4: array([0.8008, 0.1844, 0.0136, 0.0012, 0.    ]), 5: array([0.7832, 0.1864, 0.0268, 0.0036, 0.    ])}}\n"
     ]
    }
   ],
   "source": [
    "avg_err_hamm_distrs = average_distributions(err_hamm_distrs)\n",
    "print(avg_err_hamm_distrs)"
   ]
  },
  {
   "cell_type": "markdown",
   "metadata": {},
   "source": [
    "## Plot a particular depth and width"
   ]
  },
  {
   "cell_type": "code",
   "execution_count": 27,
   "metadata": {},
   "outputs": [],
   "source": [
    "w = 3 # width\n",
    "d = 4 # depth\n",
    "\n",
    "avg_distr = avg_err_hamm_distrs[3][4]\n",
    "\n",
    "# rand data\n",
    "rand_distr = get_random_hamming_wt_distr(w)"
   ]
  },
  {
   "cell_type": "code",
   "execution_count": 28,
   "metadata": {},
   "outputs": [
    {
     "data": {
      "image/png": "[encoded data removed]",
      "text/plain": [
       "<Figure size 432x288 with 1 Axes>"
      ]
     },
     "metadata": {},
     "output_type": "display_data"
    }
   ],
   "source": [
    "x_labels = np.arange(0, len(avg_distr))\n",
    "plt.bar(x_labels, avg_distr, width=0.61, align='center')\n",
    "plt.bar(x_labels, rand_distr, width=0.31, align='center')\n",
    "plt.xticks(x_labels)\n",
    "plt.xlabel('Hamming Weight of Error')\n",
    "plt.ylabel('Relative Frequency of Occurrence')\n",
    "plt.ylim([0, 1])\n",
    "plt.grid(axis='y', alpha=0.75)\n",
    "plt.legend(['data','random'])\n",
    "plt.title(f'Width = {w}, Depth = {d}')\n",
    "plt.show()"
   ]
  },
  {
   "cell_type": "markdown",
   "metadata": {},
   "source": [
    "Using our helper function"
   ]
  },
  {
   "cell_type": "code",
   "execution_count": 29,
   "metadata": {},
   "outputs": [
    {
     "data": {
      "image/png": "[encoded data removed]",
      "text/plain": [
       "<Figure size 1296x432 with 1 Axes>"
      ]
     },
     "metadata": {},
     "output_type": "display_data"
    }
   ],
   "source": [
    "fig, axs = plot_error_distributions(avg_err_hamm_distrs, widths=[w], depths=[d], plot_rand_distr=True)"
   ]
  },
  {
   "cell_type": "markdown",
   "metadata": {},
   "source": [
    "### For a particular width, plot all depths"
   ]
  },
  {
   "cell_type": "code",
   "execution_count": 30,
   "metadata": {},
   "outputs": [
    {
     "data": {
      "image/png": "[encoded data removed]",
      "text/plain": [
       "<Figure size 1296x1296 with 3 Axes>"
      ]
     },
     "metadata": {},
     "output_type": "display_data"
    }
   ],
   "source": [
    "fig, axs = plot_error_distributions(avg_err_hamm_distrs, widths=[w], plot_rand_distr=True)"
   ]
  },
  {
   "cell_type": "markdown",
   "metadata": {},
   "source": [
    "### Plot all of the distributions"
   ]
  },
  {
   "cell_type": "code",
   "execution_count": 31,
   "metadata": {},
   "outputs": [
    {
     "data": {
      "image/png": "[encoded data removed]",
      "text/plain": [
       "<Figure size 1296x1296 with 9 Axes>"
      ]
     },
     "metadata": {},
     "output_type": "display_data"
    }
   ],
   "source": [
    "fig, axs = plot_error_distributions(avg_err_hamm_distrs, widths=None, depths=None, plot_rand_distr=True)"
   ]
  },
  {
   "cell_type": "markdown",
   "metadata": {},
   "source": [
    "Now we can study the sucess probablity, i.e. the zero hamming weight entry above as a function of depth. We first need to extract the data."
   ]
  },
  {
   "cell_type": "code",
   "execution_count": 33,
   "metadata": {},
   "outputs": [
    {
     "name": "stdout",
     "output_type": "stream",
     "text": [
      "{2: {3: 0.8894, 4: 0.897, 5: 0.8979999999999999}, 3: {3: 0.8168000000000001, 4: 0.8216000000000001, 5: 0.7988000000000001}, 4: {3: 0.7732, 4: 0.8008000000000001, 5: 0.7831999999999999}}\n",
      "{2: {3: 0.9958000000000002, 4: 0.9968, 5: 0.9948}, 3: {3: 0.9832000000000001, 4: 0.9843999999999999, 5: 0.9848000000000001}, 4: {3: 0.9986, 4: 0.9987999999999999, 5: 0.9964000000000001}}\n",
      "{2: {3: 0.6394, 4: 0.647, 5: 0.6479999999999999}, 3: {3: 0.6918000000000001, 4: 0.6966000000000001, 5: 0.6738}, 4: {3: 0.7107, 4: 0.7383, 5: 0.7206999999999999}}\n"
     ]
    }
   ],
   "source": [
    "# extract data from avg_err_hamm_distrs\n",
    "widths = list(avg_err_hamm_distrs.keys())\n",
    "depths = list(avg_err_hamm_distrs[widths[0]].keys())\n",
    "\n",
    "avg_pr_succ_arr = {w: {d: distr[0] for d, distr in d_distrs.items()} for w, d_distrs in avg_err_hamm_distrs.items()}\n",
    "# this is equivalently wrapped up in the following\n",
    "assert avg_pr_succ_arr == average_distributions(get_single_target_success_probabilities(noisy_results, \n",
    "                                                                                        ideal_results))\n",
    "\n",
    "# count as success even if there are log many bits incorrect.\n",
    "avg_pr_succ_allow_log_errors = average_distributions(get_single_target_success_probabilities(noisy_results, \n",
    "                                                                                             ideal_results, \n",
    "                                                     allowed_errors = basement_log_function))\n",
    "\n",
    "ideal_distrs = {w: [1] + [0 for _ in range(w)] for w in widths}\n",
    "rand_distrs = {w: get_random_hamming_wt_distr(w) for w in widths}\n",
    "\n",
    "pr_succ_rand = {w: 1/2**w for w in widths}\n",
    "pr_succ_rand_allow_log_errors = {w: sum(rand_distrs[w][0:basement_log_function(w)+1]) for w in widths}\n",
    "\n",
    "# total variation distance\n",
    "tvd_noisy_ideal = {w: {d: get_total_variation_dist(distr, ideal_distrs[w]) for d, distr in d_distrs.items()}\n",
    "                              for w, d_distrs in avg_err_hamm_distrs.items()}\n",
    "\n",
    "# tvd_noisy_ideal is equivalent to 1 - success probability.\n",
    "np.testing.assert_allclose([pr for d_vals in avg_pr_succ_arr.values() for pr in d_vals.values()], \n",
    "                           [1 - val for d_vals in tvd_noisy_ideal.values() for val in d_vals.values()])\n",
    "\n",
    "tvd_noisy_rand = {w: {d: get_total_variation_dist(distr, rand_distrs[w]) for d, distr in d_distrs.items()}\n",
    "                              for w, d_distrs in avg_err_hamm_distrs.items()}\n",
    "\n",
    "print(avg_pr_succ_arr)\n",
    "print(avg_pr_succ_allow_log_errors)\n",
    "print(tvd_noisy_rand)"
   ]
  },
  {
   "cell_type": "markdown",
   "metadata": {},
   "source": [
    "## Success probablity and success probablity including a small number of errors"
   ]
  },
  {
   "cell_type": "markdown",
   "metadata": {},
   "source": [
    "Next we will plot the success probablity of a circuit with a certain width as a function of depth. "
   ]
  },
  {
   "cell_type": "code",
   "execution_count": 34,
   "metadata": {},
   "outputs": [
    {
     "data": {
      "image/png": "[encoded data removed]",
      "text/plain": [
       "<Figure size 432x288 with 1 Axes>"
      ]
     },
     "metadata": {},
     "output_type": "display_data"
    }
   ],
   "source": [
    "w=3\n",
    "plt.scatter(depths, [avg_pr_succ_arr[w][d] for d in depths], label='Sucess Probability')\n",
    "plt.plot(depths, [pr_succ_rand[w] for _ in depths], label='random guess')\n",
    "plt.ylim([-0.05,1.05])\n",
    "plt.xlabel('Depth')\n",
    "plt.xticks(depths)\n",
    "plt.ylabel('Pr(success)')\n",
    "plt.title('Pr(success) vs Depth for Width = {}'.format(w))\n",
    "plt.legend()\n",
    "plt.show()"
   ]
  },
  {
   "cell_type": "markdown",
   "metadata": {},
   "source": [
    "**Sucess if we allow for a small number of errors**\n",
    "\n",
    "Some near term algorithms have robustness to noise. In light of that we might want to consider as successes answers that are only a little wrong.\n",
    "\n",
    "To make this notion formal we allow a logarithmic number of bits to be flipped from the correct answer and call all such instances \"success\".\n",
    "\n",
    "The logarithmic number of bits that we allow to flip is defined by the \"basement\" ${\\mathcal B}$ of \n",
    "\n",
    "$\\log_2 ({\\rm number\\ of\\ bits})$\n",
    "\n",
    "where the basement of a number is ${\\mathcal B}(number) = 0$ if number$<=0$ and ${\\mathcal B}(number) = {\\rm floor (number)}$.\n",
    "\n",
    "\n",
    "Supose we have a circuit of width 4 so that the correct string has four bits, e.g. 1010. Then a logarithmic number of flips is $\\log_2(4) = 2$.\n",
    "\n",
    "So any string with hamming weight zero, one, or two counts as a success.\n",
    "\n",
    "Such error metrics might be important in noisy near term algorithms where getting the exact answer is not vital."
   ]
  },
  {
   "cell_type": "code",
   "execution_count": 35,
   "metadata": {},
   "outputs": [
    {
     "data": {
      "image/png": "[encoded data removed]",
      "text/plain": [
       "<Figure size 432x288 with 1 Axes>"
      ]
     },
     "metadata": {},
     "output_type": "display_data"
    }
   ],
   "source": [
    "w=4\n",
    "plt.scatter(depths, [avg_pr_succ_arr[w][d] for d in depths], label='Sucess Prob')\n",
    "plt.plot(depths, [pr_succ_rand[w] for _ in depths], label='random guess')\n",
    "plt.scatter(depths, [avg_pr_succ_allow_log_errors[w][d] for d in depths], label='Sucess Prob w/ log errors')\n",
    "plt.plot(depths, [pr_succ_rand_allow_log_errors[w] for _ in depths], label='random guess w/ log errors')\n",
    "plt.ylim([-0.05, 1.05])\n",
    "plt.xlabel('Depth')\n",
    "plt.xticks(depths)\n",
    "plt.ylabel('Pr(success)')\n",
    "plt.title('Pr(success) (& w/ log errors) vs Depth for Width = {}'.format(w))\n",
    "plt.legend()\n",
    "plt.show()"
   ]
  },
  {
   "cell_type": "markdown",
   "metadata": {},
   "source": [
    "## Total variation distance from ideal answer and random distribution"
   ]
  },
  {
   "cell_type": "code",
   "execution_count": 37,
   "metadata": {},
   "outputs": [
    {
     "data": {
      "image/png": "[encoded data removed]",
      "text/plain": [
       "<Figure size 432x288 with 1 Axes>"
      ]
     },
     "metadata": {},
     "output_type": "display_data"
    }
   ],
   "source": [
    "plt.figure()\n",
    "plt.scatter(depths, [tvd_noisy_ideal[w][d] for d in depths], label='TVD(data, ideal)')\n",
    "plt.scatter(depths, [tvd_noisy_rand[w][d] for d in depths], label='TVD(data, rand)')\n",
    "plt.scatter(depths, 1-np.asarray([avg_pr_succ_arr[w][d] for d in depths]),\n",
    "            label='1 - Pr[Success]', alpha=0.33, marker='^', s=80)\n",
    "plt.ylim([-0.05,1.05])\n",
    "plt.xlabel('Depth')\n",
    "plt.xticks(depths)\n",
    "plt.ylabel('Total variation distance')\n",
    "plt.title('Width = {}'.format(w))\n",
    "plt.legend(bbox_to_anchor=(1.04,1), loc=\"upper left\")\n",
    "plt.show()"
   ]
  },
  {
   "cell_type": "markdown",
   "metadata": {},
   "source": [
    "## Plot success probablity landscape"
   ]
  },
  {
   "cell_type": "markdown",
   "metadata": {},
   "source": [
    "This is just the success probablity as a function of depth and width."
   ]
  },
  {
   "cell_type": "code",
   "execution_count": 38,
   "metadata": {},
   "outputs": [],
   "source": [
    "widths = list(avg_err_hamm_distrs.keys())\n",
    "depths = list(avg_err_hamm_distrs[widths[0]].keys())\n",
    "\n",
    "avg_pr_succ_arr == average_distributions(get_single_target_success_probabilities(noisy_results, \n",
    "                                                                                        ideal_results))\n",
    "\n",
    "# count as success even if there are log many bits incorrect.\n",
    "avg_pr_succ_allow_log_errors = average_distributions(get_single_target_success_probabilities(noisy_results, \n",
    "                                                                                             ideal_results, \n",
    "                                                     allowed_errors = basement_log_function))\n",
    "\n",
    "ideal_distrs = {w: [1] + [0 for _ in range(w)] for w in widths}\n",
    "rand_distrs = {w: get_random_hamming_wt_distr(w) for w in widths}\n",
    "\n",
    "pr_succ_rand = {w: 1/2**w for w in widths}\n",
    "pr_succ_rand_allow_log_errors = {w: sum(rand_distrs[w][0:basement_log_function(w)+1]) for w in widths}\n",
    "\n",
    "# total variation distance\n",
    "tvd_noisy_ideal = {w: {d: get_total_variation_dist(distr, ideal_distrs[w]) for d, distr in d_distrs.items()}\n",
    "                              for w, d_distrs in avg_err_hamm_distrs.items()}\n",
    "\n",
    "tvd_noisy_rand = {w: {d: get_total_variation_dist(distr, rand_distrs[w]) for d, distr in d_distrs.items()}\n",
    "                              for w, d_distrs in avg_err_hamm_distrs.items()}"
   ]
  },
  {
   "cell_type": "code",
   "execution_count": 39,
   "metadata": {},
   "outputs": [],
   "source": [
    "X, Y = np.meshgrid(widths, depths)"
   ]
  },
  {
   "cell_type": "code",
   "execution_count": 40,
   "metadata": {},
   "outputs": [],
   "source": [
    "Zdata = np.reshape([avg_pr_succ_arr[w][d] for d in depths for w in widths], X.shape)\n",
    "Zrand = np.reshape([pr_succ_rand[w] for d in depths for w in widths], X.shape)"
   ]
  },
  {
   "cell_type": "code",
   "execution_count": 41,
   "metadata": {},
   "outputs": [
    {
     "data": {
      "image/png": "[encoded data removed]",
      "text/plain": [
       "<Figure size 432x288 with 2 Axes>"
      ]
     },
     "metadata": {},
     "output_type": "display_data"
    }
   ],
   "source": [
    "extent = min(depths)-0.5, max(depths)+0.5, min(widths)-0.5, max(widths)+0.5\n",
    "ax = plt.gca()\n",
    "img = ax.imshow(Zdata, interpolation='none', extent=extent,\n",
    "                cmap='viridis', origin='lowerleft', vmin=0.0,vmax=1.0)\n",
    "\n",
    "xticks = depths\n",
    "ax.set_xticks(xticks)\n",
    "ax.set_xticklabels(map(str, xticks))\n",
    "\n",
    "yticks = widths\n",
    "ax.set_yticks(yticks)\n",
    "ax.set_yticklabels(map(str, yticks))\n",
    "\n",
    "ax.set_aspect('equal')\n",
    "plt.colorbar(img, ax=ax)\n",
    "plt.xlabel('Width')\n",
    "plt.ylabel('Depth')\n",
    "plt.title('Success Probability')\n",
    "plt.show()"
   ]
  },
  {
   "cell_type": "code",
   "execution_count": 42,
   "metadata": {},
   "outputs": [
    {
     "data": {
      "image/png": "[encoded data removed]",
      "text/plain": [
       "<Figure size 432x288 with 2 Axes>"
      ]
     },
     "metadata": {},
     "output_type": "display_data"
    }
   ],
   "source": [
    "ax = plt.gca()\n",
    "img = ax.imshow(Zrand, interpolation='none', extent=extent,\n",
    "                cmap='viridis', origin='lowerleft', vmin=0.0,vmax=1.0)\n",
    "\n",
    "xticks = depths\n",
    "ax.set_xticks(xticks)\n",
    "ax.set_xticklabels(map(str, xticks))\n",
    "\n",
    "yticks = widths\n",
    "ax.set_yticks(yticks)\n",
    "ax.set_yticklabels(map(str, yticks))\n",
    "\n",
    "ax.set_aspect('equal')\n",
    "plt.colorbar(img, ax=ax)\n",
    "plt.xlabel('Width')\n",
    "plt.ylabel('Depth')\n",
    "plt.title('Success Probability of Random Guess')\n",
    "plt.show()"
   ]
  },
  {
   "cell_type": "code",
   "execution_count": 43,
   "metadata": {},
   "outputs": [
    {
     "ename": "NameError",
     "evalue": "name 'munged' is not defined",
     "output_type": "error",
     "traceback": [
      "\u001b[0;31m---------------------------------------------------------------------------\u001b[0m",
      "\u001b[0;31mNameError\u001b[0m                                 Traceback (most recent call last)",
      "\u001b[0;32m<ipython-input-43-563b6e4ca646>\u001b[0m in \u001b[0;36m<module>\u001b[0;34m()\u001b[0m\n\u001b[0;32m----> 1\u001b[0;31m \u001b[0mtvd_rand_values\u001b[0m \u001b[0;34m=\u001b[0m \u001b[0mnp\u001b[0m\u001b[0;34m.\u001b[0m\u001b[0masarray\u001b[0m\u001b[0;34m(\u001b[0m\u001b[0;34m[\u001b[0m\u001b[0mmunged\u001b[0m\u001b[0;34m[\u001b[0m\u001b[0;34m'TVD(data, rand)'\u001b[0m\u001b[0;34m]\u001b[0m\u001b[0;34m[\u001b[0m\u001b[0midx\u001b[0m\u001b[0;34m]\u001b[0m \u001b[0;32mfor\u001b[0m \u001b[0midx\u001b[0m \u001b[0;32min\u001b[0m \u001b[0mmunged\u001b[0m\u001b[0;34m.\u001b[0m\u001b[0mindex\u001b[0m\u001b[0;34m]\u001b[0m\u001b[0;34m)\u001b[0m\u001b[0;34m\u001b[0m\u001b[0m\n\u001b[0m\u001b[1;32m      2\u001b[0m \u001b[0mtvd_ideal_values\u001b[0m \u001b[0;34m=\u001b[0m \u001b[0mnp\u001b[0m\u001b[0;34m.\u001b[0m\u001b[0masarray\u001b[0m\u001b[0;34m(\u001b[0m\u001b[0;34m[\u001b[0m\u001b[0mmunged\u001b[0m\u001b[0;34m[\u001b[0m\u001b[0;34m'TVD(data, ideal)'\u001b[0m\u001b[0;34m]\u001b[0m\u001b[0;34m[\u001b[0m\u001b[0midx\u001b[0m\u001b[0;34m]\u001b[0m \u001b[0;32mfor\u001b[0m \u001b[0midx\u001b[0m \u001b[0;32min\u001b[0m \u001b[0mmunged\u001b[0m\u001b[0;34m.\u001b[0m\u001b[0mindex\u001b[0m\u001b[0;34m]\u001b[0m\u001b[0;34m)\u001b[0m\u001b[0;34m\u001b[0m\u001b[0m\n\u001b[1;32m      3\u001b[0m \u001b[0mZtvd_rand\u001b[0m \u001b[0;34m=\u001b[0m \u001b[0mnp\u001b[0m\u001b[0;34m.\u001b[0m\u001b[0mreshape\u001b[0m\u001b[0;34m(\u001b[0m\u001b[0mtvd_rand_values\u001b[0m\u001b[0;34m,\u001b[0m\u001b[0;34m(\u001b[0m\u001b[0mx2\u001b[0m\u001b[0;34m,\u001b[0m\u001b[0mx1\u001b[0m\u001b[0;34m)\u001b[0m\u001b[0;34m)\u001b[0m\u001b[0;34m.\u001b[0m\u001b[0mT\u001b[0m\u001b[0;34m\u001b[0m\u001b[0m\n\u001b[1;32m      4\u001b[0m \u001b[0mZtvd_ideal\u001b[0m \u001b[0;34m=\u001b[0m \u001b[0mnp\u001b[0m\u001b[0;34m.\u001b[0m\u001b[0mreshape\u001b[0m\u001b[0;34m(\u001b[0m\u001b[0mtvd_ideal_values\u001b[0m\u001b[0;34m,\u001b[0m\u001b[0;34m(\u001b[0m\u001b[0mx2\u001b[0m\u001b[0;34m,\u001b[0m\u001b[0mx1\u001b[0m\u001b[0;34m)\u001b[0m\u001b[0;34m)\u001b[0m\u001b[0;34m.\u001b[0m\u001b[0mT\u001b[0m\u001b[0;34m\u001b[0m\u001b[0m\n",
      "\u001b[0;31mNameError\u001b[0m: name 'munged' is not defined"
     ]
    }
   ],
   "source": [
    "tvd_rand_values = np.asarray([munged['TVD(data, rand)'][idx] for idx in munged.index])\n",
    "tvd_ideal_values = np.asarray([munged['TVD(data, ideal)'][idx] for idx in munged.index])\n",
    "Ztvd_rand = np.reshape(tvd_rand_values,(x2,x1)).T\n",
    "Ztvd_ideal = np.reshape(tvd_ideal_values,(x2,x1)).T"
   ]
  },
  {
   "cell_type": "code",
   "execution_count": 44,
   "metadata": {},
   "outputs": [
    {
     "ename": "NameError",
     "evalue": "name 'tvd_ideal_values' is not defined",
     "output_type": "error",
     "traceback": [
      "\u001b[0;31m---------------------------------------------------------------------------\u001b[0m",
      "\u001b[0;31mNameError\u001b[0m                                 Traceback (most recent call last)",
      "\u001b[0;32m<ipython-input-44-563da093d46f>\u001b[0m in \u001b[0;36m<module>\u001b[0;34m()\u001b[0m\n\u001b[0;32m----> 1\u001b[0;31m \u001b[0mtvd_ideal_values\u001b[0m\u001b[0;34m\u001b[0m\u001b[0m\n\u001b[0m\u001b[1;32m      2\u001b[0m \u001b[0mtvd_rand_values\u001b[0m\u001b[0;34m\u001b[0m\u001b[0m\n",
      "\u001b[0;31mNameError\u001b[0m: name 'tvd_ideal_values' is not defined"
     ]
    }
   ],
   "source": [
    "tvd_ideal_values\n",
    "tvd_rand_values"
   ]
  },
  {
   "cell_type": "code",
   "execution_count": null,
   "metadata": {},
   "outputs": [],
   "source": [
    "extent = min(res_df['Depth'])-0.5, max(res_df['Depth'])+0.5, min(res_df['Width'])-0.5, max(res_df['Width'])+0.5\n",
    "ax = plt.gca()\n",
    "img = ax.imshow(Ztvd_ideal, interpolation='none', extent=extent,\n",
    "                cmap='viridis', origin='lowerleft', vmin=0.0,vmax=1.0)\n",
    "\n",
    "xticks = np.arange(1,max(res_df['Depth'])+1)\n",
    "ax.set_xticks(xticks)\n",
    "ax.set_xticklabels(map(str, xticks))\n",
    "\n",
    "yticks = np.arange(1,max(res_df['Width'])+1)\n",
    "ax.set_yticks(yticks)\n",
    "ax.set_yticklabels(map(str, yticks))\n",
    "\n",
    "ax.set_aspect('equal')\n",
    "plt.colorbar(img, ax=ax)\n",
    "plt.xlabel('Depth')\n",
    "plt.ylabel('Width')\n",
    "plt.title('Success Probability of Random Guess')\n",
    "plt.show()"
   ]
  },
  {
   "cell_type": "code",
   "execution_count": null,
   "metadata": {},
   "outputs": [],
   "source": [
    "extent = min(res_df['Depth'])-0.5, max(res_df['Depth'])+0.5, min(res_df['Width'])-0.5, max(res_df['Width'])+0.5\n",
    "ax = plt.gca()\n",
    "img = ax.imshow(Ztvd_rand, interpolation='none', extent=extent,\n",
    "                cmap='viridis', origin='lowerleft', vmin=0.0,vmax=1.0)\n",
    "\n",
    "xticks = np.arange(1,max(res_df['Depth'])+1)\n",
    "ax.set_xticks(xticks)\n",
    "ax.set_xticklabels(map(str, xticks))\n",
    "\n",
    "yticks = np.arange(1,max(res_df['Width'])+1)\n",
    "ax.set_yticks(yticks)\n",
    "ax.set_yticklabels(map(str, yticks))\n",
    "\n",
    "ax.set_aspect('equal')\n",
    "plt.colorbar(img, ax=ax)\n",
    "plt.xlabel('Depth')\n",
    "plt.ylabel('Width')\n",
    "plt.title('Success Probability of Random Guess')\n",
    "plt.show()"
   ]
  },
  {
   "cell_type": "code",
   "execution_count": null,
   "metadata": {},
   "outputs": [],
   "source": [
    "loge_rand_values = np.asarray([munged['Pr. success loge rand'][idx] for idx in munged.index])\n",
    "loge_data_values = np.asarray([munged['Pr. success loge data'][idx] for idx in munged.index])\n",
    "Zlge_rand = np.reshape(loge_rand_values,(x2,x1)).T\n",
    "Zlge_data = np.reshape(loge_data_values,(x2,x1)).T"
   ]
  },
  {
   "cell_type": "code",
   "execution_count": null,
   "metadata": {},
   "outputs": [],
   "source": [
    "extent = min(res_df['Depth'])-0.5, max(res_df['Depth'])+0.5, min(res_df['Width'])-0.5, max(res_df['Width'])+0.5\n",
    "ax = plt.gca()\n",
    "img = ax.imshow(Zlge_data, interpolation='none', extent=extent,\n",
    "                cmap='viridis', origin='lowerleft', vmin=0.0,vmax=1.0)\n",
    "\n",
    "xticks = np.arange(1,max(res_df['Depth'])+1)\n",
    "ax.set_xticks(xticks)\n",
    "ax.set_xticklabels(map(str, xticks))\n",
    "\n",
    "yticks = np.arange(1,max(res_df['Width'])+1)\n",
    "ax.set_yticks(yticks)\n",
    "ax.set_yticklabels(map(str, yticks))\n",
    "\n",
    "ax.set_aspect('equal')\n",
    "plt.colorbar(img, ax=ax)\n",
    "plt.xlabel('Depth')\n",
    "plt.ylabel('Width')\n",
    "plt.title('Success Probability of Random Guess')\n",
    "plt.show()"
   ]
  },
  {
   "cell_type": "code",
   "execution_count": null,
   "metadata": {},
   "outputs": [],
   "source": [
    "extent = min(res_df['Depth'])-0.5, max(res_df['Depth'])+0.5, min(res_df['Width'])-0.5, max(res_df['Width'])+0.5\n",
    "ax = plt.gca()\n",
    "img = ax.imshow(Zlge_rand, interpolation='none', extent=extent,\n",
    "                cmap='viridis', origin='lowerleft', vmin=0.0,vmax=1.0)\n",
    "\n",
    "xticks = np.arange(1,max(res_df['Depth'])+1)\n",
    "ax.set_xticks(xticks)\n",
    "ax.set_xticklabels(map(str, xticks))\n",
    "\n",
    "yticks = np.arange(1,max(res_df['Width'])+1)\n",
    "ax.set_yticks(yticks)\n",
    "ax.set_yticklabels(map(str, yticks))\n",
    "\n",
    "ax.set_aspect('equal')\n",
    "plt.colorbar(img, ax=ax)\n",
    "plt.xlabel('Depth')\n",
    "plt.ylabel('Width')\n",
    "plt.title('Success Probability of Random Guess')\n",
    "plt.show()"
   ]
  },
  {
   "cell_type": "markdown",
   "metadata": {},
   "source": [
    "## Plot the distribution of sublattice widths"
   ]
  },
  {
   "cell_type": "code",
   "execution_count": null,
   "metadata": {},
   "outputs": [],
   "source": [
    "G = perfect_qc.qubit_topology()\n",
    "len(perfect_qc.qubit_topology())\n",
    "# distribution of graph lengths\n",
    "distr = []\n",
    "for num_nodes in range(1, len(G.nodes) + 1):\n",
    "    listg = generate_connected_subgraphs(G, num_nodes)\n",
    "    distr.append(len(listg))\n",
    "\n",
    "cir_wid = list(range(1, len(G.nodes) + 1))\n",
    "plt.bar(cir_wid, distr, width=0.61, align='center')\n",
    "plt.xticks(cir_wid)\n",
    "plt.xlabel('sublattice / circuit width')\n",
    "plt.ylabel('Frequency of Occurence')\n",
    "plt.grid(axis='y', alpha=0.75)\n",
    "plt.title('Distribution of sublattice widths')\n",
    "plt.show()"
   ]
  },
  {
   "cell_type": "markdown",
   "metadata": {},
   "source": [
    "# Data exploration"
   ]
  },
  {
   "cell_type": "code",
   "execution_count": null,
   "metadata": {},
   "outputs": [],
   "source": [
    "from scipy.optimize import curve_fit"
   ]
  },
  {
   "cell_type": "code",
   "execution_count": null,
   "metadata": {},
   "outputs": [],
   "source": [
    "size = Y.shape\n",
    "width_1d = Y.reshape((1,np.prod(size)))\n",
    "depth_1d = X.reshape((1,np.prod(size)))"
   ]
  },
  {
   "cell_type": "code",
   "execution_count": null,
   "metadata": {},
   "outputs": [],
   "source": [
    "data_1d = Zdata.reshape((1,np.prod(size)))\n",
    "data_1d.shape\n",
    "width_1d.shape\n"
   ]
  },
  {
   "cell_type": "code",
   "execution_count": null,
   "metadata": {},
   "outputs": [],
   "source": [
    "dims = np.zeros_like(width_1d)\n",
    "dims[0,0] = size[0]\n",
    "dims[0,1] = size[1]\n",
    "\n",
    "xdata = np.vstack((dims,width_1d, depth_1d))\n",
    "\n",
    "\n",
    "\n",
    "xdata"
   ]
  },
  {
   "cell_type": "markdown",
   "metadata": {},
   "source": [
    "## Fitting models"
   ]
  },
  {
   "cell_type": "markdown",
   "metadata": {},
   "source": [
    "Two parameter model \n",
    "\n",
    "\n",
    "$f(W,D,p_W,p_D) =  (1-p_W)^W * (1-p_D)^D $\n",
    "\n",
    "The fidelity is proporional to $1 - p$"
   ]
  },
  {
   "cell_type": "code",
   "execution_count": null,
   "metadata": {},
   "outputs": [],
   "source": [
    "def two_param(x,pw,pd):\n",
    "    temp = x[0]\n",
    "    wid = temp[0]\n",
    "    dep = temp[1]\n",
    "    width = x[1].reshape(wid,dep)\n",
    "    depth = x[2].reshape(wid,dep)\n",
    "    pcheck = (1-pw)**(width) * (1-pd)**depth\n",
    "    rpcheck = pcheck.reshape((1,wid*dep))\n",
    "    return rpcheck.ravel()"
   ]
  },
  {
   "cell_type": "markdown",
   "metadata": {},
   "source": [
    "One parameter model\n",
    "\n",
    "$f(W,D,p) =  (1-p)^{W * D} $"
   ]
  },
  {
   "cell_type": "code",
   "execution_count": null,
   "metadata": {},
   "outputs": [],
   "source": [
    "def one_param(x,p):\n",
    "    temp = x[0]\n",
    "    wid = temp[0]\n",
    "    dep = temp[1]\n",
    "    width = x[1].reshape(wid,dep)\n",
    "    depth = x[2].reshape(wid,dep)\n",
    "    pcheck = (1-p)**(width*depth)\n",
    "    rpcheck = pcheck.reshape((1,wid*dep))\n",
    "    return rpcheck.ravel()"
   ]
  },
  {
   "cell_type": "markdown",
   "metadata": {},
   "source": [
    "From my prior work a better model to fit to is\n",
    "\n",
    "Pcheck$(W,D,p,a,b,c) = \\exp[ -(a p^2 + b p + c)* W*D] $\n"
   ]
  },
  {
   "cell_type": "code",
   "execution_count": null,
   "metadata": {},
   "outputs": [],
   "source": [
    "def two_param_exp(x,p,a,b):\n",
    "    temp = x[0]\n",
    "    wid = temp[0]\n",
    "    dep = temp[1]\n",
    "    width = x[1].reshape(wid,dep)\n",
    "    depth = x[2].reshape(wid,dep)\n",
    "    pcheck = np.exp(-(a*p + b) * width * depth)\n",
    "    rpcheck = pcheck.reshape((1,wid*dep))\n",
    "    return rpcheck.ravel()"
   ]
  },
  {
   "cell_type": "markdown",
   "metadata": {},
   "source": [
    "**Start with one paramter model**"
   ]
  },
  {
   "cell_type": "code",
   "execution_count": null,
   "metadata": {},
   "outputs": [],
   "source": [
    "pguess = 0.1\n",
    "popt, pcov = curve_fit(one_param, xdata, data_1d.ravel(), p0=pguess, bounds=(0, 1))"
   ]
  },
  {
   "cell_type": "code",
   "execution_count": null,
   "metadata": {},
   "outputs": [],
   "source": [
    "print('The estimated error is p = ', str(np.round(popt[0],4)))\n",
    "print('The estimated product of the one and two qubit fidelity is F = ', str(1-np.round(popt[0],4)))\n",
    "#print('The one standard deviation on the estimate is ', str(np.round(np.sqrt(np.diag(pcov)[0]),5)))"
   ]
  },
  {
   "cell_type": "code",
   "execution_count": null,
   "metadata": {},
   "outputs": [],
   "source": [
    "zfit = one_param(xdata,popt)\n",
    "Z_fit = zfit.reshape(size)"
   ]
  },
  {
   "cell_type": "code",
   "execution_count": null,
   "metadata": {},
   "outputs": [],
   "source": [
    "plt.pcolormesh(X,Y, Z_fit)\n",
    "plt.xticks(list(range(1,circuit_depth+1)))\n",
    "plt.yticks(list(range(1,circuit_width+1)))\n",
    "plt.colorbar()\n",
    "plt.show()"
   ]
  },
  {
   "cell_type": "code",
   "execution_count": null,
   "metadata": {},
   "outputs": [],
   "source": [
    "plt.pcolormesh(X,Y,Zdata)\n",
    "plt.xticks(list(range(1,circuit_depth+1)))\n",
    "plt.yticks(list(range(1,circuit_width+1)))\n",
    "plt.colorbar()\n",
    "plt.show()"
   ]
  },
  {
   "cell_type": "markdown",
   "metadata": {},
   "source": [
    "**Two parameter model**"
   ]
  },
  {
   "cell_type": "code",
   "execution_count": null,
   "metadata": {},
   "outputs": [],
   "source": [
    "pguess2d = [0.0276, 0.01, 0.4]"
   ]
  },
  {
   "cell_type": "code",
   "execution_count": null,
   "metadata": {},
   "outputs": [],
   "source": [
    "popt2d, pcov2d = curve_fit(two_param_exp, xdata, data_1d.ravel(), p0=pguess2d , bounds=(0., 1))"
   ]
  },
  {
   "cell_type": "code",
   "execution_count": null,
   "metadata": {},
   "outputs": [],
   "source": [
    "popt2d"
   ]
  },
  {
   "cell_type": "code",
   "execution_count": null,
   "metadata": {},
   "outputs": [],
   "source": [
    "zfit2d = two_param(xdata,popt2d[0],popt2d[1])\n",
    "Z_fit2d = zfit2d.reshape(size)"
   ]
  },
  {
   "cell_type": "code",
   "execution_count": null,
   "metadata": {},
   "outputs": [],
   "source": [
    "plt.pcolormesh(X,Y, Z_fit2d)\n",
    "plt.xticks(list(range(1,circuit_depth+1)))\n",
    "plt.yticks(list(range(1,circuit_width+1)))\n",
    "plt.colorbar()\n",
    "plt.show()"
   ]
  },
  {
   "cell_type": "code",
   "execution_count": null,
   "metadata": {},
   "outputs": [],
   "source": [
    "1-1.02319786e-01"
   ]
  },
  {
   "cell_type": "code",
   "execution_count": null,
   "metadata": {},
   "outputs": [],
   "source": []
  }
 ],
 "metadata": {
  "kernelspec": {
   "display_name": "Python 3",
   "language": "python",
   "name": "python3"
  },
  "language_info": {
   "codemirror_mode": {
    "name": "ipython",
    "version": 3
   },
   "file_extension": ".py",
   "mimetype": "text/x-python",
   "name": "python",
   "nbconvert_exporter": "python",
   "pygments_lexer": "ipython3",
   "version": "3.6.5"
  }
 },
 "nbformat": 4,
 "nbformat_minor": 2
}
