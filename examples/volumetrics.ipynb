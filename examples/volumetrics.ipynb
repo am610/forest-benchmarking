{
 "cells": [
  {
   "cell_type": "markdown",
   "metadata": {},
   "source": [
    "# Volumetrics\n",
    "\n",
    "\n",
    "This module that generates circuits on a graph which represents the QPU or QVM lattice. The basic idea is it will compute error rates of circuits as a function of depth and width.\n",
    "\n",
    "The `width` of the circuit is the number of connected vertices on a particular subgraph.\n",
    "\n",
    "The `depth` is defined in context-dependent way; to avoid confusion with circuit depth we may use the term 'repetitions'."
   ]
  },
  {
   "cell_type": "code",
   "execution_count": 1,
   "metadata": {},
   "outputs": [],
   "source": [
    "import random\n",
    "import itertools\n",
    "import networkx as nx\n",
    "import numpy as np\n",
    "import time\n",
    "# from scipy.spatial.distance import hamming\n",
    "# import scipy.interpolate\n",
    "\n",
    "from matplotlib import pyplot as plt\n",
    "from pyquil.api import get_qc, QuantumComputer, get_benchmarker\n",
    "from pyquil.gates import CNOT, CCNOT, Z, X, I, H, CZ, MEASURE, RESET\n",
    "from pyquil.quilbase import Pragma\n",
    "\n",
    "from forest.benchmarking.volumetrics import *"
   ]
  },
  {
   "cell_type": "markdown",
   "metadata": {},
   "source": [
    "## Get lattice"
   ]
  },
  {
   "cell_type": "code",
   "execution_count": 2,
   "metadata": {},
   "outputs": [],
   "source": [
    "# if you want to run on a \"real lattice\"\n",
    "from pyquil import *\n",
    "#list_quantum_computers()\n",
    "#perfect_qc = get_qc(\"Aspen-1-16Q-A\", as_qvm=True, noisy=False)\n",
    "#noisy_qc = get_qc(\"Aspen-1-16Q-A\") #, as_qvm=True, noisy=True)\n",
    "\n",
    "noisy_qc = get_qc(\"9q-square-qvm\", as_qvm=True, noisy=True)\n",
    "perfect_qc = get_qc(\"9q-square-qvm\", as_qvm=True, noisy=False)"
   ]
  },
  {
   "cell_type": "code",
   "execution_count": 3,
   "metadata": {},
   "outputs": [
    {
     "name": "stderr",
     "output_type": "stream",
     "text": [
      "/home/kylegulshen/anaconda3/lib/python3.6/site-packages/networkx/drawing/nx_pylab.py:518: MatplotlibDeprecationWarning: \n",
      "The iterable function was deprecated in Matplotlib 3.1 and will be removed in 3.3. Use np.iterable instead.\n",
      "  if not cb.iterable(width):\n",
      "/home/kylegulshen/anaconda3/lib/python3.6/site-packages/networkx/drawing/nx_pylab.py:565: MatplotlibDeprecationWarning: \n",
      "The is_numlike function was deprecated in Matplotlib 3.0 and will be removed in 3.2. Use isinstance(..., numbers.Number) instead.\n",
      "  if cb.is_numlike(alpha):\n"
     ]
    },
    {
     "data": {
      "image/png": "[encoded data removed]",
      "text/plain": [
       "<Figure size 432x288 with 1 Axes>"
      ]
     },
     "metadata": {},
     "output_type": "display_data"
    }
   ],
   "source": [
    "nx.draw(perfect_qc.qubit_topology(),with_labels=True)"
   ]
  },
  {
   "cell_type": "code",
   "execution_count": 4,
   "metadata": {},
   "outputs": [],
   "source": [
    "G = perfect_qc.qubit_topology()"
   ]
  },
  {
   "cell_type": "markdown",
   "metadata": {},
   "source": [
    "## Gate sets\n",
    "\n",
    "### Classical"
   ]
  },
  {
   "cell_type": "code",
   "execution_count": 5,
   "metadata": {},
   "outputs": [],
   "source": [
    "def two_q_id(qb1,qb2):\n",
    "    prog = Program()\n",
    "    prog +=I(qb1)\n",
    "    prog +=I(qb2)\n",
    "    return prog\n",
    "\n",
    "one_c_gates = [X,I]\n",
    "two_c_gates = [two_q_id, CNOT]\n",
    "two_c_toffoli = two_c_gates + [CCNOT]\n",
    "\n",
    "# x basis gates\n",
    "from forest.benchmarking.classical_logic import CNOT_X_basis, CCNOT_X_basis\n",
    "one_x_c_gates = [Z, I]\n",
    "two_x_c_gates = [two_q_id, CNOT_X_basis]\n",
    "two_x_c_toffoli = two_x_c_gates + [CCNOT_X_basis]\n",
    "# if you want to do something in the X basis, add Hadamard layers appropriately; see below."
   ]
  },
  {
   "cell_type": "markdown",
   "metadata": {},
   "source": [
    "### Some quantum"
   ]
  },
  {
   "cell_type": "code",
   "execution_count": 6,
   "metadata": {},
   "outputs": [],
   "source": [
    "one_q_gates = [X,Z,I]\n",
    "two_q_gates = [two_q_id,CZ]"
   ]
  },
  {
   "cell_type": "markdown",
   "metadata": {},
   "source": [
    "### Random Cliffords\n",
    "\n",
    "We use a benchmarker for this. Typically we use the native gates from `get_rb_gateset` to implement each clifford."
   ]
  },
  {
   "cell_type": "code",
   "execution_count": 7,
   "metadata": {},
   "outputs": [],
   "source": [
    "from forest.benchmarking.randomized_benchmarking import get_rb_gateset"
   ]
  },
  {
   "cell_type": "code",
   "execution_count": 8,
   "metadata": {},
   "outputs": [],
   "source": [
    "# my config has gone all cattywampus so i need to do this\n",
    "bm = get_benchmarker()#endpoint='tcp://localhost:6000')"
   ]
  },
  {
   "cell_type": "code",
   "execution_count": 9,
   "metadata": {},
   "outputs": [
    {
     "data": {
      "text/plain": [
       "'tcp://127.0.0.1:5555'"
      ]
     },
     "execution_count": 9,
     "metadata": {},
     "output_type": "execute_result"
    }
   ],
   "source": [
    "bm.client.endpoint"
   ]
  },
  {
   "cell_type": "markdown",
   "metadata": {},
   "source": [
    "## Get random gates on a graph"
   ]
  },
  {
   "cell_type": "code",
   "execution_count": 10,
   "metadata": {},
   "outputs": [
    {
     "name": "stdout",
     "output_type": "stream",
     "text": [
      "Z 0\n",
      "I 1\n",
      "X 2\n",
      "X 3\n",
      "Z 4\n",
      "I 5\n",
      "X 6\n",
      "Z 7\n",
      "X 8\n",
      "I 0\n",
      "I 3\n",
      "CZ 0 1\n",
      "I 1\n",
      "I 4\n",
      "CZ 1 2\n",
      "CZ 2 5\n",
      "CZ 3 6\n",
      "CZ 3 4\n",
      "I 4\n",
      "I 7\n",
      "CZ 4 5\n",
      "I 5\n",
      "I 8\n",
      "CZ 6 7\n",
      "I 7\n",
      "I 8\n",
      "\n"
     ]
    }
   ],
   "source": [
    "prog1 = random_single_qubit_gates(G, one_q_gates)\n",
    "prog2 = random_two_qubit_gates(G, two_q_gates)\n",
    "print(prog1+prog2)"
   ]
  },
  {
   "cell_type": "code",
   "execution_count": 11,
   "metadata": {},
   "outputs": [
    {
     "name": "stdout",
     "output_type": "stream",
     "text": [
      "RZ(-pi/2) 0\n",
      "RX(-pi/2) 1\n",
      "RZ(pi/2) 1\n",
      "RX(-pi/2) 1\n",
      "RZ(-pi/2) 2\n",
      "RX(-pi) 2\n",
      "RZ(-pi/2) 3\n",
      "RX(-pi) 3\n",
      "RX(-pi) 4\n",
      "RZ(pi/2) 5\n",
      "RZ(-pi/2) 6\n",
      "RX(-pi/2) 6\n",
      "RZ(-pi/2) 7\n",
      "RX(-pi/2) 7\n",
      "RX(pi/2) 8\n",
      "RZ(-pi/2) 8\n",
      "RX(-pi/2) 8\n",
      "\n"
     ]
    }
   ],
   "source": [
    "progy = random_single_qubit_cliffords(bm, G)\n",
    "print(progy)"
   ]
  },
  {
   "cell_type": "markdown",
   "metadata": {},
   "source": [
    "## Make some circuit templates and sample programs from them\n"
   ]
  },
  {
   "cell_type": "code",
   "execution_count": 12,
   "metadata": {},
   "outputs": [
    {
     "name": "stdout",
     "output_type": "stream",
     "text": [
      "I 3\n",
      "I 6\n",
      "X 3\n",
      "I 6\n",
      "\n"
     ]
    }
   ],
   "source": [
    "classical_1q_layer = get_rand_1q_template(one_c_gates)\n",
    "print(classical_1q_layer.sample_program(G, repetitions=2, width=2))"
   ]
  },
  {
   "cell_type": "code",
   "execution_count": 13,
   "metadata": {},
   "outputs": [
    {
     "name": "stdout",
     "output_type": "stream",
     "text": [
      "I 0\n",
      "I 3\n",
      "I 0\n",
      "I 3\n",
      "\n"
     ]
    }
   ],
   "source": [
    "classical_2q_layer = get_rand_2q_template(two_c_gates)\n",
    "print(classical_2q_layer.sample_program(G, repetitions=2, width=2))"
   ]
  },
  {
   "cell_type": "code",
   "execution_count": 14,
   "metadata": {},
   "outputs": [
    {
     "name": "stdout",
     "output_type": "stream",
     "text": [
      "H 1\n",
      "H 2\n",
      "H 4\n",
      "H 7\n",
      "\n"
     ]
    }
   ],
   "source": [
    "switch_basis_layer = get_switch_basis_x_z_template()\n",
    "print(switch_basis_layer.sample_program(G, repetitions=1, width=4))"
   ]
  },
  {
   "cell_type": "code",
   "execution_count": 15,
   "metadata": {},
   "outputs": [
    {
     "name": "stdout",
     "output_type": "stream",
     "text": [
      "CZ 4 7\n",
      "RZ(-pi/2) 7\n",
      "RX(pi/2) 7\n",
      "RX(-pi/2) 4\n",
      "CZ 4 7\n",
      "RX(-pi/2) 4\n",
      "CZ 4 7\n",
      "RX(pi/2) 4\n",
      "CZ 4 7\n",
      "RX(pi/2) 7\n",
      "RX(pi/2) 4\n",
      "CZ 4 7\n",
      "RX(-pi/2) 4\n",
      "RZ(pi/2) 4\n",
      "RX(-pi/2) 4\n",
      "\n"
     ]
    }
   ],
   "source": [
    "clifford_1q_layer = get_rand_1q_cliff_template(bm)\n",
    "clifford_2q_layer = get_rand_2q_cliff_template(bm)\n",
    "print(clifford_2q_layer.sample_program(G, repetitions=2, width=2))"
   ]
  },
  {
   "cell_type": "code",
   "execution_count": 16,
   "metadata": {},
   "outputs": [
    {
     "name": "stdout",
     "output_type": "stream",
     "text": [
      "RZ(1.4594683462000786) 0\n",
      "RX(pi/2) 0\n",
      "RZ(1.0243900534343162) 0\n",
      "RX(-pi/2) 0\n",
      "RZ(1.9310896318515138) 1\n",
      "RX(pi/2) 1\n",
      "RZ(2.1890957456453397) 1\n",
      "RX(-pi/2) 1\n",
      "CZ 1 0\n",
      "RZ(-0.6622997930375671) 0\n",
      "RX(pi/2) 0\n",
      "RZ(1.9828557178909971) 1\n",
      "RX(-pi/2) 1\n",
      "CZ 1 0\n",
      "RX(-pi/2) 0\n",
      "RX(pi/2) 1\n",
      "CZ 1 0\n",
      "RZ(-1.058016381779542) 0\n",
      "RX(pi/2) 0\n",
      "RZ(2.41382240722402) 0\n",
      "RX(-pi/2) 0\n",
      "RZ(-1.285005356809755) 0\n",
      "RZ(-2.4846463293283545) 1\n",
      "RX(pi/2) 1\n",
      "RZ(2.123977194138851) 1\n",
      "RX(-pi/2) 1\n",
      "RZ(0.4963073279217695) 1\n",
      "\n"
     ]
    }
   ],
   "source": [
    "rand_perm_layer = get_rand_qubit_perm_template()\n",
    "# sometimes this returns an empty program, i.e. no permutation\n",
    "print(rand_perm_layer.sample_program(G, 1, qc=noisy_qc, width=3))"
   ]
  },
  {
   "cell_type": "code",
   "execution_count": 17,
   "metadata": {},
   "outputs": [
    {
     "name": "stdout",
     "output_type": "stream",
     "text": [
      "RZ(1.8557603976473196) 2\n",
      "RX(pi/2) 2\n",
      "RZ(0.7251833997059203) 2\n",
      "RX(-pi/2) 2\n",
      "RZ(-0.1999478754078161) 5\n",
      "RX(pi/2) 5\n",
      "RZ(0.8979922527579525) 5\n",
      "RX(-pi/2) 5\n",
      "CZ 5 2\n",
      "RZ(2.25700516641314) 2\n",
      "RX(pi/2) 2\n",
      "RZ(2.399886548789372) 2\n",
      "RX(-pi/2) 2\n",
      "RZ(-1.424775614897118) 5\n",
      "RX(-pi/2) 5\n",
      "CZ 5 2\n",
      "RX(pi/2) 2\n",
      "RZ(-1.727052862487164) 2\n",
      "RX(-pi/2) 2\n",
      "RZ(1.4404838838072855) 5\n",
      "RX(pi/2) 5\n",
      "CZ 5 2\n",
      "RZ(2.8183740988822845) 2\n",
      "RX(pi/2) 2\n",
      "RZ(1.1724242573000176) 2\n",
      "RX(-pi/2) 2\n",
      "RZ(0.9844594158963185) 2\n",
      "RZ(-2.5389634138457637) 5\n",
      "RX(pi/2) 5\n",
      "RZ(1.9227325522942578) 5\n",
      "RX(-pi/2) 5\n",
      "RZ(-3.032666685630888) 5\n",
      "\n"
     ]
    }
   ],
   "source": [
    "rand_su4_layer = get_rand_su4_template()\n",
    "print(rand_su4_layer.sample_program(G, 1, qc=noisy_qc, width=2))"
   ]
  },
  {
   "cell_type": "markdown",
   "metadata": {},
   "source": [
    "## Compose templates"
   ]
  },
  {
   "cell_type": "code",
   "execution_count": 18,
   "metadata": {},
   "outputs": [
    {
     "name": "stdout",
     "output_type": "stream",
     "text": [
      "X 2\n",
      "I 4\n",
      "I 5\n",
      "X 8\n",
      "CNOT 2 5\n",
      "CNOT 4 5\n",
      "CNOT 5 8\n",
      "X 2\n",
      "I 4\n",
      "I 5\n",
      "X 8\n",
      "I 2\n",
      "I 5\n",
      "I 4\n",
      "I 5\n",
      "I 5\n",
      "I 8\n",
      "\n"
     ]
    }
   ],
   "source": [
    "classical_1q_2q = classical_1q_layer + classical_2q_layer\n",
    "print(classical_1q_2q.sample_program(G, repetitions=2, width=4))"
   ]
  },
  {
   "cell_type": "markdown",
   "metadata": {},
   "source": [
    "Classical Logic in X basis"
   ]
  },
  {
   "cell_type": "code",
   "execution_count": 19,
   "metadata": {},
   "outputs": [
    {
     "name": "stdout",
     "output_type": "stream",
     "text": [
      "H 3\n",
      "H 6\n",
      "I 3\n",
      "Z 6\n",
      "H 3\n",
      "CZ 3 6\n",
      "H 3\n",
      "Z 3\n",
      "Z 6\n",
      "H 3\n",
      "CZ 3 6\n",
      "H 3\n",
      "Z 3\n",
      "I 6\n",
      "I 3\n",
      "I 6\n",
      "H 3\n",
      "H 6\n",
      "\n"
     ]
    }
   ],
   "source": [
    "logic_layers = get_rand_1q_template(one_x_c_gates) + get_rand_2q_template(two_x_c_gates)\n",
    "classical_x_1q_2q = switch_basis_layer + logic_layers + switch_basis_layer\n",
    "# here we demonstrate a simple use of a pattern. We want to do the basis switch at beginning and end \n",
    "# while doing the repetitions in between some variable number of times.\n",
    "# The pattern says to do the 0 idx generator, do [1,2] idx generators n times, then finish with 3 idx generator\n",
    "classical_x_1q_2q.pattern = [0, ([1, 2], 'n'), 3]\n",
    "print(classical_x_1q_2q.sample_program(G, repetitions=3, width=2))\n",
    "# note that the x basis CNOT(0, 1) is H(0) CZ(0, 1) H(0)"
   ]
  },
  {
   "cell_type": "code",
   "execution_count": 20,
   "metadata": {},
   "outputs": [
    {
     "name": "stdout",
     "output_type": "stream",
     "text": [
      "RX(pi/2) 3\n",
      "RX(-pi) 6\n",
      "RZ(-pi/2) 6\n",
      "RX(-pi/2) 6\n",
      "CZ 3 6\n",
      "RX(pi/2) 3\n",
      "CZ 3 6\n",
      "RZ(pi/2) 3\n",
      "RZ(-pi/2) 3\n",
      "RX(-pi) 3\n",
      "RX(pi/2) 6\n",
      "RZ(-pi) 6\n",
      "RX(pi/2) 6\n",
      "RX(pi/2) 3\n",
      "CZ 3 6\n",
      "RX(pi/2) 6\n",
      "RZ(-pi/2) 3\n",
      "RX(pi/2) 3\n",
      "CZ 3 6\n",
      "RZ(-pi/2) 3\n",
      "RX(-pi) 3\n",
      "RX(-pi/2) 6\n",
      "RX(-pi/2) 3\n",
      "CZ 3 6\n",
      "RX(pi/2) 6\n",
      "RX(-pi/2) 3\n",
      "CZ 3 6\n",
      "RX(-pi/2) 6\n",
      "RZ(-pi/2) 3\n",
      "RX(-pi/2) 3\n",
      "RX(pi/2) 3\n",
      "RZ(1.598215249600061) 3\n",
      "RX(-pi/2) 3\n",
      "RX(pi/2) 6\n",
      "RZ(0.6500806106097443) 6\n",
      "RX(-pi/2) 6\n",
      "CZ 3 6\n",
      "RZ(pi) 3\n",
      "RX(pi/2) 3\n",
      "RX(pi/2) 6\n",
      "CZ 3 6\n",
      "RZ(pi) 3\n",
      "RX(pi/2) 3\n",
      "RZ(0.9207157161851534) 3\n",
      "RX(pi/2) 6\n",
      "RZ(3.11417373078463) 6\n",
      "RX(-pi/2) 6\n",
      "RZ(-pi/2) 6\n",
      "\n",
      "This program compiles away to nothing: \n",
      "HALT\n",
      "\n"
     ]
    }
   ],
   "source": [
    "clifford_sandwich = clifford_1q_layer + clifford_2q_layer + get_dagger_all_template()\n",
    "# here we demonstrate another simple use of a pattern. We want to do some Clifford layers n=reps\n",
    "# number of times and then dagger the result of all those reps. \n",
    "clifford_sandwich.pattern = [([0, 1], 'n'), -1]\n",
    "prog = clifford_sandwich.sample_program(G, repetitions=3, width=2,  qc=noisy_qc)\n",
    "print(prog)\n",
    "\n",
    "# We can check that this is the identity by compiling it fully\n",
    "print(\"This program compiles away to nothing: \")\n",
    "print(noisy_qc.compiler.quil_to_native_quil(prog))"
   ]
  },
  {
   "cell_type": "markdown",
   "metadata": {},
   "source": [
    "### Quantum Volume (unoptimized)"
   ]
  },
  {
   "cell_type": "code",
   "execution_count": 21,
   "metadata": {},
   "outputs": [
    {
     "name": "stdout",
     "output_type": "stream",
     "text": [
      "RZ(0.758348409269925) 3\n",
      "RX(pi/2) 3\n",
      "RZ(1.7630700871127511) 3\n",
      "RX(-pi/2) 3\n",
      "RZ(0.06888378729568245) 3\n",
      "RZ(-pi/2) 6\n",
      "RX(pi/2) 6\n",
      "CZ 6 7\n",
      "RZ(2.5953963254157664) 2\n",
      "RX(pi/2) 2\n",
      "RZ(-pi/2) 5\n",
      "RX(pi/2) 5\n",
      "RZ(1.13234180443474) 5\n",
      "RX(-pi/2) 5\n",
      "CZ 5 2\n",
      "RZ(pi) 2\n",
      "RX(pi/2) 2\n",
      "RX(pi/2) 5\n",
      "CZ 5 2\n",
      "RX(-pi/2) 8\n",
      "RZ(2.7205361452995973) 4\n",
      "RX(pi/2) 4\n",
      "RZ(1.2543184374584302) 4\n",
      "RX(-pi/2) 4\n",
      "RZ(1.208609474957872) 7\n",
      "RX(pi/2) 7\n",
      "RZ(0.94147495985692) 7\n",
      "RX(-pi/2) 7\n",
      "CZ 7 4\n",
      "RZ(-2.0520996460608902) 4\n",
      "RX(pi/2) 4\n",
      "RZ(-2.53949116123707) 7\n",
      "RX(-pi/2) 7\n",
      "CZ 7 4\n",
      "RX(-pi/2) 4\n",
      "RX(pi/2) 7\n",
      "CZ 7 4\n",
      "RX(pi/2) 5\n",
      "RZ(pi/2) 8\n",
      "RX(pi/2) 8\n",
      "CZ 5 8\n",
      "RZ(-0.5221305937638101) 3\n",
      "RX(pi/2) 3\n",
      "RZ(2.558816414461174) 3\n",
      "RX(-pi/2) 3\n",
      "RZ(-1.949929968488697) 6\n",
      "RX(pi/2) 6\n",
      "RZ(2.9357743332570747) 6\n",
      "RX(-pi/2) 6\n",
      "CZ 3 6\n",
      "RZ(1.5884307184269622) 3\n",
      "RX(-pi/2) 3\n",
      "RZ(-0.011319042316977779) 6\n",
      "RX(pi/2) 6\n",
      "CZ 3 6\n",
      "RX(pi/2) 3\n",
      "RX(-pi/2) 6\n",
      "CZ 3 6\n",
      "RZ(0.6751470631856724) 4\n",
      "RX(pi/2) 4\n",
      "RZ(2.6655130904014928) 4\n",
      "RX(-pi/2) 4\n",
      "CZ 5 4\n",
      "RZ(-2.9349743099037617) 3\n",
      "RX(pi/2) 3\n",
      "RZ(1.9087088772488927) 3\n",
      "RX(-pi/2) 3\n",
      "RZ(1.5277383498463577) 4\n",
      "RX(pi/2) 4\n",
      "RZ(0.45916430288874793) 4\n",
      "RX(-pi/2) 4\n",
      "CZ 3 4\n",
      "RZ(0.0024518619620117477) 3\n",
      "RX(pi/2) 3\n",
      "RX(pi/2) 4\n",
      "CZ 3 4\n",
      "RX(pi/2) 4\n",
      "RZ(-0.8648293577208861) 4\n",
      "RX(pi/2) 4\n",
      "RZ(1.0245999986208698) 5\n",
      "RX(pi/2) 5\n",
      "CZ 4 5\n",
      "RX(pi/2) 3\n",
      "RX(-pi/2) 4\n",
      "CZ 4 3\n",
      "RZ(-2.658904419553418) 7\n",
      "RX(pi/2) 7\n",
      "RZ(0.5745905015087214) 7\n",
      "RX(-pi/2) 7\n",
      "RZ(0.03842194804433141) 8\n",
      "RX(pi/2) 8\n",
      "RZ(1.8397221653434963) 8\n",
      "RX(-pi/2) 8\n",
      "CZ 7 8\n",
      "RZ(0.6426269118296801) 7\n",
      "RX(-pi/2) 7\n",
      "RZ(-2.299604875835275) 8\n",
      "RX(pi/2) 8\n",
      "CZ 7 8\n",
      "RX(pi/2) 7\n",
      "RX(-pi/2) 8\n",
      "CZ 7 8\n",
      "RZ(-2.682428350701045) 3\n",
      "RX(-pi/2) 3\n",
      "CZ 4 5\n",
      "RZ(-pi/2) 4\n",
      "RX(pi/2) 4\n",
      "RZ(2.972685011137046) 4\n",
      "RX(-pi/2) 4\n",
      "RZ(3.1167222954807863) 7\n",
      "RX(pi/2) 7\n",
      "RZ(2.294313832241617) 7\n",
      "RX(-pi/2) 7\n",
      "CZ 7 4\n",
      "RX(pi/2) 4\n",
      "RZ(-1.8562367540991378) 7\n",
      "RX(pi/2) 7\n",
      "CZ 7 4\n",
      "RX(pi/2) 4\n",
      "RZ(pi/2) 5\n",
      "RX(pi/2) 5\n",
      "CZ 4 5\n",
      "RX(pi/2) 7\n",
      "RZ(1.4018886843421505) 7\n",
      "RZ(-3.0838366613280366) 4\n",
      "RX(pi/2) 4\n",
      "CZ 4 3\n",
      "RZ(-pi/2) 5\n",
      "RX(-pi/2) 4\n",
      "CZ 4 7\n",
      "RZ(1.0476682829777613) 8\n",
      "RX(pi/2) 8\n",
      "RZ(2.805298127629337) 8\n",
      "RX(-pi/2) 8\n",
      "RZ(-0.9856076551881756) 8\n",
      "RZ(pi) 3\n",
      "CZ 4 5\n",
      "RZ(2.167871977684073) 0\n",
      "RX(pi/2) 0\n",
      "RZ(1.5468957652957311) 0\n",
      "RX(-pi/2) 0\n",
      "RZ(-3.133140819180444) 0\n",
      "RZ(-0.06435604908673986) 3\n",
      "RX(pi/2) 3\n",
      "RZ(-0.2829699874818419) 4\n",
      "RX(pi/2) 4\n",
      "CZ 4 3\n",
      "RX(pi/2) 3\n",
      "RX(pi/2) 4\n",
      "CZ 4 3\n",
      "RZ(-1.576505910271143) 1\n",
      "RX(pi/2) 1\n",
      "RZ(0.5650686136177945) 1\n",
      "RX(-pi/2) 1\n",
      "RZ(-1.6503097610975117) 2\n",
      "RX(pi/2) 2\n",
      "RZ(1.394800547334296) 2\n",
      "RX(-pi/2) 2\n",
      "CZ 1 2\n",
      "RZ(3.0754408366994284) 1\n",
      "RX(-pi/2) 1\n",
      "RZ(2.806646488864824) 2\n",
      "RX(pi/2) 2\n",
      "CZ 1 2\n",
      "RX(pi/2) 1\n",
      "RX(-pi/2) 2\n",
      "CZ 1 2\n",
      "RX(pi/2) 4\n",
      "RZ(-1.5064402777081574) 4\n",
      "RX(pi/2) 4\n",
      "RZ(pi/2) 4\n",
      "RZ(0.8697895606696414) 0\n",
      "RX(pi/2) 0\n",
      "RZ(0.24639621294311195) 0\n",
      "RX(-pi/2) 0\n",
      "RZ(0.685679465338823) 3\n",
      "RX(pi/2) 3\n",
      "RZ(1.5003419110563132) 3\n",
      "RX(-pi/2) 3\n",
      "CZ 0 3\n",
      "RZ(1.5442907286607293) 0\n",
      "RX(-pi/2) 0\n",
      "RZ(1.3848106984301651) 3\n",
      "RX(pi/2) 3\n",
      "CZ 0 3\n",
      "RX(pi/2) 0\n",
      "RX(-pi/2) 3\n",
      "CZ 0 3\n",
      "RZ(-1.7112154040742151) 1\n",
      "RX(pi/2) 1\n",
      "RZ(1.7035747349048245) 1\n",
      "RX(-pi/2) 1\n",
      "CZ 1 4\n",
      "RZ(2.4538863531938344) 0\n",
      "RX(pi/2) 0\n",
      "RZ(1.6702766419787909) 0\n",
      "RX(-pi/2) 0\n",
      "RZ(-2.3705244991629346) 1\n",
      "RX(pi/2) 1\n",
      "CZ 1 0\n",
      "RZ(pi) 4\n",
      "RZ(-0.4553039352103099) 0\n",
      "RX(-pi/2) 1\n",
      "CZ 1 4\n",
      "RZ(1.2496950125913227) 5\n",
      "RX(pi/2) 5\n",
      "RZ(1.6313489926849816) 5\n",
      "RX(-pi/2) 5\n",
      "CZ 8 5\n",
      "RZ(-1.5493598809090132) 5\n",
      "RX(pi/2) 5\n",
      "RZ(-pi/2) 8\n",
      "RX(-pi/2) 8\n",
      "CZ 8 5\n",
      "RX(-pi/2) 5\n",
      "RX(pi/2) 8\n",
      "CZ 8 5\n",
      "RZ(pi) 0\n",
      "RX(pi/2) 0\n",
      "CZ 0 1\n",
      "RZ(-pi/2) 7\n",
      "RX(pi/2) 7\n",
      "RZ(1.9106332308705103) 8\n",
      "RX(pi/2) 8\n",
      "RZ(3.077361938403221) 8\n",
      "RX(-pi/2) 8\n",
      "CZ 8 7\n",
      "RZ(-pi/2) 0\n",
      "RX(-pi/2) 0\n",
      "RX(pi/2) 1\n",
      "RZ(-pi/2) 1\n",
      "RZ(1.0067174779898536) 2\n",
      "RX(pi/2) 2\n",
      "RZ(1.6062004554419482) 2\n",
      "RX(-pi/2) 2\n",
      "RZ(-3.079991065674415) 2\n",
      "RZ(2.9083343957197867) 3\n",
      "RX(pi/2) 3\n",
      "RZ(0.8848689508571836) 3\n",
      "RX(-pi/2) 3\n",
      "RZ(2.885850897738221) 3\n",
      "RZ(pi) 4\n",
      "RZ(1.230959422719298) 5\n",
      "RX(pi/2) 5\n",
      "RZ(3.07736193840322) 5\n",
      "RX(-pi/2) 5\n",
      "RZ(0.9092088683226551) 5\n",
      "RZ(-2.5087403748106825) 6\n",
      "RX(pi/2) 6\n",
      "RZ(0.5840111069057782) 6\n",
      "RX(-pi/2) 6\n",
      "RZ(0.0055388341768844995) 6\n",
      "RZ(pi) 7\n",
      "RX(pi/2) 7\n",
      "RZ(pi/2) 7\n",
      "RZ(2.2323837852671513) 8\n",
      "RZ(-0.2560683455106745) 2\n",
      "RX(pi/2) 2\n",
      "RZ(1.570036668739531) 2\n",
      "RX(-pi/2) 2\n",
      "RZ(-1.8538162272507495) 5\n",
      "RX(pi/2) 5\n",
      "RZ(0.154000963518133) 5\n",
      "RX(-pi/2) 5\n",
      "CZ 5 2\n",
      "RZ(-2.5825486990909337) 2\n",
      "RX(pi/2) 2\n",
      "RZ(2.270499284821014) 2\n",
      "RX(-pi/2) 2\n",
      "RZ(0.530108697145379) 5\n",
      "RX(-pi/2) 5\n",
      "CZ 5 2\n",
      "RX(pi/2) 2\n",
      "RZ(-1.7459350780906853) 2\n",
      "RX(-pi/2) 2\n",
      "RZ(1.90325973608803) 5\n",
      "RX(pi/2) 5\n",
      "CZ 5 2\n",
      "RZ(0.3845408993823281) 6\n",
      "RX(pi/2) 6\n",
      "RZ(0.8686156409389849) 6\n",
      "RX(-pi/2) 6\n",
      "RZ(-2.6501746499213965) 7\n",
      "RX(pi/2) 7\n",
      "RZ(1.7663801561654224) 7\n",
      "RX(-pi/2) 7\n",
      "CZ 7 6\n",
      "RZ(1.423130886425401) 6\n",
      "RX(pi/2) 6\n",
      "RZ(2.6979515527368476) 6\n",
      "RX(-pi/2) 6\n",
      "RZ(-0.5724955630874857) 7\n",
      "RX(-pi/2) 7\n",
      "CZ 7 6\n",
      "RX(pi/2) 6\n",
      "RZ(-2.1429117346980036) 6\n",
      "RX(-pi/2) 6\n",
      "RZ(1.4937880480906474) 7\n",
      "RX(pi/2) 7\n",
      "CZ 7 6\n",
      "RZ(-2.4062870916551002) 2\n",
      "RX(pi/2) 2\n",
      "RZ(2.5198281963452813) 2\n",
      "RX(-pi/2) 2\n",
      "RZ(-0.8485657458647236) 2\n",
      "RZ(-2.519011789607587) 5\n",
      "RX(pi/2) 5\n",
      "RZ(1.43247804833704) 5\n",
      "RX(-pi/2) 5\n",
      "RZ(2.5188821626801454) 5\n",
      "RZ(1.064030113984748) 6\n",
      "RX(pi/2) 6\n",
      "RZ(2.282798729042188) 6\n",
      "RX(-pi/2) 6\n",
      "RZ(-0.8654043830812093) 6\n",
      "RZ(-1.738222457022765) 7\n",
      "RX(pi/2) 7\n",
      "RZ(1.281261781889233) 7\n",
      "RX(-pi/2) 7\n",
      "RZ(1.4220315569292286) 7\n",
      "RZ(-pi/2) 7\n",
      "RX(pi/2) 7\n",
      "CZ 7 6\n",
      "RX(-pi/2) 4\n",
      "RZ(pi/2) 6\n",
      "RX(pi/2) 6\n",
      "CZ 3 6\n",
      "RZ(pi/2) 7\n",
      "RZ(pi/2) 3\n",
      "RX(pi/2) 3\n",
      "RZ(2.2414211829226542) 3\n",
      "RX(-pi/2) 3\n",
      "RX(pi/2) 4\n",
      "RZ(2.9178905906846415) 4\n",
      "RX(-pi/2) 4\n",
      "CZ 3 4\n",
      "RZ(pi) 3\n",
      "RX(pi/2) 3\n",
      "RZ(pi) 4\n",
      "RX(pi/2) 4\n",
      "CZ 3 4\n",
      "RX(pi/2) 6\n",
      "RZ(3.102874633029532) 6\n",
      "RX(-pi/2) 6\n",
      "RZ(1.114331243960394) 7\n",
      "RX(pi/2) 7\n",
      "CZ 7 6\n",
      "RX(pi/2) 6\n",
      "RX(pi/2) 7\n",
      "CZ 7 6\n",
      "RX(pi/2) 3\n",
      "RX(pi/2) 6\n",
      "CZ 6 3\n",
      "RZ(-1.545440555463482) 4\n",
      "RX(pi/2) 4\n",
      "RZ(2.5675842551750945) 4\n",
      "RX(-pi/2) 4\n",
      "RZ(2.3733794910861183) 7\n",
      "RX(pi/2) 7\n",
      "RZ(0.4601371983346839) 7\n",
      "RX(-pi/2) 7\n",
      "CZ 7 4\n",
      "RZ(2.6032209041742247) 4\n",
      "RX(pi/2) 4\n",
      "RZ(1.5627185500385727) 7\n",
      "RX(-pi/2) 7\n",
      "CZ 7 4\n",
      "RX(-pi/2) 4\n",
      "RX(pi/2) 7\n",
      "CZ 7 4\n",
      "RZ(0.020275909376453852) 3\n",
      "RX(pi/2) 3\n",
      "RZ(2.65097580224985) 3\n",
      "RX(-pi/2) 3\n",
      "RZ(-2.511860795565832) 4\n",
      "RX(pi/2) 4\n",
      "RZ(1.3679135053252642) 4\n",
      "RX(-pi/2) 4\n",
      "CZ 3 4\n",
      "RZ(-1.2818384677385088) 3\n",
      "RX(-pi/2) 3\n",
      "RZ(-0.827903105608609) 4\n",
      "RX(pi/2) 4\n",
      "CZ 3 4\n",
      "RX(pi/2) 3\n",
      "RX(-pi/2) 4\n",
      "CZ 3 4\n",
      "RZ(-1.1143312439603932) 6\n",
      "RX(pi/2) 6\n",
      "RZ(-0.6543015744161109) 7\n",
      "RX(pi/2) 7\n",
      "RZ(1.1015759835557384) 7\n",
      "RX(-pi/2) 7\n",
      "CZ 6 7\n",
      "RZ(-1.3212385457926774) 3\n",
      "RX(pi/2) 3\n",
      "RZ(2.582595739255637) 3\n",
      "RX(-pi/2) 3\n",
      "RX(-pi/2) 6\n",
      "CZ 6 3\n",
      "RZ(-1.306626413616241) 7\n",
      "RX(pi/2) 7\n",
      "RZ(0.16595893145927113) 7\n",
      "RX(-pi/2) 7\n",
      "RZ(0.9108827754535149) 8\n",
      "RX(pi/2) 8\n",
      "RZ(2.414404233421168) 8\n",
      "RX(-pi/2) 8\n",
      "CZ 7 8\n",
      "RZ(1.7295088548741058) 7\n",
      "RX(-pi/2) 7\n",
      "RZ(1.5106881697588683) 8\n",
      "RX(pi/2) 8\n",
      "CZ 7 8\n",
      "RX(pi/2) 7\n",
      "RX(-pi/2) 8\n",
      "CZ 7 8\n",
      "RZ(-1.2232245648462021) 4\n",
      "RX(pi/2) 4\n",
      "RZ(2.597044053227437) 4\n",
      "RX(-pi/2) 4\n",
      "RZ(2.832580809176821) 7\n",
      "RX(pi/2) 7\n",
      "RZ(2.0346440413962) 7\n",
      "RX(-pi/2) 7\n",
      "CZ 4 7\n",
      "RZ(2.5868989821903616) 4\n",
      "RX(-pi/2) 4\n",
      "RZ(0.11468651360179649) 7\n",
      "RX(pi/2) 7\n",
      "CZ 4 7\n",
      "RX(pi/2) 4\n",
      "RX(-pi/2) 7\n",
      "CZ 4 7\n",
      "RZ(2.1817698534610757) 8\n",
      "RX(pi/2) 8\n",
      "RZ(2.9504973470568037) 8\n",
      "RX(-pi/2) 8\n",
      "RZ(1.5270404306758112) 8\n",
      "RZ(-0.5269806912509445) 3\n",
      "RX(-pi/2) 3\n",
      "RZ(0.03602193590656211) 7\n",
      "RX(pi/2) 7\n",
      "RZ(2.566092650530903) 7\n",
      "RX(-pi/2) 7\n",
      "CZ 6 7\n",
      "RZ(-2.030157928688449) 7\n",
      "RX(pi/2) 7\n",
      "RZ(0.9650829206451845) 7\n",
      "RX(-pi/2) 7\n",
      "CZ 8 7\n",
      "RZ(2.578533022284592) 7\n",
      "RX(pi/2) 7\n",
      "RZ(-pi/2) 8\n",
      "RX(-pi/2) 8\n",
      "CZ 8 7\n",
      "RX(-pi/2) 7\n",
      "RX(pi/2) 8\n",
      "CZ 8 7\n",
      "RZ(0.5343688660228436) 7\n",
      "RX(pi/2) 7\n",
      "RZ(0.929587111427324) 7\n",
      "RX(-pi/2) 7\n",
      "CZ 7 6\n",
      "RZ(-pi/2) 6\n",
      "RX(pi/2) 6\n",
      "CZ 6 3\n",
      "RX(-pi/2) 6\n",
      "RZ(-0.6875542469463278) 7\n",
      "RX(pi/2) 7\n",
      "CZ 6 7\n",
      "CZ 6 3\n",
      "CZ 7 6\n",
      "RZ(pi/2) 3\n",
      "RX(pi/2) 3\n",
      "RZ(pi/2) 3\n",
      "RZ(3.0659655691269134) 4\n",
      "RX(pi/2) 4\n",
      "RZ(2.2311935197259163) 4\n",
      "RX(-pi/2) 4\n",
      "RZ(2.6815495143487875) 4\n",
      "RZ(pi/2) 6\n",
      "RX(pi/2) 6\n",
      "RZ(-pi/2) 6\n",
      "RZ(pi) 7\n",
      "RZ(-0.6862121352266635) 8\n",
      "RX(pi/2) 8\n",
      "RZ(1.1165166289993234) 8\n",
      "RX(-pi/2) 8\n",
      "RZ(2.6835052635640615) 8\n",
      "RZ(-0.07624670002867075) 2\n",
      "RX(pi/2) 2\n",
      "RZ(2.150430203828658) 2\n",
      "RX(-pi/2) 2\n",
      "RZ(-3.039508008988755) 5\n",
      "RX(pi/2) 5\n",
      "RZ(1.1768191420095078) 5\n",
      "RX(-pi/2) 5\n",
      "CZ 5 2\n",
      "RZ(-2.3285277586679154) 2\n",
      "RX(pi/2) 2\n",
      "RZ(2.066936054038624) 2\n",
      "RX(-pi/2) 2\n",
      "RZ(-2.8057793709332888) 5\n",
      "RX(-pi/2) 5\n",
      "CZ 5 2\n",
      "RX(pi/2) 2\n",
      "RZ(-1.772631337084852) 2\n",
      "RX(-pi/2) 2\n",
      "RZ(1.3166052100954904) 5\n",
      "RX(pi/2) 5\n",
      "CZ 5 2\n",
      "RZ(1.7567640835414384) 6\n",
      "RX(pi/2) 6\n",
      "RZ(0.49113002153581237) 6\n",
      "RX(-pi/2) 6\n",
      "RZ(1.7908573059536759) 7\n",
      "RX(pi/2) 7\n",
      "RZ(2.283927601409097) 7\n",
      "RX(-pi/2) 7\n",
      "CZ 7 6\n",
      "RZ(-0.054398270629819834) 6\n",
      "RX(pi/2) 6\n",
      "RZ(2.4404955439284453) 6\n",
      "RX(-pi/2) 6\n",
      "RZ(1.0213664847153385) 7\n",
      "RX(-pi/2) 7\n",
      "CZ 7 6\n",
      "RX(pi/2) 6\n",
      "RZ(-1.7707268466611663) 6\n",
      "RX(-pi/2) 6\n",
      "RZ(1.1004035421906169) 7\n",
      "RX(pi/2) 7\n",
      "CZ 7 6\n",
      "RZ(-2.1945727793569665) 2\n",
      "RX(pi/2) 2\n",
      "RZ(1.8934901803289879) 2\n",
      "RX(-pi/2) 2\n",
      "RZ(0.2238582116118497) 2\n",
      "RZ(2.835971734713909) 5\n",
      "RX(pi/2) 5\n",
      "RZ(1.5456637653076708) 5\n",
      "RX(-pi/2) 5\n",
      "RZ(-1.2864053521598962) 5\n",
      "RZ(-0.10395248961445913) 6\n",
      "RX(pi/2) 6\n",
      "RZ(1.1255661636898064) 6\n",
      "RX(-pi/2) 6\n",
      "RZ(2.5670064382514095) 6\n",
      "RZ(-1.6335402841420965) 7\n",
      "RX(pi/2) 7\n",
      "RZ(1.2372046695134922) 7\n",
      "RX(-pi/2) 7\n",
      "RZ(0.7997699118812944) 7\n",
      "\n"
     ]
    }
   ],
   "source": [
    "qv_template = rand_perm_layer + rand_su4_layer\n",
    "print(qv_template.sample_program(G, repetitions=2, qc=noisy_qc, width=5))"
   ]
  },
  {
   "cell_type": "markdown",
   "metadata": {},
   "source": [
    "## Acquire data for ranges of (width, depth)"
   ]
  },
  {
   "cell_type": "code",
   "execution_count": 22,
   "metadata": {},
   "outputs": [
    {
     "name": "stdout",
     "output_type": "stream",
     "text": [
      "{2: {3: [<pyquil.quil.Program object at 0x7fade2f836a0>, <pyquil.quil.Program object at 0x7fade2f839e8>, <pyquil.quil.Program object at 0x7fade2f8b400>, <pyquil.quil.Program object at 0x7fade2f8b5c0>, <pyquil.quil.Program object at 0x7fade2f8bc88>, <pyquil.quil.Program object at 0x7fade2f8e2b0>, <pyquil.quil.Program object at 0x7fade2f8eb70>, <pyquil.quil.Program object at 0x7fade2f95198>, <pyquil.quil.Program object at 0x7fade2f95be0>, <pyquil.quil.Program object at 0x7fade2f8b4e0>], 4: [<pyquil.quil.Program object at 0x7fade808b940>, <pyquil.quil.Program object at 0x7fade808b828>, <pyquil.quil.Program object at 0x7fade2f95f28>, <pyquil.quil.Program object at 0x7fade80a2a58>, <pyquil.quil.Program object at 0x7fade2f95e10>, <pyquil.quil.Program object at 0x7fade809f2b0>, <pyquil.quil.Program object at 0x7fade809fc88>, <pyquil.quil.Program object at 0x7fade8098470>, <pyquil.quil.Program object at 0x7fade8098e48>, <pyquil.quil.Program object at 0x7fade809fda0>], 5: [<pyquil.quil.Program object at 0x7fade808e9b0>, <pyquil.quil.Program object at 0x7fade80a16d8>, <pyquil.quil.Program object at 0x7fade8094278>, <pyquil.quil.Program object at 0x7fade8094588>, <pyquil.quil.Program object at 0x7fade808f128>, <pyquil.quil.Program object at 0x7fade808fef0>, <pyquil.quil.Program object at 0x7fade8097710>, <pyquil.quil.Program object at 0x7fade8097c50>, <pyquil.quil.Program object at 0x7fade2f9c4a8>, <pyquil.quil.Program object at 0x7fade2fa10f0>]}, 3: {3: [<pyquil.quil.Program object at 0x7fade2fa1908>, <pyquil.quil.Program object at 0x7fade2f9c748>, <pyquil.quil.Program object at 0x7fade2fa5a90>, <pyquil.quil.Program object at 0x7fade2faa198>, <pyquil.quil.Program object at 0x7fade2faae80>, <pyquil.quil.Program object at 0x7fade2fb03c8>, <pyquil.quil.Program object at 0x7fade2fb0e10>, <pyquil.quil.Program object at 0x7fade2fb39b0>, <pyquil.quil.Program object at 0x7fade2fb94e0>, <pyquil.quil.Program object at 0x7fade2fb9ac8>], 4: [<pyquil.quil.Program object at 0x7fade2fbc6d8>, <pyquil.quil.Program object at 0x7fade2ff2470>, <pyquil.quil.Program object at 0x7fade2fbc9e8>, <pyquil.quil.Program object at 0x7fade2fe8be0>, <pyquil.quil.Program object at 0x7fade2fe5b38>, <pyquil.quil.Program object at 0x7fade2fd9550>, <pyquil.quil.Program object at 0x7fade2fd5240>, <pyquil.quil.Program object at 0x7fade2fd2160>, <pyquil.quil.Program object at 0x7fade2fd2c88>, <pyquil.quil.Program object at 0x7fade2fcdac8>], 5: [<pyquil.quil.Program object at 0x7fade2fc2ba8>, <pyquil.quil.Program object at 0x7fade2fc45c0>, <pyquil.quil.Program object at 0x7fade80269e8>, <pyquil.quil.Program object at 0x7fade2fcdf60>, <pyquil.quil.Program object at 0x7fade2fa1cf8>, <pyquil.quil.Program object at 0x7fade802ce10>, <pyquil.quil.Program object at 0x7fade8026400>, <pyquil.quil.Program object at 0x7fade80369b0>, <pyquil.quil.Program object at 0x7fade803aba8>, <pyquil.quil.Program object at 0x7fade8040940>]}, 4: {3: [<pyquil.quil.Program object at 0x7fade8046550>, <pyquil.quil.Program object at 0x7fade8049550>, <pyquil.quil.Program object at 0x7fade804d128>, <pyquil.quil.Program object at 0x7fade804df28>, <pyquil.quil.Program object at 0x7fade8052c18>, <pyquil.quil.Program object at 0x7fade8055eb8>, <pyquil.quil.Program object at 0x7fade805e828>, <pyquil.quil.Program object at 0x7fade8062748>, <pyquil.quil.Program object at 0x7fade2f3f080>, <pyquil.quil.Program object at 0x7fade2f3fef0>], 4: [<pyquil.quil.Program object at 0x7fade2f44550>, <pyquil.quil.Program object at 0x7fade2f4c6a0>, <pyquil.quil.Program object at 0x7fade2f51710>, <pyquil.quil.Program object at 0x7fade2f598d0>, <pyquil.quil.Program object at 0x7fade2f5bba8>, <pyquil.quil.Program object at 0x7fade2f60b70>, <pyquil.quil.Program object at 0x7fade2f60eb8>, <pyquil.quil.Program object at 0x7fade2f700b8>, <pyquil.quil.Program object at 0x7fade2f6f080>, <pyquil.quil.Program object at 0x7fade2f7a320>], 5: [<pyquil.quil.Program object at 0x7fade2f5b7f0>, <pyquil.quil.Program object at 0x7fade2efe6a0>, <pyquil.quil.Program object at 0x7fade2f07b38>, <pyquil.quil.Program object at 0x7fade2f0d240>, <pyquil.quil.Program object at 0x7fade2f13a58>, <pyquil.quil.Program object at 0x7fade2f16978>, <pyquil.quil.Program object at 0x7fade2f224a8>, <pyquil.quil.Program object at 0x7fade2f1c748>, <pyquil.quil.Program object at 0x7fade2f30240>, <pyquil.quil.Program object at 0x7fade2f30860>]}}\n"
     ]
    }
   ],
   "source": [
    "widths = [2, 3, 4]\n",
    "depths = [3, 4, 5]\n",
    "ckt = classical_1q_2q\n",
    "prog_array = generate_volumetric_program_array(noisy_qc, ckt, widths, depths, num_circuit_samples=10)\n",
    "print(prog_array)"
   ]
  },
  {
   "cell_type": "code",
   "execution_count": 23,
   "metadata": {},
   "outputs": [],
   "source": [
    "noisy_results = acquire_volumetric_data(noisy_qc, prog_array)"
   ]
  },
  {
   "cell_type": "code",
   "execution_count": 24,
   "metadata": {},
   "outputs": [
    {
     "name": "stdout",
     "output_type": "stream",
     "text": [
      "{2: {3: [array([[0, 0]]), array([[0, 1]]), array([[1, 0]]), array([[1, 1]]), array([[1, 0]]), array([[1, 0]]), array([[0, 1]]), array([[0, 0]]), array([[1, 1]]), array([[0, 1]])], 4: [array([[0, 1]]), array([[1, 1]]), array([[1, 0]]), array([[0, 0]]), array([[0, 1]]), array([[1, 0]]), array([[1, 0]]), array([[1, 1]]), array([[0, 0]]), array([[0, 0]])], 5: [array([[1, 0]]), array([[1, 1]]), array([[1, 1]]), array([[1, 1]]), array([[0, 1]]), array([[0, 1]]), array([[0, 0]]), array([[0, 1]]), array([[1, 1]]), array([[1, 0]])]}, 3: {3: [array([[0, 1, 1]]), array([[1, 0, 0]]), array([[1, 0, 0]]), array([[0, 1, 0]]), array([[0, 0, 0]]), array([[1, 0, 1]]), array([[0, 0, 0]]), array([[0, 1, 0]]), array([[0, 1, 0]]), array([[0, 1, 1]])], 4: [array([[0, 1, 1]]), array([[1, 1, 0]]), array([[0, 1, 1]]), array([[0, 1, 1]]), array([[1, 1, 1]]), array([[1, 0, 0]]), array([[1, 1, 1]]), array([[0, 0, 0]]), array([[0, 1, 0]]), array([[1, 0, 0]])], 5: [array([[0, 0, 1]]), array([[1, 0, 1]]), array([[0, 1, 0]]), array([[1, 0, 0]]), array([[1, 0, 1]]), array([[1, 0, 0]]), array([[1, 0, 0]]), array([[1, 0, 0]]), array([[1, 1, 1]]), array([[1, 1, 1]])]}, 4: {3: [array([[0, 0, 1, 1]]), array([[0, 0, 1, 0]]), array([[0, 1, 1, 0]]), array([[0, 0, 0, 0]]), array([[1, 0, 0, 1]]), array([[1, 0, 0, 0]]), array([[0, 0, 0, 0]]), array([[1, 0, 1, 0]]), array([[0, 1, 0, 0]]), array([[0, 1, 0, 1]])], 4: [array([[1, 0, 1, 0]]), array([[0, 0, 1, 0]]), array([[0, 0, 0, 1]]), array([[1, 0, 0, 0]]), array([[0, 1, 1, 0]]), array([[1, 1, 0, 0]]), array([[0, 0, 1, 0]]), array([[0, 1, 1, 0]]), array([[1, 0, 1, 1]]), array([[1, 0, 0, 1]])], 5: [array([[0, 1, 1, 0]]), array([[0, 0, 0, 1]]), array([[0, 1, 1, 1]]), array([[0, 1, 1, 1]]), array([[0, 0, 1, 0]]), array([[1, 0, 1, 1]]), array([[1, 0, 0, 1]]), array([[1, 1, 1, 0]]), array([[0, 1, 0, 0]]), array([[1, 1, 1, 0]])]}}\n"
     ]
    }
   ],
   "source": [
    "ideal_results = acquire_volumetric_data(perfect_qc, prog_array, num_shots=1)\n",
    "print(ideal_results)"
   ]
  },
  {
   "cell_type": "code",
   "execution_count": 25,
   "metadata": {},
   "outputs": [
    {
     "name": "stdout",
     "output_type": "stream",
     "text": [
      "{2: {3: [array([0.95 , 0.046, 0.004]), array([0.842, 0.156, 0.002]), array([0.896, 0.098, 0.006]), array([0.8  , 0.196, 0.004]), array([0.902, 0.094, 0.004]), array([0.874, 0.124, 0.002]), array([0.884, 0.116, 0.   ]), array([0.948, 0.046, 0.006]), array([0.798, 0.182, 0.02 ]), array([0.864, 0.134, 0.002])], 4: [array([0.88 , 0.112, 0.008]), array([0.808, 0.172, 0.02 ]), array([0.876, 0.124, 0.   ]), array([0.96, 0.04, 0.  ]), array([0.886, 0.11 , 0.004]), array([0.874, 0.126, 0.   ]), array([0.866, 0.134, 0.   ]), array([0.8  , 0.184, 0.016]), array([0.948, 0.048, 0.004]), array([0.95, 0.05, 0.  ])], 5: [array([0.89 , 0.096, 0.014]), array([0.81 , 0.182, 0.008]), array([0.798, 0.198, 0.004]), array([0.818, 0.172, 0.01 ]), array([0.884, 0.112, 0.004]), array([0.916, 0.082, 0.002]), array([0.95 , 0.048, 0.002]), array([0.892, 0.108, 0.   ]), array([0.85 , 0.142, 0.008]), array([0.9  , 0.094, 0.006])]}, 3: {3: [array([0.802, 0.176, 0.022, 0.   ]), array([0.848, 0.148, 0.004, 0.   ]), array([0.888, 0.098, 0.014, 0.   ]), array([0.886, 0.108, 0.006, 0.   ]), array([0.924, 0.068, 0.006, 0.002]), array([0.818, 0.168, 0.01 , 0.004]), array([0.938, 0.058, 0.004, 0.   ]), array([0.91 , 0.084, 0.006, 0.   ]), array([0.87 , 0.128, 0.002, 0.   ]), array([0.806, 0.184, 0.01 , 0.   ])], 4: [array([0.816, 0.176, 0.008, 0.   ]), array([0.79 , 0.198, 0.012, 0.   ]), array([0.806, 0.172, 0.022, 0.   ]), array([0.814, 0.178, 0.008, 0.   ]), array([0.704, 0.268, 0.024, 0.004]), array([0.852, 0.128, 0.01 , 0.01 ]), array([0.776, 0.2  , 0.024, 0.   ]), array([0.926, 0.068, 0.006, 0.   ]), array([0.876, 0.112, 0.006, 0.006]), array([0.832, 0.146, 0.022, 0.   ])], 5: [array([0.854, 0.134, 0.008, 0.004]), array([0.834, 0.156, 0.01 , 0.   ]), array([0.848, 0.146, 0.006, 0.   ]), array([0.854, 0.136, 0.01 , 0.   ]), array([0.77 , 0.218, 0.012, 0.   ]), array([0.866, 0.132, 0.002, 0.   ]), array([0.842, 0.144, 0.014, 0.   ]), array([0.86 , 0.13 , 0.008, 0.002]), array([0.74 , 0.224, 0.032, 0.004]), array([0.748, 0.21 , 0.04 , 0.002])]}, 4: {3: [array([0.834, 0.14 , 0.024, 0.002, 0.   ]), array([0.828, 0.162, 0.01 , 0.   , 0.   ]), array([0.79 , 0.196, 0.012, 0.002, 0.   ]), array([0.888, 0.108, 0.   , 0.004, 0.   ]), array([0.778, 0.194, 0.016, 0.012, 0.   ]), array([0.82 , 0.166, 0.014, 0.   , 0.   ]), array([0.906, 0.092, 0.002, 0.   , 0.   ]), array([0.768, 0.208, 0.024, 0.   , 0.   ]), array([0.828, 0.152, 0.02 , 0.   , 0.   ]), array([0.822, 0.164, 0.01 , 0.004, 0.   ])], 4: [array([0.788, 0.162, 0.032, 0.004, 0.014]), array([0.822, 0.154, 0.016, 0.008, 0.   ]), array([0.854, 0.138, 0.008, 0.   , 0.   ]), array([0.846, 0.138, 0.012, 0.004, 0.   ]), array([0.784, 0.178, 0.02 , 0.008, 0.01 ]), array([0.772, 0.21 , 0.018, 0.   , 0.   ]), array([0.818, 0.156, 0.024, 0.   , 0.002]), array([0.76 , 0.204, 0.036, 0.   , 0.   ]), array([0.71 , 0.246, 0.04 , 0.004, 0.   ]), array([0.774, 0.192, 0.03 , 0.004, 0.   ])], 5: [array([0.762, 0.208, 0.024, 0.006, 0.   ]), array([0.832, 0.154, 0.012, 0.002, 0.   ]), array([0.742, 0.232, 0.026, 0.   , 0.   ]), array([0.694, 0.252, 0.044, 0.008, 0.002]), array([0.834, 0.154, 0.008, 0.004, 0.   ]), array([0.738, 0.23 , 0.028, 0.004, 0.   ]), array([0.79 , 0.192, 0.014, 0.004, 0.   ]), array([0.706, 0.262, 0.032, 0.   , 0.   ]), array([0.83 , 0.158, 0.012, 0.   , 0.   ]), array([0.722, 0.238, 0.032, 0.008, 0.   ])]}}\n"
     ]
    }
   ],
   "source": [
    "err_hamm_distrs = get_error_hamming_weight_distributions(noisy_results, ideal_results)\n",
    "print(err_hamm_distrs)"
   ]
  },
  {
   "cell_type": "code",
   "execution_count": 26,
   "metadata": {},
   "outputs": [
    {
     "name": "stdout",
     "output_type": "stream",
     "text": [
      "{2: {3: array([0.8758, 0.1192, 0.005 ]), 4: array([0.8848, 0.11  , 0.0052]), 5: array([0.8708, 0.1234, 0.0058])}, 3: {3: array([8.69e-01, 1.22e-01, 8.40e-03, 6.00e-04]), 4: array([0.8192, 0.1646, 0.0142, 0.002 ]), 5: array([0.8216, 0.163 , 0.0142, 0.0012])}, 4: {3: array([0.8262, 0.1582, 0.0132, 0.0024, 0.    ]), 4: array([0.7928, 0.1778, 0.0236, 0.0032, 0.0026]), 5: array([7.65e-01, 2.08e-01, 2.32e-02, 3.60e-03, 2.00e-04])}}\n"
     ]
    }
   ],
   "source": [
    "avg_err_hamm_distrs = get_average_of_distributions(err_hamm_distrs)\n",
    "print(avg_err_hamm_distrs)"
   ]
  },
  {
   "cell_type": "markdown",
   "metadata": {},
   "source": [
    "## Plot a particular depth and width"
   ]
  },
  {
   "cell_type": "code",
   "execution_count": 27,
   "metadata": {},
   "outputs": [],
   "source": [
    "w = 3 # width\n",
    "d = 4 # depth\n",
    "\n",
    "avg_distr = avg_err_hamm_distrs[3][4]\n",
    "\n",
    "# rand data\n",
    "rand_distr = get_random_hamming_wt_distr(w)"
   ]
  },
  {
   "cell_type": "code",
   "execution_count": 28,
   "metadata": {},
   "outputs": [
    {
     "data": {
      "image/png": "[encoded data removed]",
      "text/plain": [
       "<Figure size 432x288 with 1 Axes>"
      ]
     },
     "metadata": {},
     "output_type": "display_data"
    }
   ],
   "source": [
    "x_labels = np.arange(0, len(avg_distr))\n",
    "plt.bar(x_labels, avg_distr, width=0.61, align='center')\n",
    "plt.bar(x_labels, rand_distr, width=0.31, align='center')\n",
    "plt.xticks(x_labels)\n",
    "plt.xlabel('Hamming Weight of Error')\n",
    "plt.ylabel('Relative Frequency of Occurrence')\n",
    "plt.ylim([0, 1])\n",
    "plt.grid(axis='y', alpha=0.75)\n",
    "plt.legend(['data','random'])\n",
    "plt.title(f'Width = {w}, Depth = {d}')\n",
    "plt.show()"
   ]
  },
  {
   "cell_type": "markdown",
   "metadata": {},
   "source": [
    "Using our helper function"
   ]
  },
  {
   "cell_type": "code",
   "execution_count": 29,
   "metadata": {},
   "outputs": [
    {
     "data": {
      "image/png": "[encoded data removed]",
      "text/plain": [
       "<Figure size 1296x432 with 1 Axes>"
      ]
     },
     "metadata": {},
     "output_type": "display_data"
    }
   ],
   "source": [
    "fig, axs = plot_error_distributions(avg_err_hamm_distrs, widths=[w], depths=[d], plot_rand_distr=True)"
   ]
  },
  {
   "cell_type": "markdown",
   "metadata": {},
   "source": [
    "### For a particular width, plot all depths"
   ]
  },
  {
   "cell_type": "code",
   "execution_count": 30,
   "metadata": {},
   "outputs": [
    {
     "data": {
      "image/png": "[encoded data removed]",
      "text/plain": [
       "<Figure size 1296x1296 with 3 Axes>"
      ]
     },
     "metadata": {},
     "output_type": "display_data"
    }
   ],
   "source": [
    "fig, axs = plot_error_distributions(avg_err_hamm_distrs, widths=[w], plot_rand_distr=True)"
   ]
  },
  {
   "cell_type": "markdown",
   "metadata": {},
   "source": [
    "### Plot all of the distributions"
   ]
  },
  {
   "cell_type": "code",
   "execution_count": 31,
   "metadata": {},
   "outputs": [
    {
     "data": {
      "image/png": "[encoded data removed]",
      "text/plain": [
       "<Figure size 1296x1296 with 9 Axes>"
      ]
     },
     "metadata": {},
     "output_type": "display_data"
    }
   ],
   "source": [
    "fig, axs = plot_error_distributions(avg_err_hamm_distrs, widths=None, depths=None, plot_rand_distr=True)"
   ]
  },
  {
   "cell_type": "markdown",
   "metadata": {},
   "source": [
    "Now we can study the sucess probablity, i.e. the zero hamming weight entry above as a function of depth. We first need to extract the data."
   ]
  },
  {
   "cell_type": "code",
   "execution_count": 44,
   "metadata": {},
   "outputs": [
    {
     "name": "stdout",
     "output_type": "stream",
     "text": [
      "{2: {3: 0.8758000000000001, 4: 0.8847999999999999, 5: 0.8708}, 3: {3: 0.869, 4: 0.8192, 5: 0.8215999999999999}, 4: {3: 0.8262, 4: 0.7928, 5: 0.765}}\n",
      "{2: {3: 0.9950000000000001, 4: 0.9947999999999999, 5: 0.9942}, 3: {3: 0.991, 4: 0.9838, 5: 0.9845999999999999}, 4: {3: 0.9976, 4: 0.9941999999999999, 5: 0.9962000000000001}}\n",
      "{2: {3: 0.6258000000000001, 4: 0.6347999999999999, 5: 0.6208}, 3: {3: 0.744, 4: 0.6942, 5: 0.6965999999999999}, 4: {3: 0.7637, 4: 0.7303, 5: 0.7024999999999999}}\n"
     ]
    }
   ],
   "source": [
    "# extract data from avg_err_hamm_distrs\n",
    "widths = list(avg_err_hamm_distrs.keys())\n",
    "depths = list(avg_err_hamm_distrs[widths[0]].keys())\n",
    "\n",
    "pr_succ_arr = {w: {d: distr[0] for d, distr in d_distrs.items()} for w, d_distrs in avg_err_hamm_distrs.items()}\n",
    "# this is equivalently wrapped up in the following\n",
    "assert pr_succ_arr == get_success_probabilities(noisy_results, ideal_results)\n",
    "\n",
    "# count as success even if there are log many bits incorrect.\n",
    "pr_succ_allow_log_errors = get_success_probabilities(noisy_results, ideal_results, \n",
    "                                                     allowed_errors = basement_log_function)\n",
    "\n",
    "ideal_distrs = {w: [1] + [0 for _ in range(w)] for w in widths}\n",
    "rand_distrs = {w: get_random_hamming_wt_distr(w) for w in widths}\n",
    "\n",
    "pr_succ_rand = {w: 1/2**w for w in widths}\n",
    "pr_succ_rand_allow_log_errors = {w: sum(rand_distrs[w][0:basement_log_function(w)+1]) for w in widths}\n",
    "\n",
    "# total variation distance\n",
    "tvd_noisy_ideal = {w: {d: get_total_variation_dist(distr, ideal_distrs[w]) for d, distr in d_distrs.items()}\n",
    "                              for w, d_distrs in avg_err_hamm_distrs.items()}\n",
    "\n",
    "# tvd_noisy_ideal is equivalent to 1 - success probability.\n",
    "np.testing.assert_allclose([pr for d_vals in pr_succ_arr.values() for pr in d_vals.values()], \n",
    "                           [1 - val for d_vals in tvd_noisy_ideal.values() for val in d_vals.values()])\n",
    "\n",
    "tvd_noisy_rand = {w: {d: get_total_variation_dist(distr, rand_distrs[w]) for d, distr in d_distrs.items()}\n",
    "                              for w, d_distrs in avg_err_hamm_distrs.items()}\n",
    "\n",
    "print(pr_succ_arr)\n",
    "print(pr_succ_allow_log_errors)\n",
    "print(tvd_noisy_rand)"
   ]
  },
  {
   "cell_type": "markdown",
   "metadata": {},
   "source": [
    "## Success probablity and success probablity including a small number of errors"
   ]
  },
  {
   "cell_type": "markdown",
   "metadata": {},
   "source": [
    "Next we will plot the success probablity of a circuit with a certain width as a function of depth. "
   ]
  },
  {
   "cell_type": "code",
   "execution_count": 81,
   "metadata": {},
   "outputs": [
    {
     "data": {
      "image/png": "[encoded data removed]",
      "text/plain": [
       "<Figure size 432x288 with 1 Axes>"
      ]
     },
     "metadata": {},
     "output_type": "display_data"
    }
   ],
   "source": [
    "w=3\n",
    "plt.scatter(depths, [pr_succ_arr[w][d] for d in depths], label='Sucess Probability')\n",
    "plt.plot(depths, [pr_succ_rand[w] for _ in depths], label='random guess')\n",
    "plt.ylim([-0.05,1.05])\n",
    "plt.xlabel('Depth')\n",
    "plt.xticks(depths)\n",
    "plt.ylabel('Pr(success)')\n",
    "plt.title('Pr(success) vs Depth for Width = {}'.format(w))\n",
    "plt.legend()\n",
    "plt.show()"
   ]
  },
  {
   "cell_type": "markdown",
   "metadata": {},
   "source": [
    "**Sucess if we allow for a small number of errors**\n",
    "\n",
    "Some near term algorithms have robustness to noise. In light of that we might want to consider as successes answers that are only a little wrong.\n",
    "\n",
    "To make this notion formal we allow a logarithmic number of bits to be flipped from the correct answer and call all such instances \"success\".\n",
    "\n",
    "The logarithmic number of bits that we allow to flip is defined by the \"basement\" ${\\mathcal B}$ of \n",
    "\n",
    "$\\log_2 ({\\rm number\\ of\\ bits})$\n",
    "\n",
    "where the basement of a number is ${\\mathcal B}(number) = 0$ if number$<=0$ and ${\\mathcal B}(number) = {\\rm floor (number)}$.\n",
    "\n",
    "\n",
    "Supose we have a circuit of width 4 so that the correct string has four bits, e.g. 1010. Then a logarithmic number of flips is $\\log_2(4) = 2$.\n",
    "\n",
    "So any string with hamming weight zero, one, or two counts as a success.\n",
    "\n",
    "Such error metrics might be important in noisy near term algorithms where getting the exact answer is not vital."
   ]
  },
  {
   "cell_type": "code",
   "execution_count": 82,
   "metadata": {},
   "outputs": [
    {
     "data": {
      "image/png": "[encoded data removed]",
      "text/plain": [
       "<Figure size 432x288 with 1 Axes>"
      ]
     },
     "metadata": {},
     "output_type": "display_data"
    }
   ],
   "source": [
    "w=4\n",
    "plt.scatter(depths, [pr_succ_arr[w][d] for d in depths], label='Sucess Prob')\n",
    "plt.plot(depths, [pr_succ_rand[w] for _ in depths], label='random guess')\n",
    "plt.scatter(depths, [pr_succ_allow_log_errors[w][d] for d in depths], label='Sucess Prob w/ log errors')\n",
    "plt.plot(depths, [pr_succ_rand_allow_log_errors[w] for _ in depths], label='random guess w/ log errors')\n",
    "plt.ylim([-0.05, 1.05])\n",
    "plt.xlabel('Depth')\n",
    "plt.xticks(depths)\n",
    "plt.ylabel('Pr(success)')\n",
    "plt.title('Pr(success) (& w/ log errors) vs Depth for Width = {}'.format(w))\n",
    "plt.legend()\n",
    "plt.show()"
   ]
  },
  {
   "cell_type": "markdown",
   "metadata": {},
   "source": [
    "## Total variation distance from ideal answer and random distribution"
   ]
  },
  {
   "cell_type": "code",
   "execution_count": 83,
   "metadata": {},
   "outputs": [
    {
     "data": {
      "image/png": "[encoded data removed]",
      "text/plain": [
       "<Figure size 432x288 with 1 Axes>"
      ]
     },
     "metadata": {},
     "output_type": "display_data"
    }
   ],
   "source": [
    "plt.figure()\n",
    "plt.scatter(depths, [tvd_noisy_ideal[w][d] for d in depths], label='TVD(data, ideal)')\n",
    "plt.scatter(depths, [tvd_noisy_rand[w][d] for d in depths], label='TVD(data, rand)')\n",
    "plt.scatter(depths, 1-np.asarray([pr_succ_arr[w][d] for d in depths]),\n",
    "            label='1 - Pr[Success]', alpha=0.33, marker='^', s=80)\n",
    "plt.ylim([-0.05,1.05])\n",
    "plt.xlabel('Depth')\n",
    "plt.xticks(depths)\n",
    "plt.ylabel('Total variation distance')\n",
    "plt.title('Width = {}'.format(w))\n",
    "plt.legend(bbox_to_anchor=(1.04,1), loc=\"upper left\")\n",
    "plt.show()"
   ]
  },
  {
   "cell_type": "markdown",
   "metadata": {},
   "source": [
    "## Plot success probablity landscape"
   ]
  },
  {
   "cell_type": "markdown",
   "metadata": {},
   "source": [
    "This is just the success probablity as a function of depth and width."
   ]
  },
  {
   "cell_type": "code",
   "execution_count": null,
   "metadata": {},
   "outputs": [],
   "source": [
    "widths = list(avg_err_hamm_distrs.keys())\n",
    "depths = list(avg_err_hamm_distrs[widths[0]].keys())\n",
    "\n",
    "pr_succ_arr = {w: {d: distr[0] for d, distr in d_distrs.items()} for w, d_distrs in avg_err_hamm_distrs.items()}\n",
    "\n",
    "# count as success even if there are log many bits incorrect.\n",
    "pr_succ_allow_log_errors = get_success_probabilities(noisy_results, ideal_results, \n",
    "                                                     allowed_errors = basement_log_function)\n",
    "\n",
    "ideal_distrs = {w: [1] + [0 for _ in range(w)] for w in widths}\n",
    "rand_distrs = {w: get_random_hamming_wt_distr(w) for w in widths}\n",
    "\n",
    "pr_succ_rand = {w: 1/2**w for w in widths}\n",
    "pr_succ_rand_allow_log_errors = {w: sum(rand_distrs[w][0:basement_log_function(w)+1]) for w in widths}\n",
    "\n",
    "# total variation distance\n",
    "tvd_noisy_ideal = {w: {d: get_total_variation_dist(distr, ideal_distrs[w]) for d, distr in d_distrs.items()}\n",
    "                              for w, d_distrs in avg_err_hamm_distrs.items()}\n",
    "\n",
    "tvd_noisy_rand = {w: {d: get_total_variation_dist(distr, rand_distrs[w]) for d, distr in d_distrs.items()}\n",
    "                              for w, d_distrs in avg_err_hamm_distrs.items()}"
   ]
  },
  {
   "cell_type": "code",
   "execution_count": 76,
   "metadata": {},
   "outputs": [],
   "source": [
    "X, Y = np.meshgrid(widths, depths)"
   ]
  },
  {
   "cell_type": "code",
   "execution_count": 85,
   "metadata": {},
   "outputs": [],
   "source": [
    "Zdata = np.reshape([pr_succ_arr[w][d] for d in depths for w in widths], X.shape)\n",
    "Zrand = np.reshape([pr_succ_rand[w] for d in depths for w in widths], X.shape)"
   ]
  },
  {
   "cell_type": "code",
   "execution_count": 86,
   "metadata": {},
   "outputs": [
    {
     "data": {
      "image/png": "[encoded data removed]",
      "text/plain": [
       "<Figure size 432x288 with 2 Axes>"
      ]
     },
     "metadata": {},
     "output_type": "display_data"
    }
   ],
   "source": [
    "extent = min(depths)-0.5, max(depths)+0.5, min(widths)-0.5, max(widths)+0.5\n",
    "ax = plt.gca()\n",
    "img = ax.imshow(Zdata, interpolation='none', extent=extent,\n",
    "                cmap='viridis', origin='lowerleft', vmin=0.0,vmax=1.0)\n",
    "\n",
    "xticks = depths\n",
    "ax.set_xticks(xticks)\n",
    "ax.set_xticklabels(map(str, xticks))\n",
    "\n",
    "yticks = widths\n",
    "ax.set_yticks(yticks)\n",
    "ax.set_yticklabels(map(str, yticks))\n",
    "\n",
    "ax.set_aspect('equal')\n",
    "plt.colorbar(img, ax=ax)\n",
    "plt.xlabel('Width')\n",
    "plt.ylabel('Depth')\n",
    "plt.title('Success Probability')\n",
    "plt.show()"
   ]
  },
  {
   "cell_type": "code",
   "execution_count": 87,
   "metadata": {},
   "outputs": [
    {
     "data": {
      "image/png": "[encoded data removed]",
      "text/plain": [
       "<Figure size 432x288 with 2 Axes>"
      ]
     },
     "metadata": {},
     "output_type": "display_data"
    }
   ],
   "source": [
    "ax = plt.gca()\n",
    "img = ax.imshow(Zrand, interpolation='none', extent=extent,\n",
    "                cmap='viridis', origin='lowerleft', vmin=0.0,vmax=1.0)\n",
    "\n",
    "xticks = depths\n",
    "ax.set_xticks(xticks)\n",
    "ax.set_xticklabels(map(str, xticks))\n",
    "\n",
    "yticks = widths\n",
    "ax.set_yticks(yticks)\n",
    "ax.set_yticklabels(map(str, yticks))\n",
    "\n",
    "ax.set_aspect('equal')\n",
    "plt.colorbar(img, ax=ax)\n",
    "plt.xlabel('Width')\n",
    "plt.ylabel('Depth')\n",
    "plt.title('Success Probability of Random Guess')\n",
    "plt.show()"
   ]
  },
  {
   "cell_type": "code",
   "execution_count": null,
   "metadata": {},
   "outputs": [],
   "source": [
    "tvd_rand_values = np.asarray([munged['TVD(data, rand)'][idx] for idx in munged.index])\n",
    "tvd_ideal_values = np.asarray([munged['TVD(data, ideal)'][idx] for idx in munged.index])\n",
    "Ztvd_rand = np.reshape(tvd_rand_values,(x2,x1)).T\n",
    "Ztvd_ideal = np.reshape(tvd_ideal_values,(x2,x1)).T"
   ]
  },
  {
   "cell_type": "code",
   "execution_count": null,
   "metadata": {},
   "outputs": [],
   "source": [
    "tvd_ideal_values\n",
    "tvd_rand_values"
   ]
  },
  {
   "cell_type": "code",
   "execution_count": null,
   "metadata": {},
   "outputs": [],
   "source": [
    "extent = min(res_df['Depth'])-0.5, max(res_df['Depth'])+0.5, min(res_df['Width'])-0.5, max(res_df['Width'])+0.5\n",
    "ax = plt.gca()\n",
    "img = ax.imshow(Ztvd_ideal, interpolation='none', extent=extent,\n",
    "                cmap='viridis', origin='lowerleft', vmin=0.0,vmax=1.0)\n",
    "\n",
    "xticks = np.arange(1,max(res_df['Depth'])+1)\n",
    "ax.set_xticks(xticks)\n",
    "ax.set_xticklabels(map(str, xticks))\n",
    "\n",
    "yticks = np.arange(1,max(res_df['Width'])+1)\n",
    "ax.set_yticks(yticks)\n",
    "ax.set_yticklabels(map(str, yticks))\n",
    "\n",
    "ax.set_aspect('equal')\n",
    "plt.colorbar(img, ax=ax)\n",
    "plt.xlabel('Depth')\n",
    "plt.ylabel('Width')\n",
    "plt.title('Success Probability of Random Guess')\n",
    "plt.show()"
   ]
  },
  {
   "cell_type": "code",
   "execution_count": null,
   "metadata": {},
   "outputs": [],
   "source": [
    "extent = min(res_df['Depth'])-0.5, max(res_df['Depth'])+0.5, min(res_df['Width'])-0.5, max(res_df['Width'])+0.5\n",
    "ax = plt.gca()\n",
    "img = ax.imshow(Ztvd_rand, interpolation='none', extent=extent,\n",
    "                cmap='viridis', origin='lowerleft', vmin=0.0,vmax=1.0)\n",
    "\n",
    "xticks = np.arange(1,max(res_df['Depth'])+1)\n",
    "ax.set_xticks(xticks)\n",
    "ax.set_xticklabels(map(str, xticks))\n",
    "\n",
    "yticks = np.arange(1,max(res_df['Width'])+1)\n",
    "ax.set_yticks(yticks)\n",
    "ax.set_yticklabels(map(str, yticks))\n",
    "\n",
    "ax.set_aspect('equal')\n",
    "plt.colorbar(img, ax=ax)\n",
    "plt.xlabel('Depth')\n",
    "plt.ylabel('Width')\n",
    "plt.title('Success Probability of Random Guess')\n",
    "plt.show()"
   ]
  },
  {
   "cell_type": "code",
   "execution_count": null,
   "metadata": {},
   "outputs": [],
   "source": [
    "loge_rand_values = np.asarray([munged['Pr. success loge rand'][idx] for idx in munged.index])\n",
    "loge_data_values = np.asarray([munged['Pr. success loge data'][idx] for idx in munged.index])\n",
    "Zlge_rand = np.reshape(loge_rand_values,(x2,x1)).T\n",
    "Zlge_data = np.reshape(loge_data_values,(x2,x1)).T"
   ]
  },
  {
   "cell_type": "code",
   "execution_count": null,
   "metadata": {},
   "outputs": [],
   "source": [
    "extent = min(res_df['Depth'])-0.5, max(res_df['Depth'])+0.5, min(res_df['Width'])-0.5, max(res_df['Width'])+0.5\n",
    "ax = plt.gca()\n",
    "img = ax.imshow(Zlge_data, interpolation='none', extent=extent,\n",
    "                cmap='viridis', origin='lowerleft', vmin=0.0,vmax=1.0)\n",
    "\n",
    "xticks = np.arange(1,max(res_df['Depth'])+1)\n",
    "ax.set_xticks(xticks)\n",
    "ax.set_xticklabels(map(str, xticks))\n",
    "\n",
    "yticks = np.arange(1,max(res_df['Width'])+1)\n",
    "ax.set_yticks(yticks)\n",
    "ax.set_yticklabels(map(str, yticks))\n",
    "\n",
    "ax.set_aspect('equal')\n",
    "plt.colorbar(img, ax=ax)\n",
    "plt.xlabel('Depth')\n",
    "plt.ylabel('Width')\n",
    "plt.title('Success Probability of Random Guess')\n",
    "plt.show()"
   ]
  },
  {
   "cell_type": "code",
   "execution_count": null,
   "metadata": {},
   "outputs": [],
   "source": [
    "extent = min(res_df['Depth'])-0.5, max(res_df['Depth'])+0.5, min(res_df['Width'])-0.5, max(res_df['Width'])+0.5\n",
    "ax = plt.gca()\n",
    "img = ax.imshow(Zlge_rand, interpolation='none', extent=extent,\n",
    "                cmap='viridis', origin='lowerleft', vmin=0.0,vmax=1.0)\n",
    "\n",
    "xticks = np.arange(1,max(res_df['Depth'])+1)\n",
    "ax.set_xticks(xticks)\n",
    "ax.set_xticklabels(map(str, xticks))\n",
    "\n",
    "yticks = np.arange(1,max(res_df['Width'])+1)\n",
    "ax.set_yticks(yticks)\n",
    "ax.set_yticklabels(map(str, yticks))\n",
    "\n",
    "ax.set_aspect('equal')\n",
    "plt.colorbar(img, ax=ax)\n",
    "plt.xlabel('Depth')\n",
    "plt.ylabel('Width')\n",
    "plt.title('Success Probability of Random Guess')\n",
    "plt.show()"
   ]
  },
  {
   "cell_type": "markdown",
   "metadata": {},
   "source": [
    "## Plot the distribution of sublattice widths"
   ]
  },
  {
   "cell_type": "code",
   "execution_count": 47,
   "metadata": {},
   "outputs": [
    {
     "data": {
      "image/png": "[encoded data removed]",
      "text/plain": [
       "<Figure size 432x288 with 1 Axes>"
      ]
     },
     "metadata": {},
     "output_type": "display_data"
    }
   ],
   "source": [
    "G = perfect_qc.qubit_topology()\n",
    "len(perfect_qc.qubit_topology())\n",
    "# distribution of graph lengths\n",
    "distr = []\n",
    "for num_nodes in range(1, len(G.nodes) + 1):\n",
    "    listg = generate_connected_subgraphs(G, num_nodes)\n",
    "    distr.append(len(listg))\n",
    "\n",
    "cir_wid = list(range(1, len(G.nodes) + 1))\n",
    "plt.bar(cir_wid, distr, width=0.61, align='center')\n",
    "plt.xticks(cir_wid)\n",
    "plt.xlabel('sublattice / circuit width')\n",
    "plt.ylabel('Frequency of Occurence')\n",
    "plt.grid(axis='y', alpha=0.75)\n",
    "plt.title('Distribution of sublattice widths')\n",
    "plt.show()"
   ]
  },
  {
   "cell_type": "markdown",
   "metadata": {},
   "source": [
    "# Data exploration"
   ]
  },
  {
   "cell_type": "code",
   "execution_count": null,
   "metadata": {},
   "outputs": [],
   "source": [
    "from scipy.optimize import curve_fit"
   ]
  },
  {
   "cell_type": "code",
   "execution_count": null,
   "metadata": {},
   "outputs": [],
   "source": [
    "size = Y.shape\n",
    "width_1d = Y.reshape((1,np.prod(size)))\n",
    "depth_1d = X.reshape((1,np.prod(size)))"
   ]
  },
  {
   "cell_type": "code",
   "execution_count": null,
   "metadata": {},
   "outputs": [],
   "source": [
    "data_1d = Zdata.reshape((1,np.prod(size)))\n",
    "data_1d.shape\n",
    "width_1d.shape\n"
   ]
  },
  {
   "cell_type": "code",
   "execution_count": null,
   "metadata": {},
   "outputs": [],
   "source": [
    "dims = np.zeros_like(width_1d)\n",
    "dims[0,0] = size[0]\n",
    "dims[0,1] = size[1]\n",
    "\n",
    "xdata = np.vstack((dims,width_1d, depth_1d))\n",
    "\n",
    "\n",
    "\n",
    "xdata"
   ]
  },
  {
   "cell_type": "markdown",
   "metadata": {},
   "source": [
    "## Fitting models"
   ]
  },
  {
   "cell_type": "markdown",
   "metadata": {},
   "source": [
    "Two parameter model \n",
    "\n",
    "\n",
    "$f(W,D,p_W,p_D) =  (1-p_W)^W * (1-p_D)^D $\n",
    "\n",
    "The fidelity is proporional to $1 - p$"
   ]
  },
  {
   "cell_type": "code",
   "execution_count": null,
   "metadata": {},
   "outputs": [],
   "source": [
    "def two_param(x,pw,pd):\n",
    "    temp = x[0]\n",
    "    wid = temp[0]\n",
    "    dep = temp[1]\n",
    "    width = x[1].reshape(wid,dep)\n",
    "    depth = x[2].reshape(wid,dep)\n",
    "    pcheck = (1-pw)**(width) * (1-pd)**depth\n",
    "    rpcheck = pcheck.reshape((1,wid*dep))\n",
    "    return rpcheck.ravel()"
   ]
  },
  {
   "cell_type": "markdown",
   "metadata": {},
   "source": [
    "One parameter model\n",
    "\n",
    "$f(W,D,p) =  (1-p)^{W * D} $"
   ]
  },
  {
   "cell_type": "code",
   "execution_count": null,
   "metadata": {},
   "outputs": [],
   "source": [
    "def one_param(x,p):\n",
    "    temp = x[0]\n",
    "    wid = temp[0]\n",
    "    dep = temp[1]\n",
    "    width = x[1].reshape(wid,dep)\n",
    "    depth = x[2].reshape(wid,dep)\n",
    "    pcheck = (1-p)**(width*depth)\n",
    "    rpcheck = pcheck.reshape((1,wid*dep))\n",
    "    return rpcheck.ravel()"
   ]
  },
  {
   "cell_type": "markdown",
   "metadata": {},
   "source": [
    "From my prior work a better model to fit to is\n",
    "\n",
    "Pcheck$(W,D,p,a,b,c) = \\exp[ -(a p^2 + b p + c)* W*D] $\n"
   ]
  },
  {
   "cell_type": "code",
   "execution_count": null,
   "metadata": {},
   "outputs": [],
   "source": [
    "def two_param_exp(x,p,a,b):\n",
    "    temp = x[0]\n",
    "    wid = temp[0]\n",
    "    dep = temp[1]\n",
    "    width = x[1].reshape(wid,dep)\n",
    "    depth = x[2].reshape(wid,dep)\n",
    "    pcheck = np.exp(-(a*p + b) * width * depth)\n",
    "    rpcheck = pcheck.reshape((1,wid*dep))\n",
    "    return rpcheck.ravel()"
   ]
  },
  {
   "cell_type": "markdown",
   "metadata": {},
   "source": [
    "**Start with one paramter model**"
   ]
  },
  {
   "cell_type": "code",
   "execution_count": null,
   "metadata": {},
   "outputs": [],
   "source": [
    "pguess = 0.1\n",
    "popt, pcov = curve_fit(one_param, xdata, data_1d.ravel(), p0=pguess, bounds=(0, 1))"
   ]
  },
  {
   "cell_type": "code",
   "execution_count": null,
   "metadata": {},
   "outputs": [],
   "source": [
    "print('The estimated error is p = ', str(np.round(popt[0],4)))\n",
    "print('The estimated product of the one and two qubit fidelity is F = ', str(1-np.round(popt[0],4)))\n",
    "#print('The one standard deviation on the estimate is ', str(np.round(np.sqrt(np.diag(pcov)[0]),5)))"
   ]
  },
  {
   "cell_type": "code",
   "execution_count": null,
   "metadata": {},
   "outputs": [],
   "source": [
    "zfit = one_param(xdata,popt)\n",
    "Z_fit = zfit.reshape(size)"
   ]
  },
  {
   "cell_type": "code",
   "execution_count": null,
   "metadata": {},
   "outputs": [],
   "source": [
    "plt.pcolormesh(X,Y, Z_fit)\n",
    "plt.xticks(list(range(1,circuit_depth+1)))\n",
    "plt.yticks(list(range(1,circuit_width+1)))\n",
    "plt.colorbar()\n",
    "plt.show()"
   ]
  },
  {
   "cell_type": "code",
   "execution_count": null,
   "metadata": {},
   "outputs": [],
   "source": [
    "plt.pcolormesh(X,Y,Zdata)\n",
    "plt.xticks(list(range(1,circuit_depth+1)))\n",
    "plt.yticks(list(range(1,circuit_width+1)))\n",
    "plt.colorbar()\n",
    "plt.show()"
   ]
  },
  {
   "cell_type": "markdown",
   "metadata": {},
   "source": [
    "**Two parameter model**"
   ]
  },
  {
   "cell_type": "code",
   "execution_count": null,
   "metadata": {},
   "outputs": [],
   "source": [
    "pguess2d = [0.0276, 0.01, 0.4]"
   ]
  },
  {
   "cell_type": "code",
   "execution_count": null,
   "metadata": {},
   "outputs": [],
   "source": [
    "popt2d, pcov2d = curve_fit(two_param_exp, xdata, data_1d.ravel(), p0=pguess2d , bounds=(0., 1))"
   ]
  },
  {
   "cell_type": "code",
   "execution_count": null,
   "metadata": {},
   "outputs": [],
   "source": [
    "popt2d"
   ]
  },
  {
   "cell_type": "code",
   "execution_count": null,
   "metadata": {},
   "outputs": [],
   "source": [
    "zfit2d = two_param(xdata,popt2d[0],popt2d[1])\n",
    "Z_fit2d = zfit2d.reshape(size)"
   ]
  },
  {
   "cell_type": "code",
   "execution_count": null,
   "metadata": {},
   "outputs": [],
   "source": [
    "plt.pcolormesh(X,Y, Z_fit2d)\n",
    "plt.xticks(list(range(1,circuit_depth+1)))\n",
    "plt.yticks(list(range(1,circuit_width+1)))\n",
    "plt.colorbar()\n",
    "plt.show()"
   ]
  },
  {
   "cell_type": "code",
   "execution_count": null,
   "metadata": {},
   "outputs": [],
   "source": [
    "1-1.02319786e-01"
   ]
  },
  {
   "cell_type": "code",
   "execution_count": null,
   "metadata": {},
   "outputs": [],
   "source": []
  }
 ],
 "metadata": {
  "kernelspec": {
   "display_name": "Python 3",
   "language": "python",
   "name": "python3"
  },
  "language_info": {
   "codemirror_mode": {
    "name": "ipython",
    "version": 3
   },
   "file_extension": ".py",
   "mimetype": "text/x-python",
   "name": "python",
   "nbconvert_exporter": "python",
   "pygments_lexer": "ipython3",
   "version": "3.6.5"
  }
 },
 "nbformat": 4,
 "nbformat_minor": 2
}
