{
 "cells": [
  {
   "cell_type": "markdown",
   "metadata": {},
   "source": [
    "# Volumetrics\n",
    "\n",
    "\n",
    "This module that generates circuits on a graph which represents the QPU or QVM lattice. The basic idea is it will compute error rates of circuits as a function of depth and width.\n",
    "\n",
    "The `width` of the circuit is the number of connected vertices on a particular subgraph.\n",
    "\n",
    "The `depth` is defined in an unusual way. We consider a \"depth 1\" circuit to be a round of X gates randomly applied or not to a particular vertex AND a round of CNOTs randomly applied or not to each edge of the graph."
   ]
  },
  {
   "cell_type": "code",
   "execution_count": 1,
   "metadata": {},
   "outputs": [],
   "source": [
    "import random\n",
    "import itertools\n",
    "import networkx as nx\n",
    "import numpy as np\n",
    "import pandas as pd\n",
    "import time\n",
    "# from scipy.spatial.distance import hamming\n",
    "# import scipy.interpolate\n",
    "\n",
    "from matplotlib import pyplot as plt\n",
    "from pyquil.api import get_qc, QuantumComputer, get_benchmarker\n",
    "from pyquil.gates import CNOT, CCNOT, Z, X, I, H, CZ, MEASURE, RESET\n",
    "from pyquil.quilbase import Pragma\n",
    "\n",
    "from forest.benchmarking.volumetrics import *"
   ]
  },
  {
   "cell_type": "markdown",
   "metadata": {},
   "source": [
    "## Get lattice"
   ]
  },
  {
   "cell_type": "code",
   "execution_count": 2,
   "metadata": {},
   "outputs": [],
   "source": [
    "# if you want to run on a \"real lattice\"\n",
    "from pyquil import *\n",
    "#list_quantum_computers()\n",
    "#perfect_qc = get_qc(\"Aspen-1-16Q-A\", as_qvm=True, noisy=False)\n",
    "#noisy_qc = get_qc(\"Aspen-1-16Q-A\") #, as_qvm=True, noisy=True)\n",
    "\n",
    "noisy_qc = get_qc(\"9q-square-qvm\", as_qvm=True, noisy=True)\n",
    "perfect_qc = get_qc(\"9q-square-qvm\", as_qvm=True, noisy=False)"
   ]
  },
  {
   "cell_type": "code",
   "execution_count": 3,
   "metadata": {},
   "outputs": [
    {
     "name": "stderr",
     "output_type": "stream",
     "text": [
      "/home/kylegulshen/anaconda3/lib/python3.6/site-packages/networkx/drawing/nx_pylab.py:518: MatplotlibDeprecationWarning: \n",
      "The iterable function was deprecated in Matplotlib 3.1 and will be removed in 3.3. Use np.iterable instead.\n",
      "  if not cb.iterable(width):\n",
      "/home/kylegulshen/anaconda3/lib/python3.6/site-packages/networkx/drawing/nx_pylab.py:565: MatplotlibDeprecationWarning: \n",
      "The is_numlike function was deprecated in Matplotlib 3.0 and will be removed in 3.2. Use isinstance(..., numbers.Number) instead.\n",
      "  if cb.is_numlike(alpha):\n"
     ]
    },
    {
     "data": {
      "image/png": "[encoded data removed]",
      "text/plain": [
       "<Figure size 432x288 with 1 Axes>"
      ]
     },
     "metadata": {},
     "output_type": "display_data"
    }
   ],
   "source": [
    "nx.draw(perfect_qc.qubit_topology(),with_labels=True)"
   ]
  },
  {
   "cell_type": "code",
   "execution_count": 4,
   "metadata": {},
   "outputs": [],
   "source": [
    "G = perfect_qc.qubit_topology()"
   ]
  },
  {
   "cell_type": "markdown",
   "metadata": {},
   "source": [
    "## Gate sets\n",
    "\n",
    "### Classical"
   ]
  },
  {
   "cell_type": "code",
   "execution_count": 66,
   "metadata": {},
   "outputs": [],
   "source": [
    "def two_q_id(qb1,qb2):\n",
    "    prog = Program()\n",
    "    prog +=I(qb1)\n",
    "    prog +=I(qb2)\n",
    "    return prog\n",
    "\n",
    "one_c_gates = [X,I]\n",
    "two_c_gates = [two_q_id, CNOT]\n",
    "two_c_toffoli = two_c_gates + [CCNOT]\n",
    "\n",
    "from forest.benchmarking.classical_logic import CNOT_X_basis, CCNOT_X_basis\n",
    "x_basis_one_c_gates = [Z, I]\n",
    "two_x_c_gates = [two_q_id, CNOT_X_basis]\n",
    "two_x_c_toffoli = two_x_c_gates + [CCNOT_X_basis]\n",
    "# if you want to do something in the X basis, add Hadamard layers appropriately; see below."
   ]
  },
  {
   "cell_type": "markdown",
   "metadata": {},
   "source": [
    "### Some quantum"
   ]
  },
  {
   "cell_type": "code",
   "execution_count": 6,
   "metadata": {},
   "outputs": [],
   "source": [
    "one_q_gates = [X,Z,I]\n",
    "two_q_gates = [two_q_id,CZ]"
   ]
  },
  {
   "cell_type": "markdown",
   "metadata": {},
   "source": [
    "### Random Cliffords\n",
    "\n",
    "We use a benchmarker for this. Typically we use the native gates from `get_rb_gateset` to implement each clifford."
   ]
  },
  {
   "cell_type": "code",
   "execution_count": 7,
   "metadata": {},
   "outputs": [],
   "source": [
    "from forest.benchmarking.randomized_benchmarking import get_rb_gateset"
   ]
  },
  {
   "cell_type": "code",
   "execution_count": 8,
   "metadata": {},
   "outputs": [],
   "source": [
    "# my config has gone all cattywampus so i need to do this\n",
    "bm = get_benchmarker()#endpoint='tcp://localhost:6000')"
   ]
  },
  {
   "cell_type": "code",
   "execution_count": 9,
   "metadata": {},
   "outputs": [
    {
     "data": {
      "text/plain": [
       "'tcp://127.0.0.1:5555'"
      ]
     },
     "execution_count": 9,
     "metadata": {},
     "output_type": "execute_result"
    }
   ],
   "source": [
    "bm.client.endpoint"
   ]
  },
  {
   "cell_type": "markdown",
   "metadata": {},
   "source": [
    "## Get random gates on a graph"
   ]
  },
  {
   "cell_type": "code",
   "execution_count": 10,
   "metadata": {},
   "outputs": [
    {
     "name": "stdout",
     "output_type": "stream",
     "text": [
      "Z 0\n",
      "Z 1\n",
      "I 2\n",
      "X 3\n",
      "I 4\n",
      "X 5\n",
      "I 6\n",
      "I 7\n",
      "X 8\n",
      "CZ 0 3\n",
      "I 0\n",
      "I 1\n",
      "I 1\n",
      "I 4\n",
      "I 1\n",
      "I 2\n",
      "I 2\n",
      "I 5\n",
      "CZ 3 6\n",
      "I 3\n",
      "I 4\n",
      "CZ 4 7\n",
      "CZ 4 5\n",
      "CZ 5 8\n",
      "I 6\n",
      "I 7\n",
      "I 7\n",
      "I 8\n",
      "\n"
     ]
    }
   ],
   "source": [
    "prog1 = random_single_qubit_gates(G, one_q_gates)\n",
    "prog2 = random_two_qubit_gates(G, two_q_gates)\n",
    "print(prog1+prog2)"
   ]
  },
  {
   "cell_type": "code",
   "execution_count": 11,
   "metadata": {},
   "outputs": [
    {
     "name": "stdout",
     "output_type": "stream",
     "text": [
      "RZ(pi/2) 0\n",
      "RZ(-pi/2) 1\n",
      "RX(-pi/2) 2\n",
      "RZ(pi/2) 2\n",
      "RZ(pi/2) 3\n",
      "RX(-pi) 3\n",
      "RX(pi/2) 4\n",
      "RZ(-pi) 4\n",
      "RX(-pi) 5\n",
      "RZ(-pi/2) 6\n",
      "RX(-pi/2) 6\n",
      "RX(pi/2) 7\n",
      "RZ(pi/2) 7\n",
      "RZ(-pi) 8\n",
      "RZ(-pi) 8\n",
      "\n"
     ]
    }
   ],
   "source": [
    "progy = random_single_qubit_cliffords(bm, G)\n",
    "print(progy)"
   ]
  },
  {
   "cell_type": "markdown",
   "metadata": {},
   "source": [
    "## Make some circuit templates and sample programs from them\n"
   ]
  },
  {
   "cell_type": "code",
   "execution_count": 12,
   "metadata": {},
   "outputs": [
    {
     "name": "stdout",
     "output_type": "stream",
     "text": [
      "X 3\n",
      "I 4\n",
      "I 3\n",
      "I 4\n",
      "\n"
     ]
    }
   ],
   "source": [
    "classical_1q_layer = get_rand_1q_template(one_c_gates)\n",
    "print(classical_1q_layer.sample_program(G, repetitions=2, width=2))"
   ]
  },
  {
   "cell_type": "code",
   "execution_count": 55,
   "metadata": {},
   "outputs": [
    {
     "name": "stdout",
     "output_type": "stream",
     "text": [
      "I 1\n",
      "I 2\n",
      "CNOT 1 2\n",
      "\n"
     ]
    }
   ],
   "source": [
    "classical_2q_layer = get_rand_2q_template(two_c_gates)\n",
    "print(classical_2q_layer.sample_program(G, repetitions=2, width=2))"
   ]
  },
  {
   "cell_type": "code",
   "execution_count": 14,
   "metadata": {},
   "outputs": [
    {
     "name": "stdout",
     "output_type": "stream",
     "text": [
      "RX(-pi/2) 1\n",
      "CZ 0 1\n",
      "RX(pi/2) 0\n",
      "CZ 0 1\n",
      "RX(-pi/2) 1\n",
      "RZ(-pi/2) 1\n",
      "RX(pi/2) 0\n",
      "CZ 0 1\n",
      "RX(pi/2) 1\n",
      "RZ(-pi/2) 1\n",
      "RX(-pi/2) 1\n",
      "RZ(-pi/2) 0\n",
      "\n"
     ]
    }
   ],
   "source": [
    "clifford_1q_layer = get_rand_1q_cliff_template(bm)\n",
    "clifford_2q_layer = get_rand_2q_cliff_template(bm)\n",
    "print(clifford_2q_layer.sample_program(G, repetitions=2, width=2))"
   ]
  },
  {
   "cell_type": "code",
   "execution_count": 15,
   "metadata": {},
   "outputs": [
    {
     "name": "stdout",
     "output_type": "stream",
     "text": [
      "\n"
     ]
    }
   ],
   "source": [
    "rand_perm_layer = get_rand_qubit_perm_template()\n",
    "print(rand_perm_layer.sample_program(G, 1, qc=noisy_qc, width=2))"
   ]
  },
  {
   "cell_type": "code",
   "execution_count": 16,
   "metadata": {},
   "outputs": [
    {
     "name": "stdout",
     "output_type": "stream",
     "text": [
      "RZ(0.11785201792915327) 3\n",
      "RX(pi/2) 3\n",
      "RZ(1.2581786467023577) 3\n",
      "RX(-pi/2) 3\n",
      "RZ(2.6505976415265136) 4\n",
      "RX(pi/2) 4\n",
      "RZ(2.0200943254789485) 4\n",
      "RX(-pi/2) 4\n",
      "CZ 4 3\n",
      "RZ(2.7706770614283514) 3\n",
      "RX(pi/2) 3\n",
      "RZ(2.116190488581367) 3\n",
      "RX(-pi/2) 3\n",
      "RZ(-2.0161284266416732) 4\n",
      "RX(-pi/2) 4\n",
      "CZ 4 3\n",
      "RX(pi/2) 3\n",
      "RZ(-1.910267805532091) 3\n",
      "RX(-pi/2) 3\n",
      "RZ(1.2522862991683366) 4\n",
      "RX(pi/2) 4\n",
      "CZ 4 3\n",
      "RZ(1.508578705534201) 3\n",
      "RX(pi/2) 3\n",
      "RZ(1.6765904540675152) 3\n",
      "RX(-pi/2) 3\n",
      "RZ(2.6543304268984675) 3\n",
      "RZ(-0.07923360008273406) 4\n",
      "RX(pi/2) 4\n",
      "RZ(1.5665896468803189) 4\n",
      "RX(-pi/2) 4\n",
      "RZ(-0.24384831275800067) 4\n",
      "\n"
     ]
    }
   ],
   "source": [
    "rand_su4_layer = get_rand_su4_template()\n",
    "print(rand_su4_layer.sample_program(G, 1, qc=noisy_qc, width=2))"
   ]
  },
  {
   "cell_type": "markdown",
   "metadata": {},
   "source": [
    "## Compose templates"
   ]
  },
  {
   "cell_type": "code",
   "execution_count": 56,
   "metadata": {},
   "outputs": [
    {
     "name": "stdout",
     "output_type": "stream",
     "text": [
      "X 1\n",
      "I 3\n",
      "X 4\n",
      "I 7\n",
      "I 1\n",
      "I 4\n",
      "I 3\n",
      "I 4\n",
      "CNOT 4 7\n",
      "I 1\n",
      "X 3\n",
      "I 4\n",
      "I 7\n",
      "I 1\n",
      "I 4\n",
      "I 3\n",
      "I 4\n",
      "I 4\n",
      "I 7\n",
      "\n"
     ]
    }
   ],
   "source": [
    "classical_1q_2q = classical_1q_layer + classical_2q_layer\n",
    "print(classical_1q_2q.sample_program(G, repetitions=2, width=4))"
   ]
  },
  {
   "cell_type": "code",
   "execution_count": 62,
   "metadata": {},
   "outputs": [
    {
     "name": "stdout",
     "output_type": "stream",
     "text": [
      "RZ(-pi) 7\n",
      "RX(-pi) 7\n",
      "RX(pi/2) 8\n",
      "RZ(pi/2) 8\n",
      "RX(-pi/2) 8\n",
      "CZ 7 8\n",
      "RZ(-pi/2) 8\n",
      "RX(pi/2) 8\n",
      "RX(pi/2) 7\n",
      "CZ 7 8\n",
      "RX(-pi/2) 8\n",
      "RZ(-pi/2) 8\n",
      "RZ(pi/2) 8\n",
      "RX(pi/2) 8\n",
      "CZ 7 8\n",
      "RX(-pi/2) 7\n",
      "RX(-pi/2) 8\n",
      "CZ 7 8\n",
      "RZ(pi) 7\n",
      "RX(pi) 7\n",
      "RX(-pi/2) 8\n",
      "RZ(pi/2) 8\n",
      "RX(-pi/2) 7\n",
      "RZ(pi/2) 7\n",
      "RX(-pi/2) 7\n",
      "RX(pi/2) 8\n",
      "RZ(pi/2) 8\n",
      "CZ 7 8\n",
      "RX(-pi/2) 8\n",
      "RZ(-pi/2) 7\n",
      "RX(-pi/2) 7\n",
      "CZ 7 8\n",
      "RX(-pi/2) 8\n",
      "RX(-pi/2) 7\n",
      "CZ 7 8\n",
      "RX(-pi/2) 8\n",
      "RX(-pi/2) 7\n",
      "RX(pi/2) 7\n",
      "RX(pi/2) 8\n",
      "CZ 7 8\n",
      "RX(pi/2) 7\n",
      "RX(pi/2) 8\n",
      "CZ 7 8\n",
      "RX(pi/2) 7\n",
      "RX(pi/2) 8\n",
      "CZ 7 8\n",
      "RX(pi/2) 7\n",
      "RZ(-pi/2) 7\n",
      "RZ(-pi/2) 8\n",
      "RX(-pi/2) 8\n",
      "RZ(-pi) 7\n",
      "RZ(-pi) 7\n",
      "RX(-pi/2) 8\n",
      "RZ(-pi) 8\n",
      "RZ(pi/2) 7\n",
      "RX(pi/2) 7\n",
      "CZ 7 8\n",
      "RX(pi/2) 8\n",
      "CZ 7 8\n",
      "RZ(pi/2) 8\n",
      "RX(-pi/2) 7\n",
      "RZ(pi) 7\n",
      "RX(pi/2) 7\n",
      "RX(pi/2) 8\n",
      "CZ 7 8\n",
      "RZ(-pi/2) 7\n",
      "RX(pi/2) 7\n",
      "RZ(-pi/2) 7\n",
      "RZ(pi) 8\n",
      "RX(pi/2) 8\n",
      "RZ(-pi/2) 8\n",
      "\n",
      "This program compiles away to nothing: \n",
      "HALT\n",
      "\n"
     ]
    }
   ],
   "source": [
    "clifford_sandwich = clifford_1q_layer + clifford_2q_layer + get_dagger_all_template()\n",
    "# here we demonstrate a simple use of a pattern. We want to do some Clifford layers n=reps\n",
    "# number of times and then dagger the result of all those reps. \n",
    "clifford_sandwich.template = [([0, 1], 'n'), -1]\n",
    "prog = clifford_sandwich.sample_program(G, repetitions=3, width=2,  qc=noisy_qc)\n",
    "print(prog)\n",
    "\n",
    "# We can check that this is the identity by compiling it fully\n",
    "print(\"This program compiles away to nothing: \")\n",
    "print(noisy_qc.compiler.quil_to_native_quil(prog))"
   ]
  },
  {
   "cell_type": "markdown",
   "metadata": {},
   "source": [
    "### Quantum Volume (unoptimized)"
   ]
  },
  {
   "cell_type": "code",
   "execution_count": 19,
   "metadata": {},
   "outputs": [
    {
     "name": "stdout",
     "output_type": "stream",
     "text": [
      "RZ(-pi/2) 4\n",
      "RX(pi/2) 4\n",
      "CZ 4 3\n",
      "RZ(1.951795907900012) 1\n",
      "RX(pi/2) 1\n",
      "RZ(0.7919116729617787) 1\n",
      "RX(-pi/2) 1\n",
      "RZ(2.7853607053298983) 1\n",
      "RZ(pi/2) 3\n",
      "RX(pi/2) 3\n",
      "CZ 3 0\n",
      "RZ(pi/2) 4\n",
      "RZ(1.5177465526100262) 0\n",
      "RX(pi/2) 0\n",
      "RZ(1.1084325856156383) 0\n",
      "RX(-pi/2) 0\n",
      "RZ(-0.6161242247014961) 1\n",
      "RX(pi/2) 1\n",
      "RZ(2.234857238002245) 1\n",
      "RX(-pi/2) 1\n",
      "CZ 1 0\n",
      "RZ(2.7548278038463287) 0\n",
      "RX(pi/2) 0\n",
      "RZ(-1.8087058700424092) 1\n",
      "RX(-pi/2) 1\n",
      "CZ 1 0\n",
      "RX(-pi/2) 0\n",
      "RX(pi/2) 1\n",
      "CZ 1 0\n",
      "RZ(pi) 3\n",
      "RX(pi/2) 3\n",
      "CZ 4 3\n",
      "RZ(-3.0230813617482806) 1\n",
      "RX(pi/2) 1\n",
      "RZ(0.4130278604476975) 1\n",
      "RX(-pi/2) 1\n",
      "RX(pi/2) 4\n",
      "CZ 4 1\n",
      "RX(pi/2) 4\n",
      "CZ 4 3\n",
      "RZ(-2.142349732148442) 1\n",
      "RX(pi/2) 1\n",
      "CZ 1 4\n",
      "RZ(pi) 3\n",
      "RX(pi/2) 3\n",
      "RX(pi/2) 4\n",
      "CZ 3 4\n",
      "RZ(-2.8444744722311635) 0\n",
      "RX(pi/2) 0\n",
      "RZ(0.4119373131834168) 0\n",
      "RX(-pi/2) 0\n",
      "RZ(0.05985619862119851) 0\n",
      "RZ(pi/2) 1\n",
      "RX(pi/2) 1\n",
      "RZ(pi) 3\n",
      "RX(pi/2) 3\n",
      "RZ(pi/2) 3\n",
      "RZ(pi/2) 4\n",
      "RZ(2.181679007482475) 0\n",
      "RX(pi/2) 0\n",
      "RZ(2.4168208899321426) 0\n",
      "RX(-pi/2) 0\n",
      "RZ(1.3561639132775347) 1\n",
      "RX(pi/2) 1\n",
      "RZ(0.5054358777299659) 1\n",
      "RX(-pi/2) 1\n",
      "CZ 1 0\n",
      "RZ(-3.0981258310535864) 0\n",
      "RX(pi/2) 0\n",
      "RZ(2.5876412414818506) 0\n",
      "RX(-pi/2) 0\n",
      "RZ(2.5299586458264516) 1\n",
      "RX(-pi/2) 1\n",
      "CZ 1 0\n",
      "RX(pi/2) 0\n",
      "RZ(-1.8459094809233645) 0\n",
      "RX(-pi/2) 0\n",
      "RZ(1.6576704051401236) 1\n",
      "RX(pi/2) 1\n",
      "CZ 1 0\n",
      "RZ(-1.1294230724143155) 3\n",
      "RX(pi/2) 3\n",
      "RZ(0.22436173749974242) 3\n",
      "RX(-pi/2) 3\n",
      "RZ(-1.926836831398025) 4\n",
      "RX(pi/2) 4\n",
      "RZ(1.6926187245214688) 4\n",
      "RX(-pi/2) 4\n",
      "CZ 4 3\n",
      "RZ(-0.5824264796431509) 3\n",
      "RX(pi/2) 3\n",
      "RZ(2.2769133712525482) 3\n",
      "RX(-pi/2) 3\n",
      "RZ(-1.2132552473825973) 4\n",
      "RX(-pi/2) 4\n",
      "CZ 4 3\n",
      "RX(pi/2) 3\n",
      "RZ(-1.7375310687324212) 3\n",
      "RX(-pi/2) 3\n",
      "RZ(2.0860557134920192) 4\n",
      "RX(pi/2) 4\n",
      "CZ 4 3\n",
      "RZ(1.432997872991327) 0\n",
      "RX(pi/2) 0\n",
      "RZ(0.5048863714003274) 0\n",
      "RX(-pi/2) 0\n",
      "RZ(2.236589370291653) 0\n",
      "RZ(-2.7692562170320967) 1\n",
      "RX(pi/2) 1\n",
      "RZ(2.3998923362770515) 1\n",
      "RX(-pi/2) 1\n",
      "RZ(1.225226394027306) 1\n",
      "RZ(0.6792109675957007) 3\n",
      "RX(pi/2) 3\n",
      "RZ(2.111387716875907) 3\n",
      "RX(-pi/2) 3\n",
      "RZ(2.1616969755312274) 3\n",
      "RZ(0.5842987066334734) 4\n",
      "RX(pi/2) 4\n",
      "RZ(1.0718260636200534) 4\n",
      "RX(-pi/2) 4\n",
      "RZ(-0.9254322669483628) 4\n",
      "RZ(pi/2) 0\n",
      "RZ(-pi/2) 7\n",
      "RX(-pi/2) 7\n",
      "CZ 7 4\n",
      "RX(-pi/2) 4\n",
      "CZ 4 3\n",
      "RX(-pi/2) 4\n",
      "CZ 7 4\n",
      "CZ 4 3\n",
      "RZ(1.8685253975378617) 7\n",
      "RX(-pi/2) 7\n",
      "RZ(2.49350362084352) 7\n",
      "RX(-pi/2) 7\n",
      "RZ(2.320400158101815) 7\n",
      "RX(pi/2) 3\n",
      "CZ 0 3\n",
      "RZ(-2.1218250792931617) 4\n",
      "RX(-pi/2) 4\n",
      "RZ(2.5750710552018274) 4\n",
      "RX(-pi/2) 4\n",
      "CZ 7 4\n",
      "RZ(-2.9937689827524547) 4\n",
      "RX(pi/2) 4\n",
      "RZ(-pi/2) 7\n",
      "RX(-pi/2) 7\n",
      "CZ 7 4\n",
      "RX(-pi/2) 4\n",
      "RX(pi/2) 7\n",
      "CZ 7 4\n",
      "RZ(pi) 0\n",
      "RX(pi/2) 0\n",
      "CZ 0 1\n",
      "RZ(pi) 3\n",
      "RX(pi/2) 3\n",
      "RZ(-2.076884732660866) 4\n",
      "RX(pi/2) 4\n",
      "RZ(1.9946824821991356) 4\n",
      "RX(-pi/2) 4\n",
      "CZ 4 3\n",
      "RZ(0.20151097080861238) 3\n",
      "RX(pi/2) 3\n",
      "RZ(2.6211840627896286) 3\n",
      "RX(-pi/2) 3\n",
      "RZ(3.0951183481844504) 6\n",
      "RX(pi/2) 6\n",
      "RZ(0.7776258165179208) 6\n",
      "RX(-pi/2) 6\n",
      "CZ 3 6\n",
      "RZ(0.4535748200618497) 3\n",
      "RX(-pi/2) 3\n",
      "RZ(-2.947405122439621) 6\n",
      "RX(pi/2) 6\n",
      "CZ 3 6\n",
      "RX(pi/2) 3\n",
      "RX(-pi/2) 6\n",
      "CZ 3 6\n",
      "CZ 4 1\n",
      "RZ(-0.2598678072254591) 3\n",
      "RX(pi/2) 3\n",
      "RZ(2.010163750701675) 3\n",
      "RX(-pi/2) 3\n",
      "RZ(-0.7344708173510989) 4\n",
      "RX(pi/2) 4\n",
      "RZ(1.7084799786838767) 4\n",
      "RX(-pi/2) 4\n",
      "CZ 3 4\n",
      "RZ(-0.7885111765916547) 3\n",
      "RX(-pi/2) 3\n",
      "RZ(-1.9480898157046447) 4\n",
      "RX(pi/2) 4\n",
      "CZ 3 4\n",
      "RX(pi/2) 3\n",
      "RX(-pi/2) 4\n",
      "CZ 3 4\n",
      "RZ(3.0358358074442924) 3\n",
      "RX(pi/2) 3\n",
      "RZ(1.9324839657160544) 3\n",
      "RX(-pi/2) 3\n",
      "CZ 3 0\n",
      "RZ(1.0092290858542186) 7\n",
      "RX(pi/2) 7\n",
      "RZ(1.6499272671650627) 7\n",
      "RX(-pi/2) 7\n",
      "RZ(2.7155550526269643) 7\n",
      "RZ(0.4450475832190037) 3\n",
      "RX(pi/2) 3\n",
      "RZ(0.15570308096416433) 3\n",
      "RX(-pi/2) 3\n",
      "RZ(-0.15952945673304986) 4\n",
      "RX(pi/2) 4\n",
      "RZ(1.9248965199196322) 4\n",
      "RX(-pi/2) 4\n",
      "CZ 4 3\n",
      "RZ(1.06291262731318) 3\n",
      "RX(pi/2) 3\n",
      "RZ(0.6685053138699004) 4\n",
      "RX(-pi/2) 4\n",
      "CZ 4 3\n",
      "RX(-pi/2) 3\n",
      "RX(pi/2) 4\n",
      "CZ 4 3\n",
      "RZ(-2.3212997416671692) 4\n",
      "RX(pi/2) 4\n",
      "RZ(2.968269073819748) 4\n",
      "RX(-pi/2) 4\n",
      "CZ 4 7\n",
      "RZ(-2.0464949736279507) 6\n",
      "RX(pi/2) 6\n",
      "RZ(1.7904371909737251) 6\n",
      "RX(-pi/2) 6\n",
      "RZ(0.19861208425653398) 6\n",
      "RZ(-1.011526640998328) 0\n",
      "RX(pi/2) 0\n",
      "RZ(1.6274095195436173) 0\n",
      "RX(-pi/2) 0\n",
      "RZ(-1.9238404246644494) 0\n",
      "RZ(0.10561368681207481) 3\n",
      "RX(pi/2) 3\n",
      "RZ(2.9573860603783784) 3\n",
      "RX(-pi/2) 3\n",
      "RZ(-0.26482527740700523) 4\n",
      "RX(pi/2) 4\n",
      "RZ(1.4158440799954755) 4\n",
      "RX(-pi/2) 4\n",
      "CZ 3 4\n",
      "RZ(-0.7995888971250018) 3\n",
      "RX(-pi/2) 3\n",
      "RZ(-2.2962086046290917) 4\n",
      "RX(pi/2) 4\n",
      "CZ 3 4\n",
      "RX(pi/2) 3\n",
      "RX(-pi/2) 4\n",
      "CZ 3 4\n",
      "RZ(-0.23123341816882048) 3\n",
      "RX(pi/2) 3\n",
      "RZ(2.4027692224661874) 3\n",
      "RX(-pi/2) 3\n",
      "CZ 3 6\n",
      "RZ(pi) 1\n",
      "RZ(0.6735458691883742) 3\n",
      "RX(pi/2) 3\n",
      "RZ(0.48975437200509325) 3\n",
      "RX(-pi/2) 3\n",
      "RZ(0.7552975986881768) 4\n",
      "RX(pi/2) 4\n",
      "RZ(1.7059686960882863) 4\n",
      "RX(-pi/2) 4\n",
      "CZ 3 4\n",
      "RZ(3.106120237278571) 3\n",
      "RX(-pi/2) 3\n",
      "RZ(0.5912750490708936) 4\n",
      "RX(pi/2) 4\n",
      "CZ 3 4\n",
      "RX(pi/2) 3\n",
      "RX(-pi/2) 4\n",
      "CZ 3 4\n",
      "RZ(-0.2283075789219544) 3\n",
      "RX(pi/2) 3\n",
      "RZ(0.6013642173488605) 3\n",
      "RX(-pi/2) 3\n",
      "CZ 3 0\n",
      "RZ(-pi/2) 0\n",
      "RX(pi/2) 0\n",
      "RZ(0.7440963906580933) 3\n",
      "RX(-pi/2) 3\n",
      "CZ 3 0\n",
      "RX(-pi/2) 0\n",
      "RX(pi/2) 3\n",
      "CZ 3 0\n",
      "RZ(1.0813031297608813) 4\n",
      "RX(pi/2) 4\n",
      "RZ(1.587480150714526) 4\n",
      "RX(-pi/2) 4\n",
      "CZ 4 1\n",
      "RZ(1.1243658979333377) 6\n",
      "RX(pi/2) 6\n",
      "RZ(1.5666254125314762) 6\n",
      "RX(-pi/2) 6\n",
      "RZ(-0.2631548412884577) 6\n",
      "RZ(0.06032559630222156) 3\n",
      "RX(pi/2) 3\n",
      "RZ(1.2183425094310614) 3\n",
      "RX(-pi/2) 3\n",
      "CZ 4 3\n",
      "RZ(-2.150912796077483) 3\n",
      "RX(pi/2) 3\n",
      "RZ(pi/2) 3\n",
      "CZ 4 7\n",
      "CZ 4 3\n",
      "RZ(2.348441339667242) 7\n",
      "RX(pi/2) 7\n",
      "RZ(0.7267635234720368) 7\n",
      "RX(-pi/2) 7\n",
      "CZ 7 6\n",
      "RZ(-pi/2) 6\n",
      "RX(pi/2) 6\n",
      "RZ(-0.8696457434565027) 7\n",
      "RX(-pi/2) 7\n",
      "CZ 7 6\n",
      "RX(-pi/2) 6\n",
      "RX(pi/2) 7\n",
      "CZ 7 6\n",
      "RZ(-1.0206062723483336) 3\n",
      "RX(pi/2) 3\n",
      "RZ(1.275965753737168) 3\n",
      "RX(-pi/2) 3\n",
      "RZ(-2.1939435886966403) 6\n",
      "RX(pi/2) 6\n",
      "RZ(0.8165405378538685) 6\n",
      "RX(-pi/2) 6\n",
      "CZ 3 6\n",
      "RZ(2.98988358077864) 3\n",
      "RX(-pi/2) 3\n",
      "RZ(-0.023661379802107696) 6\n",
      "RX(pi/2) 6\n",
      "CZ 3 6\n",
      "RX(pi/2) 3\n",
      "RX(-pi/2) 6\n",
      "CZ 3 6\n",
      "RZ(0.3540922040708132) 4\n",
      "RX(pi/2) 4\n",
      "RZ(-0.4604331632805967) 7\n",
      "RX(pi/2) 7\n",
      "RZ(1.3321652153709513) 7\n",
      "RX(-pi/2) 7\n",
      "CZ 4 7\n",
      "RZ(1.1582910336137564) 6\n",
      "RX(pi/2) 6\n",
      "RZ(1.4003616491329842) 6\n",
      "RX(-pi/2) 6\n",
      "RZ(1.898668798835435) 6\n",
      "RZ(-1.1006809598072471) 7\n",
      "RX(pi/2) 7\n",
      "RZ(1.5410625539031628) 7\n",
      "RX(-pi/2) 7\n",
      "RZ(-1.114983161963262) 8\n",
      "RX(pi/2) 8\n",
      "RZ(2.699495491875222) 8\n",
      "RX(-pi/2) 8\n",
      "CZ 8 7\n",
      "RZ(-2.6846905855687293) 7\n",
      "RX(pi/2) 7\n",
      "RZ(3.1389914750345262) 8\n",
      "RX(-pi/2) 8\n",
      "CZ 8 7\n",
      "RX(-pi/2) 7\n",
      "RX(pi/2) 8\n",
      "CZ 8 7\n",
      "RZ(-2.995406884628286) 3\n",
      "RX(pi/2) 3\n",
      "RZ(2.49563466226179) 3\n",
      "RX(-pi/2) 3\n",
      "RX(-pi/2) 4\n",
      "CZ 4 3\n",
      "RZ(-2.681313338957581) 6\n",
      "RX(pi/2) 6\n",
      "RZ(1.873053084694517) 6\n",
      "RX(-pi/2) 6\n",
      "RZ(0.17875731698780212) 7\n",
      "RX(pi/2) 7\n",
      "RZ(2.2691462346139892) 7\n",
      "RX(-pi/2) 7\n",
      "CZ 6 7\n",
      "RZ(-2.363795708458353) 6\n",
      "RX(-pi/2) 6\n",
      "RZ(2.3235484943006153) 7\n",
      "RX(pi/2) 7\n",
      "CZ 6 7\n",
      "RX(pi/2) 6\n",
      "RX(-pi/2) 7\n",
      "CZ 6 7\n",
      "RZ(0.544694347088684) 7\n",
      "RX(pi/2) 7\n",
      "RZ(1.2606909033887352) 7\n",
      "RX(-pi/2) 7\n",
      "CZ 4 7\n",
      "RZ(2.2407584529630427) 5\n",
      "RX(pi/2) 5\n",
      "RZ(2.144540525794469) 5\n",
      "RX(-pi/2) 5\n",
      "RZ(3.0931447605756315) 8\n",
      "RX(pi/2) 8\n",
      "RZ(0.6828584452204652) 8\n",
      "RX(-pi/2) 8\n",
      "CZ 8 5\n",
      "RZ(1.6314503377044725) 5\n",
      "RX(pi/2) 5\n",
      "RZ(-1.7876891342819923) 8\n",
      "RX(-pi/2) 8\n",
      "CZ 8 5\n",
      "RX(-pi/2) 5\n",
      "RX(pi/2) 8\n",
      "CZ 8 5\n",
      "RZ(-2.3488753521106513) 3\n",
      "RX(-pi/2) 3\n",
      "RZ(-1.4574960207643892) 5\n",
      "RX(pi/2) 5\n",
      "RZ(1.1536231535298294) 5\n",
      "RX(-pi/2) 5\n",
      "CZ 4 5\n",
      "CZ 4 7\n",
      "RX(pi/2) 4\n",
      "CZ 4 3\n",
      "RX(-pi/2) 4\n",
      "CZ 4 7\n",
      "CZ 4 3\n",
      "CZ 7 4\n",
      "RZ(2.1729457235425187) 0\n",
      "RX(pi/2) 0\n",
      "RZ(1.0340275058900241) 0\n",
      "RX(-pi/2) 0\n",
      "RZ(0.6160858027767535) 0\n",
      "RZ(pi) 1\n",
      "RZ(pi/2) 3\n",
      "RX(pi/2) 3\n",
      "RZ(pi/2) 3\n",
      "RZ(pi/2) 4\n",
      "RX(pi/2) 4\n",
      "RZ(-pi/2) 4\n",
      "RZ(-0.6233131613976539) 5\n",
      "RX(pi/2) 5\n",
      "RZ(pi/2) 5\n",
      "RZ(-2.8150569740417817) 6\n",
      "RX(pi/2) 6\n",
      "RZ(0.6735634699157591) 6\n",
      "RX(-pi/2) 6\n",
      "RZ(3.1401695256955513) 6\n",
      "RZ(1.6035960331127495) 7\n",
      "RZ(1.4772741418695952) 8\n",
      "RX(pi/2) 8\n",
      "RZ(0.5765833844400695) 8\n",
      "RX(-pi/2) 8\n",
      "RZ(1.012254905572644) 8\n",
      "RZ(1.4605898894111051) 0\n",
      "RX(pi/2) 0\n",
      "RZ(1.3830045236872355) 0\n",
      "RX(-pi/2) 0\n",
      "RZ(0.408113751440715) 1\n",
      "RX(pi/2) 1\n",
      "RZ(1.6415947137620286) 1\n",
      "RX(-pi/2) 1\n",
      "CZ 1 0\n",
      "RZ(0.4158997227804795) 0\n",
      "RX(pi/2) 0\n",
      "RZ(2.23437186429852) 0\n",
      "RX(-pi/2) 0\n",
      "RZ(2.9095636642859324) 1\n",
      "RX(-pi/2) 1\n",
      "CZ 1 0\n",
      "RX(pi/2) 0\n",
      "RZ(-1.6192644098125442) 0\n",
      "RX(-pi/2) 0\n",
      "RZ(1.0904035047865381) 1\n",
      "RX(pi/2) 1\n",
      "CZ 1 0\n",
      "RZ(-0.6036671256394961) 3\n",
      "RX(pi/2) 3\n",
      "RZ(1.7586756433467325) 3\n",
      "RX(-pi/2) 3\n",
      "RZ(-0.7828371158941468) 4\n",
      "RX(pi/2) 4\n",
      "RZ(2.78273342826615) 4\n",
      "RX(-pi/2) 4\n",
      "CZ 4 3\n",
      "RZ(1.5880073398183416) 3\n",
      "RX(pi/2) 3\n",
      "RZ(2.7058626098329652) 3\n",
      "RX(-pi/2) 3\n",
      "RZ(-0.3861142002645366) 4\n",
      "RX(-pi/2) 4\n",
      "CZ 4 3\n",
      "RX(pi/2) 3\n",
      "RZ(-1.6412154358517324) 3\n",
      "RX(-pi/2) 3\n",
      "RZ(1.540335318413418) 4\n",
      "RX(pi/2) 4\n",
      "CZ 4 3\n",
      "RZ(-1.942378764199594) 0\n",
      "RX(pi/2) 0\n",
      "RZ(1.6760921462375638) 0\n",
      "RX(-pi/2) 0\n",
      "RZ(-0.3913625233735054) 0\n",
      "RZ(-1.055503703949598) 1\n",
      "RX(pi/2) 1\n",
      "RZ(1.2377305279076454) 1\n",
      "RX(-pi/2) 1\n",
      "RZ(0.026076573890575716) 1\n",
      "RZ(2.8184044971909157) 3\n",
      "RX(pi/2) 3\n",
      "RZ(1.6544189953105404) 3\n",
      "RX(-pi/2) 3\n",
      "RZ(-0.6621453330057185) 3\n",
      "RZ(0.8786147451018624) 4\n",
      "RX(pi/2) 4\n",
      "RZ(1.5367007245233615) 4\n",
      "RX(-pi/2) 4\n",
      "RZ(1.2164717139543244) 4\n",
      "\n"
     ]
    }
   ],
   "source": [
    "qv_template = rand_perm_layer + rand_su4_layer\n",
    "print(qv_template.sample_program(G, repetitions=2, qc=noisy_qc, width=5))"
   ]
  },
  {
   "cell_type": "markdown",
   "metadata": {},
   "source": [
    "## Acquire data for ranges of (width, depth)"
   ]
  },
  {
   "cell_type": "code",
   "execution_count": 63,
   "metadata": {},
   "outputs": [
    {
     "name": "stdout",
     "output_type": "stream",
     "text": [
      "{2: {4: [<pyquil.quil.Program object at 0x7f7f20297940>, <pyquil.quil.Program object at 0x7f7f202aac50>, <pyquil.quil.Program object at 0x7f7f2029b470>, <pyquil.quil.Program object at 0x7f7f2029bbe0>, <pyquil.quil.Program object at 0x7f7f202974e0>, <pyquil.quil.Program object at 0x7f7f202b83c8>, <pyquil.quil.Program object at 0x7f7f202b8b00>, <pyquil.quil.Program object at 0x7f7f202be470>, <pyquil.quil.Program object at 0x7f7f202411d0>, <pyquil.quil.Program object at 0x7f7f202b8438>]}, 3: {4: [<pyquil.quil.Program object at 0x7f7f20241a20>, <pyquil.quil.Program object at 0x7f7f202468d0>, <pyquil.quil.Program object at 0x7f7f2029b860>, <pyquil.quil.Program object at 0x7f7f202a1cf8>, <pyquil.quil.Program object at 0x7f7f203b71d0>, <pyquil.quil.Program object at 0x7f7f197d9cf8>, <pyquil.quil.Program object at 0x7f7f20120710>, <pyquil.quil.Program object at 0x7f7f20340da0>, <pyquil.quil.Program object at 0x7f7f20285390>, <pyquil.quil.Program object at 0x7f7f20285cc0>]}, 4: {4: [<pyquil.quil.Program object at 0x7f7f20094978>, <pyquil.quil.Program object at 0x7f7f20045e10>, <pyquil.quil.Program object at 0x7f7f202cecc0>, <pyquil.quil.Program object at 0x7f7f212c7f28>, <pyquil.quil.Program object at 0x7f7f20137ef0>, <pyquil.quil.Program object at 0x7f7f20377278>, <pyquil.quil.Program object at 0x7f7f2034c588>, <pyquil.quil.Program object at 0x7f7f202d6748>, <pyquil.quil.Program object at 0x7f7f202cccf8>, <pyquil.quil.Program object at 0x7f7f202e4dd8>]}}\n"
     ]
    }
   ],
   "source": [
    "widths = [2, 3, 4]\n",
    "depths = [3, 4]\n",
    "ckt = classical_1q_2q\n",
    "prog_array = generate_volumetric_program_array(noisy_qc, ckt, widths, depths, num_circuit_samples=10)\n",
    "print(prog_array)"
   ]
  },
  {
   "cell_type": "code",
   "execution_count": 21,
   "metadata": {},
   "outputs": [],
   "source": [
    "noisy_results = acquire_volumetric_data(noisy_qc, prog_array)"
   ]
  },
  {
   "cell_type": "code",
   "execution_count": 22,
   "metadata": {},
   "outputs": [
    {
     "name": "stdout",
     "output_type": "stream",
     "text": [
      "{2: {4: [array([[1, 0]]), array([[1, 1]]), array([[0, 0]]), array([[0, 1]]), array([[1, 0]]), array([[1, 0]]), array([[0, 0]]), array([[1, 0]]), array([[0, 1]]), array([[1, 0]])]}, 3: {4: [array([[1, 0, 0]]), array([[1, 1, 1]]), array([[0, 1, 1]]), array([[1, 1, 1]]), array([[1, 1, 0]]), array([[0, 0, 0]]), array([[1, 1, 0]]), array([[1, 0, 1]]), array([[0, 1, 1]]), array([[0, 0, 1]])]}, 4: {4: [array([[0, 1, 0, 0]]), array([[0, 1, 0, 1]]), array([[1, 0, 1, 0]]), array([[0, 0, 1, 0]]), array([[1, 0, 0, 1]]), array([[0, 1, 1, 0]]), array([[0, 1, 1, 0]]), array([[0, 1, 1, 1]]), array([[1, 0, 0, 1]]), array([[0, 0, 1, 1]])]}}\n"
     ]
    }
   ],
   "source": [
    "ideal_results = acquire_volumetric_data(perfect_qc, prog_array, num_shots=1)\n",
    "print(ideal_results)"
   ]
  },
  {
   "cell_type": "code",
   "execution_count": 23,
   "metadata": {},
   "outputs": [
    {
     "name": "stdout",
     "output_type": "stream",
     "text": [
      "{2: {4: [array([0.884, 0.112, 0.004]), array([0.804, 0.178, 0.018]), array([0.95, 0.05, 0.  ]), array([0.884, 0.116, 0.   ]), array([0.902, 0.096, 0.002]), array([0.892, 0.106, 0.002]), array([0.942, 0.058, 0.   ]), array([0.896, 0.102, 0.002]), array([0.886, 0.108, 0.006]), array([0.876, 0.114, 0.01 ])]}, 3: {4: [array([0.856, 0.138, 0.006, 0.   ]), array([0.746, 0.214, 0.04 , 0.   ]), array([0.778, 0.198, 0.022, 0.002]), array([0.748, 0.232, 0.02 , 0.   ]), array([0.804, 0.188, 0.008, 0.   ]), array([0.93 , 0.054, 0.016, 0.   ]), array([0.79 , 0.186, 0.02 , 0.004]), array([0.79 , 0.196, 0.014, 0.   ]), array([0.818, 0.172, 0.01 , 0.   ]), array([0.832, 0.154, 0.012, 0.002])]}, 4: {4: [array([0.872, 0.118, 0.01 , 0.   , 0.   ]), array([0.76 , 0.21 , 0.026, 0.004, 0.   ]), array([0.756, 0.226, 0.018, 0.   , 0.   ]), array([0.794, 0.19 , 0.016, 0.   , 0.   ]), array([0.77 , 0.206, 0.022, 0.002, 0.   ]), array([0.762, 0.228, 0.01 , 0.   , 0.   ]), array([0.77 , 0.206, 0.016, 0.008, 0.   ]), array([0.7  , 0.266, 0.03 , 0.002, 0.002]), array([0.814, 0.166, 0.016, 0.004, 0.   ]), array([0.782, 0.196, 0.022, 0.   , 0.   ])]}}\n"
     ]
    }
   ],
   "source": [
    "err_hamm_distrs = get_error_hamming_weight_distributions(noisy_results, ideal_results)\n",
    "print(err_hamm_distrs)"
   ]
  },
  {
   "cell_type": "code",
   "execution_count": 24,
   "metadata": {},
   "outputs": [
    {
     "name": "stdout",
     "output_type": "stream",
     "text": [
      "{2: {4: array([0.8916, 0.104 , 0.0044])}, 3: {4: array([8.092e-01, 1.732e-01, 1.680e-02, 8.000e-04])}, 4: {4: array([7.780e-01, 2.012e-01, 1.860e-02, 2.000e-03, 2.000e-04])}}\n"
     ]
    }
   ],
   "source": [
    "avg_err_hamm_distrs = {w: {d: sum(distrs)/len(distrs)} for w, d_arr in err_hamm_distrs.items()\n",
    "                            for d, distrs in d_arr.items()}\n",
    "print(avg_err_hamm_distrs)"
   ]
  },
  {
   "cell_type": "code",
   "execution_count": null,
   "metadata": {},
   "outputs": [],
   "source": []
  },
  {
   "cell_type": "markdown",
   "metadata": {},
   "source": [
    "## Plot the distribution of sublattice widths"
   ]
  },
  {
   "cell_type": "code",
   "execution_count": 65,
   "metadata": {},
   "outputs": [
    {
     "data": {
      "text/plain": [
       "[9, 12, 22, 36, 49, 48, 32, 9, 1, 9, 12, 22, 36, 49, 48, 32, 9, 1]"
      ]
     },
     "execution_count": 65,
     "metadata": {},
     "output_type": "execute_result"
    },
    {
     "data": {
      "image/png": "[encoded data removed]",
      "text/plain": [
       "<Figure size 432x288 with 1 Axes>"
      ]
     },
     "metadata": {},
     "output_type": "display_data"
    }
   ],
   "source": [
    "G = perfect_qc.qubit_topology()\n",
    "len(perfect_qc.qubit_topology())\n",
    "# distribution of graph lengths\n",
    "distr = []\n",
    "for num_nodes in range(1, len(G.nodes) + 1):\n",
    "    listg = generate_connected_subgraphs(G, num_nodes)\n",
    "    distr.append(len(listg))\n",
    "\n",
    "cir_wid = list(range(1, len(G.nodes) + 1))\n",
    "plt.bar(cir_wid, distr, width=0.61, align='center')\n",
    "plt.xticks(cir_wid)\n",
    "plt.xlabel('sublattice / circuit width')\n",
    "plt.ylabel('Frequency of Occurence')\n",
    "plt.grid(axis='y', alpha=0.75)\n",
    "plt.title('Distribution of sublattice widths')\n",
    "disty"
   ]
  },
  {
   "cell_type": "markdown",
   "metadata": {},
   "source": [
    "# Acquire data in X basis"
   ]
  },
  {
   "cell_type": "code",
   "execution_count": null,
   "metadata": {},
   "outputs": [],
   "source": [
    "exp_xbasis = exp.copy()\n",
    "exp_xbasis['In X basis']=True"
   ]
  },
  {
   "cell_type": "code",
   "execution_count": null,
   "metadata": {},
   "outputs": [],
   "source": [
    "t0x = time.time()\n",
    "data_xbasis = acquire_data_random_classical_circuit(perfect_qc, noisy_qc, exp_xbasis)\n",
    "t1x = time.time()\n",
    "totalx = t1x-t0x\n",
    "print(totalx)"
   ]
  },
  {
   "cell_type": "code",
   "execution_count": null,
   "metadata": {},
   "outputs": [],
   "source": [
    "dfx = pd.DataFrame(data_xbasis)\n",
    "dfx.to_pickle(\"data_x_Aspen_1_15Q_A_2019_02_09.pkl\")"
   ]
  },
  {
   "cell_type": "markdown",
   "metadata": {},
   "source": [
    "Now put the data into a dataframe"
   ]
  },
  {
   "cell_type": "code",
   "execution_count": null,
   "metadata": {},
   "outputs": [],
   "source": [
    "#data_xbasis.to_pickle(\"data_x_Aspen-1-16Q-A_2019_02_16.pkl\")"
   ]
  },
  {
   "cell_type": "code",
   "execution_count": null,
   "metadata": {},
   "outputs": [],
   "source": [
    "#data_xbasis = pd.read_pickle('data_x_Aspen-1-16Q-A_2019_02_16.pkl')"
   ]
  },
  {
   "cell_type": "markdown",
   "metadata": {},
   "source": [
    "# Data processing and estimation"
   ]
  },
  {
   "cell_type": "code",
   "execution_count": null,
   "metadata": {},
   "outputs": [],
   "source": [
    "res_df = estimate_random_classical_circuit_errors(data_zbasis)"
   ]
  },
  {
   "cell_type": "code",
   "execution_count": null,
   "metadata": {},
   "outputs": [],
   "source": [
    "circuit_width = res_df['Width'].max()\n",
    "\n",
    "for subgraph_size in range(1, circuit_width+1):\n",
    "    wdx = data_zbasis['Width']==subgraph_size\n",
    "    res_df[wdx]\n",
    "    \n",
    "    df.append(df2, ignore_index=True)"
   ]
  },
  {
   "cell_type": "code",
   "execution_count": null,
   "metadata": {},
   "outputs": [],
   "source": [
    "circuit_width = res_df['Width'].max()\n",
    "circuit_depth = res_df['Depth'].max()\n",
    "results = []\n",
    "for depth, subgraph_size in itertools.product(range(1, circuit_depth+1), range(1, circuit_width+1)):\n",
    "    wdx = data_zbasis['Width']==subgraph_size\n",
    "    ddx = data_zbasis['Depth']==depth\n",
    "    ndf= res_df[wdx&ddx].copy()\n",
    "    results.append({'Depth': depth,\n",
    "                    'Width': subgraph_size,\n",
    "                    'In X basis': ndf['In X basis'].iloc[0],\n",
    "                    'Active Reset': ndf['Active Reset'].iloc[0],\n",
    "                    'Trials': ndf['Trials'].iloc[0],\n",
    "                    'Hamming dist. data': ndf['Hamming dist. data'].mean(),\n",
    "                    'Hamming dist. rand': ndf['Hamming dist. rand'].mean(),\n",
    "                    'Hamming dist. ideal': ndf['Hamming dist. ideal'].mean(),\n",
    "                    'TVD(data, ideal)': ndf['TVD(data, ideal)'].mean(),\n",
    "                    'TVD(data, rand)': ndf['TVD(data, rand)'].mean(),\n",
    "                    'Pr. success data': ndf['Pr. success data'].mean(),\n",
    "                    'Pr. success rand': ndf['Pr. success rand'].mean(),\n",
    "                    'loge = basement[log_2(Width)-1]': ndf['loge = basement[log_2(Width)-1]'].mean(),\n",
    "                    'Pr. success loge data': ndf['Pr. success loge data'].mean(),\n",
    "                    'Pr. success loge rand': ndf['Pr. success loge rand'].mean(),\n",
    "                    })    \n",
    "munged = pd.DataFrame(results)"
   ]
  },
  {
   "cell_type": "code",
   "execution_count": null,
   "metadata": {},
   "outputs": [],
   "source": [
    "munged"
   ]
  },
  {
   "cell_type": "code",
   "execution_count": null,
   "metadata": {},
   "outputs": [],
   "source": [
    "res_df[wdx&ddx]['Hamming dist. data'].mean()"
   ]
  },
  {
   "cell_type": "code",
   "execution_count": null,
   "metadata": {},
   "outputs": [],
   "source": [
    "res_df[wdx&ddx]['Hamming dist. rand'].mean()"
   ]
  },
  {
   "cell_type": "code",
   "execution_count": null,
   "metadata": {},
   "outputs": [],
   "source": []
  },
  {
   "cell_type": "markdown",
   "metadata": {},
   "source": [
    "# Plot a particular depth and width"
   ]
  },
  {
   "cell_type": "code",
   "execution_count": null,
   "metadata": {},
   "outputs": [],
   "source": [
    "dep = 6\n",
    "wid = 4\n",
    "\n",
    "distz = get_hamming_dist(res_df, dep, wid)\n",
    "\n",
    "\n",
    "# combine data from different subgraphs\n",
    "avg_dist = distz['Hamming dist. data'].mean()\n",
    "\n",
    "# rand data\n",
    "rand_dist = distz['Hamming dist. rand'][0]"
   ]
  },
  {
   "cell_type": "code",
   "execution_count": null,
   "metadata": {},
   "outputs": [],
   "source": [
    "x_labels = np.arange(0, len(avg_dist))\n",
    "plt.bar(x_labels, avg_dist, width=0.61, align='center')\n",
    "plt.bar(x_labels, rand_dist, width=0.31, align='center')\n",
    "plt.xticks(x_labels)\n",
    "plt.xlabel('Hamming Weight of Error')\n",
    "plt.ylabel('Relative Frequency of Occurence')\n",
    "plt.ylim([0,1])\n",
    "plt.grid(axis='y', alpha=0.75)\n",
    "plt.legend(['data','random'])\n",
    "plt.title('Depth = {}, Width = {}'.format(dep,wid))\n",
    "plt.show()"
   ]
  },
  {
   "cell_type": "markdown",
   "metadata": {},
   "source": [
    "# For a particular width plot all depths"
   ]
  },
  {
   "cell_type": "code",
   "execution_count": null,
   "metadata": {},
   "outputs": [],
   "source": [
    "wid = 4\n",
    "df_fn_depth = get_hamming_dists_fn_depth(res_df, wid)"
   ]
  },
  {
   "cell_type": "code",
   "execution_count": null,
   "metadata": {},
   "outputs": [],
   "source": [
    "for dep in range(1, df_fn_depth.Depth.max()+1):\n",
    "    idx = df_fn_depth['Depth']== dep\n",
    "    avg_dist = df_fn_depth[idx]['Hamming dist. data'].mean() \n",
    "    rand_dist = df_fn_depth[idx]['Hamming dist. rand'].mean() \n",
    "    x_labels = np.arange(0, len(avg_dist))\n",
    "    plt.subplot(1,df_fn_depth.Depth.max(),dep)\n",
    "    plt.bar(x_labels, avg_dist, width=0.61, align='center')\n",
    "    plt.bar(x_labels, rand_dist, width=0.31, align='center')\n",
    "    plt.xticks(x_labels)\n",
    "    plt.xlabel('Hamming Weight of Error')\n",
    "    plt.ylabel('Relative Frequency of Occurence')\n",
    "    plt.ylim([0,1])\n",
    "    plt.grid(axis='y', alpha=0.75)\n",
    "    plt.legend(['data','random'])\n",
    "    plt.title('Depth = {}, Width = {}'.format(dep,wid))\n",
    "plt.subplots_adjust(bottom=0.1, right=3.2, top=0.9)\n",
    "plt.show()"
   ]
  },
  {
   "cell_type": "markdown",
   "metadata": {},
   "source": [
    "Now we can study the sucess probablity, i.e. the zero hamming weight entry above as a function of depth. We first need to extract the data fron the data frame."
   ]
  },
  {
   "cell_type": "code",
   "execution_count": null,
   "metadata": {},
   "outputs": [],
   "source": [
    "depth_vec = []\n",
    "pcheck = []\n",
    "pcheck_rand = []\n",
    "pcheck_log_errors = []\n",
    "pcheck_log_errors_rand = []\n",
    "tvd_rand = []\n",
    "tvd_ideal = []\n",
    "\n",
    "for dep in range(1, df_fn_depth.Depth.max()+1):\n",
    "    idx = df_fn_depth['Depth']== dep\n",
    "    depth_vec.append(dep)\n",
    "    pcheck.append(df_fn_depth[idx]['Pr. success data'].mean()) \n",
    "    pcheck_rand.append(df_fn_depth[idx]['Pr. success rand'].mean())\n",
    "    pcheck_log_errors.append(df_fn_depth[idx]['Pr. success loge data'].mean())\n",
    "    pcheck_log_errors_rand.append(df_fn_depth[idx]['Pr. success loge rand'].mean())\n",
    "    tvd_ideal.append(df_fn_depth[idx]['TVD(data, ideal)'].mean())\n",
    "    tvd_rand.append(df_fn_depth[idx]['TVD(data, rand)'].mean())"
   ]
  },
  {
   "cell_type": "markdown",
   "metadata": {},
   "source": [
    "# Success probablity and success probablity including a small number of errors"
   ]
  },
  {
   "cell_type": "markdown",
   "metadata": {},
   "source": [
    "Next we will plot the success probablity of a circuit with a certain width as a function of depth. "
   ]
  },
  {
   "cell_type": "code",
   "execution_count": null,
   "metadata": {},
   "outputs": [],
   "source": [
    "plt.scatter(depth_vec,pcheck,label='Sucess Probablity')\n",
    "plt.plot(depth_vec,pcheck_rand,label='random guess')\n",
    "plt.ylim([-0.05,1.05])\n",
    "plt.xlabel('Depth')\n",
    "plt.ylabel('Pr(success)')\n",
    "plt.title('Pr(success) vs Depth for Width = {}'.format(wid))\n",
    "plt.legend()\n",
    "plt.show()"
   ]
  },
  {
   "cell_type": "markdown",
   "metadata": {},
   "source": [
    "**Sucess if we allow for a small number of errors**\n",
    "\n",
    "Some near term algorithms have robustness to noise. In light of that we might want to consider answers that are only a little wrong successes.\n",
    "\n",
    "To make this notion formal we allow a logarithmic number of bits to flip from the correct answer and call all such instances \"success\".\n",
    "\n",
    "The logarithmic number of bits that we allow to flip is defined by the \"basement\" ${\\mathcal B}$ of \n",
    "\n",
    "$\\log_2 ({\\rm number\\ of\\ bits}) -1$\n",
    "\n",
    "where the basement of a number is ${\\mathcal B}(number) = 0$ if number$<=0$ and ${\\mathcal B}(number) = {\\rm floor (number)}$.\n",
    "\n",
    "\n",
    "Supose we have a circuit of width 4, this means correct string has four bits, e.g. 1010. Then a logarithmic number of flips is $\\log_2(4)-1 = 1$.\n",
    "\n",
    "So any string with hamming weight zero or one counts as a success.\n",
    "\n",
    "Such error metrics might be important in noisy near term algorithms where getting the exact answer is not vital."
   ]
  },
  {
   "cell_type": "code",
   "execution_count": null,
   "metadata": {},
   "outputs": [],
   "source": [
    "plt.figure()\n",
    "plt.scatter(depth_vec,pcheck,label='Sucess Probablity')\n",
    "plt.plot(depth_vec,pcheck_rand,label='random guess')\n",
    "plt.scatter(depth_vec,pcheck_log_errors,label='Sucess Probablity + log errors')\n",
    "plt.plot(depth_vec,pcheck_log_errors_rand,label='random guess + log errors')\n",
    "plt.ylim([-0.05,1.05])\n",
    "plt.xlabel('Depth')\n",
    "plt.ylabel('Pr(success+log errors)')\n",
    "plt.title('Pr(success+log errors) vs Depth for Width = {}'.format(wid))\n",
    "plt.legend(bbox_to_anchor=(1.04,1), loc=\"upper left\")\n",
    "plt.show()"
   ]
  },
  {
   "cell_type": "markdown",
   "metadata": {},
   "source": [
    "## Total variation distance from ideal answer and random distribution"
   ]
  },
  {
   "cell_type": "code",
   "execution_count": null,
   "metadata": {},
   "outputs": [],
   "source": [
    "plt.figure()\n",
    "plt.scatter(depth_vec,tvd_ideal,label='TVD(data, ideal)')\n",
    "plt.scatter(depth_vec,tvd_rand,label='TVD(data, rand)')\n",
    "plt.scatter(depth_vec,1-np.asarray(pcheck),label='1-Sucess Probablity',alpha=0.33,marker='^',s=80)\n",
    "#plt.plot(depth_vec,pcheck_log_errors_rand,label='random guess + log errors')\n",
    "plt.ylim([-0.05,1.05])\n",
    "plt.xlabel('Depth')\n",
    "plt.ylabel('Total variation distance')\n",
    "plt.title('Width = {}'.format(wid))\n",
    "plt.legend(bbox_to_anchor=(1.04,1), loc=\"upper left\")\n",
    "plt.show()"
   ]
  },
  {
   "cell_type": "markdown",
   "metadata": {},
   "source": [
    "# Plot depth = width"
   ]
  },
  {
   "cell_type": "code",
   "execution_count": null,
   "metadata": {},
   "outputs": [],
   "source": [
    "max_idx = min([max(res_df['Depth']),max(res_df['Width'])])\n",
    "\n",
    "for idx in range(1,max_idx+1):\n",
    "    distz = get_hamming_dist(res_df, idx, idx)\n",
    "    # combine data from different subgraphs\n",
    "    avg_dist = distz['Hamming dist. data'].mean()\n",
    "    # rand data\n",
    "    rand_dist = distz['Hamming dist. rand'][0]\n",
    "    dep = idx\n",
    "    wid = idx\n",
    "    x_labels = np.arange(0, len(avg_dist))\n",
    "    plt.subplot(1,max_idx,idx)\n",
    "    plt.bar(x_labels, avg_dist, width=0.61, align='center')\n",
    "    plt.bar(x_labels, rand_dist, width=0.31, align='center')\n",
    "    plt.xticks(x_labels)\n",
    "    plt.xlabel('Hamming Weight of Error')\n",
    "    plt.ylabel('Relative Frequency of Occurence')\n",
    "    plt.ylim([0,1])\n",
    "    plt.grid(axis='y', alpha=0.75)\n",
    "    plt.legend(['data','random'])\n",
    "    plt.title('Depth = {}, Width = {}'.format(dep,wid))\n",
    "plt.subplots_adjust(bottom=0.1, right=3.2, top=0.9)\n",
    "plt.show()"
   ]
  },
  {
   "cell_type": "markdown",
   "metadata": {},
   "source": [
    "# Plot success probablity landscape"
   ]
  },
  {
   "cell_type": "markdown",
   "metadata": {},
   "source": [
    "This is just the success probablity as a function of depth and width."
   ]
  },
  {
   "cell_type": "code",
   "execution_count": null,
   "metadata": {},
   "outputs": [],
   "source": [
    "values = np.asarray([munged['Pr. success data'][idx] for idx in munged.index])\n",
    "values"
   ]
  },
  {
   "cell_type": "code",
   "execution_count": null,
   "metadata": {},
   "outputs": [],
   "source": [
    "values_rand = np.asarray([munged['Pr. success rand'][idx] for idx in munged.index])\n",
    "values_rand"
   ]
  },
  {
   "cell_type": "code",
   "execution_count": null,
   "metadata": {},
   "outputs": [],
   "source": [
    "x = np.arange(min(res_df['Depth']), max(res_df['Depth'])+1)\n",
    "\n",
    "y = np.arange(min(res_df['Width']), max(res_df['Width'])+1)\n",
    "\n",
    "X, Y = np.meshgrid(x, y)"
   ]
  },
  {
   "cell_type": "code",
   "execution_count": null,
   "metadata": {},
   "outputs": [],
   "source": [
    "(x1,x2) = X.shape\n",
    "Zdata = np.reshape(values,(x2,x1)).T\n",
    "Zrand = np.reshape(values_rand,(x2,x1)).T"
   ]
  },
  {
   "cell_type": "code",
   "execution_count": null,
   "metadata": {},
   "outputs": [],
   "source": [
    "Zdata"
   ]
  },
  {
   "cell_type": "code",
   "execution_count": null,
   "metadata": {},
   "outputs": [],
   "source": [
    "extent = min(res_df['Depth'])-0.5, max(res_df['Depth'])+0.5, min(res_df['Width'])-0.5, max(res_df['Width'])+0.5\n",
    "ax = plt.gca()\n",
    "img = ax.imshow(Zdata, interpolation='none', extent=extent,\n",
    "                cmap='viridis', origin='lowerleft', vmin=0.0,vmax=1.0)\n",
    "\n",
    "xticks = np.arange(1,max(res_df['Depth'])+1)\n",
    "ax.set_xticks(xticks)\n",
    "ax.set_xticklabels(map(str, xticks))\n",
    "\n",
    "yticks = np.arange(1,max(res_df['Width'])+1)\n",
    "ax.set_yticks(yticks)\n",
    "ax.set_yticklabels(map(str, yticks))\n",
    "\n",
    "ax.set_aspect('equal')\n",
    "plt.colorbar(img, ax=ax)\n",
    "plt.xlabel('Depth')\n",
    "plt.ylabel('Width')\n",
    "plt.title('Success Probability')\n",
    "plt.show()"
   ]
  },
  {
   "cell_type": "code",
   "execution_count": null,
   "metadata": {},
   "outputs": [],
   "source": [
    "extent = min(res_df['Depth'])-0.5, max(res_df['Depth'])+0.5, min(res_df['Width'])-0.5, max(res_df['Width'])+0.5\n",
    "ax = plt.gca()\n",
    "img = ax.imshow(Zrand, interpolation='none', extent=extent,\n",
    "                cmap='viridis', origin='lowerleft', vmin=0.0,vmax=1.0)\n",
    "\n",
    "xticks = np.arange(1,max(res_df['Depth'])+1)\n",
    "ax.set_xticks(xticks)\n",
    "ax.set_xticklabels(map(str, xticks))\n",
    "\n",
    "yticks = np.arange(1,max(res_df['Width'])+1)\n",
    "ax.set_yticks(yticks)\n",
    "ax.set_yticklabels(map(str, yticks))\n",
    "\n",
    "ax.set_aspect('equal')\n",
    "plt.colorbar(img, ax=ax)\n",
    "plt.xlabel('Depth')\n",
    "plt.ylabel('Width')\n",
    "plt.title('Success Probability of Random Guess')\n",
    "plt.show()"
   ]
  },
  {
   "cell_type": "code",
   "execution_count": null,
   "metadata": {},
   "outputs": [],
   "source": [
    "tvd_rand_values = np.asarray([munged['TVD(data, rand)'][idx] for idx in munged.index])\n",
    "tvd_ideal_values = np.asarray([munged['TVD(data, ideal)'][idx] for idx in munged.index])\n",
    "Ztvd_rand = np.reshape(tvd_rand_values,(x2,x1)).T\n",
    "Ztvd_ideal = np.reshape(tvd_ideal_values,(x2,x1)).T"
   ]
  },
  {
   "cell_type": "code",
   "execution_count": null,
   "metadata": {},
   "outputs": [],
   "source": [
    "tvd_ideal_values\n",
    "tvd_rand_values"
   ]
  },
  {
   "cell_type": "code",
   "execution_count": null,
   "metadata": {},
   "outputs": [],
   "source": [
    "extent = min(res_df['Depth'])-0.5, max(res_df['Depth'])+0.5, min(res_df['Width'])-0.5, max(res_df['Width'])+0.5\n",
    "ax = plt.gca()\n",
    "img = ax.imshow(Ztvd_ideal, interpolation='none', extent=extent,\n",
    "                cmap='viridis', origin='lowerleft', vmin=0.0,vmax=1.0)\n",
    "\n",
    "xticks = np.arange(1,max(res_df['Depth'])+1)\n",
    "ax.set_xticks(xticks)\n",
    "ax.set_xticklabels(map(str, xticks))\n",
    "\n",
    "yticks = np.arange(1,max(res_df['Width'])+1)\n",
    "ax.set_yticks(yticks)\n",
    "ax.set_yticklabels(map(str, yticks))\n",
    "\n",
    "ax.set_aspect('equal')\n",
    "plt.colorbar(img, ax=ax)\n",
    "plt.xlabel('Depth')\n",
    "plt.ylabel('Width')\n",
    "plt.title('Success Probability of Random Guess')\n",
    "plt.show()"
   ]
  },
  {
   "cell_type": "code",
   "execution_count": null,
   "metadata": {},
   "outputs": [],
   "source": [
    "extent = min(res_df['Depth'])-0.5, max(res_df['Depth'])+0.5, min(res_df['Width'])-0.5, max(res_df['Width'])+0.5\n",
    "ax = plt.gca()\n",
    "img = ax.imshow(Ztvd_rand, interpolation='none', extent=extent,\n",
    "                cmap='viridis', origin='lowerleft', vmin=0.0,vmax=1.0)\n",
    "\n",
    "xticks = np.arange(1,max(res_df['Depth'])+1)\n",
    "ax.set_xticks(xticks)\n",
    "ax.set_xticklabels(map(str, xticks))\n",
    "\n",
    "yticks = np.arange(1,max(res_df['Width'])+1)\n",
    "ax.set_yticks(yticks)\n",
    "ax.set_yticklabels(map(str, yticks))\n",
    "\n",
    "ax.set_aspect('equal')\n",
    "plt.colorbar(img, ax=ax)\n",
    "plt.xlabel('Depth')\n",
    "plt.ylabel('Width')\n",
    "plt.title('Success Probability of Random Guess')\n",
    "plt.show()"
   ]
  },
  {
   "cell_type": "code",
   "execution_count": null,
   "metadata": {},
   "outputs": [],
   "source": [
    "loge_rand_values = np.asarray([munged['Pr. success loge rand'][idx] for idx in munged.index])\n",
    "loge_data_values = np.asarray([munged['Pr. success loge data'][idx] for idx in munged.index])\n",
    "Zlge_rand = np.reshape(loge_rand_values,(x2,x1)).T\n",
    "Zlge_data = np.reshape(loge_data_values,(x2,x1)).T"
   ]
  },
  {
   "cell_type": "code",
   "execution_count": null,
   "metadata": {},
   "outputs": [],
   "source": [
    "extent = min(res_df['Depth'])-0.5, max(res_df['Depth'])+0.5, min(res_df['Width'])-0.5, max(res_df['Width'])+0.5\n",
    "ax = plt.gca()\n",
    "img = ax.imshow(Zlge_data, interpolation='none', extent=extent,\n",
    "                cmap='viridis', origin='lowerleft', vmin=0.0,vmax=1.0)\n",
    "\n",
    "xticks = np.arange(1,max(res_df['Depth'])+1)\n",
    "ax.set_xticks(xticks)\n",
    "ax.set_xticklabels(map(str, xticks))\n",
    "\n",
    "yticks = np.arange(1,max(res_df['Width'])+1)\n",
    "ax.set_yticks(yticks)\n",
    "ax.set_yticklabels(map(str, yticks))\n",
    "\n",
    "ax.set_aspect('equal')\n",
    "plt.colorbar(img, ax=ax)\n",
    "plt.xlabel('Depth')\n",
    "plt.ylabel('Width')\n",
    "plt.title('Success Probability of Random Guess')\n",
    "plt.show()"
   ]
  },
  {
   "cell_type": "code",
   "execution_count": null,
   "metadata": {},
   "outputs": [],
   "source": [
    "extent = min(res_df['Depth'])-0.5, max(res_df['Depth'])+0.5, min(res_df['Width'])-0.5, max(res_df['Width'])+0.5\n",
    "ax = plt.gca()\n",
    "img = ax.imshow(Zlge_rand, interpolation='none', extent=extent,\n",
    "                cmap='viridis', origin='lowerleft', vmin=0.0,vmax=1.0)\n",
    "\n",
    "xticks = np.arange(1,max(res_df['Depth'])+1)\n",
    "ax.set_xticks(xticks)\n",
    "ax.set_xticklabels(map(str, xticks))\n",
    "\n",
    "yticks = np.arange(1,max(res_df['Width'])+1)\n",
    "ax.set_yticks(yticks)\n",
    "ax.set_yticklabels(map(str, yticks))\n",
    "\n",
    "ax.set_aspect('equal')\n",
    "plt.colorbar(img, ax=ax)\n",
    "plt.xlabel('Depth')\n",
    "plt.ylabel('Width')\n",
    "plt.title('Success Probability of Random Guess')\n",
    "plt.show()"
   ]
  },
  {
   "cell_type": "markdown",
   "metadata": {},
   "source": [
    "# Data exploration"
   ]
  },
  {
   "cell_type": "code",
   "execution_count": null,
   "metadata": {},
   "outputs": [],
   "source": [
    "from scipy.optimize import curve_fit"
   ]
  },
  {
   "cell_type": "code",
   "execution_count": null,
   "metadata": {},
   "outputs": [],
   "source": [
    "size = Y.shape\n",
    "width_1d = Y.reshape((1,np.prod(size)))\n",
    "depth_1d = X.reshape((1,np.prod(size)))"
   ]
  },
  {
   "cell_type": "code",
   "execution_count": null,
   "metadata": {},
   "outputs": [],
   "source": [
    "data_1d = Zdata.reshape((1,np.prod(size)))\n",
    "data_1d.shape\n",
    "width_1d.shape\n"
   ]
  },
  {
   "cell_type": "code",
   "execution_count": null,
   "metadata": {},
   "outputs": [],
   "source": [
    "dims = np.zeros_like(width_1d)\n",
    "dims[0,0] = size[0]\n",
    "dims[0,1] = size[1]\n",
    "\n",
    "xdata = np.vstack((dims,width_1d, depth_1d))\n",
    "\n",
    "\n",
    "\n",
    "xdata"
   ]
  },
  {
   "cell_type": "markdown",
   "metadata": {},
   "source": [
    "## Fitting models"
   ]
  },
  {
   "cell_type": "markdown",
   "metadata": {},
   "source": [
    "Two parameter model \n",
    "\n",
    "\n",
    "$f(W,D,p_W,p_D) =  (1-p_W)^W * (1-p_D)^D $\n",
    "\n",
    "The fidelity is proporional to $1 - p$"
   ]
  },
  {
   "cell_type": "code",
   "execution_count": null,
   "metadata": {},
   "outputs": [],
   "source": [
    "def two_param(x,pw,pd):\n",
    "    temp = x[0]\n",
    "    wid = temp[0]\n",
    "    dep = temp[1]\n",
    "    width = x[1].reshape(wid,dep)\n",
    "    depth = x[2].reshape(wid,dep)\n",
    "    pcheck = (1-pw)**(width) * (1-pd)**depth\n",
    "    rpcheck = pcheck.reshape((1,wid*dep))\n",
    "    return rpcheck.ravel()"
   ]
  },
  {
   "cell_type": "markdown",
   "metadata": {},
   "source": [
    "One parameter model\n",
    "\n",
    "$f(W,D,p) =  (1-p)^{W * D} $"
   ]
  },
  {
   "cell_type": "code",
   "execution_count": null,
   "metadata": {},
   "outputs": [],
   "source": [
    "def one_param(x,p):\n",
    "    temp = x[0]\n",
    "    wid = temp[0]\n",
    "    dep = temp[1]\n",
    "    width = x[1].reshape(wid,dep)\n",
    "    depth = x[2].reshape(wid,dep)\n",
    "    pcheck = (1-p)**(width*depth)\n",
    "    rpcheck = pcheck.reshape((1,wid*dep))\n",
    "    return rpcheck.ravel()"
   ]
  },
  {
   "cell_type": "markdown",
   "metadata": {},
   "source": [
    "From my prior work a better model to fit to is\n",
    "\n",
    "Pcheck$(W,D,p,a,b,c) = \\exp[ -(a p^2 + b p + c)* W*D] $\n"
   ]
  },
  {
   "cell_type": "code",
   "execution_count": null,
   "metadata": {},
   "outputs": [],
   "source": [
    "def two_param_exp(x,p,a,b):\n",
    "    temp = x[0]\n",
    "    wid = temp[0]\n",
    "    dep = temp[1]\n",
    "    width = x[1].reshape(wid,dep)\n",
    "    depth = x[2].reshape(wid,dep)\n",
    "    pcheck = np.exp(-(a*p + b) * width * depth)\n",
    "    rpcheck = pcheck.reshape((1,wid*dep))\n",
    "    return rpcheck.ravel()"
   ]
  },
  {
   "cell_type": "markdown",
   "metadata": {},
   "source": [
    "**Start with one paramter model**"
   ]
  },
  {
   "cell_type": "code",
   "execution_count": null,
   "metadata": {},
   "outputs": [],
   "source": [
    "pguess = 0.1\n",
    "popt, pcov = curve_fit(one_param, xdata, data_1d.ravel(), p0=pguess, bounds=(0, 1))"
   ]
  },
  {
   "cell_type": "code",
   "execution_count": null,
   "metadata": {},
   "outputs": [],
   "source": [
    "print('The estimated error is p = ', str(np.round(popt[0],4)))\n",
    "print('The estimated product of the one and two qubit fidelity is F = ', str(1-np.round(popt[0],4)))\n",
    "#print('The one standard deviation on the estimate is ', str(np.round(np.sqrt(np.diag(pcov)[0]),5)))"
   ]
  },
  {
   "cell_type": "code",
   "execution_count": null,
   "metadata": {},
   "outputs": [],
   "source": [
    "zfit = one_param(xdata,popt)\n",
    "Z_fit = zfit.reshape(size)"
   ]
  },
  {
   "cell_type": "code",
   "execution_count": null,
   "metadata": {},
   "outputs": [],
   "source": [
    "plt.pcolormesh(X,Y, Z_fit)\n",
    "plt.xticks(list(range(1,circuit_depth+1)))\n",
    "plt.yticks(list(range(1,circuit_width+1)))\n",
    "plt.colorbar()\n",
    "plt.show()"
   ]
  },
  {
   "cell_type": "code",
   "execution_count": null,
   "metadata": {},
   "outputs": [],
   "source": [
    "plt.pcolormesh(X,Y,Zdata)\n",
    "plt.xticks(list(range(1,circuit_depth+1)))\n",
    "plt.yticks(list(range(1,circuit_width+1)))\n",
    "plt.colorbar()\n",
    "plt.show()"
   ]
  },
  {
   "cell_type": "markdown",
   "metadata": {},
   "source": [
    "**Two parameter model**"
   ]
  },
  {
   "cell_type": "code",
   "execution_count": null,
   "metadata": {},
   "outputs": [],
   "source": [
    "pguess2d = [0.0276, 0.01, 0.4]"
   ]
  },
  {
   "cell_type": "code",
   "execution_count": null,
   "metadata": {},
   "outputs": [],
   "source": [
    "popt2d, pcov2d = curve_fit(two_param_exp, xdata, data_1d.ravel(), p0=pguess2d , bounds=(0., 1))"
   ]
  },
  {
   "cell_type": "code",
   "execution_count": null,
   "metadata": {},
   "outputs": [],
   "source": [
    "popt2d"
   ]
  },
  {
   "cell_type": "code",
   "execution_count": null,
   "metadata": {},
   "outputs": [],
   "source": [
    "zfit2d = two_param(xdata,popt2d[0],popt2d[1])\n",
    "Z_fit2d = zfit2d.reshape(size)"
   ]
  },
  {
   "cell_type": "code",
   "execution_count": null,
   "metadata": {},
   "outputs": [],
   "source": [
    "plt.pcolormesh(X,Y, Z_fit2d)\n",
    "plt.xticks(list(range(1,circuit_depth+1)))\n",
    "plt.yticks(list(range(1,circuit_width+1)))\n",
    "plt.colorbar()\n",
    "plt.show()"
   ]
  },
  {
   "cell_type": "code",
   "execution_count": null,
   "metadata": {},
   "outputs": [],
   "source": [
    "1-1.02319786e-01"
   ]
  },
  {
   "cell_type": "code",
   "execution_count": null,
   "metadata": {},
   "outputs": [],
   "source": []
  }
 ],
 "metadata": {
  "kernelspec": {
   "display_name": "Python 3",
   "language": "python",
   "name": "python3"
  },
  "language_info": {
   "codemirror_mode": {
    "name": "ipython",
    "version": 3
   },
   "file_extension": ".py",
   "mimetype": "text/x-python",
   "name": "python",
   "nbconvert_exporter": "python",
   "pygments_lexer": "ipython3",
   "version": "3.6.5"
  }
 },
 "nbformat": 4,
 "nbformat_minor": 2
}
