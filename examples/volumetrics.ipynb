{
 "cells": [
  {
   "cell_type": "markdown",
   "metadata": {},
   "source": [
    "# Volumetrics\n",
    "\n",
    "\n",
    "This module that generates circuits on a graph which represents the QPU or QVM lattice. The basic idea is it will compute error rates of circuits as a function of depth and width.\n",
    "\n",
    "The `width` of the circuit is the number of connected vertices on a particular subgraph.\n",
    "\n",
    "The `depth` is defined in context-dependent way; to avoid confusion with circuit depth we may use the term 'repetitions'."
   ]
  },
  {
   "cell_type": "code",
   "execution_count": 1,
   "metadata": {},
   "outputs": [],
   "source": [
    "import random\n",
    "import itertools\n",
    "import networkx as nx\n",
    "import numpy as np\n",
    "import pandas as pd\n",
    "import time\n",
    "# from scipy.spatial.distance import hamming\n",
    "# import scipy.interpolate\n",
    "\n",
    "from matplotlib import pyplot as plt\n",
    "from pyquil.api import get_qc, QuantumComputer, get_benchmarker\n",
    "from pyquil.gates import CNOT, CCNOT, Z, X, I, H, CZ, MEASURE, RESET\n",
    "from pyquil.quilbase import Pragma\n",
    "\n",
    "from forest.benchmarking.volumetrics import *"
   ]
  },
  {
   "cell_type": "markdown",
   "metadata": {},
   "source": [
    "## Get lattice"
   ]
  },
  {
   "cell_type": "code",
   "execution_count": 2,
   "metadata": {},
   "outputs": [],
   "source": [
    "# if you want to run on a \"real lattice\"\n",
    "from pyquil import *\n",
    "#list_quantum_computers()\n",
    "#perfect_qc = get_qc(\"Aspen-1-16Q-A\", as_qvm=True, noisy=False)\n",
    "#noisy_qc = get_qc(\"Aspen-1-16Q-A\") #, as_qvm=True, noisy=True)\n",
    "\n",
    "noisy_qc = get_qc(\"9q-square-qvm\", as_qvm=True, noisy=True)\n",
    "perfect_qc = get_qc(\"9q-square-qvm\", as_qvm=True, noisy=False)"
   ]
  },
  {
   "cell_type": "code",
   "execution_count": 3,
   "metadata": {},
   "outputs": [
    {
     "name": "stderr",
     "output_type": "stream",
     "text": [
      "/home/kylegulshen/anaconda3/lib/python3.6/site-packages/networkx/drawing/nx_pylab.py:518: MatplotlibDeprecationWarning: \n",
      "The iterable function was deprecated in Matplotlib 3.1 and will be removed in 3.3. Use np.iterable instead.\n",
      "  if not cb.iterable(width):\n",
      "/home/kylegulshen/anaconda3/lib/python3.6/site-packages/networkx/drawing/nx_pylab.py:565: MatplotlibDeprecationWarning: \n",
      "The is_numlike function was deprecated in Matplotlib 3.0 and will be removed in 3.2. Use isinstance(..., numbers.Number) instead.\n",
      "  if cb.is_numlike(alpha):\n"
     ]
    },
    {
     "data": {
      "image/png": "[encoded data removed]",
      "text/plain": [
       "<Figure size 432x288 with 1 Axes>"
      ]
     },
     "metadata": {},
     "output_type": "display_data"
    }
   ],
   "source": [
    "nx.draw(perfect_qc.qubit_topology(),with_labels=True)"
   ]
  },
  {
   "cell_type": "code",
   "execution_count": 4,
   "metadata": {},
   "outputs": [],
   "source": [
    "G = perfect_qc.qubit_topology()"
   ]
  },
  {
   "cell_type": "markdown",
   "metadata": {},
   "source": [
    "## Gate sets\n",
    "\n",
    "### Classical"
   ]
  },
  {
   "cell_type": "code",
   "execution_count": 5,
   "metadata": {},
   "outputs": [],
   "source": [
    "def two_q_id(qb1,qb2):\n",
    "    prog = Program()\n",
    "    prog +=I(qb1)\n",
    "    prog +=I(qb2)\n",
    "    return prog\n",
    "\n",
    "one_c_gates = [X,I]\n",
    "two_c_gates = [two_q_id, CNOT]\n",
    "two_c_toffoli = two_c_gates + [CCNOT]\n",
    "\n",
    "# x basis gates\n",
    "from forest.benchmarking.classical_logic import CNOT_X_basis, CCNOT_X_basis\n",
    "one_x_c_gates = [Z, I]\n",
    "two_x_c_gates = [two_q_id, CNOT_X_basis]\n",
    "two_x_c_toffoli = two_x_c_gates + [CCNOT_X_basis]\n",
    "# if you want to do something in the X basis, add Hadamard layers appropriately; see below."
   ]
  },
  {
   "cell_type": "markdown",
   "metadata": {},
   "source": [
    "### Some quantum"
   ]
  },
  {
   "cell_type": "code",
   "execution_count": 6,
   "metadata": {},
   "outputs": [],
   "source": [
    "one_q_gates = [X,Z,I]\n",
    "two_q_gates = [two_q_id,CZ]"
   ]
  },
  {
   "cell_type": "markdown",
   "metadata": {},
   "source": [
    "### Random Cliffords\n",
    "\n",
    "We use a benchmarker for this. Typically we use the native gates from `get_rb_gateset` to implement each clifford."
   ]
  },
  {
   "cell_type": "code",
   "execution_count": 7,
   "metadata": {},
   "outputs": [],
   "source": [
    "from forest.benchmarking.randomized_benchmarking import get_rb_gateset"
   ]
  },
  {
   "cell_type": "code",
   "execution_count": 8,
   "metadata": {},
   "outputs": [],
   "source": [
    "# my config has gone all cattywampus so i need to do this\n",
    "bm = get_benchmarker()#endpoint='tcp://localhost:6000')"
   ]
  },
  {
   "cell_type": "code",
   "execution_count": 9,
   "metadata": {},
   "outputs": [
    {
     "data": {
      "text/plain": [
       "'tcp://127.0.0.1:5555'"
      ]
     },
     "execution_count": 9,
     "metadata": {},
     "output_type": "execute_result"
    }
   ],
   "source": [
    "bm.client.endpoint"
   ]
  },
  {
   "cell_type": "markdown",
   "metadata": {},
   "source": [
    "## Get random gates on a graph"
   ]
  },
  {
   "cell_type": "code",
   "execution_count": 10,
   "metadata": {},
   "outputs": [
    {
     "name": "stdout",
     "output_type": "stream",
     "text": [
      "I 0\n",
      "I 1\n",
      "I 2\n",
      "X 3\n",
      "Z 4\n",
      "Z 5\n",
      "X 6\n",
      "Z 7\n",
      "Z 8\n",
      "CZ 0 3\n",
      "CZ 0 1\n",
      "CZ 1 4\n",
      "CZ 1 2\n",
      "I 2\n",
      "I 5\n",
      "CZ 3 6\n",
      "I 3\n",
      "I 4\n",
      "I 4\n",
      "I 7\n",
      "I 4\n",
      "I 5\n",
      "CZ 5 8\n",
      "CZ 6 7\n",
      "CZ 7 8\n",
      "\n"
     ]
    }
   ],
   "source": [
    "prog1 = random_single_qubit_gates(G, one_q_gates)\n",
    "prog2 = random_two_qubit_gates(G, two_q_gates)\n",
    "print(prog1+prog2)"
   ]
  },
  {
   "cell_type": "code",
   "execution_count": 11,
   "metadata": {},
   "outputs": [
    {
     "name": "stdout",
     "output_type": "stream",
     "text": [
      "RZ(pi/2) 0\n",
      "RX(pi/2) 0\n",
      "RX(-pi/2) 1\n",
      "RZ(-pi/2) 1\n",
      "RZ(-pi/2) 2\n",
      "RZ(-pi/2) 3\n",
      "RX(pi/2) 4\n",
      "RZ(-pi/2) 4\n",
      "RZ(-pi) 5\n",
      "RZ(-pi) 5\n",
      "RX(pi/2) 6\n",
      "RZ(-pi) 6\n",
      "RZ(-pi/2) 7\n",
      "RX(-pi/2) 7\n",
      "RX(-pi/2) 8\n",
      "\n"
     ]
    }
   ],
   "source": [
    "progy = random_single_qubit_cliffords(bm, G)\n",
    "print(progy)"
   ]
  },
  {
   "cell_type": "markdown",
   "metadata": {},
   "source": [
    "## Make some circuit templates and sample programs from them\n"
   ]
  },
  {
   "cell_type": "code",
   "execution_count": 12,
   "metadata": {},
   "outputs": [
    {
     "name": "stdout",
     "output_type": "stream",
     "text": [
      "I 4\n",
      "X 7\n",
      "X 4\n",
      "X 7\n",
      "\n"
     ]
    }
   ],
   "source": [
    "classical_1q_layer = get_rand_1q_template(one_c_gates)\n",
    "print(classical_1q_layer.sample_program(G, repetitions=2, width=2))"
   ]
  },
  {
   "cell_type": "code",
   "execution_count": 13,
   "metadata": {},
   "outputs": [
    {
     "name": "stdout",
     "output_type": "stream",
     "text": [
      "I 0\n",
      "I 3\n",
      "CNOT 0 3\n",
      "\n"
     ]
    }
   ],
   "source": [
    "classical_2q_layer = get_rand_2q_template(two_c_gates)\n",
    "print(classical_2q_layer.sample_program(G, repetitions=2, width=2))"
   ]
  },
  {
   "cell_type": "code",
   "execution_count": 14,
   "metadata": {},
   "outputs": [
    {
     "name": "stdout",
     "output_type": "stream",
     "text": [
      "H 1\n",
      "H 4\n",
      "H 7\n",
      "H 8\n",
      "\n"
     ]
    }
   ],
   "source": [
    "switch_basis_layer = get_switch_basis_x_z_template()\n",
    "print(switch_basis_layer.sample_program(G, repetitions=1, width=4))"
   ]
  },
  {
   "cell_type": "code",
   "execution_count": 15,
   "metadata": {},
   "outputs": [
    {
     "name": "stdout",
     "output_type": "stream",
     "text": [
      "CZ 1 4\n",
      "RZ(pi/2) 4\n",
      "RX(pi/2) 4\n",
      "RX(pi/2) 1\n",
      "RZ(-pi) 1\n",
      "RZ(pi/2) 1\n",
      "RX(pi/2) 1\n",
      "CZ 1 4\n",
      "RZ(pi/2) 4\n",
      "RX(pi/2) 4\n",
      "RX(-pi/2) 1\n",
      "\n"
     ]
    }
   ],
   "source": [
    "clifford_1q_layer = get_rand_1q_cliff_template(bm)\n",
    "clifford_2q_layer = get_rand_2q_cliff_template(bm)\n",
    "print(clifford_2q_layer.sample_program(G, repetitions=2, width=2))"
   ]
  },
  {
   "cell_type": "code",
   "execution_count": 16,
   "metadata": {},
   "outputs": [
    {
     "name": "stdout",
     "output_type": "stream",
     "text": [
      "RZ(-pi/2) 7\n",
      "RX(pi/2) 7\n",
      "CZ 4 7\n",
      "RZ(-0.5581195580028985) 8\n",
      "RX(pi/2) 8\n",
      "RZ(1.2736807691803615) 8\n",
      "RX(-pi/2) 8\n",
      "RZ(0.8654548211806258) 8\n",
      "RZ(-pi/2) 4\n",
      "RX(pi/2) 4\n",
      "RZ(1.683714870976314) 4\n",
      "RX(-pi/2) 4\n",
      "RZ(1.164556904728772) 5\n",
      "RX(pi/2) 5\n",
      "CZ 4 5\n",
      "RX(pi/2) 4\n",
      "RZ(pi) 5\n",
      "RX(pi/2) 5\n",
      "CZ 4 5\n",
      "RZ(pi/2) 7\n",
      "RZ(pi) 4\n",
      "RX(pi/2) 4\n",
      "CZ 7 4\n",
      "RZ(-2.5423448512921096) 5\n",
      "RX(pi/2) 5\n",
      "RZ(1.0298565022999515) 5\n",
      "RX(-pi/2) 5\n",
      "RZ(-1.4107150935903878) 8\n",
      "RX(pi/2) 8\n",
      "RZ(0.9343859424350573) 8\n",
      "RX(-pi/2) 8\n",
      "CZ 8 5\n",
      "RZ(1.8455338844194458) 5\n",
      "RX(pi/2) 5\n",
      "RZ(1.2152422654059585) 8\n",
      "RX(-pi/2) 8\n",
      "CZ 8 5\n",
      "RX(-pi/2) 5\n",
      "RX(pi/2) 8\n",
      "CZ 8 5\n",
      "RX(pi/2) 7\n",
      "RZ(-0.5939372112013284) 8\n",
      "RX(pi/2) 8\n",
      "RZ(2.0985221442302406) 8\n",
      "RX(-pi/2) 8\n",
      "CZ 7 8\n",
      "RX(-pi/2) 7\n",
      "CZ 7 4\n",
      "RZ(0.18821978522872662) 8\n",
      "RX(pi/2) 8\n",
      "CZ 7 8\n",
      "RZ(1.9770357488610202) 4\n",
      "RZ(-2.5476554423884643) 5\n",
      "RX(pi/2) 5\n",
      "RZ(2.098522144230241) 5\n",
      "RX(-pi/2) 5\n",
      "RZ(-0.1882197852287284) 5\n",
      "RX(pi/2) 7\n",
      "RZ(-pi/2) 7\n",
      "RZ(-pi/2) 8\n",
      "RX(-pi/2) 8\n",
      "\n"
     ]
    }
   ],
   "source": [
    "rand_perm_layer = get_rand_qubit_perm_template()\n",
    "# sometimes this returns an empty program, i.e. no permutation\n",
    "print(rand_perm_layer.sample_program(G, 1, qc=noisy_qc, width=3))"
   ]
  },
  {
   "cell_type": "code",
   "execution_count": 17,
   "metadata": {},
   "outputs": [
    {
     "name": "stdout",
     "output_type": "stream",
     "text": [
      "RZ(-0.7313267215276299) 2\n",
      "RX(pi/2) 2\n",
      "RZ(0.8738083564575054) 2\n",
      "RX(-pi/2) 2\n",
      "RZ(1.1108387720144826) 5\n",
      "RX(pi/2) 5\n",
      "RZ(1.9239464510235134) 5\n",
      "RX(-pi/2) 5\n",
      "CZ 5 2\n",
      "RZ(-0.7988576166116559) 2\n",
      "RX(pi/2) 2\n",
      "RZ(2.0611770298297554) 2\n",
      "RX(-pi/2) 2\n",
      "RZ(-0.16257974334726644) 5\n",
      "RX(-pi/2) 5\n",
      "CZ 5 2\n",
      "RX(pi/2) 2\n",
      "RZ(-1.7986523134027053) 2\n",
      "RX(-pi/2) 2\n",
      "RZ(1.4365683405145715) 5\n",
      "RX(pi/2) 5\n",
      "CZ 5 2\n",
      "RZ(2.573992416316516) 2\n",
      "RX(pi/2) 2\n",
      "RZ(0.5011562609035493) 2\n",
      "RX(-pi/2) 2\n",
      "RZ(1.2391707193285333) 2\n",
      "RZ(-1.5517677060657928) 5\n",
      "RX(pi/2) 5\n",
      "RZ(1.557823493357372) 5\n",
      "RX(-pi/2) 5\n",
      "RZ(-0.9421500589018095) 5\n",
      "\n"
     ]
    }
   ],
   "source": [
    "rand_su4_layer = get_rand_su4_template()\n",
    "print(rand_su4_layer.sample_program(G, 1, qc=noisy_qc, width=2))"
   ]
  },
  {
   "cell_type": "markdown",
   "metadata": {},
   "source": [
    "## Compose templates"
   ]
  },
  {
   "cell_type": "code",
   "execution_count": 18,
   "metadata": {},
   "outputs": [
    {
     "name": "stdout",
     "output_type": "stream",
     "text": [
      "I 3\n",
      "X 4\n",
      "X 6\n",
      "I 7\n",
      "CNOT 3 6\n",
      "I 3\n",
      "I 4\n",
      "I 4\n",
      "I 7\n",
      "I 6\n",
      "I 7\n",
      "I 3\n",
      "X 4\n",
      "I 6\n",
      "I 7\n",
      "CNOT 3 6\n",
      "CNOT 3 4\n",
      "CNOT 4 7\n",
      "CNOT 6 7\n",
      "\n"
     ]
    }
   ],
   "source": [
    "classical_1q_2q = classical_1q_layer + classical_2q_layer\n",
    "print(classical_1q_2q.sample_program(G, repetitions=2, width=4))"
   ]
  },
  {
   "cell_type": "markdown",
   "metadata": {},
   "source": [
    "Classical Logic in X basis"
   ]
  },
  {
   "cell_type": "code",
   "execution_count": 19,
   "metadata": {},
   "outputs": [
    {
     "name": "stdout",
     "output_type": "stream",
     "text": [
      "H 0\n",
      "H 1\n",
      "Z 0\n",
      "Z 1\n",
      "H 0\n",
      "CZ 0 1\n",
      "H 0\n",
      "I 0\n",
      "Z 1\n",
      "H 0\n",
      "CZ 0 1\n",
      "H 0\n",
      "Z 0\n",
      "I 1\n",
      "H 0\n",
      "CZ 0 1\n",
      "H 0\n",
      "H 0\n",
      "H 1\n",
      "\n"
     ]
    }
   ],
   "source": [
    "logic_layers = get_rand_1q_template(one_x_c_gates) + get_rand_2q_template(two_x_c_gates)\n",
    "classical_x_1q_2q = switch_basis_layer + logic_layers + switch_basis_layer\n",
    "# here we demonstrate a simple use of a pattern. We want to do the basis switch at beginning and end \n",
    "# while doing the repetitions in between some variable number of times.\n",
    "# The pattern says to do the 0 idx generator, do [1,2] idx generators n times, then finish with 3 idx generator\n",
    "classical_x_1q_2q.pattern = [0, ([1, 2], 'n'), 3]\n",
    "print(classical_x_1q_2q.sample_program(G, repetitions=3, width=2))\n",
    "# note that the x basis CNOT(0, 1) is H(0) CZ(0, 1) H(0)"
   ]
  },
  {
   "cell_type": "code",
   "execution_count": 20,
   "metadata": {},
   "outputs": [
    {
     "name": "stdout",
     "output_type": "stream",
     "text": [
      "RZ(-pi/2) 0\n",
      "RX(-pi/2) 0\n",
      "RZ(-pi/2) 3\n",
      "RX(-pi/2) 3\n",
      "RX(-pi/2) 3\n",
      "RX(pi/2) 0\n",
      "CZ 0 3\n",
      "RX(-pi/2) 3\n",
      "RX(pi/2) 0\n",
      "CZ 0 3\n",
      "RZ(-pi/2) 0\n",
      "RX(-pi) 0\n",
      "RX(pi/2) 3\n",
      "RZ(-pi) 3\n",
      "RX(-pi/2) 0\n",
      "CZ 0 3\n",
      "RX(-pi/2) 3\n",
      "CZ 0 3\n",
      "RZ(-pi/2) 3\n",
      "RX(-pi/2) 0\n",
      "RZ(-pi/2) 0\n",
      "RZ(-pi) 0\n",
      "RX(-pi/2) 3\n",
      "RZ(-pi) 3\n",
      "RZ(-pi/2) 0\n",
      "RX(-pi/2) 0\n",
      "CZ 0 3\n",
      "RX(pi/2) 3\n",
      "RX(-pi/2) 0\n",
      "CZ 0 3\n",
      "RX(-pi/2) 3\n",
      "RX(-pi/2) 0\n",
      "RX(pi/2) 0\n",
      "RZ(0.19942343037115873) 0\n",
      "RX(-pi/2) 0\n",
      "RZ(-0.778788619183817) 3\n",
      "RX(pi/2) 3\n",
      "CZ 0 3\n",
      "RX(pi/2) 0\n",
      "RZ(pi) 3\n",
      "RX(pi/2) 3\n",
      "CZ 0 3\n",
      "RX(pi/2) 0\n",
      "RZ(2.3628040344059755) 0\n",
      "RX(-pi/2) 0\n",
      "RX(pi/2) 3\n",
      "RZ(0.19942343037115845) 3\n",
      "RX(-pi/2) 3\n",
      "RZ(-pi/2) 3\n",
      "\n",
      "This program compiles away to nothing: \n",
      "HALT\n",
      "\n"
     ]
    }
   ],
   "source": [
    "clifford_sandwich = clifford_1q_layer + clifford_2q_layer + get_dagger_all_template()\n",
    "# here we demonstrate another simple use of a pattern. We want to do some Clifford layers n=reps\n",
    "# number of times and then dagger the result of all those reps. \n",
    "clifford_sandwich.pattern = [([0, 1], 'n'), -1]\n",
    "prog = clifford_sandwich.sample_program(G, repetitions=3, width=2,  qc=noisy_qc)\n",
    "print(prog)\n",
    "\n",
    "# We can check that this is the identity by compiling it fully\n",
    "print(\"This program compiles away to nothing: \")\n",
    "print(noisy_qc.compiler.quil_to_native_quil(prog))"
   ]
  },
  {
   "cell_type": "markdown",
   "metadata": {},
   "source": [
    "### Quantum Volume (unoptimized)"
   ]
  },
  {
   "cell_type": "code",
   "execution_count": 21,
   "metadata": {},
   "outputs": [
    {
     "name": "stdout",
     "output_type": "stream",
     "text": [
      "RZ(pi/2) 7\n",
      "RX(pi/2) 7\n",
      "CZ 4 7\n",
      "RZ(-2.3181435067958773) 8\n",
      "RX(pi/2) 8\n",
      "RZ(1.7684965768495358) 8\n",
      "RX(-pi/2) 8\n",
      "RZ(0.07088205710553819) 8\n",
      "RZ(-pi/2) 4\n",
      "RX(pi/2) 4\n",
      "RZ(0.9726985271045892) 4\n",
      "RX(-pi/2) 4\n",
      "RZ(1.7400726697677005) 5\n",
      "RX(pi/2) 5\n",
      "CZ 5 4\n",
      "RX(pi/2) 4\n",
      "RX(pi/2) 5\n",
      "CZ 5 4\n",
      "RZ(pi/2) 7\n",
      "RX(pi) 7\n",
      "RX(pi/2) 4\n",
      "CZ 7 4\n",
      "RZ(0.45826797068731434) 5\n",
      "RX(pi/2) 5\n",
      "RZ(2.468284038036106) 5\n",
      "RX(-pi/2) 5\n",
      "RZ(-1.4428100443331238) 8\n",
      "RX(pi/2) 8\n",
      "RZ(0.7807142006412494) 8\n",
      "RX(-pi/2) 8\n",
      "CZ 8 5\n",
      "RZ(-2.594297231677391) 5\n",
      "RX(pi/2) 5\n",
      "RZ(-2.9617177403609336) 8\n",
      "RX(-pi/2) 8\n",
      "CZ 8 5\n",
      "RX(-pi/2) 5\n",
      "RX(pi/2) 8\n",
      "CZ 8 5\n",
      "RX(pi/2) 7\n",
      "RZ(-2.126622326263238) 8\n",
      "RX(pi/2) 8\n",
      "RZ(2.8108409836879136) 8\n",
      "RX(-pi/2) 8\n",
      "CZ 7 8\n",
      "RX(-pi/2) 7\n",
      "CZ 7 4\n",
      "RZ(1.6853501075066277) 3\n",
      "RX(pi/2) 3\n",
      "RZ(3.024320347501574) 3\n",
      "RX(-pi/2) 3\n",
      "RZ(3.0494090633715887) 6\n",
      "RX(pi/2) 6\n",
      "RZ(0.8865345994184654) 6\n",
      "RX(-pi/2) 6\n",
      "CZ 6 3\n",
      "RZ(-2.704132856654775) 3\n",
      "RX(pi/2) 3\n",
      "RZ(-0.9086841507850068) 6\n",
      "RX(-pi/2) 6\n",
      "CZ 6 3\n",
      "RX(-pi/2) 3\n",
      "RX(pi/2) 6\n",
      "CZ 6 3\n",
      "RZ(2.58334648949738) 8\n",
      "RX(pi/2) 8\n",
      "CZ 8 7\n",
      "RZ(2.2166339198874274) 3\n",
      "RX(pi/2) 3\n",
      "RZ(0.9132848927796674) 3\n",
      "RX(-pi/2) 3\n",
      "RZ(2.3443386818081535) 3\n",
      "RZ(-1.7400726697676987) 4\n",
      "RZ(-1.0149703273265542) 5\n",
      "RX(pi/2) 5\n",
      "RZ(2.8108409836879136) 5\n",
      "RX(-pi/2) 5\n",
      "RZ(-2.583346489497379) 5\n",
      "RZ(1.4644801822362954) 6\n",
      "RX(pi/2) 6\n",
      "RZ(1.6203840699263337) 6\n",
      "RX(-pi/2) 6\n",
      "RZ(-2.821325651175015) 6\n",
      "RX(pi/2) 7\n",
      "RZ(-pi/2) 7\n",
      "RZ(-pi/2) 8\n",
      "RX(-pi/2) 8\n",
      "RZ(2.3174094064988324) 3\n",
      "RX(pi/2) 3\n",
      "RZ(1.3823356677634715) 3\n",
      "RX(-pi/2) 3\n",
      "RZ(-2.4501567231214607) 4\n",
      "RX(pi/2) 4\n",
      "RZ(0.917657907672056) 4\n",
      "RX(-pi/2) 4\n",
      "CZ 4 3\n",
      "RZ(0.23210033234492844) 3\n",
      "RX(pi/2) 3\n",
      "RZ(2.563895043502609) 3\n",
      "RX(-pi/2) 3\n",
      "RZ(2.096359975220686) 4\n",
      "RX(-pi/2) 4\n",
      "CZ 4 3\n",
      "RX(pi/2) 3\n",
      "RZ(-1.8396979255993644) 3\n",
      "RX(-pi/2) 3\n",
      "RZ(1.858764084566948) 4\n",
      "RX(pi/2) 4\n",
      "CZ 4 3\n",
      "RZ(-2.5084321020516844) 5\n",
      "RX(pi/2) 5\n",
      "RZ(0.6289001533253898) 5\n",
      "RX(-pi/2) 5\n",
      "RZ(2.3993468241912117) 5\n",
      "RZ(-1.6337643552275882) 3\n",
      "RX(pi/2) 3\n",
      "RZ(1.0183451183579322) 3\n",
      "RX(-pi/2) 3\n",
      "RZ(-2.7860294072134857) 6\n",
      "RX(pi/2) 6\n",
      "RZ(1.8525057151324302) 6\n",
      "RX(-pi/2) 6\n",
      "CZ 3 6\n",
      "RZ(2.4817301396858396) 3\n",
      "RX(-pi/2) 3\n",
      "RZ(0.6751455835339595) 6\n",
      "RX(pi/2) 6\n",
      "CZ 3 6\n",
      "RX(pi/2) 3\n",
      "RX(-pi/2) 6\n",
      "CZ 3 6\n",
      "RZ(2.6290744996657684) 4\n",
      "RX(pi/2) 4\n",
      "RZ(1.7628224657679654) 4\n",
      "RX(-pi/2) 4\n",
      "CZ 5 4\n",
      "RZ(-1.5020036162215673) 4\n",
      "RX(pi/2) 4\n",
      "RZ(-pi/2) 5\n",
      "RX(-pi/2) 5\n",
      "CZ 5 4\n",
      "RX(-pi/2) 4\n",
      "RX(pi/2) 5\n",
      "CZ 5 4\n",
      "RZ(1.246703447792066) 3\n",
      "RX(pi/2) 3\n",
      "RZ(2.354651431234211) 3\n",
      "RX(-pi/2) 3\n",
      "RZ(1.2309594227192715) 4\n",
      "RX(pi/2) 4\n",
      "RZ(2.9377590319040294) 4\n",
      "RX(-pi/2) 4\n",
      "CZ 3 4\n",
      "RZ(0.24603961670529118) 3\n",
      "RX(-pi/2) 3\n",
      "RZ(0.711813308472748) 4\n",
      "RX(pi/2) 4\n",
      "RZ(2.4733360865943697) 4\n",
      "RX(-pi/2) 4\n",
      "CZ 3 4\n",
      "RZ(1.9653246632131598) 3\n",
      "RX(pi/2) 3\n",
      "RX(pi/2) 4\n",
      "RZ(-1.581880656188818) 4\n",
      "RX(-pi/2) 4\n",
      "CZ 3 4\n",
      "RZ(-2.0978785017466723) 3\n",
      "RX(pi/2) 3\n",
      "RZ(2.916245324080952) 3\n",
      "RX(-pi/2) 3\n",
      "RZ(0.25034098594760223) 3\n",
      "RZ(-2.6202711454580716) 4\n",
      "RX(pi/2) 4\n",
      "RZ(2.5342822349777996) 4\n",
      "RX(-pi/2) 4\n",
      "RZ(-0.9395901584857498) 4\n",
      "RZ(-0.6005704865466023) 5\n",
      "RX(pi/2) 5\n",
      "RZ(2.3169895344798133) 5\n",
      "RX(-pi/2) 5\n",
      "RZ(-2.2684990262294935) 5\n",
      "RZ(-0.07200835669507266) 6\n",
      "RX(pi/2) 6\n",
      "RZ(1.1264703927284536) 6\n",
      "RX(-pi/2) 6\n",
      "RZ(2.972932311582726) 6\n",
      "RZ(pi/2) 7\n",
      "RX(pi/2) 7\n",
      "CZ 6 7\n",
      "RX(-pi/2) 6\n",
      "CZ 6 3\n",
      "RX(-pi/2) 6\n",
      "CZ 7 6\n",
      "RZ(pi/2) 4\n",
      "CZ 6 3\n",
      "RZ(-2.57005909265536) 7\n",
      "RX(-pi/2) 7\n",
      "RZ(1.767917395146909) 7\n",
      "RX(-pi/2) 7\n",
      "RZ(0.07066855879615641) 7\n",
      "RX(pi/2) 3\n",
      "CZ 3 4\n",
      "RZ(-0.47406756517888315) 6\n",
      "RX(pi/2) 6\n",
      "RZ(2.857554121405476) 6\n",
      "RX(-pi/2) 6\n",
      "RZ(2.6511102207274395) 7\n",
      "RX(pi/2) 7\n",
      "RZ(0.4386974873315228) 7\n",
      "RX(-pi/2) 7\n",
      "CZ 7 6\n",
      "RZ(-0.33614753783844353) 6\n",
      "RX(pi/2) 6\n",
      "RZ(2.210517553161095) 7\n",
      "RX(-pi/2) 7\n",
      "CZ 7 6\n",
      "RX(-pi/2) 6\n",
      "RX(pi/2) 7\n",
      "CZ 7 6\n",
      "RZ(pi) 3\n",
      "RX(pi/2) 3\n",
      "RZ(-0.7616279494899887) 6\n",
      "RX(pi/2) 6\n",
      "RZ(2.842919547176875) 6\n",
      "RX(-pi/2) 6\n",
      "CZ 3 6\n",
      "RZ(1.5677788003717168) 4\n",
      "RX(pi/2) 4\n",
      "RZ(2.4896791318458664) 4\n",
      "RX(-pi/2) 4\n",
      "RZ(1.2172353740467896) 7\n",
      "RX(pi/2) 7\n",
      "RZ(1.840535217502982) 7\n",
      "RX(-pi/2) 7\n",
      "CZ 7 4\n",
      "RZ(-1.6281768029269312) 4\n",
      "RX(pi/2) 4\n",
      "RZ(0.12983782248535292) 7\n",
      "RX(-pi/2) 7\n",
      "CZ 7 4\n",
      "RX(-pi/2) 4\n",
      "RX(pi/2) 7\n",
      "CZ 7 4\n",
      "RZ(-0.9533231871978971) 3\n",
      "RX(pi/2) 3\n",
      "RZ(0.3731230042992087) 3\n",
      "RX(-pi/2) 3\n",
      "RZ(0.01651335424090331) 4\n",
      "RX(pi/2) 4\n",
      "RZ(1.5724837486377146) 4\n",
      "RX(-pi/2) 4\n",
      "CZ 3 4\n",
      "RZ(1.2469115910568433) 3\n",
      "RX(-pi/2) 3\n",
      "RZ(-2.584040339122607) 4\n",
      "RX(pi/2) 4\n",
      "CZ 3 4\n",
      "RX(pi/2) 3\n",
      "RX(-pi/2) 4\n",
      "CZ 3 4\n",
      "RZ(2.0087613089170766) 6\n",
      "RX(-pi/2) 6\n",
      "RZ(1.640856082799288) 7\n",
      "RX(pi/2) 7\n",
      "RZ(0.6537883221938445) 7\n",
      "RX(-pi/2) 7\n",
      "CZ 6 7\n",
      "RZ(-0.038712539528579226) 3\n",
      "RX(pi/2) 3\n",
      "RZ(1.1919535833090398) 3\n",
      "RX(-pi/2) 3\n",
      "RX(-pi/2) 6\n",
      "CZ 6 3\n",
      "RZ(0.6873689339948179) 7\n",
      "RX(pi/2) 7\n",
      "RZ(1.532280334537358) 7\n",
      "RX(-pi/2) 7\n",
      "RZ(2.1763538959036146) 8\n",
      "RX(pi/2) 8\n",
      "RZ(1.6606266122619802) 8\n",
      "RX(-pi/2) 8\n",
      "CZ 7 8\n",
      "RZ(-0.13811657975749148) 7\n",
      "RX(-pi/2) 7\n",
      "RZ(2.1266490169498615) 8\n",
      "RX(pi/2) 8\n",
      "CZ 7 8\n",
      "RX(pi/2) 7\n",
      "RX(-pi/2) 8\n",
      "CZ 7 8\n",
      "RZ(1.6947406421630786) 4\n",
      "RX(pi/2) 4\n",
      "RZ(1.9236449032913563) 4\n",
      "RX(-pi/2) 4\n",
      "RZ(2.870128198422883) 4\n",
      "RZ(-1.5034158077470685) 6\n",
      "RX(pi/2) 6\n",
      "RZ(1.3637347219044786) 6\n",
      "RX(-pi/2) 6\n",
      "RZ(3.1063307073703985) 7\n",
      "RX(pi/2) 7\n",
      "RZ(1.846064372272737) 7\n",
      "RX(-pi/2) 7\n",
      "CZ 6 7\n",
      "RZ(1.5617410009270554) 6\n",
      "RX(-pi/2) 6\n",
      "RZ(-2.8014601496978706) 7\n",
      "RX(pi/2) 7\n",
      "CZ 6 7\n",
      "RX(pi/2) 6\n",
      "RX(-pi/2) 7\n",
      "CZ 6 7\n",
      "RZ(1.478261813576185) 3\n",
      "RX(pi/2) 3\n",
      "RZ(1.7517277126382478) 3\n",
      "RX(-pi/2) 3\n",
      "RZ(-0.5718625469878078) 6\n",
      "RX(pi/2) 6\n",
      "RZ(1.6866337003398004) 6\n",
      "RX(-pi/2) 6\n",
      "CZ 6 3\n",
      "RZ(-1.5060749523390804) 3\n",
      "RX(pi/2) 3\n",
      "RZ(-0.03934547584720227) 6\n",
      "RX(-pi/2) 6\n",
      "CZ 6 3\n",
      "RX(-pi/2) 3\n",
      "RX(pi/2) 6\n",
      "CZ 6 3\n",
      "RZ(1.6138747934438071) 7\n",
      "RX(pi/2) 7\n",
      "RZ(2.934335972421762) 7\n",
      "RX(-pi/2) 7\n",
      "CZ 7 4\n",
      "RZ(pi/2) 4\n",
      "RX(-pi/2) 4\n",
      "RZ(3.102706720732143) 8\n",
      "RX(pi/2) 8\n",
      "RZ(1.4327828367004478) 8\n",
      "RX(-pi/2) 8\n",
      "CZ 7 8\n",
      "RZ(1.9106332308705205) 6\n",
      "RX(pi/2) 6\n",
      "RZ(2.949553071979545) 6\n",
      "RX(-pi/2) 6\n",
      "CZ 7 6\n",
      "RZ(2.1270659640795704) 6\n",
      "RZ(-2.3432916776531894) 8\n",
      "RX(pi/2) 8\n",
      "CZ 7 8\n",
      "RZ(-1.5941575036673346) 7\n",
      "RX(pi/2) 7\n",
      "CZ 7 4\n",
      "RZ(-pi/2) 8\n",
      "RZ(pi) 4\n",
      "RX(-pi/2) 7\n",
      "CZ 7 6\n",
      "RZ(pi/2) 6\n",
      "RX(-pi/2) 6\n",
      "CZ 7 8\n",
      "CZ 7 4\n",
      "CZ 7 8\n",
      "RX(pi/2) 7\n",
      "CZ 7 6\n",
      "RX(-pi/2) 7\n",
      "CZ 7 8\n",
      "CZ 7 6\n",
      "CZ 8 7\n",
      "RZ(1.2309594227192706) 3\n",
      "RX(pi/2) 3\n",
      "RZ(2.9495530719795444) 3\n",
      "RX(-pi/2) 3\n",
      "RZ(2.374687373929932) 3\n",
      "RZ(-pi/2) 4\n",
      "RX(pi/2) 4\n",
      "RZ(pi/2) 4\n",
      "RZ(pi/2) 6\n",
      "RX(pi/2) 6\n",
      "RZ(pi/2) 6\n",
      "RZ(pi/2) 7\n",
      "RX(pi/2) 7\n",
      "RZ(-pi/2) 7\n",
      "RZ(0.3658965672335386) 3\n",
      "RX(pi/2) 3\n",
      "RZ(1.1970960422104266) 3\n",
      "RX(-pi/2) 3\n",
      "RZ(-0.33579369617768284) 4\n",
      "RX(pi/2) 4\n",
      "RZ(1.292275345795325) 4\n",
      "RX(-pi/2) 4\n",
      "CZ 4 3\n",
      "RZ(0.22387022860890937) 3\n",
      "RX(pi/2) 3\n",
      "RZ(2.520106548466318) 3\n",
      "RX(-pi/2) 3\n",
      "RZ(0.6832453432356136) 4\n",
      "RX(-pi/2) 4\n",
      "CZ 4 3\n",
      "RX(pi/2) 3\n",
      "RZ(-1.591068095352492) 3\n",
      "RX(-pi/2) 3\n",
      "RZ(1.5316351849624512) 4\n",
      "RX(pi/2) 4\n",
      "CZ 4 3\n",
      "RZ(-1.821359594811281) 5\n",
      "RX(pi/2) 5\n",
      "RZ(2.8027191581286446) 5\n",
      "RX(-pi/2) 5\n",
      "RZ(2.373458701758155) 5\n",
      "RZ(1.3116028920617289) 3\n",
      "RX(pi/2) 3\n",
      "RZ(0.354665791601617) 3\n",
      "RX(-pi/2) 3\n",
      "RZ(-2.477980471436438) 6\n",
      "RX(pi/2) 6\n",
      "RZ(2.200761150993738) 6\n",
      "RX(-pi/2) 6\n",
      "CZ 3 6\n",
      "RZ(0.16427583758354403) 3\n",
      "RX(-pi/2) 3\n",
      "RZ(-0.07250573872746546) 6\n",
      "RX(pi/2) 6\n",
      "CZ 3 6\n",
      "RX(pi/2) 3\n",
      "RX(-pi/2) 6\n",
      "CZ 3 6\n",
      "RZ(1.3793219877966427) 4\n",
      "RX(pi/2) 4\n",
      "RZ(0.7605654592910209) 4\n",
      "RX(-pi/2) 4\n",
      "CZ 5 4\n",
      "RZ(-1.5986420098470244) 4\n",
      "RX(pi/2) 4\n",
      "RZ(-pi/2) 5\n",
      "RX(-pi/2) 5\n",
      "CZ 5 4\n",
      "RX(-pi/2) 4\n",
      "RX(pi/2) 5\n",
      "CZ 5 4\n",
      "RZ(2.3370440201008487) 3\n",
      "RX(pi/2) 3\n",
      "RZ(1.6048729491619764) 3\n",
      "RX(-pi/2) 3\n",
      "RZ(1.6873227029058877) 4\n",
      "RX(pi/2) 4\n",
      "RZ(2.3060399089324894) 4\n",
      "RX(-pi/2) 4\n",
      "CZ 3 4\n",
      "RZ(1.294547445744064) 3\n",
      "RX(-pi/2) 3\n",
      "RZ(1.2653966587785472) 4\n",
      "RX(pi/2) 4\n",
      "RZ(2.056248402854976) 4\n",
      "RX(-pi/2) 4\n",
      "CZ 3 4\n",
      "RZ(1.6307388202172834) 3\n",
      "RX(pi/2) 3\n",
      "RX(pi/2) 4\n",
      "RZ(-1.6500474085614147) 4\n",
      "RX(-pi/2) 4\n",
      "CZ 3 4\n",
      "RZ(0.9850349000271519) 3\n",
      "RX(pi/2) 3\n",
      "RZ(0.7234011926298821) 3\n",
      "RX(-pi/2) 3\n",
      "RZ(0.4372310052066348) 3\n",
      "RZ(-2.2707193744507577) 4\n",
      "RX(pi/2) 4\n",
      "RZ(2.607476272820057) 4\n",
      "RX(-pi/2) 4\n",
      "RZ(0.014198795741173775) 4\n",
      "RZ(0.18253925555781378) 5\n",
      "RX(pi/2) 5\n",
      "RZ(2.0543534919795854) 5\n",
      "RX(-pi/2) 5\n",
      "RZ(-2.5016261059035454) 5\n",
      "RZ(1.7603979343383471) 6\n",
      "RX(pi/2) 6\n",
      "RZ(1.3911815184306133) 6\n",
      "RX(-pi/2) 6\n",
      "RZ(0.8940746753816429) 6\n",
      "\n"
     ]
    }
   ],
   "source": [
    "qv_template = rand_perm_layer + rand_su4_layer\n",
    "print(qv_template.sample_program(G, repetitions=2, qc=noisy_qc, width=5))"
   ]
  },
  {
   "cell_type": "markdown",
   "metadata": {},
   "source": [
    "## Acquire data for ranges of (width, depth)"
   ]
  },
  {
   "cell_type": "code",
   "execution_count": 22,
   "metadata": {},
   "outputs": [
    {
     "name": "stdout",
     "output_type": "stream",
     "text": [
      "{2: {3: [<pyquil.quil.Program object at 0x7f6a60f63ba8>, <pyquil.quil.Program object at 0x7f6a60f78208>, <pyquil.quil.Program object at 0x7f6a60f78a90>, <pyquil.quil.Program object at 0x7f6a60f7c1d0>, <pyquil.quil.Program object at 0x7f6a60f7ca90>, <pyquil.quil.Program object at 0x7f6a60f781d0>, <pyquil.quil.Program object at 0x7f6a60f7cf98>, <pyquil.quil.Program object at 0x7f6a60f014e0>, <pyquil.quil.Program object at 0x7f6a60f01ba8>, <pyquil.quil.Program object at 0x7f6a60f05748>], 4: [<pyquil.quil.Program object at 0x7f6a60f09198>, <pyquil.quil.Program object at 0x7f6a60f015f8>, <pyquil.quil.Program object at 0x7f6a60f096a0>, <pyquil.quil.Program object at 0x7f6a60f09f60>, <pyquil.quil.Program object at 0x7f6a60f0e978>, <pyquil.quil.Program object at 0x7f6a60f14358>, <pyquil.quil.Program object at 0x7f6a60f09ef0>, <pyquil.quil.Program object at 0x7f6a60f14978>, <pyquil.quil.Program object at 0x7f6a60f192b0>, <pyquil.quil.Program object at 0x7f6a60f19c88>], 5: [<pyquil.quil.Program object at 0x7f6a60f1e8d0>, <pyquil.quil.Program object at 0x7f6a60f1e208>, <pyquil.quil.Program object at 0x7f6a60f24438>, <pyquil.quil.Program object at 0x7f6a60f29128>, <pyquil.quil.Program object at 0x7f6a60f29d30>, <pyquil.quil.Program object at 0x7f6a60f24198>, <pyquil.quil.Program object at 0x7f6a60f2eb70>, <pyquil.quil.Program object at 0x7f6a60f325f8>, <pyquil.quil.Program object at 0x7f6a60f37278>, <pyquil.quil.Program object at 0x7f6a60f29940>]}, 3: {3: [<pyquil.quil.Program object at 0x7f6a60f78828>, <pyquil.quil.Program object at 0x7f6a60f37a58>, <pyquil.quil.Program object at 0x7f6a60ebe780>, <pyquil.quil.Program object at 0x7f6a60f37da0>, <pyquil.quil.Program object at 0x7f6a60ec0588>, <pyquil.quil.Program object at 0x7f6a60ec3400>, <pyquil.quil.Program object at 0x7f6a60ec3e80>, <pyquil.quil.Program object at 0x7f6a60eca240>, <pyquil.quil.Program object at 0x7f6a60ecae10>, <pyquil.quil.Program object at 0x7f6a60ece6a0>], 4: [<pyquil.quil.Program object at 0x7f6a60ed2780>, <pyquil.quil.Program object at 0x7f6a60ed2d68>, <pyquil.quil.Program object at 0x7f6a60ed6c50>, <pyquil.quil.Program object at 0x7f6a60edecf8>, <pyquil.quil.Program object at 0x7f6a60ee14e0>, <pyquil.quil.Program object at 0x7f6a60ee5240>, <pyquil.quil.Program object at 0x7f6a60ee9048>, <pyquil.quil.Program object at 0x7f6a60ee9ac8>, <pyquil.quil.Program object at 0x7f6a60eef978>, <pyquil.quil.Program object at 0x7f6a60ef67f0>], 5: [<pyquil.quil.Program object at 0x7f6a60efb390>, <pyquil.quil.Program object at 0x7f6a60efd668>, <pyquil.quil.Program object at 0x7f6a60efd320>, <pyquil.quil.Program object at 0x7f6a60e8a668>, <pyquil.quil.Program object at 0x7f6a60e8d780>, <pyquil.quil.Program object at 0x7f6a60e92390>, <pyquil.quil.Program object at 0x7f6a60e974e0>, <pyquil.quil.Program object at 0x7f6a60e92cf8>, <pyquil.quil.Program object at 0x7f6a60ea05f8>, <pyquil.quil.Program object at 0x7f6a60ea5748>]}, 4: {3: [<pyquil.quil.Program object at 0x7f6a60ea0198>, <pyquil.quil.Program object at 0x7f6a60eac0b8>, <pyquil.quil.Program object at 0x7f6a60eb3eb8>, <pyquil.quil.Program object at 0x7f6a60eac940>, <pyquil.quil.Program object at 0x7f6a60eb4cc0>, <pyquil.quil.Program object at 0x7f6a60e97e80>, <pyquil.quil.Program object at 0x7f6a60ee9240>, <pyquil.quil.Program object at 0x7f6a60eb7320>, <pyquil.quil.Program object at 0x7f6a60e43438>, <pyquil.quil.Program object at 0x7f6a60e47198>], 4: [<pyquil.quil.Program object at 0x7f6a60e4b3c8>, <pyquil.quil.Program object at 0x7f6a60e50320>, <pyquil.quil.Program object at 0x7f6a60e54828>, <pyquil.quil.Program object at 0x7f6a60e59a20>, <pyquil.quil.Program object at 0x7f6a60e5dda0>, <pyquil.quil.Program object at 0x7f6a60e60978>, <pyquil.quil.Program object at 0x7f6a60e6f198>, <pyquil.quil.Program object at 0x7f6a60e700b8>, <pyquil.quil.Program object at 0x7f6a60e7b7f0>, <pyquil.quil.Program object at 0x7f6a60e7d630>], 5: [<pyquil.quil.Program object at 0x7f6a60e03e80>, <pyquil.quil.Program object at 0x7f6a60e0c2b0>, <pyquil.quil.Program object at 0x7f6a60e11be0>, <pyquil.quil.Program object at 0x7f6a60e19160>, <pyquil.quil.Program object at 0x7f6a60e1c898>, <pyquil.quil.Program object at 0x7f6a60e22ac8>, <pyquil.quil.Program object at 0x7f6a60e2c358>, <pyquil.quil.Program object at 0x7f6a60e2e710>, <pyquil.quil.Program object at 0x7f6a60e36208>, <pyquil.quil.Program object at 0x7f6a60e605f8>]}}\n"
     ]
    }
   ],
   "source": [
    "widths = [2, 3, 4]\n",
    "depths = [3, 4, 5]\n",
    "ckt = classical_1q_2q\n",
    "prog_array = generate_volumetric_program_array(noisy_qc, ckt, widths, depths, num_circuit_samples=10)\n",
    "print(prog_array)"
   ]
  },
  {
   "cell_type": "code",
   "execution_count": 23,
   "metadata": {},
   "outputs": [],
   "source": [
    "noisy_results = acquire_volumetric_data(noisy_qc, prog_array)"
   ]
  },
  {
   "cell_type": "code",
   "execution_count": 24,
   "metadata": {},
   "outputs": [
    {
     "name": "stdout",
     "output_type": "stream",
     "text": [
      "{2: {3: [array([[1, 1]]), array([[1, 1]]), array([[0, 1]]), array([[0, 0]]), array([[0, 0]]), array([[1, 0]]), array([[1, 0]]), array([[1, 1]]), array([[1, 0]]), array([[0, 1]])], 4: [array([[1, 0]]), array([[0, 0]]), array([[1, 1]]), array([[0, 1]]), array([[0, 1]]), array([[0, 1]]), array([[1, 1]]), array([[0, 1]]), array([[1, 0]]), array([[0, 1]])], 5: [array([[0, 0]]), array([[0, 1]]), array([[1, 0]]), array([[1, 1]]), array([[1, 1]]), array([[0, 1]]), array([[1, 1]]), array([[0, 1]]), array([[0, 1]]), array([[1, 1]])]}, 3: {3: [array([[0, 0, 1]]), array([[1, 1, 0]]), array([[1, 0, 0]]), array([[0, 0, 1]]), array([[0, 1, 0]]), array([[1, 0, 1]]), array([[0, 1, 0]]), array([[1, 1, 0]]), array([[0, 1, 0]]), array([[1, 1, 0]])], 4: [array([[0, 1, 1]]), array([[0, 1, 0]]), array([[0, 1, 1]]), array([[0, 1, 0]]), array([[0, 1, 0]]), array([[0, 0, 1]]), array([[0, 0, 0]]), array([[1, 1, 0]]), array([[0, 1, 0]]), array([[0, 1, 0]])], 5: [array([[1, 1, 1]]), array([[1, 0, 0]]), array([[1, 1, 0]]), array([[0, 1, 1]]), array([[1, 0, 1]]), array([[0, 0, 1]]), array([[0, 1, 0]]), array([[1, 1, 1]]), array([[0, 0, 1]]), array([[1, 1, 1]])]}, 4: {3: [array([[0, 1, 1, 1]]), array([[1, 0, 0, 0]]), array([[1, 0, 0, 1]]), array([[1, 0, 0, 0]]), array([[0, 1, 1, 0]]), array([[0, 0, 0, 1]]), array([[1, 1, 0, 1]]), array([[1, 1, 0, 0]]), array([[1, 0, 1, 1]]), array([[1, 0, 1, 1]])], 4: [array([[0, 1, 0, 0]]), array([[1, 0, 0, 1]]), array([[0, 1, 0, 1]]), array([[1, 0, 0, 0]]), array([[1, 0, 1, 1]]), array([[1, 1, 0, 1]]), array([[1, 0, 1, 0]]), array([[1, 1, 1, 1]]), array([[1, 0, 1, 0]]), array([[0, 1, 1, 0]])], 5: [array([[0, 1, 1, 0]]), array([[0, 0, 0, 0]]), array([[0, 0, 1, 0]]), array([[1, 1, 0, 1]]), array([[1, 0, 1, 1]]), array([[0, 0, 1, 0]]), array([[0, 0, 1, 0]]), array([[0, 0, 1, 1]]), array([[1, 0, 0, 0]]), array([[1, 1, 0, 1]])]}}\n"
     ]
    }
   ],
   "source": [
    "ideal_results = acquire_volumetric_data(perfect_qc, prog_array, num_shots=1)\n",
    "print(ideal_results)"
   ]
  },
  {
   "cell_type": "code",
   "execution_count": 25,
   "metadata": {},
   "outputs": [
    {
     "name": "stdout",
     "output_type": "stream",
     "text": [
      "{2: {3: [array([0.788, 0.206, 0.006]), array([0.836, 0.152, 0.012]), array([0.874, 0.124, 0.002]), array([0.952, 0.048, 0.   ]), array([0.958, 0.04 , 0.002]), array([0.882, 0.118, 0.   ]), array([0.886, 0.11 , 0.004]), array([0.84 , 0.152, 0.008]), array([0.842, 0.154, 0.004]), array([0.888, 0.102, 0.01 ])], 4: [array([0.862, 0.132, 0.006]), array([0.96, 0.04, 0.  ]), array([0.846, 0.138, 0.016]), array([0.89 , 0.108, 0.002]), array([0.876, 0.122, 0.002]), array([0.874, 0.124, 0.002]), array([0.822, 0.174, 0.004]), array([0.896, 0.102, 0.002]), array([0.878, 0.122, 0.   ]), array([0.888, 0.108, 0.004])], 5: [array([0.954, 0.046, 0.   ]), array([0.876, 0.118, 0.006]), array([0.868, 0.128, 0.004]), array([0.834, 0.158, 0.008]), array([0.784, 0.202, 0.014]), array([0.864, 0.124, 0.012]), array([0.832, 0.16 , 0.008]), array([0.89 , 0.108, 0.002]), array([0.904, 0.092, 0.004]), array([0.832, 0.158, 0.01 ])]}, 3: {3: [array([0.874, 0.122, 0.004, 0.   ]), array([0.804, 0.174, 0.018, 0.004]), array([0.836, 0.156, 0.008, 0.   ]), array([0.84, 0.15, 0.01, 0.  ]), array([0.874, 0.124, 0.002, 0.   ]), array([0.814, 0.176, 0.008, 0.002]), array([0.84 , 0.152, 0.006, 0.002]), array([0.784, 0.196, 0.02 , 0.   ]), array([0.892, 0.092, 0.016, 0.   ]), array([0.808, 0.18 , 0.012, 0.   ])], 4: [array([0.856, 0.142, 0.   , 0.002]), array([0.888, 0.102, 0.01 , 0.   ]), array([0.77 , 0.194, 0.034, 0.002]), array([0.852, 0.144, 0.004, 0.   ]), array([0.872, 0.12 , 0.008, 0.   ]), array([0.862, 0.13 , 0.008, 0.   ]), array([0.93 , 0.068, 0.002, 0.   ]), array([0.816, 0.174, 0.008, 0.002]), array([0.846, 0.146, 0.008, 0.   ]), array([0.866, 0.13 , 0.004, 0.   ])], 5: [array([0.738, 0.234, 0.024, 0.004]), array([0.86 , 0.136, 0.004, 0.   ]), array([0.806, 0.18 , 0.01 , 0.004]), array([0.798, 0.176, 0.026, 0.   ]), array([0.778, 0.21 , 0.01 , 0.002]), array([0.84 , 0.154, 0.006, 0.   ]), array([0.846, 0.142, 0.012, 0.   ]), array([0.744, 0.23 , 0.026, 0.   ]), array([0.852, 0.132, 0.016, 0.   ]), array([0.756, 0.22 , 0.022, 0.002])]}, 4: {3: [array([0.708, 0.26 , 0.032, 0.   , 0.   ]), array([0.838, 0.158, 0.004, 0.   , 0.   ]), array([0.756, 0.224, 0.02 , 0.   , 0.   ]), array([0.882, 0.11 , 0.008, 0.   , 0.   ]), array([0.786, 0.194, 0.02 , 0.   , 0.   ]), array([0.852, 0.138, 0.01 , 0.   , 0.   ]), array([0.732, 0.228, 0.03 , 0.01 , 0.   ]), array([0.788, 0.188, 0.022, 0.002, 0.   ]), array([0.75 , 0.23 , 0.018, 0.   , 0.002]), array([0.7  , 0.27 , 0.028, 0.002, 0.   ])], 4: [array([0.812, 0.162, 0.026, 0.   , 0.   ]), array([0.764, 0.202, 0.022, 0.01 , 0.002]), array([0.75 , 0.23 , 0.014, 0.006, 0.   ]), array([0.83 , 0.148, 0.022, 0.   , 0.   ]), array([0.736, 0.238, 0.026, 0.   , 0.   ]), array([0.718, 0.244, 0.038, 0.   , 0.   ]), array([0.78 , 0.202, 0.018, 0.   , 0.   ]), array([0.684, 0.27 , 0.038, 0.008, 0.   ]), array([0.822, 0.162, 0.014, 0.002, 0.   ]), array([0.784, 0.21 , 0.006, 0.   , 0.   ])], 5: [array([0.778, 0.206, 0.012, 0.004, 0.   ]), array([0.876, 0.118, 0.006, 0.   , 0.   ]), array([0.83 , 0.156, 0.014, 0.   , 0.   ]), array([0.724, 0.23 , 0.042, 0.004, 0.   ]), array([0.756, 0.214, 0.03 , 0.   , 0.   ]), array([0.834, 0.146, 0.02 , 0.   , 0.   ]), array([0.822, 0.16 , 0.018, 0.   , 0.   ]), array([0.748, 0.23 , 0.02 , 0.002, 0.   ]), array([0.83 , 0.166, 0.004, 0.   , 0.   ]), array([0.72 , 0.252, 0.028, 0.   , 0.   ])]}}\n"
     ]
    }
   ],
   "source": [
    "err_hamm_distrs = get_error_hamming_weight_distributions(noisy_results, ideal_results)\n",
    "print(err_hamm_distrs)"
   ]
  },
  {
   "cell_type": "code",
   "execution_count": 26,
   "metadata": {},
   "outputs": [
    {
     "name": "stdout",
     "output_type": "stream",
     "text": [
      "{2: {3: array([0.8746, 0.1206, 0.0048]), 4: array([0.8792, 0.117 , 0.0038]), 5: array([0.8638, 0.1294, 0.0068])}, 3: {3: array([8.366e-01, 1.522e-01, 1.040e-02, 8.000e-04]), 4: array([8.558e-01, 1.350e-01, 8.600e-03, 6.000e-04]), 5: array([0.8018, 0.1814, 0.0156, 0.0012])}, 4: {3: array([7.792e-01, 2.000e-01, 1.920e-02, 1.400e-03, 2.000e-04]), 4: array([7.680e-01, 2.068e-01, 2.240e-02, 2.600e-03, 2.000e-04]), 5: array([0.7918, 0.1878, 0.0194, 0.001 , 0.    ])}}\n"
     ]
    }
   ],
   "source": [
    "avg_err_hamm_distrs = get_average_of_distributions(err_hamm_distrs)\n",
    "print(avg_err_hamm_distrs)"
   ]
  },
  {
   "cell_type": "markdown",
   "metadata": {},
   "source": [
    "## Plot a particular depth and width"
   ]
  },
  {
   "cell_type": "code",
   "execution_count": 27,
   "metadata": {},
   "outputs": [],
   "source": [
    "w = 3 # width\n",
    "d = 4 # depth\n",
    "\n",
    "avg_distr = avg_err_hamm_distrs[3][4]\n",
    "\n",
    "# rand data\n",
    "rand_distr = get_random_hamming_wt_distr(w)"
   ]
  },
  {
   "cell_type": "code",
   "execution_count": 28,
   "metadata": {},
   "outputs": [
    {
     "data": {
      "image/png": "[encoded data removed]",
      "text/plain": [
       "<Figure size 432x288 with 1 Axes>"
      ]
     },
     "metadata": {},
     "output_type": "display_data"
    }
   ],
   "source": [
    "x_labels = np.arange(0, len(avg_distr))\n",
    "plt.bar(x_labels, avg_distr, width=0.61, align='center')\n",
    "plt.bar(x_labels, rand_distr, width=0.31, align='center')\n",
    "plt.xticks(x_labels)\n",
    "plt.xlabel('Hamming Weight of Error')\n",
    "plt.ylabel('Relative Frequency of Occurrence')\n",
    "plt.ylim([0, 1])\n",
    "plt.grid(axis='y', alpha=0.75)\n",
    "plt.legend(['data','random'])\n",
    "plt.title(f'Width = {w}, Depth = {d}')\n",
    "plt.show()"
   ]
  },
  {
   "cell_type": "markdown",
   "metadata": {},
   "source": [
    "Using our helper function"
   ]
  },
  {
   "cell_type": "code",
   "execution_count": 35,
   "metadata": {},
   "outputs": [
    {
     "data": {
      "image/png": "[encoded data removed]",
      "text/plain": [
       "<Figure size 1296x432 with 1 Axes>"
      ]
     },
     "metadata": {},
     "output_type": "display_data"
    }
   ],
   "source": [
    "fig, axs = plot_error_distributions(avg_err_hamm_distrs, widths=[w], depths=[d], plot_rand_distr=True)"
   ]
  },
  {
   "cell_type": "markdown",
   "metadata": {},
   "source": [
    "### For a particular width, plot all depths"
   ]
  },
  {
   "cell_type": "code",
   "execution_count": 36,
   "metadata": {},
   "outputs": [
    {
     "data": {
      "image/png": "[encoded data removed]",
      "text/plain": [
       "<Figure size 1296x1296 with 3 Axes>"
      ]
     },
     "metadata": {},
     "output_type": "display_data"
    }
   ],
   "source": [
    "fig, axs = plot_error_distributions(avg_err_hamm_distrs, widths=[w], plot_rand_distr=True)"
   ]
  },
  {
   "cell_type": "markdown",
   "metadata": {},
   "source": [
    "### Plot all of the distributions"
   ]
  },
  {
   "cell_type": "code",
   "execution_count": 34,
   "metadata": {},
   "outputs": [
    {
     "data": {
      "image/png": "[encoded data removed]",
      "text/plain": [
       "<Figure size 1296x1296 with 9 Axes>"
      ]
     },
     "metadata": {},
     "output_type": "display_data"
    }
   ],
   "source": [
    "fig, axs = plot_error_distributions(avg_err_hamm_distrs, widths=None, depths=None, plot_rand_distr=True)"
   ]
  },
  {
   "cell_type": "markdown",
   "metadata": {},
   "source": [
    "Now we can study the sucess probablity, i.e. the zero hamming weight entry above as a function of depth. We first need to extract the data."
   ]
  },
  {
   "cell_type": "code",
   "execution_count": 65,
   "metadata": {},
   "outputs": [
    {
     "name": "stdout",
     "output_type": "stream",
     "text": [
      "{2: {3: 0.6246, 4: 0.6292, 5: 0.6138}, 3: {3: 0.7116, 4: 0.7308000000000001, 5: 0.6768}, 4: {3: 0.7167, 4: 0.7055000000000001, 5: 0.7293000000000001}}\n"
     ]
    }
   ],
   "source": [
    "# extract data from avg_err_hamm_distrs\n",
    "widths = list(avg_err_hamm_distrs.keys())\n",
    "depths = list(avg_err_hamm_distrs[widths[0]].keys())\n",
    "\n",
    "pr_succ_arr = {w: {d: distr[0] for d, distr in d_distrs.items()} for w, d_distrs in avg_err_hamm_distrs.items()}\n",
    "# this is equivalently wrapped up in the following\n",
    "# assert pr_succ_arr == get_success_probabilites(noisy_results, ideal_results)\n",
    "pr_succ_rand = [1/2**w for w in widths]\n",
    "\n",
    "ideal_distrs = {w: np.asarray([[1] + [0 for _ in range(w)]]).T for w in widths}\n",
    "rand_distrs = {w: np.asarray([get_random_hamming_wt_distr(w)]).T for w in widths}\n",
    "\n",
    "# total variation distance\n",
    "tvd_noisy_ideal = {w: {d: tvd(np.asarray([distr]).T, ideal_distrs[w]) for d, distr in d_distrs.items()}\n",
    "                              for w, d_distrs in avg_err_hamm_distrs.items()}\n",
    "\n",
    "np.testing.assert_allclose([pr for d_vals in pr_succ_arr.values() for pr in d_vals.values()], \n",
    "                           [1 - val for d_vals in tvd_noisy_ideal.values() for val in d_vals.values()])\n",
    "\n",
    "tvd_noisy_rand = {w: {d: tvd(np.asarray([distr]).T, rand_distrs[w]) for d, distr in d_distrs.items()}\n",
    "                              for w, d_distrs in avg_err_hamm_distrs.items()}\n",
    "\n",
    "print(tvd_noisy_rand)\n",
    "\n",
    "# pcheck_log_errors = []\n",
    "# pcheck_log_errors_rand = []\n",
    "# tvd_rand = []\n",
    "# tvd_ideal = []\n",
    "\n",
    "# for dep in range(1, df_fn_depth.Depth.max()+1):\n",
    "#     idx = df_fn_depth['Depth']== dep\n",
    "#     depth_vec.append(dep)\n",
    "#     pcheck.append(df_fn_depth[idx]['Pr. success data'].mean()) \n",
    "#     pcheck_rand.append(df_fn_depth[idx]['Pr. success rand'].mean())\n",
    "#     pcheck_log_errors.append(df_fn_depth[idx]['Pr. success loge data'].mean())\n",
    "#     pcheck_log_errors_rand.append(df_fn_depth[idx]['Pr. success loge rand'].mean())\n",
    "#     tvd_ideal.append(df_fn_depth[idx]['TVD(data, ideal)'].mean())\n",
    "#     tvd_rand.append(df_fn_depth[idx]['TVD(data, rand)'].mean())"
   ]
  },
  {
   "cell_type": "markdown",
   "metadata": {},
   "source": [
    "# Success probablity and success probablity including a small number of errors"
   ]
  },
  {
   "cell_type": "markdown",
   "metadata": {},
   "source": [
    "Next we will plot the success probablity of a circuit with a certain width as a function of depth. "
   ]
  },
  {
   "cell_type": "code",
   "execution_count": null,
   "metadata": {},
   "outputs": [],
   "source": [
    "plt.scatter(depth_vec,pcheck,label='Sucess Probablity')\n",
    "plt.plot(depth_vec,pcheck_rand,label='random guess')\n",
    "plt.ylim([-0.05,1.05])\n",
    "plt.xlabel('Depth')\n",
    "plt.ylabel('Pr(success)')\n",
    "plt.title('Pr(success) vs Depth for Width = {}'.format(wid))\n",
    "plt.legend()\n",
    "plt.show()"
   ]
  },
  {
   "cell_type": "markdown",
   "metadata": {},
   "source": [
    "**Sucess if we allow for a small number of errors**\n",
    "\n",
    "Some near term algorithms have robustness to noise. In light of that we might want to consider answers that are only a little wrong successes.\n",
    "\n",
    "To make this notion formal we allow a logarithmic number of bits to flip from the correct answer and call all such instances \"success\".\n",
    "\n",
    "The logarithmic number of bits that we allow to flip is defined by the \"basement\" ${\\mathcal B}$ of \n",
    "\n",
    "$\\log_2 ({\\rm number\\ of\\ bits}) -1$\n",
    "\n",
    "where the basement of a number is ${\\mathcal B}(number) = 0$ if number$<=0$ and ${\\mathcal B}(number) = {\\rm floor (number)}$.\n",
    "\n",
    "\n",
    "Supose we have a circuit of width 4, this means correct string has four bits, e.g. 1010. Then a logarithmic number of flips is $\\log_2(4)-1 = 1$.\n",
    "\n",
    "So any string with hamming weight zero or one counts as a success.\n",
    "\n",
    "Such error metrics might be important in noisy near term algorithms where getting the exact answer is not vital."
   ]
  },
  {
   "cell_type": "code",
   "execution_count": null,
   "metadata": {},
   "outputs": [],
   "source": [
    "plt.figure()\n",
    "plt.scatter(depth_vec,pcheck,label='Sucess Probablity')\n",
    "plt.plot(depth_vec,pcheck_rand,label='random guess')\n",
    "plt.scatter(depth_vec,pcheck_log_errors,label='Sucess Probablity + log errors')\n",
    "plt.plot(depth_vec,pcheck_log_errors_rand,label='random guess + log errors')\n",
    "plt.ylim([-0.05,1.05])\n",
    "plt.xlabel('Depth')\n",
    "plt.ylabel('Pr(success+log errors)')\n",
    "plt.title('Pr(success+log errors) vs Depth for Width = {}'.format(wid))\n",
    "plt.legend(bbox_to_anchor=(1.04,1), loc=\"upper left\")\n",
    "plt.show()"
   ]
  },
  {
   "cell_type": "markdown",
   "metadata": {},
   "source": [
    "## Total variation distance from ideal answer and random distribution"
   ]
  },
  {
   "cell_type": "code",
   "execution_count": null,
   "metadata": {},
   "outputs": [],
   "source": [
    "plt.figure()\n",
    "plt.scatter(depth_vec,tvd_ideal,label='TVD(data, ideal)')\n",
    "plt.scatter(depth_vec,tvd_rand,label='TVD(data, rand)')\n",
    "plt.scatter(depth_vec,1-np.asarray(pcheck),label='1-Sucess Probablity',alpha=0.33,marker='^',s=80)\n",
    "#plt.plot(depth_vec,pcheck_log_errors_rand,label='random guess + log errors')\n",
    "plt.ylim([-0.05,1.05])\n",
    "plt.xlabel('Depth')\n",
    "plt.ylabel('Total variation distance')\n",
    "plt.title('Width = {}'.format(wid))\n",
    "plt.legend(bbox_to_anchor=(1.04,1), loc=\"upper left\")\n",
    "plt.show()"
   ]
  },
  {
   "cell_type": "markdown",
   "metadata": {},
   "source": [
    "# Plot depth = width"
   ]
  },
  {
   "cell_type": "code",
   "execution_count": null,
   "metadata": {},
   "outputs": [],
   "source": [
    "max_idx = min([max(res_df['Depth']),max(res_df['Width'])])\n",
    "\n",
    "for idx in range(1,max_idx+1):\n",
    "    distz = get_hamming_dist(res_df, idx, idx)\n",
    "    # combine data from different subgraphs\n",
    "    avg_dist = distz['Hamming dist. data'].mean()\n",
    "    # rand data\n",
    "    rand_dist = distz['Hamming dist. rand'][0]\n",
    "    dep = idx\n",
    "    wid = idx\n",
    "    x_labels = np.arange(0, len(avg_dist))\n",
    "    plt.subplot(1,max_idx,idx)\n",
    "    plt.bar(x_labels, avg_dist, width=0.61, align='center')\n",
    "    plt.bar(x_labels, rand_dist, width=0.31, align='center')\n",
    "    plt.xticks(x_labels)\n",
    "    plt.xlabel('Hamming Weight of Error')\n",
    "    plt.ylabel('Relative Frequency of Occurence')\n",
    "    plt.ylim([0,1])\n",
    "    plt.grid(axis='y', alpha=0.75)\n",
    "    plt.legend(['data','random'])\n",
    "    plt.title('Depth = {}, Width = {}'.format(dep,wid))\n",
    "plt.subplots_adjust(bottom=0.1, right=3.2, top=0.9)\n",
    "plt.show()"
   ]
  },
  {
   "cell_type": "markdown",
   "metadata": {},
   "source": [
    "## Plot the distribution of sublattice widths"
   ]
  },
  {
   "cell_type": "code",
   "execution_count": null,
   "metadata": {},
   "outputs": [],
   "source": [
    "G = perfect_qc.qubit_topology()\n",
    "len(perfect_qc.qubit_topology())\n",
    "# distribution of graph lengths\n",
    "distr = []\n",
    "for num_nodes in range(1, len(G.nodes) + 1):\n",
    "    listg = generate_connected_subgraphs(G, num_nodes)\n",
    "    distr.append(len(listg))\n",
    "\n",
    "cir_wid = list(range(1, len(G.nodes) + 1))\n",
    "plt.bar(cir_wid, distr, width=0.61, align='center')\n",
    "plt.xticks(cir_wid)\n",
    "plt.xlabel('sublattice / circuit width')\n",
    "plt.ylabel('Frequency of Occurence')\n",
    "plt.grid(axis='y', alpha=0.75)\n",
    "plt.title('Distribution of sublattice widths')\n",
    "disty"
   ]
  },
  {
   "cell_type": "markdown",
   "metadata": {},
   "source": [
    "# Plot success probablity landscape"
   ]
  },
  {
   "cell_type": "markdown",
   "metadata": {},
   "source": [
    "This is just the success probablity as a function of depth and width."
   ]
  },
  {
   "cell_type": "code",
   "execution_count": null,
   "metadata": {},
   "outputs": [],
   "source": [
    "values = np.asarray([munged['Pr. success data'][idx] for idx in munged.index])\n",
    "values"
   ]
  },
  {
   "cell_type": "code",
   "execution_count": null,
   "metadata": {},
   "outputs": [],
   "source": [
    "values_rand = np.asarray([munged['Pr. success rand'][idx] for idx in munged.index])\n",
    "values_rand"
   ]
  },
  {
   "cell_type": "code",
   "execution_count": null,
   "metadata": {},
   "outputs": [],
   "source": [
    "x = np.arange(min(res_df['Depth']), max(res_df['Depth'])+1)\n",
    "\n",
    "y = np.arange(min(res_df['Width']), max(res_df['Width'])+1)\n",
    "\n",
    "X, Y = np.meshgrid(x, y)"
   ]
  },
  {
   "cell_type": "code",
   "execution_count": null,
   "metadata": {},
   "outputs": [],
   "source": [
    "(x1,x2) = X.shape\n",
    "Zdata = np.reshape(values,(x2,x1)).T\n",
    "Zrand = np.reshape(values_rand,(x2,x1)).T"
   ]
  },
  {
   "cell_type": "code",
   "execution_count": null,
   "metadata": {},
   "outputs": [],
   "source": [
    "Zdata"
   ]
  },
  {
   "cell_type": "code",
   "execution_count": null,
   "metadata": {},
   "outputs": [],
   "source": [
    "extent = min(res_df['Depth'])-0.5, max(res_df['Depth'])+0.5, min(res_df['Width'])-0.5, max(res_df['Width'])+0.5\n",
    "ax = plt.gca()\n",
    "img = ax.imshow(Zdata, interpolation='none', extent=extent,\n",
    "                cmap='viridis', origin='lowerleft', vmin=0.0,vmax=1.0)\n",
    "\n",
    "xticks = np.arange(1,max(res_df['Depth'])+1)\n",
    "ax.set_xticks(xticks)\n",
    "ax.set_xticklabels(map(str, xticks))\n",
    "\n",
    "yticks = np.arange(1,max(res_df['Width'])+1)\n",
    "ax.set_yticks(yticks)\n",
    "ax.set_yticklabels(map(str, yticks))\n",
    "\n",
    "ax.set_aspect('equal')\n",
    "plt.colorbar(img, ax=ax)\n",
    "plt.xlabel('Depth')\n",
    "plt.ylabel('Width')\n",
    "plt.title('Success Probability')\n",
    "plt.show()"
   ]
  },
  {
   "cell_type": "code",
   "execution_count": null,
   "metadata": {},
   "outputs": [],
   "source": [
    "extent = min(res_df['Depth'])-0.5, max(res_df['Depth'])+0.5, min(res_df['Width'])-0.5, max(res_df['Width'])+0.5\n",
    "ax = plt.gca()\n",
    "img = ax.imshow(Zrand, interpolation='none', extent=extent,\n",
    "                cmap='viridis', origin='lowerleft', vmin=0.0,vmax=1.0)\n",
    "\n",
    "xticks = np.arange(1,max(res_df['Depth'])+1)\n",
    "ax.set_xticks(xticks)\n",
    "ax.set_xticklabels(map(str, xticks))\n",
    "\n",
    "yticks = np.arange(1,max(res_df['Width'])+1)\n",
    "ax.set_yticks(yticks)\n",
    "ax.set_yticklabels(map(str, yticks))\n",
    "\n",
    "ax.set_aspect('equal')\n",
    "plt.colorbar(img, ax=ax)\n",
    "plt.xlabel('Depth')\n",
    "plt.ylabel('Width')\n",
    "plt.title('Success Probability of Random Guess')\n",
    "plt.show()"
   ]
  },
  {
   "cell_type": "code",
   "execution_count": null,
   "metadata": {},
   "outputs": [],
   "source": [
    "tvd_rand_values = np.asarray([munged['TVD(data, rand)'][idx] for idx in munged.index])\n",
    "tvd_ideal_values = np.asarray([munged['TVD(data, ideal)'][idx] for idx in munged.index])\n",
    "Ztvd_rand = np.reshape(tvd_rand_values,(x2,x1)).T\n",
    "Ztvd_ideal = np.reshape(tvd_ideal_values,(x2,x1)).T"
   ]
  },
  {
   "cell_type": "code",
   "execution_count": null,
   "metadata": {},
   "outputs": [],
   "source": [
    "tvd_ideal_values\n",
    "tvd_rand_values"
   ]
  },
  {
   "cell_type": "code",
   "execution_count": null,
   "metadata": {},
   "outputs": [],
   "source": [
    "extent = min(res_df['Depth'])-0.5, max(res_df['Depth'])+0.5, min(res_df['Width'])-0.5, max(res_df['Width'])+0.5\n",
    "ax = plt.gca()\n",
    "img = ax.imshow(Ztvd_ideal, interpolation='none', extent=extent,\n",
    "                cmap='viridis', origin='lowerleft', vmin=0.0,vmax=1.0)\n",
    "\n",
    "xticks = np.arange(1,max(res_df['Depth'])+1)\n",
    "ax.set_xticks(xticks)\n",
    "ax.set_xticklabels(map(str, xticks))\n",
    "\n",
    "yticks = np.arange(1,max(res_df['Width'])+1)\n",
    "ax.set_yticks(yticks)\n",
    "ax.set_yticklabels(map(str, yticks))\n",
    "\n",
    "ax.set_aspect('equal')\n",
    "plt.colorbar(img, ax=ax)\n",
    "plt.xlabel('Depth')\n",
    "plt.ylabel('Width')\n",
    "plt.title('Success Probability of Random Guess')\n",
    "plt.show()"
   ]
  },
  {
   "cell_type": "code",
   "execution_count": null,
   "metadata": {},
   "outputs": [],
   "source": [
    "extent = min(res_df['Depth'])-0.5, max(res_df['Depth'])+0.5, min(res_df['Width'])-0.5, max(res_df['Width'])+0.5\n",
    "ax = plt.gca()\n",
    "img = ax.imshow(Ztvd_rand, interpolation='none', extent=extent,\n",
    "                cmap='viridis', origin='lowerleft', vmin=0.0,vmax=1.0)\n",
    "\n",
    "xticks = np.arange(1,max(res_df['Depth'])+1)\n",
    "ax.set_xticks(xticks)\n",
    "ax.set_xticklabels(map(str, xticks))\n",
    "\n",
    "yticks = np.arange(1,max(res_df['Width'])+1)\n",
    "ax.set_yticks(yticks)\n",
    "ax.set_yticklabels(map(str, yticks))\n",
    "\n",
    "ax.set_aspect('equal')\n",
    "plt.colorbar(img, ax=ax)\n",
    "plt.xlabel('Depth')\n",
    "plt.ylabel('Width')\n",
    "plt.title('Success Probability of Random Guess')\n",
    "plt.show()"
   ]
  },
  {
   "cell_type": "code",
   "execution_count": null,
   "metadata": {},
   "outputs": [],
   "source": [
    "loge_rand_values = np.asarray([munged['Pr. success loge rand'][idx] for idx in munged.index])\n",
    "loge_data_values = np.asarray([munged['Pr. success loge data'][idx] for idx in munged.index])\n",
    "Zlge_rand = np.reshape(loge_rand_values,(x2,x1)).T\n",
    "Zlge_data = np.reshape(loge_data_values,(x2,x1)).T"
   ]
  },
  {
   "cell_type": "code",
   "execution_count": null,
   "metadata": {},
   "outputs": [],
   "source": [
    "extent = min(res_df['Depth'])-0.5, max(res_df['Depth'])+0.5, min(res_df['Width'])-0.5, max(res_df['Width'])+0.5\n",
    "ax = plt.gca()\n",
    "img = ax.imshow(Zlge_data, interpolation='none', extent=extent,\n",
    "                cmap='viridis', origin='lowerleft', vmin=0.0,vmax=1.0)\n",
    "\n",
    "xticks = np.arange(1,max(res_df['Depth'])+1)\n",
    "ax.set_xticks(xticks)\n",
    "ax.set_xticklabels(map(str, xticks))\n",
    "\n",
    "yticks = np.arange(1,max(res_df['Width'])+1)\n",
    "ax.set_yticks(yticks)\n",
    "ax.set_yticklabels(map(str, yticks))\n",
    "\n",
    "ax.set_aspect('equal')\n",
    "plt.colorbar(img, ax=ax)\n",
    "plt.xlabel('Depth')\n",
    "plt.ylabel('Width')\n",
    "plt.title('Success Probability of Random Guess')\n",
    "plt.show()"
   ]
  },
  {
   "cell_type": "code",
   "execution_count": null,
   "metadata": {},
   "outputs": [],
   "source": [
    "extent = min(res_df['Depth'])-0.5, max(res_df['Depth'])+0.5, min(res_df['Width'])-0.5, max(res_df['Width'])+0.5\n",
    "ax = plt.gca()\n",
    "img = ax.imshow(Zlge_rand, interpolation='none', extent=extent,\n",
    "                cmap='viridis', origin='lowerleft', vmin=0.0,vmax=1.0)\n",
    "\n",
    "xticks = np.arange(1,max(res_df['Depth'])+1)\n",
    "ax.set_xticks(xticks)\n",
    "ax.set_xticklabels(map(str, xticks))\n",
    "\n",
    "yticks = np.arange(1,max(res_df['Width'])+1)\n",
    "ax.set_yticks(yticks)\n",
    "ax.set_yticklabels(map(str, yticks))\n",
    "\n",
    "ax.set_aspect('equal')\n",
    "plt.colorbar(img, ax=ax)\n",
    "plt.xlabel('Depth')\n",
    "plt.ylabel('Width')\n",
    "plt.title('Success Probability of Random Guess')\n",
    "plt.show()"
   ]
  },
  {
   "cell_type": "markdown",
   "metadata": {},
   "source": [
    "# Data exploration"
   ]
  },
  {
   "cell_type": "code",
   "execution_count": null,
   "metadata": {},
   "outputs": [],
   "source": [
    "from scipy.optimize import curve_fit"
   ]
  },
  {
   "cell_type": "code",
   "execution_count": null,
   "metadata": {},
   "outputs": [],
   "source": [
    "size = Y.shape\n",
    "width_1d = Y.reshape((1,np.prod(size)))\n",
    "depth_1d = X.reshape((1,np.prod(size)))"
   ]
  },
  {
   "cell_type": "code",
   "execution_count": null,
   "metadata": {},
   "outputs": [],
   "source": [
    "data_1d = Zdata.reshape((1,np.prod(size)))\n",
    "data_1d.shape\n",
    "width_1d.shape\n"
   ]
  },
  {
   "cell_type": "code",
   "execution_count": null,
   "metadata": {},
   "outputs": [],
   "source": [
    "dims = np.zeros_like(width_1d)\n",
    "dims[0,0] = size[0]\n",
    "dims[0,1] = size[1]\n",
    "\n",
    "xdata = np.vstack((dims,width_1d, depth_1d))\n",
    "\n",
    "\n",
    "\n",
    "xdata"
   ]
  },
  {
   "cell_type": "markdown",
   "metadata": {},
   "source": [
    "## Fitting models"
   ]
  },
  {
   "cell_type": "markdown",
   "metadata": {},
   "source": [
    "Two parameter model \n",
    "\n",
    "\n",
    "$f(W,D,p_W,p_D) =  (1-p_W)^W * (1-p_D)^D $\n",
    "\n",
    "The fidelity is proporional to $1 - p$"
   ]
  },
  {
   "cell_type": "code",
   "execution_count": null,
   "metadata": {},
   "outputs": [],
   "source": [
    "def two_param(x,pw,pd):\n",
    "    temp = x[0]\n",
    "    wid = temp[0]\n",
    "    dep = temp[1]\n",
    "    width = x[1].reshape(wid,dep)\n",
    "    depth = x[2].reshape(wid,dep)\n",
    "    pcheck = (1-pw)**(width) * (1-pd)**depth\n",
    "    rpcheck = pcheck.reshape((1,wid*dep))\n",
    "    return rpcheck.ravel()"
   ]
  },
  {
   "cell_type": "markdown",
   "metadata": {},
   "source": [
    "One parameter model\n",
    "\n",
    "$f(W,D,p) =  (1-p)^{W * D} $"
   ]
  },
  {
   "cell_type": "code",
   "execution_count": null,
   "metadata": {},
   "outputs": [],
   "source": [
    "def one_param(x,p):\n",
    "    temp = x[0]\n",
    "    wid = temp[0]\n",
    "    dep = temp[1]\n",
    "    width = x[1].reshape(wid,dep)\n",
    "    depth = x[2].reshape(wid,dep)\n",
    "    pcheck = (1-p)**(width*depth)\n",
    "    rpcheck = pcheck.reshape((1,wid*dep))\n",
    "    return rpcheck.ravel()"
   ]
  },
  {
   "cell_type": "markdown",
   "metadata": {},
   "source": [
    "From my prior work a better model to fit to is\n",
    "\n",
    "Pcheck$(W,D,p,a,b,c) = \\exp[ -(a p^2 + b p + c)* W*D] $\n"
   ]
  },
  {
   "cell_type": "code",
   "execution_count": null,
   "metadata": {},
   "outputs": [],
   "source": [
    "def two_param_exp(x,p,a,b):\n",
    "    temp = x[0]\n",
    "    wid = temp[0]\n",
    "    dep = temp[1]\n",
    "    width = x[1].reshape(wid,dep)\n",
    "    depth = x[2].reshape(wid,dep)\n",
    "    pcheck = np.exp(-(a*p + b) * width * depth)\n",
    "    rpcheck = pcheck.reshape((1,wid*dep))\n",
    "    return rpcheck.ravel()"
   ]
  },
  {
   "cell_type": "markdown",
   "metadata": {},
   "source": [
    "**Start with one paramter model**"
   ]
  },
  {
   "cell_type": "code",
   "execution_count": null,
   "metadata": {},
   "outputs": [],
   "source": [
    "pguess = 0.1\n",
    "popt, pcov = curve_fit(one_param, xdata, data_1d.ravel(), p0=pguess, bounds=(0, 1))"
   ]
  },
  {
   "cell_type": "code",
   "execution_count": null,
   "metadata": {},
   "outputs": [],
   "source": [
    "print('The estimated error is p = ', str(np.round(popt[0],4)))\n",
    "print('The estimated product of the one and two qubit fidelity is F = ', str(1-np.round(popt[0],4)))\n",
    "#print('The one standard deviation on the estimate is ', str(np.round(np.sqrt(np.diag(pcov)[0]),5)))"
   ]
  },
  {
   "cell_type": "code",
   "execution_count": null,
   "metadata": {},
   "outputs": [],
   "source": [
    "zfit = one_param(xdata,popt)\n",
    "Z_fit = zfit.reshape(size)"
   ]
  },
  {
   "cell_type": "code",
   "execution_count": null,
   "metadata": {},
   "outputs": [],
   "source": [
    "plt.pcolormesh(X,Y, Z_fit)\n",
    "plt.xticks(list(range(1,circuit_depth+1)))\n",
    "plt.yticks(list(range(1,circuit_width+1)))\n",
    "plt.colorbar()\n",
    "plt.show()"
   ]
  },
  {
   "cell_type": "code",
   "execution_count": null,
   "metadata": {},
   "outputs": [],
   "source": [
    "plt.pcolormesh(X,Y,Zdata)\n",
    "plt.xticks(list(range(1,circuit_depth+1)))\n",
    "plt.yticks(list(range(1,circuit_width+1)))\n",
    "plt.colorbar()\n",
    "plt.show()"
   ]
  },
  {
   "cell_type": "markdown",
   "metadata": {},
   "source": [
    "**Two parameter model**"
   ]
  },
  {
   "cell_type": "code",
   "execution_count": null,
   "metadata": {},
   "outputs": [],
   "source": [
    "pguess2d = [0.0276, 0.01, 0.4]"
   ]
  },
  {
   "cell_type": "code",
   "execution_count": null,
   "metadata": {},
   "outputs": [],
   "source": [
    "popt2d, pcov2d = curve_fit(two_param_exp, xdata, data_1d.ravel(), p0=pguess2d , bounds=(0., 1))"
   ]
  },
  {
   "cell_type": "code",
   "execution_count": null,
   "metadata": {},
   "outputs": [],
   "source": [
    "popt2d"
   ]
  },
  {
   "cell_type": "code",
   "execution_count": null,
   "metadata": {},
   "outputs": [],
   "source": [
    "zfit2d = two_param(xdata,popt2d[0],popt2d[1])\n",
    "Z_fit2d = zfit2d.reshape(size)"
   ]
  },
  {
   "cell_type": "code",
   "execution_count": null,
   "metadata": {},
   "outputs": [],
   "source": [
    "plt.pcolormesh(X,Y, Z_fit2d)\n",
    "plt.xticks(list(range(1,circuit_depth+1)))\n",
    "plt.yticks(list(range(1,circuit_width+1)))\n",
    "plt.colorbar()\n",
    "plt.show()"
   ]
  },
  {
   "cell_type": "code",
   "execution_count": null,
   "metadata": {},
   "outputs": [],
   "source": [
    "1-1.02319786e-01"
   ]
  },
  {
   "cell_type": "code",
   "execution_count": null,
   "metadata": {},
   "outputs": [],
   "source": []
  }
 ],
 "metadata": {
  "kernelspec": {
   "display_name": "Python 3",
   "language": "python",
   "name": "python3"
  },
  "language_info": {
   "codemirror_mode": {
    "name": "ipython",
    "version": 3
   },
   "file_extension": ".py",
   "mimetype": "text/x-python",
   "name": "python",
   "nbconvert_exporter": "python",
   "pygments_lexer": "ipython3",
   "version": "3.6.5"
  }
 },
 "nbformat": 4,
 "nbformat_minor": 2
}
