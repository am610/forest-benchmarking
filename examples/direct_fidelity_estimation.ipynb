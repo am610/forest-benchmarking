{
 "cells": [
  {
   "cell_type": "markdown",
   "metadata": {},
   "source": [
    "# Direct Fidelity Estimation\n",
    "\n",
    "Using a method known as direct fidelity estimation (DFE), see [DFE1] and [DFE2], it is possible to estimate the fidelity between \n",
    "* a target pure state $\\rho_\\psi = |\\psi\\rangle\\langle \\psi|$ to its experimental realization $\\sigma$,\n",
    "* a target unitary $U$ to its experimental realization $U_e$.\n",
    " \n",
    "This can be done with a small number (relative to state and process tomography) of simple experimental settings that is independent of the system size. Such methods are useful for the experimental study of larger quantum information processing units.\n",
    "\n",
    "In this notebook we explore some state and process DFE using the forest.benchmarking module `direct_fidelity_estimation.py`."
   ]
  },
  {
   "cell_type": "markdown",
   "metadata": {},
   "source": [
    "## Simplistic example\n",
    "\n",
    "Suppose we have tried to prepare the state $|0\\rangle$ but in fact prepared the state\n",
    "\n",
    "$$\\sigma = \\frac 1 2 (I + x X + y Y + z Z).$$\n",
    "\n",
    "\n",
    "The usual way to quantify how close $\\sigma$ and $|0\\rangle$ are is to do quantum state tomography \n",
    "and estimate $\\sigma$ and then calculate the fidelity be $\\sigma$ and $|0\\rangle$.\n",
    "\n",
    "\n",
    "DFE provides a way to directly estimate the fidelity without first estimating the state $\\sigma$. Although we can write the fidelity as $F(\\rho_0, \\sigma) = \\langle 0 |\\sigma|0 \\rangle$ we use the expression\n",
    "\n",
    "$$\n",
    "F(\\rho_0, \\sigma) = {\\rm Tr}[\\rho_0  \\sigma].\n",
    "$$\n",
    "Next we parameterize the pure state as\n",
    "\n",
    "$$\\rho_0= |0\\rangle \\langle 0| =  \\frac 1 2 \\big (I + (0) X + (0) Y + (+1) Z \\big)=  \\frac 1 2 (I +  Z ).$$\n",
    "\n",
    "Finally we arrive at\n",
    "\n",
    "$$\n",
    "F(\\rho_0, \\sigma)= {\\rm Tr}[\\rho_0 \\sigma] = \\frac 1 4 {\\rm Tr}[(1+z)I]= \\frac{(1+z)}{2},\n",
    "$$\n",
    "this result shows that we only need to estimate one observable $\\langle Z \\rangle$ in order to estimate the fidelity between $\\rho_0$ and $\\sigma$ in this particular example.\n"
   ]
  },
  {
   "cell_type": "markdown",
   "metadata": {},
   "source": [
    "## Addtional Details\n",
    "\n",
    "**State DFE:** State fidelity between the experimental state $\\sigma$ and the ideal (pure) state $\\rho_\\psi = |\\psi\\rangle\\langle \\psi|$ \n",
    "matrices is \n",
    "\n",
    "$$\n",
    "F(\\rho_\\psi, \\sigma) = {\\rm Tr}[\\rho_\\psi  \\sigma] = \\langle \\psi |\\sigma|\\psi \\rangle.\n",
    "$$\n",
    "\n",
    "The direct fidelity estimate for a state is given by the average expected value of the Pauli operators in the\n",
    "stabilizer group of the ideal pure state (see Eqn. 1 of [DFE1]).\n",
    "\n",
    "**Process DFE:** The average gate fidelity between the experimental process $\\mathcal E$ and the ideal (unitary) process $\\mathcal U$ is defined as\n",
    "$$\n",
    "F(\\mathcal U,\\mathcal E) = \\frac{ {\\rm Tr} [\\mathcal E \\mathcal U^\\dagger] + d} {d^2+d} \n",
    "$$\n",
    "where the processes are represented by linear superoperators acting of vectorized\n",
    "density matrices, and d is the dimension of the Hilbert space $\\mathcal E$ and $\\mathcal U$ act on. If you are unfamiliar with these terms look at [superoperator tools notebook](superoperator_tools.ipynb) and [superoperator_representations.md](../.././forest-benchmarking/docs/superoperator_representations.md)\n",
    "\n",
    "The average gate fidelity can be re-written a \n",
    "$$\n",
    "F(\\mathcal U,\\mathcal E)= \\frac{d^2 {\\rm Tr} J(\\mathcal E)⋅J(\\mathcal U) + d}{d^2+d}\n",
    "$$\n",
    "where $J()$ is the Choi-Jamiolkoski representation of the superoperator in the argument. Since the Choi-Jamiolkowski representation\n",
    "is given by a density operator, the connection to the calculation of state fidelity becomes apparent:\n",
    "$F(J(ℰ),J(𝒰)) = {\\rm Tr} J(\\mathcal E)⋅J(\\mathcal U)$ is the state fidelity between Choi-Jamiolkoski states.\n",
    "\n",
    "Noting that the Choi-Jamiolkoski state is prepared by acting on half of a maximally entangled state with the\n",
    "process in question, the direct fidelity estimate of the Choi-Jamiolkoski state is given by the average expected\n",
    "value of a Pauli operator resulting from applying the ideal unitary $\\mathcal U$ to a Pauli operator $P_i$, for the state\n",
    "resulting from applying the ideal unitary to a stabilizer state that has $P_i$ in its stabilizer group (one must be\n",
    "careful to prepare states that have both +1 and -1 eigenstates of the operator in question, to emulate the random\n",
    "state preparation corresponding to measuring half of a maximally entangled state)."
   ]
  },
  {
   "cell_type": "markdown",
   "metadata": {},
   "source": [
    "[DFE1]  Practical Characterization of Quantum Devices without Tomography  \n",
    "        Silva et al.,  \n",
    "        PRL 107, 210404 (2011)  \n",
    "        https://doi.org/10.1103/PhysRevLett.107.210404  \n",
    "        https://arxiv.org/abs/1104.3835  \n",
    "\n",
    "[DFE2]  Direct Fidelity Estimation from Few Pauli Measurements  \n",
    "        Flammia et al.,  \n",
    "        PRL 106, 230501 (2011)  \n",
    "        https://doi.org/10.1103/PhysRevLett.106.230501  \n",
    "        https://arxiv.org/abs/1104.4695  "
   ]
  },
  {
   "cell_type": "code",
   "execution_count": 1,
   "metadata": {},
   "outputs": [],
   "source": [
    "from pyquil.paulis import ID\n",
    "from pyquil.gates import I, X, MEASURE, H, CNOT, RY, CZ\n",
    "from pyquil import Program, get_qc\n",
    "from pyquil.api import get_benchmarker\n",
    "from forest.benchmarking.direct_fidelity_estimation import ( generate_exhaustive_state_dfe_experiment, \n",
    "                                                             generate_exhaustive_process_dfe_experiment,\n",
    "                                                             generate_monte_carlo_state_dfe_experiment, \n",
    "                                                             generate_monte_carlo_process_dfe_experiment,\n",
    "                                                             acquire_dfe_data,\n",
    "                                                             estimate_dfe )\n",
    "from pyquil.operator_estimation import measure_observables\n",
    "\n",
    "import numpy as np\n",
    "from matplotlib import pyplot"
   ]
  },
  {
   "cell_type": "code",
   "execution_count": 2,
   "metadata": {},
   "outputs": [],
   "source": [
    "# noiseless QVM\n",
    "qvm = get_qc(\"9q-generic-qvm\", as_qvm=True, noisy=False)\n",
    "\n",
    "# noisy QVM\n",
    "noisy_qvm = get_qc(\"9q-generic-qvm\", as_qvm=True, noisy=True)\n",
    "\n",
    "bm = get_benchmarker()"
   ]
  },
  {
   "cell_type": "markdown",
   "metadata": {},
   "source": [
    "## Direct fidelity estimation in `forest.benchmarking`"
   ]
  },
  {
   "cell_type": "markdown",
   "metadata": {},
   "source": [
    "The basic workflow is:\n",
    "\n",
    "1. Prepare a *state* or a *process* by specifying a pyQuil program.\n",
    "2. Construct a list of observables that are needed to estimate the state; we collect this into an object called an `ObservablesExperiment`.\n",
    "3. Acquire the data by running the program on a QVM or QPU.\n",
    "4. Apply an estimator to the data to obtain an estimate of the fidelity between the ideal and measured state or process.\n",
    "5. Visualize if you wish."
   ]
  },
  {
   "cell_type": "markdown",
   "metadata": {},
   "source": [
    "## Two quick examples"
   ]
  },
  {
   "cell_type": "markdown",
   "metadata": {},
   "source": [
    "### Step 1. Prepare a state or unitarty with a `Program`\n",
    "\n",
    "This is the object we will do DFE on.\n",
    "\n",
    "The process we choose is \n",
    "$$\n",
    "U = {\\rm CNOT}(H\\otimes I)=\\frac{1}{\\sqrt{2}}\n",
    "\\begin{pmatrix}\n",
    "1 & 0 & 1 & 0\\\\\n",
    "0 & 1 & 0 & 1\\\\\n",
    "0 & 1 & 0 & -1\\\\\n",
    "1 & 0 & -1 & 0\n",
    "\\end{pmatrix}\n",
    "$$\n",
    "and the state is\n",
    "$$\n",
    "|\\Psi\\rangle = {\\rm CNOT}(H\\otimes I)|00\\rangle = \\frac{1}{\\sqrt{2}} \\begin{pmatrix} 1\\\\0\\\\0\\\\ 1\\end{pmatrix}.\n",
    "$$"
   ]
  },
  {
   "cell_type": "code",
   "execution_count": 3,
   "metadata": {},
   "outputs": [
    {
     "name": "stdout",
     "output_type": "stream",
     "text": [
      "H 0\n",
      "CNOT 0 1\n",
      "\n"
     ]
    }
   ],
   "source": [
    "p = Program()\n",
    "prep_prog = p.inst(H(0), CNOT(0,1))\n",
    "print(prep_prog)"
   ]
  },
  {
   "cell_type": "code",
   "execution_count": 4,
   "metadata": {},
   "outputs": [
    {
     "name": "stdout",
     "output_type": "stream",
     "text": [
      "[[ 0.70710678  0.          0.70710678  0.        ]\n",
      " [ 0.          0.70710678  0.          0.70710678]\n",
      " [ 0.          0.70710678  0.         -0.70710678]\n",
      " [ 0.70710678  0.         -0.70710678  0.        ]]\n",
      "[[0.5 0.  0.  0.5]\n",
      " [0.  0.  0.  0. ]\n",
      " [0.  0.  0.  0. ]\n",
      " [0.5 0.  0.  0.5]]\n"
     ]
    }
   ],
   "source": [
    "from pyquil.gate_matrices import I as Imatrix, H as Hmatrix, CNOT as CNOTmatrix\n",
    "\n",
    "U_ideal = CNOTmatrix @ np.kron(Hmatrix, Imatrix)\n",
    "print(U_ideal)\n",
    "\n",
    "rho_ideal = U_ideal @ np.array([[1], [0], [0], [0]]) @ np.array([[1], [0], [0], [0]]).T @ U_ideal.conj().T\n",
    "print(rho_ideal)"
   ]
  },
  {
   "cell_type": "markdown",
   "metadata": {},
   "source": [
    "### Step 2. Construct a `ObservablesExperiment` for DFE\n",
    "\n",
    "We use the helper functions  \n",
    "* `generate_exhaustive_state_dfe_experiment` \n",
    "* `generate_exhaustive_process_dfe_experiment`\n",
    "\n",
    "to construct a tomographically incomplete set of measurements.\n",
    "\n",
    "We can print this out to see the 15 observables or operator measurements we will perform. Note that we could have included an additional observable `I0I1`, but since this trivially gives an expectation of 1 we instead omit this observable in experiment generation and include its contribution by hand in the estimation methods. Be mindful of this if generating your own settings."
   ]
  },
  {
   "cell_type": "code",
   "execution_count": 5,
   "metadata": {},
   "outputs": [],
   "source": [
    "qubits = [0,1]\n",
    "\n",
    "# state dfe\n",
    "state_exp = generate_exhaustive_state_dfe_experiment(prep_prog, qubits, bm)\n",
    "\n",
    "# process dfe\n",
    "process_exp = generate_exhaustive_process_dfe_experiment(prep_prog, qubits, bm)"
   ]
  },
  {
   "cell_type": "code",
   "execution_count": 6,
   "metadata": {},
   "outputs": [
    {
     "name": "stdout",
     "output_type": "stream",
     "text": [
      "The type of the object is: <class 'forest.benchmarking.observable_estimation.ObservablesExperiment'> \n",
      "\n",
      "The program is:\n",
      "H 0\n",
      "CNOT 0 1\n",
      "\n",
      "There are three experiments:\n",
      "0: Z0_0 * Z0_1→(1+0j)*Z0Z1\n",
      "1: Z0_0 * Z0_1→(1+0j)*X0X1\n",
      "2: Z0_0 * Z0_1→(-1+0j)*Y0Y1\n"
     ]
    }
   ],
   "source": [
    "# Lets take a look into one of these experiment objects\n",
    "\n",
    "print('The type of the object is:', type(state_exp),'\\n')\n",
    "print('The program is:')\n",
    "print(state_exp.program)\n",
    "print('There are three experiments:')\n",
    "print(state_exp.settings_string())"
   ]
  },
  {
   "cell_type": "markdown",
   "metadata": {},
   "source": [
    "### Step 3. Acquire the data\n",
    "\n",
    "PyQuil will run the tomography programs. We will use the QVM but at this point you can use a QPU.\n",
    "\n",
    "Note that `acquire_dfe_data` returns a `list` of `ExperimentResult`s which is a dataclass defined in the module `observable_estimation.py`.\n",
    "\n",
    "The details of the dataclass and error mitigation strategies are in detail in the [observable estimation ipython notebook](observable_estimation.ipynb)."
   ]
  },
  {
   "cell_type": "code",
   "execution_count": 7,
   "metadata": {},
   "outputs": [],
   "source": [
    "# get some NOISELESS data\n",
    "results = acquire_dfe_data(qvm, process_exp, num_shots=1000)"
   ]
  },
  {
   "cell_type": "code",
   "execution_count": 8,
   "metadata": {},
   "outputs": [
    {
     "name": "stdout",
     "output_type": "stream",
     "text": [
      "Operator Expectations\n",
      "[1.0, 1.0, 1.0, 1.0, 1.0, 1.0, 1.0, 1.0, 1.0, 1.0, 1.0, 1.0, 1.0, 1.0, 1.0, 1.0, 1.0, 1.0, 1.0, 1.0, 1.0, 1.0, 1.0, 1.0, 1.0, 1.0, 1.0, 1.0, 1.0, 1.0, 1.0, 1.0, 1.0, 1.0, 1.0, 1.0, 1.0, 1.0, 1.0, 1.0, 1.0, 1.0, 1.0, 1.0, 1.0, 1.0, 1.0, 1.0]\n",
      "\n",
      "\n",
      "Calibration Expectations\n",
      "[1.0, 1.0, 1.0, 1.0, 1.0, 1.0, 1.0, 1.0, 1.0, 1.0, 1.0, 1.0, 1.0, 1.0, 1.0, 1.0, 1.0, 1.0, 1.0, 1.0, 1.0, 1.0, 1.0, 1.0, 1.0, 1.0, 1.0, 1.0, 1.0, 1.0, 1.0, 1.0, 1.0, 1.0, 1.0, 1.0, 1.0, 1.0, 1.0, 1.0, 1.0, 1.0, 1.0, 1.0, 1.0, 1.0, 1.0, 1.0]\n"
     ]
    }
   ],
   "source": [
    "# look at it\n",
    "print(\"Operator Expectations\")\n",
    "print([res.expectation for res in results])\n",
    "print('\\n')\n",
    "print(\"Calibration Expectations\")\n",
    "print([res.calibration_expectation for res in results])"
   ]
  },
  {
   "cell_type": "code",
   "execution_count": 9,
   "metadata": {},
   "outputs": [],
   "source": [
    "# get some NOISY data\n",
    "n_results_proce = acquire_dfe_data(noisy_qvm, process_exp, num_shots=1000)\n",
    "\n",
    "n_results_state = acquire_dfe_data(noisy_qvm, state_exp, num_shots=1000)"
   ]
  },
  {
   "cell_type": "code",
   "execution_count": 10,
   "metadata": {},
   "outputs": [
    {
     "name": "stdout",
     "output_type": "stream",
     "text": [
      "Noisy Operator Expectations\n",
      "[0.9809, 0.9552, 0.9935, 0.9916, 1.0026, 1.0177, 1.0011, 0.9889, 0.9948, 0.9324, 0.9612, 0.981, 0.9944, 0.9866, 0.9896, 0.9322, 0.9612, 0.9523, 0.9362, 0.9518, 0.9696, 0.9897, 0.9954, 0.9782, 0.9942, 0.9771, 0.9568, 0.9561, 0.9989, 0.9966, 0.9827, 0.9814, 0.9688, 0.951, 0.9544, 0.9833, 0.9699, 1.0073, 0.9881, 0.9598, 0.9572, 0.9569, 0.9744, 0.961, 0.9921, 1.0112, 0.9559, 0.9713]\n",
      "\n",
      "\n",
      "Noisy Calibration Expectations\n",
      "[0.892, 0.892, 0.775, 0.775, 0.7645, 0.7645, 0.898, 0.7665, 0.7665, 0.902, 0.902, 0.893, 0.893, 0.898, 0.7665, 0.7665, 0.902, 0.902, 0.893, 0.893, 0.774, 0.871, 0.871, 0.7795, 0.7795, 0.7865, 0.7865, 0.774, 0.871, 0.871, 0.7795, 0.7795, 0.7865, 0.7865, 0.7895, 0.897, 0.897, 0.758, 0.758, 0.783, 0.783, 0.7895, 0.897, 0.897, 0.758, 0.758, 0.783, 0.783]\n"
     ]
    }
   ],
   "source": [
    "# look at it\n",
    "print(\"Noisy Operator Expectations\")\n",
    "print([np.round(res.expectation, 4) for res in n_results_proce])\n",
    "print('\\n')\n",
    "print(\"Noisy Calibration Expectations\")\n",
    "print([res.calibration_expectation for res in n_results_proce])"
   ]
  },
  {
   "cell_type": "markdown",
   "metadata": {},
   "source": [
    "### Step 4. Apply some estimators to the data \"do DFE\""
   ]
  },
  {
   "cell_type": "markdown",
   "metadata": {},
   "source": [
    "**Process DFE**"
   ]
  },
  {
   "cell_type": "code",
   "execution_count": 11,
   "metadata": {},
   "outputs": [
    {
     "name": "stdout",
     "output_type": "stream",
     "text": [
      "Fidelity point estimate is:  1.0\n",
      "The standard error of the fidelity point estimate is:  0.0\n"
     ]
    }
   ],
   "source": [
    "# estimate using NOISELESS data\n",
    "fid_est, fid_std_err = estimate_dfe(results, 'process')\n",
    "\n",
    "print('Fidelity point estimate is: ',fid_est)\n",
    "print('The standard error of the fidelity point estimate is: ', fid_std_err)"
   ]
  },
  {
   "cell_type": "code",
   "execution_count": 12,
   "metadata": {},
   "outputs": [
    {
     "name": "stdout",
     "output_type": "stream",
     "text": [
      "Fidelity point estimate is 0.9819\n",
      "The std error of the fidelity point estimate is 0.0019\n"
     ]
    }
   ],
   "source": [
    "# estimate using NOISY data\n",
    "nfid_est, nfid_std_err = estimate_dfe(n_results_proce, 'process')\n",
    "\n",
    "print('Fidelity point estimate is', np.round(nfid_est, 4))\n",
    "print('The std error of the fidelity point estimate is', np.round(nfid_std_err, 4))"
   ]
  },
  {
   "cell_type": "markdown",
   "metadata": {},
   "source": [
    "**State DFE**"
   ]
  },
  {
   "cell_type": "code",
   "execution_count": 13,
   "metadata": {},
   "outputs": [
    {
     "name": "stdout",
     "output_type": "stream",
     "text": [
      "Fidelity point estimate is 0.9906\n",
      "The std error of the fidelity point estimate is 0.0079\n"
     ]
    }
   ],
   "source": [
    "# estimate using NOISY data\n",
    "nfid_est_state, nfid_std_err_state = estimate_dfe(n_results_state, 'state')\n",
    "\n",
    "print('Fidelity point estimate is', np.round(nfid_est_state, 4))\n",
    "print('The std error of the fidelity point estimate is', np.round(nfid_std_err_state, 4))"
   ]
  },
  {
   "cell_type": "markdown",
   "metadata": {},
   "source": [
    "### Step 5. Visualize\n"
   ]
  },
  {
   "cell_type": "markdown",
   "metadata": {},
   "source": [
    "**State DFE**\n",
    "\n",
    "We will start with state DFE as it is the simplest case."
   ]
  },
  {
   "cell_type": "code",
   "execution_count": 14,
   "metadata": {},
   "outputs": [],
   "source": [
    "from forest.benchmarking.tomography import iterative_mle_state_estimate"
   ]
  },
  {
   "cell_type": "code",
   "execution_count": 15,
   "metadata": {},
   "outputs": [
    {
     "data": {
      "text/plain": [
       "array([[0.498+0.j, 0.   +0.j, 0.   +0.j, 0.492+0.j],\n",
       "       [0.   +0.j, 0.002+0.j, 0.002+0.j, 0.   +0.j],\n",
       "       [0.   +0.j, 0.002+0.j, 0.002+0.j, 0.   +0.j],\n",
       "       [0.492+0.j, 0.   +0.j, 0.   +0.j, 0.498+0.j]])"
      ]
     },
     "execution_count": 15,
     "metadata": {},
     "output_type": "execute_result"
    }
   ],
   "source": [
    "# use state tomography to estimate the state from incomplete information\n",
    "rho_est = iterative_mle_state_estimate(n_results_state, qubits=[0,1])\n",
    "\n",
    "np.round(rho_est, 3)"
   ]
  },
  {
   "cell_type": "code",
   "execution_count": 16,
   "metadata": {},
   "outputs": [
    {
     "data": {
      "image/png": "[encoded data removed]",
      "text/plain": [
       "<Figure size 720x360 with 2 Axes>"
      ]
     },
     "metadata": {
      "needs_background": "light"
     },
     "output_type": "display_data"
    }
   ],
   "source": [
    "import matplotlib.pyplot as plt\n",
    "from forest.benchmarking.utils import n_qubit_pauli_basis\n",
    "from forest.benchmarking.operator_tools.superoperator_transformations import vec, computational2pauli_basis_matrix\n",
    "from forest.benchmarking.plotting.state_process import plot_pauli_rep_of_state, plot_pauli_bar_rep_of_state\n",
    "\n",
    "# convert to pauli representation\n",
    "n_qubits = 2\n",
    "pl_basis = n_qubit_pauli_basis(n_qubits)\n",
    "c2p = computational2pauli_basis_matrix(2*n_qubits)\n",
    "\n",
    "rho_true_pauli = np.real(c2p @ vec(rho_ideal))\n",
    "rho_mle_pauli = np.real(c2p @ vec(rho_est)) \n",
    "\n",
    "fig1, (ax3, ax4) = plt.subplots(1, 2, figsize=(10,5))\n",
    "title_res = f\"Estimated via DFE data using MLE \\n\" f\"DFE Fidelity = {np.round(nfid_est_state, 5)} ± {np.round(nfid_std_err_state, 6)}\"\n",
    "plot_pauli_bar_rep_of_state(rho_true_pauli.flatten(), ax=ax3, labels=pl_basis.labels, title='Ideal State')\n",
    "plot_pauli_bar_rep_of_state(rho_mle_pauli.flatten(), ax=ax4, labels=pl_basis.labels, title=title_res)\n",
    "fig1.tight_layout()"
   ]
  },
  {
   "cell_type": "markdown",
   "metadata": {},
   "source": [
    "**Process DFE**\n",
    "\n",
    "We will start with state DFE as it is the simplest case."
   ]
  },
  {
   "cell_type": "code",
   "execution_count": 17,
   "metadata": {},
   "outputs": [
    {
     "data": {
      "text/plain": [
       "array([[ 0.5 , -0.  ,  0.  ,  0.5 , -0.  ,  0.49,  0.49, -0.  ,  0.49,\n",
       "         0.  , -0.  , -0.49,  0.  ,  0.4 , -0.39,  0.  ],\n",
       "       [-0.  ,  0.  , -0.  , -0.  ,  0.01, -0.  , -0.  , -0.01, -0.  ,\n",
       "         0.01,  0.01,  0.  ,  0.03, -0.  ,  0.  ,  0.03],\n",
       "       [ 0.  , -0.  ,  0.  ,  0.  , -0.01,  0.  ,  0.  ,  0.01,  0.  ,\n",
       "        -0.01, -0.01, -0.  , -0.03,  0.  , -0.  , -0.03],\n",
       "       [ 0.5 , -0.  ,  0.  ,  0.5 , -0.  ,  0.49,  0.49, -0.  ,  0.49,\n",
       "         0.  , -0.  , -0.49,  0.  ,  0.4 , -0.39,  0.  ]])"
      ]
     },
     "execution_count": 17,
     "metadata": {},
     "output_type": "execute_result"
    }
   ],
   "source": [
    "from forest.benchmarking.tomography import pgdb_process_estimate\n",
    "\n",
    "choi_mle_est = pgdb_process_estimate(n_results_proce, qubits)\n",
    "\n",
    "# sneak peak at part of the estimated process\n",
    "np.real_if_close(np.round(choi_mle_est, 2))[0:4]"
   ]
  },
  {
   "cell_type": "code",
   "execution_count": 18,
   "metadata": {},
   "outputs": [
    {
     "data": {
      "image/png": "[encoded data removed]",
      "text/plain": [
       "<Figure size 864x360 with 4 Axes>"
      ]
     },
     "metadata": {
      "needs_background": "light"
     },
     "output_type": "display_data"
    }
   ],
   "source": [
    "from forest.benchmarking.plotting.state_process import plot_pauli_transfer_matrix\n",
    "from forest.benchmarking.operator_tools import choi2pauli_liouville, kraus2pauli_liouville\n",
    "\n",
    "\n",
    "fig, (ax1, ax2) = plt.subplots(1, 2, figsize=(12,5))\n",
    "title_res = f\"Estimated via DFE data using MLE \\n\" f\"DFE Fidelity = {np.round(nfid_est, 5)} ± {np.round(nfid_std_err, 6)}\"\n",
    "plot_pauli_transfer_matrix(np.real(kraus2pauli_liouville(U_ideal)), ax1, title='Ideal')\n",
    "plot_pauli_transfer_matrix(np.real(choi2pauli_liouville(choi_mle_est)), ax2, title=title_res)\n",
    "plt.tight_layout()"
   ]
  },
  {
   "cell_type": "markdown",
   "metadata": {},
   "source": [
    "## State fidelity between $\\left|0\\right\\rangle$ and $|\\theta\\rangle = R_y(\\theta)\\left|0\\right\\rangle$\n",
    "\n",
    "\n",
    "In this section we check that state DFE is working correctly by comparing with an analytical calcuation. \n",
    "Essentially we would like to prepare $|0\\rangle$ but for some reason we actually prepare $|\\theta\\rangle = R_y(\\theta)|0\\rangle$. The fidelity in that case is\n",
    "$$\n",
    "\\begin{align}\n",
    "F\\big(|0\\rangle, |\\theta\\rangle \\big) &= |\\langle 0|R_y(\\theta) |0\\rangle |^2\\\\\n",
    "&= \\cos^2(\\theta/2)\\\\\n",
    "&= \\frac{1}{2} \\big (1 +\\cos(\\theta) \\big). \n",
    "\\end{align}\n",
    "$$\n",
    "\n",
    "So the point of this section is to try and \"experimentally\" plot the fidelity expression as a function of $\\theta$."
   ]
  },
  {
   "cell_type": "markdown",
   "metadata": {},
   "source": [
    "**Note:** in some of the cells below there is a comment `# NBVAL_SKIP` this is used in testing to speed up our tests by skipping that particular cell."
   ]
  },
  {
   "cell_type": "code",
   "execution_count": 19,
   "metadata": {},
   "outputs": [],
   "source": [
    "# start by constructing the identity program\n",
    "qubits = [0]\n",
    "prog = Program(I(0))\n",
    "\n",
    "# design state DFE experiment to estimate |0>\n",
    "zero_state_experiment = generate_exhaustive_state_dfe_experiment(prog, qubits, bm)"
   ]
  },
  {
   "cell_type": "code",
   "execution_count": 20,
   "metadata": {},
   "outputs": [
    {
     "name": "stdout",
     "output_type": "stream",
     "text": [
      "The estimated fidelity is: 1.0\n"
     ]
    }
   ],
   "source": [
    "# get data and estimate\n",
    "zero_state_data = acquire_dfe_data(qvm, zero_state_experiment, num_shots=1000)\n",
    "\n",
    "zero_fid_est, zero_fid_std_err = estimate_dfe(zero_state_data, 'state')\n",
    "print('The estimated fidelity is:', zero_fid_est)"
   ]
  },
  {
   "cell_type": "markdown",
   "metadata": {},
   "source": [
    "So obviously we need to do something different.\n",
    "\n",
    "We need to modify the program that is run to be `RY(theta,0)` instead of identity. \n",
    "What that means is technically we will be doing the \"wrong\" expermient, recall we `generate_exhaustive...state_dfe_exp` under the assumption that our program was identity. But that is entirely the point, in this case the unitary rotation is an error.\n"
   ]
  },
  {
   "cell_type": "code",
   "execution_count": 21,
   "metadata": {},
   "outputs": [],
   "source": [
    "# NBVAL_SKIP\n",
    "points = 10\n",
    "res = []\n",
    "res_std_err = []\n",
    "\n",
    "# loop over different angles\n",
    "for theta in np.linspace(0, np.pi, points):\n",
    "    # modify the experiment object to do the \"wrong\" program\n",
    "    zero_state_experiment.program = Program(RY(theta,0))\n",
    "    ry_state_data = acquire_dfe_data(qvm, zero_state_experiment, num_shots=1000)\n",
    "    fid_est, fid_std_err = estimate_dfe(ry_state_data, 'state')\n",
    "    res.append(fid_est)\n",
    "    res_std_err.append(2*fid_std_err)"
   ]
  },
  {
   "cell_type": "code",
   "execution_count": 22,
   "metadata": {},
   "outputs": [
    {
     "data": {
      "image/png": "[encoded data removed]",
      "text/plain": [
       "<Figure size 432x288 with 1 Axes>"
      ]
     },
     "metadata": {
      "needs_background": "light"
     },
     "output_type": "display_data"
    }
   ],
   "source": [
    "# NBVAL_SKIP\n",
    "pyplot.errorbar(np.linspace(0, np.pi, points), res, res_std_err, fmt=\".\", label=\"Simulation\")\n",
    "pyplot.plot(np.linspace(0, np.pi, points), (1/2+1/2*np.cos(np.linspace(0, np.pi, points))), label=\"Theory\")\n",
    "pyplot.xlabel(r\"$\\theta$\")\n",
    "pyplot.ylabel(\"Fidelity\")\n",
    "pyplot.legend()\n",
    "pyplot.title(r\"State fidelity between $\\left|0\\right\\rangle$ and $R_y(\\theta)\\left|0\\right\\rangle$\")\n",
    "pyplot.show()"
   ]
  },
  {
   "cell_type": "markdown",
   "metadata": {},
   "source": [
    "## Process fidelity between $I$ and $R_y(\\theta)$\n",
    "\n",
    "Like the state fidelity example above we will construct a DFE experiment to estimate the identity but include a unitary error, in this case $R_y(\\theta)$. Then we will show that process DFE is consistent with the analytical calcuation.\n",
    "\n",
    "The process fidelity is easy to calculate using Enq 5 from [arXiv:quant-ph/0701138](https://arxiv.org/pdf/quant-ph/0701138.pdf). The fidelity between the unitary $U_0$ the quantum operation specified by the Kraus operators $\\{ G_k \\}$ is \n",
    "$$\n",
    "F(\\{ G_k \\}, U_0) \n",
    "= \\frac{1}{d(d+1)} \\big ( {\\rm Tr}\\big [\\sum_k M_k^\\dagger M_k \\big ] + \\sum_k |{\\rm Tr}[ M_k]|^2 \\big ),\n",
    "$$\n",
    "where $M_k = U_0^\\dagger G_k$.\n",
    "\n",
    "In the context we care about we have a single Kraus operator so $\\{ G_k \\} = R_y(\\theta)$ and $U_0=I$. So the fidelity becomes\n",
    "$$\n",
    "F\\big(R_y(\\theta), I \\big) \n",
    "= \\frac{1}{3} \\big (1 +2\\cos^2(\\theta/2) \\big ),\n",
    "$$\n",
    "where we used $R_y(\\theta) = \\exp[-i \\theta Y /2]= \\cos(\\theta/2) I - i \\sin(\\theta/2)Y$."
   ]
  },
  {
   "cell_type": "code",
   "execution_count": 23,
   "metadata": {},
   "outputs": [],
   "source": [
    "# start by constructing the identity program\n",
    "prog = Program(I(0))\n",
    "qubits = [0]\n",
    "\n",
    "# design process DFE experiment to estimate I\n",
    "id_proc_exp = generate_exhaustive_process_dfe_experiment(prog, qubits, bm)"
   ]
  },
  {
   "cell_type": "markdown",
   "metadata": {},
   "source": [
    "Now modify the program that is run to be `RY(theta,0)` instead of identity. As above that means is technically we will be doing the \"wrong\" expermient."
   ]
  },
  {
   "cell_type": "code",
   "execution_count": 25,
   "metadata": {},
   "outputs": [],
   "source": [
    "# NBVAL_SKIP\n",
    "points = 10\n",
    "res = []\n",
    "res_std_err = []\n",
    "for theta in np.linspace(0, np.pi, points): \n",
    "    # modify the experiment object to do the \"wrong\" program\n",
    "    id_proc_exp.program = Program(RY(theta,0))\n",
    "    ry_proc_data = acquire_dfe_data(qvm, id_proc_exp, num_shots=500)\n",
    "    fid_est, fid_std_err = estimate_dfe(ry_proc_data, 'process')\n",
    "    res.append(fid_est)\n",
    "    res_std_err.append(2*fid_std_err)"
   ]
  },
  {
   "cell_type": "code",
   "execution_count": 26,
   "metadata": {},
   "outputs": [
    {
     "data": {
      "image/png": "[encoded data removed]",
      "text/plain": [
       "<Figure size 432x288 with 1 Axes>"
      ]
     },
     "metadata": {
      "needs_background": "light"
     },
     "output_type": "display_data"
    }
   ],
   "source": [
    "# NBVAL_SKIP\n",
    "pyplot.errorbar(np.linspace(0, np.pi, points), res, res_std_err, fmt=\".\", label=\"Simulation\")\n",
    "pyplot.plot(np.linspace(0, np.pi, points), \n",
    "            (1 + 2*np.cos(np.linspace(0, np.pi, points)/2)**2)/3,\n",
    "            label=\"theory\")\n",
    "pyplot.xlabel(r\"$\\theta$\")\n",
    "pyplot.ylabel(\"Fidelity\")\n",
    "pyplot.legend()\n",
    "pyplot.ylim(0.25,1.05)\n",
    "pyplot.title(r\"Process fidelity between $I$ and $R_y(\\theta)$\")\n",
    "pyplot.show()"
   ]
  },
  {
   "cell_type": "markdown",
   "metadata": {},
   "source": [
    "## Advanced "
   ]
  },
  {
   "cell_type": "markdown",
   "metadata": {},
   "source": [
    "### Monte Carlo Sampling of large graph states\n",
    "\n",
    "We can do [Monte Carlo](https://en.wikipedia.org/wiki/Monte_Carlo_method) or random sampling of operators in large states or processes.\n",
    "\n",
    "* `generate_monte_carlo_state_dfe_experiment`\n",
    "* `generate_monte_carlo_process_dfe_experiment`\n",
    "\n",
    "generally you need to specify a number of terms"
   ]
  },
  {
   "cell_type": "code",
   "execution_count": 27,
   "metadata": {},
   "outputs": [],
   "source": [
    "import networkx as nx\n",
    "from matplotlib import pyplot as plt\n",
    "from forest.benchmarking.entangled_states import create_graph_state"
   ]
  },
  {
   "cell_type": "code",
   "execution_count": 29,
   "metadata": {},
   "outputs": [
    {
     "data": {
      "image/png": "[encoded data removed]",
      "text/plain": [
       "<Figure size 432x288 with 1 Axes>"
      ]
     },
     "metadata": {},
     "output_type": "display_data"
    }
   ],
   "source": [
    "nx.draw(noisy_qvm.qubit_topology(), with_labels=True)\n",
    "\n",
    "# we will do a subgraph\n",
    "graph = nx.from_edgelist([(0, 1), (0, 3), (1, 2), (1, 4), (3, 4)])"
   ]
  },
  {
   "cell_type": "code",
   "execution_count": 30,
   "metadata": {},
   "outputs": [
    {
     "name": "stdout",
     "output_type": "stream",
     "text": [
      "H 0\n",
      "H 1\n",
      "H 3\n",
      "H 2\n",
      "H 4\n",
      "CZ 0 1\n",
      "CZ 0 3\n",
      "CZ 1 2\n",
      "CZ 1 4\n",
      "CZ 3 4\n",
      "\n"
     ]
    },
    {
     "data": {
      "text/plain": [
       "[0, 1, 2, 3, 4]"
      ]
     },
     "execution_count": 30,
     "metadata": {},
     "output_type": "execute_result"
    }
   ],
   "source": [
    "graph_prep_prog = create_graph_state(graph)\n",
    "\n",
    "qubits = list(graph_prep_prog.get_qubits())\n",
    "print(graph_prep_prog)\n",
    "qubits"
   ]
  },
  {
   "cell_type": "code",
   "execution_count": 31,
   "metadata": {},
   "outputs": [],
   "source": [
    "gstate_exp_exh = generate_exhaustive_state_dfe_experiment(graph_prep_prog, qubits, bm)\n",
    "gstate_exp_mc = generate_monte_carlo_state_dfe_experiment(graph_prep_prog, qubits, bm, n_terms=8)"
   ]
  },
  {
   "cell_type": "code",
   "execution_count": 32,
   "metadata": {},
   "outputs": [
    {
     "name": "stdout",
     "output_type": "stream",
     "text": [
      "In exhaustive state DFE there is 31 experiments.\n",
      "\n",
      "In monte carlo state DFE we chose 8 experiments.\n"
     ]
    }
   ],
   "source": [
    "num_exh_exp = len(list(gstate_exp_exh.setting_strings()))\n",
    "num_mc_exp = len(list(gstate_exp_mc.setting_strings()))\n",
    "\n",
    "print(f'In exhaustive state DFE there is {num_exh_exp} experiments.\\n' )\n",
    "\n",
    "print(f'In monte carlo state DFE we chose {num_mc_exp} experiments.' )"
   ]
  },
  {
   "cell_type": "code",
   "execution_count": 37,
   "metadata": {},
   "outputs": [
    {
     "name": "stdout",
     "output_type": "stream",
     "text": [
      "The four qubit graph fidelity estimate is 0.9349828120896599.\n",
      "\n",
      "Monte-Carlo took  51.34 seconds.\n"
     ]
    }
   ],
   "source": [
    "# NBVAL_SKIP\n",
    "\n",
    "# because of the #NBVAL_SKIP `%%time` wont work\n",
    "from time import time\n",
    "start_time = time()\n",
    "\n",
    "graph_state_mc_data = acquire_dfe_data(noisy_qvm, gstate_exp_mc, num_shots=500)\n",
    "\n",
    "fid_est, fid_std_err = estimate_dfe(graph_state_mc_data, 'state')\n",
    "print(f'The four qubit graph fidelity estimate is {fid_est}.\\n')\n",
    "print('Monte-Carlo took ', np.round(time()-start_time, 2), 'seconds.')"
   ]
  },
  {
   "cell_type": "code",
   "execution_count": 38,
   "metadata": {},
   "outputs": [
    {
     "name": "stdout",
     "output_type": "stream",
     "text": [
      "The four qubit graph fidelity estimate is 0.9486367150245834.\n",
      "\n",
      "Exhaustive took  190.78 seconds.\n"
     ]
    }
   ],
   "source": [
    "# NBVAL_SKIP\n",
    "\n",
    "start_time = time()\n",
    "\n",
    "graph_state_exh_data = acquire_dfe_data(noisy_qvm, gstate_exp_exh, num_shots=500)\n",
    "\n",
    "fid_est, fid_std_err = estimate_dfe(graph_state_exh_data, 'state')\n",
    "print(f'The four qubit graph fidelity estimate is {fid_est}.\\n')\n",
    "print('Exhaustive took ', np.round(time()-start_time, 2), 'seconds.')"
   ]
  },
  {
   "cell_type": "markdown",
   "metadata": {},
   "source": [
    "### DFE measurements that include spectator qubits that signify cross talk.\n",
    "\n",
    "Suppose you wanted to do process tomography on a CZ gate.\n",
    "\n",
    "It turns out in many superconducting qubits there are many kinds of cross talk at play.\n",
    "\n",
    "\n",
    "So one way to measure that is to do the gate you care about and then \"install\" identites on spectator qubits.\n",
    "If the process is not Identity on those qubits DFE will pick it up.\n",
    "\n",
    "Of course, such expereiments are best done on the QPU or at the least with a noise model."
   ]
  },
  {
   "cell_type": "code",
   "execution_count": 31,
   "metadata": {},
   "outputs": [],
   "source": [
    "prog = Program(CZ(0,1), I(2))\n",
    "\n",
    "# convert set to list\n",
    "qubits = list(prog.get_qubits())"
   ]
  },
  {
   "cell_type": "code",
   "execution_count": 34,
   "metadata": {},
   "outputs": [
    {
     "name": "stdout",
     "output_type": "stream",
     "text": [
      "The CZ gate is: CZ(0,1)\n"
     ]
    },
    {
     "name": "stderr",
     "output_type": "stream",
     "text": [
      "/anaconda3/lib/python3.7/site-packages/networkx/drawing/nx_pylab.py:611: MatplotlibDeprecationWarning: isinstance(..., numbers.Number)\n",
      "  if cb.is_numlike(alpha):\n"
     ]
    },
    {
     "data": {
      "image/png": "[encoded data removed]",
      "text/plain": [
       "<Figure size 432x288 with 1 Axes>"
      ]
     },
     "metadata": {},
     "output_type": "display_data"
    }
   ],
   "source": [
    "print('The CZ gate is: CZ(0,1)')\n",
    "nx.draw(nx.from_edgelist([(0, 1), (1, 2)]), with_labels=True)"
   ]
  },
  {
   "cell_type": "code",
   "execution_count": 35,
   "metadata": {},
   "outputs": [],
   "source": [
    "xtalk_proc_exp = generate_monte_carlo_process_dfe_experiment(prog, qubits, bm, n_terms=20)"
   ]
  },
  {
   "cell_type": "code",
   "execution_count": 36,
   "metadata": {},
   "outputs": [
    {
     "data": {
      "text/plain": [
       "20"
      ]
     },
     "execution_count": 36,
     "metadata": {},
     "output_type": "execute_result"
    }
   ],
   "source": [
    "len(list(xtalk_proc_exp.setting_strings()))"
   ]
  },
  {
   "cell_type": "code",
   "execution_count": 37,
   "metadata": {},
   "outputs": [],
   "source": [
    "xtalk_data = acquire_dfe_data(qvm, xtalk_proc_exp, num_shots=500)"
   ]
  },
  {
   "cell_type": "code",
   "execution_count": 38,
   "metadata": {},
   "outputs": [
    {
     "data": {
      "text/plain": [
       "1.0"
      ]
     },
     "execution_count": 38,
     "metadata": {},
     "output_type": "execute_result"
    }
   ],
   "source": [
    "fid_est, fid_std_err = estimate_dfe(xtalk_data, 'process')\n",
    "fid_est"
   ]
  },
  {
   "cell_type": "markdown",
   "metadata": {},
   "source": [
    "If we wanted to we could \"amplify\" the cross talk error by applying the gate many times"
   ]
  },
  {
   "cell_type": "code",
   "execution_count": null,
   "metadata": {},
   "outputs": [],
   "source": [
    "prog = Program(CZ(0,1), CZ(0,1), CZ(0,1), I(2))"
   ]
  },
  {
   "cell_type": "markdown",
   "metadata": {},
   "source": [
    "### Parallel state and process DFE"
   ]
  },
  {
   "cell_type": "code",
   "execution_count": null,
   "metadata": {},
   "outputs": [],
   "source": [
    "# TODO"
   ]
  }
 ],
 "metadata": {
  "kernelspec": {
   "display_name": "Python 3",
   "language": "python",
   "name": "python3"
  },
  "language_info": {
   "codemirror_mode": {
    "name": "ipython",
    "version": 3
   },
   "file_extension": ".py",
   "mimetype": "text/x-python",
   "name": "python",
   "nbconvert_exporter": "python",
   "pygments_lexer": "ipython3",
   "version": "3.7.3"
  }
 },
 "nbformat": 4,
 "nbformat_minor": 2
}
