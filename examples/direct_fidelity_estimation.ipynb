{
 "cells": [
  {
   "cell_type": "markdown",
   "metadata": {},
   "source": [
    "# Direct Fidelity Estimation\n",
    "\n",
    "Using a method known as direct fidelity estimation (DFE), see [DFE1] and [DFE2], it is possible to estimate the fidelity between \n",
    "* a target pure state $\\rho_\\psi = |\\psi\\rangle\\langle \\psi|$ to its experimental realization $\\sigma$,\n",
    "* a target unitary $U$ to its experimental realization $U_e$.\n",
    " \n",
    "This can be done with a small number (relative to state and process tomography) of simple experimental settings that is independent of the system size. Such methods are useful for the experimental study of larger quantum information processing units.\n",
    "\n",
    "In this notebook we explore some state and process DFE using the forest.benchmarking module `direct_fidelity_estimation.py`."
   ]
  },
  {
   "cell_type": "markdown",
   "metadata": {},
   "source": [
    "## Simplistic example\n",
    "\n",
    "Suppose we have tried to prepare the state $|0\\rangle$ but in fact prepared the state\n",
    "\n",
    "$$\\sigma = \\frac 1 2 (I + x X + y Y + z Z).$$\n",
    "\n",
    "\n",
    "The usual way to quantify how close $\\sigma$ and $|0\\rangle$ are is to do quantum state tomography \n",
    "and estimate $\\sigma$ and then calculate the fidelity be $\\sigma$ and $|0\\rangle$.\n",
    "\n",
    "\n",
    "DFE provides a way to directly estimate the fidelity without first estimating the state $\\sigma$. Although we can write the fidelity as $F(\\rho_0, \\sigma) = \\langle 0 |\\sigma|0 \\rangle$ we use the expression\n",
    "\n",
    "$$\n",
    "F(\\rho_0, \\sigma) = {\\rm Tr}[\\rho_0  \\sigma].\n",
    "$$\n",
    "Next we parameterize the pure state as\n",
    "\n",
    "$$\\rho_0= |0\\rangle \\langle 0| =  \\frac 1 2 \\big (I + (0) X + (0) Y + (+1) Z \\big)=  \\frac 1 2 (I +  Z ).$$\n",
    "\n",
    "Finally we arrive at\n",
    "\n",
    "$$\n",
    "F(\\rho_0, \\sigma)= {\\rm Tr}[\\rho_0 \\sigma] = \\frac 1 4 {\\rm Tr}[(1+z)I]= \\frac{(1+z)}{2},\n",
    "$$\n",
    "this result shows that we only need to estimate one observable $\\langle Z \\rangle$ in order to estimate the fidelity between $\\rho_0$ and $\\sigma$ in this particular example.\n"
   ]
  },
  {
   "cell_type": "markdown",
   "metadata": {},
   "source": [
    "## Addtional Details\n",
    "\n",
    "**State DFE:** State fidelity between the experimental state $\\sigma$ and the ideal (pure) state $\\rho_\\psi = |\\psi\\rangle\\langle \\psi|$ \n",
    "matrices is \n",
    "\n",
    "$$\n",
    "F(\\rho_\\psi, \\sigma) = {\\rm Tr}[\\rho_\\psi  \\sigma] = \\langle \\psi |\\sigma|\\psi \\rangle.\n",
    "$$\n",
    "\n",
    "The direct fidelity estimate for a state is given by the average expected value of the Pauli operators in the\n",
    "stabilizer group of the ideal pure state (see Eqn. 1 of [DFE1]).\n",
    "\n",
    "**Process DFE:** The average gate fidelity between the experimental process $\\mathcal E$ and the ideal (unitary) process $\\mathcal U$ is defined as\n",
    "$$\n",
    "F(\\mathcal U,\\mathcal E) = \\frac{ {\\rm Tr} [\\mathcal E \\mathcal U^\\dagger] + d} {d^2+d} \n",
    "$$\n",
    "where the processes are represented by linear superoperators acting of vectorized\n",
    "density matrices, and d is the dimension of the Hilbert space $\\mathcal E$ and $\\mathcal U$ act on. If you are unfamiliar with these terms look at [superoperator tools notebook](superoperator_tools.ipynb) and [superoperator_representations.md](../.././forest-benchmarking/docs/superoperator_representations.md)\n",
    "\n",
    "The average gate fidelity can be re-written a \n",
    "$$\n",
    "F(\\mathcal U,\\mathcal E)= \\frac{d^2 {\\rm Tr} J(\\mathcal E)⋅J(\\mathcal U) + d}{d^2+d}\n",
    "$$\n",
    "where $J()$ is the Choi-Jamiolkoski representation of the superoperator in the argument. Since the Choi-Jamiolkowski representation\n",
    "is given by a density operator, the connection to the calculation of state fidelity becomes apparent:\n",
    "$F(J(ℰ),J(𝒰)) = {\\rm Tr} J(\\mathcal E)⋅J(\\mathcal U)$ is the state fidelity between Choi-Jamiolkoski states.\n",
    "\n",
    "Noting that the Choi-Jamiolkoski state is prepared by acting on half of a maximally entangled state with the\n",
    "process in question, the direct fidelity estimate of the Choi-Jamiolkoski state is given by the average expected\n",
    "value of a Pauli operator resulting from applying the ideal unitary $\\mathcal U$ to a Pauli operator $P_i$, for the state\n",
    "resulting from applying the ideal unitary to a stabilizer state that has $P_i$ in its stabilizer group (one must be\n",
    "careful to prepare states that have both +1 and -1 eigenstates of the operator in question, to emulate the random\n",
    "state preparation corresponding to measuring half of a maximally entangled state)."
   ]
  },
  {
   "cell_type": "markdown",
   "metadata": {},
   "source": [
    "[DFE1]  Practical Characterization of Quantum Devices without Tomography  \n",
    "        Silva et al.,  \n",
    "        PRL 107, 210404 (2011)  \n",
    "        https://doi.org/10.1103/PhysRevLett.107.210404  \n",
    "        https://arxiv.org/abs/1104.3835  \n",
    "\n",
    "[DFE2]  Direct Fidelity Estimation from Few Pauli Measurements  \n",
    "        Flammia et al.,  \n",
    "        PRL 106, 230501 (2011)  \n",
    "        https://doi.org/10.1103/PhysRevLett.106.230501  \n",
    "        https://arxiv.org/abs/1104.4695  "
   ]
  },
  {
   "cell_type": "code",
   "execution_count": 1,
   "metadata": {},
   "outputs": [],
   "source": [
    "from pyquil.paulis import ID\n",
    "from pyquil.gates import I, X, MEASURE, H, CNOT, RY\n",
    "from pyquil import Program, get_qc\n",
    "from pyquil.api import get_benchmarker\n",
    "from forest.benchmarking.direct_fidelity_estimation import ( generate_exhaustive_state_dfe_experiment, \n",
    "                                                             generate_exhaustive_process_dfe_experiment,\n",
    "                                                             generate_monte_carlo_state_dfe_experiment, \n",
    "                                                             generate_monte_carlo_process_dfe_experiment,\n",
    "                                                             acquire_dfe_data,\n",
    "                                                             estimate_dfe )\n",
    "from pyquil.operator_estimation import measure_observables\n",
    "\n",
    "import numpy as np\n",
    "from matplotlib import pyplot"
   ]
  },
  {
   "cell_type": "code",
   "execution_count": 2,
   "metadata": {},
   "outputs": [],
   "source": [
    "# noiseless QVM\n",
    "qvm = get_qc(\"9q-generic-qvm\", as_qvm=True, noisy=False)\n",
    "\n",
    "# noisy QVM\n",
    "noisy_qvm = get_qc(\"9q-generic-qvm\", as_qvm=True, noisy=True)\n",
    "\n",
    "bm = get_benchmarker()"
   ]
  },
  {
   "cell_type": "markdown",
   "metadata": {},
   "source": [
    "## Direct fidelity estimation in `forest.benchmarking`"
   ]
  },
  {
   "cell_type": "markdown",
   "metadata": {},
   "source": [
    "The basic workflow is:\n",
    "\n",
    "1. Prepare a *state* or a *process* by specifying a pyQuil program.\n",
    "2. Construct a list of observables that are needed to estimate the state; we collect this into an object called an `ObservablesExperiment`.\n",
    "3. Acquire the data by running the program on a QVM or QPU.\n",
    "4. Apply an estimator to the data to obtain an estimate of the fidelity between the ideal and measured state or process.\n",
    "5. Visualize if you wish."
   ]
  },
  {
   "cell_type": "markdown",
   "metadata": {},
   "source": [
    "## Two quick examples"
   ]
  },
  {
   "cell_type": "markdown",
   "metadata": {},
   "source": [
    "### Step 1. Prepare a state or unitarty with a `Program`\n",
    "\n",
    "This is the object we will do DFE on.\n",
    "\n",
    "The process we choose is \n",
    "$$\n",
    "U = {\\rm CNOT}(H\\otimes I)=\\frac{1}{\\sqrt{2}}\n",
    "\\begin{pmatrix}\n",
    "1 & 0 & 1 & 0\\\\\n",
    "0 & 1 & 0 & 1\\\\\n",
    "0 & 1 & 0 & -1\\\\\n",
    "1 & 0 & -1 & 0\n",
    "\\end{pmatrix}\n",
    "$$\n",
    "and the state is\n",
    "$$\n",
    "|\\Psi\\rangle = {\\rm CNOT}(H\\otimes I)|00\\rangle = \\frac{1}{\\sqrt{2}} \\begin{pmatrix} 1\\\\0\\\\0\\\\ 1\\end{pmatrix}.\n",
    "$$"
   ]
  },
  {
   "cell_type": "code",
   "execution_count": 3,
   "metadata": {},
   "outputs": [
    {
     "name": "stdout",
     "output_type": "stream",
     "text": [
      "H 0\n",
      "CNOT 0 1\n",
      "\n"
     ]
    }
   ],
   "source": [
    "p = Program()\n",
    "prep_prog = p.inst(H(0), CNOT(0,1))\n",
    "print(prep_prog)"
   ]
  },
  {
   "cell_type": "code",
   "execution_count": 5,
   "metadata": {},
   "outputs": [
    {
     "name": "stdout",
     "output_type": "stream",
     "text": [
      "[[ 0.70710678  0.          0.70710678  0.        ]\n",
      " [ 0.          0.70710678  0.          0.70710678]\n",
      " [ 0.          0.70710678  0.         -0.70710678]\n",
      " [ 0.70710678  0.         -0.70710678  0.        ]]\n",
      "[[0.5 0.  0.  0.5]\n",
      " [0.  0.  0.  0. ]\n",
      " [0.  0.  0.  0. ]\n",
      " [0.5 0.  0.  0.5]]\n"
     ]
    }
   ],
   "source": [
    "from pyquil.gate_matrices import I as Imatrix, H as Hmatrix, CNOT as CNOTmatrix\n",
    "\n",
    "U_ideal = CNOTmatrix @ np.kron(Hmatrix, Imatrix)\n",
    "print(U_ideal)\n",
    "\n",
    "rho_ideal = U_ideal @ np.array([[1], [0], [0], [0]]) @ np.array([[1], [0], [0], [0]]).T @ U_ideal.conj().T\n",
    "print(rho_ideal)"
   ]
  },
  {
   "cell_type": "markdown",
   "metadata": {},
   "source": [
    "### Step 2. Construct a `ObservablesExperiment` for DFE\n",
    "\n",
    "We use the helper functions  \n",
    "* `generate_exhaustive_state_dfe_experiment` \n",
    "* `generate_exhaustive_process_dfe_experiment`\n",
    "\n",
    "to construct a tomographically incomplete set of measurements.\n",
    "\n",
    "We can print this out to see the 15 observables or operator measurements we will perform. Note that we could have included an additional observable `I0I1`, but since this trivially gives an expectation of 1 we instead omit this observable in experiment generation and include its contribution by hand in the estimation methods. Be mindful of this if generating your own settings."
   ]
  },
  {
   "cell_type": "code",
   "execution_count": 6,
   "metadata": {},
   "outputs": [],
   "source": [
    "qubits = [0,1]\n",
    "\n",
    "# state dfe\n",
    "state_exp = generate_exhaustive_state_dfe_experiment(prep_prog, qubits, bm)\n",
    "\n",
    "# process dfe\n",
    "process_exp = generate_exhaustive_process_dfe_experiment(prep_prog, qubits, bm)"
   ]
  },
  {
   "cell_type": "code",
   "execution_count": 7,
   "metadata": {},
   "outputs": [
    {
     "name": "stdout",
     "output_type": "stream",
     "text": [
      "The type of the object is: <class 'forest.benchmarking.observable_estimation.ObservablesExperiment'> \n",
      "\n",
      "The program is:\n",
      "H 0\n",
      "CNOT 0 1\n",
      "\n",
      "There are three experiments:\n",
      "0: Z0_1→(1+0j)*Z0Z1\n",
      "1: Z0_0→(1+0j)*X0X1\n",
      "2: Z0_0 * Z0_1→(-1+0j)*Y0Y1\n"
     ]
    }
   ],
   "source": [
    "# Lets take a look into one of these experiment objects\n",
    "\n",
    "print('The type of the object is:', type(state_exp),'\\n')\n",
    "print('The program is:')\n",
    "print(state_exp.program)\n",
    "print('There are three experiments:')\n",
    "print(state_exp.settings_string())"
   ]
  },
  {
   "cell_type": "markdown",
   "metadata": {},
   "source": [
    "### Step 3. Acquire the data\n",
    "\n",
    "PyQuil will run the tomography programs. We will use the QVM but at this point you can use a QPU.\n",
    "\n",
    "Note that `acquire_dfe_data` returns a `list` of `ExperimentResult`s which is a dataclass defined in the module `observable_estimation.py`.\n",
    "\n",
    "The details of the dataclass and error mitigation strategies are in detail in the [observable estimation ipython notebook](observable_estimation.ipynb)."
   ]
  },
  {
   "cell_type": "code",
   "execution_count": 8,
   "metadata": {},
   "outputs": [],
   "source": [
    "# get some NOISELESS data\n",
    "results = acquire_dfe_data(qvm, process_exp, num_shots=1000)"
   ]
  },
  {
   "cell_type": "code",
   "execution_count": 9,
   "metadata": {},
   "outputs": [
    {
     "name": "stdout",
     "output_type": "stream",
     "text": [
      "Operator Expectations\n",
      "[1.0, 1.0, 1.0, 1.0, 1.0, 1.0, 1.0, 1.0, 1.0, 1.0, 1.0, 1.0, 1.0, 1.0, 1.0, 1.0, 1.0, 1.0, 1.0, 1.0, 1.0, 1.0, 1.0, 1.0, 1.0, 1.0, 1.0, 1.0, 1.0, 1.0, 1.0, 1.0, 1.0, 1.0, 1.0, 1.0, 1.0, 1.0, 1.0, 1.0, 1.0, 1.0, 1.0, 1.0, 1.0, 1.0, 1.0, 1.0]\n",
      "\n",
      "\n",
      "Calibration Expectations\n",
      "[1.0, 1.0, 1.0, 1.0, 1.0, 1.0, 1.0, 1.0, 1.0, 1.0, 1.0, 1.0, 1.0, 1.0, 1.0, 1.0, 1.0, 1.0, 1.0, 1.0, 1.0, 1.0, 1.0, 1.0, 1.0, 1.0, 1.0, 1.0, 1.0, 1.0, 1.0, 1.0, 1.0, 1.0, 1.0, 1.0, 1.0, 1.0, 1.0, 1.0, 1.0, 1.0, 1.0, 1.0, 1.0, 1.0, 1.0, 1.0]\n"
     ]
    }
   ],
   "source": [
    "# look at it\n",
    "print(\"Operator Expectations\")\n",
    "print([res.expectation for res in results])\n",
    "print('\\n')\n",
    "print(\"Calibration Expectations\")\n",
    "print([res.calibration_expectation for res in results])"
   ]
  },
  {
   "cell_type": "code",
   "execution_count": 10,
   "metadata": {},
   "outputs": [],
   "source": [
    "# get some NOISY data\n",
    "n_results_proce = acquire_dfe_data(noisy_qvm, process_exp, num_shots=1000)\n",
    "\n",
    "n_results_state = acquire_dfe_data(noisy_qvm, state_exp, num_shots=1000)"
   ]
  },
  {
   "cell_type": "code",
   "execution_count": 11,
   "metadata": {},
   "outputs": [
    {
     "name": "stdout",
     "output_type": "stream",
     "text": [
      "Noisy Operator Expectations\n",
      "[0.9989, 1.0057, 0.9796, 0.9746, 0.9819, 1.0065, 0.9733, 0.9948, 1.0203, 0.9657, 0.9897, 0.9797, 0.9819, 0.9599, 0.9941, 0.9764, 0.9806, 1.0171, 0.9695, 0.974, 0.9883, 0.982, 0.9921, 0.9759, 0.9726, 0.9358, 0.9816, 0.9845, 0.9764, 0.9663, 1.0157, 1.0111, 0.9606, 0.972, 0.9812, 0.9875, 0.9989, 0.953, 0.9784, 0.9993, 0.9836, 0.9534, 0.9886, 0.941, 0.9517, 0.9682, 1.019, 0.9934]\n",
      "\n",
      "\n",
      "Noisy Calibration Expectations\n",
      "[0.875, 0.875, 0.786, 0.786, 0.7715, 0.7715, 0.898, 0.762, 0.762, 0.875, 0.875, 0.886, 0.886, 0.898, 0.762, 0.762, 0.875, 0.875, 0.886, 0.886, 0.772, 0.889, 0.889, 0.7665, 0.7665, 0.7865, 0.7865, 0.772, 0.889, 0.889, 0.7665, 0.7665, 0.7865, 0.7865, 0.772, 0.881, 0.881, 0.787, 0.787, 0.762, 0.762, 0.772, 0.881, 0.881, 0.787, 0.787, 0.762, 0.762]\n"
     ]
    }
   ],
   "source": [
    "# look at it\n",
    "print(\"Noisy Operator Expectations\")\n",
    "print([np.round(res.expectation, 4) for res in n_results_proce])\n",
    "print('\\n')\n",
    "print(\"Noisy Calibration Expectations\")\n",
    "print([res.calibration_expectation for res in n_results_proce])"
   ]
  },
  {
   "cell_type": "markdown",
   "metadata": {},
   "source": [
    "### Step 4. Apply some estimators to the data \"do DFE\""
   ]
  },
  {
   "cell_type": "markdown",
   "metadata": {},
   "source": [
    "**Process DFE**"
   ]
  },
  {
   "cell_type": "code",
   "execution_count": 12,
   "metadata": {},
   "outputs": [
    {
     "name": "stdout",
     "output_type": "stream",
     "text": [
      "Fidelity point estimate is:  1.0\n",
      "The standard error of the fidelity point estimate is:  0.0\n"
     ]
    }
   ],
   "source": [
    "# estimate using NOISELESS data\n",
    "fid_est, fid_std_err = estimate_dfe(results, 'process')\n",
    "\n",
    "print('Fidelity point estimate is: ',fid_est)\n",
    "print('The standard error of the fidelity point estimate is: ', fid_std_err)"
   ]
  },
  {
   "cell_type": "code",
   "execution_count": 13,
   "metadata": {},
   "outputs": [
    {
     "name": "stdout",
     "output_type": "stream",
     "text": [
      "Fidelity point estimate is 0.9865\n",
      "The std error of the fidelity point estimate is 0.0019\n"
     ]
    }
   ],
   "source": [
    "# estimate using NOISY data\n",
    "nfid_est, nfid_std_err = estimate_dfe(n_results_proce, 'process')\n",
    "\n",
    "print('Fidelity point estimate is', np.round(nfid_est, 4))\n",
    "print('The std error of the fidelity point estimate is', np.round(nfid_std_err, 4))"
   ]
  },
  {
   "cell_type": "markdown",
   "metadata": {},
   "source": [
    "**State DFE**"
   ]
  },
  {
   "cell_type": "code",
   "execution_count": 14,
   "metadata": {},
   "outputs": [
    {
     "name": "stdout",
     "output_type": "stream",
     "text": [
      "Fidelity point estimate is 0.9826\n",
      "The std error of the fidelity point estimate is 0.0077\n"
     ]
    }
   ],
   "source": [
    "# estimate using NOISY data\n",
    "nfid_est_state, nfid_std_err_state = estimate_dfe(n_results_state, 'state')\n",
    "\n",
    "print('Fidelity point estimate is', np.round(nfid_est_state, 4))\n",
    "print('The std error of the fidelity point estimate is', np.round(nfid_std_err_state, 4))"
   ]
  },
  {
   "cell_type": "markdown",
   "metadata": {},
   "source": [
    "### Step 5. Visualize\n"
   ]
  },
  {
   "cell_type": "markdown",
   "metadata": {},
   "source": [
    "**State DFE**\n",
    "\n",
    "We will start with state DFE as it is the simplest case."
   ]
  },
  {
   "cell_type": "code",
   "execution_count": 15,
   "metadata": {},
   "outputs": [],
   "source": [
    "from forest.benchmarking.tomography import iterative_mle_state_estimate"
   ]
  },
  {
   "cell_type": "code",
   "execution_count": 17,
   "metadata": {},
   "outputs": [
    {
     "data": {
      "text/plain": [
       "array([[ 0.494+0.j,  0.   +0.j,  0.   +0.j,  0.488+0.j],\n",
       "       [ 0.   +0.j,  0.006+0.j, -0.   +0.j,  0.   +0.j],\n",
       "       [ 0.   +0.j, -0.   +0.j,  0.006+0.j,  0.   +0.j],\n",
       "       [ 0.488+0.j,  0.   +0.j,  0.   +0.j,  0.494+0.j]])"
      ]
     },
     "execution_count": 17,
     "metadata": {},
     "output_type": "execute_result"
    }
   ],
   "source": [
    "# use state tomography to estimate the state from incomplete information\n",
    "rho_est = iterative_mle_state_estimate(n_results_state, qubits=[0,1])\n",
    "\n",
    "np.round(rho_est, 3)"
   ]
  },
  {
   "cell_type": "code",
   "execution_count": 18,
   "metadata": {},
   "outputs": [
    {
     "data": {
      "image/png": "[encoded data removed]",
      "text/plain": [
       "<Figure size 720x360 with 2 Axes>"
      ]
     },
     "metadata": {
      "needs_background": "light"
     },
     "output_type": "display_data"
    }
   ],
   "source": [
    "import matplotlib.pyplot as plt\n",
    "from forest.benchmarking.utils import n_qubit_pauli_basis\n",
    "from forest.benchmarking.operator_tools.superoperator_transformations import vec, computational2pauli_basis_matrix\n",
    "from forest.benchmarking.plotting.state_process import plot_pauli_rep_of_state, plot_pauli_bar_rep_of_state\n",
    "\n",
    "# convert to pauli representation\n",
    "n_qubits = 2\n",
    "pl_basis = n_qubit_pauli_basis(n_qubits)\n",
    "c2p = computational2pauli_basis_matrix(2*n_qubits)\n",
    "\n",
    "\n",
    "rho_true_pauli = np.real(c2p @ vec(rho_ideal))\n",
    "rho_mle_pauli = np.real(c2p @ vec(rho_est)) \n",
    "\n",
    "fig1, (ax3, ax4) = plt.subplots(1, 2, figsize=(10,5))\n",
    "title_res = f\"Estimated via DFE data using MLE \\n\" f\"DFE Fidelity = {np.round(nfid_est_state, 5)} ± {np.round(nfid_std_err_state, 6)}\"\n",
    "plot_pauli_bar_rep_of_state(rho_true_pauli.flatten(), ax=ax3, labels=pl_basis.labels, title='Ideal State')\n",
    "plot_pauli_bar_rep_of_state(rho_mle_pauli.flatten(), ax=ax4, labels=pl_basis.labels, title=title_res)\n",
    "fig1.tight_layout()"
   ]
  },
  {
   "cell_type": "markdown",
   "metadata": {},
   "source": [
    "**Process DFE**\n",
    "\n",
    "We will start with state DFE as it is the simplest case."
   ]
  },
  {
   "cell_type": "code",
   "execution_count": 19,
   "metadata": {},
   "outputs": [
    {
     "ename": "IndexError",
     "evalue": "",
     "output_type": "error",
     "traceback": [
      "\u001b[0;31m---------------------------------------------------------------------------\u001b[0m",
      "\u001b[0;31mIndexError\u001b[0m                                Traceback (most recent call last)",
      "\u001b[0;32m<ipython-input-19-ef84206581cb>\u001b[0m in \u001b[0;36m<module>\u001b[0;34m\u001b[0m\n\u001b[1;32m      1\u001b[0m \u001b[0;32mfrom\u001b[0m \u001b[0mforest\u001b[0m\u001b[0;34m.\u001b[0m\u001b[0mbenchmarking\u001b[0m\u001b[0;34m.\u001b[0m\u001b[0mtomography\u001b[0m \u001b[0;32mimport\u001b[0m \u001b[0mpgdb_process_estimate\u001b[0m\u001b[0;34m\u001b[0m\u001b[0;34m\u001b[0m\u001b[0m\n\u001b[1;32m      2\u001b[0m \u001b[0;34m\u001b[0m\u001b[0m\n\u001b[0;32m----> 3\u001b[0;31m \u001b[0mchoi_mle_est\u001b[0m \u001b[0;34m=\u001b[0m \u001b[0mpgdb_process_estimate\u001b[0m\u001b[0;34m(\u001b[0m\u001b[0mn_results_proce\u001b[0m\u001b[0;34m,\u001b[0m \u001b[0mqubits\u001b[0m\u001b[0;34m)\u001b[0m\u001b[0;34m\u001b[0m\u001b[0;34m\u001b[0m\u001b[0m\n\u001b[0m\u001b[1;32m      4\u001b[0m \u001b[0;34m\u001b[0m\u001b[0m\n\u001b[1;32m      5\u001b[0m \u001b[0mnp\u001b[0m\u001b[0;34m.\u001b[0m\u001b[0mreal_if_close\u001b[0m\u001b[0;34m(\u001b[0m\u001b[0mnp\u001b[0m\u001b[0;34m.\u001b[0m\u001b[0mround\u001b[0m\u001b[0;34m(\u001b[0m\u001b[0mchoi_mle_est\u001b[0m\u001b[0;34m,\u001b[0m \u001b[0;36m3\u001b[0m\u001b[0;34m)\u001b[0m\u001b[0;34m)\u001b[0m\u001b[0;34m\u001b[0m\u001b[0;34m\u001b[0m\u001b[0m\n",
      "\u001b[0;32m~/forest-benchmarking/forest/benchmarking/tomography.py\u001b[0m in \u001b[0;36mpgdb_process_estimate\u001b[0;34m(results, qubits, trace_preserving)\u001b[0m\n\u001b[1;32m    541\u001b[0m     \u001b[0;31m# construct the matrix A and vector n from the data for vectorized calculations of\u001b[0m\u001b[0;34m\u001b[0m\u001b[0;34m\u001b[0m\u001b[0;34m\u001b[0m\u001b[0m\n\u001b[1;32m    542\u001b[0m     \u001b[0;31m# the cost function and its gradient\u001b[0m\u001b[0;34m\u001b[0m\u001b[0;34m\u001b[0m\u001b[0;34m\u001b[0m\u001b[0m\n\u001b[0;32m--> 543\u001b[0;31m     \u001b[0mA\u001b[0m\u001b[0;34m,\u001b[0m \u001b[0mn\u001b[0m \u001b[0;34m=\u001b[0m \u001b[0m_extract_from_results\u001b[0m\u001b[0;34m(\u001b[0m\u001b[0mresults\u001b[0m\u001b[0;34m,\u001b[0m \u001b[0mqubits\u001b[0m\u001b[0;34m[\u001b[0m\u001b[0;34m:\u001b[0m\u001b[0;34m:\u001b[0m\u001b[0;34m-\u001b[0m\u001b[0;36m1\u001b[0m\u001b[0;34m]\u001b[0m\u001b[0;34m)\u001b[0m\u001b[0;34m\u001b[0m\u001b[0;34m\u001b[0m\u001b[0m\n\u001b[0m\u001b[1;32m    544\u001b[0m \u001b[0;34m\u001b[0m\u001b[0m\n\u001b[1;32m    545\u001b[0m     \u001b[0mdim\u001b[0m \u001b[0;34m=\u001b[0m \u001b[0;36m2\u001b[0m \u001b[0;34m**\u001b[0m \u001b[0mlen\u001b[0m\u001b[0;34m(\u001b[0m\u001b[0mqubits\u001b[0m\u001b[0;34m)\u001b[0m\u001b[0;34m\u001b[0m\u001b[0;34m\u001b[0m\u001b[0m\n",
      "\u001b[0;32m~/forest-benchmarking/forest/benchmarking/tomography.py\u001b[0m in \u001b[0;36m_extract_from_results\u001b[0;34m(results, qubits)\u001b[0m\n\u001b[1;32m    493\u001b[0m         \u001b[0;31m# 'lift' the result's ExperimentSetting input TensorProductState to the corresponding\u001b[0m\u001b[0;34m\u001b[0m\u001b[0;34m\u001b[0m\u001b[0;34m\u001b[0m\u001b[0m\n\u001b[1;32m    494\u001b[0m         \u001b[0;31m# matrix. This is simply the density matrix of the state that was prepared.\u001b[0m\u001b[0;34m\u001b[0m\u001b[0;34m\u001b[0m\u001b[0;34m\u001b[0m\u001b[0m\n\u001b[0;32m--> 495\u001b[0;31m         \u001b[0min_state_matrix\u001b[0m \u001b[0;34m=\u001b[0m \u001b[0mstate2matrix\u001b[0m\u001b[0;34m(\u001b[0m\u001b[0mresult\u001b[0m\u001b[0;34m.\u001b[0m\u001b[0msetting\u001b[0m\u001b[0;34m.\u001b[0m\u001b[0min_state\u001b[0m\u001b[0;34m,\u001b[0m \u001b[0mqubits\u001b[0m\u001b[0;34m=\u001b[0m\u001b[0mqubits\u001b[0m\u001b[0;34m)\u001b[0m\u001b[0;34m\u001b[0m\u001b[0;34m\u001b[0m\u001b[0m\n\u001b[0m\u001b[1;32m    496\u001b[0m         \u001b[0;31m# 'lift' the result's ExperimentSetting output PauliTerm to the corresponding matrix.\u001b[0m\u001b[0;34m\u001b[0m\u001b[0;34m\u001b[0m\u001b[0;34m\u001b[0m\u001b[0m\n\u001b[1;32m    497\u001b[0m         \u001b[0moperator\u001b[0m \u001b[0;34m=\u001b[0m \u001b[0mpauli2matrix\u001b[0m\u001b[0;34m(\u001b[0m\u001b[0mresult\u001b[0m\u001b[0;34m.\u001b[0m\u001b[0msetting\u001b[0m\u001b[0;34m.\u001b[0m\u001b[0mobservable\u001b[0m\u001b[0;34m,\u001b[0m \u001b[0mqubits\u001b[0m\u001b[0;34m=\u001b[0m\u001b[0mqubits\u001b[0m\u001b[0;34m)\u001b[0m\u001b[0;34m\u001b[0m\u001b[0;34m\u001b[0m\u001b[0m\n",
      "\u001b[0;32m~/pyquil/pyquil/unitary_tools.py\u001b[0m in \u001b[0;36mlifted_state_operator\u001b[0;34m(state, qubits)\u001b[0m\n\u001b[1;32m    370\u001b[0m     \u001b[0mmat\u001b[0m \u001b[0;34m=\u001b[0m \u001b[0;36m1.0\u001b[0m\u001b[0;34m\u001b[0m\u001b[0;34m\u001b[0m\u001b[0m\n\u001b[1;32m    371\u001b[0m     \u001b[0;32mfor\u001b[0m \u001b[0mqubit\u001b[0m \u001b[0;32min\u001b[0m \u001b[0mqubits\u001b[0m\u001b[0;34m:\u001b[0m\u001b[0;34m\u001b[0m\u001b[0;34m\u001b[0m\u001b[0m\n\u001b[0;32m--> 372\u001b[0;31m         \u001b[0moneq_state\u001b[0m \u001b[0;34m=\u001b[0m \u001b[0mstate\u001b[0m\u001b[0;34m[\u001b[0m\u001b[0mqubit\u001b[0m\u001b[0;34m]\u001b[0m\u001b[0;34m\u001b[0m\u001b[0;34m\u001b[0m\u001b[0m\n\u001b[0m\u001b[1;32m    373\u001b[0m         \u001b[0;32massert\u001b[0m \u001b[0moneq_state\u001b[0m\u001b[0;34m.\u001b[0m\u001b[0mqubit\u001b[0m \u001b[0;34m==\u001b[0m \u001b[0mqubit\u001b[0m\u001b[0;34m\u001b[0m\u001b[0;34m\u001b[0m\u001b[0m\n\u001b[1;32m    374\u001b[0m         \u001b[0mstate_vector\u001b[0m \u001b[0;34m=\u001b[0m \u001b[0mSTATES\u001b[0m\u001b[0;34m[\u001b[0m\u001b[0moneq_state\u001b[0m\u001b[0;34m.\u001b[0m\u001b[0mlabel\u001b[0m\u001b[0;34m]\u001b[0m\u001b[0;34m[\u001b[0m\u001b[0moneq_state\u001b[0m\u001b[0;34m.\u001b[0m\u001b[0mindex\u001b[0m\u001b[0;34m]\u001b[0m\u001b[0;34m[\u001b[0m\u001b[0;34m:\u001b[0m\u001b[0;34m,\u001b[0m \u001b[0mnp\u001b[0m\u001b[0;34m.\u001b[0m\u001b[0mnewaxis\u001b[0m\u001b[0;34m]\u001b[0m\u001b[0;34m\u001b[0m\u001b[0;34m\u001b[0m\u001b[0m\n",
      "\u001b[0;32m~/forest-benchmarking/forest/benchmarking/observable_estimation.py\u001b[0m in \u001b[0;36m__getitem__\u001b[0;34m(self, qubit)\u001b[0m\n\u001b[1;32m     86\u001b[0m             \u001b[0;32mif\u001b[0m \u001b[0moneq_state\u001b[0m\u001b[0;34m.\u001b[0m\u001b[0mqubit\u001b[0m \u001b[0;34m==\u001b[0m \u001b[0mqubit\u001b[0m\u001b[0;34m:\u001b[0m\u001b[0;34m\u001b[0m\u001b[0;34m\u001b[0m\u001b[0m\n\u001b[1;32m     87\u001b[0m                 \u001b[0;32mreturn\u001b[0m \u001b[0moneq_state\u001b[0m\u001b[0;34m\u001b[0m\u001b[0;34m\u001b[0m\u001b[0m\n\u001b[0;32m---> 88\u001b[0;31m         \u001b[0;32mraise\u001b[0m \u001b[0mIndexError\u001b[0m\u001b[0;34m(\u001b[0m\u001b[0;34m)\u001b[0m\u001b[0;34m\u001b[0m\u001b[0;34m\u001b[0m\u001b[0m\n\u001b[0m\u001b[1;32m     89\u001b[0m \u001b[0;34m\u001b[0m\u001b[0m\n\u001b[1;32m     90\u001b[0m     \u001b[0;32mdef\u001b[0m \u001b[0m__iter__\u001b[0m\u001b[0;34m(\u001b[0m\u001b[0mself\u001b[0m\u001b[0;34m)\u001b[0m\u001b[0;34m:\u001b[0m\u001b[0;34m\u001b[0m\u001b[0;34m\u001b[0m\u001b[0m\n",
      "\u001b[0;31mIndexError\u001b[0m: "
     ]
    }
   ],
   "source": [
    "from forest.benchmarking.tomography import pgdb_process_estimate\n",
    "\n",
    "choi_mle_est = pgdb_process_estimate(n_results_proce, qubits)\n",
    "\n",
    "np.real_if_close(np.round(choi_mle_est, 3))"
   ]
  },
  {
   "cell_type": "code",
   "execution_count": 139,
   "metadata": {},
   "outputs": [
    {
     "data": {
      "image/png": "[encoded data removed]",
      "text/plain": [
       "<Figure size 864x288 with 3 Axes>"
      ]
     },
     "metadata": {
      "needs_background": "light"
     },
     "output_type": "display_data"
    }
   ],
   "source": [
    "from forest.benchmarking.plotting.state_process import plot_pauli_transfer_matrix\n",
    "from forest.benchmarking.operator_tools import choi2pauli_liouville, kraus2pauli_liouville\n",
    "\n",
    "\n",
    "fig, (ax1, ax2) = plt.subplots(1, 2, figsize=(12,4))\n",
    "plot_pauli_transfer_matrix(np.real(kraus2pauli_liouville(U_ideal)), ax1, title='Ideal')\n",
    "#plot_pauli_transfer_matrix(np.real(choi2pauli_liouville(choi_mle_est)), ax2, title='MLE Estimate')\n",
    "plt.tight_layout()"
   ]
  },
  {
   "cell_type": "markdown",
   "metadata": {},
   "source": [
    "## State fidelity between $\\left|0\\right\\rangle$ and $R_y(\\theta)\\left|0\\right\\rangle$\n",
    "\n",
    "$$\n",
    "\\begin{align}\n",
    "F\\big(|0\\rangle, R_y(\\theta) |0\\rangle \\big) &= |\\langle 0|R_y(\\theta) |0\\rangle |^2\\\\\n",
    "&= \\cos^2(\\theta/2)\\\\\n",
    "&= \\frac{1}{2} \\big (1 +\\cos(\\theta) \\big) \n",
    "\\end{align}\n",
    "$$"
   ]
  },
  {
   "cell_type": "code",
   "execution_count": 140,
   "metadata": {},
   "outputs": [
    {
     "name": "stdout",
     "output_type": "stream",
     "text": [
      "I 0; I 1\n",
      "0: Z0_1→(1+0j)*Z1\n",
      "1: Z0_0→(1+0j)*Z0\n",
      "2: Z0_0 * Z0_1→(1+0j)*Z0Z1\n",
      "I 0; I 1\n",
      "0: Z0_0→(1+0j)*Z0\n",
      "1: Z0_0→(1+0j)*Z0\n",
      "2: Z0_0 * Z0_1→(1+0j)*Z0Z1\n",
      "3: Z0_0→(1+0j)*Z0\n",
      "4: Z0_0→(1+0j)*Z0\n",
      "5: Z0_0→(1+0j)*Z0\n",
      "6: Z0_1→(1+0j)*Z1\n",
      "7: Z0_1→(1+0j)*Z1\n",
      "8: Z0_0 * Z0_1→(1+0j)*Z0Z1\n",
      "9: Z0_0 * Z0_1→(1+0j)*Z0Z1\n",
      "... 12 not shown ...\n",
      "... use e.settings_string() for all ...\n",
      "22: Z0_1→(1+0j)*Z1\n",
      "23: Z0_0 * Z0_1→(1+0j)*Z0Z1\n",
      "24: Z0_0 * Z0_1→(1+0j)*Z0Z1\n",
      "25: Z0_0→(1+0j)*Z0\n",
      "26: Z0_0→(1+0j)*Z0\n",
      "27: Z0_1→(1+0j)*Z1\n",
      "28: Z0_0 * Z0_1→(1+0j)*Z0Z1\n",
      "29: Z0_1→(1+0j)*Z1\n",
      "30: Z0_1→(1+0j)*Z1\n",
      "31: Z0_1→(1+0j)*Z1\n"
     ]
    }
   ],
   "source": [
    "#%%time\n",
    "p = Program(I(0),I(1))\n",
    "zz_state = generate_exhaustive_state_dfe_experiment(p, [0,1], bm)\n",
    "zz_state_mc = generate_monte_carlo_state_dfe_experiment(p, [0,1], bm, n_terms=32)\n",
    "print(zz_state)\n",
    "print(zz_state_mc)"
   ]
  },
  {
   "cell_type": "markdown",
   "metadata": {},
   "source": [
    "### Exhaustive"
   ]
  },
  {
   "cell_type": "code",
   "execution_count": 141,
   "metadata": {},
   "outputs": [],
   "source": [
    "points = 10\n",
    "res = []\n",
    "res_std_err = []\n",
    "for theta in np.linspace(0, np.pi, points): \n",
    "    zz_state.program = Program(RY(theta,0),RY(theta,1))\n",
    "    zz_state_data = acquire_dfe_data(qvm,zz_state,num_shots=1000)\n",
    "    fid_est, fid_std_err = estimate_dfe(zz_state_data, 'state')\n",
    "    res.append(fid_est)\n",
    "    res_std_err.append(fid_std_err)"
   ]
  },
  {
   "cell_type": "code",
   "execution_count": 17,
   "metadata": {},
   "outputs": [
    {
     "data": {
      "text/plain": [
       "Text(0.5, 1.0, 'State fidelity between $\\\\left|0\\\\right\\\\rangle$ and $R_y(\\\\theta)\\\\left|0\\\\right\\\\rangle$')"
      ]
     },
     "execution_count": 17,
     "metadata": {},
     "output_type": "execute_result"
    },
    {
     "data": {
      "image/png": "[encoded data removed]",
      "text/plain": [
       "<Figure size 432x288 with 1 Axes>"
      ]
     },
     "metadata": {
      "needs_background": "light"
     },
     "output_type": "display_data"
    }
   ],
   "source": [
    "pyplot.errorbar(np.linspace(0, np.pi, points), res, res_std_err, fmt=\".\", label=\"Simulation\")\n",
    "pyplot.plot(np.linspace(0, np.pi, points), (1/2+1/2*np.cos(np.linspace(0, np.pi, points)))**2, label=\"Theory\")\n",
    "pyplot.xlabel(r\"$\\theta$\")\n",
    "pyplot.ylabel(\"Fidelity\")\n",
    "pyplot.legend()\n",
    "pyplot.title(r\"State fidelity between $\\left|0\\right\\rangle$ and $R_y(\\theta)\\left|0\\right\\rangle$\")"
   ]
  },
  {
   "cell_type": "markdown",
   "metadata": {},
   "source": [
    "### Monte-Carlo"
   ]
  },
  {
   "cell_type": "code",
   "execution_count": 18,
   "metadata": {},
   "outputs": [],
   "source": [
    "points = 10\n",
    "res = []\n",
    "res_std_err = []\n",
    "for theta in np.linspace(0, np.pi, points): \n",
    "    zz_state_mc.program = Program(RY(theta,0),RY(theta,1))\n",
    "    zz_state_mc_data = acquire_dfe_data(qvm, zz_state_mc, num_shots=1000)\n",
    "    fid_est, fid_std_err = estimate_dfe(zz_state_mc_data, 'state')\n",
    "    res.append(fid_est)\n",
    "    res_std_err.append(fid_std_err)"
   ]
  },
  {
   "cell_type": "code",
   "execution_count": 19,
   "metadata": {},
   "outputs": [
    {
     "data": {
      "text/plain": [
       "Text(0.5, 1.0, 'State fidelity between $\\\\left|0\\\\right\\\\rangle$ and $R_y(\\\\theta)\\\\left|0\\\\right\\\\rangle$')"
      ]
     },
     "execution_count": 19,
     "metadata": {},
     "output_type": "execute_result"
    },
    {
     "data": {
      "image/png": "[encoded data removed]",
      "text/plain": [
       "<Figure size 432x288 with 1 Axes>"
      ]
     },
     "metadata": {
      "needs_background": "light"
     },
     "output_type": "display_data"
    }
   ],
   "source": [
    "pyplot.errorbar(np.linspace(0, np.pi, points), res, res_std_err, fmt=\".\", label=\"Simulation\")\n",
    "pyplot.plot(np.linspace(0, np.pi, points), (1/2+1/2*np.cos(np.linspace(0, np.pi, points)))**2, label=\"Theory\")\n",
    "pyplot.xlabel(r\"$\\theta$\")\n",
    "pyplot.ylabel(\"Fidelity\")\n",
    "pyplot.legend()\n",
    "pyplot.title(r\"State fidelity between $\\left|0\\right\\rangle$ and $R_y(\\theta)\\left|0\\right\\rangle$\")"
   ]
  },
  {
   "cell_type": "markdown",
   "metadata": {},
   "source": [
    "## State fidelity between $\\left|0\\right\\rangle\\left|0\\right\\rangle$ and $R_y(\\theta)\\otimes R_y(2\\theta)\\left|0\\right\\rangle\\left|0\\right\\rangle$"
   ]
  },
  {
   "cell_type": "markdown",
   "metadata": {},
   "source": [
    "### Exhaustive"
   ]
  },
  {
   "cell_type": "code",
   "execution_count": 20,
   "metadata": {},
   "outputs": [],
   "source": [
    "points = 10\n",
    "res = []\n",
    "res_std_err = []\n",
    "for theta in np.linspace(0, np.pi, points): \n",
    "    zz_state.program = Program(RY(theta,0),RY(2*theta,1))\n",
    "    zz_state_data = acquire_dfe_data(qvm,zz_state,num_shots=1_000)\n",
    "    fid_est, fid_std_err = estimate_dfe(zz_state_data, 'state')\n",
    "    res.append(fid_est)\n",
    "    res_std_err.append(fid_std_err)"
   ]
  },
  {
   "cell_type": "code",
   "execution_count": 21,
   "metadata": {},
   "outputs": [
    {
     "data": {
      "image/png": "[encoded data removed]",
      "text/plain": [
       "<Figure size 432x288 with 1 Axes>"
      ]
     },
     "metadata": {
      "needs_background": "light"
     },
     "output_type": "display_data"
    }
   ],
   "source": [
    "pyplot.errorbar(np.linspace(0, np.pi, points), res, res_std_err, fmt=\".\", label=\"simulation\")\n",
    "pyplot.plot(np.linspace(0, np.pi, points), \n",
    "            (1/2+1/2*np.cos(np.linspace(0, np.pi, points)))*(1/2+1/2*np.cos(2*np.linspace(0, np.pi, points))),\n",
    "            label=\"theory\")\n",
    "pyplot.xlabel(r\"$\\theta$\")\n",
    "pyplot.ylabel(\"Fidelity\")\n",
    "pyplot.legend()\n",
    "pyplot.title(r\"State fidelity between $\\left|0\\right\\rangle\\left|0\\right\\rangle$ and $R_y(\\theta)\\otimes R_y(2\\theta)\\left|0\\right\\rangle\\left|0\\right\\rangle$\");"
   ]
  },
  {
   "cell_type": "markdown",
   "metadata": {},
   "source": [
    "### Monte Carlo"
   ]
  },
  {
   "cell_type": "code",
   "execution_count": 22,
   "metadata": {},
   "outputs": [],
   "source": [
    "points = 10\n",
    "res = []\n",
    "res_std_err = []\n",
    "for theta in np.linspace(0, np.pi, points): \n",
    "    zz_state_mc.program = Program(RY(theta,0),RY(2*theta,1))\n",
    "    zz_state_mc_data = acquire_dfe_data(qvm,zz_state_mc,num_shots=1_000)\n",
    "    fid_est, fid_std_err = estimate_dfe(zz_state_mc_data, 'state')\n",
    "    res.append(fid_est)\n",
    "    res_std_err.append(fid_std_err)"
   ]
  },
  {
   "cell_type": "code",
   "execution_count": 23,
   "metadata": {},
   "outputs": [
    {
     "data": {
      "text/plain": [
       "Text(0.5, 1.0, 'State fidelity between $\\\\left|0\\\\right\\\\rangle\\\\left|0\\\\right\\\\rangle$ and $R_y(\\\\theta)\\\\otimes R_y(2\\\\theta)\\\\left|0\\\\right\\\\rangle\\\\left|0\\\\right\\\\rangle$')"
      ]
     },
     "execution_count": 23,
     "metadata": {},
     "output_type": "execute_result"
    },
    {
     "data": {
      "image/png": "[encoded data removed]",
      "text/plain": [
       "<Figure size 432x288 with 1 Axes>"
      ]
     },
     "metadata": {
      "needs_background": "light"
     },
     "output_type": "display_data"
    }
   ],
   "source": [
    "pyplot.errorbar(np.linspace(0, np.pi, points), res, res_std_err, fmt=\".\", label=\"simulation\")\n",
    "pyplot.plot(np.linspace(0, np.pi, points), \n",
    "            (1/2+1/2*np.cos(np.linspace(0, np.pi, points)))*(1/2+1/2*np.cos(2*np.linspace(0, np.pi, points))),\n",
    "            label=\"theory\")\n",
    "pyplot.xlabel(r\"$\\theta$\")\n",
    "pyplot.ylabel(\"Fidelity\")\n",
    "pyplot.legend()\n",
    "pyplot.title(r\"State fidelity between $\\left|0\\right\\rangle\\left|0\\right\\rangle$ and $R_y(\\theta)\\otimes R_y(2\\theta)\\left|0\\right\\rangle\\left|0\\right\\rangle$\")"
   ]
  },
  {
   "cell_type": "markdown",
   "metadata": {},
   "source": [
    "## Process fidelity between $I$ and $R_y(\\theta)$"
   ]
  },
  {
   "cell_type": "code",
   "execution_count": 26,
   "metadata": {},
   "outputs": [],
   "source": [
    "\n",
    "p = Program(I(0))\n",
    "qubits = [0]\n",
    "ii_proc = generate_exhaustive_process_dfe_experiment(p, qubits, bm)\n",
    "ii_proc_mc = generate_monte_carlo_process_dfe_experiment(p, qubits, bm, n_terms=32)"
   ]
  },
  {
   "cell_type": "markdown",
   "metadata": {},
   "source": [
    "### Exhaustive"
   ]
  },
  {
   "cell_type": "code",
   "execution_count": 27,
   "metadata": {},
   "outputs": [],
   "source": [
    "points = 10\n",
    "res = []\n",
    "res_std_err = []\n",
    "for theta in np.linspace(0, np.pi, points): \n",
    "    ii_proc.program = Program(RY(theta,0))\n",
    "    ii_proc_data = acquire_dfe_data(qvm,ii_proc,num_shots=500)\n",
    "    fid_est, fid_std_err = estimate_dfe(ii_proc_data, 'process')\n",
    "    res.append(fid_est)\n",
    "    res_std_err.append(fid_std_err)"
   ]
  },
  {
   "cell_type": "code",
   "execution_count": 28,
   "metadata": {},
   "outputs": [
    {
     "data": {
      "text/plain": [
       "Text(0.5, 1.0, 'Process fidelity between $I$ and $R_y(\\\\theta)$')"
      ]
     },
     "execution_count": 28,
     "metadata": {},
     "output_type": "execute_result"
    },
    {
     "data": {
      "image/png": "[encoded data removed]",
      "text/plain": [
       "<Figure size 432x288 with 1 Axes>"
      ]
     },
     "metadata": {
      "needs_background": "light"
     },
     "output_type": "display_data"
    }
   ],
   "source": [
    "pyplot.errorbar(np.linspace(0, np.pi, points), res, res_std_err, fmt=\".\", label=\"data\")\n",
    "pyplot.plot(np.linspace(0, np.pi, points), \n",
    "            (4*np.cos(np.linspace(0, np.pi, points)/2)**2+2)/6,\n",
    "            label=\"theory\")\n",
    "#pyplot.axhline(0.2380952380952381+0.1, color=\"red\", ls=\"--\")\n",
    "pyplot.legend()\n",
    "pyplot.ylim(0,1.25)\n",
    "pyplot.title(r\"Process fidelity between $I$ and $R_y(\\theta)$\")"
   ]
  },
  {
   "cell_type": "markdown",
   "metadata": {},
   "source": [
    "### Monte Carlo"
   ]
  },
  {
   "cell_type": "code",
   "execution_count": 29,
   "metadata": {},
   "outputs": [],
   "source": [
    "points = 10\n",
    "res = []\n",
    "res_std_err = []\n",
    "for theta in np.linspace(0, np.pi, points): \n",
    "    ii_proc_mc.program = Program(RY(theta,0))\n",
    "    ii_proc_mc_data = acquire_dfe_data(qvm, ii_proc_mc, num_shots=500)\n",
    "    fid_est, fid_std_err = estimate_dfe(ii_proc_mc_data, 'process')\n",
    "    res.append(fid_est)\n",
    "    res_std_err.append(fid_std_err)"
   ]
  },
  {
   "cell_type": "code",
   "execution_count": null,
   "metadata": {},
   "outputs": [],
   "source": [
    "pyplot.errorbar(np.linspace(0, np.pi, points), res, res_std_err, fmt=\".\", label=\"data\")\n",
    "pyplot.plot(np.linspace(0, np.pi, points), \n",
    "            (4*np.cos(np.linspace(0, np.pi, points)/2)**2+2)/6,\n",
    "            label=\"theory\")\n",
    "pyplot.legend()\n",
    "pyplot.ylim(0,1.25)\n",
    "pyplot.title(r\"Process fidelity between $I$ and $R_y(\\theta)$\")"
   ]
  },
  {
   "cell_type": "markdown",
   "metadata": {},
   "source": [
    "## Advanced "
   ]
  },
  {
   "cell_type": "code",
   "execution_count": 36,
   "metadata": {},
   "outputs": [],
   "source": [
    "# 1. include qubits that have nothing done to them (leave then in zero to measure x talk)\n",
    "# 2. prepare those qubits in |+>"
   ]
  },
  {
   "cell_type": "code",
   "execution_count": null,
   "metadata": {},
   "outputs": [],
   "source": [
    "# Parallel state and process DFE"
   ]
  }
 ],
 "metadata": {
  "kernelspec": {
   "display_name": "Python 3",
   "language": "python",
   "name": "python3"
  },
  "language_info": {
   "codemirror_mode": {
    "name": "ipython",
    "version": 3
   },
   "file_extension": ".py",
   "mimetype": "text/x-python",
   "name": "python",
   "nbconvert_exporter": "python",
   "pygments_lexer": "ipython3",
   "version": "3.7.3"
  }
 },
 "nbformat": 4,
 "nbformat_minor": 2
}
