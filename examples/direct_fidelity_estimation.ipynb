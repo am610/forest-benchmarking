{
 "cells": [
  {
   "cell_type": "markdown",
   "metadata": {},
   "source": [
    "# Direct Fidelity Estimation\n",
    "\n",
    "Using a method known as direct fidelity estimation (DFE), see [DFE1] and [DFE2], it is possible to estimate the fidelity between \n",
    "* a target pure state $\\rho_\\psi = |\\psi\\rangle\\langle \\psi|$ to its experimental realization $\\sigma$,\n",
    "* a target unitary $U$ to its experimental realization $U_e$.\n",
    " \n",
    "This can be done with a small number (relative to state and process tomography) of simple experimental settings that is independent of the system size. Such methods are useful for the experimental study of larger quantum information processing units.\n",
    "\n",
    "In this notebook we explore some state and process DFE using the forest.benchmarking module `direct_fidelity_estimation.py`."
   ]
  },
  {
   "cell_type": "markdown",
   "metadata": {},
   "source": [
    "## Simplistic example\n",
    "\n",
    "Suppose we have tried to prepare the state $|0\\rangle$ but in fact prepared the state\n",
    "\n",
    "$$\\sigma = \\frac 1 2 (I + x X + y Y + z Z).$$\n",
    "\n",
    "\n",
    "The usual way to quantify how close $\\sigma$ and $|0\\rangle$ are is to do quantum state tomography \n",
    "and estimate $\\sigma$ and then calculate the fidelity be $\\sigma$ and $|0\\rangle$.\n",
    "\n",
    "\n",
    "DFE provides a way to directly estimate the fidelity without first estimating the state $\\sigma$. Although we can write the fidelity as $F(\\rho_0, \\sigma) = \\langle 0 |\\sigma|0 \\rangle$ we use the expression\n",
    "\n",
    "$$\n",
    "F(\\rho_0, \\sigma) = {\\rm Tr}[\\rho_0  \\sigma].\n",
    "$$\n",
    "Next we parameterize the pure state as\n",
    "\n",
    "$$\\rho_0= |0\\rangle \\langle 0| =  \\frac 1 2 \\big (I + (0) X + (0) Y + (+1) Z \\big)=  \\frac 1 2 (I +  Z ).$$\n",
    "\n",
    "Finally we arrive at\n",
    "\n",
    "$$\n",
    "F(\\rho_0, \\sigma)= {\\rm Tr}[\\rho_0 \\sigma] = \\frac 1 4 {\\rm Tr}[(1+z)I]= \\frac{(1+z)}{2},\n",
    "$$\n",
    "this result shows that we only need to estimate one observable $\\langle Z \\rangle$ in order to estimate the fidelity.\n"
   ]
  },
  {
   "cell_type": "markdown",
   "metadata": {},
   "source": [
    "## Addtional Details\n",
    "\n",
    "**State DFE:** State fidelity between the experimental state $\\sigma$ and the ideal (pure) state $\\rho_\\psi = |\\psi\\rangle\\langle \\psi|$ \n",
    "matrices is \n",
    "\n",
    "$$\n",
    "F(\\rho_\\psi, \\sigma) = {\\rm Tr}[\\rho_\\psi  \\sigma] = \\langle \\psi |\\sigma|\\psi \\rangle.\n",
    "$$\n",
    "\n",
    "The direct fidelity estimate for a state is given by the average expected value of the Pauli operators in the\n",
    "stabilizer group of the ideal pure state (see Eqn. 1 of [DFE1]).\n",
    "\n",
    "**Process DFE:** The average gate fidelity between the experimental process $\\mathcal E$ and the ideal (unitary) process $\\mathcal U$ is defined as\n",
    "$$\n",
    "F(\\mathcal U,\\mathcal E) = \\frac{ {\\rm Tr} [\\mathcal E \\mathcal U^\\dagger] + d} {d^2+d} \n",
    "$$\n",
    "where the processes are represented by linear superoperators acting of vectorized\n",
    "density matrices, and d is the dimension of the Hilbert space $\\mathcal E$ and $\\mathcal U$ act on. If you are unfamiliar with these terms look at [superoperator tools notebook](superoperator_tools.ipynb).\n",
    "\n",
    "The average gate fidelity can be re-written a \n",
    "$$\n",
    "F(\\mathcal U,\\mathcal E)= \\frac{d^2 {\\rm Tr} J(\\mathcal E)⋅J(\\mathcal U) + d}{d^2+d}\n",
    "$$\n",
    "where $J()$ is the Choi-Jamiolkoski representation of the superoperator in the argument. Since the Choi-Jamiolkowski representation\n",
    "is given by a density operator, the connection to the calculation of state fidelity becomes apparent:\n",
    "$F(J(ℰ),J(𝒰)) = {\\rm Tr} J(\\mathcal E)⋅J(\\mathcal U)$ is the state fidelity between Choi-Jamiolkoski states.\n",
    "\n",
    "Noting that the Choi-Jamiolkoski state is prepared by acting on half of a maximally entangled state with the\n",
    "process in question, the direct fidelity estimate of the Choi-Jamiolkoski state is given by the average expected\n",
    "value of a Pauli operator resulting from applying the ideal unitary $\\mathcal U$ to a Pauli operator $P_i$, for the state\n",
    "resulting from applying the ideal unitary to a stabilizer state that has $P_i$ in its stabilizer group (one must be\n",
    "careful to prepare states that have both +1 and -1 eigenstates of the operator in question, to emulate the random\n",
    "state preparation corresponding to measuring half of a maximally entangled state)."
   ]
  },
  {
   "cell_type": "markdown",
   "metadata": {},
   "source": [
    "[DFE1]  Practical Characterization of Quantum Devices without Tomography  \n",
    "        Silva et al.,  \n",
    "        PRL 107, 210404 (2011)  \n",
    "        https://doi.org/10.1103/PhysRevLett.107.210404  \n",
    "        https://arxiv.org/abs/1104.3835  \n",
    "\n",
    "[DFE2]  Direct Fidelity Estimation from Few Pauli Measurements  \n",
    "        Flammia et al.,  \n",
    "        PRL 106, 230501 (2011)  \n",
    "        https://doi.org/10.1103/PhysRevLett.106.230501  \n",
    "        https://arxiv.org/abs/1104.4695  "
   ]
  },
  {
   "cell_type": "code",
   "execution_count": 3,
   "metadata": {},
   "outputs": [],
   "source": [
    "from pyquil.paulis import ID\n",
    "from pyquil.gates import I, X, MEASURE, H, CZ, RY\n",
    "from pyquil import Program, get_qc\n",
    "from pyquil.api import get_benchmarker\n",
    "from forest.benchmarking.direct_fidelity_estimation import ( generate_exhaustive_state_dfe_experiment, \n",
    "                                                             generate_exhaustive_process_dfe_experiment,\n",
    "                                                             generate_monte_carlo_state_dfe_experiment, \n",
    "                                                             generate_monte_carlo_process_dfe_experiment,\n",
    "                                                             acquire_dfe_data,\n",
    "                                                             estimate_dfe )\n",
    "\n",
    "import numpy as np\n",
    "from matplotlib import pyplot"
   ]
  },
  {
   "cell_type": "code",
   "execution_count": 4,
   "metadata": {},
   "outputs": [],
   "source": [
    "# noiseless QVM\n",
    "qvm = get_qc(\"9q-generic-qvm\", as_qvm=True, noisy=False)\n",
    "\n",
    "# noisy QVM\n",
    "noisy_qvm = get_qc(\"9q-generic-qvm\", as_qvm=True, noisy=True)\n",
    "\n",
    "bm = get_benchmarker()"
   ]
  },
  {
   "cell_type": "markdown",
   "metadata": {},
   "source": [
    "## State DFE"
   ]
  },
  {
   "cell_type": "markdown",
   "metadata": {},
   "source": [
    "### State prep (thing we will do DFE on)"
   ]
  },
  {
   "cell_type": "code",
   "execution_count": 30,
   "metadata": {},
   "outputs": [
    {
     "name": "stdout",
     "output_type": "stream",
     "text": [
      "H 0\n",
      "CZ 0 1\n",
      "\n"
     ]
    }
   ],
   "source": [
    "p = Program()\n",
    "prep_prog = p.inst(H(0), CZ(0,1))\n",
    "print(prep_prog)"
   ]
  },
  {
   "cell_type": "markdown",
   "metadata": {},
   "source": [
    "### Get things required for a DFE experiment ... aka experiment object"
   ]
  },
  {
   "cell_type": "markdown",
   "metadata": {},
   "source": [
    "Namely return a namedtuple consisiting of \n",
    "- pauli_in, \n",
    "- prog, \n",
    "- pauli_out."
   ]
  },
  {
   "cell_type": "code",
   "execution_count": 31,
   "metadata": {},
   "outputs": [],
   "source": [
    "# state dfe\n",
    "state_exp = generate_exhaustive_state_dfe_experiment(prep_prog,[0,1],bm)\n",
    "\n",
    "# process dfe\n",
    "process_exp = generate_exhaustive_process_dfe_experiment(prep_prog,[0,1],bm)"
   ]
  },
  {
   "cell_type": "markdown",
   "metadata": {},
   "source": [
    "### Acquire DFE data (noiseless)"
   ]
  },
  {
   "cell_type": "markdown",
   "metadata": {},
   "source": [
    "Returns dfe data 'data' and calibration data 'cal' namedtuple separately"
   ]
  },
  {
   "cell_type": "code",
   "execution_count": 32,
   "metadata": {},
   "outputs": [
    {
     "name": "stdout",
     "output_type": "stream",
     "text": [
      "================================\n",
      "[1.0, 1.0, 1.0, 1.0, 1.0, 1.0, 1.0, 1.0, 1.0, 1.0, 1.0, 1.0, 1.0, 1.0, 1.0, 1.0, 1.0, 1.0, 1.0, 1.0, 1.0, 1.0, 1.0, 1.0, 1.0, 1.0, 1.0, 1.0, 1.0, 1.0, 1.0, 1.0, 1.0, 1.0, 1.0, 1.0, 1.0, 1.0, 1.0, 1.0, 1.0, 1.0, 1.0, 1.0, 1.0, 1.0, 1.0, 1.0]\n",
      "================================\n",
      "[1.0, 1.0, 1.0, 1.0, 1.0, 1.0, 1.0, 1.0, 1.0, 1.0, 1.0, 1.0, 1.0, 1.0, 1.0, 1.0, 1.0, 1.0, 1.0, 1.0, 1.0, 1.0, 1.0, 1.0, 1.0, 1.0, 1.0, 1.0, 1.0, 1.0, 1.0, 1.0, 1.0, 1.0, 1.0, 1.0, 1.0, 1.0, 1.0, 1.0, 1.0, 1.0, 1.0, 1.0, 1.0, 1.0, 1.0, 1.0]\n"
     ]
    }
   ],
   "source": [
    "results = acquire_dfe_data(qvm, process_exp, num_shots=1000)\n",
    "print(\"================================\")\n",
    "print([res.expectation for res in results])\n",
    "print(\"================================\")\n",
    "print([res.calibration_expectation for res in results])"
   ]
  },
  {
   "cell_type": "markdown",
   "metadata": {},
   "source": [
    "### Acquire DFE data (noisy QVM)"
   ]
  },
  {
   "cell_type": "code",
   "execution_count": 33,
   "metadata": {},
   "outputs": [
    {
     "name": "stdout",
     "output_type": "stream",
     "text": [
      "================================\n",
      "[1.0057251908396947, 0.9516539440203562, 0.9703095388502843, 1.005685407454201, 1.0213963963963963, 0.9774774774774775, 0.9755011135857461, 1.0023068050749713, 0.9850057670126874, 0.986409966024915, 0.9920724801812004, 0.9872935196950444, 0.9695044472681067, 0.9443207126948775, 1.011534025374856, 1.0023068050749713, 0.986409966024915, 0.971687429218573, 0.9777636594663277, 0.9536213468869122, 0.9767587939698491, 0.9547738693467336, 0.961683417085427, 1.0091205211726384, 1.0104234527687297, 0.9784824462061155, 0.9988674971687429, 0.9767587939698491, 0.9453517587939697, 0.9585427135678392, 0.9732899022801303, 0.993485342019544, 0.9682899207248018, 0.9898074745186863, 0.9890885750962772, 0.9811688311688311, 0.9766233766233766, 0.9755312298776562, 0.9594333547971668, 0.9886877828054299, 0.995475113122172, 1.006418485237484, 0.9811688311688311, 0.9753246753246753, 0.9748873148744366, 0.9819703799098519, 0.9864253393665158, 0.9705882352941176]\n",
      "================================\n",
      "[0.786, 0.786, 0.7915, 0.7915, 0.888, 0.888, 0.898, 0.867, 0.867, 0.883, 0.883, 0.787, 0.787, 0.898, 0.867, 0.867, 0.883, 0.883, 0.787, 0.787, 0.796, 0.796, 0.796, 0.7675, 0.7675, 0.883, 0.883, 0.796, 0.796, 0.796, 0.7675, 0.7675, 0.883, 0.883, 0.779, 0.77, 0.77, 0.7765, 0.7765, 0.884, 0.884, 0.779, 0.77, 0.77, 0.7765, 0.7765, 0.884, 0.884]\n"
     ]
    }
   ],
   "source": [
    "n_results = acquire_dfe_data(noisy_qvm, process_exp, num_shots=1000)\n",
    "print(\"================================\")\n",
    "print([res.expectation for res in n_results])\n",
    "print(\"================================\")\n",
    "print([res.calibration_expectation for res in n_results])"
   ]
  },
  {
   "cell_type": "markdown",
   "metadata": {},
   "source": [
    "### Estimate fidelity (noiseless QVM)"
   ]
  },
  {
   "cell_type": "code",
   "execution_count": 34,
   "metadata": {},
   "outputs": [
    {
     "name": "stdout",
     "output_type": "stream",
     "text": [
      "==================================================\n",
      "Fidelity point estimate is 1.0\n",
      "The standard error of the fidelity point estimate is 0.0\n",
      "==================================================\n"
     ]
    }
   ],
   "source": [
    "fid_est, fid_std_err = estimate_dfe(results,'process')\n",
    "print(\"==================================================\")\n",
    "print('Fidelity point estimate is',fid_est)\n",
    "print('The standard error of the fidelity point estimate is', fid_std_err)\n",
    "print(\"==================================================\")"
   ]
  },
  {
   "cell_type": "markdown",
   "metadata": {},
   "source": [
    "### Estimate fidelity (noisy QVM)"
   ]
  },
  {
   "cell_type": "code",
   "execution_count": 35,
   "metadata": {},
   "outputs": [
    {
     "name": "stdout",
     "output_type": "stream",
     "text": [
      "==================================================\n",
      "Fidelity point estimate is 0.9861939597950375\n",
      "The std error of the fidelity point estimate is 0.0019095604013575757\n",
      "==================================================\n"
     ]
    }
   ],
   "source": [
    "nfid_est, nfid_std_err = estimate_dfe(n_results,'process')\n",
    "print(\"==================================================\")\n",
    "print('Fidelity point estimate is', nfid_est)\n",
    "print('The std error of the fidelity point estimate is', nfid_std_err)\n",
    "print(\"==================================================\")"
   ]
  },
  {
   "cell_type": "markdown",
   "metadata": {},
   "source": [
    "## State fidelity between $\\left|0\\right\\rangle$ and $R_y(\\theta)\\left|0\\right\\rangle$"
   ]
  },
  {
   "cell_type": "code",
   "execution_count": 15,
   "metadata": {},
   "outputs": [
    {
     "name": "stdout",
     "output_type": "stream",
     "text": [
      "I 0; I 1\n",
      "0: Z0_1→(1+0j)*Z1\n",
      "1: Z0_0→(1+0j)*Z0\n",
      "2: Z0_0 * Z0_1→(1+0j)*Z0Z1\n",
      "I 0; I 1\n",
      "0: Z0_0 * Z0_1→(1+0j)*Z0Z1\n",
      "1: Z0_1→(1+0j)*Z1\n",
      "2: Z0_1→(1+0j)*Z1\n",
      "3: Z0_0 * Z0_1→(1+0j)*Z0Z1\n",
      "4: Z0_0→(1+0j)*Z0\n",
      "5: Z0_0 * Z0_1→(1+0j)*Z0Z1\n",
      "6: Z0_0→(1+0j)*Z0\n",
      "7: Z0_1→(1+0j)*Z1\n",
      "8: Z0_1→(1+0j)*Z1\n",
      "9: Z0_1→(1+0j)*Z1\n",
      "... 12 not shown ...\n",
      "... use e.settings_string() for all ...\n",
      "22: Z0_0 * Z0_1→(1+0j)*Z0Z1\n",
      "23: Z0_0→(1+0j)*Z0\n",
      "24: Z0_1→(1+0j)*Z1\n",
      "25: Z0_1→(1+0j)*Z1\n",
      "26: Z0_0 * Z0_1→(1+0j)*Z0Z1\n",
      "27: Z0_1→(1+0j)*Z1\n",
      "28: Z0_0 * Z0_1→(1+0j)*Z0Z1\n",
      "29: Z0_0→(1+0j)*Z0\n",
      "30: Z0_1→(1+0j)*Z1\n",
      "31: Z0_1→(1+0j)*Z1\n"
     ]
    }
   ],
   "source": [
    "#%%time\n",
    "p = Program(I(0),I(1))\n",
    "zz_state = generate_exhaustive_state_dfe_experiment(p, [0,1], bm)\n",
    "zz_state_mc = generate_monte_carlo_state_dfe_experiment(p, [0,1], bm, n_terms=32)\n",
    "print(zz_state)\n",
    "print(zz_state_mc)"
   ]
  },
  {
   "cell_type": "markdown",
   "metadata": {},
   "source": [
    "### Exhaustive"
   ]
  },
  {
   "cell_type": "code",
   "execution_count": 16,
   "metadata": {},
   "outputs": [],
   "source": [
    "points = 10\n",
    "res = []\n",
    "res_std_err = []\n",
    "for theta in np.linspace(0, np.pi, points): \n",
    "    zz_state.program = Program(RY(theta,0),RY(theta,1))\n",
    "    zz_state_data = acquire_dfe_data(qvm,zz_state,num_shots=1000)\n",
    "    fid_est, fid_std_err = estimate_dfe(zz_state_data, 'state')\n",
    "    res.append(fid_est)\n",
    "    res_std_err.append(fid_std_err)"
   ]
  },
  {
   "cell_type": "code",
   "execution_count": 17,
   "metadata": {},
   "outputs": [
    {
     "data": {
      "text/plain": [
       "Text(0.5, 1.0, 'State fidelity between $\\\\left|0\\\\right\\\\rangle$ and $R_y(\\\\theta)\\\\left|0\\\\right\\\\rangle$')"
      ]
     },
     "execution_count": 17,
     "metadata": {},
     "output_type": "execute_result"
    },
    {
     "data": {
      "image/png": "[encoded data removed]",
      "text/plain": [
       "<Figure size 432x288 with 1 Axes>"
      ]
     },
     "metadata": {
      "needs_background": "light"
     },
     "output_type": "display_data"
    }
   ],
   "source": [
    "pyplot.errorbar(np.linspace(0, np.pi, points), res, res_std_err, fmt=\".\", label=\"Simulation\")\n",
    "pyplot.plot(np.linspace(0, np.pi, points), (1/2+1/2*np.cos(np.linspace(0, np.pi, points)))**2, label=\"Theory\")\n",
    "pyplot.xlabel(r\"$\\theta$\")\n",
    "pyplot.ylabel(\"Fidelity\")\n",
    "pyplot.legend()\n",
    "pyplot.title(r\"State fidelity between $\\left|0\\right\\rangle$ and $R_y(\\theta)\\left|0\\right\\rangle$\")"
   ]
  },
  {
   "cell_type": "markdown",
   "metadata": {},
   "source": [
    "### Monte-Carlo"
   ]
  },
  {
   "cell_type": "code",
   "execution_count": 18,
   "metadata": {},
   "outputs": [],
   "source": [
    "points = 10\n",
    "res = []\n",
    "res_std_err = []\n",
    "for theta in np.linspace(0, np.pi, points): \n",
    "    zz_state_mc.program = Program(RY(theta,0),RY(theta,1))\n",
    "    zz_state_mc_data = acquire_dfe_data(qvm, zz_state_mc, num_shots=1000)\n",
    "    fid_est, fid_std_err = estimate_dfe(zz_state_mc_data, 'state')\n",
    "    res.append(fid_est)\n",
    "    res_std_err.append(fid_std_err)"
   ]
  },
  {
   "cell_type": "code",
   "execution_count": 19,
   "metadata": {},
   "outputs": [
    {
     "data": {
      "text/plain": [
       "Text(0.5, 1.0, 'State fidelity between $\\\\left|0\\\\right\\\\rangle$ and $R_y(\\\\theta)\\\\left|0\\\\right\\\\rangle$')"
      ]
     },
     "execution_count": 19,
     "metadata": {},
     "output_type": "execute_result"
    },
    {
     "data": {
      "image/png": "[encoded data removed]",
      "text/plain": [
       "<Figure size 432x288 with 1 Axes>"
      ]
     },
     "metadata": {
      "needs_background": "light"
     },
     "output_type": "display_data"
    }
   ],
   "source": [
    "pyplot.errorbar(np.linspace(0, np.pi, points), res, res_std_err, fmt=\".\", label=\"Simulation\")\n",
    "pyplot.plot(np.linspace(0, np.pi, points), (1/2+1/2*np.cos(np.linspace(0, np.pi, points)))**2, label=\"Theory\")\n",
    "pyplot.xlabel(r\"$\\theta$\")\n",
    "pyplot.ylabel(\"Fidelity\")\n",
    "pyplot.legend()\n",
    "pyplot.title(r\"State fidelity between $\\left|0\\right\\rangle$ and $R_y(\\theta)\\left|0\\right\\rangle$\")"
   ]
  },
  {
   "cell_type": "markdown",
   "metadata": {},
   "source": [
    "## State fidelity between $\\left|0\\right\\rangle\\left|0\\right\\rangle$ and $R_y(\\theta)\\otimes R_y(2\\theta)\\left|0\\right\\rangle\\left|0\\right\\rangle$"
   ]
  },
  {
   "cell_type": "markdown",
   "metadata": {},
   "source": [
    "### Exhaustive"
   ]
  },
  {
   "cell_type": "code",
   "execution_count": 20,
   "metadata": {},
   "outputs": [],
   "source": [
    "points = 10\n",
    "res = []\n",
    "res_std_err = []\n",
    "for theta in np.linspace(0, np.pi, points): \n",
    "    zz_state.program = Program(RY(theta,0),RY(2*theta,1))\n",
    "    zz_state_data = acquire_dfe_data(qvm,zz_state,num_shots=1_000)\n",
    "    fid_est, fid_std_err = estimate_dfe(zz_state_data, 'state')\n",
    "    res.append(fid_est)\n",
    "    res_std_err.append(fid_std_err)"
   ]
  },
  {
   "cell_type": "code",
   "execution_count": 21,
   "metadata": {},
   "outputs": [
    {
     "data": {
      "image/png": "[encoded data removed]",
      "text/plain": [
       "<Figure size 432x288 with 1 Axes>"
      ]
     },
     "metadata": {
      "needs_background": "light"
     },
     "output_type": "display_data"
    }
   ],
   "source": [
    "pyplot.errorbar(np.linspace(0, np.pi, points), res, res_std_err, fmt=\".\", label=\"simulation\")\n",
    "pyplot.plot(np.linspace(0, np.pi, points), \n",
    "            (1/2+1/2*np.cos(np.linspace(0, np.pi, points)))*(1/2+1/2*np.cos(2*np.linspace(0, np.pi, points))),\n",
    "            label=\"theory\")\n",
    "pyplot.xlabel(r\"$\\theta$\")\n",
    "pyplot.ylabel(\"Fidelity\")\n",
    "pyplot.legend()\n",
    "pyplot.title(r\"State fidelity between $\\left|0\\right\\rangle\\left|0\\right\\rangle$ and $R_y(\\theta)\\otimes R_y(2\\theta)\\left|0\\right\\rangle\\left|0\\right\\rangle$\");"
   ]
  },
  {
   "cell_type": "markdown",
   "metadata": {},
   "source": [
    "### Monte Carlo"
   ]
  },
  {
   "cell_type": "code",
   "execution_count": 22,
   "metadata": {},
   "outputs": [],
   "source": [
    "points = 10\n",
    "res = []\n",
    "res_std_err = []\n",
    "for theta in np.linspace(0, np.pi, points): \n",
    "    zz_state_mc.program = Program(RY(theta,0),RY(2*theta,1))\n",
    "    zz_state_mc_data = acquire_dfe_data(qvm,zz_state_mc,num_shots=1_000)\n",
    "    fid_est, fid_std_err = estimate_dfe(zz_state_mc_data, 'state')\n",
    "    res.append(fid_est)\n",
    "    res_std_err.append(fid_std_err)"
   ]
  },
  {
   "cell_type": "code",
   "execution_count": 23,
   "metadata": {},
   "outputs": [
    {
     "data": {
      "text/plain": [
       "Text(0.5, 1.0, 'State fidelity between $\\\\left|0\\\\right\\\\rangle\\\\left|0\\\\right\\\\rangle$ and $R_y(\\\\theta)\\\\otimes R_y(2\\\\theta)\\\\left|0\\\\right\\\\rangle\\\\left|0\\\\right\\\\rangle$')"
      ]
     },
     "execution_count": 23,
     "metadata": {},
     "output_type": "execute_result"
    },
    {
     "data": {
      "image/png": "[encoded data removed]",
      "text/plain": [
       "<Figure size 432x288 with 1 Axes>"
      ]
     },
     "metadata": {
      "needs_background": "light"
     },
     "output_type": "display_data"
    }
   ],
   "source": [
    "pyplot.errorbar(np.linspace(0, np.pi, points), res, res_std_err, fmt=\".\", label=\"simulation\")\n",
    "pyplot.plot(np.linspace(0, np.pi, points), \n",
    "            (1/2+1/2*np.cos(np.linspace(0, np.pi, points)))*(1/2+1/2*np.cos(2*np.linspace(0, np.pi, points))),\n",
    "            label=\"theory\")\n",
    "pyplot.xlabel(r\"$\\theta$\")\n",
    "pyplot.ylabel(\"Fidelity\")\n",
    "pyplot.legend()\n",
    "pyplot.title(r\"State fidelity between $\\left|0\\right\\rangle\\left|0\\right\\rangle$ and $R_y(\\theta)\\otimes R_y(2\\theta)\\left|0\\right\\rangle\\left|0\\right\\rangle$\")"
   ]
  },
  {
   "cell_type": "markdown",
   "metadata": {},
   "source": [
    "## Process fidelity between $I$ and $R_y(\\theta)$"
   ]
  },
  {
   "cell_type": "code",
   "execution_count": 26,
   "metadata": {},
   "outputs": [],
   "source": [
    "\n",
    "p = Program(I(0))\n",
    "qubits = [0]\n",
    "ii_proc = generate_exhaustive_process_dfe_experiment(p, qubits, bm)\n",
    "ii_proc_mc = generate_monte_carlo_process_dfe_experiment(p, qubits, bm, n_terms=32)"
   ]
  },
  {
   "cell_type": "markdown",
   "metadata": {},
   "source": [
    "### Exhaustive"
   ]
  },
  {
   "cell_type": "code",
   "execution_count": 27,
   "metadata": {},
   "outputs": [],
   "source": [
    "points = 10\n",
    "res = []\n",
    "res_std_err = []\n",
    "for theta in np.linspace(0, np.pi, points): \n",
    "    ii_proc.program = Program(RY(theta,0))\n",
    "    ii_proc_data = acquire_dfe_data(qvm,ii_proc,num_shots=500)\n",
    "    fid_est, fid_std_err = estimate_dfe(ii_proc_data, 'process')\n",
    "    res.append(fid_est)\n",
    "    res_std_err.append(fid_std_err)"
   ]
  },
  {
   "cell_type": "code",
   "execution_count": 28,
   "metadata": {},
   "outputs": [
    {
     "data": {
      "text/plain": [
       "Text(0.5, 1.0, 'Process fidelity between $I$ and $R_y(\\\\theta)$')"
      ]
     },
     "execution_count": 28,
     "metadata": {},
     "output_type": "execute_result"
    },
    {
     "data": {
      "image/png": "[encoded data removed]",
      "text/plain": [
       "<Figure size 432x288 with 1 Axes>"
      ]
     },
     "metadata": {
      "needs_background": "light"
     },
     "output_type": "display_data"
    }
   ],
   "source": [
    "pyplot.errorbar(np.linspace(0, np.pi, points), res, res_std_err, fmt=\".\", label=\"data\")\n",
    "pyplot.plot(np.linspace(0, np.pi, points), \n",
    "            (4*np.cos(np.linspace(0, np.pi, points)/2)**2+2)/6,\n",
    "            label=\"theory\")\n",
    "#pyplot.axhline(0.2380952380952381+0.1, color=\"red\", ls=\"--\")\n",
    "pyplot.legend()\n",
    "pyplot.ylim(0,1.25)\n",
    "pyplot.title(r\"Process fidelity between $I$ and $R_y(\\theta)$\")"
   ]
  },
  {
   "cell_type": "markdown",
   "metadata": {},
   "source": [
    "### Monte Carlo"
   ]
  },
  {
   "cell_type": "code",
   "execution_count": 29,
   "metadata": {},
   "outputs": [],
   "source": [
    "points = 10\n",
    "res = []\n",
    "res_std_err = []\n",
    "for theta in np.linspace(0, np.pi, points): \n",
    "    ii_proc_mc.program = Program(RY(theta,0))\n",
    "    ii_proc_mc_data = acquire_dfe_data(qvm, ii_proc_mc, num_shots=500)\n",
    "    fid_est, fid_std_err = estimate_dfe(ii_proc_mc_data, 'process')\n",
    "    res.append(fid_est)\n",
    "    res_std_err.append(fid_std_err)"
   ]
  },
  {
   "cell_type": "code",
   "execution_count": null,
   "metadata": {},
   "outputs": [],
   "source": [
    "pyplot.errorbar(np.linspace(0, np.pi, points), res, res_std_err, fmt=\".\", label=\"data\")\n",
    "pyplot.plot(np.linspace(0, np.pi, points), \n",
    "            (4*np.cos(np.linspace(0, np.pi, points)/2)**2+2)/6,\n",
    "            label=\"theory\")\n",
    "pyplot.legend()\n",
    "pyplot.ylim(0,1.25)\n",
    "pyplot.title(r\"Process fidelity between $I$ and $R_y(\\theta)$\")"
   ]
  },
  {
   "cell_type": "markdown",
   "metadata": {},
   "source": [
    "## Advanced "
   ]
  },
  {
   "cell_type": "code",
   "execution_count": 36,
   "metadata": {},
   "outputs": [],
   "source": [
    "# 1. include qubits that have nothing done to them (leave then in zero to measure x talk)\n",
    "# 2. prepare those qubits in |+>"
   ]
  },
  {
   "cell_type": "code",
   "execution_count": null,
   "metadata": {},
   "outputs": [],
   "source": [
    "# Parallel state and process DFE"
   ]
  }
 ],
 "metadata": {
  "kernelspec": {
   "display_name": "Python 3",
   "language": "python",
   "name": "python3"
  },
  "language_info": {
   "codemirror_mode": {
    "name": "ipython",
    "version": 3
   },
   "file_extension": ".py",
   "mimetype": "text/x-python",
   "name": "python",
   "nbconvert_exporter": "python",
   "pygments_lexer": "ipython3",
   "version": "3.7.3"
  }
 },
 "nbformat": 4,
 "nbformat_minor": 2
}
